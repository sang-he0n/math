{
 "cells": [
  {
   "cell_type": "markdown",
   "id": "37c54205",
   "metadata": {},
   "source": [
    "# **CH01.4. Kalman Filter**"
   ]
  },
  {
   "cell_type": "markdown",
   "id": "aa71321d",
   "metadata": {},
   "source": []
  }
 ],
 "metadata": {
  "language_info": {
   "name": "python"
  }
 },
 "nbformat": 4,
 "nbformat_minor": 5
}
