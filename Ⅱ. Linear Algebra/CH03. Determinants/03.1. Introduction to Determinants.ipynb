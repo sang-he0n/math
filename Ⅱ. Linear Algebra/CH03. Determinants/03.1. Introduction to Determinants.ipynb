{
 "cells": [
  {
   "attachments": {},
   "cell_type": "markdown",
   "metadata": {},
   "source": [
    "# CH03.1. **Introduction to Determinants**"
   ]
  },
  {
   "cell_type": "markdown",
   "metadata": {},
   "source": [
    "> ## **행렬식(Determinants)**"
   ]
  },
  {
   "cell_type": "markdown",
   "metadata": {},
   "source": [
    "#### **(1) 정의** : $ \\mathbb{R}^{2\\times{}2} \\, $ 공간 이상의 정방 행렬 $ A $가 가역 행렬(invertible matrix)인지 판별하는 값\n",
    "#### $ \\Rightarrow{} \\det{}(\\underset{n\\times{}n}{A}) = a_{1,1} \\det{}(A_{1,1}) - a_{1,2} \\det{}(A_{1,2}) + \\cdots{} + (-1)^{(1+n)} a_{1,n} \\det{}(A_{1,n}) $\n",
    "#### $ \\hspace{1.935cm} = a_{2,1} \\det{}(A_{2,1}) - a_{2,2} \\det{}(A_{2,2}) + \\cdots{} + (-1)^{(1+n)} a_{2,n} \\det{}(A_{2,n}) $\n",
    "#### $ \\hspace{1.935cm} = \\cdots{} $\n",
    "#### $ \\hspace{1.935cm} = a_{n,1} \\det{}(A_{n,1}) - a_{n,2} \\det{}(A_{n,2}) + \\cdots{} + (-1)^{(1+n)} a_{n,n} \\det{}(A_{n,n}) $\n",
    "#### $ \\hspace{1.935cm} = \\sum^{n}_{k=1} (-1)^{(i+k)} a_{i,k} \\det{}(A_{i,k}) $\n",
    "#### $ \\hspace{1.935cm} = a_{1,1} \\det{}(A_{1,1}) - a_{2,1} \\det{}(A_{2,1}) + \\cdots{} + (-1)^{(n+1)} a_{n,1} \\det{}(A_{n,1}) $\n",
    "#### $ \\hspace{1.935cm} = \\cdots{} $\n",
    "#### $ \\hspace{1.935cm} = \\sum^{n}_{i=1} (-1)^{(i+k)} a_{i,k} \\det{}(A_{i,k}) $\n",
    "#### $ \\hspace{0.45cm} \\text{where } \\det{}(A_{i,k}) \\, $ : $ i $행, $ k $열을 제외한 부분행렬(submatrix)의 행렬식 $ = $ 소행렬식"
   ]
  },
  {
   "cell_type": "markdown",
   "metadata": {},
   "source": [
    "##### **(`PLUS`)** 행렬식은 임의의 행과 열에 대하여 전개할 수 있음 (Theorem 3-1)"
   ]
  },
  {
   "cell_type": "markdown",
   "metadata": {},
   "source": [
    "#### **(2) 판별 방식** : 어떠한 정방 행렬의 행렬식이 $ 0 $이 아니면 가역적임\n",
    "#### $ \\Rightarrow{} A \\, \\text{ is invertible}. \\;\\; \\text{ s.t. } \\; \\det{}(A) \\neq{} 0  $"
   ]
  },
  {
   "cell_type": "markdown",
   "metadata": {},
   "source": [
    "#### **(3) 성질** (Theorem 3-4, 5, 6) : 어떠한 정방 행렬 $ A, B $와 스칼라 $ r $이 존재할 때 아래가 만족함\n",
    "##### $ \\hspace{0.15cm} $ ① $ \\det{}(rA) = r^{n} \\det{}(A) $\n",
    "##### $ \\hspace{0.15cm} $ ② $ \\det{}(A^{T}) = \\det{}(A) $\n",
    "##### $ \\hspace{0.15cm} $ ③ $ \\det{}(A^{-1}) = \\frac{1}{\\det{}(A)} $\n",
    "##### $ \\hspace{0.15cm} $ ④ $ \\det{}(AB) = \\det{}(A) \\det{}(B) $ \n",
    "##### $ \\hspace{0.15cm} $ ⑤ $ \\det{}(A + B) \\neq{} \\det{}(A)+ \\det{}(B) $"
   ]
  },
  {
   "cell_type": "markdown",
   "metadata": {},
   "source": [
    "#### **(3) 예시** :\n",
    "##### $ \\hspace{0.15cm} $ ① 아래 정방 행렬 $ A $의 행렬식을 구하면\n",
    "##### $ \\hspace{0.45cm} A = \\begin{bmatrix} 1 & 5 & 0 \\\\ 2 & 4 & -1 \\\\ 0 & -2 & 0 \\end{bmatrix} $\n",
    "##### $ \\hspace{0.45cm} \\therefore{} \\det{}(A) = a_{11} \\det{}(A_{11}) - a_{12} \\det{}(A_{12}) + a_{13} \\det{}(A_{13}) $ \n",
    "##### $ \\hspace{2.025cm} = 1 \\det{}(\\begin{bmatrix} 4 & -1 \\\\ -2 & 0 \\end{bmatrix}) - 5 \\det{}(\\begin{bmatrix} 2 & -1 \\\\ 0 & 0 \\end{bmatrix}) + 0 \\det{}(\\begin{bmatrix} 2 & 4 \\\\ 0 & -2 \\end{bmatrix}) $  \n",
    "##### $ \\hspace{2.025cm} = 1 \\times{} (0-2) - 5 \\times{} (0-0) + 0 \\times{} (-4-0) = -2 $\n",
    "##### $ \\hspace{0.15cm} $ ② 아래 정방 행렬 $ A $의 행렬식을 구하면\n",
    "##### $ \\hspace{0.45cm} A = \\begin{bmatrix} a & b \\\\ c & d \\end{bmatrix} $\n",
    "##### $ \\hspace{0.45cm} \\therefore{} \\det{}(A) = ad - bc $"
   ]
  },
  {
   "cell_type": "markdown",
   "metadata": {},
   "source": [
    "<b></b>"
   ]
  },
  {
   "cell_type": "markdown",
   "metadata": {},
   "source": [
    "> ## **여인수(Cofactors)**"
   ]
  },
  {
   "cell_type": "markdown",
   "metadata": {},
   "source": [
    "#### **(1) 정의** : $ \\mathbb{R}^{2\\times{}2} \\, $ 공간 이상의 정방 행렬 $ A $에서 소행렬식에 부호를 곱한 값\n",
    "#### $ \\Rightarrow{} C_{i,k} = (-1)^{(i+k)} \\det{}(A_{i,k}) $"
   ]
  },
  {
   "cell_type": "markdown",
   "metadata": {},
   "source": [
    "#### **(2) 여인수를 이용한 행렬식 전개(Cofactor Expansion)** :\n",
    "#### $ \\Rightarrow{} \\det{}(A) = a_{1,1}C_{1,1} + a_{1,2}C_{1,2} + \\cdots{} + a_{1,n}C_{1,n} = \\sum^{n}_{k=1} a_{1,k}C_{1,k} $ "
   ]
  },
  {
   "cell_type": "markdown",
   "metadata": {},
   "source": [
    "##### **(`PLUS`) 여인수의 행열 인덱스에 따른 부호** : \n",
    "##### $ \\begin{bmatrix} + & - & + & \\cdots{} \\\\ - & + & - & \\cdots{} \\\\ + & - & + & \\cdots{} \\\\ \\vdots{} & \\vdots{} & \\vdots{} & \\ddots{} \\end{bmatrix} $"
   ]
  },
  {
   "cell_type": "markdown",
   "metadata": {},
   "source": [
    "##### **(`PLUS`) 시간 복잡도** : 여인수 전개에 따른 정방 행렬 $ \\underset{n\\times{}n}{A} $의 행렬식 계산의 시간복잡도는 $ O(n!) $임"
   ]
  },
  {
   "cell_type": "markdown",
   "metadata": {},
   "source": [
    "<b></b>"
   ]
  },
  {
   "cell_type": "markdown",
   "metadata": {},
   "source": [
    "> ## (Thorem 3-2) **Determinant of triangular matrix**"
   ]
  },
  {
   "cell_type": "markdown",
   "metadata": {},
   "source": [
    "#### 삼각 행렬(triangular matrix)의 행렬식은 대각 성분을 곱한 것과 같다.\n",
    "#### $ \\Rightarrow{} \\det{}(A) = a_{1,1} \\times{} a_{2,2} \\times{} \\cdots{} \\times{} a_{n,n} = \\prod^{n}_{i=1} a_{i,i} \\;\\; \\text{ where } \\; A \\, \\text{ is triangular matrix} $"
   ]
  },
  {
   "cell_type": "markdown",
   "metadata": {},
   "source": [
    "<b></b>"
   ]
  },
  {
   "cell_type": "markdown",
   "metadata": {},
   "source": [
    "> ## (Thorem 3-3) **Effect of Elementray Row Operations**"
   ]
  },
  {
   "cell_type": "markdown",
   "metadata": {},
   "source": [
    "#### 정방 행렬 $ A $가 존재하고 $ E $는 기본 행렬(elemntary matrix)일 때 아래의 식이 성립한다."
   ]
  },
  {
   "cell_type": "markdown",
   "metadata": {},
   "source": [
    "#### **(1)** $ \\det{}(E_{\\text{interchange}}) \\det{}(A) = - \\det{}(A) $"
   ]
  },
  {
   "cell_type": "markdown",
   "metadata": {},
   "source": [
    "#### **(2)** $ \\det{}(E_{\\text{replacement}}) \\det{}(A) = \\det{}(A) $"
   ]
  },
  {
   "cell_type": "markdown",
   "metadata": {},
   "source": [
    "#### **(3)** $ \\det{}(E_{\\text{scaling};k}) \\det{}(A) = k \\det{}(A) $"
   ]
  },
  {
   "cell_type": "markdown",
   "metadata": {},
   "source": [
    "##### **(`PLUS`)** 이를 이용하여 행렬 $ A $에서 행 연산을 이용해 행 사다리꼴 형태(REF)으로 만들어 쉽게 행렬식을 구할 수 있음"
   ]
  }
 ],
 "metadata": {
  "kernelspec": {
   "display_name": "Python 3",
   "language": "python",
   "name": "python3"
  },
  "language_info": {
   "codemirror_mode": {
    "name": "ipython",
    "version": 3
   },
   "file_extension": ".py",
   "mimetype": "text/x-python",
   "name": "python",
   "nbconvert_exporter": "python",
   "pygments_lexer": "ipython3",
   "version": "3.11.3"
  },
  "orig_nbformat": 4
 },
 "nbformat": 4,
 "nbformat_minor": 2
}
