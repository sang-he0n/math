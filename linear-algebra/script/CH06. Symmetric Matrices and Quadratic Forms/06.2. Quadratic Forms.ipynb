{
 "cells": [
  {
   "attachments": {},
   "cell_type": "markdown",
   "metadata": {},
   "source": [
    "# CH06.2. **Quadratic Forms**"
   ]
  },
  {
   "cell_type": "markdown",
   "metadata": {},
   "source": [
    "> ## **이차 형식(Quadratic Forms)**"
   ]
  },
  {
   "cell_type": "markdown",
   "metadata": {},
   "source": [
    "#### **(1) 정의** : 모든 항의 최대 차수가 $ 2 $차인 다항식\n",
    "#### $ \\Rightarrow{} Q(\\textbf{x}) = \\textbf{x}^{T}A\\textbf{x} \\;\\; \\text{ where } \\; A = A^{T} $"
   ]
  },
  {
   "cell_type": "markdown",
   "metadata": {},
   "source": [
    "##### **(`PLUS`)** 행렬 $ A $를 이차 형식 행렬(matrix of quadratic form)이라고 정의함"
   ]
  },
  {
   "cell_type": "markdown",
   "metadata": {},
   "source": [
    "#### **(2) 예시** :\n",
    "##### $ \\hspace{0.15cm} $ ① $ \\textbf{x} \\begin{bmatrix} 4 & 0 & 0 \\\\ 0 & 2 & 0 \\\\ 0 & 0 & 5 \\end{bmatrix} \\textbf{x}^{T} = \\begin{bmatrix} x_{1} \\\\ x_{2} \\\\ x_{3} \\end{bmatrix} \\begin{bmatrix} 4 & 0 & 0 \\\\ 0 & 2 & 0 \\\\ 0 & 0 & 5 \\end{bmatrix} \\begin{bmatrix} x_{1} & x_{2} & x_{3} \\end{bmatrix} = 4x_{1}^{2} + 2 x_{2}^{2} - 5 x_{3}^{2} $\n",
    "##### $ \\hspace{0.15cm} $ ② $ \\textbf{x} \\begin{bmatrix} 1 & -1 \\\\ -1 & 6 \\end{bmatrix} \\textbf{x}^{T} = x_{1}^{2} + 6 x_{2}^{2} - 2 x_{1}x_{2} $\n",
    "##### $ \\hspace{0.15cm} $ ③ $ \\textbf{x} \\begin{bmatrix} 5 & -\\frac{1}{2} & 0 \\\\ -\\frac{1}{2} & 3 & 4 \\\\ 0 & 4 & 2 \\end{bmatrix} \\textbf{x}^{T} = 5 x_{1}^{2} + 3 x_{2}^{2} + 2 x_{3} - x_{1}x_{2} + 8 x_{2} x_{3} $"
   ]
  },
  {
   "cell_type": "markdown",
   "metadata": {},
   "source": [
    "##### **(`PLUS`)** 이차 형식은 선형 시스템이 아님"
   ]
  },
  {
   "cell_type": "markdown",
   "metadata": {},
   "source": [
    "<b></b>"
   ]
  },
  {
   "cell_type": "markdown",
   "metadata": {},
   "source": [
    "> ## **이차 형식 변수의 치환(Change of Variable in a Quadratic Form)**"
   ]
  },
  {
   "cell_type": "markdown",
   "metadata": {},
   "source": [
    "#### **(1) 정의** : 이차 형식 행렬 $ A $를 직교 대각화를 통해 좌표 변환하는 연산\n",
    "#### $ = $ 교차항(cross term)을 없애 각 변수별 독립적인 제곱항만을 유지하는 연산\n",
    "#### $ \\Rightarrow{} Q(\\textbf{x}) = \\textbf{x}^{T}A\\textbf{x} = \\textbf{y}^{T} \\Lambda{} \\textbf{y} $\n",
    "#### $ \\hspace{0.45cm} \\text{where } \\; \\textbf{x} = U\\textbf{y} \\; \\text{ and } \\; A = A^{T} = U\\Lambda{}U^{T} $\n",
    "#### $ \\hspace{0.45cm} \\text{and } \\; \\lambda{}_{i} \\, \\text{ is eigen value of } A, \\;\\;  \\textbf{u}_{i} \\, \\text{ is orthonormal eigen vector of } \\, A $\n",
    "#### $ \\hspace{0.45cm} \\text{and } \\; U = \\begin{bmatrix} \\textbf{u}_{1} & \\textbf{u}_{2} & \\cdots{} & \\textbf{u}_{n} \\end{bmatrix} \\text{ and } \\; \\Lambda{} = \\begin{bmatrix} \\lambda{}_{1} & 0 & \\cdots{} & 0 \\\\ 0 & \\lambda{}_{2} & \\cdots{} & 0 \\\\ \\vdots{} & \\vdots{} & \\ddots{} & \\vdots{} \\\\ 0 & 0 & \\cdots{} & \\lambda{}_{n} \\end{bmatrix} $"
   ]
  },
  {
   "cell_type": "markdown",
   "metadata": {},
   "source": [
    "#### **(2) 기하학적 해석** : \n",
    "<img src=\"../../img/06.2. Quadratic Forms (1).png\" width=\"40%\" height=\"40%\"/></img>"
   ]
  },
  {
   "cell_type": "markdown",
   "metadata": {},
   "source": [
    "#### **(3) 예시** :\n",
    "##### $ \\hspace{0.15cm} $ ① 아래의 이차 형식에서 교차항을 없애고자 치환하면\n",
    "##### $ \\hspace{0.45cm} Q(\\textbf{x}) = \\textbf{x}^{T} \\begin{bmatrix} 1 & -4 \\\\ -4 & -5 \\end{bmatrix} \\textbf{x} = \\textbf{x}^{T} A \\textbf{x} = x_{1}^{2} - 8 x_{1}x_{2} - 5 x_{2}^{2} $ \n",
    "##### $ \\hspace{0.45cm} \\det{}(A-\\lambda{}I) = (1-\\lambda{})(-5-\\lambda{})-16 = \\lambda{}^{2} + 5 \\lambda{} -5 - 16 = \\lambda{}^{2} + 4 \\lambda{} - 21 = (\\lambda{}+7)(\\lambda{}-3) = 0 $\n",
    "##### $ \\hspace{0.45cm} \\Rightarrow{} \\lambda{} = 3 \\; \\text{ or } \\; \\lambda{} = -7 $\n",
    "##### $ \\hspace{0.45cm} \\text{if } \\; \\lambda{} = 3, \\;\\; A-\\lambda{}I = A - 3I = \\begin{bmatrix} -2 & -4 \\\\ -4 & -8 \\end{bmatrix} $ \n",
    "##### $ \\hspace{0.6cm} \\begin{bmatrix} A-3I & 0 \\end{bmatrix} = \\begin{bmatrix} -2 & -4 & 0 \\\\ -4 & -8 & 0 \\end{bmatrix} $ ~ $ \\cdots{} $ ~ $ \\begin{bmatrix} 1 & -2 & 0 \\\\ 0 & 0 & 0 \\end{bmatrix} $\n",
    "##### $ \\hspace{0.6cm} \\textbf{x} = x_{2} \\begin{bmatrix} -2 \\\\ 1 \\end{bmatrix}, \\;\\; \\text{Nul}(A-3I) = \\text{span}(\\begin{bmatrix} -2 \\\\ 1 \\end{bmatrix}) = \\text{span}(\\textbf{v}_{1}) $\n",
    "##### $ \\hspace{0.45cm} \\text{if } \\; \\lambda{} = -7, \\;\\; A-\\lambda{}I = A + 7I = \\begin{bmatrix} 8 & -4 \\\\ -4 & 2 \\end{bmatrix} $ \n",
    "##### $ \\hspace{0.6cm} \\begin{bmatrix} A+7I & 0 \\end{bmatrix} = \\begin{bmatrix} 8 & -4 & 0 \\\\ -4 & 2 & 0 \\end{bmatrix} $ ~ $ \\cdots{} $ ~ $ \\begin{bmatrix} 1 & -\\frac{1}{2} & 0 \\\\ 0 & 0 & 0 \\end{bmatrix} $\n",
    "##### $ \\hspace{0.6cm} \\textbf{x} = x_{2} \\begin{bmatrix} \\frac{1}{2} \\\\ 1 \\end{bmatrix} = x_{2}^{'} \\begin{bmatrix} 1 \\\\ 2 \\end{bmatrix}, \\;\\; \\text{Nul}(A+7I) = \\text{span}(\\begin{bmatrix} 1 \\\\ 2 \\end{bmatrix}) = \\text{span}(\\textbf{v}_{2}) $\n",
    "##### $ \\hspace{0.45cm} \\text{Nul}(A-\\lambda{}I) = \\begin{cases} \\text{span}(\\textbf{v}_{1}), \\;\\; \\text{ if } \\; \\lambda{} = 3 \\\\ \\\\ \\text{span}(\\textbf{v}_{2}), \\;\\; \\text{ if } \\; \\lambda{} = -7 \\end{cases} $\n",
    "##### $ \\hspace{0.45cm} \\textbf{u}_{1} = \\frac{1}{\\sqrt{5}} \\textbf{v}_{1}, \\;\\; \\textbf{u}_{2} = \\frac{1}{\\sqrt{5}} \\textbf{v}_{2} $\n",
    "##### $ \\hspace{0.45cm} \\Rightarrow{} \\{ \\textbf{u}_{1}, \\textbf{u}_{2} \\} \\, \\text{ is eigen vector set of } \\, A. $\n",
    "##### $ \\hspace{0.45cm} U = \\frac{1}{\\sqrt{5}} \\begin{bmatrix} -2 & 1 \\\\ 1 & 2 \\end{bmatrix}, \\;\\; \\Lambda{} = \\begin{bmatrix} 3 & 0 \\\\ 0 & -7 \\end{bmatrix} $\n",
    "##### $ \\hspace{0.45cm} \\textbf{y} = U^{-1}\\textbf{x} = U^{T}\\textbf{x} = \\frac{1}{\\sqrt{5}} \\begin{bmatrix} -2 & 1 \\\\ 1 & 2 \\end{bmatrix} \\begin{bmatrix} x_{1} \\\\ x_{2} \\end{bmatrix} = \\frac{1}{\\sqrt{5}} \\begin{bmatrix} -2x_{1} + x_{2} \\\\ x_{1} + 2x_{2} \\end{bmatrix} $\n",
    "##### $ \\hspace{0.45cm} \\therefore{} Q(\\textbf{x}) = \\textbf{y}^{T} \\Lambda{} \\textbf{y} = \\frac{1}{5} \\begin{bmatrix} -2x_{1} + x_{2} \\\\ x_{1} + 2x_{2} \\end{bmatrix}^{T} \\begin{bmatrix} 3 & 0 \\\\ 0 & -7 \\end{bmatrix} \\begin{bmatrix} -2x_{1} + x_{2} \\\\ x_{1} + 2x_{2} \\end{bmatrix} = 3y_{1}^{2} - 7y_{2}^{2} $\n",
    "##### $ \\hspace{0.15cm} $ ② **[CONTENTS]**"
   ]
  },
  {
   "cell_type": "markdown",
   "metadata": {},
   "source": [
    "<b></b>"
   ]
  },
  {
   "cell_type": "markdown",
   "metadata": {},
   "source": [
    "> ## (Theorem 6-4) **The Principal Axes Theorem**"
   ]
  },
  {
   "cell_type": "markdown",
   "metadata": {},
   "source": [
    "#### 어떤 행렬 $ A $가 대칭행렬일 때 아래가 성립한다."
   ]
  },
  {
   "cell_type": "markdown",
   "metadata": {},
   "source": [
    "#### **(1)** 이차 형식의 해 벡터 $ \\textbf{x} $를 직교 변환하는 벡터 $ \\textbf{y} $는 **무조건** 존재한다. $ \\;\\; $ ($ \\because{} A = PDP^{T} = U\\Lambda{}U^{T} $)"
   ]
  },
  {
   "cell_type": "markdown",
   "metadata": {},
   "source": [
    "#### **(2)** 원 이차 형식 $ \\textbf{x}^{T}A\\textbf{x} $을 선형 변환한 벡터 $ \\textbf{y}^{T} D \\textbf{y} $는 교차항이 존재하지 않는다."
   ]
  },
  {
   "cell_type": "markdown",
   "metadata": {},
   "source": [
    "##### **(`PLUS`)** 이 때 행렬 $ P $의 열들을 주축(principal axes)라고 정의한다."
   ]
  },
  {
   "cell_type": "markdown",
   "metadata": {},
   "source": [
    "<b></b>"
   ]
  },
  {
   "cell_type": "markdown",
   "metadata": {},
   "source": [
    "> ## **주축(Principal Axes)**"
   ]
  },
  {
   "cell_type": "markdown",
   "metadata": {},
   "source": [
    "#### **(1) 정의** : 어떠한 타원형 곡면을 가장 단순한 형태로 나타나게 하는 방향\n",
    "#### $ = $ 어떠한 타원형 곡면을 정의하는 이차형식에서 대칭 행렬의 고유 벡터들의 방향\n",
    "#### $ \\Rightarrow{} Q(\\textbf{y}) = \\lambda{}_{1} \\textbf{y}_{1} + \\lambda{}_{2} \\textbf{y}_{2} + \\cdots{} + \\lambda{}_{n} \\textbf{y}_{n} $\n",
    "#### $ \\hspace{0.45cm} \\text{where } \\; Q(\\textbf{x}) = \\textbf{x}^{T}A\\textbf{x}, \\;\\; A = A^{T} = PDP^{T} $\n",
    "#### $ \\hspace{0.45cm} \\text{and } \\; \\textbf{x} = P\\textbf{y} \\; \\text{ and } \\; \\lambda{}_{i} \\, \\text{ is eigen value of } \\, A. $"
   ]
  },
  {
   "cell_type": "markdown",
   "metadata": {},
   "source": [
    "#### **(2) 기하적 해석** : 어떠한 타원형 곡면을 주축 방향으로 좌표계를 돌리면, 곡면이 다음과 같이 정렬된 표준 형태가 됨\n",
    "#### **[GRAPH]**"
   ]
  },
  {
   "cell_type": "markdown",
   "metadata": {},
   "source": [
    "<b></b>"
   ]
  },
  {
   "cell_type": "markdown",
   "metadata": {},
   "source": [
    "> ## **이차 형식의 분류(Classifying Quadratic Forms)**"
   ]
  },
  {
   "cell_type": "markdown",
   "metadata": {},
   "source": [
    "#### **(1) 정의** : 이차 형식의 값의 부호와 입력 벡터의 범위에 따라 정의된 개념"
   ]
  },
  {
   "cell_type": "markdown",
   "metadata": {},
   "source": [
    "#### **(2) 종류** :\n",
    "##### $ \\hspace{0.15cm} $ ① 양의 정부호(Positive Definite) : 모든 $ \\textbf{0} $이 아닌 $ \\textbf{x} $에 대하여 $ Q(\\textbf{x}) > 0 $\n",
    "##### $ \\hspace{0.45cm} \\Rightarrow{} A \\succ{} 0 \\;\\; \\text{ if and only if } \\; Q(\\textbf{x}) > 0, \\;\\; \\textbf{x} \\neq{} 0 $\n",
    "##### $ \\hspace{0.15cm} $ ② 양의 준정부호(Positive Semi-Definite) : 모든 $ \\textbf{x} $에 대하여 $ Q(\\textbf{x}) \\geq{} 0 $\n",
    "##### $ \\hspace{0.45cm} \\Rightarrow{} A \\succeq{} 0 \\;\\; \\text{ if and only if } \\; Q(\\textbf{x}) \\geq{} 0 $\n",
    "##### $ \\hspace{0.15cm} $ ③ 부정부호(Indefinite) : 어떤(특정한) $ \\textbf{x} $에 대하여 $ Q(\\textbf{x}) > 0 $ , 다른 $ \\textbf{x} $에 대하여 $ Q(\\textbf{x}) < 0 $\n",
    "##### $ \\hspace{0.45cm} \\Rightarrow{} A \\,\\text{ is indefinite} \\;\\; \\text{ if } \\; Q(\\textbf{x}_{1}) > 0 \\; \\text{ and } \\; Q(\\textbf{x}_{2}) < 0 $\n",
    "##### $ \\hspace{0.15cm} $ ④ 음의 준정부호(Negative Semi-Definite) : 모든 $ \\textbf{x} $에 대하여 $ Q(\\textbf{x}) \\leq{} 0 $\n",
    "##### $ \\hspace{0.45cm} \\Rightarrow{} A \\preceq{} 0 \\;\\; \\text{ if and only if } \\; Q(\\textbf{x}) \\leq{} 0  $\n",
    "##### $ \\hspace{0.15cm} $ ⑤ 음의 정부호(Negative Definite) : 모든 $ \\textbf{0} $이 아닌 $ \\textbf{x} $에 대하여 $ Q(\\textbf{x}) < 0 $\n",
    "##### $ \\hspace{0.45cm} \\Rightarrow{} A \\prec{} 0 \\;\\; \\text{ if and only if } \\; Q(\\textbf{x}) < 0, \\;\\; \\textbf{x} \\neq{} 0 $"
   ]
  },
  {
   "cell_type": "markdown",
   "metadata": {},
   "source": [
    "<b></b>"
   ]
  },
  {
   "cell_type": "markdown",
   "metadata": {},
   "source": [
    "> ## (Theorem 6-5) **Quadratic Forms and Eigen values**"
   ]
  },
  {
   "cell_type": "markdown",
   "metadata": {},
   "source": [
    "#### 어떤 행렬 $ A $가 대칭행렬일 때 아래가 성립한다."
   ]
  },
  {
   "cell_type": "markdown",
   "metadata": {},
   "source": [
    "#### **(1)** $ Q(\\textbf{x}) $가 양의 정부호(positive definite)라면, 행렬 $ A $의 고유값은 모두 양수이다.\n",
    "#### $ \\Rightarrow{} \\lambda{}_{i} > 0 \\;\\; \\text{ if and only if } \\; Q(\\textbf{x}) > 0, \\;\\; \\textbf{x} \\neq{} 0 $"
   ]
  },
  {
   "cell_type": "markdown",
   "metadata": {},
   "source": [
    "#### **(2)** $ Q(\\textbf{x}) $가 준정부호(positive semi-definite)라면, 행렬 $ A $의 고유값은 음수가 아니다. \n",
    "#### $ \\Rightarrow{} \\lambda{}_{i} \\geq{} 0 \\;\\; \\text{ if and only if } \\; Q(\\textbf{x}) \\geq{} 0 $"
   ]
  },
  {
   "cell_type": "markdown",
   "metadata": {},
   "source": [
    "#### **(3)** $ Q(\\textbf{x}) $가 부정부호(indefinite)라면, 행렬 $ A $의 고유값은 양수와 음수 모두를가진다.\n",
    "#### $ \\Rightarrow{} \\exist{} \\; \\lambda{}_{i} > 0 \\; \\text{ and } \\; \\exist{} \\; \\lambda{}_{i} < 0 \\text{} \\;\\; \\text{ if } \\; Q(\\textbf{x}_{1}) > 0 \\; \\text{ and } \\; Q(\\textbf{x}_{2}) < 0 $"
   ]
  },
  {
   "cell_type": "markdown",
   "metadata": {},
   "source": [
    "#### **(5)** $ Q(\\textbf{x}) $가 준정부호(negative semidefinite), 행렬 $ A $의 고유값은 양수가 아니다.\n",
    "#### $ \\Rightarrow{} \\lambda{}_{i} \\leq{} 0 \\;\\; \\text{ if and only if } \\; Q(\\textbf{x}) \\leq{} 0 $"
   ]
  },
  {
   "cell_type": "markdown",
   "metadata": {},
   "source": [
    "#### **(2)** $ Q(\\textbf{x}) $가 음의 정부호(negative definite)라면, 행렬 $ A $의 고유값은 모두 음수이다.\n",
    "#### $ \\Rightarrow{} \\lambda{}_{i} < 0 \\;\\; \\text{ if and only if } \\; Q(\\textbf{x}) < 0, \\;\\; \\textbf{x} \\neq{} 0 $"
   ]
  }
 ],
 "metadata": {
  "kernelspec": {
   "display_name": "PYTCH_LLM",
   "language": "python",
   "name": "python3"
  },
  "language_info": {
   "codemirror_mode": {
    "name": "ipython",
    "version": 3
   },
   "file_extension": ".py",
   "mimetype": "text/x-python",
   "name": "python",
   "nbconvert_exporter": "python",
   "pygments_lexer": "ipython3",
   "version": "3.8.18"
  },
  "orig_nbformat": 4
 },
 "nbformat": 4,
 "nbformat_minor": 2
}
