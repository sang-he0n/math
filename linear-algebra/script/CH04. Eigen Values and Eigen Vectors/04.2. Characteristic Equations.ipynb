{
 "cells": [
  {
   "attachments": {},
   "cell_type": "markdown",
   "metadata": {},
   "source": [
    "# CH04.2. **Characteristic Equations**"
   ]
  },
  {
   "cell_type": "markdown",
   "metadata": {},
   "source": [
    "> ## **특성 방정식(Characteristic Equation)**"
   ]
  },
  {
   "cell_type": "markdown",
   "metadata": {},
   "source": [
    "#### **(1) 정의** : 어떠한 정방 행렬의 고유값을 구하는 방정식\n",
    "#### $ \\Rightarrow{} \\det{}(A - \\lambda{}I) = 0 $ "
   ]
  },
  {
   "cell_type": "markdown",
   "metadata": {},
   "source": [
    "##### **(`PLUS`) 중복도(Multiplicity)** : 어떠한 정방 행렬의 고유값이 반복되는 횟수"
   ]
  },
  {
   "cell_type": "markdown",
   "metadata": {},
   "source": [
    "#### **(2) 예시** : \n",
    "##### $ \\hspace{0.15cm} $ ① 아래 정방 행렬 $ A $의 고유값을 구하면\n",
    "##### $ \\hspace{0.45cm} A = \\begin{bmatrix} 2&3 \\\\ 3&-6 \\end{bmatrix}, \\;\\; A-\\lambda{}I = \\begin{bmatrix} 2-\\lambda{}&3 \\\\ 3&-6-\\lambda{} \\end{bmatrix} $\n",
    "##### $ \\hspace{0.45cm} \\det{}(A-\\lambda{}I) = \\det{}(\\begin{bmatrix} 2-\\lambda{}&3 \\\\ 3&-6-\\lambda{} \\end{bmatrix}) = 0 $\n",
    "##### $ \\hspace{2.45cm} = (2-\\lambda{})(-6-\\lambda{})-9 = 0 $ \n",
    "##### $ \\hspace{2.45cm} = \\lambda{}^{2}-2\\lambda{}+6\\lambda{}-12-9 = 0 $ \n",
    "##### $ \\hspace{2.45cm} = \\lambda{}^{2}+4\\lambda{}-21 = 0 $\n",
    "##### $ \\hspace{2.45cm} = (\\lambda{}-3)(\\lambda{}+7) = 0 $\n",
    "##### $ \\hspace{0.45cm} \\therefore{} \\, \\lambda{} = 3 \\; \\text{ or } \\; \\lambda{} = - 7 $ \n",
    "##### $ \\hspace{0.15cm} $ ② 아래 정방 행렬 $ A $의 고유값을 구하면\n",
    "##### $ \\hspace{0.45cm} A = \\begin{bmatrix} 5&-2&6&-1 \\\\ 0&3&-8&0 \\\\ 0&0&5&4 \\\\ 0&0&0&1 \\end{bmatrix}, \\;\\; A-\\lambda{}I = \\begin{bmatrix} 5-\\lambda{}&-2&6&-1 \\\\ 0&3-\\lambda{}&-8&0 \\\\ 0&0&5-\\lambda{}&4 \\\\ 0&0&0&1-\\lambda{} \\end{bmatrix} $\n",
    "##### $ \\hspace{0.45cm} \\det{}(A-\\lambda{}I) = (5-\\lambda{})^{2}(3-\\lambda{})(1-\\lambda{}) = 0 $ \n",
    "##### $ \\hspace{0.45cm} \\therefore{} \\; \\lambda{} = 5 (\\text{multiplicity}=2) \\; \\text{ or } \\; \\lambda{} = 3 (\\text{multiplicity}=1) \\; \\text{ or } \\; \\lambda{} = 1 (\\text{multiplicity}=1) $ "
   ]
  },
  {
   "cell_type": "markdown",
   "metadata": {},
   "source": [
    "##### **(`PLUS`) 큰 크기의 정방 행렬에서의 특성 방정식의 고유값 도출** :  \n",
    "##### $ \\hspace{0.15cm} 5 $차 이상의 다항식에 대한 분석적 해(analytic solution)은 존재하지 않음\n",
    "##### $ \\hspace{0.15cm} (= 5 $차 이상의 특성 방정식의 해, 고유값을 도출하는 분석적 방법은 없음$ ) $\n",
    "##### $ \\hspace{0.15cm} $ 이를 근사하기 위해 직교 행렬 $ Q $와 상삼각 행렬 $  R $로 분해하는 QR 분해 알고리듬을 활용함 (CH05.4. 참고)"
   ]
  },
  {
   "cell_type": "markdown",
   "metadata": {},
   "source": [
    "<b></b>"
   ]
  },
  {
   "cell_type": "markdown",
   "metadata": {},
   "source": [
    "> ## **행렬의 유사성(Similarity of Matrix)**"
   ]
  },
  {
   "cell_type": "markdown",
   "metadata": {},
   "source": [
    "#### **(1) 정의** : 어떠한 정방 행렬 $ A, B $ 및 가역 행렬 $ P $ 가 존재할 때 아래를 만족하는 $ A, B $ 사이의 관계\n",
    "#### $ \\Rightarrow{} A \\sim{} B \\;\\; \\text{ where } \\; A = PBP^{-1} \\; \\text{ and } \\; P \\, \\text{ is invertible}. $"
   ]
  },
  {
   "cell_type": "markdown",
   "metadata": {},
   "source": [
    "<b></b>"
   ]
  },
  {
   "cell_type": "markdown",
   "metadata": {},
   "source": [
    "> ## (Thorem 4-3) **Similarity Theorem**"
   ]
  },
  {
   "cell_type": "markdown",
   "metadata": {},
   "source": [
    "#### 어떠한 두 정방 행렬 $ A, B $가 유사(similar)할 때, 두 행렬은 같은 특성 방정식을 갖는다.\n",
    "#### $ \\Rightarrow{} \\det{}(B-\\lambda{}I) = \\det{}(A-\\lambda{}I) \\;\\; \\text{ if } \\; A = PBP^{-1} \\; \\text{ and } \\; P \\, \\text{ is invertible}. $"
   ]
  },
  {
   "cell_type": "markdown",
   "metadata": {},
   "source": [
    "##### **(`WHY?`)**\n",
    "##### $ \\hspace{0.15cm} \\text{if } \\; B = PAP^{-1}. $ \n",
    "##### $ \\hspace{0.3cm} (B-\\lambda{}I) = P^{-1}AP - \\lambda{}I = P^{-1}AP - \\lambda{} P^{-1}P \\;\\; $ ($ \\because{} I = P^{-1}P $) \n",
    "##### $ \\hspace{1.765cm} = P^{-1} ( AP - \\lambda{}P) = P^{-1}(A-\\lambda{}I)P $\n",
    "##### $ \\hspace{0.3cm} \\det{}(B-\\lambda{}I) = \\det{}(P^{-1}(A-\\lambda{}I)P) = \\det{}(P^{-1}) \\det{}(A-\\lambda{}I) \\det{}(P) $\n",
    "##### $ \\hspace{2.3cm} = \\det{}(P^{-1}) \\det{}(P) \\det{}(A-\\lambda{}I) $\n",
    "##### $ \\hspace{2.3cm} = \\det{}(A-\\lambda{}I) \\;\\; $ ($ \\because{} \\det{}(P^{-1}) \\det{}(P) = 1 $) \n",
    "##### $ \\hspace{0.15cm} \\therefore{} \\det{}(B-\\lambda{}I) = \\det{}(A-\\lambda{}I) $"
   ]
  }
 ],
 "metadata": {
  "kernelspec": {
   "display_name": "Python 3",
   "language": "python",
   "name": "python3"
  },
  "language_info": {
   "codemirror_mode": {
    "name": "ipython",
    "version": 3
   },
   "file_extension": ".py",
   "mimetype": "text/x-python",
   "name": "python",
   "nbconvert_exporter": "python",
   "pygments_lexer": "ipython3",
   "version": "3.11.3"
  },
  "orig_nbformat": 4
 },
 "nbformat": 4,
 "nbformat_minor": 2
}
