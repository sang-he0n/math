{
 "cells": [
  {
   "attachments": {},
   "cell_type": "markdown",
   "metadata": {},
   "source": [
    "# CH05.1. **Inner Product, Length**"
   ]
  },
  {
   "cell_type": "markdown",
   "metadata": {},
   "source": [
    "> ## **내적(Inner Product)**"
   ]
  },
  {
   "cell_type": "markdown",
   "metadata": {},
   "source": [
    "#### **(1) 정의** : 두 벡터의 각 성분 곱 및 합으로 계산하는 연산\n",
    "#### $ \\Rightarrow{} \\textbf{u} \\cdot{} \\textbf{v} = < \\textbf{u}, \\textbf{v} > = \\begin{bmatrix} u_{1} \\\\ u_{2} \\\\ \\cdots{} \\\\ u_{n} \\end{bmatrix} \\cdot{} \\begin{bmatrix} v_{1} \\\\ v_{2} \\\\ \\cdots{} \\\\ v_{n} \\end{bmatrix} = u_{1}v_{1} + u_{2}v_{2} + \\cdots{} + u_{n}v_{n} = \\textbf{u}^{T} \\textbf{v} $ "
   ]
  },
  {
   "cell_type": "markdown",
   "metadata": {},
   "source": [
    "##### **(`PLUS`)** 내적은 두 벡터의 방향과 크기를 고려한 유사도(similarity)를 측정하는 지표 중 하나임"
   ]
  },
  {
   "cell_type": "markdown",
   "metadata": {},
   "source": [
    "#### **(2) 성질** (Theorem 5-1) : 어떠한 벡터 $ \\textbf{u}, \\textbf{v} $와 스칼라 $ r $이 존재할 때 아래가 성립함\n",
    "##### $ \\hspace{0.15cm} $ ① $ (r\\textbf{u}) \\cdot{} \\textbf{v} = r(\\textbf{u}\\cdot{}\\textbf{v}) $\n",
    "##### $ \\hspace{0.15cm} $ ② $ \\textbf{u} \\cdot{} \\textbf{v} = \\textbf{v} \\cdot{} \\textbf{u} $\n",
    "##### $ \\hspace{0.15cm} $ ③ $ (\\textbf{u}+\\textbf{v}) \\cdot{} \\textbf{w} = \\textbf{u} \\cdot{} \\textbf{w} + \\textbf{v} \\cdot{} \\textbf{w} $\n",
    "##### $ \\hspace{0.15cm} $ ④ $ \\textbf{u} \\cdot{} \\textbf{u} \\geq{} 0 \\; \\Leftrightarrow{} \\; \\textbf{u} \\neq{} \\textbf{0} $"
   ]
  },
  {
   "cell_type": "markdown",
   "metadata": {},
   "source": [
    "<b></b>"
   ]
  },
  {
   "cell_type": "markdown",
   "metadata": {},
   "source": [
    "> ## **벡터의 길이(Length of a Vector;Norm)**"
   ]
  },
  {
   "cell_type": "markdown",
   "metadata": {},
   "source": [
    "#### **(1) 정의** : 원점에서부터 해당 벡터까지의 거리(distance)\n",
    "#### $ \\Rightarrow{} || \\textbf{v} || = \\sqrt{\\textbf{v} \\cdot{} \\textbf{v}} = \\sqrt{v_{1}^{2}+v_{2}^{2}+\\cdots{}+v_{n}^{2}} $\n",
    "<img src=\"../../img/05.1. Inner Product, Length (1).png\" width=\"20%\" height=\"20%\"/></img>"
   ]
  },
  {
   "cell_type": "markdown",
   "metadata": {},
   "source": [
    "##### **(`PLUS`)** 이 때 해당 벡터 길이를 L2 놈(norm)이라고 정의함"
   ]
  },
  {
   "cell_type": "markdown",
   "metadata": {},
   "source": [
    "#### **(2) 성질** : 어떠한 벡터 $ \\textbf{v} $와 스칼라 $ c $가 존재할 때 아래를 만족함\n",
    "##### $ \\hspace{0.15cm} $ ① $ || \\textbf{v} || \\geq{} 0 $\n",
    "##### $ \\hspace{0.15cm} $ ② $ || c\\textbf{v} || = | c | \\times{} || \\textbf{v} || $\n",
    "##### $ \\hspace{0.15cm} $ ③ $ || \\textbf{u} + \\textbf{v} || \\leq{} || \\textbf{u} || + || \\textbf{v} || $"
   ]
  },
  {
   "cell_type": "markdown",
   "metadata": {},
   "source": [
    "#### **(3) 정규화(normalization)** : 어떤 벡터를 길이가 $ 1 $인 단위 벡터(unit vector)로 변환하는 연산\n",
    "#### $ \\Rightarrow{} \\textbf{v} = \\frac{1}{|| \\textbf{u}||} \\textbf{v} $ "
   ]
  },
  {
   "cell_type": "markdown",
   "metadata": {},
   "source": [
    "<b></b>"
   ]
  },
  {
   "cell_type": "markdown",
   "metadata": {},
   "source": [
    "> ## **두 벡터 사이의 거리(Distance between $ 2 $ Vectors)**"
   ]
  },
  {
   "cell_type": "markdown",
   "metadata": {},
   "source": [
    "#### **(1) 정의** : 두 벡터 간의 거리 \n",
    "#### $ = $ 두 벡터 사이의 크기 차이\n",
    "#### $ \\Rightarrow{} \\text{dist}(\\textbf{u}, \\textbf{v}) = || \\textbf{u} - \\textbf{v} || = || \\textbf{u} + (-\\textbf{v}) || $\n",
    "<img src=\"../../img/05.1. Inner Product, Length (2).png\" width=\"15%\" height=\"15%\"/></img> $ \\hspace{1.5cm} $<img src=\"../../img/05.1. Inner Product, Length (3).png\" width=\"15%\" height=\"15%\"/></img> "
   ]
  }
 ],
 "metadata": {
  "kernelspec": {
   "display_name": "Python 3",
   "language": "python",
   "name": "python3"
  },
  "language_info": {
   "codemirror_mode": {
    "name": "ipython",
    "version": 3
   },
   "file_extension": ".py",
   "mimetype": "text/x-python",
   "name": "python",
   "nbconvert_exporter": "python",
   "pygments_lexer": "ipython3",
   "version": "3.11.3"
  },
  "orig_nbformat": 4
 },
 "nbformat": 4,
 "nbformat_minor": 2
}
