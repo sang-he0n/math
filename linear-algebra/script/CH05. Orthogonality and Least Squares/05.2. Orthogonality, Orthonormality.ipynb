{
 "cells": [
  {
   "attachments": {},
   "cell_type": "markdown",
   "metadata": {},
   "source": [
    "# CH05.2. **Orthogonality, Orthonormality**"
   ]
  },
  {
   "cell_type": "markdown",
   "metadata": {},
   "source": [
    "> ## **직교성(Orthogonality)**"
   ]
  },
  {
   "cell_type": "markdown",
   "metadata": {},
   "source": [
    "#### **(1) 정의** : 두 벡터가 수직(Perpendicular)인 관계 \n",
    "#### $ = $ 두 벡터의 내적이 $ 0 $일 때의 두 벡터의 관계\n",
    "#### $ \\Rightarrow{} \\textbf{u} \\perp{} \\textbf{v} \\;\\; \\text{ if } \\; \\textbf{u} \\cdot{} \\textbf{v} = 0 $"
   ]
  },
  {
   "cell_type": "markdown",
   "metadata": {},
   "source": [
    "#### **(2) 성질** : 두 벡터 $ \\textbf{u},\\textbf{v} $가 직교할 때 아래를 만족함\n",
    "##### $ \\hspace{0.15cm} $ ① $ \\textbf{0} \\cdot{} \\textbf{v} = \\textbf{0}^{T} \\textbf{v} = 0 $\n",
    "##### $ \\hspace{0.15cm} $ ② $ || \\textbf{u} + \\textbf{v} ||^{2} = || \\textbf{u} ||^{2} + || \\textbf{v} ||^{2} \\;\\; $ (Theorem 5-2)\n",
    "##### $ \\hspace{0.15cm} $ ③ $ ||\\textbf{u} - \\textbf{v} || = || \\textbf{u} + \\textbf{v} || $\n",
    "##### $ \\hspace{0.45cm} $ <img src=\"../../img/05.2. Orthogonality, Orthonormality (1).png\" width=\"20%\" height=\"20%\"/></img>\n",
    "##### $ \\hspace{0.15cm} $ ④ $ \\cos{}(\\theta{}_{\\textbf{u}, \\textbf{v}}) = \\frac{\\textbf{v}\\cdot{}\\textbf{u}}{||\\textbf{v}|| ||\\textbf{u}||} = 0 \\; \\Leftrightarrow{} \\; \\theta{}_{\\textbf{u}, \\textbf{v}} = 90^{\\circ{}} $"
   ]
  },
  {
   "cell_type": "markdown",
   "metadata": {},
   "source": [
    "#### **(3) 예시** :\n",
    "##### $ \\hspace{0.15cm} $ ① 아래 벡터 $ \\textbf{y} $가 벡터 $ \\textbf{u}, \\, \\textbf{v} $에 대하여 직교할 때 $ \\, \\textbf{y} $가 $ \\textbf{u}+\\textbf{v} $에도 직교함을 보이고자 할 때 \n",
    "##### $ \\hspace{0.45cm} \\text{if } \\; \\textbf{y} \\cdot{} \\textbf{u} = 0, \\;\\; \\textbf{y} \\cdot{} \\textbf{v} = 0. $\n",
    "##### $ \\hspace{0.6cm} \\textbf{y} \\cdot{} (\\textbf{u}+\\textbf{v}) = \\textbf{y} \\cdot{} \\textbf{u} + \\textbf{y} \\cdot{} \\textbf{v} = 0 $\n",
    "##### $ \\hspace{0.45cm} \\therefore{} \\textbf{y} \\perp{} (\\textbf{u}+\\textbf{v}) $\n",
    "##### $ \\hspace{0.15cm} $ ② **[CONTENTS]**"
   ]
  },
  {
   "cell_type": "markdown",
   "metadata": {},
   "source": [
    "<b><b>"
   ]
  },
  {
   "cell_type": "markdown",
   "metadata": {},
   "source": [
    "> ## **직교 집합(Orthogonal Set)**"
   ]
  },
  {
   "cell_type": "markdown",
   "metadata": {},
   "source": [
    "#### **(1) 정의** : 벡터 집합 안의 **모든 벡터쌍이 직교**인 집합 \n",
    "#### $ \\Rightarrow{} \\{ \\textbf{v}_{1}, \\textbf{v}_{2}, \\cdots{}, \\textbf{v}_{n} \\} \\, \\text{ is orthogonal set}. \\;\\; \\forall{} \\; \\textbf{v}_{i} \\perp{} \\textbf{v}_{k}, \\;\\; i \\neq{} k $"
   ]
  },
  {
   "cell_type": "markdown",
   "metadata": {},
   "source": [
    "#### **(2) 예시** :\n",
    "##### $ \\hspace{0.15cm} $ ① 어떠한 벡터 집합 $ \\{ \\textbf{u}_{1}, \\textbf{u}_{2}, \\textbf{u}_{3} \\} $가 직교 집합임을 보이고자 할 때\n",
    "##### $ \\hspace{0.45cm} \\textbf{u}_{1} = \\begin{bmatrix} 3 \\\\ 1 \\\\ 1 \\end{bmatrix}, \\;\\; \\textbf{u}_{2} = \\begin{bmatrix} -1 \\\\ 2 \\\\ 1 \\end{bmatrix}, \\;\\; \\textbf{u}_{3} = \\begin{bmatrix} -1/2 \\\\ -2 \\\\ 7/2 \\end{bmatrix} $\n",
    "##### $ \\hspace{0.45cm} \\textbf{u}_{1} \\cdot{} \\textbf{u}_{2} = -3 + 2 + 1 = 0 $\n",
    "##### $ \\hspace{0.45cm} \\textbf{u}_{1} \\cdot{} \\textbf{u}_{3} = -\\frac{3}{2} - \\frac{4}{2} + \\frac{7}{2} = 0 $\n",
    "##### $ \\hspace{0.45cm} \\textbf{u}_{2} \\cdot{} \\textbf{u}_{3} = \\frac{1}{2} - \\frac{8}{2} + \\frac{7}{2} = 0 $\n",
    "##### $ \\hspace{0.45cm} \\therefore{} \\{ \\textbf{u}_{1}, \\textbf{u}_{2}, \\textbf{u}_{3} \\} \\, \\text{ is orthogonal set}. $\n",
    "##### $ \\hspace{0.15cm} $ ② **[CONTENTS]**"
   ]
  },
  {
   "cell_type": "markdown",
   "metadata": {},
   "source": [
    "<b><b>"
   ]
  },
  {
   "cell_type": "markdown",
   "metadata": {},
   "source": [
    "> ## (Theorem 5-4) **Linear Independence of Orthogonal Sets**"
   ]
  },
  {
   "cell_type": "markdown",
   "metadata": {},
   "source": [
    "#### 어떠한 영 벡터를 포함하지 않는 벡터 집합 $ V = \\{ \\textbf{v}_{1}, \\textbf{v}_{2}, \\cdots{}, \\textbf{v}_{n} \\} $이 직교 집합이라면, 그 집합은 **선형 독립** 관계이다."
   ]
  },
  {
   "cell_type": "markdown",
   "metadata": {},
   "source": [
    "##### **(`WHY?`)** \n",
    "##### $ \\hspace{0.15cm} \\text{if } \\; V = \\{ \\textbf{v}_{1}, \\textbf{v}_{2}, \\cdots{}, \\textbf{v}_{n} \\} \\, \\text{ is orthogonal}, \\;\\; \\textbf{v}_{i} \\neq{} \\textbf{0} \\;\\; \\text{ for } \\, 1 \\leq{} i \\leq{} n. $  \n",
    "##### $ \\hspace{0.3cm} c_{1}\\textbf{v}_{1} + \\cdots{} + c_{n} \\textbf{v}_{n} = \\textbf{0} $\n",
    "##### $ \\hspace{0.3cm} (c_{1}\\textbf{v}_{1} + \\cdots{} + c_{n} \\textbf{v}_{n}) \\cdot{} \\textbf{v}_{k} = \\textbf{0} \\cdot{} \\textbf{v}_{k} = 0, \\;\\; \\text{ for } 1 \\leq{} k \\leq{} n $\n",
    "##### $ \\hspace{0.3cm} c_{1}\\textbf{v}_{1} \\cdot{} \\textbf{v}_{k} + \\cdots{} + c_{n} \\textbf{v}_{n} \\cdot{} \\textbf{v}_{k} = 0 $ \n",
    "##### $ \\hspace{0.3cm} c_{1}\\textbf{v}_{k} \\cdot{} \\textbf{v}_{k} = 0 \\;\\; $ ($ \\because{} \\text{v}_{i} \\cdot{} \\textbf{v}_{k} = 0 $) \n",
    "##### $ \\hspace{0.3cm} \\Rightarrow{} c_{k} = 0 $\n",
    "##### $ \\hspace{0.15cm} \\therefore{} V \\, \\text{ is linearly independent}. $"
   ]
  },
  {
   "cell_type": "markdown",
   "metadata": {},
   "source": [
    "##### **(`PLUS`)** 이 때 벡터 집합 $ V $는 어떠한 부분공간 $ H $의 기저이다.\n",
    "##### $ \\hspace{0.15cm} \\Rightarrow{} V \\, \\text{ is basis of } \\, H. \\;\\; \\text{if } \\; H = \\text{span}(V) = \\text{span}(\\{ \\textbf{v}_{1}, \\textbf{v}_{2}, \\cdots{}, \\textbf{v}_{n} \\} ) $"
   ]
  },
  {
   "cell_type": "markdown",
   "metadata": {},
   "source": [
    "<b><b>"
   ]
  },
  {
   "cell_type": "markdown",
   "metadata": {},
   "source": [
    "> ## **직교 기저(Orthogonal Basis)**"
   ]
  },
  {
   "cell_type": "markdown",
   "metadata": {},
   "source": [
    "#### **(1) 정의** : 어떠한 부분공간의 기저이면서 기저 벡터가 서로 직교하는 집합\n",
    "#### $ = $ 직교 집합이면서 선형 독립을 만족하고 어떠한 부분공간을 선형 생성하는 집합\n",
    "#### $ \\Rightarrow{} \\{ \\textbf{v}_{1}, \\textbf{v}_{2}, \\cdots{}, \\textbf{v}_{n} \\} \\, \\text{ is orthogonal basis of } \\, H. $\n",
    "#### $ \\hspace{0.45cm} \\text{if } \\; \\forall{} \\; \\textbf{v}_{i} \\perp{} \\textbf{v}_{k}, \\;\\; i \\neq{} k \\; \\text{ and } \\; H = \\text{span}(\\{ \\textbf{v}_{1}, \\textbf{v}_{2}, \\cdots{}, \\textbf{v}_{n} \\}) $"
   ]
  },
  {
   "cell_type": "markdown",
   "metadata": {},
   "source": [
    "#### **(2) 성질** :\n",
    "##### $ \\hspace{0.15cm} $ ① 어떠한 (부분공간의) 벡터가 직교 기저로 선형 결합될 경우 **계수가 명시적으로 정의**됨 $ \\;\\; $ (Theorem 5-5)"
   ]
  },
  {
   "cell_type": "markdown",
   "metadata": {},
   "source": [
    "##### **(`WHY?`)**\n",
    "##### $ \\hspace{0.45cm} \\text{if } \\; c_{1} \\textbf{v}_{1} + \\cdots{} + c_{n} \\textbf{v}_{n} = \\textbf{y}, \\;\\; \\textbf{y} \\in{} H, \\;\\; H = \\text{span}(\\{ \\textbf{v}_{1}, \\textbf{v}_{2}, \\cdots{}, \\textbf{v}_{n} \\}), \\;\\; \\textbf{v}_{i} \\perp{} \\textbf{v}_{k} \\;\\; \\forall{} \\; i \\neq{} k. $\n",
    "##### $ \\hspace{0.6cm} c_{1} \\textbf{v}_{1} + \\cdots{} + c_{i}\\textbf{v}_{i} + \\cdots{} + c_{n} \\textbf{v}_{n} = \\textbf{y} $\n",
    "##### $ \\hspace{0.6cm} ( c_{1} \\textbf{v}_{1} + \\cdots{} + c_{i}\\textbf{v}_{i} + \\cdots{} + c_{n} \\textbf{v}_{n} ) \\cdot{} \\textbf{v}_{i} = \\textbf{y} \\cdot{} \\textbf{v}_{i} $\n",
    "##### $ \\hspace{0.6cm} c_{1} \\textbf{v}_{1} \\cdot{} \\textbf{v}_{i} + \\cdots{} + c_{i}\\textbf{v}_{i} \\cdot{} \\textbf{v}_{i} + \\cdots{} + c_{n} \\textbf{v}_{n} \\cdot{} \\textbf{v}_{i} = \\textbf{y} \\cdot{} \\textbf{v}_{i} $\n",
    "##### $ \\hspace{0.6cm} c_{i} \\textbf{v}_{i} = \\textbf{y} \\cdot{} \\textbf{v}_{i} \\;\\; $ ($ \\because{} \\textbf{v}_{i} \\cdot{} \\textbf{v}_{k} = 0 $)\n",
    "##### $ \\hspace{0.45cm} \\therefore{} c_{i} = \\frac{\\textbf{y}\\cdot{}\\textbf{v}_{i}}{\\textbf{v}_{i}\\cdot{}\\textbf{v}_{i}} $"
   ]
  },
  {
   "cell_type": "markdown",
   "metadata": {},
   "source": [
    "##### $ \\hspace{0.15cm} $ ② 어떠한 직교 기저 벡터에 $ c $ 스칼라곱하더라도 동일한 부분공간을 형성함\n",
    "##### $ \\hspace{0.45cm} \\Rightarrow{} \\text{span}(\\{ \\textbf{v}_{1}, \\cdots{}, \\textbf{v}_{i}, \\cdots{}, \\textbf{v}_{n} \\}) = \\text{span}(\\{ \\textbf{v}_{1}, \\cdots{}, c\\textbf{v}_{i}, \\cdots{}, \\textbf{v}_{n} \\}) = W $"
   ]
  },
  {
   "cell_type": "markdown",
   "metadata": {},
   "source": [
    "<b><b>"
   ]
  },
  {
   "cell_type": "markdown",
   "metadata": {},
   "source": [
    "> ## **정규 직교 집합(Orthonormal Set)**"
   ]
  },
  {
   "cell_type": "markdown",
   "metadata": {},
   "source": [
    "#### **(1) 정의** : 각 벡터들의 길이가 $ 1 $인 직교 집합\n",
    "#### $ \\Rightarrow{} \\{ \\textbf{u}_{1}, \\cdots{}, \\textbf{u}_{n} \\} \\, \\text{ is orthonormal set}. \\;\\; \\forall{} \\; || \\textbf{u}_{i}|| = 1, \\;\\; \\textbf{u}_{i} \\perp{} \\textbf{u}_{k}, \\;\\;  i \\neq{} k $"
   ]
  },
  {
   "cell_type": "markdown",
   "metadata": {},
   "source": [
    "##### **(`PLUS`) 정규 직교 행렬(Orthonormal Matrix)** : 정규 직교 집합의 벡터들로 구성된 행렬\n",
    "##### $ \\hspace{0.15cm} U = \\begin{bmatrix} \\textbf{u}_{1} & \\textbf{u}_{2} & \\cdots{} & \\textbf{u}_{n} \\end{bmatrix} \\;\\; \\forall{} \\; || \\textbf{u}_{i}|| = 1, \\;\\; \\textbf{u}_{i} \\perp{} \\textbf{u}_{k}, \\;\\;  i \\neq{} k $ $"
   ]
  },
  {
   "cell_type": "markdown",
   "metadata": {},
   "source": [
    "#### **(2) 성질** (Theorem 5-7) : 정규 직교 행렬 $ U $와 벡터 $ \\textbf{x}, \\textbf{y} $가 존재할 때 아래가 성립함\n",
    "##### $ \\hspace{0.15cm} $ ① $ || U\\textbf{x} || = || \\textbf{x} || $"
   ]
  },
  {
   "cell_type": "markdown",
   "metadata": {},
   "source": [
    "##### **(`WHY?`)**\n",
    "##### $ \\hspace{0.15cm} || U\\textbf{x} || = \\sqrt{(x_{1}\\textbf{v}_{1}+\\cdots{}+x_{n}\\textbf{v}_{n})\\cdot{}(x_{1}\\textbf{v}_{1}+\\cdots{}+x_{n}\\textbf{v}_{n})} $\n",
    "##### $ \\hspace{1.1cm} =\\sqrt{x_{1}^{2}\\textbf{v}_{1} \\cdot{} \\textbf{v}_{1} + \\cdots{} x_{n}^{2}\\textbf{v}_{n} \\cdot{} \\textbf{v}_{n}} \\;\\; $ ($ \\because{} \\textbf{v}_{i} \\cdot{} \\textbf{v}_{k} = 0, \\;\\; i \\neq{} k $) \n",
    "##### $ \\hspace{1.1cm} = \\sqrt{x_{1}^{2}+\\cdots{}+x_{n}^{2}} $\n",
    "##### $ \\hspace{0.15cm} \\therefore{} || U\\textbf{x} || = || \\textbf{x} || $"
   ]
  },
  {
   "cell_type": "markdown",
   "metadata": {},
   "source": [
    "##### $ \\hspace{0.15cm} $ ② $ (U\\textbf{x}) \\cdot{} (U\\textbf{x}) = \\textbf{x} \\cdot{} \\textbf{y} $\n",
    "##### $ \\hspace{0.15cm} $ ③ $ | \\det{}(U) | = 1 \\;\\; \\text{if } \\; U \\, \\text{ is square matrix}. $"
   ]
  },
  {
   "cell_type": "markdown",
   "metadata": {},
   "source": [
    "</b><b>"
   ]
  },
  {
   "cell_type": "markdown",
   "metadata": {},
   "source": [
    "> ## (Theorem 5-6) **Orthonormal Columns Property**"
   ]
  },
  {
   "cell_type": "markdown",
   "metadata": {},
   "source": [
    "#### **(1)** 정규 직교 행렬 $ U $ 와 그 전치 행렬 $ U^{T} $을 행렬곱 연산한다면 단위 행렬이 된다.\n",
    "#### $ \\Rightarrow{} U^{T} U = I \\;\\; \\text{ where } \\; \\underset{m\\times{}n}{U} = \\begin{bmatrix} \\textbf{u}_{1} & \\cdots{} & \\textbf{u}_{n} \\end{bmatrix} \\; \\text{ and } \\; \\{ \\textbf{u}_{1},\\cdots{},\\textbf{u}_{n} \\} \\, \\text{ is orthonormal set}. $"
   ]
  },
  {
   "cell_type": "markdown",
   "metadata": {},
   "source": [
    "##### **(`WHY?`)**\n",
    "##### $ \\hspace{0.15cm} U^{T}U = \\begin{bmatrix} \\textbf{u}_{1}^{T} \\\\ \\vdots{} \\\\ \\textbf{u}_{n}^{T} \\end{bmatrix} \\begin{bmatrix} \\textbf{u}_{1} & \\cdots{} & \\textbf{u}_{n} \\end{bmatrix} = \\begin{bmatrix} \\textbf{u}_{1}^{T} \\textbf{u}_{1} & \\textbf{u}_{1}^{T} \\textbf{u}_{2} & \\cdots{} & \\textbf{u}_{1}^{T} \\textbf{u}_{n} \\\\ \\textbf{u}_{2}^{T} \\textbf{u}_{1} & \\textbf{u}_{2}^{T} \\textbf{u}_{2} & \\cdots{} & \\textbf{u}_{2}^{T} \\textbf{u}_{n} \\\\ \\vdots{} & \\vdots{} & \\ddots{} & \\vdots{} \\\\ \\textbf{u}_{n}^{T} \\textbf{u}_{1} & \\textbf{u}_{n}^{T} \\textbf{u}_{2} & \\cdots{} & \\textbf{u}_{n}^{T} \\textbf{u}_{n} \\end{bmatrix} $\n",
    "##### $ \\hspace{1cm} = \\begin{bmatrix} \\textbf{u}_{1} \\cdot{} \\textbf{u}_{1} & \\textbf{u}_{1} \\cdot{} \\textbf{u}_{2} & \\cdots{} & \\textbf{u}_{1} \\cdot{} \\textbf{u}_{n} \\\\ \\textbf{u}_{2} \\cdot{} \\textbf{u}_{1} & \\textbf{u}_{2} \\cdot{} \\textbf{u}_{2} & \\cdots{} & \\textbf{u}_{2} \\cdot{} \\textbf{u}_{n} \\\\ \\vdots{} & \\vdots{} & \\ddots{} & \\vdots{} \\\\ \\textbf{u}_{n} \\cdot{} \\textbf{u}_{1} & \\textbf{u}_{n} \\cdot{} \\textbf{u}_{2} & \\cdots{} & \\textbf{u}_{n} \\cdot{} \\textbf{u}_{n} \\end{bmatrix} = \\begin{bmatrix} 1 & 0 & \\cdots{} & 0 \\\\ 0 & 1 & \\cdot{} & 0 \\\\ \\vdots{} & \\vdots{} & \\ddots{} & \\vdots{} \\\\ 0 & 0 & \\cdots{} & 1 \\end{bmatrix} = I_{n} $\n",
    "##### $ \\hspace{0.15cm} \\therefore{} U^{T}U = I $"
   ]
  },
  {
   "cell_type": "markdown",
   "metadata": {},
   "source": [
    "##### **(`PLUS`)** 일반적으로 $ UU^{T} \\neq{} I_{m} $이며 이는 $ \\mathbb{R}^{m} $ 공간의 벡터를 $ U $의 열공간($ \\mathbb{R}^{n} $의 부분공간)으로 사영(projection)하는 행렬임"
   ]
  },
  {
   "cell_type": "markdown",
   "metadata": {},
   "source": [
    "#### **(2)** 정규 직교 행렬 $ U $가 정방 행렬이라면, 그 역행렬 $ U^{-1} $은 전치 행렬이다.\n",
    "#### $ \\Rightarrow{} U^{-1} = U^{T}$"
   ]
  },
  {
   "cell_type": "markdown",
   "metadata": {},
   "source": [
    "<b><b>"
   ]
  },
  {
   "cell_type": "markdown",
   "metadata": {},
   "source": [
    "> ## **정규 직교 기저(Orthonormal Basis)**"
   ]
  },
  {
   "cell_type": "markdown",
   "metadata": {},
   "source": [
    "#### **(1) 정의** : 기저 벡터들의 길이가 $ 1 $인 직교 기저(orthogonoal basis)\n",
    "#### $ \\Rightarrow{} \\{ \\textbf{u}_{1}, \\textbf{u}_{2}, \\cdots{}, \\textbf{u}_{n} \\} = \\mathcal{B} \\, \\text{ is orthonormal basis of } \\, H. $\n",
    "#### $ \\hspace{0.45cm} \\text{if } \\; \\forall{} \\; || \\textbf{u}_{i} || = 1, \\;\\; \\textbf{u}_{i} \\perp{} \\textbf{u}_{k}, \\;\\; i \\neq{} k \\; \\text{ and } \\; H = \\text{span}(\\{ \\textbf{u}_{1}, \\textbf{u}_{2}, \\cdots{}, \\textbf{u}_{n} \\}) $"
   ]
  },
  {
   "cell_type": "markdown",
   "metadata": {},
   "source": [
    "#### **(2) 성질** :\n",
    "##### $ \\hspace{0.15cm} $ ① 어떠한 부분공간의 벡터가 직교 기저로 선형 결합될 경우 **계수가 더 간단하고 명시적으로 정의**됨\n",
    "##### $ \\hspace{0.45cm} \\Rightarrow{} c_{i} = \\textbf{y}\\cdot{}\\textbf{u}_{i} \\;\\; \\text{ where } \\, c_{1} \\textbf{u}_{1} + \\cdots{} + c_{n} \\textbf{u}_{n} = \\textbf{y} \\in{} H \\; \\text{ and } \\; \\{ \\textbf{u}_{1}, \\cdots{}, \\textbf{u}_{n} \\} \\, \\text{ is basis of } \\, H $\n",
    "##### $ \\hspace{0.15cm} $ ② **[CONTENTS]**"
   ]
  }
 ],
 "metadata": {
  "kernelspec": {
   "display_name": "Python 3",
   "language": "python",
   "name": "python3"
  },
  "language_info": {
   "codemirror_mode": {
    "name": "ipython",
    "version": 3
   },
   "file_extension": ".py",
   "mimetype": "text/x-python",
   "name": "python",
   "nbconvert_exporter": "python",
   "pygments_lexer": "ipython3",
   "version": "3.11.3"
  },
  "orig_nbformat": 4
 },
 "nbformat": 4,
 "nbformat_minor": 2
}
