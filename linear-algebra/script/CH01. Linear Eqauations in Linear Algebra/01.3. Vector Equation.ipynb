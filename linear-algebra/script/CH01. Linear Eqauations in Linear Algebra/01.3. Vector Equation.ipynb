{
 "cells": [
  {
   "attachments": {},
   "cell_type": "markdown",
   "metadata": {},
   "source": [
    "# CH01.3. **Vector Equations**"
   ]
  },
  {
   "attachments": {},
   "cell_type": "markdown",
   "metadata": {},
   "source": [
    "> ## **$ \\mathbb{R}^{n} $ 공간의 실수 벡터(Vector in $ \\, \\mathbb{R}^{n} $)**"
   ]
  },
  {
   "cell_type": "markdown",
   "metadata": {},
   "source": [
    "#### **(1) 정의** : $ n $개의 실수로 구성된 순서쌍(tuple)\n",
    "#### $ \\Rightarrow{} \\textbf{v} = \\overrightarrow{v} = \\begin{bmatrix} v_{1} \\\\ v_{2} \\\\ \\vdots{} \\\\ v_{n} \\end{bmatrix} = (v_{1}, v_{2}, \\cdots{}, v_{n}) \\in{} \\mathbb{R}^{n} $"
   ]
  },
  {
   "cell_type": "markdown",
   "metadata": {},
   "source": [
    "<b></b>"
   ]
  },
  {
   "attachments": {},
   "cell_type": "markdown",
   "metadata": {},
   "source": [
    "> ## **벡터 연산의 기하학적 해석(Geometric descriptions of $ \\, \\mathbb{R}^{2} $)**"
   ]
  },
  {
   "cell_type": "markdown",
   "metadata": {},
   "source": [
    "#### **(1) 벡터 합** : 두 벡터가 생성하는 평행사변형의 대각선을 형성\n",
    "#### $ \\Rightarrow{} \\textbf{u} = \\begin{bmatrix} 3 \\\\ 2 \\end{bmatrix}, \\;\\; \\textbf{v} = \\begin{bmatrix} -6 \\\\ 1 \\end{bmatrix}, \\;\\; \\textbf{w} = \\textbf{u} + \\textbf{v} = \\begin{bmatrix} -4 \\\\ 3 \\end{bmatrix}$\n",
    "<img src=\"../../img/01.3 Vector Equation (2).png\" width=\"30%\" height=\"30%\"/></img>"
   ]
  },
  {
   "cell_type": "markdown",
   "metadata": {},
   "source": [
    "#### **(2) 스칼라 곱** : 스칼라의 부호는 벡터의 방향, 스칼라의 크기는 벡터의 길이를 조절 $ = $ 벡터 스케일링\n",
    "#### $ \\Rightarrow{} \\textbf{u} = \\begin{bmatrix} 1 \\\\ 2 \\end{bmatrix}, \\;\\; a = 2, \\;\\; a\\textbf{u} = 2\\textbf{u} = \\begin{bmatrix} 2 \\\\ 4 \\end{bmatrix} $\n",
    "<img src=\"../../img/01.3 Vector Equation (3).png\" width=\"30%\" height=\"30%\"/></img>"
   ]
  },
  {
   "cell_type": "markdown",
   "metadata": {},
   "source": [
    "<b></b>"
   ]
  },
  {
   "cell_type": "markdown",
   "metadata": {},
   "source": [
    "> ## **$ \\mathbb{R}^{n} $ 벡터 공간(Vector Space in $ \\, \\mathbb{R}^{n} $)**"
   ]
  },
  {
   "cell_type": "markdown",
   "metadata": {},
   "source": [
    "##### **(⚠️)** 일반적인 벡터 공간은 체(field) 위의 추상적 구조로 정의되나 이를 한정하여 정의함"
   ]
  },
  {
   "attachments": {},
   "cell_type": "markdown",
   "metadata": {},
   "source": [
    "#### **(1) 정의** : 영 벡터($ \\textbf{0} $)를 포함하고 벡터합, 스칼라곱에 닫혀있는 벡터 집합\n",
    "#### $ = $ 영 벡터를 포함하며 벡터합, 스칼라곱을 하더라도 연산 결과가 항상 그 벡터 집합에 포함하는 집합\n",
    "#### $ \\Rightarrow{} \\mathbb{R}^{n} = \\{ \\textbf{v} = (x_{1}, x_{2}, \\cdots{}, x_{n}) \\; | \\; x_{i} \\in{} \\mathbb{R}, \\;\\; 1 \\leq{} i \\leq{} n \\} $ "
   ]
  },
  {
   "cell_type": "markdown",
   "metadata": {},
   "source": [
    "##### **(`PLUS`) 벡터 집합(Vector Set)** : 같은 차원의 여러 벡터들의 모음 \n",
    "##### $ \\Rightarrow{} \\{ \\textbf{v}_{1}, \\textbf{v}_{1}, \\cdots{}, \\textbf{v}_{k} \\} \\subset{} \\mathbb{R}^{n} $"
   ]
  },
  {
   "cell_type": "markdown",
   "metadata": {},
   "source": [
    "#### **(2) 공리** : 벡터 $ \\textbf{u}, \\textbf{v} $와 스칼라 $ c, d $에 대하여 아래가 만족함\n",
    "##### $ \\hspace{0.15cm} $ ① $ \\textbf{u} + \\textbf{v} = \\textbf{v} + \\textbf{u} $\n",
    "##### $ \\hspace{0.15cm} $ ② $ ( \\textbf{u} + \\textbf{v} ) + \\textbf{w} = \\textbf{v} + ( \\textbf{u} + \\textbf{w} ) $\n",
    "##### $ \\hspace{0.15cm} $ ③ $ \\textbf{u} + ( -\\textbf{u} ) = ( -\\textbf{u} ) + \\textbf{u} = \\textbf{0} $\n",
    "##### $ \\hspace{0.15cm} $ ④ $ \\textbf{u} + \\textbf{0} = \\textbf{0} + \\textbf{u} = \\textbf{u} $\n",
    "##### $ \\hspace{0.15cm} $ ⑤ $ c( \\textbf{u} + \\textbf{v} ) = c\\textbf{u} + c\\textbf{v} $\n",
    "##### $ \\hspace{0.15cm} $ ⑥ $ ( c + d )\\textbf{u} = c\\textbf{u} + d\\textbf{u} $\n",
    "##### $ \\hspace{0.15cm} $ ⑦ $ c( d\\textbf{u} ) = ( cd )\\textbf{u} $\n",
    "##### $ \\hspace{0.15cm} $ ⑧ $ 1\\textbf{u} = \\textbf{u} $\n",
    "##### $ \\hspace{0.15cm} $ ⑨ $ c + \\textbf{u} \\, \\text{ is not defined.} $ "
   ]
  },
  {
   "cell_type": "markdown",
   "metadata": {},
   "source": [
    "<b></b>"
   ]
  },
  {
   "cell_type": "markdown",
   "metadata": {},
   "source": [
    "> ## **선형 결합(Linear Combination)**"
   ]
  },
  {
   "attachments": {},
   "cell_type": "markdown",
   "metadata": {},
   "source": [
    "#### **(1) 정의** : 유한 개의 벡터와 이에 대응되는 스칼라가 주어졌을 때 각 벡터에 벡터합 및 스칼라곱 연산한 표현\n",
    "#### $ \\Rightarrow{} c_{1}\\textbf{v}_{1} + c_{2}\\textbf{v}_{2} + \\cdots{} + c_{k}\\textbf{v}_{k} = \\sum^{k}_{i=1} c_{i} \\textbf{v}_{i} $ "
   ]
  },
  {
   "cell_type": "markdown",
   "metadata": {},
   "source": [
    "##### **(`PLUS`) 선형 결합이 가지는 의미** :  \n",
    "##### $ \\hspace{0.15cm} \\text{can } \\, \\textbf{b} \\text{ be generated as a linear combination of } \\, \\{ \\textbf{a}_{1},\\, \\textbf{a}_{2} \\} $ ? \n",
    "##### $ \\hspace{0.25cm} = \\text{Does the following augmented matrix have a solution?} \\, \\Rightarrow{} \\begin{bmatrix} \\textbf{a}_{1},\\, \\textbf{a}_{2},\\, \\textbf{b} \\end{bmatrix} $"
   ]
  },
  {
   "cell_type": "markdown",
   "metadata": {},
   "source": [
    "<b></b>"
   ]
  },
  {
   "cell_type": "markdown",
   "metadata": {},
   "source": [
    "> ## **선형 생성(Span)**"
   ]
  },
  {
   "attachments": {},
   "cell_type": "markdown",
   "metadata": {},
   "source": [
    "#### **(1) 정의** : 유한 개의 벡터들의 **선형 결합으로 이루어진 벡터들의 집합**\n",
    "#### $ \\Rightarrow{} \\text{span}(\\{ \\textbf{v}_{1}, \\textbf{v}_{2}, \\cdots{}, \\textbf{v}_{n} \\}) = \\{ \\textbf{w} \\; | \\; \\textbf{w} = c_{1} \\textbf{v}_{1} + c_{2} \\textbf{v}_{2} + \\cdots{} + c_{n} \\textbf{v}_{n} \\} = \\{ \\textbf{w} \\; | \\; \\textbf{w} = \\sum^{n}_{i=1} c_{i} \\textbf{v}_{i} \\} $"
   ]
  },
  {
   "cell_type": "markdown",
   "metadata": {},
   "source": [
    "#### **(2) $ \\bf{2} $ 차원에서의 선형 생성의 기하학적 해석** :\n",
    "##### $ \\hspace{0.15cm} $ ① 선(line)\n",
    "#### $ \\hspace{0.45cm} $ <img src=\"../../img/01.3 Vector Equation (4).png\" width=\"30%\" height=\"30%\"/></img>"
   ]
  },
  {
   "cell_type": "markdown",
   "metadata": {},
   "source": [
    "#### **(2) $ \\bf{3} $ 차원에서의 선형 생성의 기하학적 해석** :\n",
    "##### $ \\hspace{0.15cm} $ ① 선(Line)\n",
    "#### $ \\hspace{0.45cm} $ <img src=\"../../img/01.3 Vector Equation (5).png\" width=\"30%\" height=\"30%\"/></img>\n",
    "##### $ \\hspace{0.15cm} $ ② 면(Plane)\n",
    "#### $ \\hspace{0.45cm} $ <img src=\"../../img/01.3 Vector Equation (6).png\" width=\"30%\" height=\"30%\"/></img>"
   ]
  },
  {
   "cell_type": "markdown",
   "metadata": {},
   "source": [
    "##### **(`PLUS`) 선형 생성이 가지는 의미** : \n",
    "##### $ \\hspace{0.15cm} \\text{Is a vector } \\, \\textbf{b} \\, \\text{ in span } \\, \\{ \\textbf{v}_{1}, \\cdots{}, \\textbf{v}_{p} \\} \\; $ ? \n",
    "##### $ \\hspace{0.15cm} =  \\text{ Does the following vector equation have a solution?} \\, \\Rightarrow{} \\, x_{1}\\textbf{v}_{1} + \\cdots{} + x_{p}\\textbf{v}_{p} = \\textbf{b} $\n",
    "##### $ \\hspace{0.15cm} = \\text{ Does the following augmented matrix have a solution?} \\, \\Rightarrow{} \\, \\begin{bmatrix} \\textbf{v}_{1},\\, \\textbf{v}_{2},\\, \\textbf{b} \\end{bmatrix} $ "
   ]
  }
 ],
 "metadata": {
  "kernelspec": {
   "display_name": "Python 3",
   "language": "python",
   "name": "python3"
  },
  "language_info": {
   "codemirror_mode": {
    "name": "ipython",
    "version": 3
   },
   "file_extension": ".py",
   "mimetype": "text/x-python",
   "name": "python",
   "nbconvert_exporter": "python",
   "pygments_lexer": "ipython3",
   "version": "3.11.3"
  },
  "orig_nbformat": 4
 },
 "nbformat": 4,
 "nbformat_minor": 2
}
