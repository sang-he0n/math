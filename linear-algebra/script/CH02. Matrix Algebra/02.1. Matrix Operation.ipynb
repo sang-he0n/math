{
 "cells": [
  {
   "attachments": {},
   "cell_type": "markdown",
   "metadata": {},
   "source": [
    "# CH02.1. **Matrix Operation**"
   ]
  },
  {
   "cell_type": "markdown",
   "metadata": {},
   "source": [
    "> ## (Theorem 2-1) **Matrix Basic Operation**"
   ]
  },
  {
   "cell_type": "markdown",
   "metadata": {},
   "source": [
    "#### 어떠한 행렬 $ A, B $와 스칼라 $ c, d $가 존재할 때 아래가 성립한다."
   ]
  },
  {
   "cell_type": "markdown",
   "metadata": {},
   "source": [
    "#### **(1)** $ A + B = B + A $"
   ]
  },
  {
   "cell_type": "markdown",
   "metadata": {},
   "source": [
    "#### **(2)** $ (A + B) + C = B + (A + C) $"
   ]
  },
  {
   "cell_type": "markdown",
   "metadata": {},
   "source": [
    "#### **(3)** $ A + \\bf{0} = \\bf{0} + A = A $"
   ]
  },
  {
   "cell_type": "markdown",
   "metadata": {},
   "source": [
    "#### **(4)** $ A + (-A) = (-A) + A = 0 $"
   ]
  },
  {
   "cell_type": "markdown",
   "metadata": {},
   "source": [
    "#### **(5)** $ c(A + B) = cB + cA $"
   ]
  },
  {
   "cell_type": "markdown",
   "metadata": {},
   "source": [
    "#### **(6)** $ (c+d)A = cA + dA $"
   ]
  },
  {
   "cell_type": "markdown",
   "metadata": {},
   "source": [
    "#### **(7)** $ c(dA) = (cd)A $"
   ]
  },
  {
   "cell_type": "markdown",
   "metadata": {},
   "source": [
    "#### **(8)** $ 1A = A $"
   ]
  },
  {
   "cell_type": "markdown",
   "metadata": {},
   "source": [
    "<b></b>"
   ]
  },
  {
   "cell_type": "markdown",
   "metadata": {},
   "source": [
    "> ## **행렬 곱(Matrix  Multiplication)**"
   ]
  },
  {
   "cell_type": "markdown",
   "metadata": {},
   "source": [
    "#### **(1) 정의** : 좌측 행렬과 우측 행렬의 열 벡터를 선형 결합\n",
    "#### $ \\Rightarrow{} AB = \\underset{m\\times{}n}{A} \\underset{n\\times{}p}{\\begin{bmatrix} \\textbf{b}_{1}&\\cdots{}&\\textbf{b}_{p} \\end{bmatrix}} = \\begin{bmatrix} A\\textbf{b}_{1}&\\cdots{}&A\\textbf{b}_{p} \\end{bmatrix} $\n",
    "#### $ \\hspace{1.075cm} = \\begin{bmatrix} \\textbf{a}_{1} & \\textbf{a}_{2} & \\cdots{} & \\textbf{a}_{n} \\end{bmatrix} \\textbf{b}_{1} + \\begin{bmatrix} \\textbf{a}_{1} & \\textbf{a}_{2} & \\cdots{} & \\textbf{a}_{n} \\end{bmatrix} \\textbf{b}_{2} + \\cdots{} + \\begin{bmatrix} \\textbf{a}_{1} & \\textbf{a}_{2} & \\cdots{} & \\textbf{a}_{n} \\end{bmatrix} \\textbf{b}_{p}$"
   ]
  },
  {
   "cell_type": "markdown",
   "metadata": {},
   "source": [
    "##### **(`WHY?`)**\n",
    "##### $ \\hspace{0.15cm} A = \\begin{bmatrix} 2 & 3 \\\\ 1 & -5 \\end{bmatrix}, \\;\\; B = \\begin{bmatrix} 4 & 3 & 6 \\\\ 1 & -2 & 3 \\end{bmatrix} = \\begin{bmatrix} \\textbf{b}_{1} & \\textbf{b}_{2} & \\textbf{b}_{3} \\end{bmatrix} $\n",
    "##### $ \\hspace{0.15cm} A\\textbf{b}_{1} = \\begin{bmatrix} 2 & 3 \\\\ 1 & -5 \\end{bmatrix} \\begin{bmatrix} 4 \\\\ 1 \\end{bmatrix} = \\begin{bmatrix} 11 \\\\ 1 \\end{bmatrix} $\n",
    "##### $ \\hspace{0.15cm} A\\textbf{b}_{2} = \\begin{bmatrix} 2 & 3 \\\\ 1 & -5 \\end{bmatrix} \\begin{bmatrix} 3 \\\\ -2 \\end{bmatrix} = \\begin{bmatrix} 0 \\\\ 13 \\end{bmatrix} $\n",
    "##### $ \\hspace{0.15cm} A\\textbf{b}_{3} = \\begin{bmatrix} 2 & 3 \\\\ 1 & -5 \\end{bmatrix} \\begin{bmatrix} 6 \\\\ 3 \\end{bmatrix} = \\begin{bmatrix} 21 \\\\ -9 \\end{bmatrix} $\n",
    "##### $ \\hspace{0.15cm} \\therefore{} AB = \\begin{bmatrix} A\\textbf{b}_{1} & A\\textbf{b}_{2} & A\\textbf{b}_{3} \\end{bmatrix} = \\begin{bmatrix} 11 & 0 & 21 \\\\ -1 & 13 & -9 \\end{bmatrix} $"
   ]
  },
  {
   "cell_type": "markdown",
   "metadata": {},
   "source": [
    "##### **(`PLUS`)** 좌측 행렬의 행 벡터 개수와 우측 행렬의 열 벡터 개수가 동일해야만 곱연산이 정의됨"
   ]
  },
  {
   "cell_type": "markdown",
   "metadata": {},
   "source": [
    "#### **(2) 공리** (Theorem 2-2) : 어떠한 행렬 $ A, B $와 스칼라 $ c $가 존재할 때 아래가 성립함\n",
    "##### $ \\hspace{0.15cm} $ ① $ A(BC) = ABC $\n",
    "##### $ \\hspace{0.15cm} $ ② $ A(B + C) + C = AB + AC $\n",
    "##### $ \\hspace{0.15cm} $ ③ $ (B + C)A = BA + CA $\n",
    "##### $ \\hspace{0.15cm} $ ④ $ c(AB) = (cA)B $\n",
    "##### $ \\hspace{0.15cm} $ ⑤ $ I_{m}A = A = AI_{n} $"
   ]
  },
  {
   "cell_type": "markdown",
   "metadata": {},
   "source": [
    "##### **(`PLUS`) 행렬곱 연산 주의 사항** : \n",
    "##### $ \\hspace{0.15cm} $ ① 일반적으로 $ AB \\neq{} BA $\n",
    "##### $ \\hspace{0.45cm} AB = \\begin{bmatrix} 5 & 1 \\\\ 3 & -2 \\end{bmatrix} \\begin{bmatrix} 2 & 0 \\\\ 4 & 3 \\end{bmatrix} = \\begin{bmatrix} 14 & 3 \\\\ -2 & -6 \\end{bmatrix} $ \n",
    "##### $ \\hspace{0.45cm} BA = \\begin{bmatrix} 2 & 0 \\\\ 4 & 3 \\end{bmatrix} \\begin{bmatrix} 5 & 1 \\\\ 3 & -2 \\end{bmatrix} = \\begin{bmatrix} 10 & 2 \\\\ 29 & -2 \\end{bmatrix} $\n",
    "##### $ \\hspace{0.45cm} \\therefore{} AB \\neq{} BA $ \n",
    "##### $ \\hspace{0.15cm} $ ② $ AB = AC $가 성립하더라도, 일반적으로 $ B \\neq{} C $\n",
    "##### $ \\hspace{0.45cm} AC = \\begin{bmatrix} 2 & -3 \\\\ 4 & 6 \\end{bmatrix} \\begin{bmatrix} 8 & 4 \\\\ 5 & 5 \\end{bmatrix} = \\begin{bmatrix} 1 & -7 \\\\ -2 & 14 \\end{bmatrix} $ \n",
    "##### $ \\hspace{0.45cm} AC = \\begin{bmatrix} 2 & -3 \\\\ 4 & 6 \\end{bmatrix} \\begin{bmatrix} 5 & -2 \\\\ 3 & 1 \\end{bmatrix} = \\begin{bmatrix} 1 & -7 \\\\ -2 & 14 \\end{bmatrix} $\n",
    "##### $ \\hspace{0.45cm} \\therefore{} AB = AC \\; \\text{ however } \\; B \\neq{} C $\n",
    "##### $ \\hspace{0.15cm} $ ① $ AB = 0 $가 성립하더라도, 일반적으로 $ A \\neq{} 0 \\; \\text{ or } \\; B \\neq{} 0 $ \n",
    "##### $ \\hspace{0.45cm} AB = \\begin{bmatrix} 3 & -6 \\\\ -1 & 2 \\end{bmatrix} \\begin{bmatrix} 2 & 6 \\\\ 1 & 3 \\end{bmatrix} = \\begin{bmatrix} 0 & 0 \\\\ 0 & 0 \\end{bmatrix} $\n",
    "##### $ \\hspace{0.45cm} \\therefore{} AB = 0 \\; \\text{ however } \\; A \\neq{} 0 \\;  \\text{ or } \\; B \\neq{} 0 $ "
   ]
  },
  {
   "cell_type": "markdown",
   "metadata": {},
   "source": [
    "<b></b>"
   ]
  },
  {
   "cell_type": "markdown",
   "metadata": {},
   "source": [
    "> ## (Thorem 2-10) **Column-Row Expansion of $ AB $**"
   ]
  },
  {
   "cell_type": "markdown",
   "metadata": {},
   "source": [
    "#### 어떠한 행렬 $ \\underset{m\\times{}n}{A} $와 $ \\underset{n\\times{}p}{B} $가 존재할 때 아래와 같이 표현 가능하다.\n",
    "#### $ \\Rightarrow{} \\underset{m\\times{}p}{AB} = \\begin{bmatrix} \\textbf{a}_{1} & \\textbf{a}_{2} & \\cdots{} & \\textbf{a}_{n} \\end{bmatrix} \\begin{bmatrix} \\textbf{b}_{1}^{T} \\\\ \\textbf{b}_{2}^{T} \\\\ \\vdots{} \\\\ \\textbf{b}_{n}^{T} \\end{bmatrix} = \\textbf{a}_{1}\\textbf{b}_{1}^{T} + \\textbf{a}_{2}\\textbf{b}_{2}^{T} + \\cdots{} + \\textbf{a}_{n}\\textbf{b}_{n}^{T} $ "
   ]
  },
  {
   "cell_type": "markdown",
   "metadata": {},
   "source": [
    "<b></b>"
   ]
  },
  {
   "cell_type": "markdown",
   "metadata": {},
   "source": [
    "> ## **전치 행렬(Transpose Matrix)**"
   ]
  },
  {
   "cell_type": "markdown",
   "metadata": {},
   "source": [
    "#### **(1) 정의** : 행과 열의 성분을 바꾼 행렬\n",
    "#### $ \\Rightarrow{} \\begin{bmatrix} a_{1,1} & a_{1,2} & \\cdots{} & a_{1,n} \\\\ a_{2,1} & a_{2,2} & \\cdots{} & a_{2,n} \\\\ \\vdots{} & \\vdots{} & \\ddots{} & \\vdots{} \\\\ a_{m,1} & a_{m,2} & \\cdots{} & a_{m,n} \\end{bmatrix}^{T} = \\begin{bmatrix} a_{1,1} & a_{1,2} & \\cdots{} & a_{1,n} \\\\ a_{2,1} & a_{2,2} & \\cdots{} & a_{2,n} \\\\ \\vdots{} & \\vdots{} & \\ddots{} & \\vdots{} \\\\ a_{m,1} & a_{m,2} & \\cdots{} & a_{m,n} \\end{bmatrix} $"
   ]
  },
  {
   "cell_type": "markdown",
   "metadata": {},
   "source": [
    "#### **(2) 성질** (Theorem 1-3) : 어떠한 행렬 $ A, B $와 스칼라 $ r $이 존재할 때 아래가 성립함\n",
    "##### $ \\hspace{0.15cm} $ ① $ (A^{T})^{T} = A $\n",
    "##### $ \\hspace{0.15cm} $ ② $ (rA)^{T} = rA^{T} $\n",
    "##### $ \\hspace{0.15cm} $ ③ $ (AB)^{T} = B^{T} A^{T} $\n",
    "##### $ \\hspace{0.15cm} $ ④ $ (A+B)^{T} = A^{T} + B^{T} $"
   ]
  }
 ],
 "metadata": {
  "kernelspec": {
   "display_name": "Python 3",
   "language": "python",
   "name": "python3"
  },
  "language_info": {
   "codemirror_mode": {
    "name": "ipython",
    "version": 3
   },
   "file_extension": ".py",
   "mimetype": "text/x-python",
   "name": "python",
   "nbconvert_exporter": "python",
   "pygments_lexer": "ipython3",
   "version": "3.11.3"
  },
  "orig_nbformat": 4
 },
 "nbformat": 4,
 "nbformat_minor": 2
}
