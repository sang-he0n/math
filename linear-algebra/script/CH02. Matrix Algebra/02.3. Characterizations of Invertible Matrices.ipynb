{
 "cells": [
  {
   "attachments": {},
   "cell_type": "markdown",
   "metadata": {},
   "source": [
    "# CH02.3. **Characterizations of Invertible Matrices**"
   ]
  },
  {
   "cell_type": "markdown",
   "metadata": {},
   "source": [
    "> ## (Thorem 2-8) **Characterizations of The invertible Matrix**"
   ]
  },
  {
   "cell_type": "markdown",
   "metadata": {},
   "source": [
    "#### 정방 행렬 $ \\underset{n\\times{}n}{A} $가 존재하고, 아래의 명제들은 전부 옳거나 전부 틀리다."
   ]
  },
  {
   "cell_type": "markdown",
   "metadata": {},
   "source": [
    "#### **(1)** 행렬 $ A $는 가역 행렬(invertible matrix)이다."
   ]
  },
  {
   "cell_type": "markdown",
   "metadata": {},
   "source": [
    "#### **(2)** 행렬 $ A^{T} $는 가역 행렬이다. "
   ]
  },
  {
   "cell_type": "markdown",
   "metadata": {},
   "source": [
    "#### **(3)** 행렬 연산 $ CA = I \\, $를 만족하는 정방 행렬 $ C $가 존재한다."
   ]
  },
  {
   "cell_type": "markdown",
   "metadata": {},
   "source": [
    "#### **(4)** 행렬 연산 $ AD = I \\, $를 만족하는 정방 행렬 $ D $가 존재한다."
   ]
  },
  {
   "cell_type": "markdown",
   "metadata": {},
   "source": [
    "#### **(5)** 행렬 $ A $는 $ n $개의 피봇 포지션(pivot position)을 갖는다."
   ]
  },
  {
   "cell_type": "markdown",
   "metadata": {},
   "source": [
    "#### **(6)** 행렬 $ A $는 $ I $와 행 상동(row equivalent)하다. "
   ]
  },
  {
   "cell_type": "markdown",
   "metadata": {},
   "source": [
    "#### **(7)** 행렬 $ A $의 열 벡터 집합은 선형 독립(linearly dependent) 관계이다."
   ]
  },
  {
   "cell_type": "markdown",
   "metadata": {},
   "source": [
    "#### **(8)** 행렬 $ A $의 열 벡터 집합은 $ \\mathbb{R}^{n} $ 공간을 선형 생성(span)한다."
   ]
  },
  {
   "cell_type": "markdown",
   "metadata": {},
   "source": [
    "#### **(9)** 선형 방정식 $ A\\textbf{x} = \\textbf{b} \\, $의 해집합은 유일해를 갖는다. $ \\;\\; $ ($ \\because{} $ Theorem 2-5)"
   ]
  },
  {
   "cell_type": "markdown",
   "metadata": {},
   "source": [
    "#### **(10)** 선형 방정식 $ A\\textbf{x} = \\textbf{0} \\, $의 해집합은 오직 자명해($ \\textbf{x} = \\textbf{0} $)이다."
   ]
  },
  {
   "cell_type": "markdown",
   "metadata": {},
   "source": [
    "#### **(11)** 선형 변환 $ T(\\textbf{x}) : \\textbf{x} \\longmapsto{} A\\textbf{x} $ 은 $ \\mathbb{R}^{n} $ 공간에서 $ \\mathbb{R}^{n} $ 공간으로 단사(one-to-one) 관계이다."
   ]
  },
  {
   "cell_type": "markdown",
   "metadata": {},
   "source": [
    "#### **(12)** 선형 변환 $ T(\\textbf{x}) : \\textbf{x} \\longmapsto{} A\\textbf{x} $ 은 $ \\mathbb{R}^{n} $ 공간에서 $ \\mathbb{R}^{n} $ 공간으로 전사(onto) 관계이다."
   ]
  },
  {
   "cell_type": "markdown",
   "metadata": {},
   "source": [
    "<b></b>"
   ]
  },
  {
   "cell_type": "markdown",
   "metadata": {},
   "source": [
    "> ## (Theorem 2-9) **가역 선형 변환(Invertible Linear Transformation)**"
   ]
  },
  {
   "cell_type": "markdown",
   "metadata": {},
   "source": [
    "#### **(1)** $ \\mathbb{R}^{n} $ 공간에서 $ \\mathbb{R}^{n} $ 공간으로 변환하는 선형 변환 $ T(\\textbf{x}),\\, S(\\textbf{x}) $가 아래의 조건을 만족하면 $ T(\\textbf{x}) $는 가역(invertible)이다.\n",
    "#### $ \\Rightarrow{} T(\\textbf{x}) \\, \\text{ is invertible}. \\;\\; \\text{ if } \\; (S\\circ{}T)(\\textbf{x}) = S(T(\\textbf{x}))= \\textbf{x}, \\;\\; (T\\circ{}S)(\\textbf{x}) = \\textbf{x} \\;\\; \\forall{} \\; \\textbf{x} \\in{} \\mathbb{R}^{n} $"
   ]
  },
  {
   "cell_type": "markdown",
   "metadata": {},
   "source": [
    "#### **(2)** 선형 변환 $ T(\\textbf{x}) $가 가역이며 표준 행렬이 $ A $라면, $ S(\\textbf{x}) $의 표준 행렬은 $ A^{-1} $이다.\n",
    "#### $ \\Rightarrow{} T(\\textbf{x}) = A\\textbf{x}, \\;\\; S(\\textbf{x}) = A^{-1}\\textbf{x} \\;\\; \\text{ if } \\; T(\\textbf{x}) = A\\textbf{x} \\, \\text{ is invertible.} $"
   ]
  }
 ],
 "metadata": {
  "kernelspec": {
   "display_name": "Python 3",
   "language": "python",
   "name": "python3"
  },
  "language_info": {
   "codemirror_mode": {
    "name": "ipython",
    "version": 3
   },
   "file_extension": ".py",
   "mimetype": "text/x-python",
   "name": "python",
   "nbconvert_exporter": "python",
   "pygments_lexer": "ipython3",
   "version": "3.11.3"
  },
  "orig_nbformat": 4
 },
 "nbformat": 4,
 "nbformat_minor": 2
}
