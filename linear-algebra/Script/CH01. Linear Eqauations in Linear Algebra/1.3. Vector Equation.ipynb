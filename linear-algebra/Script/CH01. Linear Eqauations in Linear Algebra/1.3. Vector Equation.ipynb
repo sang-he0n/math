{
 "cells": [
  {
   "attachments": {},
   "cell_type": "markdown",
   "metadata": {},
   "source": [
    "# CH01.3. **Vector Equations**"
   ]
  },
  {
   "attachments": {},
   "cell_type": "markdown",
   "metadata": {},
   "source": [
    "> ## **Vectors in &nbsp;$\\mathbb{R}^{2}$**"
   ]
  },
  {
   "attachments": {},
   "cell_type": "markdown",
   "metadata": {},
   "source": [
    "#### **(1) 벡터표기법**\n",
    "#### $ \\textbf{u} = \\overrightarrow{u} = \\begin{bmatrix} 3\\\\2 \\end{bmatrix} = (3, 2) $\n",
    "#### $ \\textbf{v} = \\overrightarrow{v} = \\begin{bmatrix} 0.2\\\\0.3 \\end{bmatrix} = (0.2, 0.3) $\n",
    "#### $ \\textbf{w} = \\overrightarrow{w} = \\begin{bmatrix} w_1\\\\w_2 \\end{bmatrix} = (w_1, w_2) $ &nbsp;&nbsp;&nbsp;&nbsp;&nbsp; ※ $w_n$ is componenet(entry)"
   ]
  },
  {
   "cell_type": "markdown",
   "metadata": {},
   "source": [
    "#### **(PLUS)** 아래 두 표기를 병행하면 안됨\n",
    "#### $(w_1, w_2) \\neq [w_1, w_2]$"
   ]
  },
  {
   "attachments": {},
   "cell_type": "markdown",
   "metadata": {},
   "source": [
    "#### **(2) 벡터 합**\n",
    "#### $ \\textbf{u} + \\textbf{v} = \\begin{bmatrix} 3\\\\2 \\end{bmatrix} + \\begin{bmatrix} 0.2\\\\0.3 \\end{bmatrix} = \\begin{bmatrix} 3+0.2\\\\2+0.3 \\end{bmatrix} = \\begin{bmatrix} 3.2\\\\2.3 \\end{bmatrix}$"
   ]
  },
  {
   "attachments": {},
   "cell_type": "markdown",
   "metadata": {},
   "source": [
    "#### **(3) 스칼라 곱**\n",
    "#### $ 3 \\times \\textbf{u} = \\textbf{3u}= 3 \\times \\begin{bmatrix} 3\\\\2 \\end{bmatrix} = \\begin{bmatrix} 3 \\times 3\\\\3 \\times 2 \\end{bmatrix} = \\begin{bmatrix} 9\\\\6 \\end{bmatrix}$\n",
    "<b></b>"
   ]
  },
  {
   "attachments": {},
   "cell_type": "markdown",
   "metadata": {},
   "source": [
    "> ## **Geometric descriptions of &nbsp;$\\mathbb{R}^2$**"
   ]
  },
  {
   "cell_type": "markdown",
   "metadata": {},
   "source": [
    "#### **(1) 벡터 합**\n",
    "#### $ \\textbf{u} = \\begin{bmatrix} 3\\\\2 \\end{bmatrix} \\;\\, \\textbf{v} = \\begin{bmatrix} -6\\\\1 \\end{bmatrix} \\;\\, \\textbf{w} = \\textbf{u} + \\textbf{v} = \\begin{bmatrix} -4\\\\3 \\end{bmatrix}$\n",
    "<img src=\"../../png/1.3 Vector Equation (1).png\" width=\"30%\" height=\"30%\"/></img>\n",
    "<b></b>"
   ]
  },
  {
   "cell_type": "markdown",
   "metadata": {},
   "source": [
    "#### **(2) 스칼라 곱**\n",
    "#### $ \\textbf{u} = \\begin{bmatrix} 1\\\\2 \\end{bmatrix}$ &nbsp;&nbsp;&nbsp;$ 2\\textbf{u} = \\begin{bmatrix} 2\\\\4 \\end{bmatrix}$\n",
    "<img src=\"../../png/1.3 Vector Equation (2).png\" width=\"30%\" height=\"30%\"/></img>\n",
    "<b></b>"
   ]
  },
  {
   "cell_type": "markdown",
   "metadata": {},
   "source": [
    "> ## **Algebraic properties of &nbsp;$\\mathbb{R}^{n}$**"
   ]
  },
  {
   "attachments": {},
   "cell_type": "markdown",
   "metadata": {},
   "source": [
    "#### $ when \\;\\, \\{ \\textbf{u}, \\textbf{v}, \\textbf{w} \\} \\in \\mathbb{R}^n \\;\\, and \\;\\, \\{ c, d \\}\\in \\mathbb{R}^1 $\n",
    "#### (1) $ \\textbf{u} + \\textbf{v} = \\textbf{v} + \\textbf{u} $\n",
    "#### (2) $ (\\textbf{u} + \\textbf{v}) + \\textbf{w} = \\textbf{v} + (\\textbf{u} + \\textbf{w}) $\n",
    "#### (3) $ \\textbf{u} + \\textbf{0} = \\textbf{0} + \\textbf{u} = \\textbf{u} $\n",
    "#### (4) $ \\textbf{u} + (-\\textbf{u}) = (-\\textbf{u}) + \\textbf{u} = \\textbf{0}$\n",
    "#### (5) $ c(\\textbf{u} + \\textbf{v}) = c\\textbf{v} + c\\textbf{u} $\n",
    "#### (6) $ (c+d)\\textbf{u} = c\\textbf{u} + d\\textbf{u} $\n",
    "#### (7) $ c(d\\textbf{u}) = (cd)\\textbf{u} $\n",
    "#### (8) $ 1\\textbf{u} = \\textbf{u} $"
   ]
  },
  {
   "cell_type": "markdown",
   "metadata": {},
   "source": [
    "#### **(PLUS)** $ c + \\textbf{u} \\;\\, is \\;\\, not \\;\\, defined. $\n",
    "<b></b>"
   ]
  },
  {
   "cell_type": "markdown",
   "metadata": {},
   "source": [
    "> ## **Linear Combination**"
   ]
  },
  {
   "attachments": {},
   "cell_type": "markdown",
   "metadata": {},
   "source": [
    "#### **(1) 정의** : 여러 개의 벡터와 벡터에 대응되는 가중치(계수)가 주어졌을 각 스칼라곱 및 벡터합을 행하는 연산 \n",
    "#### **(2) 수식**\n",
    "#### $ when \\;\\, \\{ \\textbf{v}_1, \\textbf{v}_2, \\, \\cdots, \\textbf{v}_p \\} \\in \\mathbb{R}^n \\;\\, and \\;\\, \\{ c_1, c_2, \\, \\cdots, c_p \\}\\in \\mathbb{R}^1 $\n",
    "#### $ \\textbf{y} = c_1\\textbf{v}_1 + c_2\\textbf{v}_2 + \\cdots + c_p\\textbf{v}_p$\n",
    "#### **$ \\textbf{y} \\; $ is linear combination of $ \\; \\textbf{v}_1, \\textbf{v}_2, \\, \\cdots, \\textbf{v}_p \\; $ with weight $ \\; c_1, c_2, \\, \\cdots, c_p $**"
   ]
  },
  {
   "cell_type": "markdown",
   "metadata": {},
   "source": [
    "#### **(PLUS)** \n",
    "#### can $\\textbf{b}$ be generated as a linear combination of $ \\{ \\textbf{a}_1 , \\textbf{a}_2 \\} $  \n",
    "#### = Does the following augmented matrix have a solution? $ \\begin{bmatrix} \\textbf{a}_1,\\, \\textbf{a}_2,\\, \\textbf{b} \\end{bmatrix} $\n",
    "<b></b>"
   ]
  },
  {
   "cell_type": "markdown",
   "metadata": {},
   "source": [
    "> ## **Span**"
   ]
  },
  {
   "attachments": {},
   "cell_type": "markdown",
   "metadata": {},
   "source": [
    "#### **(1) 정의** : 유한 개의 벡터들의 **선형 결합(linear combination)으로 이루어진 모든 벡터들**의 집합"
   ]
  },
  {
   "cell_type": "markdown",
   "metadata": {},
   "source": [
    "#### **(2) 기하학적 표현**"
   ]
  },
  {
   "cell_type": "markdown",
   "metadata": {},
   "source": [
    "<img src=\"../../png/1.3 Vector Equation (3).png\" width=\"30%\" height=\"30%\"/></img>"
   ]
  },
  {
   "cell_type": "markdown",
   "metadata": {},
   "source": [
    "#### **(PLUS)** \n",
    "#### Is a vector $ \\textbf{b} $ in span $ \\{ \\textbf{v}_1, \\cdots, \\textbf{v}_p \\} \\; $ ? \n",
    "#### = Does the following vector equation have a solution ? $ x_1\\textbf{v}_1 + x_1\\textbf{v}_2 + \\cdots + x_p\\textbf{v}_p = \\textbf{b} \\;\\, where \\;\\, \\{ x_1, x_2, \\, \\cdots, x_p \\}\\in \\mathbb{R}^1$\n",
    "#### = Does the following augmented matrix have a solution ? $ \\begin{bmatrix} \\textbf{v}_1,\\, \\textbf{v}_2,\\, \\textbf{b} \\end{bmatrix} $\n",
    "<b></b>"
   ]
  }
 ],
 "metadata": {
  "kernelspec": {
   "display_name": "Python 3",
   "language": "python",
   "name": "python3"
  },
  "language_info": {
   "codemirror_mode": {
    "name": "ipython",
    "version": 3
   },
   "file_extension": ".py",
   "mimetype": "text/x-python",
   "name": "python",
   "nbconvert_exporter": "python",
   "pygments_lexer": "ipython3",
   "version": "3.11.3"
  },
  "orig_nbformat": 4
 },
 "nbformat": 4,
 "nbformat_minor": 2
}
