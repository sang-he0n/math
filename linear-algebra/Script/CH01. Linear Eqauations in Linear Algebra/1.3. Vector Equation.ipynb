{
 "cells": [
  {
   "attachments": {},
   "cell_type": "markdown",
   "metadata": {},
   "source": [
    "## CH01.3. <b>Vector Equations</b>"
   ]
  },
  {
   "attachments": {},
   "cell_type": "markdown",
   "metadata": {},
   "source": [
    "### 1) **Vectors in $\\mathbb{R}^2$**"
   ]
  },
  {
   "attachments": {},
   "cell_type": "markdown",
   "metadata": {},
   "source": [
    "#### (1) Vector notation\n",
    "#### $ \\textbf{u} = \\overrightarrow{u} = \\begin{bmatrix} 3\\\\2 \\end{bmatrix} = (3, 2) $\n",
    "#### $ \\textbf{v} = \\overrightarrow{v} = \\begin{bmatrix} 0.2\\\\0.3 \\end{bmatrix} = (0.2, 0.3) $\n",
    "#### $ \\textbf{w} = \\overrightarrow{w} = \\begin{bmatrix} w_1\\\\w_2 \\end{bmatrix} = (w_1, w_2) $ &nbsp;&nbsp;&nbsp;&nbsp;&nbsp; ※ $w_n$ is componenet(entry)\n",
    "##### **(PLUS)** $(w_1, w_2) \\neq [w_1, w_2]$"
   ]
  },
  {
   "attachments": {},
   "cell_type": "markdown",
   "metadata": {},
   "source": [
    "#### (2) Vector summation\n",
    "#### $ \\textbf{u} + \\textbf{v} = \\begin{bmatrix} 3\\\\2 \\end{bmatrix} + \\begin{bmatrix} 0.2\\\\0.3 \\end{bmatrix} = \\begin{bmatrix} 3+0.2\\\\2+0.3 \\end{bmatrix} = \\begin{bmatrix} 3.2\\\\2.3 \\end{bmatrix}$"
   ]
  },
  {
   "attachments": {},
   "cell_type": "markdown",
   "metadata": {},
   "source": [
    "#### (3) Scalar multiplication\n",
    "#### $ 3 \\times \\textbf{u} = \\textbf{3u}= 3 \\times \\begin{bmatrix} 3\\\\2 \\end{bmatrix} = \\begin{bmatrix} 3 \\times 3\\\\3 \\times 2 \\end{bmatrix} = \\begin{bmatrix} 9\\\\6 \\end{bmatrix}$"
   ]
  },
  {
   "attachments": {},
   "cell_type": "markdown",
   "metadata": {},
   "source": [
    "### 2) **Geometric descriptions of $\\mathbb{R}^2$**\n",
    "<b></b>"
   ]
  },
  {
   "attachments": {},
   "cell_type": "markdown",
   "metadata": {},
   "source": [
    "### 3) **Geometric descriptions of $\\mathbb{R}^3$**\n",
    "<b></b>"
   ]
  },
  {
   "attachments": {},
   "cell_type": "markdown",
   "metadata": {},
   "source": [
    "### 4) **Algebraic properties of $\\mathbb{R}^3$**"
   ]
  },
  {
   "attachments": {},
   "cell_type": "markdown",
   "metadata": {},
   "source": [
    "##### (1)"
   ]
  },
  {
   "attachments": {},
   "cell_type": "markdown",
   "metadata": {},
   "source": [
    "##### (2)"
   ]
  },
  {
   "attachments": {},
   "cell_type": "markdown",
   "metadata": {},
   "source": [
    "##### (3)"
   ]
  },
  {
   "attachments": {},
   "cell_type": "markdown",
   "metadata": {},
   "source": [
    "##### (4)"
   ]
  },
  {
   "attachments": {},
   "cell_type": "markdown",
   "metadata": {},
   "source": [
    "##### (5)"
   ]
  },
  {
   "attachments": {},
   "cell_type": "markdown",
   "metadata": {},
   "source": [
    "##### (6)"
   ]
  },
  {
   "attachments": {},
   "cell_type": "markdown",
   "metadata": {},
   "source": [
    "##### (7)"
   ]
  },
  {
   "attachments": {},
   "cell_type": "markdown",
   "metadata": {},
   "source": [
    "##### (8)\n",
    "<b><b/>"
   ]
  },
  {
   "attachments": {},
   "cell_type": "markdown",
   "metadata": {},
   "source": [
    "### 5) **Linear Combination**\n",
    "#### contents\n",
    "<b></b>"
   ]
  },
  {
   "attachments": {},
   "cell_type": "markdown",
   "metadata": {},
   "source": [
    "### 6) **Span**\n",
    "#### contents\n",
    "<br></br>"
   ]
  },
  {
   "cell_type": "markdown",
   "metadata": {},
   "source": []
  }
 ],
 "metadata": {
  "kernelspec": {
   "display_name": "Python 3",
   "language": "python",
   "name": "python3"
  },
  "language_info": {
   "codemirror_mode": {
    "name": "ipython",
    "version": 3
   },
   "file_extension": ".py",
   "mimetype": "text/x-python",
   "name": "python",
   "nbconvert_exporter": "python",
   "pygments_lexer": "ipython3",
   "version": "3.11.3"
  },
  "orig_nbformat": 4
 },
 "nbformat": 4,
 "nbformat_minor": 2
}
