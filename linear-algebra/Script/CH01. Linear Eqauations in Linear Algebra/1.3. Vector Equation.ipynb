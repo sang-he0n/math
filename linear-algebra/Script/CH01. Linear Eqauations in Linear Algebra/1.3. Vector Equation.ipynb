{
 "cells": [
  {
   "attachments": {},
   "cell_type": "markdown",
   "metadata": {},
   "source": [
    "## CH01.3. <b>Vector Equations</b>"
   ]
  },
  {
   "attachments": {},
   "cell_type": "markdown",
   "metadata": {},
   "source": [
    "### 1) **Vectors in $\\mathbb{R}^2$**"
   ]
  },
  {
   "attachments": {},
   "cell_type": "markdown",
   "metadata": {},
   "source": [
    "#### (1) Vector notation\n",
    "#### $ \\textbf{u} = \\overrightarrow{u} = \\begin{bmatrix} 3\\\\2 \\end{bmatrix} = (3, 2) $\n",
    "#### $ \\textbf{v} = \\overrightarrow{v} = \\begin{bmatrix} 0.2\\\\0.3 \\end{bmatrix} = (0.2, 0.3) $\n",
    "#### $ \\textbf{w} = \\overrightarrow{w} = \\begin{bmatrix} w_1\\\\w_2 \\end{bmatrix} = (w_1, w_2) $ &nbsp;&nbsp;&nbsp;&nbsp;&nbsp; ※ $w_n$ is componenet(entry)\n",
    "##### **(PLUS)** $(w_1, w_2) \\neq [w_1, w_2]$"
   ]
  },
  {
   "attachments": {},
   "cell_type": "markdown",
   "metadata": {},
   "source": [
    "#### (2) Vector summation\n",
    "#### $ \\textbf{u} + \\textbf{v} = \\begin{bmatrix} 3\\\\2 \\end{bmatrix} + \\begin{bmatrix} 0.2\\\\0.3 \\end{bmatrix} = \\begin{bmatrix} 3+0.2\\\\2+0.3 \\end{bmatrix} = \\begin{bmatrix} 3.2\\\\2.3 \\end{bmatrix}$"
   ]
  },
  {
   "attachments": {},
   "cell_type": "markdown",
   "metadata": {},
   "source": [
    "#### (3) Scalar multiplication\n",
    "#### $ 3 \\times \\textbf{u} = \\textbf{3u}= 3 \\times \\begin{bmatrix} 3\\\\2 \\end{bmatrix} = \\begin{bmatrix} 3 \\times 3\\\\3 \\times 2 \\end{bmatrix} = \\begin{bmatrix} 9\\\\6 \\end{bmatrix}$"
   ]
  },
  {
   "attachments": {},
   "cell_type": "markdown",
   "metadata": {},
   "source": [
    "### 2) **Geometric descriptions of $\\mathbb{R}^2$**"
   ]
  },
  {
   "attachments": {},
   "cell_type": "markdown",
   "metadata": {},
   "source": [
    "#### $ \\textbf{u} = \\begin{bmatrix} 3\\\\2 \\end{bmatrix} \\;\\, \\textbf{v} = \\begin{bmatrix} -6\\\\1 \\end{bmatrix} \\;\\, \\textbf{w} = \\textbf{u} + \\textbf{v} = \\begin{bmatrix} -4\\\\3 \\end{bmatrix}$\n",
    "<img src=\"../png/1.3.%20geomatric%20of%20vector.png\" width=\"50%\" height=\"50%\"/>\n",
    "<b></b>"
   ]
  },
  {
   "attachments": {},
   "cell_type": "markdown",
   "metadata": {},
   "source": [
    "### 3) **Algebraic properties of $\\mathbb{R}^3$**"
   ]
  },
  {
   "attachments": {},
   "cell_type": "markdown",
   "metadata": {},
   "source": [
    "#### $ when \\;\\, \\{ \\textbf{u}, \\textbf{v}, \\textbf{w} \\} \\in \\mathbb{R}^n \\;\\, and \\;\\, \\{ c, d \\}\\in \\mathbb{R}^1 $\n",
    "#### (1) $ \\textbf{u} + \\textbf{v} = \\textbf{v} + \\textbf{u} $\n",
    "#### (2) $ (\\textbf{u} + \\textbf{v}) + \\textbf{w} = \\textbf{v} + (\\textbf{u} + \\textbf{w}) $\n",
    "#### (3) $ \\textbf{u} + \\textbf{0} = \\textbf{0} + \\textbf{u} = \\textbf{u} $\n",
    "#### (4) $ \\textbf{u} + (-\\textbf{u}) = (-\\textbf{u}) + \\textbf{u} = \\textbf{0}$\n",
    "#### (5) $ c(\\textbf{u} + \\textbf{v}) = c\\textbf{v} + c\\textbf{u} $\n",
    "#### (6) $ (c+d)\\textbf{u} = c\\textbf{u} + d\\textbf{u} $\n",
    "#### (7) $ c(d\\textbf{u}) = (cd)\\textbf{u} $\n",
    "#### (8) $ 1\\textbf{u} = \\textbf{u} $\n",
    "#### **(PLUS)** $ c + \\textbf{u} \\;\\, is \\;\\, not \\;\\, defined. $\n",
    "<b></b>"
   ]
  },
  {
   "attachments": {},
   "cell_type": "markdown",
   "metadata": {},
   "source": [
    "### 4) **Linear Combination**\n",
    "#### $ when \\;\\, \\{ \\textbf{v}_1, \\textbf{v}_2, \\, \\cdots, \\textbf{v}_p \\} \\in \\mathbb{R}^n \\;\\, and \\;\\, \\{ c_1, c_2, \\, \\cdots, c_p \\}\\in \\mathbb{R}^1 $\n",
    "#### $ \\textbf{y} = c_1\\textbf{v}_1 + c_2\\textbf{v}_2 + \\cdots + c_p\\textbf{v}_p$\n",
    "#### **$ \\textbf{y} \\; $ is linear combination of $ \\; \\textbf{v}_1, \\textbf{v}_2, \\, \\cdots, \\textbf{v}_p \\; $ with weight $ \\; c_1, c_2, \\, \\cdots, c_p $**\n",
    "#### **(PLUS)** \n",
    "#### can $\\textbf{b}$ be generated as a linear combination of $ \\{ \\textbf{a}_1 , \\textbf{a}_2 \\} $  \n",
    "#### = Does the following augmented matrix have a solution? $ \\begin{bmatrix} \\textbf{a}_1,\\, \\textbf{a}_2,\\, \\textbf{b} \\end{bmatrix} $\n",
    "<b></b>"
   ]
  },
  {
   "attachments": {},
   "cell_type": "markdown",
   "metadata": {},
   "source": [
    "### 6) **Span**\n",
    "#### Span is the collection of all vectors that can be written in the form\n",
    "#### **(PLUS)** \n",
    "#### Is a vector $ \\textbf{b} $ in span $ \\{ \\textbf{v}_1, \\cdots, \\textbf{v}_p \\} \\; $ ? \n",
    "#### = Does the following vector equation have a solution ? $ x_1\\textbf{v}_1 + x_1\\textbf{v}_2 + \\cdots + x_p\\textbf{v}_p = \\textbf{b} \\;\\, where \\;\\, \\{ x_1, x_2, \\, \\cdots, x_p \\}\\in \\mathbb{R}^1$\n",
    "#### = Does the following augmented matrix have a solution ? $ \\begin{bmatrix} \\textbf{v}_1,\\, \\textbf{v}_2,\\, \\textbf{b} \\end{bmatrix} $\n",
    "<br></br>"
   ]
  }
 ],
 "metadata": {
  "kernelspec": {
   "display_name": "Python 3",
   "language": "python",
   "name": "python3"
  },
  "language_info": {
   "codemirror_mode": {
    "name": "ipython",
    "version": 3
   },
   "file_extension": ".py",
   "mimetype": "text/x-python",
   "name": "python",
   "nbconvert_exporter": "python",
   "pygments_lexer": "ipython3",
   "version": "3.11.3"
  },
  "orig_nbformat": 4
 },
 "nbformat": 4,
 "nbformat_minor": 2
}
