{
 "cells": [
  {
   "attachments": {},
   "cell_type": "markdown",
   "metadata": {},
   "source": [
    "# CH01.7. **Linear Transformation**"
   ]
  },
  {
   "cell_type": "markdown",
   "metadata": {},
   "source": [
    "> ## **Transformation**"
   ]
  },
  {
   "cell_type": "markdown",
   "metadata": {},
   "source": [
    "#### **(1) 정의**\n",
    "#### $ \\mathbb{R}^{n} $ 차원에 있는 집합을 함수 $ T $ 을 통해 $\\; \\mathbb{R}^{m} $ 차원에 있는 집합으로 **변환**하는 연산\n",
    "#### = 선형대수학에서는 n차원 벡터를 m차원 벡터로 이동(매핑, 변환)하는 연산으로 정의\n",
    "<img src=\"../../png/1.7 Linear Transformation (1).png\" width=\"30%\" height=\"30%\"/></img>"
   ]
  },
  {
   "cell_type": "markdown",
   "metadata": {},
   "source": [
    "#### **(PLUS)** 이 때 $ \\mathbb{R}^{n} $ 공간을 Domain(정의역), $ \\mathbb{R}^{m} $ 공간을 Codomain(공역), 변환한 공간을 range(치역), 변환된 각각의 성분을 image로 정의"
   ]
  },
  {
   "cell_type": "markdown",
   "metadata": {},
   "source": [
    "> ## **Linear Transformation**"
   ]
  },
  {
   "cell_type": "markdown",
   "metadata": {
    "vscode": {
     "languageId": "plaintext"
    }
   },
   "source": [
    "#### **(1) 정의**\n",
    "#### $ \\mathbb{R}^{n} $ 차원에 있는 벡터 **공간** $ V $ 을 함수 $ T(\\textbf{x}) $ 을 통해 $\\; \\mathbb{R}^{m} $ 차원에 있는 벡터 **공간** $ W $ 로 **변환**하는 연산\n",
    "#### = 어떠한 n차원 벡터를 m차원 벡터로 이동(매핑, 변환)하는 연산이면서, 아래의 조건을 만족하는 연산 \n",
    "#### &nbsp;&nbsp; ① $ T( \\textbf{u}+\\textbf{v} ) = T(\\textbf{u})+T( \\textbf{u} ) $\n",
    "#### &nbsp;&nbsp; ② $ cT(\\textbf{u}) = T(c\\textbf{u}) $"
   ]
  },
  {
   "cell_type": "markdown",
   "metadata": {},
   "source": [
    "#### **(2) 형태**\n",
    "#### $ when \\;\\; T(\\textbf{x}) = \\begin{bmatrix} 0&-1 \\\\ 1&0 \\end{bmatrix} \\begin{bmatrix} x_{1} \\\\ x_{2} \\end{bmatrix}, \\; \\textbf{u} = \\begin{bmatrix} 4 \\\\ 1 \\end{bmatrix}, \\; \\textbf{v} = \\begin{bmatrix} 2 \\\\ 3 \\end{bmatrix} \\;\\; then$ \n",
    "#### $ T(\\textbf{u}) = \\begin{bmatrix} -1 \\\\ 4 \\end{bmatrix}, \\;\\; T(\\textbf{v}) = \\begin{bmatrix} -3 \\\\ 2 \\end{bmatrix} $\n",
    "<img src=\"../../png/1.7 Linear Transformation (2).png\" width=\"30%\" height=\"30%\"/></img>"
   ]
  },
  {
   "cell_type": "markdown",
   "metadata": {},
   "source": [
    "#### **(2) 표기법**\n",
    "#### &nbsp;&nbsp; ① $ \\; T : \\mathbb{R}^{n} \\rightarrow \\mathbb{R}^{m} $\n",
    "#### &nbsp;&nbsp; ② $ \\; \\textbf{x} \\longmapsto A\\textbf{X} $ \n",
    "#### &nbsp;&nbsp; ③ $ \\; \\textbf{x} \\;\\;\\;\\;\\; T(\\textbf(x)) \\;\\;\\;\\;\\; A\\textbf{x} $\n",
    "<b></b>"
   ]
  }
 ],
 "metadata": {
  "kernelspec": {
   "display_name": "Python 3",
   "language": "python",
   "name": "python3"
  },
  "language_info": {
   "codemirror_mode": {
    "name": "ipython",
    "version": 3
   },
   "file_extension": ".py",
   "mimetype": "text/x-python",
   "name": "python",
   "nbconvert_exporter": "python",
   "pygments_lexer": "ipython3",
   "version": "3.11.3"
  },
  "orig_nbformat": 4
 },
 "nbformat": 4,
 "nbformat_minor": 2
}
