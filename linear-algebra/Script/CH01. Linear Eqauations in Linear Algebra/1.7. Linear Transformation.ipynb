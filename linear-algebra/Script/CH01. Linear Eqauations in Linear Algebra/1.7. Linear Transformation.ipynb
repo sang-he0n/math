{
 "cells": [
  {
   "attachments": {},
   "cell_type": "markdown",
   "metadata": {},
   "source": [
    "## CH01.7. **Linear Transformation**"
   ]
  },
  {
   "cell_type": "markdown",
   "metadata": {},
   "source": [
    "> ## **Transformation**"
   ]
  },
  {
   "cell_type": "markdown",
   "metadata": {},
   "source": [
    "#### **(1) 정의**\n",
    "#### $ \\mathbb{R}^{n} $ 차원에 있는 집합을 함수 $ T $ 을 통해 $\\; \\mathbb{R}^{m} $ 차원에 있는 집합으로 **변환**하는 연산\n",
    "#### = 선형대수학에서는 n차원 벡터를 m차원 벡터로 이동(매핑, 변환)하는 연산으로 정의\n",
    "#### **[GRAPH]**"
   ]
  },
  {
   "cell_type": "markdown",
   "metadata": {},
   "source": [
    "#### **(PLUS)** 이 때 $ \\mathbb{R}^{n} $ 공간을 Domain(정의역), $ \\mathbb{R}^{m} $ 공간을 Codomain(공역), 변환한 공간을 range(치역)으로 정의"
   ]
  },
  {
   "cell_type": "markdown",
   "metadata": {},
   "source": [
    "#### **(2) 표기법**\n",
    "#### &nbsp;&nbsp; ① $ \\; T : \\mathbb{R}^{n} \\rightarrow \\mathbb{R}^{m} $\n",
    "<b></b>"
   ]
  },
  {
   "cell_type": "markdown",
   "metadata": {},
   "source": [
    "> ## **Matrix Transformation**"
   ]
  },
  {
   "cell_type": "markdown",
   "metadata": {},
   "source": [
    "#### **(1) 정의**\n",
    "#### 행렬과 벡터 간 곱셈을 통해 변환(transformation)을 하는 연산"
   ]
  },
  {
   "cell_type": "markdown",
   "metadata": {},
   "source": [
    "#### **(2) 형태**\n",
    "#### $ \\begin{bmatrix} 4&-3&1&3 \\\\ 2&0&5&1 \\end{bmatrix} \\begin{bmatrix} 1 \\\\ 1\\\\ 1 \\\\ 1 \\end{bmatrix} = \\begin{bmatrix} 5 \\\\ 8 \\end{bmatrix} $\n",
    "#### $ \\;\\;\\;\\;\\;\\;\\;\\;\\;\\;\\; A \\;\\;\\;\\;\\;\\;\\;\\;\\;\\;\\;\\;\\;\\; \\textbf{x} \\;\\; = \\;\\; \\textbf{b} $\n",
    "##### $ \\;\\;\\;\\;\\;\\;\\;\\;\\;\\;2 \\times 4 $ $ \\;\\;\\;\\;\\;\\;\\;\\; \\textbf{4} \\times 1 $ $ \\;\\;\\;\\; \\textbf{2} \\times 1 $\n",
    "#### ⇒ 이 때 행렬 $ A $ 는 (차원을 변환하는) 함수 $ \\; T $ 로 정의됨"
   ]
  },
  {
   "cell_type": "markdown",
   "metadata": {},
   "source": [
    "#### **(3) 표기법**\n",
    "#### &nbsp;&nbsp; ① $ \\; \\textbf{x} \\longmapsto A\\textbf{X} $ \n",
    "#### &nbsp;&nbsp; ③ $ \\; \\textbf{x} \\;\\;\\;\\;\\; T(\\textbf(x)) \\;\\;\\;\\;\\; A\\textbf{x} $\n",
    "##### &nbsp;&nbsp; $ \\;\\;\\; n \\times 1 \\;\\;\\;\\;\\;\\;\\;\\;\\;\\;\\;\\;\\;\\;\\;\\;\\;\\; m \\times 1 $\n",
    "<b></b>"
   ]
  },
  {
   "cell_type": "markdown",
   "metadata": {},
   "source": [
    "> ## **Linear Transformation**"
   ]
  },
  {
   "cell_type": "markdown",
   "metadata": {
    "vscode": {
     "languageId": "plaintext"
    }
   },
   "source": [
    "#### **(1) 정의**\n",
    "#### $ \\mathbb{R}^{n} $ 차원에 있는 벡터 **공간** $ V $ 을 함수 $ T(\\textbf{x}) $ 을 통해 $\\; \\mathbb{R}^{m} $ 차원에 있는 벡터 **공간** $ W $ 로 **변환**하는 연산\n",
    "#### = 어떠한 n차원 벡터를 m차원 벡터로 이동(매핑, 변환)하는 연산이면서, 아래의 조건을 만족하는 연산 \n",
    "#### &nbsp;&nbsp; ① $ T( \\textbf{u}+\\textbf{v} ) = T(\\textbf{u})+T( \\textbf{u} ) $\n",
    "#### &nbsp;&nbsp; ② $ cT(\\textbf{u}) = T(c\\textbf{u}) $"
   ]
  },
  {
   "cell_type": "markdown",
   "metadata": {},
   "source": [
    "#### **(2) 특징** : 행렬 변환(matrix transformation)은 항상 **선형 변환**임"
   ]
  },
  {
   "cell_type": "markdown",
   "metadata": {},
   "source": [
    "#### **(WHY?)** **정리5**에 의거해 행렬 연산은 선형성(Linearity)를 만족하기 때문"
   ]
  }
 ],
 "metadata": {
  "kernelspec": {
   "display_name": "Python 3",
   "language": "python",
   "name": "python3"
  },
  "language_info": {
   "codemirror_mode": {
    "name": "ipython",
    "version": 3
   },
   "file_extension": ".py",
   "mimetype": "text/x-python",
   "name": "python",
   "nbconvert_exporter": "python",
   "pygments_lexer": "ipython3",
   "version": "3.11.3"
  },
  "orig_nbformat": 4
 },
 "nbformat": 4,
 "nbformat_minor": 2
}
