{
 "cells": [
  {
   "attachments": {},
   "cell_type": "markdown",
   "metadata": {},
   "source": [
    "# CH01.5. **Solution Sets of Linear System**"
   ]
  },
  {
   "cell_type": "markdown",
   "metadata": {},
   "source": [
    "> ## **동차 선형 시스템(Homogeneous Linear System)**"
   ]
  },
  {
   "cell_type": "markdown",
   "metadata": {},
   "source": [
    "#### **(1) 정의** : 상수항 벡터 $ \\textbf{b} $가 영 벡터($ \\textbf{0} $)인 선형 시스템\n",
    "#### $ \\Rightarrow{} A\\textbf{x} = x_{1}\\textbf{a}_{1}+x_{2}\\textbf{a}_{2}+\\cdots{}+x_{n}\\textbf{a}_{n} = \\displaystyle\\sum^{n}_{i=1}x_{i}\\textbf{a}_{i} = \\underset{m\\times{}1}{\\textbf{b}} = \\textbf{0} $"
   ]
  },
  {
   "cell_type": "markdown",
   "metadata": {},
   "source": [
    "#### **(2) 해의 종류** : \n",
    "##### $ \\hspace{0.15cm} $ ① 자명해(trivial solution) : 해 벡터($ \\textbf{x} $)가 영 벡터인 해\n",
    "##### $ \\hspace{0.15cm} $ ② 비자명해(nontrivial solution) : 해 벡터가 영벡터가 아닌 해 $ = $ 자유변수를 갖는 해"
   ]
  },
  {
   "cell_type": "markdown",
   "metadata": {},
   "source": [
    "#### **(3) 해의 특징** : \n",
    "##### $ \\hspace{0.15cm} $ ① 동차 선형 시스템의 해 집합(solution set)은 자명해 혹은 자명해를 포함한 비자명해를 가짐\n",
    "##### $ \\hspace{0.15cm} $ ② 동차 선형 시스템의 해 집합은 **언제나 선형 생성(span) 형태로 표현**됨"
   ]
  },
  {
   "cell_type": "markdown",
   "metadata": {},
   "source": [
    "#### **(4) 예시** : \n",
    "##### $ \\hspace{0.15cm} $ ① 아래 동차 선형 시스템의 해를 구하고자 하는 경우\n",
    "##### $ \\hspace{0.45cm} \\begin{cases} \\begin{aligned} 3x_{1}+5x_{2}-4x_{3} &= 0 \\\\ -3x_{1}-2x_{2}+4x_{3} &= 0 \\\\ 6x_{1}+x_{2}-8x_{3} &= 0 \\end{aligned} \\end{cases} \\;\\; \\rightarrow{} \\; \\begin{bmatrix} 3&5&-4&0 \\\\ -3&-2&4&0 \\\\ 6&1&-8&0 \\end{bmatrix} $\n",
    "##### $ \\hspace{0.45cm} $ ~ $ \\begin{bmatrix} 3&5&-4&0 \\\\ 0&3&0&0 \\\\ 0&-9&0&0 \\end{bmatrix} $ ~ $ \\begin{bmatrix} 3&5&-4&0 \\\\ 0&3&0&0 \\\\ 0&0&0&0 \\end{bmatrix} $ ~ $ \\begin{bmatrix} 3&5&-4&0 \\\\ 0&1&0&0 \\\\ 0&0&0&0 \\end{bmatrix} $ ~ $ \\begin{bmatrix} 3&0&-4&0 \\\\ 0&1&0&0 \\\\ 0&0&0&0 \\end{bmatrix} $ ~ $ \\begin{bmatrix} 1&0&-{\\frac{4}{3}}&0 \\\\ 0&1&0&0 \\\\ 0&0&0&0 \\end{bmatrix} $\n",
    "##### $ \\hspace{0.45cm} \\therefore{} \\; \\textbf{x} = \\begin{bmatrix} x_{1} \\\\ x_{2} \\\\ x_{3} \\end{bmatrix} = \\begin{bmatrix} {\\frac{4}{3}}x_{3} \\\\ 0 \\\\ x_{3} \\end{bmatrix} = x_{3} \\begin{bmatrix} {\\frac{4}{3}} \\\\ 0 \\\\ 1 \\end{bmatrix} $\n",
    "##### $ \\hspace{0.15cm} $ ② **[CONTENTS]**"
   ]
  },
  {
   "cell_type": "markdown",
   "metadata": {},
   "source": [
    "##### **(`PLUS`) 매개변수 벡터 형식(parametic vector form)** : 어떠한 벡터가 자유변수를 가질 때 이를 자유변수 스칼라배의 형태로 쓰는 방식\n",
    "##### $ \\hspace{0.15cm} \\Rightarrow{} \\textbf{v} = \\begin{bmatrix} v_{1} \\\\ v_{2} \\\\ \\vdots{} \\\\ v_{n} \\end{bmatrix} = v_{k} \\begin{bmatrix} 1 \\\\ 3 \\\\ \\vdots{} \\\\ 2 \\end{bmatrix} $"
   ]
  },
  {
   "cell_type": "markdown",
   "metadata": {},
   "source": [
    "<b></b>"
   ]
  },
  {
   "cell_type": "markdown",
   "metadata": {},
   "source": [
    "> ## **비동차 선형시스템(Nonhomogeneous Linear Systems)**"
   ]
  },
  {
   "cell_type": "markdown",
   "metadata": {},
   "source": [
    "#### **(1) 정의** : 상수항 벡터 $ \\textbf{b} $가 영 벡터가 아닌 선형 시스템\n",
    "#### $ \\Rightarrow{} A\\textbf{x} = x_{1}\\textbf{a}_{1}+x_{2}\\textbf{a}_{2}+\\cdots{}+x_{n}\\textbf{a}_{n} = \\underset{m\\times{}1}{\\textbf{b}} \\;\\; \\text{ s.t. } \\, \\textbf{b} \\neq{} \\textbf{0} $"
   ]
  },
  {
   "cell_type": "markdown",
   "metadata": {},
   "source": [
    "#### **(2) 해의 특징** (Theorem 1-6) : 비동차 선형 시스템의 해집합은 동차 선형 시스템의 해집합의 **평행 이동**한 형태임\n",
    "<img src=\"../../img/01.5. Solution Sets of linear Systems (1).png\" width=\"30%\" height=\"30%\"/></img>"
   ]
  },
  {
   "cell_type": "markdown",
   "metadata": {},
   "source": [
    "#### **(3) 예시** :\n",
    "##### $ \\hspace{0.15cm} $ ① 아래 비동차 선형 시스템의 해를 구하고자 하는 경우\n",
    "##### $ \\hspace{0.45cm} \\begin{cases} \\begin{aligned} 3x_{1}+5x_{2}-4x_{3} &= 7 \\\\ -3x_{1}-2x_{2}+4x_{3} &= -1 \\\\ 6x_{1}+x_{2}-8x_{3} &= -4 \\end{aligned} \\end{cases} \\;\\; \\rightarrow{} \\; \\begin{bmatrix} 3&5&-4&7 \\\\ -3&-2&4&-1 \\\\ 6&1&-8&-4 \\end{bmatrix} $\n",
    "##### $ \\hspace{0.45cm} $ ~ $ \\begin{bmatrix} 3&5&-4&7 \\\\ 0&3&0&6 \\\\ 0&-9&0&-18 \\end{bmatrix} $ ~ $ \\begin{bmatrix} 3&5&-4&7 \\\\ 0&3&0&6 \\\\ 0&0&0&0 \\end{bmatrix} $ ~ $ \\begin{bmatrix} 3&5&-4&7 \\\\ 0&1&0&2 \\\\ 0&0&0&0 \\end{bmatrix} $ ~ $ \\begin{bmatrix} 3&0&-4&-3 \\\\ 0&1&0&2 \\\\ 0&0&0&0 \\end{bmatrix} $ ~ $ \\begin{bmatrix} 1&0&-{{4}\\over{3}}&-1 \\\\ 0&1&0&2 \\\\ 0&0&0&0 \\end{bmatrix} $\n",
    "##### $ \\hspace{0.45cm} \\therefore{} \\textbf{x} = \\begin{bmatrix} x_{1} \\\\ x_{2} \\\\ x_{3} \\end{bmatrix} = \\begin{bmatrix} -1+{{4}\\over{3}}x_{3} \\\\ 2 \\\\ x_{3} \\end{bmatrix} = \\begin{bmatrix} -1\\\\2\\\\0 \\end{bmatrix} + x_{3} \\begin{bmatrix} {{4}\\over{3}} \\\\ 0 \\\\ 1\\end{bmatrix} $\n",
    "##### $ \\hspace{0.15cm} $ ② **[CONTENTS]**"
   ]
  }
 ],
 "metadata": {
  "kernelspec": {
   "display_name": "Python 3",
   "language": "python",
   "name": "python3"
  },
  "language_info": {
   "codemirror_mode": {
    "name": "ipython",
    "version": 3
   },
   "file_extension": ".py",
   "mimetype": "text/x-python",
   "name": "python",
   "nbconvert_exporter": "python",
   "pygments_lexer": "ipython3",
   "version": "3.11.3"
  },
  "orig_nbformat": 4
 },
 "nbformat": 4,
 "nbformat_minor": 2
}
