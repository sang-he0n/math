{
 "cells": [
  {
   "attachments": {},
   "cell_type": "markdown",
   "metadata": {},
   "source": [
    "# CH01.4. **Matrix Equation**"
   ]
  },
  {
   "cell_type": "markdown",
   "metadata": {},
   "source": [
    "> ## **행렬의 열벡터(Column Vector of Matrix)**"
   ]
  },
  {
   "cell_type": "markdown",
   "metadata": {},
   "source": [
    "#### **(1) 정의** : 행렬에서 각 열의 성분들로 구성된 벡터\n",
    "#### $ \\Rightarrow{} \\textbf{a}_{i} = \\textbf{a}_{*,i} = \\begin{bmatrix} a_{1,i} \\\\ a_{2,i} \\\\ \\vdots{} \\\\ a_{m,i} \\end{bmatrix} \\;\\; \\text{ where } \\, \\underset{m\\times{}n}{A} = \\begin{bmatrix} a_{1,1}&a_{1,2}&\\cdots{}&a_{1,n} \\\\ a_{2,1}&a_{2,2}&\\cdots{}&a_{2,n} \\\\ \\cdots{}&\\cdots{}&\\cdots{}&\\cdots{} \\\\ a_{m,1}&a_{m,2}&\\cdots{}&a_{m,n} \\end{bmatrix} = \\begin{bmatrix} \\textbf{a}_{1} & \\textbf{a}_{2} & \\cdots{} &\\textbf{a}_{n} \\end{bmatrix} $"
   ]
  },
  {
   "cell_type": "markdown",
   "metadata": {},
   "source": [
    "<b></b>"
   ]
  },
  {
   "attachments": {},
   "cell_type": "markdown",
   "metadata": {},
   "source": [
    "> ## **행렬-벡터 곱(Product of Matrix and Vector)**"
   ]
  },
  {
   "cell_type": "markdown",
   "metadata": {},
   "source": [
    "#### **(1) 정의** : 행렬의 각 열벡터와 벡터의 각 성분들을 곱하여 더하는 연산\n",
    "#### $ \\Rightarrow{} A\\textbf{x} = \\underset{m\\times{}n}{\\begin{bmatrix} \\textbf{a}_{1} & \\textbf{a}_{2} & \\cdots{}{} & \\textbf{a}_{n} \\end{bmatrix}} \\times{} \\underset{n\\times{}1}{\\begin{bmatrix} x_{1} \\\\ \\cdots{}{} \\\\ x_{n} \\end{bmatrix}} = x_{1}\\textbf{a}_{1} + x_{2}\\textbf{a}_{2} + \\cdots{}{} + x_{n}\\textbf{a}_{n} $"
   ]
  },
  {
   "cell_type": "markdown",
   "metadata": {},
   "source": [
    "##### **(`PLUS`)** : 행렬의 열 벡터 개수와 벡터의 행 개수가 동일해야지 곱연산이 가능함"
   ]
  },
  {
   "cell_type": "markdown",
   "metadata": {},
   "source": [
    "<b></b>"
   ]
  },
  {
   "cell_type": "markdown",
   "metadata": {},
   "source": [
    "> ## (Theorem 1-3) **Linear System Notation** "
   ]
  },
  {
   "attachments": {},
   "cell_type": "markdown",
   "metadata": {},
   "source": [
    "#### 선형 시스템을 아래와 같이 표기 가능하다."
   ]
  },
  {
   "cell_type": "markdown",
   "metadata": {},
   "source": [
    "#### **(1)** 첨가 행렬(augmented matrix) : $ \\, \\begin{bmatrix} \\textbf{a}_{1} & \\textbf{a}_{2} & \\cdots{} & \\textbf{b} \\end{bmatrix} $"
   ]
  },
  {
   "cell_type": "markdown",
   "metadata": {},
   "source": [
    "#### **(2)** 벡터 방정식(vector equation) : $ \\, x_{1}\\textbf{a}_{1} + x_{2}\\textbf{a}_{2} + \\cdots{} + x_{n}\\textbf{a}_{n} = \\textbf{b} $"
   ]
  },
  {
   "cell_type": "markdown",
   "metadata": {},
   "source": [
    "#### **(3)** 행렬 방정식(matrix equation) : $ \\, A \\textbf{x} = \\textbf{b} $"
   ]
  },
  {
   "cell_type": "markdown",
   "metadata": {},
   "source": [
    "##### **(`PLUS`)** $ \\, A $ 를 계수행렬, $ \\, \\textbf{x} $ 를 해 벡터(solution vector), $ \\, \\textbf{b} $ 를 상수항 벡터라고 정의함"
   ]
  },
  {
   "cell_type": "markdown",
   "metadata": {},
   "source": [
    "<b></b>"
   ]
  },
  {
   "attachments": {},
   "cell_type": "markdown",
   "metadata": {},
   "source": [
    "> ## (Theorem 1-4) **Property of Matrix Equation**"
   ]
  },
  {
   "cell_type": "markdown",
   "metadata": {},
   "source": [
    "#### 아래의 명제는 하나라도 참이거나 거짓이면 모두 참이거나 거짓이다."
   ]
  },
  {
   "cell_type": "markdown",
   "metadata": {},
   "source": [
    "#### **(1)** $ \\, \\mathbb{R}^{m} $ 공간에 있는 임의의(for each) $ \\, \\textbf{b} $에 대하여, 선형 방정식 $ \\underset{m\\times{}n}{A} \\textbf{x} = \\underset{m\\times{}1}{\\textbf{b}} $는 해를 갖고 있다."
   ]
  },
  {
   "cell_type": "markdown",
   "metadata": {},
   "source": [
    "#### **(2)** $ \\, \\mathbb{R}^{m} $ 공간에 있는 모든(each) $ \\, \\textbf{b} $ 는 $ \\, A $의 선형 결합이다."
   ]
  },
  {
   "cell_type": "markdown",
   "metadata": {},
   "source": [
    "#### **(3)** $ \\, A $ 의 열 벡터들은 $ \\mathbb{R}^{m} $ 공간을 선형 생성($ = \\text{span a } \\, \\mathbb{R}^{m} \\, \\text{ space} $)한다."
   ]
  },
  {
   "cell_type": "markdown",
   "metadata": {},
   "source": [
    "#### **(4)** $ \\, A $ 는 모든 행마다 피봇 포지션을 갖고 있다."
   ]
  },
  {
   "cell_type": "markdown",
   "metadata": {},
   "source": [
    "##### **(`WHY?`)** $ A $ 가 모든 행마다 피봇 포지션을 갖고 있지 않다면 $ \\textbf{b} $에 피봇 포지션을 갖게 되어 해당 선형 방정식의 해가 존재하지 않게 된다."
   ]
  },
  {
   "cell_type": "markdown",
   "metadata": {},
   "source": [
    "<b></b>"
   ]
  },
  {
   "attachments": {},
   "cell_type": "markdown",
   "metadata": {},
   "source": [
    "> ## (Theorem 1-5) **Linearity Property of Matrix Equation**"
   ]
  },
  {
   "cell_type": "markdown",
   "metadata": {},
   "source": [
    "#### 행렬 연산에서는 **선형성**을 만족한다."
   ]
  },
  {
   "cell_type": "markdown",
   "metadata": {},
   "source": [
    "#### **(1)** $ A ( \\textbf{u} + \\textbf{v} ) = A \\textbf{u} + A \\textbf{v} $"
   ]
  },
  {
   "cell_type": "markdown",
   "metadata": {},
   "source": [
    "#### **(2)** $ A ( c \\textbf{u} ) = c ( A \\textbf{u} ) $"
   ]
  }
 ],
 "metadata": {
  "kernelspec": {
   "display_name": "PYTCH",
   "language": "python",
   "name": "python3"
  },
  "language_info": {
   "codemirror_mode": {
    "name": "ipython",
    "version": 3
   },
   "file_extension": ".py",
   "mimetype": "text/x-python",
   "name": "python",
   "nbconvert_exporter": "python",
   "pygments_lexer": "ipython3",
   "version": "3.10.16"
  },
  "orig_nbformat": 4
 },
 "nbformat": 4,
 "nbformat_minor": 2
}
