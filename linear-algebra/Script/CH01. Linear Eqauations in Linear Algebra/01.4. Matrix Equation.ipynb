{
 "cells": [
  {
   "attachments": {},
   "cell_type": "markdown",
   "metadata": {},
   "source": [
    "# CH01.4. **Matrix Equation**"
   ]
  },
  {
   "cell_type": "markdown",
   "metadata": {},
   "source": [
    "> ## **행렬의 열벡터(Column Vector of Matrix)**"
   ]
  },
  {
   "cell_type": "markdown",
   "metadata": {},
   "source": [
    "#### **(1) 정의** : 행렬의 각 열들의 성분들로 구성된 벡터\n",
    "#### $ \\Rightarrow{} \\begin{bmatrix} \\textbf{a}_{1} & \\textbf{a}_{2} & \\cdots{} &\\textbf{a}_{n} \\end{bmatrix} = \\underset{m\\times{}n}{A} = \\begin{bmatrix} a_{1,1}&a_{1,2}&\\cdots{}&a_{1,n} \\\\ a_{2,1}&a_{2,2}&\\cdots{}&a_{2,n} \\\\ \\cdots{}&\\cdots{}&\\cdots{}&\\cdots{} \\\\ a_{m,1}&a_{m,2}&\\cdots{}&a_{m,n} \\end{bmatrix} $"
   ]
  },
  {
   "cell_type": "markdown",
   "metadata": {},
   "source": [
    "<b></b>"
   ]
  },
  {
   "attachments": {},
   "cell_type": "markdown",
   "metadata": {},
   "source": [
    "> ## **행렬-벡터 곱(Product of Matrix and Vector ; $ A\\textbf{x} $)**"
   ]
  },
  {
   "cell_type": "markdown",
   "metadata": {},
   "source": [
    "#### **(1) 정의** : **[CONTENTS]**"
   ]
  },
  {
   "cell_type": "markdown",
   "metadata": {},
   "source": [
    "#### **(2) 연산 조건** : 행렬의 열 개수와 벡터의 행 개수가 동일해야함\n",
    "#### $ \\Rightarrow{} \\underset{m\\times{}1}{A\\textbf{x}} = \\underset{m\\times{}n}{\\begin{bmatrix} \\textbf{a}_{1} & \\textbf{a}_{2} & \\cdots{}{} & \\textbf{a}_{n} \\end{bmatrix}} \\times{} \\underset{n\\times{}1}{\\begin{bmatrix} x_{1} \\\\ \\cdots{}{} \\\\ x_{n} \\end{bmatrix}} = x_{1}\\textbf{a}_{1} + x_{2}\\textbf{a}_{2} + \\cdots{}{} + x_{n}\\textbf{a}_{n} $\n",
    "#### ※ $ m $ : 선형 시스템에서 방정식의 개수, $ \\, n $ : 변수의 개수"
   ]
  },
  {
   "cell_type": "markdown",
   "metadata": {},
   "source": [
    "<b></b>"
   ]
  },
  {
   "cell_type": "markdown",
   "metadata": {},
   "source": [
    "> ## (Theorem 1-3) **Linear System Notation** "
   ]
  },
  {
   "attachments": {},
   "cell_type": "markdown",
   "metadata": {},
   "source": [
    "#### 선형 시스템을 아래와 같이 표기 가능하다.\n",
    "#### **(1)** 첨가 행렬(augmented matrix)  $ \\, \\Rightarrow{} \\begin{bmatrix} \\textbf{a}_{1} & \\textbf{a}_{2} & \\cdots{} & \\textbf{b} \\end{bmatrix} $\n",
    "#### **(2)** 벡터 방정식(vector equation) $ \\, \\Rightarrow{} \\, x_{1}\\textbf{a}_{1} + x_{2}\\textbf{a}_{2} + \\cdots{} + x_{n}\\textbf{a}_{n} = \\textbf{b} $\n",
    "#### **(3)** 행렬 방정식(matrix equation) $ \\, \\Rightarrow{} \\, A \\textbf{x} = \\textbf{b} $"
   ]
  },
  {
   "cell_type": "markdown",
   "metadata": {},
   "source": [
    "#### **(`PLUS`)** 일반적으로 $ \\, A $ 를 계수행렬, $ \\, \\textbf{x} $ 를 해벡터(solution vector), $ \\, \\textbf{b} $ 를 상수항 벡터라고 정의함"
   ]
  },
  {
   "cell_type": "markdown",
   "metadata": {},
   "source": [
    "<b></b>"
   ]
  },
  {
   "attachments": {},
   "cell_type": "markdown",
   "metadata": {},
   "source": [
    "> ## (Theorem 1-4) **Property of Matrix Equation**"
   ]
  },
  {
   "cell_type": "markdown",
   "metadata": {},
   "source": [
    "#### 아래의 명제는 하나라도 참이거나 거짓이면 **모두 참이거나 거짓**이다.\n",
    "#### **(1)** $ \\, \\mathbb{R}^{m} \\, $ 공간에 있는 임의의(for each) $ \\, \\textbf{b} $ 에 대하여, 선형 방정식 $ \\, A \\textbf{x} = \\textbf{b} $ 는 해를 갖고 있다.\n",
    "#### **(2)** $ \\, \\mathbb{R}^{m} \\, $ 공간에 있는 모든(each) $ \\, \\textbf{b} $ 는 $ \\, A $의 선형 결합이다.\n",
    "#### **(3)** $ \\, A $ 의 열 벡터들은 $ \\, \\mathbb{R}^{m} \\, $ 공간을 선형결합을 통해 형성(=span a $ \\, \\mathbb{R}^{m} \\, $ space)한다. "
   ]
  },
  {
   "cell_type": "markdown",
   "metadata": {},
   "source": [
    "#### **(`WHY?`) 어떠한** $ \\, \\textbf{b} $ 에 대해서라도 $ \\, A\\textbf{x} = \\textbf{b} $ 를 만족해야 하기 때문이다."
   ]
  },
  {
   "cell_type": "markdown",
   "metadata": {},
   "source": [
    "#### **(4)** $ \\, A $ 는 모든 행마다 피봇 포지션을 갖고 있다."
   ]
  },
  {
   "cell_type": "markdown",
   "metadata": {},
   "source": [
    "#### **(`WHY?`)** $ A $ 가 행마다 피봇 포지션을 갖고 있지 않다면, 상수항 $ \\, \\textbf{b} $ 에 피봇 포지션을 갖게 되어 해당 선형 방정식의 해가 없게된다."
   ]
  },
  {
   "cell_type": "markdown",
   "metadata": {},
   "source": [
    "<b></b>"
   ]
  },
  {
   "attachments": {},
   "cell_type": "markdown",
   "metadata": {},
   "source": [
    "> ## (Theorem 1-5) **Linearity Property of matrix equation**"
   ]
  },
  {
   "cell_type": "markdown",
   "metadata": {},
   "source": [
    "#### 행렬 연산에서는 아래의 두 성질이 성립하며, 이를 **선형성**이라고 정의한다.\n",
    "#### **(1)** $ A ( \\textbf{u} + \\textbf{v} ) = A \\textbf{u} + A \\textbf{v} $\n",
    "#### **(2)** $ A ( c \\textbf{u} ) = c ( A \\textbf{u} ) $"
   ]
  }
 ],
 "metadata": {
  "kernelspec": {
   "display_name": "Python 3",
   "language": "python",
   "name": "python3"
  },
  "language_info": {
   "codemirror_mode": {
    "name": "ipython",
    "version": 3
   },
   "file_extension": ".py",
   "mimetype": "text/x-python",
   "name": "python",
   "nbconvert_exporter": "python",
   "pygments_lexer": "ipython3",
   "version": "3.11.3"
  },
  "orig_nbformat": 4
 },
 "nbformat": 4,
 "nbformat_minor": 2
}
