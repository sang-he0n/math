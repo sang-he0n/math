{
 "cells": [
  {
   "attachments": {},
   "cell_type": "markdown",
   "metadata": {},
   "source": [
    "# CH01.4. **Matrix Equation**"
   ]
  },
  {
   "cell_type": "markdown",
   "metadata": {},
   "source": [
    "> ## **행렬과 열벡터(Matrix and Column Vector)**"
   ]
  },
  {
   "cell_type": "markdown",
   "metadata": {},
   "source": [
    "#### **(1) 정의** : 행렬 $ A $ 는 열 벡터 $ \\textbf{a} $ 로 표현 가능\n",
    "#### $ A = \\begin{bmatrix} a_{11}&a_{12}&\\cdots{}&a_{1n} \\\\ a_{21}&a_{22}&\\cdots{}&a_{2n} \\\\ \\cdots{}&\\cdots{}&\\cdots{}&\\cdots{} \\\\ a_{m1}&a_{m2}&\\cdots{}&a_{mn} \\end{bmatrix} = \\begin{bmatrix} \\textbf{a}_{1}& \\cdots{} &\\textbf{a}_{n} \\end{bmatrix} $"
   ]
  },
  {
   "cell_type": "markdown",
   "metadata": {},
   "source": [
    "<b></b>"
   ]
  },
  {
   "attachments": {},
   "cell_type": "markdown",
   "metadata": {},
   "source": [
    "> ## **행렬-벡터 곱 ($ A\\textbf{x} $ ; product of matrix $A$ and vector $ \\textbf{x} $)**"
   ]
  },
  {
   "cell_type": "markdown",
   "metadata": {},
   "source": [
    "#### **(1) 연산 조건** : 행렬의 열 개수와 벡터의 행 개수가 동일해야함"
   ]
  },
  {
   "cell_type": "markdown",
   "metadata": {},
   "source": [
    "#### **(2) 연산** :\n",
    "#### $ m \\times n $ 행렬 $ A $ 의 열벡터 $ \\{ \\textbf{a}_{1}, \\textbf{a}_{2}, \\cdots{}, \\textbf{a}_{n} \\} $ 와 $ \\; n \\times{} 1 \\; $ 벡터 $\\; \\textbf{x} $ 가 존재할 때\n",
    "#### $ A\\textbf{x} = \\begin{bmatrix} \\textbf{a}_{1}&\\cdots{}{}&\\textbf{a}_{n} \\end{bmatrix} \\times{} \\begin{bmatrix} x_{1} \\\\ \\cdots{}{} \\\\ x_{n} \\end{bmatrix} = x_{1}\\textbf{a}_{1} + x_{2}\\textbf{a}_{2} + \\cdots{}{} + x_{n}\\textbf{a}_{n} $"
   ]
  },
  {
   "cell_type": "markdown",
   "metadata": {},
   "source": [
    "#### **(PLUS)** $ A\\textbf{x} $ 는 $ \\; \\{ \\textbf{a}_{1}, \\textbf{a}_{2}, \\cdots{}{}, \\textbf{a}_{n} \\} $ 과 $ \\; \\textbf{x} $ 의 성분들의 선형 결합과 동일함"
   ]
  },
  {
   "cell_type": "markdown",
   "metadata": {},
   "source": [
    "<b></b>"
   ]
  },
  {
   "cell_type": "markdown",
   "metadata": {},
   "source": [
    "> ## (Theorem 3) **Linear System Notation** "
   ]
  },
  {
   "attachments": {},
   "cell_type": "markdown",
   "metadata": {},
   "source": [
    "#### $ m \\times n $ 행렬 $ A $ 의 열벡터 $ \\{ \\textbf{a}_{1}, \\textbf{a}_{2}, \\cdots{}, \\textbf{a}_{n} \\} $ 과 $ \\; m \\times{} 1 \\; $ 벡터 $\\; \\textbf{b} $ 가 존재할 때, 선형 시스템을 아래와 같이 표기 가능하다.\n",
    "#### **(1)** 첨가 행렬(augmented matrix)  $ \\; \\Rightarrow{} \\; \\begin{bmatrix} \\textbf{a}_{1} \\ \\textbf{a}_{2} \\ \\cdots{} \\ \\textbf{b} \\end{bmatrix} $\n",
    "#### **(2)** 벡터 방정식(vector equation) $ \\; \\Rightarrow{} \\; x_{1}\\textbf{a}_{1} + x_{2}\\textbf{a}_{2} + \\cdots{} + x_{n}\\textbf{a}_{n} = \\textbf{b} $\n",
    "#### **(3)** 행렬 방정식(matrix equation) $ \\; \\Rightarrow{} \\; A \\textbf{x} = \\textbf{b} $"
   ]
  },
  {
   "cell_type": "markdown",
   "metadata": {},
   "source": [
    "<b></b>"
   ]
  },
  {
   "attachments": {},
   "cell_type": "markdown",
   "metadata": {},
   "source": [
    "> ## (Theorem 4) **Property of matrix equation**"
   ]
  },
  {
   "cell_type": "markdown",
   "metadata": {},
   "source": [
    "#### $ m \\times{} n \\; $ 행렬 $ A $ 의 열벡터 $ \\{ \\textbf{a}_{1}, \\textbf{a}_{2}, \\cdots{}, \\textbf{a}_{n} \\} $ 와 $ \\; n \\times{} 1 \\; $ 벡터 $ \\; \\textbf{b} $ 가 존재할 때, 아래의 명제는 **모두 참이거나 거짓**이다.\n",
    "#### **(1)** $ \\mathbb{R}^{m} \\; $ 공간에 있는 어떠한 $ \\; \\textbf{b} $ 에 대하여, 선형 방정식 $ \\; A \\textbf{x} = \\textbf{b} $ 는 해를 갖고 있다.\n",
    "#### **(2)** $ \\mathbb{R}^{m} \\; $ 공간에 있는 어떠한 $ \\; \\textbf{b} $ 는 $ \\; A $의 선형 결합이다.\n",
    "#### **(3)** $ A $ 의 열들은 $ \\mathbb{R}^{m} $ 공간을 선형결합을 통해 형성(=span a $ \\; \\mathbb{R}^{m} \\; $ space)한다. "
   ]
  },
  {
   "cell_type": "markdown",
   "metadata": {},
   "source": [
    "#### **(WHY?)** 어떠한 $ \\; \\textbf{b} $ 에 대하서도 $ \\; A\\textbf{x} = \\textbf{b} $ 를 만족해야 하기 때문"
   ]
  },
  {
   "cell_type": "markdown",
   "metadata": {},
   "source": [
    "#### **(4)** $ A $ 는 모든 행마다 피봇 포지션을 갖고 있다."
   ]
  },
  {
   "cell_type": "markdown",
   "metadata": {},
   "source": [
    "#### **(WHY?)** $ A $ 가 행마다 피봇 포지션을 갖고 있지 않다면, 상수항 $ \\; \\textbf{b} $ 에 피봇 포지션을 갖게 되어 해당 선형 방정식의 해가 없게됨"
   ]
  },
  {
   "cell_type": "markdown",
   "metadata": {},
   "source": [
    "<b></b>"
   ]
  },
  {
   "attachments": {},
   "cell_type": "markdown",
   "metadata": {},
   "source": [
    "> ## (Theorem 5) **Linearity Property of matrix equation**"
   ]
  },
  {
   "cell_type": "markdown",
   "metadata": {},
   "source": [
    "#### $ m \\times{} n  $ 행렬 $ A $ 와 $ \\; n \\times{} 1 $ 벡터 $ \\; \\textbf{u},\\; \\textbf{v} \\; $ 그리고 스칼라 $ c $ 가 있을 때, 행렬 연산에서는 아래의 두 성질이 성립한다.\n",
    "#### **(1)** $ A ( \\textbf{u} + \\textbf{v} ) = A \\textbf{u} + A \\textbf{v} $\n",
    "#### **(2)** $ A ( c \\textbf{u} ) = c ( A \\textbf{u} ) $"
   ]
  }
 ],
 "metadata": {
  "kernelspec": {
   "display_name": "Python 3",
   "language": "python",
   "name": "python3"
  },
  "language_info": {
   "codemirror_mode": {
    "name": "ipython",
    "version": 3
   },
   "file_extension": ".py",
   "mimetype": "text/x-python",
   "name": "python",
   "nbconvert_exporter": "python",
   "pygments_lexer": "ipython3",
   "version": "3.11.3"
  },
  "orig_nbformat": 4
 },
 "nbformat": 4,
 "nbformat_minor": 2
}
