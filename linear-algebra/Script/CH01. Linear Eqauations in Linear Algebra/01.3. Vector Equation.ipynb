{
 "cells": [
  {
   "attachments": {},
   "cell_type": "markdown",
   "metadata": {},
   "source": [
    "# CH01.3. **Vector Equations**"
   ]
  },
  {
   "attachments": {},
   "cell_type": "markdown",
   "metadata": {},
   "source": [
    "> ## **벡터 표현(Vectors in $ \\; \\mathbb{R}^{2} $)**"
   ]
  },
  {
   "attachments": {},
   "cell_type": "markdown",
   "metadata": {},
   "source": [
    "#### **(1) 벡터표기법** :\n",
    "#### &nbsp;&nbsp; $ \\textbf{u} = \\overrightarrow{u} = \\begin{bmatrix} 3 \\\\ 2 \\end{bmatrix} = (3, 2) $\n",
    "#### &nbsp;&nbsp; $ \\textbf{v} = \\overrightarrow{v} = \\begin{bmatrix} 0.2 \\\\ 0.3 \\end{bmatrix} = (0.2, 0.3) $\n",
    "#### &nbsp;&nbsp; $ \\textbf{w} = \\overrightarrow{w} = \\begin{bmatrix} w_{1} \\\\ w_{2} \\end{bmatrix} = (w_{1}, w_{2}) \\;\\;\\;\\; $ ※ $ w_{n} $ is a componenet(entry)"
   ]
  },
  {
   "cell_type": "markdown",
   "metadata": {},
   "source": [
    "#### **(PLUS)** 아래 두 표기를 병행하면 안됨\n",
    "#### $ (w_{1}, w_{2}) \\neq{} [w_{1}, w_{2}] $"
   ]
  },
  {
   "attachments": {},
   "cell_type": "markdown",
   "metadata": {},
   "source": [
    "#### **(2) 벡터 합** :\n",
    "#### $ \\textbf{u} + \\textbf{v} = \\begin{bmatrix} 3\\\\2 \\end{bmatrix} + \\begin{bmatrix} 0.2\\\\0.3 \\end{bmatrix} = \\begin{bmatrix} 3+0.2\\\\2+0.3 \\end{bmatrix} = \\begin{bmatrix} 3.2\\\\2.3 \\end{bmatrix}$"
   ]
  },
  {
   "attachments": {},
   "cell_type": "markdown",
   "metadata": {},
   "source": [
    "#### **(3) 스칼라 곱** :\n",
    "#### $ 3 \\times \\textbf{u} = \\textbf{3u}= 3 \\times \\begin{bmatrix} 3\\\\2 \\end{bmatrix} = \\begin{bmatrix} 3 \\times 3\\\\3 \\times 2 \\end{bmatrix} = \\begin{bmatrix} 9\\\\6 \\end{bmatrix}$"
   ]
  },
  {
   "cell_type": "markdown",
   "metadata": {},
   "source": [
    "<b></b>"
   ]
  },
  {
   "attachments": {},
   "cell_type": "markdown",
   "metadata": {},
   "source": [
    "> ## **벡터 연산의 기하학적 표현(Geometric descriptions of $ \\; \\mathbb{R}^{2} $)**"
   ]
  },
  {
   "cell_type": "markdown",
   "metadata": {},
   "source": [
    "#### **(1) 벡터 합** :\n",
    "#### $ \\textbf{u} = \\begin{bmatrix} 3\\\\2 \\end{bmatrix} \\;\\, \\textbf{v} = \\begin{bmatrix} -6\\\\1 \\end{bmatrix} \\;\\, \\textbf{w} = \\textbf{u} + \\textbf{v} = \\begin{bmatrix} -4\\\\3 \\end{bmatrix}$\n",
    "<img src=\"../../png/1.3 Vector Equation (1).png\" width=\"30%\" height=\"30%\"/></img>\n",
    "<b></b>"
   ]
  },
  {
   "cell_type": "markdown",
   "metadata": {},
   "source": [
    "#### **(2) 스칼라 곱** :\n",
    "#### $ \\textbf{u} = \\begin{bmatrix} 1\\\\2 \\end{bmatrix},\\;\\; a = 2,\\;\\; a\\textbf{u} = 2\\textbf{u} = \\begin{bmatrix} 2\\\\4 \\end{bmatrix}$\n",
    "<img src=\"../../png/1.3 Vector Equation (2).png\" width=\"30%\" height=\"30%\"/></img>\n",
    "<b></b>"
   ]
  },
  {
   "cell_type": "markdown",
   "metadata": {},
   "source": [
    "<b></b>"
   ]
  },
  {
   "cell_type": "markdown",
   "metadata": {},
   "source": [
    "> ## **벡터 공간(Vector Space)**"
   ]
  },
  {
   "attachments": {},
   "cell_type": "markdown",
   "metadata": {},
   "source": [
    "#### **(1) 정의** : 아래의 연산을 성립하는 공집합이 아닌(non-emptry)인 벡터로 이루어진 집합 $ \\; V $\n",
    "#### when $ \\; \\{ \\textbf{u}, \\textbf{v} \\} \\subset{} \\mathbb{R}^n \\; (n \\geq{} 2) \\; $ and $ \\; a \\in{} \\mathbb{R}^1 $\n",
    "#### &nbsp;&nbsp; ① $ \\{ \\textbf{u}, \\textbf{v} \\} \\subset V, \\;\\; \\textbf{u}+\\textbf{v} \\in V $ \n",
    "#### &nbsp;&nbsp; ② $ \\textbf{u} \\in V, \\;\\; c\\textbf{u} \\in V $"
   ]
  },
  {
   "cell_type": "markdown",
   "metadata": {},
   "source": [
    "#### **(2) 성질(공리)** :\n",
    "#### when $ \\; \\{ \\textbf{u}, \\textbf{v}, \\textbf{w} \\} \\subset{} \\mathbb{R}^{n} \\;(n \\geq 2) \\; $ and $ \\; \\{ c, d \\} \\subset{} \\mathbb{R}^{1} $\n",
    "#### &nbsp;&nbsp; ① $ \\textbf{u} + \\textbf{v} = \\textbf{v} + \\textbf{u} $\n",
    "#### &nbsp;&nbsp; ② $ ( \\textbf{u} + \\textbf{v} ) + \\textbf{w} = \\textbf{v} + ( \\textbf{u} + \\textbf{w} ) $\n",
    "#### &nbsp;&nbsp; ③ $ \\textbf{u} + \\textbf{0} = \\textbf{0} + \\textbf{u} = \\textbf{u} $\n",
    "#### &nbsp;&nbsp; ④ $ \\textbf{u} + ( -\\textbf{u} ) = ( -\\textbf{u} ) + \\textbf{u} = \\textbf{0} $\n",
    "#### &nbsp;&nbsp; ⑤ $ c( \\textbf{u} + \\textbf{v} ) = c\\textbf{v} + c\\textbf{u} $\n",
    "#### &nbsp;&nbsp; ⑥ $ ( c + d )\\textbf{u} = c\\textbf{u} + d\\textbf{u} $\n",
    "#### &nbsp;&nbsp; ⑦ $ c( d\\textbf{u} ) = ( cd )\\textbf{u} $\n",
    "#### &nbsp;&nbsp; ⑧ $ 1\\textbf{u} = \\textbf{u} $"
   ]
  },
  {
   "cell_type": "markdown",
   "metadata": {},
   "source": [
    "#### **(PLUS)** 스칼라-벡터 합 연산($ c + \\textbf{u} \\; $)은 정의되지 않음"
   ]
  },
  {
   "cell_type": "markdown",
   "metadata": {},
   "source": [
    "<b></b>"
   ]
  },
  {
   "cell_type": "markdown",
   "metadata": {},
   "source": [
    "> ## **선형 결합(Linear Combination)**"
   ]
  },
  {
   "attachments": {},
   "cell_type": "markdown",
   "metadata": {},
   "source": [
    "#### **(1) 정의** : 여러 개의 벡터와 가중치(계수)가 주어졌을 각 스칼라곱 및 벡터합을 행하는 연산 \n",
    "#### when $ \\; \\{ \\textbf{v}_{1}, \\textbf{v}_{2}, \\cdots{}, \\textbf{v}_{p} \\} \\subset{} \\mathbb{R}^n \\;(n \\geq{} 2) \\; $ and $ \\; \\{ c_{1}, c_{2}, \\cdots{}, c_{p} \\} \\subset \\mathbb{R}^1 $\n",
    "#### $ \\textbf{y} = c_{1}\\textbf{v}_{1} + c_{2}\\textbf{v}_{2} + \\cdots{} + c_{p}\\textbf{v}_p$"
   ]
  },
  {
   "cell_type": "markdown",
   "metadata": {},
   "source": [
    "#### **(PLUS)** $ \\textbf{y} \\; $ is linear combination of $ \\; \\{ \\textbf{v}_{1}, \\textbf{v}_{2}, \\cdots, \\textbf{v}_{p} \\} \\; $ with weight $ \\; \\{ c_{1}, c_{2}, \\cdots{}, c_{p} \\} $"
   ]
  },
  {
   "cell_type": "markdown",
   "metadata": {},
   "source": [
    "#### **(PLUS)** \n",
    "#### can $\\textbf{b}$ be generated as a linear combination of $ \\{ \\textbf{a}_{1},\\; \\textbf{a}_{2} \\} $  \n",
    "#### = Does the following augmented matrix have a solution? $ \\begin{bmatrix} \\textbf{a}_{1},\\; \\textbf{a}_{2},\\; \\textbf{b} \\end{bmatrix} $"
   ]
  },
  {
   "cell_type": "markdown",
   "metadata": {},
   "source": [
    "<b></b>"
   ]
  },
  {
   "cell_type": "markdown",
   "metadata": {},
   "source": [
    "> ## **선형 공간(Span)**"
   ]
  },
  {
   "attachments": {},
   "cell_type": "markdown",
   "metadata": {},
   "source": [
    "#### **(1) 정의** : 유한 개의 벡터들의 **선형 결합(linear combination)으로 이루어진 모든 벡터들**의 집합"
   ]
  },
  {
   "cell_type": "markdown",
   "metadata": {},
   "source": [
    "#### **(2) 기하학적 표현** :\n",
    "<img src=\"../../png/1.3 Vector Equation (3).png\" width=\"30%\" height=\"30%\"/></img>"
   ]
  },
  {
   "cell_type": "markdown",
   "metadata": {},
   "source": [
    "#### **(PLUS)** \n",
    "#### Is a vector $ \\textbf{b} $ in span $ \\{ \\textbf{v}_{1}, \\cdots{}, \\textbf{v}_{p} \\} \\; $ ? \n",
    "#### = Does the following vector equation have a solution ? $ x_{1}\\textbf{v}_{1} + \\cdots{} + x_{p}\\textbf{v}_{p} = \\textbf{b} \\; $ where $ \\; \\{ x_{1}, x_{2}, \\, \\cdots{}, x_{p} \\} \\subset{} \\mathbb{R}^{1} $\n",
    "#### = Does the following augmented matrix have a solution ? $ \\begin{bmatrix} \\textbf{v}_{1},\\, \\textbf{v}_{2},\\, \\textbf{b} \\end{bmatrix} $"
   ]
  }
 ],
 "metadata": {
  "kernelspec": {
   "display_name": "Python 3",
   "language": "python",
   "name": "python3"
  },
  "language_info": {
   "codemirror_mode": {
    "name": "ipython",
    "version": 3
   },
   "file_extension": ".py",
   "mimetype": "text/x-python",
   "name": "python",
   "nbconvert_exporter": "python",
   "pygments_lexer": "ipython3",
   "version": "3.11.3"
  },
  "orig_nbformat": 4
 },
 "nbformat": 4,
 "nbformat_minor": 2
}
