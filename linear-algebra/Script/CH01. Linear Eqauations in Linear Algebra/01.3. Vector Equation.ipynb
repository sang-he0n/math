{
 "cells": [
  {
   "attachments": {},
   "cell_type": "markdown",
   "metadata": {},
   "source": [
    "# CH01.3. **Vector Equations**"
   ]
  },
  {
   "attachments": {},
   "cell_type": "markdown",
   "metadata": {},
   "source": [
    "> ## **벡터 표현(Vectors in $ \\; \\mathbb{R}^{2} $)**"
   ]
  },
  {
   "attachments": {},
   "cell_type": "markdown",
   "metadata": {},
   "source": [
    "#### **(1) 벡터표기법** :\n",
    "#### $ \\hspace{0.15cm} $ ① $ \\textbf{u} = \\overrightarrow{u} = \\begin{bmatrix} 3 \\\\ 2 \\end{bmatrix} = (3, 2) $\n",
    "#### $ \\hspace{0.15cm} $ ② $ \\textbf{v} = \\overrightarrow{v} = \\begin{bmatrix} 0.2 \\\\ 0.3 \\end{bmatrix} = (0.2, 0.3) $\n",
    "#### $ \\hspace{0.15cm} $ ③ $ \\textbf{w} = \\overrightarrow{w} = \\begin{bmatrix} w_{1} \\\\ w_{2} \\end{bmatrix} = (w_{1}, w_{2}) \\;\\;\\;\\; $ ※ $ w_{n} $ is a componenet(entry)"
   ]
  },
  {
   "cell_type": "markdown",
   "metadata": {},
   "source": [
    "#### **(`PLUS`)** 표기 주의 : $ \\, (w_{1}, w_{2}) \\neq{} [w_{1}, w_{2}] $"
   ]
  },
  {
   "attachments": {},
   "cell_type": "markdown",
   "metadata": {},
   "source": [
    "#### **(2) 벡터 합** :\n",
    "#### $ \\hspace{0.15cm} $ ① $ \\textbf{u} + \\textbf{v} = \\begin{bmatrix} 3 \\\\ 2 \\end{bmatrix} + \\begin{bmatrix} 0.2 \\\\ 0.3 \\end{bmatrix} = \\begin{bmatrix} 3+0.2 \\\\ 2+0.3 \\end{bmatrix} = \\begin{bmatrix} 3.2 \\\\ 2.3 \\end{bmatrix} $ "
   ]
  },
  {
   "attachments": {},
   "cell_type": "markdown",
   "metadata": {},
   "source": [
    "#### **(3) 스칼라 곱** :\n",
    "#### $ \\hspace{0.15cm} $ ① $ 3 \\times \\textbf{u} = \\textbf{3u}= 3 \\times \\begin{bmatrix} 3\\\\2 \\end{bmatrix} = \\begin{bmatrix} 3 \\times 3\\\\3 \\times 2 \\end{bmatrix} = \\begin{bmatrix} 9\\\\6 \\end{bmatrix}$"
   ]
  },
  {
   "cell_type": "markdown",
   "metadata": {},
   "source": [
    "<b></b>"
   ]
  },
  {
   "attachments": {},
   "cell_type": "markdown",
   "metadata": {},
   "source": [
    "> ## **벡터 연산의 기하학적 표현(Geometric descriptions of $ \\; \\mathbb{R}^{2} $)**"
   ]
  },
  {
   "cell_type": "markdown",
   "metadata": {},
   "source": [
    "#### **(1) 벡터 합** : 두 벡터가 이루는 평행사변형의 대각선 \n",
    "#### $ \\textbf{u} = \\begin{bmatrix} 3\\\\2 \\end{bmatrix} \\;\\, \\textbf{v} = \\begin{bmatrix} -6\\\\1 \\end{bmatrix} \\;\\, \\textbf{w} = \\textbf{u} + \\textbf{v} = \\begin{bmatrix} -4\\\\3 \\end{bmatrix}$\n",
    "<img src=\"../../png/01.3 Vector Equation (1).png\" width=\"30%\" height=\"30%\"/></img>"
   ]
  },
  {
   "cell_type": "markdown",
   "metadata": {},
   "source": [
    "#### **(2) 스칼라 곱** : 스칼라가 양수일 경우 벡터의 크기, 음수일 경우 방향 조절\n",
    "#### $ \\textbf{u} = \\begin{bmatrix} 1\\\\2 \\end{bmatrix},\\;\\; a = 2,\\;\\; a\\textbf{u} = 2\\textbf{u} = \\begin{bmatrix} 2\\\\4 \\end{bmatrix}$\n",
    "<img src=\"../../png/01.3 Vector Equation (2).png\" width=\"30%\" height=\"30%\"/></img>"
   ]
  },
  {
   "cell_type": "markdown",
   "metadata": {},
   "source": [
    "<b></b>"
   ]
  },
  {
   "cell_type": "markdown",
   "metadata": {},
   "source": [
    "> ## **벡터 공간(Vector Space)**"
   ]
  },
  {
   "attachments": {},
   "cell_type": "markdown",
   "metadata": {},
   "source": [
    "#### **(1) 정의** : 영벡터를 가지며 벡터 덧셈, 스칼라 곱을 만족하며 공집합이 아닌(non-emptry)인 벡터로 이루어진 집합 $ \\, V $\n",
    "#### $ \\Rightarrow{} V = \\{ \\textbf{u}, \\textbf{v} \\} \\;\\; $ where $ \\, \\textbf{u}+\\textbf{v} \\in{} V \\, $ and $ \\, c\\textbf{u} \\in{} V \\, $ and $ \\textbf{0} \\in{} V $"
   ]
  },
  {
   "cell_type": "markdown",
   "metadata": {},
   "source": [
    "#### **(`PLUS`) 벡터 집합(vector set)** : (**일반적으로는 같은 차원의**) 여러 벡터들의 모음 "
   ]
  },
  {
   "cell_type": "markdown",
   "metadata": {},
   "source": [
    "#### **(2) 성질(공리)** :\n",
    "#### $ \\hspace{0.15cm} $ ① $ \\textbf{u} + \\textbf{v} = \\textbf{v} + \\textbf{u} $\n",
    "#### $ \\hspace{0.15cm} $ ② $ ( \\textbf{u} + \\textbf{v} ) + \\textbf{w} = \\textbf{v} + ( \\textbf{u} + \\textbf{w} ) $\n",
    "#### $ \\hspace{0.15cm} $ ③ $ \\textbf{u} + \\textbf{0} = \\textbf{0} + \\textbf{u} = \\textbf{u} $\n",
    "#### $ \\hspace{0.15cm} $ ④ $ \\textbf{u} + ( -\\textbf{u} ) = ( -\\textbf{u} ) + \\textbf{u} = \\textbf{0} $\n",
    "#### $ \\hspace{0.15cm} $ ⑤ $ c( \\textbf{u} + \\textbf{v} ) = c\\textbf{v} + c\\textbf{u} $\n",
    "#### $ \\hspace{0.15cm} $ ⑥ $ ( c + d )\\textbf{u} = c\\textbf{u} + d\\textbf{u} $\n",
    "#### $ \\hspace{0.15cm} $ ⑦ $ c( d\\textbf{u} ) = ( cd )\\textbf{u} $\n",
    "#### $ \\hspace{0.15cm} $ ⑧ $ 1\\textbf{u} = \\textbf{u} $"
   ]
  },
  {
   "cell_type": "markdown",
   "metadata": {},
   "source": [
    "#### **(`PLUS`)** 스칼라-벡터 합 연산($ c + \\textbf{u} $)은 정의되지 않음"
   ]
  },
  {
   "cell_type": "markdown",
   "metadata": {},
   "source": [
    "<b></b>"
   ]
  },
  {
   "cell_type": "markdown",
   "metadata": {},
   "source": [
    "> ## **선형 결합(Linear Combination)**"
   ]
  },
  {
   "attachments": {},
   "cell_type": "markdown",
   "metadata": {},
   "source": [
    "#### **(1) 정의** : 여러 개의 벡터와 가중치(계수)가 주어졌을 각 스칼라곱 및 벡터합을 행하는 연산 \n",
    "#### $ \\Rightarrow{} \\textbf{y} = c_{1}\\textbf{v}_{1} + c_{2}\\textbf{v}_{2} + \\cdots{} + c_{p}\\textbf{v}_{p} = \\displaystyle\\sum^{p}_{i=1} c_{i} \\textbf{v}_{i} $ \n",
    "#### ※ $ \\textbf{y} $ : 선형결합벡터, $ \\, \\textbf{v}_{i} $ : 벡터, $ \\, c_{i} $ : 가중치(weight) "
   ]
  },
  {
   "cell_type": "markdown",
   "metadata": {},
   "source": [
    "#### **(`PLUS`) 선형 결합이 가지는 의미** :  \n",
    "#### can $ \\, \\textbf{b} $ be generated as a linear combination of $ \\, \\{ \\textbf{a}_{1},\\, \\textbf{a}_{2} \\} $  \n",
    "#### = Does the following augmented matrix have a solution? $ \\, \\begin{bmatrix} \\textbf{a}_{1},\\, \\textbf{a}_{2},\\, \\textbf{b} \\end{bmatrix} $"
   ]
  },
  {
   "cell_type": "markdown",
   "metadata": {},
   "source": [
    "<b></b>"
   ]
  },
  {
   "cell_type": "markdown",
   "metadata": {},
   "source": [
    "> ## **선형 생성(Span)**"
   ]
  },
  {
   "attachments": {},
   "cell_type": "markdown",
   "metadata": {},
   "source": [
    "#### **(1) 정의** : 유한 개의 벡터들의 **선형 결합(linear combination)으로 이루어진 모든 벡터들**의 집합"
   ]
  },
  {
   "cell_type": "markdown",
   "metadata": {},
   "source": [
    "#### **(2) 기하학적 표현** :\n",
    "#### $ \\hspace{0.15cm} $ ① $ \\, 2 $ 차원에서의 의미 : \n",
    "<img src=\"../../png/01.3 Vector Equation (3).png\" width=\"30%\" height=\"30%\"/></img>\n",
    "#### $ \\hspace{0.15cm} $ ② $ \\, 3 $ 차원에서의 의미 :\n",
    "#### **[GRAPH]**"
   ]
  },
  {
   "cell_type": "markdown",
   "metadata": {},
   "source": [
    "#### **(`PLUS`) 선형 생성이 가지는 의미** : \n",
    "#### Is a vector $ \\textbf{b} $ in span $ \\{ \\textbf{v}_{1}, \\cdots{}, \\textbf{v}_{p} \\} \\; $ ? \n",
    "#### = Does the following vector equation have a solution ? $ x_{1}\\textbf{v}_{1} + \\cdots{} + x_{p}\\textbf{v}_{p} = \\textbf{b} \\; $ where $ \\; \\{ x_{1}, x_{2}, \\, \\cdots{}, x_{p} \\} \\subset{} \\mathbb{R}^{1} $\n",
    "#### = Does the following augmented matrix have a solution ? $ \\begin{bmatrix} \\textbf{v}_{1},\\, \\textbf{v}_{2},\\, \\textbf{b} \\end{bmatrix} $"
   ]
  }
 ],
 "metadata": {
  "kernelspec": {
   "display_name": "Python 3",
   "language": "python",
   "name": "python3"
  },
  "language_info": {
   "codemirror_mode": {
    "name": "ipython",
    "version": 3
   },
   "file_extension": ".py",
   "mimetype": "text/x-python",
   "name": "python",
   "nbconvert_exporter": "python",
   "pygments_lexer": "ipython3",
   "version": "3.11.3"
  },
  "orig_nbformat": 4
 },
 "nbformat": 4,
 "nbformat_minor": 2
}
