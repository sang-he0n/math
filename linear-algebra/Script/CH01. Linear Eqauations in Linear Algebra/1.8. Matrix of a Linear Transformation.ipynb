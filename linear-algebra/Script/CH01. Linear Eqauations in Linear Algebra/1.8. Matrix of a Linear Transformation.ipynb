{
 "cells": [
  {
   "attachments": {},
   "cell_type": "markdown",
   "metadata": {},
   "source": [
    "# CH01.8. **Matrix of a Linear Transformation**"
   ]
  },
  {
   "cell_type": "markdown",
   "metadata": {},
   "source": [
    "> ## **Matrix Transformation**"
   ]
  },
  {
   "cell_type": "markdown",
   "metadata": {},
   "source": [
    "#### **(1) 정의**\n",
    "#### 행렬과 벡터 간 곱셈을 통해 변환(transformation)을 하는 연산"
   ]
  },
  {
   "cell_type": "markdown",
   "metadata": {},
   "source": [
    "#### **(2) 형태**\n",
    "#### $ \\begin{bmatrix} 4&-3&1&3 \\\\ 2&0&5&1 \\end{bmatrix} \\begin{bmatrix} 1 \\\\ 1\\\\ 1 \\\\ 1 \\end{bmatrix} = \\begin{bmatrix} 5 \\\\ 8 \\end{bmatrix} $\n",
    "#### $ \\;\\;\\;\\;\\;\\;\\;\\;\\;\\;\\; A \\;\\;\\;\\;\\;\\;\\;\\;\\;\\;\\;\\;\\;\\; \\textbf{x} \\;\\; = \\;\\; \\textbf{b} $\n",
    "##### $ \\;\\;\\;\\;\\;\\;\\;\\;\\;\\;2 \\times 4 $ $ \\;\\;\\;\\;\\;\\;\\;\\; \\textbf{4} \\times 1 $ $ \\;\\;\\;\\; \\textbf{2} \\times 1 $\n",
    "#### ⇒ 이 때 행렬 $ A $ 는 (차원을 변환하는) 함수 $ \\; T $ 로 정의됨"
   ]
  },
  {
   "cell_type": "markdown",
   "metadata": {},
   "source": [
    "#### **(3) 특징** : 행렬 변환(matrix transformation)은 항상 **선형 변환**임"
   ]
  },
  {
   "cell_type": "markdown",
   "metadata": {},
   "source": [
    "#### **(WHY?)** **Theorem 5**에 의거해 행렬 연산은 선형성(Linearity)를 만족하기 때문"
   ]
  },
  {
   "cell_type": "markdown",
   "metadata": {},
   "source": [
    "#### **(3) 표기법**\n",
    "#### &nbsp;&nbsp; ① $ \\; \\textbf{x} \\longmapsto A\\textbf{X} $ \n",
    "#### &nbsp;&nbsp; ③ $ \\; \\textbf{x} \\;\\;\\;\\;\\; T(\\textbf(x)) \\;\\;\\;\\;\\; A\\textbf{x} $\n",
    "##### &nbsp;&nbsp; $ \\;\\;\\; n \\times 1 \\;\\;\\;\\;\\;\\;\\;\\;\\;\\;\\;\\;\\;\\;\\;\\;\\;\\; m \\times 1 $\n",
    "<b></b>"
   ]
  },
  {
   "cell_type": "markdown",
   "metadata": {},
   "source": [
    "#### (PLUS) **Matrix Transformation 추론**"
   ]
  },
  {
   "cell_type": "markdown",
   "metadata": {},
   "source": [
    "#### $ I_{2} = \\begin{bmatrix} 1&0 \\\\ 0&1 \\end{bmatrix} \\; are \\; \\textbf{e}_{1} = \\begin{bmatrix} 1 \\\\ 0 \\end{bmatrix} \\; and \\; \\textbf{e}_{2} = \\begin{bmatrix} 0 \\\\ 1 \\end{bmatrix} $ 이고, $ \\; T(\\textbf{e}_{1}) = \\begin{bmatrix} 5 \\\\ -7 \\\\ 2 \\end{bmatrix}, \\; T(\\textbf{e}_{2}) = \\begin{bmatrix} -3 \\\\ 8 \\\\ 0 \\end{bmatrix} $ 일 때\n",
    "#### $ \\textbf{x} = \\begin{bmatrix} x_{1} \\\\ x_{2} \\end{bmatrix} = x_{1} \\begin{bmatrix} 1 \\\\ 0 \\end{bmatrix} + x_{2} \\begin{bmatrix} 0 \\\\ 1 \\end{bmatrix} = x_{1}\\textbf{e}_{1} + x_{2}\\textbf{e}_{2}, \\;\\; then $ \n",
    "#### $ T(\\textbf{x}) = T(x_{1}\\textbf{e}_{1}) + T(x_{2}\\textbf{e}_{2}) = x_{1}T(\\textbf{e}_{1}) + x_{2}T(\\textbf{e}_{2}) =  x_{1} \\begin{bmatrix} 5 \\\\ -7 \\\\ 2 \\end{bmatrix} + x_{2} \\begin{bmatrix} -3\\\\8\\\\0 \\end{bmatrix} = \\begin{bmatrix} 5&-3 \\\\ -7&8 \\\\ 2&0 \\end{bmatrix} \\begin{bmatrix} x_{1} \\\\ x_{2} \\end{bmatrix} = T \\textbf{x} $\n",
    "#### $ \\therefore T = \\begin{bmatrix} T(\\textbf{e}_{1})&T(\\textbf{e}_{2}) \\end{bmatrix} $"
   ]
  },
  {
   "cell_type": "markdown",
   "metadata": {},
   "source": [
    "#### **(PLUS)** $ \\; T $ 를 편의상 $ \\; A $ 라고도 하며, $ \\; A $를 Standard matrix of Linear transformation $ \\; T $ 라고 정의함\n",
    "<b></b>"
   ]
  },
  {
   "cell_type": "markdown",
   "metadata": {},
   "source": [
    "> ## (Theorem 10)"
   ]
  },
  {
   "cell_type": "markdown",
   "metadata": {},
   "source": [
    "#### 변환 함수 $ T $ 가 선형 변환 일 경우, 동일한 차원을 변환하는 선형 변환 함수(행렬)은 **유일**하다. "
   ]
  },
  {
   "cell_type": "markdown",
   "metadata": {},
   "source": [
    "#### **(WHY?)**\n",
    "#### $ n \\times n \\; $ 항등 행렬 $ I $ 와 $ \\; n \\times 1 \\; $ 벡터 $ \\textbf{x} \\; $ 그리고 $ \\; n $ 차원에서 $ \\; m $  차원으로변환하는 선형 변환 함수(행렬) $ A $, $ \\; B $가 존재할 때\n",
    "#### $ \\textbf{x} = I_{n} \\textbf{x} = \\begin{bmatrix} e_{1}&e_{2}&\\cdots&e_{n} \\end{bmatrix} \\textbf{x}_{n} = x_{1}\\textbf{e}_{1} + x_{2}\\textbf{e}_{2} + \\cdots + x_{n}\\textbf{e}_{n} $\n",
    "#### $ if \\;\\; T(\\textbf{x}) = A\\textbf{x}, \\;\\; then $\n",
    "#### $ A\\textbf{x} = T(x_{1}\\textbf{e}_{1} + x_{2}\\textbf{e}_{2} + \\cdots + x_{n}\\textbf{e}_{n}) = x_{1}T(\\textbf{e}_{1}) + x_{2}T(\\textbf{e}_{2}) + \\cdots + x_{n}T(\\textbf{e}_{n}) = \\begin{bmatrix} T(\\textbf{e}_{1})&T(\\textbf{e}_{2})+\\cdots+T(\\textbf{e}_{n}) \\end{bmatrix} \\textbf{x} $\n",
    "#### $ if \\;\\; T(\\textbf{x}) = B\\textbf{x}, \\;\\; then $\n",
    "#### $ B\\textbf{x} = T(x_{1}\\textbf{e}_{1} + x_{2}\\textbf{e}_{2} + \\cdots + x_{n}\\textbf{e}_{n}) = x_{1}T(\\textbf{e}_{1}) + x_{2}T(\\textbf{e}_{2}) + \\cdots + x_{n}T(\\textbf{e}_{n}) = \\begin{bmatrix} T(\\textbf{e}_{1})&T(\\textbf{e}_{2})+\\cdots+T(\\textbf{e}_{n}) \\end{bmatrix} \\textbf{x} $\n",
    "#### $ \\therefore A = B $\n",
    "<b></b>"
   ]
  },
  {
   "cell_type": "markdown",
   "metadata": {},
   "source": [
    "> ## **Gemoetric Linear transformation of $ \\; \\mathbb{R}^{2} $**"
   ]
  },
  {
   "cell_type": "markdown",
   "metadata": {},
   "source": [
    "#### **[CONTENTS]**\n",
    "#### **[GRAPH]**\n",
    "<b></b>"
   ]
  },
  {
   "cell_type": "markdown",
   "metadata": {},
   "source": [
    "> ## **Transformation Relationship**"
   ]
  },
  {
   "cell_type": "markdown",
   "metadata": {},
   "source": [
    "#### **(1) Onto** : $ \\mathbb{R}^{n} $ 에서 $ \\mathbb{R}^{m} $ 으로 가는 선형 변환 함수 $ T $ 가 있을 때, image가 최소한 하나라도 존재\n",
    "#### $ \\;\\;\\;\\;\\;\\;\\;\\;\\;\\;\\;\\;\\; $ = 해당 선형 시스템에서 solution set이 최소한 하나라도 존재\n",
    "#### **[GRAPH]**\n",
    "#### **(PLUS)** \n",
    "#### Does $ T $ map $ \\mathbb{R}^{n} \\;\\; $ **onto** $ \\;\\; \\mathbb{R}^{n} $ ?\n",
    "#### ⇒ Does $ \\; T(\\textbf{x}) = \\textbf{b} \\; $ have **at least one solution** for each $ \\; \\textbf{b} \\; $ in $ \\; \\mathbb{R}^{m} $ ? "
   ]
  },
  {
   "cell_type": "markdown",
   "metadata": {},
   "source": [
    "#### **(2) One-to-one** : $ \\mathbb{R}^{n} $ 에서 $ \\mathbb{R}^{m} $ 으로 가는 선형 변환 함수 $ T $ 가 있을 때, image가 하나 혹은 존재하지 않음\n",
    "#### **[GRAPH]**\n",
    "#### Does $ T $ map $ \\mathbb{R}^{n} \\;\\; $ **one** $ \\; to \\; one \\;\\; \\mathbb{R}^{n} $ ?\n",
    "#### ⇒ Does $ \\; T(\\textbf{x}) = \\textbf{b} \\; $ have **unique solution or none** at all ?\n",
    "<b></b>"
   ]
  },
  {
   "cell_type": "markdown",
   "metadata": {},
   "source": [
    "> ## (Theorem 11)"
   ]
  },
  {
   "cell_type": "markdown",
   "metadata": {},
   "source": [
    "#### 선형 변환 함수 $ T $ 가 $ \\; \\mathbb{R}^{n} $ 에서 $ \\; \\mathbb{R}^{m} $ 으로 one-to-one일 경우, $ \\; T(\\textbf{x}) = 0 \\; $ 은 오직 **trivial solution**을 갖는다. (반대도 성립)\n",
    "#### = 벡터 $ \\textbf{x} $ 가 $ \\; \\textbf{0} \\; $인 해($ \\textbf{x} = \\textbf{0} $)\n",
    "#### = 해가 오직 1개 밖에 존재하지 않는다. "
   ]
  },
  {
   "cell_type": "markdown",
   "metadata": {},
   "source": [
    "> ## (Theorem 12)"
   ]
  },
  {
   "cell_type": "markdown",
   "metadata": {},
   "source": [
    "#### **(1)** 선형 변환 함수 $ T $ 의 standard matrix가 $ A $ 이고 $ \\; \\mathbb{R}^{n} $ 에서 $ \\; \\mathbb{R}^{m} $ 으로 onto할 경우, $ \\; A $ 의 열 벡터들은 $ \\; \\mathbb{R}^m $ 을 span한다.\n",
    "#### **(WHY?)** **정리 4**에 의거해 **[CONTENTS]**\n",
    "#### **(2)** 선형 변환 함수 $ T $ 의 standard matrix가 $ A $ 이고 $ \\; \\mathbb{R}^{n} $ 에서 $ \\; \\mathbb{R}^{m} $ 으로 one-to-one할 경우, $ \\; A $ 의 열 벡터 집합은 선형 독립이다.\n",
    "<b></b>"
   ]
  }
 ],
 "metadata": {
  "kernelspec": {
   "display_name": "Python 3",
   "language": "python",
   "name": "python3"
  },
  "language_info": {
   "codemirror_mode": {
    "name": "ipython",
    "version": 3
   },
   "file_extension": ".py",
   "mimetype": "text/x-python",
   "name": "python",
   "nbconvert_exporter": "python",
   "pygments_lexer": "ipython3",
   "version": "3.11.3"
  },
  "orig_nbformat": 4
 },
 "nbformat": 4,
 "nbformat_minor": 2
}
