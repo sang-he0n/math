{
 "cells": [
  {
   "attachments": {},
   "cell_type": "markdown",
   "metadata": {},
   "source": [
    "# CH01.5. **Solution Sets of Linear System**"
   ]
  },
  {
   "cell_type": "markdown",
   "metadata": {},
   "source": [
    "> ## **Homogeneous Linear Systems**"
   ]
  },
  {
   "cell_type": "markdown",
   "metadata": {},
   "source": [
    "#### **(1) 정의** : 동차 선형 시스템(homogeneous linear system)은 상수항(열)이 0인 시스템을 의미함"
   ]
  },
  {
   "cell_type": "markdown",
   "metadata": {},
   "source": [
    "#### **(2) 형태**\n",
    "#### For $A$ is $m \\times n$ matrix with columns $\\textbf{a}_{1}, \\textbf{a}_{2}, \\cdots, \\textbf{a}_{n} \\;\\;and\\;\\; \\textbf{a}$ is vector in $\\mathbb{R}^m$, $\\textbf{x}$ is vector in $\\mathbb{R}^n$\n",
    "#### $A\\textbf{x} = \\begin{bmatrix} \\textbf{a}_{1}& \\cdots &\\textbf{a}_n \\end{bmatrix} \\times \\begin{bmatrix} x_{1}\\\\\\cdots\\\\x_{n} \\end{bmatrix} = x_{1}\\textbf{a}_{1}+x_{2}\\textbf{a}_{2}+\\cdots+x_{n}\\textbf{a}_{n} = \\textbf{0} $"
   ]
  },
  {
   "cell_type": "markdown",
   "metadata": {},
   "source": [
    "#### **(3) 해의 종류** : \n",
    "#### &nbsp;&nbsp; ① trivial solution(자명해) : 벡터 $ \\textbf{x} $ 가 $ \\; \\textbf{0} \\; $인 해 \n",
    "#### &nbsp;&nbsp; ② **non trivial solution(비자명해)** : 벡터 $ \\textbf{x} $ 가 $ \\; \\textbf{0} \\; $이 **아닌 해** (**free variable**을 갖는 해)"
   ]
  },
  {
   "cell_type": "markdown",
   "metadata": {},
   "source": [
    "#### **(WHY?)** **정리2**에 의거해 선형 시스템에서 Consistent할 경우 해를 1개만 갖거나 무한히 갖는데, 동차선형시스템에서는 무조건 trivial solution을 갖고 있기 때문"
   ]
  },
  {
   "cell_type": "markdown",
   "metadata": {},
   "source": [
    "#### **(4) 해의 특징** : \n",
    "#### &nbsp;&nbsp; ① 동차 선형 시스템에서는 자명해 혹은 자명해를 포함한 비자명해를 가짐\n",
    "#### &nbsp;&nbsp; ② 동차 선형 시스템의 해는 **언제나** span 형태로 표현됨"
   ]
  },
  {
   "cell_type": "markdown",
   "metadata": {},
   "source": [
    "#### **(WHY?)** 아래와 같은 동차선형체계가 존재할 때, 해는 다음과 같음\n",
    "#### $ \\begin{aligned} 3x_{1}+5x_{2}-4x_{3} &= 0 \\\\ -3x_{1}-2x_{2}+4x_{3} &= 0 \\\\ 6x_{1}+x_{2}-8x_{3} &= 0 \\end{aligned} $\n",
    "#### $ \\begin{bmatrix} 3&5&-4&0 \\\\ -3&-2&4&0 \\\\ 6&1&-8&0 \\end{bmatrix} $ ~ $ \\begin{bmatrix} 3&5&-4&0 \\\\ 0&3&0&0 \\\\ 0&-9&0&0 \\end{bmatrix} $ ~ $ \\begin{bmatrix} 3&5&-4&0 \\\\ 0&3&0&0 \\\\ 0&0&0&0 \\end{bmatrix} $ ~ $ \\begin{bmatrix} 3&5&-4&0 \\\\ 0&1&0&0 \\\\ 0&0&0&0 \\end{bmatrix} $ ~ $ \\begin{bmatrix} 3&0&-4&0 \\\\ 0&1&0&0 \\\\ 0&0&0&0 \\end{bmatrix} $ ~ $ \\begin{bmatrix} 1&0&-{{4}\\over{3}}&0 \\\\ 0&1&0&0 \\\\ 0&0&0&0 \\end{bmatrix} $\n",
    "#### $ \\therefore \\textbf{x} = \\begin{bmatrix} x_{1} \\\\ x_{2} \\\\ x_{3} \\end{bmatrix} = \\begin{bmatrix} {{4}\\over{3}}x_{3} \\\\ 0 \\\\ x_{3} \\end{bmatrix} = x_{3} \\textbf{v} = span \\{ \\textbf{v} \\},  \\;\\; where \\;\\; \\textbf{v} = \\begin{bmatrix} {{4}\\over{3}} \\\\ 0 \\\\ 1 \\end{bmatrix} $  \n",
    "#### **[GRAPH]**"
   ]
  },
  {
   "cell_type": "markdown",
   "metadata": {},
   "source": [
    "#### **(PLUS) Parametic vector form**\n",
    "#### **[TEXT]**\n",
    "<b></b>"
   ]
  },
  {
   "cell_type": "markdown",
   "metadata": {},
   "source": [
    "> ## **Non-homogeneous Linear Systems**"
   ]
  },
  {
   "cell_type": "markdown",
   "metadata": {},
   "source": [
    "#### **(1) 정의** : 비동차 선형 시스템(non homogeneous linear system)은 상수항(열)이 0이 아닌 시스템을 의미함"
   ]
  },
  {
   "cell_type": "markdown",
   "metadata": {},
   "source": [
    "#### **(2) 형태**\n",
    "#### For $A$ is $m \\times n$ matrix with columns $\\textbf{a}_{1}, \\textbf{a}_{2}, \\cdots, \\textbf{a}_{n} $ and $ \\textbf{a} \\; \\& \\textbf{b} \\;$ is vector in $\\mathbb{R}^m$, $\\textbf{x}$ is vector in $\\mathbb{R}^n$\n",
    "#### $A\\textbf{x} = \\begin{bmatrix} \\textbf{a}_{1}& \\cdots &\\textbf{a}_n \\end{bmatrix} \\times \\begin{bmatrix} x_{1}\\\\\\cdots\\\\x_{n} \\end{bmatrix} = x_{1}\\textbf{a}_{1}+x_{2}\\textbf{a}_{2}+\\cdots+x_{n}\\textbf{a}_{n} = \\textbf{b} \\,\\, where \\,\\, \\textbf{b} \\in \\{ \\mathbb{R^{m}} | \\mathbb{R^{m}} \\notni \\textbf{0} \\} $"
   ]
  },
  {
   "cell_type": "markdown",
   "metadata": {},
   "source": [
    "#### **(3) 해의 특징 (Theorem 6)**\n",
    "#### 비동차 선형 시스템의 solution set은 비동차 선형 시스템의 solution set을 포함한 형태로 표현할 수 있음\n",
    "#### = 비동차 선형 시스템의 solution set과 동차 선형 시스템의 solution set은 **평행**함\n",
    "#### $ \\begin{aligned} 3x_{1}+5x_{2}-4x_{3} &= 7 \\\\ -3x_{1}-2x_{2}+4x_{3} &= -1 \\\\ 6x_{1}+x_{2}-8x_{3} &= -4 \\end{aligned} $\n",
    "#### $ \\begin{bmatrix} 3&5&-4&7 \\\\ -3&-2&4&-1 \\\\ 6&1&-8&-4 \\end{bmatrix} $ ~ $ \\begin{bmatrix} 3&5&-4&7 \\\\ 0&3&0&6 \\\\ 0&-9&0&-18 \\end{bmatrix} $ ~ $ \\begin{bmatrix} 3&5&-4&7 \\\\ 0&3&0&6 \\\\ 0&0&0&0 \\end{bmatrix} $ ~ $ \\begin{bmatrix} 3&5&-4&7 \\\\ 0&1&0&2 \\\\ 0&0&0&0 \\end{bmatrix} $ ~ $ \\begin{bmatrix} 3&0&-4&-3 \\\\ 0&1&0&2 \\\\ 0&0&0&0 \\end{bmatrix} $ ~ $ \\begin{bmatrix} 1&0&-{{4}\\over{3}}&-1 \\\\ 0&1&0&2 \\\\ 0&0&0&0 \\end{bmatrix} $\n",
    "#### $ \\therefore \\textbf{x} = \\begin{bmatrix} x_{1} \\\\ x_{2} \\\\ x_{3} \\end{bmatrix} = \\begin{bmatrix} -1+{{4}\\over{3}}x_{3} \\\\ 2 \\\\ x_{3} \\end{bmatrix} = \\begin{bmatrix} -1\\\\2\\\\0 \\end{bmatrix} + x_{3} \\begin{bmatrix} {{4}\\over{3}} \\\\ 0 \\\\ 1\\end{bmatrix} = = \\begin{bmatrix} -1\\\\2\\\\0 \\end{bmatrix} + x_{3} \\textbf{v} = \\begin{bmatrix} -1\\\\2\\\\0 \\end{bmatrix} + span\\{\\ \\textbf{v} \\} $  \n",
    "#### **[GRAPH]**\n",
    "<b></b>"
   ]
  }
 ],
 "metadata": {
  "kernelspec": {
   "display_name": "Python 3",
   "language": "python",
   "name": "python3"
  },
  "language_info": {
   "codemirror_mode": {
    "name": "ipython",
    "version": 3
   },
   "file_extension": ".py",
   "mimetype": "text/x-python",
   "name": "python",
   "nbconvert_exporter": "python",
   "pygments_lexer": "ipython3",
   "version": "3.11.3"
  },
  "orig_nbformat": 4
 },
 "nbformat": 4,
 "nbformat_minor": 2
}
