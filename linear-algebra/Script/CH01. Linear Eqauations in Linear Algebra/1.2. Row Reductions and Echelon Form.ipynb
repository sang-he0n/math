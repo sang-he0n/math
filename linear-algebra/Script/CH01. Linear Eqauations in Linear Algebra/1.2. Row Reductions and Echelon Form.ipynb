{
 "cells": [
  {
   "attachments": {},
   "cell_type": "markdown",
   "metadata": {},
   "source": [
    "# CH01.2. **Row Reduction and Echelon Form**"
   ]
  },
  {
   "cell_type": "markdown",
   "metadata": {},
   "source": [
    "> ## **Leading Entry of row** "
   ]
  },
  {
   "cell_type": "markdown",
   "metadata": {},
   "source": [
    "#### **(1) 정의** : non zero row에서 가장 왼쪽에 있는 0이 아닌 성분\n",
    "#### $\\begin{bmatrix} 0&\\textbf{1}&-2&0 \\\\ \\textbf{2}&0&-8&8 \\\\ 0&\\textbf{2}&7&0 \\\\ \\textbf{3}&3&-9&6 \\\\ 0&0&\\textbf{1}&0 \\end{bmatrix}$ &nbsp;&nbsp; $\\begin{matrix} \\cdots \\,\\, Leading Entry = 1 \\\\ \\cdots \\,\\, Leading Entry = 2 \\\\ \\cdots \\,\\, Leading Entry = 2 \\\\ \\cdots \\,\\, Leading Entry = 3 \\\\ \\cdots \\,\\, Leading Entry = 1 \\end{matrix}$"
   ]
  },
  {
   "attachments": {},
   "cell_type": "markdown",
   "metadata": {},
   "source": [
    "#### **(PLUS)** Non zero row(or column)\n",
    "#### 특정 행렬에서 한 행(혹은 열)을 추출했을 때 그 성분이 하나라도 0이 아닌 행(혹은 열)\n",
    "#### $ \\begin{bmatrix} 0 \\\\ 0 \\\\ a \\\\ 0 \\\\ 0\\end{bmatrix} \\,\\, where \\,\\, a \\in \\{ \\mathbb{R^1} | \\mathbb{R^1} \\notni 0 \\}$\n",
    "<b></b>"
   ]
  },
  {
   "cell_type": "markdown",
   "metadata": {},
   "source": [
    "> ## **Row Echelon Form**"
   ]
  },
  {
   "cell_type": "markdown",
   "metadata": {},
   "source": [
    "#### **(1) 정의**\n",
    "#### &nbsp;&nbsp; ① 모든 non zero row들은 all zero row보다 위에 있어야함\n",
    "#### &nbsp;&nbsp; ② 각 leading entry는 위의 leading entry보다 오른쪽에에 위치해야함\n",
    "#### &nbsp;&nbsp; ③ leading entry와 같은 열 내에서 leading entry보다 아래에 있는 성분들은 모두 0이어야함"
   ]
  },
  {
   "cell_type": "markdown",
   "metadata": {},
   "source": [
    "#### **(2) 형태**\n",
    "#### $\\begin{bmatrix} a&*&*&* \\\\ 0&b&*&* \\\\ 0&0&c&* \\\\ 0&0&0&d \\\\ 0&0&0&0 \\end{bmatrix} \\,\\, where \\,\\, \\{a, b, c, d, * \\} \\subset \\{ \\mathbb{R^1} | \\mathbb{R^1} \\ni 0 \\} $\n",
    "<b></b>"
   ]
  },
  {
   "cell_type": "markdown",
   "metadata": {},
   "source": [
    "> ## **Reduced Row Echelon Form**"
   ]
  },
  {
   "attachments": {},
   "cell_type": "markdown",
   "metadata": {},
   "source": [
    "#### **(1) 정의**\n",
    "#### &nbsp;&nbsp; ① 모든 non zero row들은 all zero row보다 위에 있어야함\n",
    "#### &nbsp;&nbsp; ② 각 leading entry는 위의 leading entry보다 오른쪽에에 위치해야함\n",
    "#### &nbsp;&nbsp; ③ leading entry와 같은 열 내에서 leading entry보다 아래에 있는 성분들은 모두 0이어야함\n",
    "#### &nbsp;&nbsp; ④ leading entry는 1임\n",
    "#### &nbsp;&nbsp; ⑤ 각 leading entry를 포함한 열들은 leading entry를 제외한 모든 성분이 0임"
   ]
  },
  {
   "attachments": {},
   "cell_type": "markdown",
   "metadata": {},
   "source": [
    "#### **(2) 형태**\n",
    "#### $\\begin{bmatrix} 1&0&0&* \\\\ 0&1&0&* \\\\ 0&0&1&* \\\\ 0&0&0&1 \\\\ 0&0&0&0 \\end{bmatrix}$\n",
    "<b></b>"
   ]
  },
  {
   "attachments": {},
   "cell_type": "markdown",
   "metadata": {},
   "source": [
    "> ## (Theorem 1) **Uniqueness of the Reduced Echelon Form**"
   ]
  },
  {
   "cell_type": "markdown",
   "metadata": {},
   "source": [
    "#### 특정 행렬(=linear system)에 대하여 행 연산시 **유일**한 reduced echelon form만이 존재한다.\n",
    "<b></b>"
   ]
  },
  {
   "attachments": {},
   "cell_type": "markdown",
   "metadata": {},
   "source": [
    "> ## **Row Reduction Algorithm**"
   ]
  },
  {
   "cell_type": "markdown",
   "metadata": {},
   "source": [
    "#### **(1) 정의** : row operation을 이용하여 행렬을 (reduced) row echelon form으로 만들기 위한 방법"
   ]
  },
  {
   "cell_type": "markdown",
   "metadata": {},
   "source": [
    "#### **(2) 연산 순서**"
   ]
  },
  {
   "attachments": {},
   "cell_type": "markdown",
   "metadata": {},
   "source": [
    "#### &nbsp;&nbsp; ① 가장 왼쪽의 non zero column에서 시작 (이를 첫 번째 pivot column이라 정의)\n",
    "#### $\\begin{bmatrix} \\textbf{0}&2&-8&8 \\\\ \\textbf{1}&-2&1&0 \\\\ \\textbf{-4}&5&9&-9 \\end{bmatrix}$\n",
    "#### &nbsp;&nbsp; ② Pivot Column에서 pivot(첫 번째 성분)은 non zero entry를 선택해야함. 그렇지 않다면 다른 행과 교환(interchanging)함\n",
    "#### ~ $\\begin{bmatrix} \\textbf{1}&-2&1&0 \\\\ \\textbf{0}&2&-8&8 \\\\ \\textbf{-4}&5&9&-9 \\end{bmatrix}$\n",
    "#### &nbsp;&nbsp; ③ Replacement 연산을 통해 pivot 아래의 모든 성분들을 0으로 만듬\n",
    "#### ~ $\\begin{bmatrix} \\textbf{1}&-2&1&0 \\\\ \\textbf{0}&2&-8&8 \\\\ \\textbf{0}&-3&13&-9 \\end{bmatrix}$\n",
    "#### &nbsp;&nbsp; ④ 위의 과정(①~③)을 (n번째 row를 제외하여 n번째 pivot column을 찾을) sub matrix에 반복 적용함\n",
    "#### ~ $\\begin{bmatrix} 1&-2&1&0 \\\\ 0&\\textbf{2}&-8&8 \\\\ 0&-\\textbf{3}&13&-9 \\end{bmatrix}$ ~ $\\begin{bmatrix} 1&-2&1&0 \\\\ 0&\\textbf{2}&-8&8 \\\\ 0&\\textbf{0}&1&3 \\end{bmatrix}$ ~ $\\begin{bmatrix} 1&-2&1&0 \\\\ 0&2&-8&8 \\\\ 0&0&\\textbf{1}&3 \\end{bmatrix}$\n",
    "#### &nbsp;&nbsp; ⑤ 가장 오른쪽에 있는 pivot을 1로 만들고, 각 pivot 위 성분들을 0으로 만듬.\n",
    "#### ~ $\\begin{bmatrix} 1&-2&\\textbf{1}&0 \\\\ 0&2&\\textbf{-8}&8 \\\\ 0&0&\\textbf{1}&3 \\end{bmatrix}$ ~ $\\begin{bmatrix} 1&-2&\\textbf{0}&-3 \\\\ 0&2&\\textbf{0}&32 \\\\ 0&0&\\textbf{1}&3 \\end{bmatrix}$ ~ &nbsp; $  \\cdots $ &nbsp;&nbsp;~ $\\begin{bmatrix} 1&\\textbf{0}&0&29 \\\\ 0&\\textbf{1}&0&16 \\\\ 0&0&1&3 \\end{bmatrix}$"
   ]
  },
  {
   "attachments": {},
   "cell_type": "markdown",
   "metadata": {},
   "source": [
    "#### **(PLUS)** 위의 과정 중 ①~④번을 **forward phase**라고 정의하며, ⑤번 과정을 **backward phase**라고 정의함\n",
    "<b></b>"
   ]
  },
  {
   "attachments": {},
   "cell_type": "markdown",
   "metadata": {},
   "source": [
    "> ## **Solution of linear system**"
   ]
  },
  {
   "cell_type": "markdown",
   "metadata": {},
   "source": [
    "#### **(1) 정의** : linear system에서 가능한 모든 해의 집합 (**general solution**)"
   ]
  },
  {
   "cell_type": "markdown",
   "metadata": {},
   "source": [
    "#### **(2) 변수의 종류**\n",
    "#### &nbsp;&nbsp; ① **basic variable** : reduced echelon form에서 leading entry에 대응되는 변수\n",
    "#### &nbsp;&nbsp; ② **free variable** : reduced echelon form에서 leading entry에 대응되지 않는 변수"
   ]
  },
  {
   "cell_type": "markdown",
   "metadata": {},
   "source": [
    "#### **(3) 형태**\n",
    "#### $\\begin{aligned} x_{1}-5x_{3} &= -1 \\\\ x_{2}+x_{3} &=4 \\end{aligned}$ &nbsp;&nbsp;⇒&nbsp;&nbsp; $\\begin{bmatrix} \\textbf{1}&0&-5&1 \\\\ 0&\\textbf{1}&1&4 \\end{bmatrix}$ &nbsp;&nbsp;&nbsp;&nbsp;&nbsp;&nbsp;&nbsp;&nbsp; $\\begin{cases} x_{1} = 1 + 5x_{3} \\\\ x_2 = 4 - x_3 \\\\ x_3 \\,\\, is \\,\\, free\\,\\, variable \\end{cases}$\n",
    "<b></b>"
   ]
  },
  {
   "attachments": {},
   "cell_type": "markdown",
   "metadata": {},
   "source": [
    "> ## (Theorem 2) **Existence and Uniqueness Theorem**\n",
    "#### **(1)** 선형 시스템을 augumented matrix로 표현할 경우, 상수항(가장 오른쪽에 있는) 열에 leading entry가 존재한다면, 해당 선형 시스템은 해가 존재하지 않는다. **(Inconsistent)**\n",
    "#### **(2)** 만약 선형 시스템의 general solution에 free variable이 존재한다면, 해당 선형 시스템에는 해가 무수히 많이 존재한다. **(Consistent)**\n",
    "#### &nbsp;&nbsp;&nbsp;&nbsp;&nbsp;&nbsp;&nbsp;free variable이 존재하지 않다면 해가 1개만 존재한다. **(Consistent)**\n",
    "<b></b>"
   ]
  }
 ],
 "metadata": {
  "kernelspec": {
   "display_name": "Python 3",
   "language": "python",
   "name": "python3"
  },
  "language_info": {
   "name": "python",
   "version": "3.9.6"
  },
  "orig_nbformat": 4
 },
 "nbformat": 4,
 "nbformat_minor": 2
}
