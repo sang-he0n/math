{
 "cells": [
  {
   "attachments": {},
   "cell_type": "markdown",
   "metadata": {},
   "source": [
    "## CH01.2. **Row Reduction and Echelon Form**"
   ]
  },
  {
   "attachments": {},
   "cell_type": "markdown",
   "metadata": {},
   "source": [
    "### 1) **nonzero row or columns**"
   ]
  },
  {
   "attachments": {},
   "cell_type": "markdown",
   "metadata": {},
   "source": [
    "#### A non-zero vector is one with at least one non-zero entry(component).\n",
    "##### $ \\begin{bmatrix} 0 \\\\ 0 \\\\ a \\\\ 0 \\\\ 0\\end{bmatrix} \\,\\, where \\,\\, a \\in \\{ \\mathbb{R^1} | \\mathbb{R^1} \\notni 0 \\}$\n",
    "<b></b>"
   ]
  },
  {
   "attachments": {},
   "cell_type": "markdown",
   "metadata": {},
   "source": [
    "### 2) **A leading entry of row**"
   ]
  },
  {
   "attachments": {},
   "cell_type": "markdown",
   "metadata": {},
   "source": [
    "#### Leading entry is The left most nonzero entry.\n",
    "##### $\\begin{bmatrix} 0&\\textit{\\textbf{1}}&-2&0 \\\\ \\textit{\\textbf{2}}&0&-8&8 \\\\ 0&\\textit{\\textbf{2}}&7&0 \\\\ \\textit{\\textbf{3}}&3&-9&6 \\\\ 0&0&\\textit{\\textbf{1}}&0 \\end{bmatrix}$ &nbsp;&nbsp; $\\begin{matrix}\\cdots \\,\\, 1 \\\\ \\cdots \\,\\, 2 \\\\ \\cdots \\,\\, 2 \\\\ \\cdots \\,\\, 3 \\\\ \\cdots \\,\\, 1 \\end{matrix}$\n",
    "<b></b>"
   ]
  },
  {
   "attachments": {},
   "cell_type": "markdown",
   "metadata": {},
   "source": [
    "### 3) **Echelone form**"
   ]
  },
  {
   "attachments": {},
   "cell_type": "markdown",
   "metadata": {},
   "source": [
    "#### (1) All **nonzero** rows are abocve any rows of all zeros.\n",
    "#### (2) Each leading entry of a row is in a column to the **right** of the leading entry of the row above it.\n",
    "##### $\\begin{bmatrix} a&*&*&* \\\\ 0&b&*&* \\\\ 0&0&c&* \\\\ 0&0&0&d \\\\ 0&0&0&0 \\end{bmatrix} \\,\\, where \\,\\, \\{a, b, c, d, * \\} \\subset \\{ \\mathbb{R^1} | \\mathbb{R^1} \\notni 0 \\} $\n",
    "<b></b>"
   ]
  },
  {
   "attachments": {},
   "cell_type": "markdown",
   "metadata": {},
   "source": [
    "### 4) **Reduced echelon form**"
   ]
  },
  {
   "attachments": {},
   "cell_type": "markdown",
   "metadata": {},
   "source": [
    "#### (1) All **nonzero** rows are abocve any rows of all zeros.\n",
    "#### (2) Each leading entry of a row is in a column to the **right** of the leading entry of the row above it.\n",
    "#### (3) The leading entry in each nonzero row is 1.\n",
    "#### (4) Each leading 1 is the only nonzero entry in tis columns.\n",
    "##### $\\begin{bmatrix} 1&0&0&0 \\\\ 0&1&0&0 \\\\ 0&0&1&0 \\\\ 0&0&0&1 \\\\ 0&0&0&0 \\end{bmatrix}$\n",
    "##### * pivot : leading entry"
   ]
  },
  {
   "attachments": {},
   "cell_type": "markdown",
   "metadata": {},
   "source": [
    "#### (Theorem 1) **Uniqueness of the Reduced Echelon Form**\n",
    "##### Each matrix is row equivalent to **one and only one** reduced echelon matrix.\n",
    "<b></b>"
   ]
  },
  {
   "attachments": {},
   "cell_type": "markdown",
   "metadata": {},
   "source": [
    "### 5) **Row reduction algorithm**"
   ]
  },
  {
   "attachments": {},
   "cell_type": "markdown",
   "metadata": {},
   "source": [
    "#### (1) begin with the leftmost nonzero column.\n",
    "##### $\\begin{bmatrix} \\textit{\\textbf{0}}&1&-2&0 \\\\ \\textit{\\textbf{2}}&0&-8&8 \\\\ \\textit{\\textbf{0}}&2&7&0 \\\\ \\textit{\\textbf{3}}&3&-9&6 \\\\ \\textit{\\textbf{0}}&0&1&0 \\end{bmatrix}$"
   ]
  },
  {
   "attachments": {},
   "cell_type": "markdown",
   "metadata": {},
   "source": [
    "#### (2) select a nonzero entry in the pivot column as a pivot If neceessary, interchange rows to move this entry into the pivot position.\n",
    "##### ~&nbsp;&nbsp; $\\begin{bmatrix} \\textit{\\textbf{2}}&0&-8&8 \\\\ \\textit{\\textbf{0}}&1&-2&0 \\\\ \\textit{\\textbf{0}}&2&7&0 \\\\ \\textit{\\textbf{3}}&3&-9&6 \\\\ \\textit{\\textbf{0}}&0&1&0 \\end{bmatrix}$ "
   ]
  },
  {
   "attachments": {},
   "cell_type": "markdown",
   "metadata": {},
   "source": [
    "#### (3) row replacement to create zeroes in all positions below the pivot.\n",
    "##### ~&nbsp;&nbsp; $\\begin{bmatrix} \\textit{\\textbf{1}}&0&-4&4 \\\\ \\textit{\\textbf{0}}&1&-2&0 \\\\ \\textit{\\textbf{0}}&2&7&0 \\\\ \\textit{\\textbf{3}}&3&-9&6 \\\\ \\textit{\\textbf{0}}&0&1&0 \\end{bmatrix}$ &nbsp;&nbsp;~&nbsp;&nbsp; $\\begin{bmatrix} \\textit{\\textbf{1}}&0&-4&4 \\\\ \\textit{\\textbf{0}}&1&-2&0 \\\\ \\textit{\\textbf{0}}&2&7&0 \\\\ \\textit{\\textbf{0}}&3&3&-6 \\\\ \\textit{\\textbf{0}}&0&1&0 \\end{bmatrix}$"
   ]
  },
  {
   "attachments": {},
   "cell_type": "markdown",
   "metadata": {},
   "source": [
    "#### (4) apply steps (1)~(3) to the submatrix that remain\n",
    "##### ~&nbsp;&nbsp; $\\begin{bmatrix} 1&\\textit{\\textbf{0}}&-4&4 \\\\ 0&\\textit{\\textbf{1}}&-2&0 \\\\ 0&\\textit{\\textbf{2}}&7&0 \\\\ 0&\\textit{\\textbf{3}}&3&-6 \\\\ 0&\\textit{\\textbf{0}}&1&0 \\end{bmatrix}$ &nbsp;&nbsp;~&nbsp;&nbsp; $\\cdots$ &nbsp;&nbsp;~&nbsp;&nbsp; $\\begin{bmatrix} 1&\\textit{\\textbf{0}}&-4&4 \\\\ 0&\\textit{\\textbf{1}}&-2&0 \\\\ 0&\\textit{\\textbf{0}}&11&0 \\\\ 0&\\textit{\\textbf{0}}&3&-2 \\\\ 0&\\textit{\\textbf{0}}&1&0 \\end{bmatrix}$ &nbsp;&nbsp;~&nbsp;&nbsp; $\\cdots$ &nbsp;&nbsp;~&nbsp;&nbsp; $\\begin{bmatrix} 1&0&-4&4 \\\\ 0&1&-2&0 \\\\ 0&0&1&0 \\\\ 0&0&0&1 \\\\ 0&0&0&0 \\end{bmatrix}$"
   ]
  },
  {
   "attachments": {},
   "cell_type": "markdown",
   "metadata": {},
   "source": [
    "#### (5) Beginning with the rightmost pivot and working upward and to the left, create zeroes above each pivot.\n",
    "#### &nbsp;&nbsp;&nbsp;&nbsp;&nbsp;&nbsp;&nbsp;If a pivot is not 1, make it 1 by a scaling operation.\n",
    "##### ~&nbsp;&nbsp; $\\begin{bmatrix} 1&0&-4&4 \\\\ 0&1&-2&0 \\\\ 0&0&1&0 \\\\ 0&0&0&1 \\\\ 0&0&0&0 \\end{bmatrix}$ &nbsp;&nbsp;~&nbsp;&nbsp; $\\cdots$ &nbsp;&nbsp;~&nbsp;&nbsp; $\\begin{bmatrix} 1&0&0&0 \\\\ 0&1&0&0 \\\\ 0&0&1&0 \\\\ 0&0&0&1 \\\\ 0&0&0&0 \\end{bmatrix}$"
   ]
  },
  {
   "attachments": {},
   "cell_type": "markdown",
   "metadata": {},
   "source": [
    "#### (PLUS) Step (1)~(4) is called **forward phase**, step (5) is called **backward phase**.\n",
    "<b></b>"
   ]
  },
  {
   "attachments": {},
   "cell_type": "markdown",
   "metadata": {},
   "source": [
    "### 6) **Solution of linear system**"
   ]
  },
  {
   "attachments": {},
   "cell_type": "markdown",
   "metadata": {},
   "source": [
    "#### The **basic(leading) variable** is defined by it corresponds to a pivot column. If not, that is defiend **free varaible**.\n",
    "##### $\\begin{aligned}x_1-5x_3&=-1 \\\\ x_2+x_3&=4 \\end{aligned}$ &nbsp;&nbsp;⇒&nbsp;&nbsp; $\\begin{bmatrix} \\textit{\\textbf{1}}&0&-5&1 \\\\ 0&\\textit{\\textbf{1}}&1&4 \\end{bmatrix}$ &nbsp;&nbsp;&nbsp;&nbsp;&nbsp;&nbsp;&nbsp;&nbsp;$\\begin{matrix} x_1 = 1 + 5x_3 \\,\\,\\,\\,\\,\\,\\,\\,\\,\\,\\,\\,\\,\\,\\,\\,\\, \\\\ x_2 = 4 - x_3 \\,\\,\\,\\,\\,\\,\\,\\,\\,\\,\\,\\,\\,\\,\\,\\,\\,\\,\\,\\, \\\\ x_3 \\,\\, is \\,\\, free\\,\\, variable \\end{matrix}$"
   ]
  },
  {
   "attachments": {},
   "cell_type": "markdown",
   "metadata": {},
   "source": [
    "#### (Theorem 2) **Existence and Uniqueness Theorem**\n",
    "##### A linear system is consistent if and only if the rightmost column of the augmented matrix is not a pivot column - that is if and only if an echelon form of the augmented matrix has no row of the forms.\n",
    "##### $\\begin{bmatrix} 0, 0, ..., b \\end{bmatrix}$ with $b$ is nonzero\n",
    "##### If a linear system is consistent. then the solution set contains either (ⅰ) a **unique** solution, when there are no free variables. or (ⅱ) **infinitely** many solutions, when there is at least of one free variables.\n",
    "<b></b>"
   ]
  }
 ],
 "metadata": {
  "kernelspec": {
   "display_name": "Python 3",
   "language": "python",
   "name": "python3"
  },
  "language_info": {
   "name": "python",
   "version": "3.9.6"
  },
  "orig_nbformat": 4
 },
 "nbformat": 4,
 "nbformat_minor": 2
}
