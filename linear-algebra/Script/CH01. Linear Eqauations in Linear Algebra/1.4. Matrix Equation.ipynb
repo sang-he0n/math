{
 "cells": [
  {
   "attachments": {},
   "cell_type": "markdown",
   "metadata": {},
   "source": [
    "## CH01.4. **Matrix Equation**"
   ]
  },
  {
   "attachments": {},
   "cell_type": "markdown",
   "metadata": {},
   "source": [
    "### 1) **$Ax$ : product of matrix $A$ and vector $x$**"
   ]
  },
  {
   "attachments": {},
   "cell_type": "markdown",
   "metadata": {},
   "source": [
    "#### (1) $A$ is $m \\times n$ matrix with columns $\\textbf{a}_{1}, \\textbf{a}_{2}, \\cdots, \\textbf{a}_{n} $\n",
    "#### (2) $\\textbf{a}$ is vector in $\\mathbb{R}^m$, $\\textbf{x}$ is vector in $\\mathbb{R}^n$\n",
    "#### (3) $A\\textbf{x} = \\begin{bmatrix} \\textbf{a}_{1}& \\cdots &\\textbf{a}_n \\end{bmatrix} \\times \\begin{bmatrix} x_{1}\\\\\\cdots\\\\x_{n} \\end{bmatrix} = x_{1}\\textbf{a}_{1}+x_{2}\\textbf{a}_{2}+\\cdots+x_{n}\\textbf{a}_{n}$\n",
    "#### (4) The linear combination of the columns of $A$ using the corresponding entries in $\\textbf{x}$ as weights"
   ]
  },
  {
   "attachments": {},
   "cell_type": "markdown",
   "metadata": {},
   "source": [
    "#### **(PLUS)** \n",
    "##### $ A $ is $ m \\times n $ matrix with columns $ \\textbf{a}_{1}, \\textbf{a}_{2}, \\cdots, \\textbf{a}_{n} $ and $ \\textbf{b} $ is vector in $ \\mathbb{R}^{m} $ and  $ \\textbf{x} $ is vector in $ \\mathbb{R}^{n} $.\n",
    "##### argumented matrix ⇒  $ \\begin{bmatrix} \\textbf{a}_{1} \\ \\textbf{a}_{2} \\ \\cdots \\ \\textbf{b} \\end{bmatrix} $\n",
    "##### vector equation &nbsp;&nbsp;&nbsp;&nbsp;&nbsp; ⇒ $ x_{1}\\textbf{a}_{1}+x_{2}\\textbf{a}_{2}+\\cdots+x_{n}\\textbf{a}_{n} = \\textbf{b} $\n",
    "##### matrix equation &nbsp;&nbsp;&nbsp;&nbsp;&nbsp; ⇒ $ A \\textbf{x} = \\textbf{b} $\n",
    "<b></b>"
   ]
  },
  {
   "attachments": {},
   "cell_type": "markdown",
   "metadata": {},
   "source": [
    "#### (Theorem 3) **Property of matrix equation**\n",
    "##### $ A $ is $ m \\times n $ matrix with columns $ \\textbf{a}_{1}, \\textbf{a}_{2}, \\cdots, \\textbf{a}_{n} $ and $ \\textbf{b} $ is vector in $ \\mathbb{R}^{m} $ and $ \\textbf{x} $ is vector in $ \\mathbb{R}^{n} $.\n",
    "##### The followings are **all true or all false** ;\n",
    "##### **a**. For each $\\textbf{b}$ in $\\mathbb{R}^{m} $, $A \\textbf{x} = \\textbf{b} $ has a solution. \n",
    "##### **b**. For each $\\textbf{b}$ in $\\mathbb{R}^{m} $ is linear combination of the columns of $ A $.\n",
    "##### **c**. the columns of $ A $  span $ \\mathbb{R}^{m} $.\n",
    "##### **d**. $ A $ has a pivot poisition in every row. \n",
    "<b></b>"
   ]
  },
  {
   "attachments": {},
   "cell_type": "markdown",
   "metadata": {},
   "source": [
    "#### (Theorem 4) **Property of matrix equation**\n",
    "##### $ A $ is $ m \\times n $ matrix with columns $ \\textbf{a}_{1}, \\textbf{a}_{2}, \\cdots, \\textbf{a}_{n} $ and $ \\textbf{u} $ & $ \\textbf{v} $ is vector in $ \\mathbb{R}^{n} $ and $ c $ is scalar. then ;\n",
    "##### $ A ( \\textbf{u} + \\textbf{v} ) = A \\textbf{u} + A \\textbf{v} $\n",
    "##### $ A ( c \\textbf{u} ) = c ( A \\textbf{u} ) $\n",
    "<b></b>"
   ]
  }
 ],
 "metadata": {
  "kernelspec": {
   "display_name": "Python 3",
   "language": "python",
   "name": "python3"
  },
  "language_info": {
   "codemirror_mode": {
    "name": "ipython",
    "version": 3
   },
   "file_extension": ".py",
   "mimetype": "text/x-python",
   "name": "python",
   "nbconvert_exporter": "python",
   "pygments_lexer": "ipython3",
   "version": "3.11.3"
  },
  "orig_nbformat": 4
 },
 "nbformat": 4,
 "nbformat_minor": 2
}
