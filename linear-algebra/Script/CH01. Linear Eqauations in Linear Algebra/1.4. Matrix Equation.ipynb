{
 "cells": [
  {
   "attachments": {},
   "cell_type": "markdown",
   "metadata": {},
   "source": [
    "# CH01.4. **Matrix Equation**"
   ]
  },
  {
   "cell_type": "markdown",
   "metadata": {},
   "source": [
    "> ## **Matrix and Column Vector**"
   ]
  },
  {
   "cell_type": "markdown",
   "metadata": {},
   "source": [
    "#### **(1) 정의** : 행렬 $A \\;$는 열 벡터 $\\textbf{a} \\;$로 표현가능"
   ]
  },
  {
   "cell_type": "markdown",
   "metadata": {},
   "source": [
    "#### **(2) 형태**\n",
    "#### $A = \\begin{bmatrix} a_{11}&a_{12}&\\cdots&a_{1n} \\\\ a_{21}&a_{22}&\\cdots&a_{2n} \\\\ \\cdots&\\cdots&\\cdots&\\cdots \\\\ a_{m1}&a_{m2}&\\cdots&a_{mn} \\end{bmatrix} = \\begin{bmatrix} \\textbf{a}_{1}& \\cdots &\\textbf{a}_n \\end{bmatrix}$"
   ]
  },
  {
   "attachments": {},
   "cell_type": "markdown",
   "metadata": {},
   "source": [
    "> ## **$Ax$ : product of matrix $A$ and vector $x$**"
   ]
  },
  {
   "cell_type": "markdown",
   "metadata": {},
   "source": [
    "#### **(1) 연산 조건** : 행렬의 열 개수와 벡터의 행 개수가 동일해야함"
   ]
  },
  {
   "cell_type": "markdown",
   "metadata": {},
   "source": [
    "#### **(2) 형태**\n",
    "#### For $A$ is $m \\times n$ matrix with columns $\\textbf{a}_{1}, \\textbf{a}_{2}, \\cdots, \\textbf{a}_{n} \\;\\;and\\;\\; \\textbf{a}$ is vector in $\\mathbb{R}^m$, $\\textbf{x}$ is vector in $\\mathbb{R}^n$\n",
    "#### $A\\textbf{x} = \\begin{bmatrix} \\textbf{a}_{1}& \\cdots &\\textbf{a}_n \\end{bmatrix} \\times \\begin{bmatrix} x_{1}\\\\\\cdots\\\\x_{n} \\end{bmatrix} = x_{1}\\textbf{a}_{1}+x_{2}\\textbf{a}_{2}+\\cdots+x_{n}\\textbf{a}_{n}$\n",
    "#### = $A\\textbf{x}$는 벡터 $\\textbf{a}$ 들과 벡터 $\\textbf{x}$ 의 성분들의 선형 결합과 동일함"
   ]
  },
  {
   "attachments": {},
   "cell_type": "markdown",
   "metadata": {},
   "source": [
    "#### **(PLUS) linear system notation** \n",
    "#### $ A $ is $ m \\times n $ matrix with columns $ \\textbf{a}_{1}, \\textbf{a}_{2}, \\cdots, \\textbf{a}_{n} $ and $ \\textbf{b} $ is vector in $ \\mathbb{R}^{m} $ and  $ \\textbf{x} $ is vector in $ \\mathbb{R}^{n} $.\n",
    "#### argumented matrix ⇒  $ \\begin{bmatrix} \\textbf{a}_{1} \\ \\textbf{a}_{2} \\ \\cdots \\ \\textbf{b} \\end{bmatrix} $\n",
    "#### vector equation &nbsp;&nbsp;&nbsp;&nbsp;&nbsp; ⇒ $ x_{1}\\textbf{a}_{1}+x_{2}\\textbf{a}_{2}+\\cdots+x_{n}\\textbf{a}_{n} = \\textbf{b} $\n",
    "#### matrix equation &nbsp;&nbsp;&nbsp;&nbsp;&nbsp; ⇒ $ A \\textbf{x} = \\textbf{b} $\n",
    "<b></b>"
   ]
  },
  {
   "attachments": {},
   "cell_type": "markdown",
   "metadata": {},
   "source": [
    "> ## (Theorem 3) **Property of matrix equation**\n"
   ]
  },
  {
   "cell_type": "markdown",
   "metadata": {},
   "source": [
    "#### $ m \\times n $ 행렬 $ A $ 의 열벡터 $\\; \\textbf{a}_{1}, \\textbf{a}_{2}, \\cdots, \\textbf{a}_{n} \\;$와 $\\; n \\times 1 \\;$ 벡터 $\\; \\textbf{b}\\; $가 존재할 때, \n",
    "#### 아래의 명제는 **모두 참이거나 거짓**이다.\n",
    "#### **(1)** For each $\\textbf{b}$ in $\\mathbb{R}^{m} $, $A \\textbf{x} = \\textbf{b} $ has a solution. \n",
    "#### **(2)** For each $\\textbf{b}$ in $\\mathbb{R}^{m} $ is linear combination of the columns of $ A $.\n",
    "#### **(3)** the columns of $ A $  span $ \\mathbb{R}^{m} $.\n",
    "#### **(4)** $ A $ has a pivot poisition in every row. \n",
    "<b></b>"
   ]
  },
  {
   "attachments": {},
   "cell_type": "markdown",
   "metadata": {},
   "source": [
    "> ## (Theorem 4) **Property of matrix equation**"
   ]
  },
  {
   "cell_type": "markdown",
   "metadata": {},
   "source": [
    "#### 행렬 연산에서는 아래의 두 성질이 성립한다.\n",
    "#### $ A $ is $ m \\times n $ matrix with columns $ \\textbf{a}_{1}, \\textbf{a}_{2}, \\cdots, \\textbf{a}_{n} $ and $ \\textbf{u} $ & $ \\textbf{v} $ is vector in $ \\mathbb{R}^{n} $ and $ c $ is scalar. then ;\n",
    "#### **(1)** $ A ( \\textbf{u} + \\textbf{v} ) = A \\textbf{u} + A \\textbf{v} $\n",
    "#### **(2)** $ A ( c \\textbf{u} ) = c ( A \\textbf{u} ) $\n",
    "<b></b>"
   ]
  }
 ],
 "metadata": {
  "kernelspec": {
   "display_name": "Python 3",
   "language": "python",
   "name": "python3"
  },
  "language_info": {
   "codemirror_mode": {
    "name": "ipython",
    "version": 3
   },
   "file_extension": ".py",
   "mimetype": "text/x-python",
   "name": "python",
   "nbconvert_exporter": "python",
   "pygments_lexer": "ipython3",
   "version": "3.11.3"
  },
  "orig_nbformat": 4
 },
 "nbformat": 4,
 "nbformat_minor": 2
}
