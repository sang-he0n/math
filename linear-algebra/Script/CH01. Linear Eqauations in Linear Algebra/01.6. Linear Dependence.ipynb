{
 "cells": [
  {
   "attachments": {},
   "cell_type": "markdown",
   "metadata": {},
   "source": [
    "# CH01.6. **Linear Dependence**"
   ]
  },
  {
   "cell_type": "markdown",
   "metadata": {},
   "source": [
    "> ## **선형 독립과 종속(Linearly Independent and Dependent)**"
   ]
  },
  {
   "cell_type": "markdown",
   "metadata": {},
   "source": [
    "#### **(1) 선형 독립의 정의** : 아래의 벡터 방정식의 해집합이 오직 **비자명해**(trivial solution)를 가질 때 벡터 집합의 관계\n",
    "#### $ \\Rightarrow{} \\{ \\textbf{v}_{1}, \\textbf{v}_{2}, \\cdots{}, \\textbf{v}_{n} \\} \\, \\text{ is linear independent}, \\;\\; $ where $ \\, \\textbf{x} = \\textbf{0} $\n",
    "#### $ \\hspace{6.45cm} $ and $ \\, x_{1}\\textbf{v}_{1} + x_{2}\\textbf{v}_{2} + \\cdots{} + x_{n}\\textbf{v}_{n} = 0 $"
   ]
  },
  {
   "cell_type": "markdown",
   "metadata": {},
   "source": [
    "#### **(2) 선형 종속의 정의** : 아래의 벡터 방정식의 해집합이 **비자명해**(nontrivial solution)를 가질 때 벡터 집합의 관계\n",
    "#### $ \\Rightarrow{} \\{ \\textbf{v}_{1}, \\textbf{v}_{2}, \\cdots{}, \\textbf{v}_{n} \\} \\, \\text{ is linear dependent}, \\;\\; $ where $ \\, \\textbf{x} \\neq{} \\textbf{0} $\n",
    "#### $ \\hspace{6.15cm} $ and $ \\, x_{1}\\textbf{v}_{1} + x_{2}\\textbf{v}_{2} + \\cdots{} + x_{n}\\textbf{v}_{n} = 0 $"
   ]
  },
  {
   "cell_type": "markdown",
   "metadata": {},
   "source": [
    "#### **(2) 해의 의미** : \n",
    "#### $ \\hspace{0.15cm} $ ① 선형 독립 관계는 (선형시스템에서) 모든 변수의 해가 $ \\, 0 $ 인 경우만을 의미\n",
    "#### $ \\hspace{0.15cm} $ ② 선형 종속 관계는 적어도 하나의 **자유변수가 존재할 수 있음**"
   ]
  },
  {
   "cell_type": "markdown",
   "metadata": {},
   "source": [
    "#### **(4) 예시** :\n",
    "#### $ \\hspace{0.15cm} $ ① 행렬 형태에서의 선형 시스템에서 열벡터의 선형 관계를 파악하고자 할 때 \n",
    "#### $ \\hspace{0.45cm} A = \\begin{bmatrix} 0&1&4 \\\\ 1&2&-1 \\\\ 5&8&0 \\end{bmatrix},\\,\\, \\textbf{x} = \\begin{bmatrix} x_{1} \\\\ x_{2} \\\\ x_{3} \\end{bmatrix},\\,\\, A\\textbf{x} = \\textbf{0} \\rightarrow{} \\begin{bmatrix} A&\\textbf{0} \\end{bmatrix} = \\begin{bmatrix} 0&1&4&0 \\\\ 1&2&-1&0 \\\\ 5&8&0&0 \\end{bmatrix} $ \n",
    "#### $ \\hspace{0.45cm} $ ~ $ \\begin{bmatrix} 1&2&-1&0 \\\\ 0&1&4&0 \\\\ 5&8&0&0 \\end{bmatrix} $ ~ $ \\begin{bmatrix} 1&2&-1&0 \\\\ 0&1&4&0 \\\\ 0&-2&5&0 \\end{bmatrix} $ ~ $ \\begin{bmatrix} 1&2&-1&0 \\\\ 0&1&4&0 \\\\ 0&-2&5&0 \\end{bmatrix} $ ~ $ \\begin{bmatrix} 1&2&-1&0 \\\\ 0&1&4&0 \\\\ 0&0&13&0 \\end{bmatrix} $ ~ $ \\begin{bmatrix} 1&2&-1&0 \\\\ 0&1&4&0 \\\\ 0&0&1&0 \\end{bmatrix} $\n",
    "#### $ \\hspace{0.45cm} $ ~ $ \\begin{bmatrix} 1&2&0&0 \\\\ 0&1&0&0 \\\\ 0&0&1&0 \\end{bmatrix} $ ~ $ \\begin{bmatrix} 1&0&0&0 \\\\ 0&1&0&0 \\\\ 0&0&1&0 \\end{bmatrix} $\n",
    "#### $ \\hspace{0.45cm} \\textbf{x} = \\textbf{0} = \\begin{bmatrix} 0 \\\\ 0 \\\\ 0 \\end{bmatrix} $\n",
    "#### $ \\hspace{0.45cm} \\therefore{} \\, A = \\begin{bmatrix} \\textbf{a}_{1} & \\textbf{a}_{2} & \\textbf{a}_{3} \\end{bmatrix} \\, $ : 선형 독립 관계  \n",
    "#### $ \\hspace{0.15cm} $ ② 벡터 형태에서의 선형 시스템에서 벡터 집합의 선형 관계를 파악하고자 할 때\n",
    "#### $ \\hspace{0.45cm} \\textbf{v}_{1} = \\begin{bmatrix} 1\\\\2\\\\3 \\end{bmatrix}, \\textbf{v}_{2} = \\begin{bmatrix} 4\\\\5\\\\6 \\end{bmatrix}, \\textbf{v}_{3} = \\begin{bmatrix} 2\\\\1\\\\0 \\end{bmatrix}, \\;\\; x_{1}\\textbf{v}_{1} + x_{1}\\textbf{v}_{2} + x_{1}\\textbf{v}_{3} = \\textbf{0} \\rightarrow{} \\begin{bmatrix} 1&4&2&0 \\\\ 2&5&1&0 \\\\ 3&6&0&0 \\end{bmatrix} $ \n",
    "#### $ \\hspace{0.45cm} $ ~ $ \\begin{bmatrix} 1&4&2&0 \\\\ 0&-3&-3&0 \\\\ 3&6&0&0 \\end{bmatrix} $ ~ $ \\begin{bmatrix} 1&4&2&0 \\\\ 0&-3&-3&0 \\\\ 0&-6&-6&0 \\end{bmatrix} $ ~ $ \\begin{bmatrix} 1&4&2&0 \\\\ 0&-3&-3&0 \\\\ 0&0&0&0 \\end{bmatrix} $ ~ $ \\begin{bmatrix} 1&4&2&0 \\\\ 0&1&1&0 \\\\ 0&0&0&0 \\end{bmatrix} $ ~ $ \\begin{bmatrix} 1&0&-2&0 \\\\ 0&1&1&0 \\\\ 0&0&0&0 \\end{bmatrix} $\n",
    "#### $ \\hspace{0.45cm} \\textbf{x} = \\begin{bmatrix} 2x_{3}\\\\-x_{3}\\\\x_{3} \\end{bmatrix} = x_{3} \\begin{bmatrix} 2\\\\-1\\\\1 \\end{bmatrix} = \\text{span} \\{ \\begin{bmatrix} 2\\\\-1\\\\1 \\end{bmatrix} \\} $\n",
    "#### $ \\hspace{0.45cm} \\therefore{} \\, \\{ \\textbf{v}_{1}, \\textbf{v}_{2}, \\textbf{v}_{3} \\} \\, $ : 선형 종속 관계"
   ]
  },
  {
   "cell_type": "markdown",
   "metadata": {},
   "source": [
    "<b></b>"
   ]
  },
  {
   "cell_type": "markdown",
   "metadata": {},
   "source": [
    "> ## (Theorem 1-7) **Characterization of Linearly Dependent Sets**"
   ]
  },
  {
   "cell_type": "markdown",
   "metadata": {},
   "source": [
    "#### $ 2 $ 개 이상의 벡터 집합 $ \\{ \\textbf{a}_{1}, \\textbf{a}_{2}, \\cdots, \\textbf{a}_{n} \\} $ 에서 아래와 같이 최소한 1개의 벡터가 다른 벡터들의 선형 결합으로 표현된다면, \n",
    "#### 해당 벡터 집합은 **선형 종속**이다."
   ]
  },
  {
   "cell_type": "markdown",
   "metadata": {},
   "source": [
    "#### **(`WHY?`)**\n",
    "#### $ x_{1}\\textbf{v}_{1}+x_{2}\\textbf{v}_{2}+\\cdots+x_{n}\\textbf{v}_{n} = \\textbf{0}, \\;\\; $ where $ \\, x_{1} \\neq{} 0 $ and $ \\, \\textbf{v}_{1} \\neq{} \\textbf{0} $\n",
    "#### $ x_{1}\\textbf{v}_{1} = -x_{2}\\textbf{v}_{2}-x_{3}\\textbf{v}_{3}-\\cdots-x_{n}\\textbf{v}_{n}, \\;\\; \\textbf{v}_{1} = -{{x_{2}}\\over{x_{1}}}\\textbf{v}_{2}-{{x_{3}}\\over{x_{1}}}\\textbf{v}_{3}-\\cdots-{{x_{n}}\\over{x_{1}}}\\textbf{v}_{n} $\n",
    "#### $ x_{1}(-{{x_{2}}\\over{x_{1}}}\\textbf{v}_{2}-{{x_{3}}\\over{x_{1}}}\\textbf{v}_{3}-\\cdots-{{x_{n}}\\over{x_{1}}}\\textbf{v}_{n}) + x_{2}\\textbf{v}_{2}+\\cdots+x_{n}\\textbf{v}_{n} = \\textbf{0} $\n",
    "#### $ \\therefore{} x_{1} \\, \\text{is free variable.} $"
   ]
  },
  {
   "cell_type": "markdown",
   "metadata": {},
   "source": [
    "#### **(`PLUS`) Extended Linear Dependency**\n",
    "#### 벡터 집합 $ \\{ \\textbf{u}, \\textbf{v} \\} $ 는 선형 독립이고 벡터 집합 $ \\{ \\textbf{u}, \\textbf{v}, \\textbf{w} \\} $ 가 선형 종속일 경우, 벡터 $ \\, \\textbf{w} $ 는 $ \\, \\text{span} \\{ \\textbf{u}, \\textbf{v} \\} $ 안에 있다. (**필요충분조건**)"
   ]
  },
  {
   "cell_type": "markdown",
   "metadata": {},
   "source": [
    "<b></b>"
   ]
  },
  {
   "cell_type": "markdown",
   "metadata": {},
   "source": [
    "> ## (Theorem 1-8) **Variable-Constraint of Linear Dependency**"
   ]
  },
  {
   "cell_type": "markdown",
   "metadata": {},
   "source": [
    "#### **동차 선형 시스템**에서 선형 방정식 개수보다 변수의 개수가 많을 경우($ m < n $), 해당 선형 시스템의 해집합은 비자명해를 갖는다.\n",
    "#### = 해집합은 자유 변수(free variable)을 갖는다.\n",
    "#### = 벡터 표기법에서 각 벡터의 성분 개수($ n $)가 벡터 집합의 개수($ m $)보다 많으면, 각 벡터로 이루어진 벡터 집합은 선형종속 관계이다.\n",
    "#### = 행렬 표기법에서 열 개수($ n $)가 행 개수($ m $)보다 많으면, 각 열 벡터로 이루어진 벡터 집합은 선형종속 관계이다."
   ]
  },
  {
   "cell_type": "markdown",
   "metadata": {},
   "source": [
    "<b></b>"
   ]
  },
  {
   "cell_type": "markdown",
   "metadata": {},
   "source": [
    "> ## (Theorem 1-9) **zero vector presence of Linear Dependency**"
   ]
  },
  {
   "cell_type": "markdown",
   "metadata": {},
   "source": [
    "#### 동차 선형 시스템에서 한 변수의 계수가 모두 $ \\, 0 $ 인경우, 해당 선형 시스템의 해집합은 비자명해를 갖는다.\n",
    "#### = 해집합은 자유 변수(free variable)을 갖는다.\n",
    "#### = 벡터 표기법에서 벡터 집합 중 한 벡터가 $ \\, \\textbf{0} $ 벡터라면, 해당 벡터 집합은 선형 종속 관계이다.\n",
    "#### = 행렬 표기법에서 1개 이상의 열 벡터가 $ \\textbf{0} $ 벡터인경우, 해당 열 벡터 집합은 선형 종속 관계이다."
   ]
  }
 ],
 "metadata": {
  "kernelspec": {
   "display_name": "Python 3",
   "language": "python",
   "name": "python3"
  },
  "language_info": {
   "codemirror_mode": {
    "name": "ipython",
    "version": 3
   },
   "file_extension": ".py",
   "mimetype": "text/x-python",
   "name": "python",
   "nbconvert_exporter": "python",
   "pygments_lexer": "ipython3",
   "version": "3.11.3"
  },
  "orig_nbformat": 4
 },
 "nbformat": 4,
 "nbformat_minor": 2
}
