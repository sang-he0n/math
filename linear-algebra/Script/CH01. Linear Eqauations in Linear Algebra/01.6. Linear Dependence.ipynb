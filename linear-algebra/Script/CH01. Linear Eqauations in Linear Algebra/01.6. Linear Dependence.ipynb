{
 "cells": [
  {
   "attachments": {},
   "cell_type": "markdown",
   "metadata": {},
   "source": [
    "# CH01.6. **Linear Dependence**"
   ]
  },
  {
   "cell_type": "markdown",
   "metadata": {},
   "source": [
    "> ## **선형 독립(Linearly Independent)**"
   ]
  },
  {
   "cell_type": "markdown",
   "metadata": {},
   "source": [
    "#### **(1) 정의** : 아래의 벡터 방정식의 해집합이 오직 자명해(trivial solution)을 가질 때 벡터 집합의 관계\n",
    "#### $ x_{1}\\textbf{v}_{1} + x_{2}\\textbf{v}_{2} + \\cdots{} + x_{n}\\textbf{v}_{n} = 0 \\;\\;\\;\\; $ where $ \\; \\{ x_{1}, \\cdots, x_{n} \\} \\in{} \\mathbb{R^{1}} \\; $ and $ \\; \\{ \\textbf{v}_{1}, \\cdots{}, \\textbf{v}_{n} \\} \\in{} \\mathbb{R^{n}} $"
   ]
  },
  {
   "cell_type": "markdown",
   "metadata": {},
   "source": [
    "#### $ \\Rightarrow{} \\; \\begin{bmatrix} \\textbf{v}_{1}&\\textbf{v}_{2}&\\cdots{}&\\textbf{v}_{n}&\\textbf{0} \\end{bmatrix} $ 의 해집합이 $ \\; \\textbf{x} = \\textbf{0} $ \b인 벡터 집합 $ \\{ \\textbf{v}_{1}, \\textbf{v}_{2}, \\cdots{}, \\textbf{v}_{n} \\} $ 의 관계"
   ]
  },
  {
   "cell_type": "markdown",
   "metadata": {},
   "source": [
    "#### **(PLUS) Linear independent of matrix column**\n",
    "#### $ m \\times{} n $ 행렬 $ A $ 의 열벡터 $ \\{ \\textbf{a}_{1}, \\textbf{a}_{2}, \\cdots{}, \\textbf{a}_{n} \\} $ 와 $\\; n \\times{} 1 \\; $ 벡터 $\\; \\textbf{x} $ 가 존재할 때 $ A\\textbf{x} = \\textbf{0} $의 해집합이 자명해만을 갖는다면,\n",
    "#### (열) 벡터 집합 $ \\{ \\textbf{a}_{1}, \\textbf{a}_{2}, \\cdots{}, \\textbf{a}_{n} \\} $ 는 **선형 독립**임\n",
    "#### $ A = \\begin{bmatrix} 0&1&4 \\\\ 1&2&-1 \\\\ 5&8&0 \\end{bmatrix},\\;\\; \\textbf{x} = \\begin{bmatrix} x_{1} \\\\ x_{2} \\\\ x_{3} \\end{bmatrix},\\;\\; A\\textbf{x} = \\textbf{0} $ \n",
    "#### $ \\begin{bmatrix} A&\\textbf{0} \\end{bmatrix} = \\begin{bmatrix} 0&1&4&0 \\\\ 1&2&-1&0 \\\\ 5&8&0&0 \\end{bmatrix} $ \n",
    "#### ~ $ \\begin{bmatrix} 1&2&-1&0 \\\\ 0&1&4&0 \\\\ 5&8&0&0 \\end{bmatrix} $ ~ $ \\begin{bmatrix} 1&2&-1&0 \\\\ 0&1&4&0 \\\\ 0&-2&5&0 \\end{bmatrix} $ ~ $ \\begin{bmatrix} 1&2&-1&0 \\\\ 0&1&4&0 \\\\ 0&-2&5&0 \\end{bmatrix} $ ~ $ \\begin{bmatrix} 1&2&-1&0 \\\\ 0&1&4&0 \\\\ 0&0&13&0 \\end{bmatrix} $ ~ $ \\begin{bmatrix} 1&2&-1&0 \\\\ 0&1&4&0 \\\\ 0&0&1&0 \\end{bmatrix} $\n",
    "#### ~ $ \\begin{bmatrix} 1&2&0&0 \\\\ 0&1&0&0 \\\\ 0&0&1&0 \\end{bmatrix} $ ~ $ \\begin{bmatrix} 1&0&0&0 \\\\ 0&1&0&0 \\\\ 0&0&1&0 \\end{bmatrix} $\n",
    "#### $ \\textbf{x} = \\begin{bmatrix} 0\\\\ 0 \\\\ 0 \\end{bmatrix} = \\textbf{0} $\n",
    "#### $ \\therefore{} \\; A $ 는 선형 독립 관계임"
   ]
  },
  {
   "cell_type": "markdown",
   "metadata": {},
   "source": [
    "<b></b>"
   ]
  },
  {
   "cell_type": "markdown",
   "metadata": {},
   "source": [
    "> ## **선형 종속(Linearly Dependent)**"
   ]
  },
  {
   "cell_type": "markdown",
   "metadata": {},
   "source": [
    "#### **(1) 정의** : 아래의 벡터 방정식의 해집합이 비자명해(nontrivial soltuin)을 가질 때 벡터 집합의 관계\n",
    "#### $ x_{1}\\textbf{v}_{1} + x_{2}\\textbf{v}_{2} + \\cdots{} + x_{n}\\textbf{v}_{n} = 0 \\;\\;\\;\\; $ where $ \\; \\{ x_{1}, \\cdots, x_{n} \\} \\in{} \\mathbb{R^{1}} \\; $ and $ \\; \\{ \\textbf{v}_{1}, \\cdots{}, \\textbf{v}_{n} \\} \\in{} \\mathbb{R^{n}} $\n",
    "#### $ \\Rightarrow{} \\; \\begin{bmatrix} \\textbf{v}_{1}&\\textbf{v}_{2}&\\cdots{}&\\textbf{v}_{n}&\\textbf{0} \\end{bmatrix} $ 의 해집합이 $ \\; \\textbf{x} \\neq{} \\textbf{0} $  인 벡터 집합 $ \\{ \\textbf{v}_{1}, \\textbf{v}_{2}, \\cdots{}, \\textbf{v}_{n} \\} $ 의 관계\n",
    "#### $ \\Rightarrow{} $ 해당 선형시스템의 해집합이 자유 변수(free variable)를 갖는 경우"
   ]
  },
  {
   "cell_type": "markdown",
   "metadata": {},
   "source": [
    "#### **(2) 해석** :\n",
    "#### $ [ \\textbf{v}_{1}, \\textbf{v}_{2}, \\cdots{}, \\textbf{v}_{n}, \\textbf{0}] $ 의 해집합이 $ \\; \\textbf{x} \\neq{} \\textbf{0} $ 일 경우, 벡터 집합 $ \\{ \\textbf{v}_{1}, \\textbf{v}_{2}, \\cdots{}, \\textbf{v}_{n} \\} $ 은 선형종속 관계임\n"
   ]
  },
  {
   "cell_type": "markdown",
   "metadata": {},
   "source": [
    "#### **(WHY?)** 아래의 벡터 집합 $ \\{ \\textbf{v}_{1}, \\textbf{v}_{2}, \\textbf{v}_{3} \\} $ 이 존재할 때 해당 집합이 선형 종속인지 파악하고자 할 때\n",
    "#### $ \\textbf{v}_{1} = \\begin{bmatrix} 1\\\\2\\\\3 \\end{bmatrix}, \\textbf{v}_{2} = \\begin{bmatrix} 4\\\\5\\\\6 \\end{bmatrix}, \\textbf{v}_{3} = \\begin{bmatrix} 2\\\\1\\\\0 \\end{bmatrix} $\n",
    "#### $ \\begin{bmatrix} 1&4&2&0 \\\\ 2&5&1&0 \\\\ 3&6&0&0 \\end{bmatrix} $ ~ $ \\begin{bmatrix} 1&4&2&0 \\\\ 0&-3&-3&0 \\\\ 3&6&0&0 \\end{bmatrix} $ ~ $ \\begin{bmatrix} 1&4&2&0 \\\\ 0&-3&-3&0 \\\\ 0&-6&-6&0 \\end{bmatrix} $ ~ $ \\begin{bmatrix} 1&4&2&0 \\\\ 0&-3&-3&0 \\\\ 0&0&0&0 \\end{bmatrix} $ ~ $ \\begin{bmatrix} 1&4&2&0 \\\\ 0&1&1&0 \\\\ 0&0&0&0 \\end{bmatrix} $ ~ $ \\begin{bmatrix} 1&0&-2&0 \\\\ 0&1&1&0 \\\\ 0&0&0&0 \\end{bmatrix} $\n",
    "#### $ \\textbf{x} = \\begin{bmatrix} 2x_{3}\\\\-x_{3}\\\\x_{3} \\end{bmatrix} = x_{3} \\begin{bmatrix} 2\\\\-1\\\\1 \\end{bmatrix} = span \\{ \\begin{bmatrix} 2\\\\-1\\\\1 \\end{bmatrix} \\} $\n",
    "#### $ \\therefore{} \\; \\{ \\textbf{v}_{1}, \\textbf{v}_{2}, \\textbf{v}_{3} \\} $ 은 선형 종속 관계임"
   ]
  },
  {
   "cell_type": "markdown",
   "metadata": {},
   "source": [
    "<b></b>"
   ]
  },
  {
   "cell_type": "markdown",
   "metadata": {},
   "source": [
    "> ## (Theorem 7) **Characterization of Linearly Dependent Sets**"
   ]
  },
  {
   "cell_type": "markdown",
   "metadata": {},
   "source": [
    "#### 2개 이상의 벡터 집합 $ \\{ \\textbf{a}_{1}, \\textbf{a}_{2}, \\cdots, \\textbf{a}_{n} \\} $ 에서 아래와 같이 최소한 1개의 벡터가 다른 벡터들의 선형 결합으로 표현된다면, \n",
    "#### $ x_{1}\\textbf{v}_{1}+x_{2}\\textbf{v}_{2}+\\cdots+x_{n}\\textbf{v}_{n} = 0, \\,\\, where \\,\\, \\{ x_{1}, \\cdots, x_{n} \\} \\in \\mathbb{R^{1}} \\;\\; and \\;\\; \\{ \\textbf{v}_{1}, \\cdots, \\textbf{v}_{n} \\} \\in \\mathbb{R^{n}} \\;\\; and \\;\\; if \\;\\; x_{1} \\neq 0 \\;\\; and \\;\\; \\textbf{v}_{1} \\neq \\textbf{0}$\n",
    "#### $ x_{1}\\textbf{v}_{1} = -x_{2}\\textbf{v}_{2}-x_{3}\\textbf{v}_{3}-\\cdots-x_{n}\\textbf{v}_{n}$\n",
    "#### $ \\textbf{v}_{1} = -{{x_{2}}\\over{x_{1}}}\\textbf{v}_{2}-{{x_{3}}\\over{x_{1}}}\\textbf{v}_{3}-\\cdots-{{x_{n}}\\over{x_{1}}}\\textbf{v}_{n}$\n",
    "#### 해당 벡터 집합은 **선형 종속**이다."
   ]
  },
  {
   "cell_type": "markdown",
   "metadata": {},
   "source": [
    "#### **(PLUS)**\n",
    "#### 벡터 집합 $ \\{ \\textbf{u}, \\textbf{v} \\} $ 는 선형 독립이고 벡터 집합 $ \\{ \\textbf{u}, \\textbf{v}, \\textbf{w} \\} $ 가 선형 종속일 경우 $ \\cdots $ ⓐ ,\n",
    "#### 벡터 $ \\textbf{w} $ 는 $span \\{ \\textbf{u}, \\textbf{v} \\} $ 안에 있다. $ \\cdots $ ⓑ (**필요충분조건**)"
   ]
  },
  {
   "cell_type": "markdown",
   "metadata": {},
   "source": [
    "<b></b>"
   ]
  },
  {
   "cell_type": "markdown",
   "metadata": {},
   "source": [
    "> ## (Theorem 8)"
   ]
  },
  {
   "cell_type": "markdown",
   "metadata": {},
   "source": [
    "#### **동차 선형 시스템**에서 선형 방정식 개수보다 변수의 개수가 많을 경우, 해당 선형 시스템의 해집합은 비자명해를 갖는다.\n",
    "#### = 해집합은 자유 변수(free variable)을 갖는다.\n",
    "#### = 해당 벡터 집합은 선형 종속이다. \n",
    "#### = 벡터 표기법에서 **벡터 개수가 각 벡터의 성분 개수보다 많으면**, 각 벡터로 이루어진 벡터 집합은 **선형 종속** 관계이다.\n",
    "#### = 행렬 표기법에서 **열 개수가 행 개수보다 많으면**, 각 열 벡터로 이루어진 벡터 집합은 **선형 종속** 관계이다.\n",
    "<b></b>"
   ]
  },
  {
   "cell_type": "markdown",
   "metadata": {},
   "source": [
    "> ## (Theorem 9) "
   ]
  },
  {
   "cell_type": "markdown",
   "metadata": {},
   "source": [
    "#### 동차 선형 시스템의 각 선형 방정식에서 한 변수의 계수가 모두 $ \\; 0 $ 인경우, 해당 선형 시스템의 해집합은 비자명해를 갖는다.\n",
    "#### = 행렬 표기법에서 **1개 이상의 열 벡터가 0 벡터**인경우, 해당 열 벡터 집합은 **선형 종속** 관계이다."
   ]
  }
 ],
 "metadata": {
  "kernelspec": {
   "display_name": "Python 3",
   "language": "python",
   "name": "python3"
  },
  "language_info": {
   "codemirror_mode": {
    "name": "ipython",
    "version": 3
   },
   "file_extension": ".py",
   "mimetype": "text/x-python",
   "name": "python",
   "nbconvert_exporter": "python",
   "pygments_lexer": "ipython3",
   "version": "3.11.3"
  },
  "orig_nbformat": 4
 },
 "nbformat": 4,
 "nbformat_minor": 2
}
