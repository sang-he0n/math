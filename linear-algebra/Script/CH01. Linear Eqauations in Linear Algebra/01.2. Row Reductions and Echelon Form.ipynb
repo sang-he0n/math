{
 "cells": [
  {
   "attachments": {},
   "cell_type": "markdown",
   "metadata": {},
   "source": [
    "# CH01.2. **Row Reduction and Echelon Form**"
   ]
  },
  {
   "cell_type": "markdown",
   "metadata": {},
   "source": [
    "> ## **선행 성분(Leading Entry of row)** "
   ]
  },
  {
   "cell_type": "markdown",
   "metadata": {},
   "source": [
    "#### **(1) 정의** : 모든 성분이 $ \\; 0 $이 아닌 행(nonzero row)에서 가장 왼쪽에 있는 $ 0 $이 아닌 성분\n",
    "#### $ \\begin{bmatrix} 0&\\textbf{1}&-2&0 \\\\ \\textbf{2}&0&-8&8 \\\\ 0&\\textbf{2}&7&0 \\\\ \\textbf{3}&3&-9&6 \\\\ 0&0&\\textbf{1}&0 \\end{bmatrix} $ &nbsp;&nbsp; $ \\begin{matrix} \\cdots \\,\\, Leading \\; Entry = 1 \\\\ \\cdots \\,\\, Leading \\; Entry = 2 \\\\ \\cdots \\,\\, Leading \\; Entry = 2 \\\\ \\cdots \\,\\, Leading \\; Entry = 3 \\\\ \\cdots \\,\\, Leading \\; Entry = 1 \\end{matrix} $"
   ]
  },
  {
   "attachments": {},
   "cell_type": "markdown",
   "metadata": {},
   "source": [
    "#### **(PLUS) nonzero row(or column)** :\n",
    "#### 특정 행렬에서 한 행(혹은 열)을 추출했을 때 그 성분이 하나라도 $ \\; 0 $ 이 아닌 행(혹은 열)\n",
    "#### $ \\begin{bmatrix} 0&0&a&0&0 \\end{bmatrix} \\;\\; $ where $ \\; a \\in \\{ \\mathbb{R^1} | \\mathbb{R^1} \\notni{} 0 \\} $"
   ]
  },
  {
   "cell_type": "markdown",
   "metadata": {},
   "source": [
    "#### **(PLUS) allzero row(or column)** :\n",
    "#### 특정 행렬에서 한 행(혹은 열)을 추출했을 때 그 성분이 모두 $ \\; 0 $ 인 행(혹은 열)\n",
    "#### $ \\begin{bmatrix} 0&0&0&0&0 \\end{bmatrix} $"
   ]
  },
  {
   "cell_type": "markdown",
   "metadata": {},
   "source": [
    "<b></b>"
   ]
  },
  {
   "cell_type": "markdown",
   "metadata": {},
   "source": [
    "> ## **행 사다리꼴 형태(Row Echelon Form)**"
   ]
  },
  {
   "cell_type": "markdown",
   "metadata": {},
   "source": [
    "#### **(1) 정의** : 아래와 같이 성분이 계단 모양으로 배열된 행렬\n",
    "#### $ \\begin{bmatrix} *&*&*&* \\\\ 0&0&*&* \\\\ 0&0&*&* \\\\ 0&0&0&* \\\\ 0&0&0&0 \\end{bmatrix} \\; $ where $ \\; * \\in{} \\mathbb{R}^{1} $\n"
   ]
  },
  {
   "cell_type": "markdown",
   "metadata": {},
   "source": [
    "#### **(2) 조건** :\n",
    "#### &nbsp;&nbsp; ① 모든 성분이 0이 아닌 행(nonzero row)들은 모든 성분이 $ \\; 0 $ 인 행(allzero row)보다 위에 있어야함\n",
    "#### &nbsp;&nbsp; ② 각 선행 성분는 위의 선행 성분보다 오른쪽에 위치해야함\n",
    "#### &nbsp;&nbsp; ③ 선행 성분과 같은 열에서 선행성분 아래에 있는 성분들은 모두 $ \\; 0 $ 이어야함"
   ]
  },
  {
   "cell_type": "markdown",
   "metadata": {},
   "source": [
    "<b></b>"
   ]
  },
  {
   "cell_type": "markdown",
   "metadata": {},
   "source": [
    "> ## **기약 행 사다리꼴 형태(Reduced Row Echelon Form)**"
   ]
  },
  {
   "cell_type": "markdown",
   "metadata": {},
   "source": [
    "#### **(1) 정의** : 아래와 같은 행 사다리꼴 형태\n",
    "#### $ \\begin{bmatrix} 1&0&0&0&* \\\\ 0&1&0&0&* \\\\ 0&0&1&0&* \\\\ 0&0&0&1&* \\\\ 0&0&0&0&0 \\end{bmatrix} \\;\\; $ where $ \\;\\; * \\in{} \\mathbb{R^1} $"
   ]
  },
  {
   "attachments": {},
   "cell_type": "markdown",
   "metadata": {},
   "source": [
    "#### **(2) 조건** :\n",
    "#### &nbsp;&nbsp; ① 모든 성분이 0이 아닌 행(nonzero row)들은 모든 성분이 $ \\; 0 $ 인 행(allzero row)보다 위에 있어야함\n",
    "#### &nbsp;&nbsp; ② 각 선행 성분는 위의 선행 성분보다 오른쪽에 위치해야함\n",
    "#### &nbsp;&nbsp; ③ 각 선행성분은 $ \\; 1 $임\n",
    "#### &nbsp;&nbsp; ④ 선행 성분과 같은 열에 위치한 성분들은 모두 $ \\; 0 $ 이어야함"
   ]
  },
  {
   "attachments": {},
   "cell_type": "markdown",
   "metadata": {},
   "source": [
    "<b></b>"
   ]
  },
  {
   "attachments": {},
   "cell_type": "markdown",
   "metadata": {},
   "source": [
    "> ## (Theorem 1) **Uniqueness of the Reduced Echelon Form**"
   ]
  },
  {
   "cell_type": "markdown",
   "metadata": {},
   "source": [
    "#### 어떠한 선형 시스템에 대하여 행 연산을 하더라도 **유일**한 reduced echelon form만이 존재한다."
   ]
  },
  {
   "cell_type": "markdown",
   "metadata": {},
   "source": [
    "<b></b>"
   ]
  },
  {
   "attachments": {},
   "cell_type": "markdown",
   "metadata": {},
   "source": [
    "> ## **행 줄임 알고리듬(Row Reduction Algorithm)**"
   ]
  },
  {
   "cell_type": "markdown",
   "metadata": {},
   "source": [
    "#### **(1) 정의** : 행 연산(row operation)을 이용하여 행렬을 사다리꼴 행렬로 만들어 해를 구하는 연산 방법"
   ]
  },
  {
   "attachments": {},
   "cell_type": "markdown",
   "metadata": {},
   "source": [
    "#### **(2) 연산 순서** :\n",
    "#### &nbsp;&nbsp; ① 가장 왼쪽의 모든 성분이 $ \\; 0 $이 아닌 열(non zero column)을 피봇 열(pivot column)이라고 정의하여 기준을 잡음\n",
    "#### $ \\begin{aligned} 2x_{2} - 8x_{3} &= 8 \\\\ x_{1} - 2x_{2} + x_{3} &= 0 \\\\ - 4x_{1} + 5x_{2} + 9x_{3} &= -9 \\end{aligned} \\;\\; \\rightarrow{} \\;\\; \\begin{bmatrix} \\textbf{0}&2&-8&8 \\\\ \\textbf{1}&-2&1&0 \\\\ \\textbf{-4}&5&9&-9 \\end{bmatrix} $\n",
    "#### &nbsp;&nbsp; ② 피봇 열에서 첫번 째 성분을 피봇(pivot)이라고 정의하며, 피봇은 $ \\; 0 $ 이 아니어야 함. 필요하다면 다른 행과 교환(interchanging)함\n",
    "#### ~ $ \\begin{bmatrix} \\textbf{1}&-2&1&0 \\\\ \\textbf{0}&2&-8&8 \\\\ \\textbf{-4}&5&9&-9 \\end{bmatrix} \\; : \\; row_{1} \\iff{} row_{2} $\n",
    "#### &nbsp;&nbsp; ③ 행 덧셈(replacement)과 스칼라 곱(scaling) 연산을 통해 피봇 아래의 모든 성분들을 $ \\; 0 $ 으로 만듬\n",
    "#### ~ $ \\begin{bmatrix} \\textbf{1}&-2&1&0 \\\\ \\textbf{0}&2&-8&8 \\\\ \\textbf{0}&-3&13&-9 \\end{bmatrix} \\; : \\;  4 \\times row_{1} - row_{3} \\rightarrow{} row_{3} $\n",
    "#### &nbsp;&nbsp; ④ 위의 과정(①~③)을 **연산 처리한 행렬의 선행성분이 존재하는 횟수**만큼 반복 적용함\n",
    "#### ~ $ \\begin{bmatrix} 1&-2&1&0 \\\\ 0&\\textbf{2}&-8&8 \\\\ 0&-\\textbf{3}&13&-9 \\end{bmatrix} $ ~ $ \\begin{bmatrix} 1&-2&1&0 \\\\ 0&\\textbf{2}&-8&8 \\\\ 0&\\textbf{0}&1&3 \\end{bmatrix} $ ~ $ \\begin{bmatrix} 1&-2&1&0 \\\\ 0&2&-8&8 \\\\ 0&0&\\textbf{1}&3 \\end{bmatrix} $\n",
    "#### &nbsp;&nbsp; ⑤ 가장 오른쪽에 있는 피봇(pivot)을 $ \\; 1 $ 로 만들고, 각 피봇 위 성분들을 $ \\;0 $ 으로 만듬\n",
    "#### ~ $ \\begin{bmatrix} 1&-2&\\textbf{1}&0 \\\\ 0&2&\\textbf{-8}&8 \\\\ 0&0&\\textbf{1}&3 \\end{bmatrix} $ ~ $ \\begin{bmatrix} 1&-2&\\textbf{0}&-3 \\\\ 0&2&\\textbf{0}&32 \\\\ 0&0&\\textbf{1}&3 \\end{bmatrix} $ ~ &nbsp; $  \\cdots $ &nbsp;&nbsp;~ $ \\begin{bmatrix} 1&\\textbf{0}&0&29 \\\\ 0&\\textbf{1}&0&16 \\\\ 0&0&1&3 \\end{bmatrix} $"
   ]
  },
  {
   "attachments": {},
   "cell_type": "markdown",
   "metadata": {},
   "source": [
    "#### **(PLUS)** 위의 과정 중 ①~④번을 **forward phase**라고 정의하며, ⑤번 과정을 **backward phase**라고 정의함"
   ]
  },
  {
   "cell_type": "markdown",
   "metadata": {},
   "source": [
    "<b></b>"
   ]
  },
  {
   "attachments": {},
   "cell_type": "markdown",
   "metadata": {},
   "source": [
    "> ## **선형시스템의 해(Solution of linear system)**"
   ]
  },
  {
   "cell_type": "markdown",
   "metadata": {},
   "source": [
    "#### **(1) 정의** : 선형 시스템에서 가능한 해의 종류 (**general solution**)"
   ]
  },
  {
   "cell_type": "markdown",
   "metadata": {},
   "source": [
    "#### **(2) 종류**\n",
    "#### &nbsp;&nbsp; ① **기본 변수(basic variable)** : 기약 사다리꼴 형태에서 선행 성분에 대응되는 변수\n",
    "#### &nbsp;&nbsp; ② **자유 변수(free variable)** : 기약 사다리꼴 형태에서 선행 성분에 대응되지 않는 변수"
   ]
  },
  {
   "cell_type": "markdown",
   "metadata": {},
   "source": [
    "#### **(3) 예시** :\n",
    "#### $ \\begin{aligned} x_{1}-5x_{3} &= -1 \\\\ x_{2}+x_{3} &= 4 \\end{aligned} \\;\\; \\Rightarrow{} \\;\\; \\begin{bmatrix} \\textbf{1}&0&-5&1 \\\\ 0&\\textbf{1}&1&4 \\end{bmatrix} \\;\\;\\;\\;\\;\\;\\;\\; \\therefore \\begin{cases} x_{1} = 1 + 5x_{3} \\\\ x_2 = 4 - x_3 \\\\ x_3 \\;\\; \\text{is free variable} \\end{cases} $"
   ]
  },
  {
   "cell_type": "markdown",
   "metadata": {},
   "source": [
    "#### **(PLUS)** 자유 변수는 어떠한 값이 들어가도 선형 방정식이 만족됨"
   ]
  },
  {
   "cell_type": "markdown",
   "metadata": {},
   "source": [
    "<b></b>"
   ]
  },
  {
   "attachments": {},
   "cell_type": "markdown",
   "metadata": {},
   "source": [
    "> ## (Theorem 2) **Existence and Uniqueness Theorem**"
   ]
  },
  {
   "cell_type": "markdown",
   "metadata": {},
   "source": [
    "#### **(1)** 선형 시스템을 첨가 행렬로 표현할 때 상수항 열에 선행 성분이 존재한다면, 해당 시스템은 해가 존재하지 않는다. **(Inconsistent)**\n",
    "#### **(2)** 만약 선형 시스템의 해에 자유 변수(free variable)이 존재한다면, 해당 선형 시스템에는 해가 무수히 많이 존재한다. **(Consistent)**\n",
    "#### &nbsp;&nbsp;&nbsp;&nbsp;&nbsp; 자유 변수가 존재하지 않다면 해가 1개만 존재한다. **(Consistent)**"
   ]
  }
 ],
 "metadata": {
  "kernelspec": {
   "display_name": "Python 3",
   "language": "python",
   "name": "python3"
  },
  "language_info": {
   "name": "python",
   "version": "3.9.6"
  },
  "orig_nbformat": 4
 },
 "nbformat": 4,
 "nbformat_minor": 2
}
