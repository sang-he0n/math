{
 "cells": [
  {
   "attachments": {},
   "cell_type": "markdown",
   "metadata": {},
   "source": [
    "# CH01.2. **Row Reduction and Echelon Form**"
   ]
  },
  {
   "cell_type": "markdown",
   "metadata": {},
   "source": [
    "> ## **선행 성분(Leading Entry)** "
   ]
  },
  {
   "cell_type": "markdown",
   "metadata": {},
   "source": [
    "#### **(1) 정의** : 비영 행(nonzero row)에서 **가장 왼쪽에 있는** $ 0 $이 아닌 성분\n",
    "#### $ \\Rightarrow{} \\begin{bmatrix} 0 & \\textbf{1} & -2 & 0 \\\\ \\textbf{2} & 0 & -8 & 8 \\\\ 0 & \\textbf{2} & 7 & 0 \\\\ \\textbf{3} & 3 & -9 & 6 \\\\ 0 & 0 & \\textbf{1} & 0 \\end{bmatrix} \\; \\begin{matrix} \\cdots{} \\,\\, \\text{leaeding entry}_{1} = 1 \\\\ \\cdots{} \\,\\, \\text{leaeding entry}_{2} = 2 \\\\ \\cdots{} \\,\\, \\text{leaeding entry}_{3} = 2 \\\\ \\cdots{} \\,\\, \\text{leaeding entry}_{4} = 3 \\\\ \\cdots{} \\,\\, \\text{leaeding entry}_{5} = 1 \\end{matrix} $"
   ]
  },
  {
   "attachments": {},
   "cell_type": "markdown",
   "metadata": {},
   "source": [
    "##### **(`PLUS`) 비영 행(nonzero row)** : 성분이 최소한 하나라도 $ \\, 0 $이 아닌 행\n",
    "##### $ \\hspace{0.15cm} \\Rightarrow{} \\begin{bmatrix} 0 & 0 & * & 0 & 0 \\end{bmatrix} \\;\\; \\text{ s.t. } \\, * \\neq{} 0 $ "
   ]
  },
  {
   "cell_type": "markdown",
   "metadata": {},
   "source": [
    "##### **(`PLUS`) 전영 행(allzero row)** : 성분이 모두 $ \\, 0 $인 행\n",
    "##### $ \\hspace{0.15cm} \\Rightarrow{} \\begin{bmatrix} 0&0&0&0&0 \\end{bmatrix} $"
   ]
  },
  {
   "cell_type": "markdown",
   "metadata": {},
   "source": [
    "<b></b>"
   ]
  },
  {
   "cell_type": "markdown",
   "metadata": {},
   "source": [
    "> ## **행 사다리꼴 형태(Row Echelon Form)**"
   ]
  },
  {
   "cell_type": "markdown",
   "metadata": {},
   "source": [
    "#### **(1) 정의** : 성분이 계단 모양으로 배열된 행렬\n",
    "#### $ \\Rightarrow{} \\begin{bmatrix} *&*&*&* \\\\ 0&*&*&* \\\\ 0&0&*&* \\\\ 0&0&0&* \\\\ 0&0&0&0 \\end{bmatrix} \\; \\text{ where } \\; * \\in{} \\mathbb{R}^{1} $"
   ]
  },
  {
   "cell_type": "markdown",
   "metadata": {},
   "source": [
    "#### **(2) 생성 조건** :\n",
    "##### $ \\hspace{0.15cm} $ ① 전영 행(allzero row)은 비영 행(nonzero row)보다 아래에 있어야함\n",
    "##### $ \\hspace{0.15cm} $ ② 선행 성분은 윗 행의 선행 성분보다 **더 오른쪽 열에 위치**해야함\n",
    "##### $ \\hspace{0.15cm} $ ③ 선행 성분 아래에 있는 모든 성분은 $ \\, 0 $이어야함"
   ]
  },
  {
   "cell_type": "markdown",
   "metadata": {},
   "source": [
    "<b></b>"
   ]
  },
  {
   "cell_type": "markdown",
   "metadata": {},
   "source": [
    "> ## **기약 행 사다리꼴 형태(Reduced Row Echelon Form;RREF)**"
   ]
  },
  {
   "cell_type": "markdown",
   "metadata": {},
   "source": [
    "#### **(1) 정의** : 계단 모양을 가지면서, **선행 성분이 $ 1 $이고 그 열의 나머지 성분이 모두 $ 0 $인** 행렬\n",
    "#### $ \\Rightarrow{} \\begin{bmatrix} 1 & 0 & 0 & 0 & * \\\\ 0 & 1 & 0 & 0 & * \\\\ 0 & 0 & 1 & 0 & * \\\\ 0& 0 & 0 & 1 & * \\\\ 0 & 0 & 0 & 0 & 0 \\end{bmatrix} \\;\\; \\text{ where } \\; * \\in{} \\mathbb{R^1} $"
   ]
  },
  {
   "attachments": {},
   "cell_type": "markdown",
   "metadata": {},
   "source": [
    "#### **(2) 생성 조건** :\n",
    "##### $ \\hspace{0.15cm} $ ① 전영 행은 비영 행보다 아래에 있어야함\n",
    "##### $ \\hspace{0.15cm} $ ② 선행 성분은 윗 행의 선행 성분보다 더 오른쪽 열에 위치해야함\n",
    "##### $ \\hspace{0.15cm} $ ③ **선행 성분 위아래에 있는 모든 성분은** $ \\, \\bf{0} $이어야함\n",
    "##### $ \\hspace{0.15cm} $ ④ 모든 **선행 성분은** $ \\, \\bf{1} $이어야함"
   ]
  },
  {
   "attachments": {},
   "cell_type": "markdown",
   "metadata": {},
   "source": [
    "<b></b>"
   ]
  },
  {
   "attachments": {},
   "cell_type": "markdown",
   "metadata": {},
   "source": [
    "> ## (Theorem 1-1) **Uniqueness of the Reduced Echelon Form**"
   ]
  },
  {
   "cell_type": "markdown",
   "metadata": {},
   "source": [
    "#### 모든 선형 시스템은 하나의 **유일한** 기약 행 사다리꼴(RREF)로 변환된다."
   ]
  },
  {
   "cell_type": "markdown",
   "metadata": {},
   "source": [
    "<b></b>"
   ]
  },
  {
   "cell_type": "markdown",
   "metadata": {},
   "source": [
    "> ## **피빗과 피봇 위치(Pivot and Pivot Position)**"
   ]
  },
  {
   "cell_type": "markdown",
   "metadata": {},
   "source": [
    "#### **(1) 피봇(Pivot)** : 행 사다리꼴 형태에서 선행 성분\n",
    "#### $ \\Rightarrow{} \\begin{bmatrix} \\bf{1} & 2 & -1 & 0 \\\\ 0 & \\bf{1} & 4 & -2 \\\\ 0 & 0 & \\bf{5} & 6 \\\\ 0 & 0 & 0 & \\bf{3} \\\\ 0 & 0 & 0 & 0 \\end{bmatrix} \\; \\begin{matrix} \\begin{array}{l} \\cdots{} \\,\\, \\text{pivot}_{1} = 1 \\\\ \\cdots{} \\,\\, \\text{pivot}_{2} = 1 \\\\ \\cdots{} \\,\\, \\text{pivot}_{3} = 5 \\\\ \\cdots{} \\,\\, \\text{pivot}_{4} = 3 \\\\ \\cdots{} \\,\\, \\text{pivot}_{5} \\, \\text{ is not defined}. \\end{array} \\end{matrix} $"
   ]
  },
  {
   "cell_type": "markdown",
   "metadata": {},
   "source": [
    "#### **(2) 피봇 위치(Pivot Position)** : 피봇이 위치하는 행과 열의 좌표(위치)\n",
    "#### $ \\Rightarrow{} \\begin{bmatrix} \\bf{1} & 2 & -1 & 0 \\\\ 0 & \\bf{1} & 4 & -2 \\\\ 0 & 0 & \\bf{5} & 6 \\\\ 0 & 0 & 0 & \\bf{3} \\\\ 0 & 0 & 0 & 0 \\end{bmatrix} \\; \\begin{matrix} \\begin{array}{l} \\cdots{} \\,\\, \\text{pivot position}_{1} = (1,1) \\\\ \\cdots{} \\,\\, \\text{pivot position}_{2} = (2,2) \\\\ \\cdots{} \\,\\, \\text{pivot position}_{3} = (3,3) \\\\ \\cdots{} \\,\\, \\text{pivot position}_{4} = (4,4) \\\\ \\cdots{} \\,\\, \\text{pivot position}_{5} \\, \\text{ is not defined}. \\end{array} \\end{matrix} $"
   ]
  },
  {
   "cell_type": "markdown",
   "metadata": {},
   "source": [
    "<b></b>"
   ]
  },
  {
   "attachments": {},
   "cell_type": "markdown",
   "metadata": {},
   "source": [
    "> ## **행 줄임 알고리듬(Row Reduction Algorithm; Gaussian Elimination)**"
   ]
  },
  {
   "cell_type": "markdown",
   "metadata": {},
   "source": [
    "#### **(1) 정의** : 행 연산을 이용하여 행렬을 기약 행 사다리꼴 형태로 만드는 알고리즘\n",
    "#### $ = $ 선형 시스템의 해를 명확하게 표현하여, 각 변수들이 어떤 값을 갖는지 쉽게 파악하기 위한 알고리즘"
   ]
  },
  {
   "cell_type": "markdown",
   "metadata": {},
   "source": [
    "#### **(2) 연산 순서** :\n",
    "##### $ \\hspace{0.15cm} $ ⓪ 선형 시스템을 첨가 행렬로 변환 \n",
    "##### $ \\hspace{0.45cm} \\begin{cases} \\begin{aligned} 2x_{2} - 8x_{3} &= 8 \\\\ x_{1} - 2x_{2} + x_{3} &= 0 \\\\ - 4x_{1} + 5x_{2} + 9x_{3} &= -9 \\end{aligned} \\end{cases} \\; \\rightarrow{} \\; \\begin{bmatrix} 0 & 2 & -8 & 8 \\\\ 1 & -2 & 1 & 0 \\\\ -4 & 5 & 9 & -9 \\end{bmatrix} $\n",
    "##### $ \\hspace{0.15cm} $ ① 다리꼴 형태를 만들기 위해 가장 왼쪽 열에서 피봇을 정의, 필요시 다른 행과 교환(interchanging)하여 처리\n",
    "##### $ \\hspace{0.45cm} \\begin{bmatrix} 1 & -2 & 1 & 0 \\\\ 0 & 2 & -8 & 8 \\\\ -4 & 5 & 9 & -9 \\end{bmatrix} \\; $ ~ $ \\; \\begin{bmatrix} \\bf{1} & -2 & 1 & 0 \\\\ \\bf{0} & 2 & -8 & 8 \\\\ -4 & 5 & 9 & -9 \\end{bmatrix} \\, : \\, \\text{row}_{1} \\iff{} \\text{row}_{2}, \\;\\; \\text{pivot}_{1} = 1 $\n",
    "##### $ \\hspace{0.15cm} $ ② 행 덧셈(addition)과 스케일링(scaling) 연산을 통해 피봇 아래의 모든 성분들을 $ 0 $으로 만듬\n",
    "##### $ \\hspace{0.45cm} \\begin{bmatrix} 1 & -2 & 1 & 0 \\\\ 0 & 2 & -8 & 8 \\\\ -4 & 5 & 9 & -9 \\end{bmatrix} \\; $ ~ $ \\; \\begin{bmatrix} \\bf{1}&-2&1&0 \\\\ 0&2&-8&8 \\\\ \\bf{0}&-3&13&-9 \\end{bmatrix} \\, : \\,  \\text{row}_{3} \\leftarrow{} \\text{row}_{3} - 4 \\times{} \\text{row}_{1} $\n",
    "##### $ \\hspace{0.15cm} $ ③ 위의 과정(①~②)을 현재까지 진행된 피봇의 행과 열을 제외한 부분행렬(submatrix)에 대하여 반복 적용함\n",
    "##### $ \\hspace{0.45cm} \\begin{bmatrix} \\begin{matrix} 1 \\end{matrix} & \\begin{matrix} -2 & \\;\\; 1 & \\;\\; 0 \\; \\end{matrix} \\\\ \\begin{matrix} 0 \\\\ 0 \\end{matrix} & \\boxed{\\begin{matrix} 2 & -8 & 8 \\\\ -3 & 13 & -9 \\end{matrix}} \\end{bmatrix} \\; $ ~ $ \\; \\cdots{} \\; $ ~ $ \\; \\begin{bmatrix} 1 & -2 & 1 & 0 \\\\ 0 & \\bf{2} & -8 & 8 \\\\ 0 & \\bf{0} & 1 & 3 \\end{bmatrix} \\; $ ~ $ \\; \\begin{bmatrix} \\begin{matrix} \\;\\; 1 & -2 \\end{matrix} & \\begin{matrix} \\;\\; 1 & \\; 0 \\end{matrix} \\\\ \\begin{matrix} 0 & \\; 2 \\end{matrix} & \\begin{matrix} -8 & 8 \\end{matrix} \\\\ \\begin{matrix} 0 & \\; 0 \\end{matrix} & \\boxed{\\begin{matrix} \\;\\; \\bf{1} & \\; 3 \\end{matrix}} \\end{bmatrix} $\n",
    "##### $ \\hspace{0.15cm} $ ④ 가장 오른쪽에 있는 피봇을 $ 1 $로 만들고, 각 피봇 위 성분들을 $ 0 $으로 만듬\n",
    "##### $ \\hspace{0.45cm} \\begin{bmatrix} 1 & -2 & \\bf{1} & 0 \\\\ 0 & 2 & \\bf{-8} & 8 \\\\ 0 & 0 & \\bf{1} & 3 \\end{bmatrix} $ ~ $ \\begin{bmatrix} 1 & -2 & \\bf{0} & -3 \\\\ 0 & 2 & \\bf{0} & 32 \\\\ 0 & 0 & \\bf{1} & 3 \\end{bmatrix} \\; $ ~ $ \\; \\cdots{} \\; $ ~ $ \\; \\begin{bmatrix} 1 & \\bf{0} & 0 & 29 \\\\ 0 & \\bf{1} & 0 & 16 \\\\ 0 & 0 & 1 & 3 \\end{bmatrix} $ "
   ]
  },
  {
   "attachments": {},
   "cell_type": "markdown",
   "metadata": {},
   "source": [
    "##### **(`PLUS`)** 위의 과정 중 ①~③번을 전진 단계(forward phase)라고 정의하며, ④번 과정을 후진 단계(backward phase)라고 정의함"
   ]
  },
  {
   "cell_type": "markdown",
   "metadata": {},
   "source": [
    "<b></b>"
   ]
  },
  {
   "attachments": {},
   "cell_type": "markdown",
   "metadata": {},
   "source": [
    "> ## **선형 시스템의 해(Solution of Linear System)**"
   ]
  },
  {
   "cell_type": "markdown",
   "metadata": {},
   "source": [
    "#### **(1) 정의** : 선형 시스템을 만족하는 변수"
   ]
  },
  {
   "cell_type": "markdown",
   "metadata": {},
   "source": [
    "#### **(2) 종류** :\n",
    "##### $ \\hspace{0.15cm} $ ① 기본 변수(Basic Variable) : 선형 시스템에서 고정되는 변수 $ = $ 기약 사다리꼴 형태에서 선행 성분이 있는 열\n",
    "##### $ \\hspace{0.15cm} $ ② 자유 변수(Free Variable) : 선형 시스템에서 자유롭게 지정되는 변수 $ = $ 기약 사다리꼴 형태에서 선행 성분이 없는 열"
   ]
  },
  {
   "cell_type": "markdown",
   "metadata": {},
   "source": [
    "##### **(`PLUS`)** 자유 변수는 어떠한 값이 들어가도 선형 방정식이 만족됨"
   ]
  },
  {
   "cell_type": "markdown",
   "metadata": {},
   "source": [
    "#### **(3) 예시** :\n",
    "##### $ \\hspace{0.15cm} $ ① 어떠한 선형 시스템에서의 해를 구하고자 할 때\n",
    "##### $ \\hspace{0.45cm} \\begin{cases} \\begin{aligned} x_{1} - 5x_{3} &= -1 \\\\ x_{2} + x_{3} &= 4 \\end{aligned} \\end{cases} \\; \\rightarrow{} \\; \\begin{bmatrix} 1 & 0 & -5 & 1 \\\\ 0 & 1 & 1 & 4 \\end{bmatrix} $\n",
    "##### $ \\hspace{0.45cm} \\therefore{} \\; \\textbf{x} = \\begin{bmatrix} x_{1} \\\\ x_{2} \\\\ x_{3} \\end{bmatrix} = \\begin{bmatrix} 1 + 5x_{3} \\\\ 4 - x_{3} \\\\ x_{3} \\end{bmatrix}\\Rightarrow{} \\begin{cases} x_{1} = 1 + 5x_{3} \\\\ x_{2} = 4 - x_{3} \\\\ x_{3} \\, \\text{ is free variable.} \\end{cases} \\;\\; (\\textbf{consistent solution}) $\n",
    "##### $ \\hspace{0.15cm} $ ② 어떠한 선형 시스템에서의 해를 구하고자 할 때\n",
    "##### $ \\hspace{0.45cm} \\begin{cases} \\begin{aligned} x_{1} + x_{2} + x_{3} &= 6 \\\\ x_{1} - x_{2} + 2x_{3} &= 4 \\\\ 2x_{1} + x_{2} + x_{3} &= 7 \\end{aligned} \\end{cases} \\; \\rightarrow{} \\; \\begin{bmatrix} 1 & 1 & 1 & 6 \\\\ 1 & -1 & 2 & 4 \\\\ 2 & 1 & 1 & 7 \\end{bmatrix} \\; $ ~ $ \\; \\cdots{} \\; $ ~ $ \\; \\begin{bmatrix} 1 & 0 & 0 & 1 \\\\ 0 & 1 & 0 & 2 \\\\ 0 & 0 & 1 & 3 \\end{bmatrix} $ \n",
    "##### $ \\hspace{0.45cm} \\therefore{} \\; \\textbf{x} = \\begin{bmatrix} 1 \\\\ 2 \\\\ 3 \\end{bmatrix} \\Rightarrow{} \\begin{cases} x_{1} = 1 \\\\ x_{2} = 2 \\\\ x_{3} = 3 \\end{cases} \\;\\; (\\textbf{consistent solution}) $\n",
    "##### $ \\hspace{0.15cm} $ ③ 어떠한 선형 시스템에서의 해를 구하고자 할 때\n",
    "##### $ \\hspace{0.45cm} \\begin{cases} \\begin{aligned} x_{1} + x_{2} + x_{3} &= 2 \\\\ 2x_{1} + 2x_{2} + 2x_{3} &= 4 \\\\ x_{1} + x_{2} + x_{3} &= 5 \\end{aligned} \\end{cases} \\; \\rightarrow{} \\; \\begin{bmatrix} 1 & 1 & 1 & 2 \\\\ 2 & 2 & 2 & 4 \\\\ 1 & 1 & 1 & 5 \\end{bmatrix} \\; $ ~ $ \\; \\cdots{} \\; $ ~ $ \\; \\begin{bmatrix} 1 & 1 & 1 & 2 \\\\ 0 & 0 & 0 & 0 \\\\ 0 & 0 & 0 & 1 \\end{bmatrix} $\n",
    "##### $ \\hspace{0.45cm} \\therefore{} \\; \\textbf{x} \\, \\text{ is not defined.} \\;\\; (\\textbf{inconsistent solution}) $"
   ]
  },
  {
   "cell_type": "markdown",
   "metadata": {},
   "source": [
    "<b></b>"
   ]
  },
  {
   "attachments": {},
   "cell_type": "markdown",
   "metadata": {},
   "source": [
    "> ## (Theorem 1-2) **Existence and Uniqueness Theorem**"
   ]
  },
  {
   "cell_type": "markdown",
   "metadata": {},
   "source": [
    "#### **(1)** 선형 시스템을 **첨가 행렬로 표현**할 때 가장 우측 열(상수항)에 선행 성분이 존재한다면, 해가 존재하지 않는다. **(inconsistent)**"
   ]
  },
  {
   "cell_type": "markdown",
   "metadata": {},
   "source": [
    "#### **(2)** 만약 선형 시스템의 해에 자유 변수이 존재한다면, 해가 무수히 많이 존재한다. **(consistent)**\n",
    "#### $ \\hspace{0.45cm} $ 자유 변수가 존재하지 않다면 해가 $ 1 $개만 존재한다. **(consistent)**"
   ]
  }
 ],
 "metadata": {
  "kernelspec": {
   "display_name": "Python 3",
   "language": "python",
   "name": "python3"
  },
  "language_info": {
   "name": "python",
   "version": "3.9.6"
  },
  "orig_nbformat": 4
 },
 "nbformat": 4,
 "nbformat_minor": 2
}
