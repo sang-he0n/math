{
 "cells": [
  {
   "attachments": {},
   "cell_type": "markdown",
   "metadata": {},
   "source": [
    "# CH01.7. **Linear Transformation**"
   ]
  },
  {
   "cell_type": "markdown",
   "metadata": {},
   "source": [
    "> ## **변환(Transformation)**"
   ]
  },
  {
   "cell_type": "markdown",
   "metadata": {},
   "source": [
    "#### **(1) 정의** : 선형대수학에서 $ \\, \\mathbb{R}^{n} $ 차원 벡터를 함수 $ \\, T $ 를 이용하여 $ \\, \\mathbb{R}^{m} $ 차원 벡터로 변환(이동)하는 연산"
   ]
  },
  {
   "cell_type": "markdown",
   "metadata": {},
   "source": [
    "#### **(2) 형식** :\n",
    "<img src=\"../../png/01.7 Linear Transformation (1).png\" width=\"30%\" height=\"30%\"/></img>\n",
    "#### $ \\hspace{0.15cm} $ ① 정의역(domain) : $ \\mathbb{R}^{m} \\, $ 공간의 벡터 집합\n",
    "#### $ \\hspace{0.15cm} $ ② 공역(codomain) : $ \\mathbb{R}^{n} \\, $ 공간의 벡터 집합\n",
    "#### $ \\hspace{0.15cm} $ ③ 치역(range) : 정의역이 함수 $ \\, T $ 를 통해 공역으로 변환되는 집합 $ = T(\\mathbb{R^{n}}) $\n",
    "#### $ \\hspace{0.15cm} $ ④ 상(image; 이미지) : 정의역에 속해있는 원소 $ = x $"
   ]
  },
  {
   "cell_type": "markdown",
   "metadata": {},
   "source": [
    "<b></b>"
   ]
  },
  {
   "cell_type": "markdown",
   "metadata": {},
   "source": [
    "> ## **선형 변환(Linear Transformation)**"
   ]
  },
  {
   "cell_type": "markdown",
   "metadata": {
    "vscode": {
     "languageId": "plaintext"
    }
   },
   "source": [
    "#### **(1) 정의** : $ \\mathbb{R}^{n} $ 차원에 있는 벡터 공간 $ V $ 을 함수 $ T(\\textbf{x}) $ 을 통해 $ \\, \\mathbb{R}^{m} $ 차원에 있는 벡터 공간 $ W $ 로 변환하는 연산\n",
    "#### = 어떠한 $ \\, \\mathbb{R}^{n} $ 차원 벡터를 $ \\, \\mathbb{R}^{m} $ 차원 벡터로 변환하는 연산이면서, **선형성**을 만족하는 연산 \n",
    "#### $ \\Rightarrow{} T(\\textbf{x}) : \\mathbb{R}^{n} \\rightarrow{} \\mathbb{R}^{m} \\;\\; $ where $ \\, T(\\textbf{u} + \\textbf{v}) = T(\\textbf{u})+T(\\textbf{v}) \\, $ and $ \\, cT(\\textbf{u}) = T(c\\textbf{u}) $"
   ]
  },
  {
   "cell_type": "markdown",
   "metadata": {},
   "source": [
    "#### **(2) 종류** :\n",
    "#### $ \\hspace{0.15cm} $ ① 행렬 변환(matrix transformation)\n",
    "#### $ \\hspace{0.15cm} $ ② 미분 연산(differential operator)\n",
    "#### $ \\hspace{0.15cm} $ ③ 적분 연산(integral operator)\n",
    "#### $ \\hspace{0.6cm} \\cdots{} $ "
   ]
  },
  {
   "cell_type": "markdown",
   "metadata": {},
   "source": [
    "#### **(3) 예시** :\n",
    "#### when $ \\; T(\\textbf{x}) = \\begin{bmatrix} 0&-1 \\\\ 1&0 \\end{bmatrix} \\begin{bmatrix} x_{1} \\\\ x_{2} \\end{bmatrix}, \\; \\textbf{u} = \\begin{bmatrix} 4 \\\\ 1 \\end{bmatrix}, \\; \\textbf{v} = \\begin{bmatrix} 2 \\\\ 3 \\end{bmatrix} $\n",
    "#### $ T(\\textbf{u}) = \\begin{bmatrix} -1 \\\\ 4 \\end{bmatrix}, \\;\\; T(\\textbf{v}) = \\begin{bmatrix} -3 \\\\ 2 \\end{bmatrix} $\n",
    "<img src=\"../../png/01.7 Linear Transformation (2).png\" width=\"30%\" height=\"30%\"/></img>"
   ]
  }
 ],
 "metadata": {
  "kernelspec": {
   "display_name": "Python 3",
   "language": "python",
   "name": "python3"
  },
  "language_info": {
   "codemirror_mode": {
    "name": "ipython",
    "version": 3
   },
   "file_extension": ".py",
   "mimetype": "text/x-python",
   "name": "python",
   "nbconvert_exporter": "python",
   "pygments_lexer": "ipython3",
   "version": "3.11.3"
  },
  "orig_nbformat": 4
 },
 "nbformat": 4,
 "nbformat_minor": 2
}
