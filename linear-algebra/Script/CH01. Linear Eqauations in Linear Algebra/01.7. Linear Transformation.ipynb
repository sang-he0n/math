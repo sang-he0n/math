{
 "cells": [
  {
   "attachments": {},
   "cell_type": "markdown",
   "metadata": {},
   "source": [
    "# CH01.7. **Linear Transformation**"
   ]
  },
  {
   "cell_type": "markdown",
   "metadata": {},
   "source": [
    "> ## **변환(Transformation)**"
   ]
  },
  {
   "cell_type": "markdown",
   "metadata": {},
   "source": [
    "#### **(1) 정의** : $ \\mathbb{R}^{n} $ 공간의 벡터를 $ \\mathbb{R}^{m} $ 공간의 벡터로 매핑(변환)하는 함수\n",
    "#### $ \\Rightarrow{} T(\\textbf{x}) : \\mathbb{R}^{n} \\rightarrow{} \\mathbb{R}^{m} $"
   ]
  },
  {
   "cell_type": "markdown",
   "metadata": {},
   "source": [
    "#### **(2) 형식** :\n",
    "<img src=\"../../img/01.7 Linear Transformation (1).png\" width=\"30%\" height=\"30%\"/></img>\n",
    "##### $ \\hspace{0.15cm} $ ① 정의역(domain) : 입력 벡터가 속한 공간 $ = \\mathbb{R}^{n} $\n",
    "##### $ \\hspace{0.15cm} $ ② 공역(codomain) : 출력 벡터가 속한 공간 $ = \\mathbb{R}^{m} $\n",
    "##### $ \\hspace{0.15cm} $ ③ 치역(range;image) : 정의역의 벡터들이 함수 $ T(\\textbf{x}) $를 통해 실제로 대응되는 공역 내의 벡터들의 집합 $ = T(\\mathbb{R^{n}}) $"
   ]
  },
  {
   "cell_type": "markdown",
   "metadata": {},
   "source": [
    "#### **(3) 종류** :\n",
    "##### $ \\hspace{0.15cm} $ ① 선형 변환(Linear Transformation)\n",
    "##### $ \\hspace{0.6cm} \\cdot{} \\, $ 행렬 변환(Matrix Transformation)\n",
    "##### $ \\hspace{0.6cm} \\cdot{} \\, $ 미분 변환(Differential Transformation)\n",
    "##### $ \\hspace{0.6cm} \\vdots{} $ \n",
    "##### $ \\hspace{0.15cm} $ ② 비선형 변환(Nonlinear Transformation)\n",
    "##### $ \\hspace{0.6cm} \\cdot{} \\, $ 이차 변환(Quadratic Transformation)\n",
    "##### $ \\hspace{0.6cm} \\vdots{} $ "
   ]
  },
  {
   "cell_type": "markdown",
   "metadata": {},
   "source": [
    "<b></b>"
   ]
  },
  {
   "cell_type": "markdown",
   "metadata": {},
   "source": [
    "> ## **선형 변환(Linear Transformation)**"
   ]
  },
  {
   "cell_type": "markdown",
   "metadata": {
    "vscode": {
     "languageId": "plaintext"
    }
   },
   "source": [
    "#### **(1) 정의** : **선형성**을 만족하는 변환(함수)\n",
    "#### $ \\Rightarrow{} T(\\textbf{x}) : \\mathbb{R}^{n} \\rightarrow{} \\mathbb{R}^{m} $ \n",
    "#### $ \\hspace{0.45cm} \\text{if } \\; T(\\textbf{u} + \\textbf{v}) = T(\\textbf{u})+T(\\textbf{v}) \\; \\text{ and } \\; cT(\\textbf{u}) = T(c\\textbf{u}) $\n",
    "#### $ \\hspace{0.45cm} \\text{where } \\; \\textbf{v}, \\textbf{u} \\in{} \\mathbb{R}^{n}, \\;\\; c \\in{} \\mathbb{R} $"
   ]
  }
 ],
 "metadata": {
  "kernelspec": {
   "display_name": "Python 3",
   "language": "python",
   "name": "python3"
  },
  "language_info": {
   "codemirror_mode": {
    "name": "ipython",
    "version": 3
   },
   "file_extension": ".py",
   "mimetype": "text/x-python",
   "name": "python",
   "nbconvert_exporter": "python",
   "pygments_lexer": "ipython3",
   "version": "3.11.3"
  },
  "orig_nbformat": 4
 },
 "nbformat": 4,
 "nbformat_minor": 2
}
