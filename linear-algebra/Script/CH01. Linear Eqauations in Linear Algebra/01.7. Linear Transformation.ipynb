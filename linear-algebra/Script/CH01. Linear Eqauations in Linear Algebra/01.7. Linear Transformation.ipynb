{
 "cells": [
  {
   "attachments": {},
   "cell_type": "markdown",
   "metadata": {},
   "source": [
    "# CH01.7. **Linear Transformation**"
   ]
  },
  {
   "cell_type": "markdown",
   "metadata": {},
   "source": [
    "> ## **변환(Transformation)**"
   ]
  },
  {
   "cell_type": "markdown",
   "metadata": {},
   "source": [
    "#### **(1) 정의** : **선형대수학에서** $ \\, \\mathbb{R}^{n} $ 차원 벡터를 함수 $ \\, T $ 를 이용하여 $ \\, \\mathbb{R}^{m} $ 차원 벡터로 변환(이동)하는 연산\n",
    "#### $ \\Rightarrow{} T : \\mathbb{R}^{n} \\rightarrow{} \\mathbb{R}^{m} $"
   ]
  },
  {
   "cell_type": "markdown",
   "metadata": {},
   "source": [
    "#### **(2) 형식** :\n",
    "<img src=\"../../img/01.7 Linear Transformation (1).png\" width=\"30%\" height=\"30%\"/></img>\n",
    "#### $ \\hspace{0.15cm} $ ① 정의역(domain) : $ \\, \\mathbb{R}^{m} \\, $ 공간의 벡터 집합\n",
    "#### $ \\hspace{0.15cm} $ ② 공역(codomain) : $ \\, \\mathbb{R}^{n} \\, $ 공간의 벡터 집합\n",
    "#### $ \\hspace{0.15cm} $ ③ 치역(range) : 정의역이 함수 $ \\, T $ 를 통해 공역으로 변환되는 집합 $ = T(\\mathbb{R^{n}}) $\n",
    "#### $ \\hspace{0.15cm} $ ④ 상(image; 이미지) : 정의역에 속해있는 원소 $ = x $"
   ]
  },
  {
   "cell_type": "markdown",
   "metadata": {},
   "source": [
    "#### **(3) 종류** :\n",
    "#### $ \\hspace{0.15cm} $ ① **행렬 변환(matrix transformation)**\n",
    "#### $ \\hspace{0.15cm} $ ② 사영 변환(Projective Transformation)\n",
    "#### $ \\hspace{0.15cm} $ ③ 이차 변환(Quadratic Transformation)\n",
    "#### $ \\hspace{0.6cm} \\cdots{} $ "
   ]
  },
  {
   "cell_type": "markdown",
   "metadata": {},
   "source": [
    "<b></b>"
   ]
  },
  {
   "cell_type": "markdown",
   "metadata": {},
   "source": [
    "> ## **선형 변환(Linear Transformation)**"
   ]
  },
  {
   "cell_type": "markdown",
   "metadata": {
    "vscode": {
     "languageId": "plaintext"
    }
   },
   "source": [
    "#### **(1) 정의** : 어떠한 $ \\, \\mathbb{R}^{n} $ 차원 벡터를 $ \\, \\mathbb{R}^{m} $ 차원 벡터로 변환하면서 **선형성**을 만족하는 연산 \n",
    "#### $ \\Rightarrow{} T(\\textbf{x}) : \\mathbb{R}^{n} \\rightarrow{} \\mathbb{R}^{m} \\;\\; \\text{ where } \\, T(\\textbf{u} + \\textbf{v}) = T(\\textbf{u})+T(\\textbf{v}), \\;\\; cT(\\textbf{u}) = T(c\\textbf{u}) $"
   ]
  },
  {
   "cell_type": "markdown",
   "metadata": {},
   "source": [
    "#### **(`PLUS`)** 선형성 조건은 Theorem 1-5 에서 정의한 성질과 동일함"
   ]
  }
 ],
 "metadata": {
  "kernelspec": {
   "display_name": "Python 3",
   "language": "python",
   "name": "python3"
  },
  "language_info": {
   "codemirror_mode": {
    "name": "ipython",
    "version": 3
   },
   "file_extension": ".py",
   "mimetype": "text/x-python",
   "name": "python",
   "nbconvert_exporter": "python",
   "pygments_lexer": "ipython3",
   "version": "3.11.3"
  },
  "orig_nbformat": 4
 },
 "nbformat": 4,
 "nbformat_minor": 2
}
