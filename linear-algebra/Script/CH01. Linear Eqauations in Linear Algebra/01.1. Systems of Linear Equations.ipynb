{
 "cells": [
  {
   "attachments": {},
   "cell_type": "markdown",
   "metadata": {},
   "source": [
    "# CH01.1. **Linear Equations in Linear Algebra**"
   ]
  },
  {
   "attachments": {},
   "cell_type": "markdown",
   "metadata": {},
   "source": [
    "> ## **선형 방정식(Linear Equation)**"
   ]
  },
  {
   "cell_type": "markdown",
   "metadata": {},
   "source": [
    "#### **(1) 정의** : 변수의 모든 항이 1차(선형)으로 이루어진 방정식\n",
    "#### $ \\Rightarrow{} a_{1}x_{1} + a_{2}x_{2} + \\cdots{} + a_{n}x_{n} = b $\n",
    "#### ※ $ \\, a_{n} $ : 계수(coefficient), $ \\, x_{n} $ : 변수(variable), $ \\, b_{n} $ : 상수(constant)"
   ]
  },
  {
   "attachments": {},
   "cell_type": "markdown",
   "metadata": {},
   "source": [
    "#### **(2) 예시** :\n",
    "#### $ \\hspace{0.15cm} $ ① $ 3x_{1} + 5x_{2} - \\frac{1}{2} x_{3} = 0 $ (〇)\n",
    "#### $ \\hspace{0.15cm} $ ② $ 4x_{1} - 2x_{1}x_{2} + 3x_{2} = 2 \\; $ (×) \n",
    "#### $ \\hspace{0.15cm} $ ③ $ x_{2} - \\sqrt{x_{2}} = 6 \\; $ (×)  "
   ]
  },
  {
   "cell_type": "markdown",
   "metadata": {},
   "source": [
    "<b></b>"
   ]
  },
  {
   "attachments": {},
   "cell_type": "markdown",
   "metadata": {},
   "source": [
    "> ## **선형 시스템(System of Linear Equations; Linear System)**"
   ]
  },
  {
   "attachments": {},
   "cell_type": "markdown",
   "metadata": {},
   "source": [
    "#### **(1) 정의** : 한 개 이상의 선형 방정식으로 구성된 집합(계)\n",
    "#### $ \\Rightarrow{} \\begin{cases} \\begin{aligned} x_{1} - 2x_{2} + x_{3} &= 0 \\\\ 2x_{2} - 8x_{3} &= 8 \\\\ - 4x_{1} + 5x_{2} + 9x_{3} &= - 9 \\end{aligned} \\end{cases} $"
   ]
  },
  {
   "cell_type": "markdown",
   "metadata": {},
   "source": [
    "#### **(2) 행렬 기반 표시 방법** :\n",
    "#### $ \\hspace{0.15cm} $ ① 계수 행렬(coefficient matrix) : 계수만으로 이루어진 행렬\n",
    "#### $ \\hspace{0.45cm} \\begin{cases} \\begin{aligned} x_{1} - 2x_{2} + x_{3} &= 0 \\\\ 2x_{2} - 8x_{3} &= 8 \\\\ - 4x_{1} + 5x_{2} + 9x_{3} &= -9 \\end{aligned} \\end{cases} \\; \\rightarrow{} \\; \\begin{bmatrix} 1&-2&1 \\\\ 0&2&-8 \\\\ -4&5&9 \\end{bmatrix} $ \n",
    "#### $ \\hspace{0.15cm} $ ② 첨가 행렬(augmented matrix) : 계수와 상수를 모두 포함한 행렬\n",
    "#### $ \\hspace{0.45cm} \\begin{cases} \\begin{aligned} x_{1} - 2x_{2} + x_{3} &= 0 \\\\ 2x_{2} - 8x_{3} &= 8 \\\\ - 4x_{1} + 5x_{2} + 9x_{3} &= -9 \\end{aligned} \\end{cases} \\; \\rightarrow{} \\; \\begin{bmatrix} 1&-2&1&0 \\\\ 0&2&-8&8 \\\\ -4&5&9&-9 \\end{bmatrix} $ "
   ]
  },
  {
   "cell_type": "markdown",
   "metadata": {},
   "source": [
    "<b></b>"
   ]
  },
  {
   "attachments": {},
   "cell_type": "markdown",
   "metadata": {},
   "source": [
    "> ## **해 집합(Solution Set)**"
   ]
  },
  {
   "cell_type": "markdown",
   "metadata": {},
   "source": [
    "#### **(1) 정의** : 선형 시스템에서 가능한 모든 해(변수 $ \\, x $ 가 가질 수 있는 값)의 집합"
   ]
  },
  {
   "cell_type": "markdown",
   "metadata": {},
   "source": [
    "#### **(2) 종류** : 해가 존재하거나(consistent), 존재하지 않는 경우(inconsistent)로 구분\n",
    "#### $ \\hspace{0.15cm} $ ① 해가 1개인 경우 (**consistent**)\n",
    "#### $ \\hspace{0.45cm} \\begin{cases} \\begin{aligned} x_{1} - 2x_{2} &= - 1 \\\\ - x_{1} + 3x_{2} &= 3 \\end{aligned} \\end{cases} \\; \\Rightarrow{} $ only one solution set $ (3, 2) $\n",
    "<img src=\"../../png/01.1. System of Linear Equations (1).png\" width=\"30%\" height=\"30%\"/></img>\n",
    "#### $ \\hspace{0.15cm} $ ② 해가 무한개인경우 (**consistent**)\n",
    "#### $ \\hspace{0.45cm} \\begin{cases} \\begin{aligned} x_{1} - 2x_{2} &= - 1 \\\\ - x_{1} + 2x_{2} &= 1 \\end{aligned} \\end{cases} \\; \\Rightarrow{} $ infinite many solution set ($ \\infty{} $)\n",
    "<img src=\"../../png/01.1. System of Linear Equations (2).png\" width=\"30%\" height=\"30%\"/></img>\n",
    "#### $ \\hspace{0.15cm} $ ③ 해가 없는경우 (**inconsistent**)\n",
    "#### $ \\hspace{0.45cm} \\begin{cases} \\begin{aligned} x_{1} - 2x_{2} &= - 1 \\\\ - x_{1} + 2x_{2} &= 3 \\end{aligned} \\end{cases} \\; \\Rightarrow{} $ no solution set ($ \\empty{} $)\n",
    "<img src=\"../../png/01.1. System of Linear Equations (3).png\" width=\"30%\" height=\"30%\"/></img>"
   ]
  },
  {
   "cell_type": "markdown",
   "metadata": {},
   "source": [
    "#### **(`PLUS`) 해의 상동(equivalent)** : 두 선형 시스템이 같은 해집합을 가질 때를 의미함"
   ]
  },
  {
   "cell_type": "markdown",
   "metadata": {},
   "source": [
    "<b></b>"
   ]
  },
  {
   "attachments": {},
   "cell_type": "markdown",
   "metadata": {},
   "source": [
    "> ## **기본 행 연산(Elementary Row Operation)**"
   ]
  },
  {
   "cell_type": "markdown",
   "metadata": {},
   "source": [
    "#### **(1) 정의** : 하나의 행에 대하여 조작하는 연산 방식"
   ]
  },
  {
   "cell_type": "markdown",
   "metadata": {},
   "source": [
    "#### **(2) 특징** : 행 연산을 하더라도, 연산 전 후의 선형시스템의 해집합은 동일(equivalent)함"
   ]
  },
  {
   "cell_type": "markdown",
   "metadata": {},
   "source": [
    "#### **(`PLUS`)** 행 연산을 시행했을 경우, $ \\, $ **~**(row equivalent)라는 기호를 사용함"
   ]
  },
  {
   "attachments": {},
   "cell_type": "markdown",
   "metadata": {},
   "source": [
    "#### **(3) 종류** :\n",
    "#### $ \\hspace{0.15cm} $ ① 행 교환(row interchanging) : 두 행을 서로 교환하는 연산\n",
    "#### $ \\hspace{0.45cm} \\begin{bmatrix} 1&-2&1&0 \\\\ 0&2&-8&8 \\\\ -4&5&9&-9 \\end{bmatrix} \\; \\begin{matrix} \\cdots{} \\; \\text{row}_{1} \\\\ \\cdots{} \\; \\text{row}_{2} \\\\ \\cdots{} \\; \\text{row}_{3} \\end{matrix} \\; $ ~ $ \\; \\begin{bmatrix} 1&-2&1&0 \\\\ -4&5&9&-9 \\\\ 0&2&-8&8 \\end{bmatrix} \\; : \\; \\text{row}_{2} \\iff{} \\text{row}_{3} $\n",
    "#### $ \\hspace{0.15cm} $ ② 행 스칼라 곱(row scalar scaling) : 한 행의 각 성분(component)에 $ \\; 0 $ 이 아닌 상수를 곱하는 연산\n",
    "#### $ \\hspace{0.45cm} $ ~ $ \\begin{bmatrix} 1&-2&1&0 \\\\ -4&5&9&-9 \\\\ 0&2&-8&8 \\end{bmatrix} $ ~ $ \\begin{bmatrix} 4&-8&4&0 \\\\ -4&5&9&-9 \\\\ 0&2&-8&8 \\end{bmatrix} \\; : \\;  4 \\times \\text{row}_{1} \\rightarrow{} \\text{row}_{1} $\n",
    "#### $ \\hspace{0.15cm} $ ③ 행 덧셈(row replacement; row addition) : 한 행과 다른 행간의 성분 별 더하는 연산\n",
    "#### $ \\hspace{0.45cm} $ ~ $ \\begin{bmatrix} 4&-8&4&0 \\\\ -4&5&9&-9 \\\\ 0&2&-8&8 \\end{bmatrix} $ ~ $ \\begin{bmatrix} 4&-8&4&0 \\\\ 0&-3&13&-9 \\\\ 0&2&-8&8 \\end{bmatrix} \\; : \\; \\text{row}_{1} + \\text{row}_{2} \\rightarrow{} \\text{row}_{2} $"
   ]
  }
 ],
 "metadata": {
  "kernelspec": {
   "display_name": "Python 3",
   "language": "python",
   "name": "python3"
  },
  "language_info": {
   "codemirror_mode": {
    "name": "ipython",
    "version": 3
   },
   "file_extension": ".py",
   "mimetype": "text/x-python",
   "name": "python",
   "nbconvert_exporter": "python",
   "pygments_lexer": "ipython3",
   "version": "3.8.18"
  },
  "orig_nbformat": 4
 },
 "nbformat": 4,
 "nbformat_minor": 2
}
