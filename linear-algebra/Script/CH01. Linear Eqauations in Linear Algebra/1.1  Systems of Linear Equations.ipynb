{
 "cells": [
  {
   "attachments": {},
   "cell_type": "markdown",
   "metadata": {},
   "source": [
    "# CH01.1. **Linear Equations in Linear Algebra**"
   ]
  },
  {
   "attachments": {},
   "cell_type": "markdown",
   "metadata": {},
   "source": [
    "> ## **A linear equations**"
   ]
  },
  {
   "cell_type": "markdown",
   "metadata": {},
   "source": [
    "#### **(1) 정의** : 변수의 모든 항이 1차(선형)으로 이루어진 방정식"
   ]
  },
  {
   "attachments": {},
   "cell_type": "markdown",
   "metadata": {},
   "source": [
    "#### **(2) 형태**\n",
    "#### $a_{1}x_{1}+a_{2}x_{2}+\\cdots+a_{n}x_{n} = b$\n",
    "#### \\* $a_{n}$ : coefficient(계수), $x_{n}$ : variable(변수), $b_{n}$ : constant(상수)"
   ]
  },
  {
   "attachments": {},
   "cell_type": "markdown",
   "metadata": {},
   "source": [
    "#### **(PLUS)** 아래 방정식은 선형방정식이 아님\n",
    "#### $4x_{1}-2\\underline{x_{1}x_{2}}+3x_{2}=2$ (×) \n",
    "#### $x_{2}-\\underline{\\sqrt{x_{2}}}=6$ (×)  \n",
    "<b></b>"
   ]
  },
  {
   "attachments": {},
   "cell_type": "markdown",
   "metadata": {},
   "source": [
    "> ## **A system of Linear Equations (Linear System)**"
   ]
  },
  {
   "attachments": {},
   "cell_type": "markdown",
   "metadata": {},
   "source": [
    "#### **(1) 정의** : 1개 이상의 linear system으로 구성된 집합(계)"
   ]
  },
  {
   "cell_type": "markdown",
   "metadata": {},
   "source": [
    "#### **(2) 형태**\n",
    "#### $\\begin{cases} \\begin{aligned} x_{1}-2x_{2}+x_{3} &= 0 \\\\ 2x_{2}-8x_{3} &= 8 \\\\ -4x_{1}+5x_{2}+9x_{3} &= -9 \\end{aligned} \\end{cases}$"
   ]
  },
  {
   "cell_type": "markdown",
   "metadata": {},
   "source": [
    "#### **(3) Linear System의 행렬 표시 방법 (Matrix Notation)**\n",
    "#### &nbsp;&nbsp; ① coefficient matrix(계수행렬) : 계수만으로 이루어진 행렬\n",
    "#### $\\begin{aligned} x_{1}-2x_{2}+x_{3} &= 0 \\\\ 2x_{2}-8x_{3} &= 8 \\\\ -4x_{1}+5x_{2}+9x_{3} &= -9 \\end{aligned} $ &nbsp;&nbsp;⇒&nbsp;&nbsp; $\\begin{bmatrix} 1&-2&1 \\\\ 0&2&-8 \\\\ -4&5&9 \\end{bmatrix}$ \n",
    "#### &nbsp;&nbsp; ② augmented matrix(첨가행렬) : 계수와 상수를 모두 포함한 행렬\n",
    "#### $\\begin{aligned} x_{1}-2x_{2}+x_{3} &= 0 \\\\ 2x_{2}-8x_{3} &= 8 \\\\ -4x_{1}+5x_{2}+9x_{3} &= -9 \\end{aligned} $ &nbsp;&nbsp;⇒&nbsp;&nbsp; $\\begin{bmatrix} 1&-2&1&0 \\\\ 0&2&-8&8 \\\\ -4&5&9&-9 \\end{bmatrix}$ \n",
    "<b></b>"
   ]
  },
  {
   "attachments": {},
   "cell_type": "markdown",
   "metadata": {},
   "source": [
    "> ## **Solution set**"
   ]
  },
  {
   "cell_type": "markdown",
   "metadata": {},
   "source": [
    "#### **(1) 정의** : linear system에서 가능한 모든 해의 집합"
   ]
  },
  {
   "cell_type": "markdown",
   "metadata": {},
   "source": [
    "#### **(2) 종류**\n",
    "####  &nbsp;&nbsp; ① 해가 1개인 경우 (**Consistent**)\n",
    "#### $\\begin{aligned} x_{1}-2x_{2}&=-1 \\\\ -x_{1}+3x_{2}&=3 \\end{aligned}$ &nbsp;&nbsp;⇒&nbsp;&nbsp; only one solution set $(3, 2)$\n",
    "<img src=\"https://github.com/csh01470/Linear_Algebra/blob/main/png/1.1.%20System%20of%20Linear%20Equations%20(1).png?raw=true\" width=\"30%\" height=\"30%\"/></img>\n",
    "#### &nbsp;&nbsp; ② 해가 무한개인경우 (**Consistent**)\n",
    "#### $\\begin{aligned} x_{1}-2x_{2}&=-1 \\\\ -x_{1}+2x_{2}&=1 \\end{aligned}$ &nbsp;&nbsp;⇒&nbsp;&nbsp; infinite many solution set \n",
    "<img src=\"https://github.com/csh01470/Linear_Algebra/blob/main/png/1.1.%20System%20of%20Linear%20Equations%20(2).png?raw=true\" width=\"30%\" height=\"30%\"/></img>\n",
    "#### &nbsp;&nbsp; ③ 해가 없는경우 (**Inconsistent**)\n",
    "#### $\\begin{aligned} x_{1}-2x_{2}&=-1 \\\\ -x_{1}+2x_{2}&=3 \\end{aligned}$ &nbsp;&nbsp;⇒&nbsp;&nbsp; no solution set\n",
    "<img src=\"https://github.com/csh01470/Linear_Algebra/blob/main/png/1.1.%20System%20of%20Linear%20Equations%20(3).png?raw=true\" width=\"30%\" height=\"30%\"/></img>\n",
    "<b></b>"
   ]
  },
  {
   "cell_type": "markdown",
   "metadata": {},
   "source": [
    "#### **(PLUS) Equivalent** : 두 Linear System이 같은 Solution set을 가질경우, 두 Linear System은 Equivalent(상동)하다고 정의\n",
    "<b></b>"
   ]
  },
  {
   "attachments": {},
   "cell_type": "markdown",
   "metadata": {},
   "source": [
    "> ## **Elementary Row Operations**"
   ]
  },
  {
   "cell_type": "markdown",
   "metadata": {},
   "source": [
    "#### **(1) 정의** : 하나의 행에 대하여 조작하는 연산 방법 "
   ]
  },
  {
   "cell_type": "markdown",
   "metadata": {},
   "source": [
    "#### **(2) 종류** "
   ]
  },
  {
   "attachments": {},
   "cell_type": "markdown",
   "metadata": {},
   "source": [
    "#### &nbsp;&nbsp; ① **Interchanging** : 두 행을 서로 교환하는 연산\n",
    "#### $\\begin{bmatrix} 1&-2&1&0 \\\\ 0&2&-8&8 \\\\ -4&5&9&-9 \\end{bmatrix}$ &nbsp;&nbsp;&nbsp;&nbsp; $ \\begin{matrix}\\cdots \\, row_{1}\\\\\\cdots \\, row_{2}\\\\\\cdots \\, row_{3}\\end{matrix} $ &nbsp;&nbsp; &nbsp;&nbsp;~ $ \\begin{bmatrix} 1&-2&1&0 \\\\ -4&5&9&-9 \\\\ 0&2&-8&8 \\end{bmatrix} $ &nbsp;&nbsp;:&nbsp;&nbsp; $ row_{2} ⇔ row_{3} $\n",
    "#### * **~** : row equivalent\n",
    "#### &nbsp;&nbsp; ② **Scaling** : 한 행의 각 성분(component;element)에 0이 아닌 상수를 곱하는 연산\n",
    "#### ~ $ \\begin{bmatrix} 1&-2&1&0 \\\\ -4&5&9&-9 \\\\ 0&2&-8&8 \\end{bmatrix} $ ~ $ \\begin{bmatrix} 4&-8&4&0 \\\\ -4&5&9&-9 \\\\ 0&2&-8&8\\end{bmatrix}$ &nbsp;&nbsp;:&nbsp;&nbsp; $4\\times row_{1} $\n",
    "#### &nbsp;&nbsp; ③ **Replacement** : 한 행과 다른 행간의 성분 별 더하는 연산\n",
    "#### ~ $ \\begin{bmatrix} 4&-8&4&0 \\\\ -4&5&9&-9 \\\\ 0&2&-8&8 \\end{bmatrix} $ ~ $ \\begin{bmatrix} 4&-8&4&0 \\\\ 0&-3&13&-9 \\\\ 0&2&-8&8 \\end{bmatrix} $ &nbsp;&nbsp;:&nbsp;&nbsp; $row_{1} + row_{2} → row_{2} $"
   ]
  }
 ],
 "metadata": {
  "kernelspec": {
   "display_name": "Python 3",
   "language": "python",
   "name": "python3"
  },
  "language_info": {
   "codemirror_mode": {
    "name": "ipython",
    "version": 3
   },
   "file_extension": ".py",
   "mimetype": "text/x-python",
   "name": "python",
   "nbconvert_exporter": "python",
   "pygments_lexer": "ipython3",
   "version": "3.8.18"
  },
  "orig_nbformat": 4
 },
 "nbformat": 4,
 "nbformat_minor": 2
}
