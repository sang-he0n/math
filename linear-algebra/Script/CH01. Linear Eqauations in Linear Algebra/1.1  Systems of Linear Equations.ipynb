{
 "cells": [
  {
   "attachments": {},
   "cell_type": "markdown",
   "metadata": {},
   "source": [
    "## CH01.1. **Linear Equations in Linear Algebra**"
   ]
  },
  {
   "attachments": {},
   "cell_type": "markdown",
   "metadata": {},
   "source": [
    "### 1) **A linear equations**"
   ]
  },
  {
   "attachments": {},
   "cell_type": "markdown",
   "metadata": {},
   "source": [
    "#### $a_1x_1+a_2x_2+\\cdots+a_nx_n=b$\n",
    "##### * $a_n$ : coefficient, $x_n$ : random variable"
   ]
  },
  {
   "attachments": {},
   "cell_type": "markdown",
   "metadata": {},
   "source": [
    "#### **(PLUS)** The following equation is not a linear equation.\n",
    "##### $4x_1-2\\underline{x_1x_2}+3x_2=2 $ (×) \n",
    "##### $x_2-\\underline{\\sqrt{x_2}}=6 $ (×)  \n",
    "<b></b>"
   ]
  },
  {
   "attachments": {},
   "cell_type": "markdown",
   "metadata": {},
   "source": [
    "### 2) **A system of linear equations $\\approx$ linear system**"
   ]
  },
  {
   "attachments": {},
   "cell_type": "markdown",
   "metadata": {},
   "source": [
    "#### Linear system is a collection of one or more linear equations.\n",
    "<b></b>"
   ]
  },
  {
   "attachments": {},
   "cell_type": "markdown",
   "metadata": {},
   "source": [
    "### 3) **Solution set**"
   ]
  },
  {
   "attachments": {},
   "cell_type": "markdown",
   "metadata": {},
   "source": [
    "#### Solution set is a set of all possible solutions of the linear system.\n",
    "#### Two linear systems are called **eqivalent** if they have same solution set.\n",
    "<b></b>"
   ]
  },
  {
   "attachments": {},
   "cell_type": "markdown",
   "metadata": {},
   "source": [
    "### 4) **Kinds of solution set**"
   ]
  },
  {
   "attachments": {},
   "cell_type": "markdown",
   "metadata": {},
   "source": [
    "#### (1) A system of linear equations has exactly one solution. (**consistent**)\n",
    "##### $\\begin{aligned}x_1-2x_2&=-1 \\\\ -x_1+3x_2&=3 \\end{aligned}$ &nbsp;&nbsp;⇒&nbsp;&nbsp; only one solution set $(3, 2)$"
   ]
  },
  {
   "attachments": {},
   "cell_type": "markdown",
   "metadata": {},
   "source": [
    "#### (2) A system of linear equations has infinitely many solutions. (**consistent**)\n",
    "##### $\\begin{aligned}x_1-2x_2&=-1 \\\\ -x_1+2x_2&=1 \\end{aligned}$ &nbsp;&nbsp;⇒&nbsp;&nbsp; infinite many solution set "
   ]
  },
  {
   "attachments": {},
   "cell_type": "markdown",
   "metadata": {},
   "source": [
    "#### (3) A system of linear equations has no solution. (**inconsistent**)\n",
    "##### $\\begin{aligned}x_1-2x_2&=-1 \\\\ -x_1+2x_2&=3 \\end{aligned}$ &nbsp;&nbsp;⇒&nbsp;&nbsp; no solution set\n",
    "<b></b>"
   ]
  },
  {
   "attachments": {},
   "cell_type": "markdown",
   "metadata": {},
   "source": [
    "### 5) **Matrix notation**"
   ]
  },
  {
   "attachments": {},
   "cell_type": "markdown",
   "metadata": {},
   "source": [
    "#### (1) coefficient matrix\n",
    "##### $\\begin{aligned} x_1-2x_2+x_3 &= 0 \\\\ 2x_2-8x_3 &= 8 \\\\ -4x_1+5x_2+9x_3 &= -9 \\end{aligned} $ &nbsp;&nbsp;⇒&nbsp;&nbsp; $\\begin{bmatrix}1&-2&1\\\\0&2&-8\\\\-4&5&9\\end{bmatrix}$ "
   ]
  },
  {
   "attachments": {},
   "cell_type": "markdown",
   "metadata": {},
   "source": [
    "#### (2) augmented matrix\n",
    "##### $\\begin{aligned} x_1-2x_2+x_3 &= 0 \\\\ 2x_2-8x_3 &= 8 \\\\ -4x_1+5x_2+9x_3 &= -9 \\end{aligned} $ &nbsp;&nbsp;⇒&nbsp;&nbsp; $\\begin{bmatrix}1&-2&1&0\\\\0&2&-8&8\\\\-4&5&9&-9\\end{bmatrix}$ \n",
    "<b></b>"
   ]
  },
  {
   "attachments": {},
   "cell_type": "markdown",
   "metadata": {},
   "source": [
    "### 6) **Elementary row operations**"
   ]
  },
  {
   "attachments": {},
   "cell_type": "markdown",
   "metadata": {},
   "source": [
    "#### (1) interchanging\n",
    "##### interchange two rows.\n",
    "##### $\\begin{bmatrix}1&-2&1&0\\\\0&2&-8&8\\\\-4&5&9&-9\\end{bmatrix}$&nbsp;&nbsp;&nbsp;&nbsp;$\\begin{matrix}\\cdots \\, eq(r1)\\\\\\cdots \\, eq(r2)\\\\\\cdots \\, eq(r3)\\end{matrix}$ &nbsp;&nbsp; &nbsp;&nbsp;~&nbsp;&nbsp; $\\begin{bmatrix}1&-2&1&0\\\\-4&5&9&-9\\\\0&2&-8&8\\end{bmatrix}$ &nbsp;&nbsp;:&nbsp;&nbsp; $eq(r2) ⇔ eq(r3)$\n",
    "##### * ~ : row equivalent"
   ]
  },
  {
   "attachments": {},
   "cell_type": "markdown",
   "metadata": {},
   "source": [
    "#### (2) scaling\n",
    "##### Multiply all entries in a row by a **nonzero** scalar.\n",
    "##### ~&nbsp;&nbsp;$\\begin{bmatrix}1&-2&1&0\\\\-4&5&9&-9\\\\0&2&-8&8\\end{bmatrix}$ &nbsp;&nbsp;~&nbsp;&nbsp; $\\begin{bmatrix}4&-8&4&0\\\\-4&5&9&-9\\\\0&2&-8&8\\end{bmatrix}$ &nbsp;&nbsp;:&nbsp;&nbsp; $4\\times eq(r1)$"
   ]
  },
  {
   "attachments": {},
   "cell_type": "markdown",
   "metadata": {},
   "source": [
    "#### (3) replacement\n",
    "##### Replace one row by the sum of itself and a multiple of another row.\n",
    "##### ~&nbsp;&nbsp;$\\begin{bmatrix}4&-8&4&0\\\\-4&5&9&-9\\\\0&2&-8&8\\end{bmatrix}$ &nbsp;&nbsp;~&nbsp;&nbsp; $\\begin{bmatrix}4&-8&4&0\\\\0&-3&13&-9\\\\0&2&-8&8\\end{bmatrix}$ &nbsp;&nbsp;:&nbsp;&nbsp; $eq(r1) + eq(r2)$"
   ]
  }
 ],
 "metadata": {
  "kernelspec": {
   "display_name": "Python 3",
   "language": "python",
   "name": "python3"
  },
  "language_info": {
   "name": "python",
   "version": "3.9.6"
  },
  "orig_nbformat": 4
 },
 "nbformat": 4,
 "nbformat_minor": 2
}
