{
 "cells": [
  {
   "attachments": {},
   "cell_type": "markdown",
   "metadata": {},
   "source": [
    "# CH01.8. **Matrix of a Linear Transformation**"
   ]
  },
  {
   "cell_type": "markdown",
   "metadata": {},
   "source": [
    "> ## **행렬 변환(Matrix Transformation)**"
   ]
  },
  {
   "cell_type": "markdown",
   "metadata": {},
   "source": [
    "#### **(1) 정의** : 행렬과 벡터 간 곱셈을 통해 선형 변환(linear transformation)하는 연산"
   ]
  },
  {
   "cell_type": "markdown",
   "metadata": {},
   "source": [
    "#### **(WHY?)** 행렬 연산은 선형성(Linearity)를 만족하기 때문 ($ \\because{} $ Theorem 5)"
   ]
  },
  {
   "cell_type": "markdown",
   "metadata": {},
   "source": [
    "#### **(2) 예시** :\n",
    "#### $ \\begin{bmatrix} 4&-3&1&3 \\\\ 2&0&5&1 \\end{bmatrix} \\begin{bmatrix} 1 \\\\ 1\\\\ 1 \\\\ 1 \\end{bmatrix} = \\begin{bmatrix} 5 \\\\ 8 \\end{bmatrix} $\n",
    "#### $ \\;\\;\\;\\;\\;\\;\\;\\;\\;\\;\\; A \\;\\;\\;\\;\\;\\;\\;\\;\\;\\;\\;\\;\\;\\; \\textbf{x} \\;\\; = \\;\\; \\textbf{b} $\n",
    "##### $ \\;\\;\\;\\;\\;\\;\\;\\;\\;\\;2 \\times 4 $ $ \\;\\;\\;\\;\\;\\;\\;\\; \\textbf{4} \\times 1 $ $ \\;\\;\\;\\; \\textbf{2} \\times 1 $\n",
    "#### ⇒ 이 때 행렬 $ A $ 는 선형 변환 함수 $ \\; T $ 로 정의됨"
   ]
  },
  {
   "cell_type": "markdown",
   "metadata": {},
   "source": [
    "#### **(PLUS)** $ \\; T $ 를 편의상 $ \\; A $ 라고도 하며, $ \\; A $를 표준 행렬(Standard matrix of Linear transformation $ \\; T $)라고 정의함"
   ]
  },
  {
   "cell_type": "markdown",
   "metadata": {},
   "source": [
    "#### **(3) 표기법**\n",
    "#### &nbsp;&nbsp; ① $ \\; \\textbf{x} \\longmapsto A\\textbf{X} $ \n",
    "#### &nbsp;&nbsp; ③ $ \\; \\textbf{x} \\;\\;\\;\\;\\; T(\\textbf(x)) \\;\\;\\;\\;\\; A\\textbf{x} $\n",
    "##### &nbsp;&nbsp; $ \\;\\;\\; n \\times 1 \\;\\;\\;\\;\\;\\;\\;\\;\\;\\;\\;\\;\\;\\;\\;\\;\\;\\; m \\times 1 $\n",
    "<b></b>"
   ]
  },
  {
   "cell_type": "markdown",
   "metadata": {},
   "source": [
    "#### **(PLUS)** 단위행렬($ I $) 를 통한 선형변환 행렬 $ \\; T $ 찾기"
   ]
  },
  {
   "cell_type": "markdown",
   "metadata": {},
   "source": [
    "#### $ I_{2} = \\begin{bmatrix} 1&0 \\\\ 0&1 \\end{bmatrix} = \\begin{bmatrix} \\textbf{e}_{1} & \\textbf{e}_{2} \\end{bmatrix},\\; T(\\textbf{e}_{1}) = \\begin{bmatrix} 5 \\\\ -7 \\\\ 2 \\end{bmatrix}, \\; T(\\textbf{e}_{2}) = \\begin{bmatrix} -3 \\\\ 8 \\\\ 0 \\end{bmatrix} $\n",
    "#### $ \\textbf{x} = \\begin{bmatrix} x_{1} \\\\ x_{2} \\end{bmatrix} = x_{1} \\begin{bmatrix} 1 \\\\ 0 \\end{bmatrix} + x_{2} \\begin{bmatrix} 0 \\\\ 1 \\end{bmatrix} = x_{1}\\textbf{e}_{1} + x_{2}\\textbf{e}_{2} $\n",
    "#### $ T(\\textbf{x}) = T(x_{1}\\textbf{e}_{1}) + T(x_{2}\\textbf{e}_{2}) = x_{1}T(\\textbf{e}_{1}) + x_{2}T(\\textbf{e}_{2}) =  x_{1} \\begin{bmatrix} 5 \\\\ -7 \\\\ 2 \\end{bmatrix} + x_{2} \\begin{bmatrix} -3\\\\8\\\\0 \\end{bmatrix} = \\begin{bmatrix} 5&-3 \\\\ -7&8 \\\\ 2&0 \\end{bmatrix} \\begin{bmatrix} x_{1} \\\\ x_{2} \\end{bmatrix} = T \\textbf{x} $\n",
    "#### $ \\therefore T = \\begin{bmatrix} T(\\textbf{e}_{1})&T(\\textbf{e}_{2}) \\end{bmatrix} $"
   ]
  },
  {
   "cell_type": "markdown",
   "metadata": {},
   "source": [
    "<b></b>"
   ]
  },
  {
   "cell_type": "markdown",
   "metadata": {},
   "source": [
    "> ## (Theorem 10)"
   ]
  },
  {
   "cell_type": "markdown",
   "metadata": {},
   "source": [
    "#### $ \\; \\mathbb{R}^{n} $ 차원에서 $ \\; \\mathbb{R}^{m} $ 차원으로 변환하는 함수 $ \\; T $ 가 **선형 변환**인 경우, $ T(\\textbf{x}) = A\\textbf{x} $ 를 만족하는 함수 $ \\; T $ 는 **유일**하다. "
   ]
  },
  {
   "cell_type": "markdown",
   "metadata": {},
   "source": [
    "#### **(WHY?)**\n",
    "#### $ \\mathbb{R}^{n} $ 차원에서 $ \\; \\mathbb{R}^{m} $ 차원으로 변환하는 서로 다른 선형 변환 함수(행렬) $ A,\\; B $ 가 존재할 때\n",
    "#### $ \\textbf{x} = I_{n} \\textbf{x} = \\begin{bmatrix} e_{1}&e_{2}&\\cdots&e_{n} \\end{bmatrix} \\textbf{x}_{n} = x_{1}\\textbf{e}_{1} + x_{2}\\textbf{e}_{2} + \\cdots + x_{n}\\textbf{e}_{n} \\;\\; $ where $ \\; \\textbf{x} \\in{} \\mathbb{R}^{n} $ \n",
    "#### if $ \\; T(\\textbf{x}) = A\\textbf{x} = \\begin{bmatrix} \\textbf{a}_{1}&\\textbf{a}_{2}&\\cdots{}&\\textbf{a}_{n} \\end{bmatrix} \\textbf{x},\\; $ then\n",
    "#### $ A\\textbf{x} = T(x_{1}\\textbf{e}_{1} + x_{2}\\textbf{e}_{2} + \\cdots + x_{n}\\textbf{e}_{n}) = x_{1}T(\\textbf{e}_{1}) + x_{2}T(\\textbf{e}_{2}) + \\cdots + x_{n}T(\\textbf{e}_{n}) = \\begin{bmatrix} T(\\textbf{e}_{1})&T(\\textbf{e}_{2})+\\cdots+T(\\textbf{e}_{n}) \\end{bmatrix} \\textbf{x} $\n",
    "#### if $ \\; T(\\textbf{x}) = B\\textbf{x} = \\begin{bmatrix} \\textbf{b}_{1}&\\textbf{b}_{2}&\\cdots{}&\\textbf{b}_{n} \\end{bmatrix} \\textbf{x},\\; $ then\n",
    "#### $ B\\textbf{x} = T(x_{1}\\textbf{e}_{1} + x_{2}\\textbf{e}_{2} + \\cdots + x_{n}\\textbf{e}_{n}) = x_{1}T(\\textbf{e}_{1}) + x_{2}T(\\textbf{e}_{2}) + \\cdots + x_{n}T(\\textbf{e}_{n}) = \\begin{bmatrix} T(\\textbf{e}_{1})&T(\\textbf{e}_{2})+\\cdots+T(\\textbf{e}_{n}) \\end{bmatrix} \\textbf{x} $\n",
    "#### $ \\begin{bmatrix} T(\\textbf{e}_{1})&T(\\textbf{e}_{2})+\\cdots+T(\\textbf{e}_{n}) \\end{bmatrix} = \\begin{bmatrix} \\textbf{a}_{1}&\\textbf{a}_{2}&\\cdots{}&\\textbf{a}_{n} \\end{bmatrix} = \\begin{bmatrix} \\textbf{b}_{1}&\\textbf{b}_{2}&\\cdots{}&\\textbf{b}_{n} \\end{bmatrix} $\n",
    "#### $ \\therefore{} A = B $\n",
    "<b></b>"
   ]
  },
  {
   "cell_type": "markdown",
   "metadata": {},
   "source": [
    "> ## **선형 변환의 시각화(Gemoetric Linear transformation of $ \\; \\mathbb{R}^{2} $)**"
   ]
  },
  {
   "cell_type": "markdown",
   "metadata": {},
   "source": [
    "#### **[CONTENTS]**\n",
    "#### **[GRAPH]**"
   ]
  },
  {
   "cell_type": "markdown",
   "metadata": {},
   "source": [
    "<b></b>"
   ]
  },
  {
   "cell_type": "markdown",
   "metadata": {},
   "source": [
    "> ## **변환 관계(Transformation Relationship)**"
   ]
  },
  {
   "cell_type": "markdown",
   "metadata": {},
   "source": [
    "#### **(1) 전사(Onto)** : $ \\; \\mathbb{R}^{n} $ 차원에서 $ \\; \\mathbb{R}^{m} $ 차원으로 이동하는 선형 변환 함수 $ \\; T $ 의 범위(range)가 $ \\; \\mathbb{R}^{m} $ 차원을 전부 포함하는 관계\n",
    "#### $ \\Rightarrow{} $ 선형 시스템 $ \\; A\\textbf{x} = b $ 에서 해(soltuion)가 최소한(at least) 하나라도 존재\n",
    "#### **[GRAPH]**"
   ]
  },
  {
   "cell_type": "markdown",
   "metadata": {},
   "source": [
    "#### **(2) 단사(One-to-one)** : $ \\mathbb{R}^{n} $ 차원에서 $ \\; \\mathbb{R}^{m} $ 차원으로 이동하는 선형 변환 함수 $ \\; T $ 가 있을 때, 상과 대응되는 결과가 하나만 존재하는 관계\n",
    "#### $ \\Rightarrow{} $ 선형 시스템 $ \\; A\\textbf{x} = b $ 에서 해가 최대(at most) 하나 존재\n",
    "#### **[GRAPH]**"
   ]
  },
  {
   "cell_type": "markdown",
   "metadata": {},
   "source": [
    "<b></b>"
   ]
  },
  {
   "cell_type": "markdown",
   "metadata": {},
   "source": [
    "> ## (Theorem 11)"
   ]
  },
  {
   "cell_type": "markdown",
   "metadata": {},
   "source": [
    "#### 선형 변환 함수 $ \\; T $ 가 $ \\; \\mathbb{R}^{n} $ 차원에서 $ \\; \\mathbb{R}^{m} $ 차원으로 단사(one-to-one) 관계일 경우, 선형 시스템 $ \\; T(\\textbf{x}) = \\textbf{0} \\; $ 는 오직 자명해를 갖는다.\n",
    "#### = 해가 오직 $ \\; 1 $ 개 밖에 존재하지 않는다. \n",
    "#### = 동차 선형 시스템은 최소한 $ \\; \\textbf{0} \\; $인 해($ \\textbf{x} = \\textbf{0} $)를 가진다."
   ]
  },
  {
   "cell_type": "markdown",
   "metadata": {},
   "source": [
    "<b></b>"
   ]
  },
  {
   "cell_type": "markdown",
   "metadata": {},
   "source": [
    "> ## (Theorem 12)"
   ]
  },
  {
   "cell_type": "markdown",
   "metadata": {},
   "source": [
    "#### **(1)** 선형 변환 함수 $ \\; T $ 의 표준 행렬 $ \\; A $ 가 존재할 때 $ \\; \\mathbb{R}^{n} $ 차원에서 $ \\; \\mathbb{R}^{m} $ 차원으로 전사(onto)할 경우, $ \\; A $ 의 열 벡터 집합은 $ \\; \\mathbb{R}^m $ 을 형성(span)한다."
   ]
  },
  {
   "cell_type": "markdown",
   "metadata": {},
   "source": [
    "#### **(WHY?)** 선형 변환 함수 $ \\; T $ 가 전사 관계일 경우 $ A\\textbf{x} = \\textbf{b} $ 의 해는 존재하게 되고 ($ \\because{} $ Theorem 4)"
   ]
  },
  {
   "cell_type": "markdown",
   "metadata": {},
   "source": [
    "#### **(2)** 선형 변환 함수 $ T $ 의 표준행렬 $ \\; A $ 가 존재할 때 $ \\; \\mathbb{R}^{n} $ 차원에서 $ \\; \\mathbb{R}^{m} $ 차원으로 단사(one-to-one)할 경우, $ \\; A $ 의 열 벡터 집합은 선형 독립이다."
   ]
  },
  {
   "cell_type": "markdown",
   "metadata": {},
   "source": [
    "#### **(WHY?)** 선형 변환 함수 $ \\; T $ 가 단사 관계일 경우 $ A\\textbf{x} = \\textbf{0} $ 의 해는 자명해밖에 존재하지 않는다. ($ \\because{} \\; $ Theorem 11)"
   ]
  }
 ],
 "metadata": {
  "kernelspec": {
   "display_name": "Python 3",
   "language": "python",
   "name": "python3"
  },
  "language_info": {
   "codemirror_mode": {
    "name": "ipython",
    "version": 3
   },
   "file_extension": ".py",
   "mimetype": "text/x-python",
   "name": "python",
   "nbconvert_exporter": "python",
   "pygments_lexer": "ipython3",
   "version": "3.11.3"
  },
  "orig_nbformat": 4
 },
 "nbformat": 4,
 "nbformat_minor": 2
}
