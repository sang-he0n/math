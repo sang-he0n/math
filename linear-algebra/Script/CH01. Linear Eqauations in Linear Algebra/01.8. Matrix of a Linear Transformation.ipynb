{
 "cells": [
  {
   "attachments": {},
   "cell_type": "markdown",
   "metadata": {},
   "source": [
    "# CH01.8. **Matrix of a Linear Transformation**"
   ]
  },
  {
   "cell_type": "markdown",
   "metadata": {},
   "source": [
    "> ## **선형 변환(Linear Transformation)**"
   ]
  },
  {
   "cell_type": "markdown",
   "metadata": {},
   "source": [
    "#### **(1) 정의** : $ \\mathbb{R}^{n} $ 공간의 벡터를 $ \\mathbb{R}^{m} $ 공간의 벡터로 매핑하며 **선형성**을 만족하는 변환(함수)\n",
    "#### $ \\Rightarrow{} T(\\textbf{x}) : \\mathbb{R}^{n} \\rightarrow{} \\mathbb{R}^{m} $ \n",
    "#### $ \\hspace{0.45cm} \\text{if } \\; T(\\textbf{u} + \\textbf{v}) = T(\\textbf{u})+T(\\textbf{v}) \\; \\text{ and } \\; cT(\\textbf{u}) = T(c\\textbf{u}) $\n",
    "#### $ \\hspace{0.45cm} \\text{where } \\; \\textbf{v}, \\textbf{u} \\in{} \\mathbb{R}^{n}, \\;\\; c \\in{} \\mathbb{R} $"
   ]
  },
  {
   "cell_type": "markdown",
   "metadata": {},
   "source": [
    "<b></b>"
   ]
  },
  {
   "cell_type": "markdown",
   "metadata": {},
   "source": [
    "> ## **행렬 변환(Matrix Transformation)**"
   ]
  },
  {
   "cell_type": "markdown",
   "metadata": {},
   "source": [
    "#### **(1) 정의** : 행렬-벡터 곱을 통해 $ \\mathbb{R}^{n} $ 공간의 벡터를 $ \\mathbb{R}^{m} $ 공간의 벡터로 선형 변환하는 함수\n",
    "#### $ \\Rightarrow{} T(\\textbf{x}) = \\underset{m\\times{}n}{A}\\textbf{x} : \\mathbb{R}^{n} \\rightarrow{} \\mathbb{R}^{m} $\n",
    "#### $ \\hspace{0.45cm} \\text{if } \\; T(\\textbf{u} + \\textbf{v}) = T(\\textbf{u})+T(\\textbf{v}) \\; \\text{ and } \\; cT(\\textbf{u}) = T(c\\textbf{u}) $\n",
    "#### $ \\hspace{0.45cm} \\text{where } \\; \\textbf{v}, \\textbf{u} \\in{} \\mathbb{R}^{n}, \\;\\; c \\in{} \\mathbb{R} $"
   ]
  },
  {
   "cell_type": "markdown",
   "metadata": {},
   "source": [
    "##### **(`PLUS`)** 행렬 $ A $를 선형 변환 $ T(\\textbf{x}) $의 표준 행렬(Standard Matrix of Linear Transformation $ T $)이라고 정의함"
   ]
  },
  {
   "cell_type": "markdown",
   "metadata": {},
   "source": [
    "#### **(3) 예시** :\n",
    "##### $ \\hspace{0.15cm} $ ① 아래 벡터를 선형 변환 $ T(\\textbf{x}) $를 통해 변환하고자 하는 경우\n",
    "##### $ \\hspace{0.45cm} T(\\textbf{x}) = A\\textbf{x} = \\begin{bmatrix} 0 & -1 \\\\ 1 & 0 \\end{bmatrix} \\begin{bmatrix} x_{1} \\\\ x_{2} \\end{bmatrix}, \\;\\; \\textbf{u} = \\begin{bmatrix} 4 \\\\ 1 \\end{bmatrix}, \\;\\; \\textbf{v} = \\begin{bmatrix} 2 \\\\ 3 \\end{bmatrix} $\n",
    "##### $ \\hspace{0.45cm} \\therefore{} T(\\textbf{u}) = \\begin{bmatrix} -1 \\\\ 4 \\end{bmatrix}, \\;\\; T(\\textbf{v}) = \\begin{bmatrix} -3 \\\\ 2 \\end{bmatrix} $\n",
    "##### $ \\hspace{0.45cm} $<img src=\"../../img/01.8. Matrix of a Linear Transformation (1).png\" width=\"30%\" height=\"30%\"/></img>\n",
    "##### $ \\hspace{0.15cm} $ ② 아래 표준 기저 벡터를 이용해 선형 변환 $ T(\\textbf{x}) $의 표준 행렬 $ A $를 찾고자 하는 경우\n",
    "##### $ \\hspace{0.45cm} I_{2} = \\begin{bmatrix} 1 & 0 \\\\ 0 & 1 \\end{bmatrix} = \\begin{bmatrix} \\textbf{e}_{1} & \\textbf{e}_{2} \\end{bmatrix}, \\;\\; T(\\textbf{e}_{1}) = \\begin{bmatrix} 5 \\\\ -7 \\\\ 2 \\end{bmatrix}, \\;\\; T(\\textbf{e}_{2}) = \\begin{bmatrix} -3 \\\\ 8 \\\\ 0 \\end{bmatrix} $\n",
    "##### $ \\hspace{0.45cm} \\textbf{x} = \\begin{bmatrix} x_{1} \\\\ x_{2} \\end{bmatrix} = x_{1} \\begin{bmatrix} 1 \\\\ 0 \\end{bmatrix} + x_{2} \\begin{bmatrix} 0 \\\\ 1 \\end{bmatrix} = x_{1}\\textbf{e}_{1} + x_{2}\\textbf{e}_{2} $\n",
    "##### $ \\hspace{0.45cm} T(\\textbf{x}) = T(x_{1}\\textbf{e}_{1}) + T(x_{2}\\textbf{e}_{2}) = x_{1}T(\\textbf{e}_{1}) + x_{2}T(\\textbf{e}_{2}) $\n",
    "##### $ \\hspace{1.325cm} = x_{1} \\begin{bmatrix} 5 \\\\ -7 \\\\ 2 \\end{bmatrix} + x_{2} \\begin{bmatrix} -3 \\\\ 8 \\\\ 0 \\end{bmatrix} = \\begin{bmatrix} 5 & -3 \\\\ -7 & 8 \\\\ 2 & 0 \\end{bmatrix} \\begin{bmatrix} x_{1} \\\\ x_{2} \\end{bmatrix} $\n",
    "##### $ \\hspace{1.325cm} =  A \\textbf{x} $\n",
    "##### $ \\hspace{0.45cm} \\therefore{} A = \\begin{bmatrix} T(\\textbf{e}_{1}) & T(\\textbf{e}_{2}) \\end{bmatrix} = \\begin{bmatrix} 5 & -3 \\\\ -7 & 8 \\\\ 2 & 0 \\end{bmatrix} $"
   ]
  },
  {
   "cell_type": "markdown",
   "metadata": {},
   "source": [
    "##### **(`PLUS`) 표준 기저 벡터(Standard Basis Vector)** : 항등 행렬($ I $)의 개별 열 벡터\n",
    "##### $ \\hspace{0.15cm} \\Rightarrow{} E_{n} = \\begin{bmatrix} 1&0&\\cdots{}&0 \\\\ 0&1&\\cdots{}&0 \\\\ \\vdots{}&\\vdots{}&\\ddots{}&\\vdots{} \\\\ 0&0&\\cdots{}&1 \\end{bmatrix}, \\;\\; \\textbf{e}_{1} = \\begin{bmatrix} 1 \\\\ 0 \\\\ \\cdots{} \\\\ 0 \\end{bmatrix}, \\;\\; \\textbf{e}_{2} = \\begin{bmatrix} 0 \\\\ 1 \\\\ \\cdots{} \\\\ 0 \\end{bmatrix}, \\;\\; \\cdots{}, \\;\\; \\textbf{e}_{n} = \\begin{bmatrix} 0 \\\\ 0 \\\\ \\cdots{} \\\\ 1 \\end{bmatrix} $ "
   ]
  },
  {
   "cell_type": "markdown",
   "metadata": {},
   "source": [
    "<b></b>"
   ]
  },
  {
   "cell_type": "markdown",
   "metadata": {},
   "source": [
    "> ## (Theorem 1-10) **Uniqueness of Standard Matrix of Matrix Transformation**"
   ]
  },
  {
   "cell_type": "markdown",
   "metadata": {},
   "source": [
    "#### **(1)** 어떠한 선형 변환이 존재하다면 이는 표준 행렬로 **반드시 정의**될 수 있다. "
   ]
  },
  {
   "cell_type": "markdown",
   "metadata": {},
   "source": [
    "#### **(2)** 선형 변환의 표준 행렬은 **유일**하다."
   ]
  },
  {
   "cell_type": "markdown",
   "metadata": {},
   "source": [
    "##### **(`WHY?`)**\n",
    "##### $ \\hspace{0.15cm} \\text{if } \\; T(\\textbf{x}) = A\\textbf{x} = B\\textbf{x} \\; \\text{ and } \\; A \\neq{} B \\; \\text{ where } \\; \\textbf{x} \\in{} \\mathbb{R}^{n} $\n",
    "##### $ \\hspace{0.3cm} \\textbf{x} = I_{n} \\textbf{x} = \\begin{bmatrix} e_{1}&e_{2}&\\cdots{}&e_{n} \\end{bmatrix} \\textbf{x} = x_{1}\\textbf{e}_{1} + x_{2}\\textbf{e}_{2} + \\cdots{} + x_{n}\\textbf{e}_{n} $ \n",
    "##### $ \\hspace{0.3cm} T(\\textbf{x}) = T(x_{1}\\textbf{e}_{1} + x_{2}\\textbf{e}_{2} + \\cdots{} + x_{n}\\textbf{e}_{n}) = x_{1}T(\\textbf{e}_{1}) + x_{2}T(\\textbf{e}_{2}) + \\cdots{} + x_{n}T(\\textbf{e}_{n}) $\n",
    "##### $ \\hspace{1.15cm} = \\begin{bmatrix} T(\\textbf{e}_{1}) & T(\\textbf{e}_{2}) & \\cdots{} & T(\\textbf{e}_{n}) \\end{bmatrix} \\begin{bmatrix} x_{1} \\\\ x_{2} \\\\ \\cdots{} \\\\ x_{n} \\end{bmatrix} = \\begin{bmatrix} T(\\textbf{e}_{1}) & T(\\textbf{e}_{2}) & \\cdots{} & T(\\textbf{e}_{n}) \\end{bmatrix} \\textbf{x} $\n",
    "##### $ \\hspace{1.15cm} = \\begin{bmatrix} \\textbf{a}_{1} & \\textbf{a}_{2} & \\cdots{} & \\textbf{a}_{n} \\end{bmatrix} \\textbf{x} = \\begin{bmatrix} \\textbf{b}_{1} & \\textbf{b}_{2} & \\cdots{} & \\textbf{b}_{n} \\end{bmatrix} \\textbf{x} $\n",
    "##### $ \\hspace{1.15cm} = A\\textbf{x} = B\\textbf{x} $\n",
    "##### $ \\hspace{0.3cm} \\Rightarrow{} A = B \\;\\; $ ($ \\textbf{contradiction} $)\n",
    "##### $ \\hspace{0.15cm} \\therefore{} A \\, \\text{ is unique}. $"
   ]
  },
  {
   "cell_type": "markdown",
   "metadata": {},
   "source": [
    "<b></b>"
   ]
  },
  {
   "cell_type": "markdown",
   "metadata": {},
   "source": [
    "> ## (Theorem 1-11) **Trivial Solution of one-to-one Matrix Transformation**"
   ]
  },
  {
   "cell_type": "markdown",
   "metadata": {},
   "source": [
    "#### 선형 변환 $ T(\\textbf{x}) $가 단사(one-to-one)할 경우 동차 선형 시스템($ T(\\textbf{x}) = A\\textbf{x} = \\textbf{0} $)은 오직 자명해를 갖는다.\n",
    "#### $ = $ 자유 변수가 존재하지 않는다.\n",
    "#### $ = $ 해가 오직 $ 1 $개($ \\textbf{x} = \\textbf{0} $) 밖에 존재하지 않는다."
   ]
  },
  {
   "cell_type": "markdown",
   "metadata": {},
   "source": [
    "<b></b>"
   ]
  },
  {
   "cell_type": "markdown",
   "metadata": {},
   "source": [
    "> ## (Theorem 1-12) **Property of Matrix Transformation**"
   ]
  },
  {
   "cell_type": "markdown",
   "metadata": {},
   "source": [
    "#### **(1)** 선형 변환 $ T(\\textbf{x}) $가 $ \\mathbb{R}^{n} $ 공간에서 $ \\mathbb{R}^{m} $ 공간으로 전사(onto)할 경우, 표준 행렬 $ A $의 열 벡터 집합은 $ \\mathbb{R}^m $ 공간을 선형 형성(span)한다."
   ]
  },
  {
   "cell_type": "markdown",
   "metadata": {},
   "source": [
    "##### **(`WHY?`)** 선형 변환 $ T(\\textbf{x}) $가 전사할 경우 선형 시스템($ A\\textbf{x} = \\textbf{b} $)의 해는 존재하게 된다. $ \\;\\; $ ($ \\because{} $ Theorem 1-4)"
   ]
  },
  {
   "cell_type": "markdown",
   "metadata": {},
   "source": [
    "#### **(2)** 선형 변환 $ T(\\textbf{x}) $가 $ \\mathbb{R}^{n} $ 공간에서 $ \\mathbb{R}^{m} $ 공간으로 단사(one-to-one)할 경우, 표준 행렬 $ A $의 열 벡터 집합은 선형 독립이다."
   ]
  },
  {
   "cell_type": "markdown",
   "metadata": {},
   "source": [
    "##### **(`WHY?`)** 선형 변환 $ T(\\textbf{x}) $가 단사 관계일 경우 동차 선형 시스템($ A\\textbf{x} = \\textbf{0} $)의 해는 자명해밖에 존재하지 않는다. $ \\;\\; $($ \\because{} $ Theorem 1-11)"
   ]
  },
  {
   "cell_type": "markdown",
   "metadata": {},
   "source": [
    "##### **(`PLUS`)** 단사 선형 변환 함수 $ T(\\textbf{x}) $에서 선형 시스템($ A\\textbf{x} = \\textbf{b} $)에서는 해가 존재한다면 $ 1 $개만 존재하고, **해가 존재하지 않을 수도 있다.**"
   ]
  }
 ],
 "metadata": {
  "kernelspec": {
   "display_name": "Python 3",
   "language": "python",
   "name": "python3"
  },
  "language_info": {
   "codemirror_mode": {
    "name": "ipython",
    "version": 3
   },
   "file_extension": ".py",
   "mimetype": "text/x-python",
   "name": "python",
   "nbconvert_exporter": "python",
   "pygments_lexer": "ipython3",
   "version": "3.11.3"
  },
  "orig_nbformat": 4
 },
 "nbformat": 4,
 "nbformat_minor": 2
}
