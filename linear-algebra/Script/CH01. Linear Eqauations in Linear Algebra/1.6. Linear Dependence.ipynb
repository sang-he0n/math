{
 "cells": [
  {
   "attachments": {},
   "cell_type": "markdown",
   "metadata": {},
   "source": [
    "# CH01.6. **Linear Dependence**"
   ]
  },
  {
   "cell_type": "markdown",
   "metadata": {},
   "source": [
    "> ## **Linearly Independent**"
   ]
  },
  {
   "cell_type": "markdown",
   "metadata": {},
   "source": [
    "#### **(1) 정의**\n",
    "#### 아래의 벡터 방정식(vector eqaution)에서\n",
    "#### $ x_{1}\\textbf{v}_{1}+x_{2}\\textbf{v}_{2}+\\cdots+x_{n}\\textbf{v}_{n} = 0 \\,\\, where \\,\\, \\{ x_{1}, \\cdots, x_{n} \\} \\in \\mathbb{R^{1}} \\;\\; and \\;\\; \\{ \\textbf{v}_{1}, \\cdots, \\textbf{v}_{n} \\} \\in \\mathbb{R^{n}} $\n",
    "#### 를 만족하는 solution set이 오직 trivial solution만을 가질경우, 벡터 집합 $ \\{ \\textbf{v}_{1}, \\textbf{v}_{2}, \\cdots, \\textbf{v}_{n} \\} $ 은 선형 독립(linear independent)이라고 정의\n",
    "#### = $ \\textbf{x}_{n}$이 $ \\textbf{0} $ 인 경우\n",
    "<b></b>"
   ]
  },
  {
   "cell_type": "markdown",
   "metadata": {},
   "source": [
    "> ## **Linearly Dependent**"
   ]
  },
  {
   "cell_type": "markdown",
   "metadata": {},
   "source": [
    "#### **(1) 정의**\n",
    "#### 아래의 벡터 방정식(vector eqaution)에서\n",
    "#### $ x_{1}\\textbf{v}_{1}+x_{2}\\textbf{v}_{2}+\\cdots+x_{n}\\textbf{v}_{n} = 0 \\,\\, where \\,\\, \\{ x_{1}, \\cdots, x_{n} \\} \\in \\mathbb{R^{1}} \\;\\; and \\;\\; \\{ \\textbf{v}_{1}, \\cdots, \\textbf{v}_{n} \\} \\in \\mathbb{R^{n}} $\n",
    "#### 를 만족하는 solution set이 non trivial solution을 가질경우, 벡터 집합 $ \\{ \\textbf{v}_{1}, \\textbf{v}_{2}, \\cdots, \\textbf{v}_{n} \\} $ 은 선형 종속(linear dependent)이라고 정의\n",
    "#### = $ \\textbf{x}_{n}$이 **not all zero**인 경우\n",
    "#### = solution set이 **free-variable**을 갖는 경우"
   ]
  },
  {
   "cell_type": "markdown",
   "metadata": {},
   "source": [
    "#### **(WHY?)** 아래의 벡터 집합 $ \\{ \\textbf{v}_{1}, \\textbf{v}_{2}, \\textbf{v}_{3} \\} $ 이 존재할 때 해당 집합이 선형 독립인지 파악하면 다음과 같음\n",
    "#### $ \\textbf{v}_{1} = \\begin{bmatrix} 1\\\\2\\\\3 \\end{bmatrix}, \\textbf{v}_{2} = \\begin{bmatrix} 4\\\\5\\\\6 \\end{bmatrix}, \\textbf{v}_{3} = \\begin{bmatrix} 2\\\\1\\\\0 \\end{bmatrix} $\n",
    "#### $ \\begin{bmatrix} 1&4&2&0 \\\\ 2&5&1&0 \\\\ 3&6&0&0 \\end{bmatrix} $ ~ $ \\begin{bmatrix} 1&4&2&0 \\\\ 0&-3&-3&0 \\\\ 3&6&0&0 \\end{bmatrix} $ ~ $ \\begin{bmatrix} 1&4&2&0 \\\\ 0&-3&-3&0 \\\\ 0&-6&-6&0 \\end{bmatrix} $ ~ $ \\begin{bmatrix} 1&4&2&0 \\\\ 0&-3&-3&0 \\\\ 0&0&0&0 \\end{bmatrix} $ ~ $ \\begin{bmatrix} 1&4&2&0 \\\\ 0&1&1&0 \\\\ 0&0&0&0 \\end{bmatrix} $ ~ $ \\begin{bmatrix} 1&0&-2&0 \\\\ 0&1&1&0 \\\\ 0&0&0&0 \\end{bmatrix} $\n",
    "#### $ \\textbf{x} = \\begin{bmatrix} 2x_{3}\\\\-x_{3}\\\\x_{3} \\end{bmatrix} = x_{3} \\begin{bmatrix} 2\\\\-1\\\\1 \\end{bmatrix} = span \\{ \\begin{bmatrix} 2\\\\-1\\\\1 \\end{bmatrix} \\} $\n",
    "#### $ \\therefore \\;$ vector set $ \\{ \\textbf{v}_{1}, \\textbf{v}_{2}, \\textbf{v}_{3} \\} $ is **linear dependent**\n",
    "<b></b>"
   ]
  },
  {
   "cell_type": "markdown",
   "metadata": {},
   "source": [
    "#### **(PLUS) Linear independent of matrix column**\n",
    "#### $ m \\times n $ 행렬 $ A $ 의 열벡터 $ \\textbf{a}_{1}, \\textbf{a}_{2}, \\cdots, \\textbf{a}_{n} $ 와 $\\; n \\times 1 \\; $ 벡터 $\\; \\textbf{x} $ 가 존재할 때 $ A\\textbf{x} = \\textbf{0} $의 solution set이 trivial solutin만을 갖는다면,\n",
    "#### 벡터 집합 $ \\{ \\textbf{a}_{1}, \\textbf{a}_{2}, \\cdots, \\textbf{a}_{n} \\} $ 는 **선형 독립**임\n",
    "#### **[LATEX]**\n",
    "<b></b>"
   ]
  },
  {
   "cell_type": "markdown",
   "metadata": {},
   "source": [
    "> ## (Theorem 7)"
   ]
  },
  {
   "cell_type": "markdown",
   "metadata": {},
   "source": [
    "#### dada\n",
    "<b></b>"
   ]
  },
  {
   "cell_type": "markdown",
   "metadata": {},
   "source": [
    "> ## (Theorem 8)"
   ]
  },
  {
   "cell_type": "markdown",
   "metadata": {},
   "source": [
    "#### dada\n",
    "<b></b>"
   ]
  },
  {
   "cell_type": "markdown",
   "metadata": {},
   "source": [
    "> ## (Theorem 9)"
   ]
  },
  {
   "cell_type": "markdown",
   "metadata": {},
   "source": [
    "#### dada\n",
    "<b></b>"
   ]
  }
 ],
 "metadata": {
  "kernelspec": {
   "display_name": "Python 3",
   "language": "python",
   "name": "python3"
  },
  "language_info": {
   "codemirror_mode": {
    "name": "ipython",
    "version": 3
   },
   "file_extension": ".py",
   "mimetype": "text/x-python",
   "name": "python",
   "nbconvert_exporter": "python",
   "pygments_lexer": "ipython3",
   "version": "3.11.3"
  },
  "orig_nbformat": 4
 },
 "nbformat": 4,
 "nbformat_minor": 2
}
