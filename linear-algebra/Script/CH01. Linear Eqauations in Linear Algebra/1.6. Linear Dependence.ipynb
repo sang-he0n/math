{
 "cells": [
  {
   "attachments": {},
   "cell_type": "markdown",
   "metadata": {},
   "source": [
    "# CH01.6. **Linear Dependence**"
   ]
  },
  {
   "cell_type": "markdown",
   "metadata": {},
   "source": [
    "> ## **Linearly Independent**"
   ]
  },
  {
   "cell_type": "markdown",
   "metadata": {},
   "source": [
    "#### **(1) 정의**\n",
    "#### 아래의 벡터 방정식(vector eqaution)에서\n",
    "#### $ x_{1}\\textbf{v}_{1}+x_{2}\\textbf{v}_{2}+\\cdots+x_{n}\\textbf{v}_{n} = 0 \\,\\, where \\,\\, \\{ x_{1}, \\cdots, x_{n} \\} \\in \\mathbb{R^{1}} \\;\\; and \\;\\; \\{ \\textbf{v}_{1}, \\cdots, \\textbf{v}_{n} \\} \\in \\mathbb{R^{n}} $\n",
    "#### 를 만족하는 solution set이 오직 trivial solution만을 가질경우, 벡터 집합 $ \\{ \\textbf{v}_{1}, \\textbf{v}_{2}, \\cdots, \\textbf{v}_{n} \\} $ 은 선형 독립(linear independent)함\n",
    "#### = 모든 $ \\; \\textbf{x}_{n}$이 $ 0 $ 인 soltuin set만을 가질 경우"
   ]
  },
  {
   "cell_type": "markdown",
   "metadata": {},
   "source": [
    "#### **(2) dada**\n",
    "<b></b>"
   ]
  },
  {
   "cell_type": "markdown",
   "metadata": {},
   "source": [
    "> ## **Linearly Dependent**"
   ]
  },
  {
   "cell_type": "markdown",
   "metadata": {},
   "source": [
    "#### **(1) 정의**\n",
    "#### 아래의 벡터 방정식(vector eqaution)에서\n",
    "#### $ x_{1}\\textbf{v}_{1}+x_{2}\\textbf{v}_{2}+\\cdots+x_{n}\\textbf{v}_{n} = 0 \\,\\, where \\,\\, \\{ x_{1}, \\cdots, x_{n} \\} \\in \\mathbb{R^{1}} \\;\\; and \\;\\; \\{ \\textbf{v}_{1}, \\cdots, \\textbf{v}_{n} \\} \\in \\mathbb{R^{n}} $\n",
    "#### 를 만족하는 solution set이 오직 trivial solution만을 가질경우, 벡터 집합 $ \\{ \\textbf{v}_{1}, \\textbf{v}_{2}, \\cdots, \\textbf{v}_{n} \\} $ 은 선형 독립(linear independent)함\n",
    "#### = 모든 $ \\; \\textbf{x}_{n}$이 $ 0 $ 인 soltuin set만을 가질 경우"
   ]
  },
  {
   "cell_type": "markdown",
   "metadata": {},
   "source": [
    "#### **(2) dada**\n",
    "<b></b>"
   ]
  },
  {
   "cell_type": "markdown",
   "metadata": {},
   "source": []
  }
 ],
 "metadata": {
  "kernelspec": {
   "display_name": "Python 3",
   "language": "python",
   "name": "python3"
  },
  "language_info": {
   "codemirror_mode": {
    "name": "ipython",
    "version": 3
   },
   "file_extension": ".py",
   "mimetype": "text/x-python",
   "name": "python",
   "nbconvert_exporter": "python",
   "pygments_lexer": "ipython3",
   "version": "3.11.3"
  },
  "orig_nbformat": 4
 },
 "nbformat": 4,
 "nbformat_minor": 2
}
