{
 "cells": [
  {
   "attachments": {},
   "cell_type": "markdown",
   "metadata": {},
   "source": [
    "# CH05.4. **Gram-schmidt Process**"
   ]
  },
  {
   "cell_type": "markdown",
   "metadata": {},
   "source": [
    "> ## **그람-슈미트 과정(Gram-Schmidt Process)**"
   ]
  },
  {
   "cell_type": "markdown",
   "metadata": {},
   "source": [
    "#### **(1) 정의** : 어떠한 부분 공간 $ \\, \\mathbb{W} $ 의 기저 $ \\, \\mathcal{B} $ 를 **직교(orthogonal) 기저 $ \\, \\mathcal{O} $ 로 변환**하는 연산 과정\n",
    "#### $ \\Rightarrow{} \\mathcal{B} = \\mathcal{O} \\;\\; \\text{ where } \\, \\mathcal{B} = \\text{span}\\{ \\textbf{x}_{1}, \\textbf{x}_{2}, \\cdots{}, \\textbf{x}_{n} \\} \\, \\text{ is basis for } \\, \\mathbb{W} $\n",
    "#### $ \\hspace{1.75cm} \\text{and } \\, \\mathcal{O} = \\text{span}\\{ \\textbf{v}_{1}, \\textbf{v}_{2}, \\cdots{}, \\textbf{v}_{n} \\} \\, \\text{ is orthogonal basis for } \\, \\mathbb{W} $\n",
    "#### $ \\hspace{1.75cm} \\text{and } \\, \\textbf{v}_{k} = x_{k} - \\displaystyle\\sum^{k-1}_{i=1} \\frac{\\textbf{x}_{k}\\cdot{}\\textbf{v}_{i}}{\\textbf{v}_{i}\\cdot{}\\textbf{v}_{i}} \\textbf{v}_{i} = x_{k} - \\displaystyle\\sum^{k-1}_{i=1} \\text{proj}_{\\textbf{v}_{i}}(\\textbf{x}_{k}) $\n",
    "#### $ \\Leftrightarrow{} \\text{span}\\{ \\textbf{x}_{1}, \\textbf{x}_{2}, \\cdots{}, \\textbf{x}_{n} \\} = \\text{span}\\{ \\textbf{v}_{1}, \\textbf{v}_{2}, \\cdots{}, \\textbf{v}_{n} \\} $"
   ]
  },
  {
   "cell_type": "markdown",
   "metadata": {},
   "source": [
    "#### **(`PLUS`)** $ \\mathcal{O} $ 는 부분공간 $ \\, \\mathbb{W} $ 의 기저임"
   ]
  },
  {
   "cell_type": "markdown",
   "metadata": {},
   "source": [
    "#### **(2) 예제** :\n",
    "#### $ \\hspace{0.15cm} $ ①\n",
    "#### $ \\hspace{0.15cm} $ ②"
   ]
  },
  {
   "cell_type": "markdown",
   "metadata": {},
   "source": [
    "<b></b>"
   ]
  },
  {
   "cell_type": "markdown",
   "metadata": {},
   "source": [
    "> ## **QR 분해(QR Factorization;Decomposition)**"
   ]
  },
  {
   "cell_type": "markdown",
   "metadata": {},
   "source": [
    "#### **(1) 정의** : **[CONTENTS]**\n",
    "#### $ \\Rightarrow{} \\underset{m\\times{}n}{A} = \\begin{bmatrix} \\end{bmatrix} \\begin{bmatrix} \\end{bmatrix} = \\underset{m\\times{}n}{Q} \\underset{n\\times{}n}{R} $ "
   ]
  },
  {
   "cell_type": "markdown",
   "metadata": {},
   "source": [
    "#### **(2) 풀이 순서** :\n",
    "#### $ \\hspace{0.15cm} $ ①\n",
    "#### $ \\hspace{0.15cm} $ ② \n",
    "#### $ \\hspace{0.15cm} $ ③"
   ]
  },
  {
   "cell_type": "markdown",
   "metadata": {},
   "source": [
    "#### **(3) 예제** :\n",
    "#### $ \\hspace{0.15cm} $ ①\n",
    "#### $ \\hspace{0.15cm} $ ② **[CONTENTS]**"
   ]
  }
 ],
 "metadata": {
  "kernelspec": {
   "display_name": "Python 3",
   "language": "python",
   "name": "python3"
  },
  "language_info": {
   "codemirror_mode": {
    "name": "ipython",
    "version": 3
   },
   "file_extension": ".py",
   "mimetype": "text/x-python",
   "name": "python",
   "nbconvert_exporter": "python",
   "pygments_lexer": "ipython3",
   "version": "3.11.3"
  },
  "orig_nbformat": 4
 },
 "nbformat": 4,
 "nbformat_minor": 2
}
