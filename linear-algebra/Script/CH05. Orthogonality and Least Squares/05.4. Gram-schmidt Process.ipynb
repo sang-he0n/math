{
 "cells": [
  {
   "attachments": {},
   "cell_type": "markdown",
   "metadata": {},
   "source": [
    "# CH05.4. **Gram-schmidt Process**"
   ]
  },
  {
   "cell_type": "markdown",
   "metadata": {},
   "source": [
    "> ## **그람-슈미트 과정(Gram-Schmidt Process)**"
   ]
  },
  {
   "cell_type": "markdown",
   "metadata": {},
   "source": [
    "#### **(1) 정의** : 어떠한 부분 공간 $ \\, \\mathbb{W} $ 의 기저 $ \\, \\mathcal{B} $ 를 **직교(orthogonal) 기저 $ \\, \\mathcal{O} $ 로 변환**하는 연산 과정\n",
    "#### $ \\Rightarrow{} \\mathcal{B} = \\mathcal{O} \\;\\; \\text{ where } \\, \\mathcal{B} = \\text{span}\\{ \\textbf{x}_{1}, \\textbf{x}_{2}, \\cdots{}, \\textbf{x}_{n} \\} \\, \\text{ is basis for } \\, \\mathbb{W} $\n",
    "#### $ \\hspace{1.75cm} \\text{and } \\, \\mathcal{O} = \\text{span}\\{ \\textbf{v}_{1}, \\textbf{v}_{2}, \\cdots{}, \\textbf{v}_{n} \\} \\, \\text{ is orthogonal basis for } \\, \\mathbb{W} $\n",
    "#### $ \\hspace{1.75cm} \\text{and } \\, \\textbf{v}_{k} = x_{k} - \\displaystyle\\sum^{k-1}_{i=1} \\frac{\\textbf{x}_{k}\\cdot{}\\textbf{v}_{i}}{\\textbf{v}_{i}\\cdot{}\\textbf{v}_{i}} \\textbf{v}_{i} = x_{k} - \\displaystyle\\sum^{k-1}_{i=1} \\text{proj}_{\\textbf{v}_{i}}(\\textbf{x}_{k}) $\n",
    "#### $ \\Leftrightarrow{} \\text{span}\\{ \\textbf{x}_{1}, \\textbf{x}_{2}, \\cdots{}, \\textbf{x}_{n} \\} = \\text{span}\\{ \\textbf{v}_{1}, \\textbf{v}_{2}, \\cdots{}, \\textbf{v}_{n} \\} $"
   ]
  },
  {
   "cell_type": "markdown",
   "metadata": {},
   "source": [
    "#### **(`PLUS`)** $ \\mathcal{O} $ 는 부분공간 $ \\, \\mathbb{W} $ 의 기저임"
   ]
  },
  {
   "cell_type": "markdown",
   "metadata": {},
   "source": [
    "#### **(2) 예제** :\n",
    "#### $ \\hspace{0.15cm} $ ① **[CONTENTS]**\n",
    "#### $ \\hspace{0.15cm} $ ② **[CONTENTS]**"
   ]
  },
  {
   "cell_type": "markdown",
   "metadata": {},
   "source": [
    "<b></b>"
   ]
  },
  {
   "cell_type": "markdown",
   "metadata": {},
   "source": [
    "> ## **QR 분해(QR Factorization;Decomposition)**"
   ]
  },
  {
   "cell_type": "markdown",
   "metadata": {},
   "source": [
    "#### **(1) 정의** : 어떠한 행렬 $ \\, A $ 의 열 집합이 선형 독립일 때 그 행렬을 정규직교행렬 $ \\, Q $ 와 상삼각 행렬 $ \\, R $ 로 분해하는 연산 \n",
    "#### $ \\Rightarrow{} \\underset{m\\times{}n}{A} = \\begin{bmatrix} \\textbf{a}_{1} & \\cdots{} & \\textbf{a}_{n} \\end{bmatrix} = \\begin{bmatrix} \\textbf{u}_{1} & \\textbf{u}_{2} & \\cdots{} & \\textbf{u}_{n} \\end{bmatrix} \\begin{bmatrix} r_{1,1}&r_{1,2}&\\cdots{}&r_{n,n} \\\\ 0 & r_{2,2} & \\cdots{} & r_{2,n} \\\\ \\vdots{} & \\vdots{} &\\ddots{} & \\vdots{} \\\\ 0 & 0 & \\cdots{} & r_{n,n} \\end{bmatrix} = \\underset{m\\times{}n}{Q} \\underset{n\\times{}n}{R} $\n",
    "#### $ \\hspace{0.15cm} \\text{ where } \\, \\{ \\textbf{a}_{1}, \\cdots{},\\textbf{a}_{n} \\} \\, \\text{ is linearly indepndent} $\n",
    "#### $ \\hspace{0.15cm} \\text{ and } \\, \\{ \\textbf{u}_{1}, \\cdots{}, \\textbf{u}_{n} \\} \\, \\text{ is orthogonal basis for } \\, \\mathbb{R}^{m} $\n",
    "#### $ \\hspace{0.15cm} \\text{ and } \\, r_{i,i} > 0 \\;\\; \\text{ for } \\, 1 \\leq{} i \\leq{} n $"
   ]
  },
  {
   "cell_type": "markdown",
   "metadata": {},
   "source": [
    "#### **(`PLUS`)** 정확하게는 $ \\, r_{i,i} \\neq{} 0 $ 이지만, 유일한 $ \\, QR $ 를 구하기 위해 $ \\, 0 $ 보다 크다는 제약조건을 검"
   ]
  },
  {
   "cell_type": "markdown",
   "metadata": {},
   "source": [
    "#### **(2) 풀이 순서** :\n",
    "#### $ \\hspace{0.15cm} $ ① $ \\, A $ 의 열공간($ \\text{col}(A) $)에 대한 직교 기저를 구함 \n",
    "#### **[LATEX]**\n",
    "#### $ \\hspace{0.15cm} $ ② 직교 기저를 정규화하여 정규직교 행렬 $ \\, Q $ 를 생성\n",
    "#### **[LATEX]**\n",
    "#### $ \\hspace{0.15cm} $ ③ $ \\, Q^{T}A = Q^{T}QR $ 을 이용하여 $ \\, R $ 을 생성\n",
    "#### **[LATEX]**\n",
    "#### $ \\hspace{0.15cm} $ ④ 만약 어떠한 대각원소 $ \\, r_{k,k} $ 에서 부호 변경이 필요하다면 $ \\textbf{u}_{k} $ 의 부호와 $ \\, r_{k,k} $ 부터 $ \\, r_{k,n} $ 까지 부호를 변경함\n",
    "#### **[LATEX]**"
   ]
  },
  {
   "cell_type": "markdown",
   "metadata": {},
   "source": [
    "#### **(3) 예제** :\n",
    "#### $ \\hspace{0.15cm} $ ① **[CONTENTS]**\n",
    "#### $ \\hspace{0.15cm} $ ② **[CONTENTS]**"
   ]
  }
 ],
 "metadata": {
  "kernelspec": {
   "display_name": "Python 3",
   "language": "python",
   "name": "python3"
  },
  "language_info": {
   "codemirror_mode": {
    "name": "ipython",
    "version": 3
   },
   "file_extension": ".py",
   "mimetype": "text/x-python",
   "name": "python",
   "nbconvert_exporter": "python",
   "pygments_lexer": "ipython3",
   "version": "3.11.3"
  },
  "orig_nbformat": 4
 },
 "nbformat": 4,
 "nbformat_minor": 2
}
