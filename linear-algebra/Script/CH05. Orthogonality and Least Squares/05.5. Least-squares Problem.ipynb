{
 "cells": [
  {
   "attachments": {},
   "cell_type": "markdown",
   "metadata": {},
   "source": [
    "# CH05.5. **Least-squares Problem**"
   ]
  },
  {
   "cell_type": "markdown",
   "metadata": {},
   "source": [
    "> ## **최소제곱 문제(Least-squares Problem)**"
   ]
  },
  {
   "cell_type": "markdown",
   "metadata": {},
   "source": [
    "#### **(1) 정의** : 선형 방정식 $ \\, \\underset{m\\times{}n}{A}\\textbf{x} = \\underset{m\\times{}1}{\\textbf{b}} $ 의 해집합(solutionset)의 해가 존재하지 않을 때, 해당 방정식을 가장 잘 근사하는 해 $ \\, \\hat{\\textbf{x}} $ 를 찾는 방법 \n",
    "#### $ \\Rightarrow{} \\displaystyle\\min_{\\hat{\\textbf{x}}} (|| \\textbf{b} - A\\hat{\\textbf{x}} ||) $\n",
    "#### $ \\Leftrightarrow{} || \\textbf{b} - A\\hat{\\textbf{x}} || \\leq{} || \\textbf{b} - A\\textbf{x} || \\;\\; \\forall{} \\, \\textbf{x} \\in{} \\mathbb{R}^{n} $\n",
    "#### $ \\Leftrightarrow{} A^{T}A\\hat{\\textbf{x}} = A^{T}\\textbf{b} $"
   ]
  },
  {
   "cell_type": "markdown",
   "metadata": {},
   "source": [
    "#### **(`WHY?`)**\n",
    "#### $ \\hspace{0.15cm} $ **[GRAPH]**\n",
    "#### $ \\hspace{0.15cm} \\text{col}(A) \\, \\text{ and } \\, (\\textbf{b}-A\\hat{\\textbf{x}}) \\, \\text{ is orthogonal}. $\n",
    "#### $ \\hspace{0.15cm} \\Rightarrow{} \\textbf{a}_{k} \\cdot{} (\\textbf{b}-A\\hat{\\textbf{x}}) = \\textbf{0} \\;\\; \\text{ where } \\, A = \\begin{bmatrix} \\textbf{a}_{1} & \\cdots{} & \\textbf{a}_{n} \\end{bmatrix} $\n",
    "#### $ \\hspace{0.15cm} \\begin{bmatrix} \\textbf{a}_{1}^{T} \\\\ \\vdots{} \\\\ \\textbf{a}_{n}^{T} \\end{bmatrix} (\\textbf{b}-A\\hat{\\textbf{x}}) = A^{T} (\\textbf{b}-A\\hat{\\textbf{x}}) = \\textbf{0} $\n",
    "#### $ \\hspace{0.15cm} A^{T} \\textbf{b}-A^{T}A\\hat{\\textbf{x}} = \\textbf{0} $\n",
    "#### $ \\hspace{0.15cm} \\therefore{} A^{T} \\textbf{b} = A^{T} A\\hat{\\textbf{x}} $"
   ]
  },
  {
   "cell_type": "markdown",
   "metadata": {},
   "source": [
    "#### **(`PLUS`)** 해당 식을 정규방정식(normal equation)이라고 정의함 (Theorem 5-13)"
   ]
  },
  {
   "cell_type": "markdown",
   "metadata": {},
   "source": [
    "#### **(`PLUS`) 최소제곱 에러(Least-squares Error)** : $ \\, || \\textbf{b} - A \\hat{\\textbf{x}} || $"
   ]
  },
  {
   "cell_type": "markdown",
   "metadata": {},
   "source": [
    "#### **(2) 성질** :\n",
    "#### $ \\hspace{0.15cm} $ ① $ \\, A\\textbf{x} = \\textbf{0} \\;\\; \\text{ if and only if } \\;\\; A^{T}A\\textbf{x} = \\textbf{0} $ \n",
    "#### $ \\hspace{0.5cm} \\Rightarrow{} \\text{Nul}(A) = \\text{Nul}(A^{T}A) $\n",
    "#### $ \\hspace{0.15cm} $ ② **[CONTENTS]**"
   ]
  },
  {
   "cell_type": "markdown",
   "metadata": {},
   "source": [
    "#### **(3) 예제** :\n",
    "#### $ \\hspace{0.15cm} $ ① 선형 방정식 $ \\, A\\textbf{x} = \\textbf{b} $ 의 해가 존재하지 않을 때, 최소제곱 문제의 해를 구하고자 할 때\n",
    "#### $ \\hspace{0.5cm} A = \\begin{bmatrix} 4 & 0 \\\\ 0 & 2 \\\\ 1 & 1 \\end{bmatrix}, \\;\\; \\textbf{b} = \\begin{bmatrix} 2 \\\\ 0 \\\\ 11 \\end{bmatrix} $\n",
    "#### $ \\hspace{0.5cm} A^{T}A = \\begin{bmatrix} 4 & 0 & 1 \\\\ 0 & 2 & 1 \\end{bmatrix} \\begin{bmatrix} 4 & 0 \\\\ 0 & 2 \\\\ 1 & 1 \\end{bmatrix} = \\begin{bmatrix} 17 & 1 \\\\ 1 & 5 \\end{bmatrix} $\n",
    "#### $ \\hspace{0.5cm} A^{T}\\textbf{b} = \\begin{bmatrix} 4 & 0 & 1 \\\\ 0 & 2 & 1 \\end{bmatrix} \\begin{bmatrix} 2 \\\\ 0 \\\\ 11 \\end{bmatrix} = \\begin{bmatrix} 19 \\\\ 11 \\end{bmatrix} $\n",
    "#### $ \\hspace{0.5cm} \\begin{bmatrix} 17 & 1 & 19 \\\\ 1 & 5 & 11 \\end{bmatrix} $ ~ $ \\begin{bmatrix} 1 & 0 & 1 \\\\ 0 & 1 & 2 \\end{bmatrix} $\n",
    "#### $ \\hspace{0.5cm} \\therefore{} \\hat{\\textbf{x}} = \\begin{bmatrix} 1 \\\\ 2 \\end{bmatrix} $ "
   ]
  },
  {
   "cell_type": "markdown",
   "metadata": {},
   "source": [
    "#### **(`PLUS`)** 최소제곱 에러를 구하고자 하는 경우\n",
    "#### $ \\hspace{0.45cm} || \\textbf{b} - A\\hat{\\textbf{x}} || = || \\begin{bmatrix} -2 \\\\ -4 \\\\ 8 \\end{bmatrix} || = \\sqrt{(-2)^{2}+(-4)^{2}+8^{2}}=  \\sqrt{84}$"
   ]
  },
  {
   "cell_type": "markdown",
   "metadata": {},
   "source": [
    "#### $ \\hspace{0.15cm} $ ② 선형 방정식 $ \\, A\\textbf{x} = \\textbf{b} $ 의 해가 존재하지 않을 때, 최소제곱 문제의 해를 구하고자 할 때\n",
    "#### $ \\hspace{0.5cm} A = \\begin{bmatrix} 1&1&0&0 \\\\ 1&1&0&0\\\\ 1&0&1&0 \\\\ 1&0&1&0 \\\\ 1&0&0&1 \\\\ 1&0&0&1 \\end{bmatrix}, \\;\\; \\textbf{b} = \\begin{bmatrix} -3 \\\\ -1 \\\\ 0 \\\\ 2 \\\\ 5 \\\\ 1\\end{bmatrix} $\n",
    "#### $ \\hspace{0.5cm} A^{T}A = $ **[LATEX]**\n",
    "#### $ \\hspace{0.5cm} A^{T}\\textbf{b} = $ **[LATEX]**\n",
    "#### $ \\hspace{0.5cm} \\therefore{} \\hat{\\textbf{x}} = \\begin{bmatrix} 3 \\\\ -5 \\\\ -2 \\\\ 0 \\end{bmatrix} + x_{4} \\begin{bmatrix} -1 \\\\ 1 \\\\ 1 \\\\ 1 \\end{bmatrix} $ "
   ]
  },
  {
   "cell_type": "markdown",
   "metadata": {},
   "source": [
    "<b></b>"
   ]
  },
  {
   "cell_type": "markdown",
   "metadata": {},
   "source": [
    "> ## (Theorem 5-14) **Least Square solution using Invertible Matrix**"
   ]
  },
  {
   "cell_type": "markdown",
   "metadata": {},
   "source": [
    "#### 어떠한 행렬 $ \\, \\underset{m\\times{}n}{A} $ 의 열집합이 **선형 독립 관계**이고, $ \\, A^{T}A $ 가 가역적(invertible)일 때 아래와 같이 정리된다.\n",
    "#### $ \\Rightarrow{} \\hat{\\textbf{x}} = (A^{T}A)^{-1}A^{T}\\textbf{b} \\;\\; \\text{ where } \\, \\text{rank}(A) = n $"
   ]
  },
  {
   "cell_type": "markdown",
   "metadata": {},
   "source": [
    "<b></b>"
   ]
  },
  {
   "cell_type": "markdown",
   "metadata": {},
   "source": [
    "> ## **가중 최소제곱 문제(Weighted Least-squares Problem)**"
   ]
  },
  {
   "cell_type": "markdown",
   "metadata": {},
   "source": [
    "#### **(1) 정의** : **[CONTENTS]**"
   ]
  }
 ],
 "metadata": {
  "kernelspec": {
   "display_name": "Python 3",
   "language": "python",
   "name": "python3"
  },
  "language_info": {
   "codemirror_mode": {
    "name": "ipython",
    "version": 3
   },
   "file_extension": ".py",
   "mimetype": "text/x-python",
   "name": "python",
   "nbconvert_exporter": "python",
   "pygments_lexer": "ipython3",
   "version": "3.11.3"
  },
  "orig_nbformat": 4
 },
 "nbformat": 4,
 "nbformat_minor": 2
}
