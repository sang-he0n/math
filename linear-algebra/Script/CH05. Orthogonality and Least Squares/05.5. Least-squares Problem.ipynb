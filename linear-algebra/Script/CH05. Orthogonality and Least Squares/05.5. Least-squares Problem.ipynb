{
 "cells": [
  {
   "attachments": {},
   "cell_type": "markdown",
   "metadata": {},
   "source": [
    "# CH05.5. **Least-squares Problem**"
   ]
  },
  {
   "cell_type": "markdown",
   "metadata": {},
   "source": [
    "> ## **해 존재에 따른 기하적 해석(Geometric Interpretation of existence of Solutions)**"
   ]
  },
  {
   "cell_type": "markdown",
   "metadata": {},
   "source": [
    "#### **(1) 해가 존재하는 경우(consistent)** : 선형 시스템($ A\\textbf{x} = \\textbf{b} $)에서 상수항 벡터 $ \\textbf{b} $가 계수 행렬의 열 공간 $ \\text{col}(A) $에 존재 \n",
    "<img src=\"../../img/05.5. Least-squares Problem (2).png\" width=\"30%\" height=\"30%\"/></img>"
   ]
  },
  {
   "cell_type": "markdown",
   "metadata": {},
   "source": [
    "##### **(`PLUS`) 해가 존재할 때 해의 갯수 구분** : 열공간 $ \\text{col}(A) = \\text{span}(\\{ \\textbf{a}_{1}, \\textbf{a}_{2}, \\cdots{}, \\textbf{a}_{n} \\}) $일 때 아래가 성립함\n",
    "##### $ \\hspace{0.15cm} $ ① 해가 $ 1 $개인 경우 : 계수 행렬의 열 집합이 선형 독립\n",
    "##### $ \\hspace{0.45cm} \\Rightarrow{} \\{ \\textbf{a}_{1}, \\textbf{a}_{2}, \\cdots{}, \\textbf{a}_{n} \\} \\, \\text{ is linearly independent}. $\n",
    "##### $ \\hspace{0.45cm} \\Leftrightarrow{} \\text{rank}(A) = n $\n",
    "##### $ \\hspace{0.15cm} $ ② 해가 무수히 많을 경우 : 계수 행렬의 열 집합이 선형 종속\n",
    "##### $ \\hspace{0.45cm} \\Rightarrow{} \\{ \\textbf{a}_{1}, \\textbf{a}_{2}, \\cdots{}, \\textbf{a}_{n} \\} \\, \\text{ is linearly dependent}. $\n",
    "##### $ \\hspace{0.45cm} \\Leftrightarrow{} \\text{rank}(A) < n $"
   ]
  },
  {
   "cell_type": "markdown",
   "metadata": {},
   "source": [
    "#### **(2) 해가 존재하지 않는 경우(inconsistent)** : 선형 시스템에서 상수항 벡터 $ \\textbf{b} $가 계수 행렬의 열 공간 $ \\text{col}(A) $에 존재하지 않음\n",
    "<img src=\"../../img/05.5. Least-squares Problem (1).png\" width=\"35%\" height=\"35%\"/></img>"
   ]
  },
  {
   "cell_type": "markdown",
   "metadata": {},
   "source": [
    "<b></b>"
   ]
  },
  {
   "cell_type": "markdown",
   "metadata": {},
   "source": [
    "> ## **최소 제곱 문제(Least-squares Problem)**"
   ]
  },
  {
   "cell_type": "markdown",
   "metadata": {},
   "source": [
    "#### **(1) 정의** : 선형 방정식($ A\\textbf{x} = \\textbf{b} $)의 해가 존재하지 않을 때, 해당 방정식을 가장 근사하는 해 $ \\hat{\\textbf{x}} $를 찾는 방법\n",
    "#### $ \\Rightarrow{} \\hat{\\textbf{x}} = \\argmin_{\\textbf{x}} (|| \\textbf{b} - A\\textbf{x} ||) $ \n",
    "#### $ \\Leftrightarrow{} || \\textbf{b} - A\\hat{\\textbf{x}} || \\leq{} || \\textbf{b} - A\\textbf{x} || $"
   ]
  },
  {
   "cell_type": "markdown",
   "metadata": {},
   "source": [
    "#### **(2) 연산 방법** : 정규 방정식(normal eqaution)으로 변환하여 근사 해 $ \\hat{\\textbf{x}} $ 연산\n",
    "#### $ \\Rightarrow{} A^{T}A\\hat{\\textbf{x}} = A^{T}\\textbf{b} $"
   ]
  },
  {
   "cell_type": "markdown",
   "metadata": {},
   "source": [
    "##### **(`WHY?`)**\n",
    "##### $ \\hspace{0.15cm} $ <img src=\"../../img/05.5. Least-squares Problem (1).png\" width=\"35%\" height=\"35%\"/></img>\n",
    "##### $ \\hspace{0.15cm} \\textbf{a}_{k} \\cdot{} (\\textbf{b}-A\\hat{\\textbf{x}}) = \\textbf{0} \\;\\; \\because{} \\text{col}(A) = \\text{span}(\\{ \\textbf{a}_{1}, \\textbf{a}_{2}, \\cdots{}, \\textbf{a}_{n} \\}) \\perp{} (\\textbf{b}-A\\hat{\\textbf{x}}) $\n",
    "##### $ \\hspace{0.15cm} \\begin{bmatrix} \\textbf{a}_{1}^{T} \\\\ \\vdots{} \\\\ \\textbf{a}_{n}^{T} \\end{bmatrix} (\\textbf{b}-A\\hat{\\textbf{x}}) = A^{T} (\\textbf{b}-A\\hat{\\textbf{x}}) = A^{T} \\textbf{b}-A^{T}A\\hat{\\textbf{x}} = \\textbf{0} $\n",
    "##### $ \\hspace{0.15cm} \\therefore{} A^{T} \\textbf{b} = A^{T} A\\hat{\\textbf{x}} $"
   ]
  },
  {
   "cell_type": "markdown",
   "metadata": {},
   "source": [
    "##### **(`PLUS`)** 상수항 벡터와 그 정사영 벡터 간의 길이($ || \\textbf{b} - A \\hat{\\textbf{x}} || $)를 최소 제곱 에러(least-squares error)라고 정의함"
   ]
  },
  {
   "cell_type": "markdown",
   "metadata": {},
   "source": [
    "#### **(2) 예시** :\n",
    "##### $ \\hspace{0.15cm} $ ① 어떠한 선형 방정식의 해가 존재하지 않아 최소 제곱 문제의 해를 구하고자 할 때\n",
    "##### $ \\hspace{0.45cm} A = \\begin{bmatrix} 4 & 0 \\\\ 0 & 2 \\\\ 1 & 1 \\end{bmatrix}, \\;\\; \\textbf{b} = \\begin{bmatrix} 2 \\\\ 0 \\\\ 11 \\end{bmatrix} $\n",
    "##### $ \\hspace{0.45cm} A^{T}A = \\begin{bmatrix} 4 & 0 & 1 \\\\ 0 & 2 & 1 \\end{bmatrix} \\begin{bmatrix} 4 & 0 \\\\ 0 & 2 \\\\ 1 & 1 \\end{bmatrix} = \\begin{bmatrix} 17 & 1 \\\\ 1 & 5 \\end{bmatrix} $\n",
    "##### $ \\hspace{0.45cm} A^{T}\\textbf{b} = \\begin{bmatrix} 4 & 0 & 1 \\\\ 0 & 2 & 1 \\end{bmatrix} \\begin{bmatrix} 2 \\\\ 0 \\\\ 11 \\end{bmatrix} = \\begin{bmatrix} 19 \\\\ 11 \\end{bmatrix} $\n",
    "##### $ \\hspace{0.45cm} \\begin{bmatrix} 17 & 1 & 19 \\\\ 1 & 5 & 11 \\end{bmatrix} \\; $ ~ $ \\; \\cdots{} \\; $ ~ $ \\; \\begin{bmatrix} 1 & 0 & 1 \\\\ 0 & 1 & 2 \\end{bmatrix} $\n",
    "##### $ \\hspace{0.45cm} \\therefore{} \\hat{\\textbf{x}} = \\begin{bmatrix} 1 \\\\ 2 \\end{bmatrix} $ \n",
    "##### $ \\hspace{0.15cm} $ ② 어떠한 선형 방정식의 해가 존재하지 않아 최소 제곱 문제의 해를 구하고자 할 때\n",
    "##### $ \\hspace{0.45cm} A = \\begin{bmatrix} 1 & 1 & 0 & 0 \\\\ 1 & 1 & 0 & 0 \\\\ 1 & 0 & 1 & 0 \\\\ 1 & 0 & 1 & 0 \\\\ 1 & 0 & 0 & 1 \\\\ 1 & 0 & 0 & 1 \\end{bmatrix}, \\;\\; \\textbf{b} = \\begin{bmatrix} -3 \\\\ -1 \\\\ 0 \\\\ 2 \\\\ 5 \\\\ 1\\end{bmatrix} $\n",
    "##### $ \\hspace{0.45cm} A^{T}A = \\begin{bmatrix} 1 & 1 & 1 & 1 & 1 & 1 \\\\ 1 & 1 & 0 & 0 & 0 & 0 \\\\ 0 & 0 & 1 & 1 & 0 & 0 \\\\ 0 & 0 & 0 & 0 & 1 & 1 \\end{bmatrix} \\begin{bmatrix} 1 & 1 & 0 & 0 \\\\ 1 & 1 & 0 & 0 \\\\ 1 & 0 & 1 & 0 \\\\ 1 & 0 & 1 & 0 \\\\ 1 & 0 & 0 & 1 \\\\ 1 & 0 & 0 & 1 \\end{bmatrix} = \\begin{bmatrix} 6 & 2 & 2 & 2 \\\\ 2 & 2 & 0 & 0 \\\\ 2 & 0 & 2 & 0 \\\\ 2 & 0 & 0 & 2 \\end{bmatrix} $\n",
    "##### $ \\hspace{0.45cm} A^{T}\\textbf{b} = \\begin{bmatrix} 1 & 1 & 1 & 1 & 1 & 1 \\\\ 1 & 1 & 0 & 0 & 0 & 0 \\\\ 0 & 0 & 1 & 1 & 0 & 0 \\\\ 0 & 0 & 0 & 0 & 1 & 1 \\end{bmatrix} \\begin{bmatrix} -3 \\\\ -1 \\\\ 0 \\\\ 2 \\\\ 5 \\\\ 1\\end{bmatrix} = \\begin{bmatrix} 4 \\\\ -4 \\\\ -4 \\\\ 0 \\end{bmatrix} $\n",
    "##### $ \\hspace{0.45cm} \\begin{bmatrix} 6 & 2 & 2 & 2 & 4 \\\\ 2 & 2 & 0 & 0 & -4 \\\\ 2 & 0 & 2 & 0 & -4 \\\\ 2 & 0 & 0 & 2 & 0 \\end{bmatrix} \\; $ ~ $ \\; \\cdots{} \\; $ ~ $ \\; \\begin{bmatrix} 1 & 0 & 0 & 1 & 3 \\\\ 0 & 1 & 0 & -1 & -5 \\\\ 0 & 0 & 1 & -1 & -2 \\\\ 0 & 0 & 0 & 1 & 0 \\end{bmatrix} $ \n",
    "##### $ \\hspace{0.45cm} \\therefore{} \\hat{\\textbf{x}} = \\begin{bmatrix} 3 \\\\ -5 \\\\ -2 \\\\ 0 \\end{bmatrix} + x_{4} \\begin{bmatrix} -1 \\\\ 1 \\\\ 1 \\\\ 1 \\end{bmatrix} $ "
   ]
  },
  {
   "cell_type": "markdown",
   "metadata": {},
   "source": [
    "##### **(`PLUS`)** 최소제곱 에러를 구하고자 하는 경우\n",
    "##### $ \\hspace{0.15cm} || \\textbf{b} - A\\hat{\\textbf{x}} || = || \\begin{bmatrix} -1 \\\\ 1 \\\\ -1 \\\\ 1 \\\\ 2 \\\\ -2 \\end{bmatrix} || = 2\\sqrt{3} $"
   ]
  },
  {
   "cell_type": "markdown",
   "metadata": {},
   "source": [
    "<b></b>"
   ]
  },
  {
   "cell_type": "markdown",
   "metadata": {},
   "source": [
    "> ## (Theorem 5-14) **Least Square solution using Invertible Matrix**"
   ]
  },
  {
   "cell_type": "markdown",
   "metadata": {},
   "source": [
    "#### 어떠한 행렬 $ \\underset{m\\times{}n}{A} $의 열벡터 집합이 **선형 독립**이면 아래가 성립한다. "
   ]
  },
  {
   "cell_type": "markdown",
   "metadata": {},
   "source": [
    "#### **(1)** $ A^{T}A $는 가역행렬이다.\n",
    "#### $ \\Rightarrow{} (A^{T}A)^{-1} \\, \\text{ is invertible}. \\;\\; \\text{ if } \\; \\{ \\textbf{a}_{1}, \\textbf{a}_{2}, \\cdots{}, \\textbf{a}_{n} \\} \\, \\text{ is linearly indepndent}. $"
   ]
  },
  {
   "cell_type": "markdown",
   "metadata": {},
   "source": [
    "#### **(2)** 정규 방정식은 다음과 같다.\n",
    "#### $ \\hspace{0.15cm} \\Rightarrow{} \\hat{\\textbf{x}} = (A^{T}A)^{-1}A^{T}\\textbf{b} $"
   ]
  },
  {
   "cell_type": "markdown",
   "metadata": {},
   "source": [
    "#### **(3)** QR 분해를 사용한다면 다음과 같이 정의된다.\n",
    "#### $ \\Rightarrow{} \\hat{\\textbf{x}} = R^{-1}Q^{T}\\textbf{b} \\;\\; \\text{ where } \\, A = QR $"
   ]
  },
  {
   "cell_type": "markdown",
   "metadata": {},
   "source": [
    "<b></b>"
   ]
  },
  {
   "cell_type": "markdown",
   "metadata": {},
   "source": [
    "> ## **가중 최소제곱 문제(Weighted Least-squares Problem)**"
   ]
  },
  {
   "cell_type": "markdown",
   "metadata": {},
   "source": [
    "#### **(1) 정의** : **[CONTENTS]**"
   ]
  }
 ],
 "metadata": {
  "kernelspec": {
   "display_name": "Python 3",
   "language": "python",
   "name": "python3"
  },
  "language_info": {
   "codemirror_mode": {
    "name": "ipython",
    "version": 3
   },
   "file_extension": ".py",
   "mimetype": "text/x-python",
   "name": "python",
   "nbconvert_exporter": "python",
   "pygments_lexer": "ipython3",
   "version": "3.11.3"
  },
  "orig_nbformat": 4
 },
 "nbformat": 4,
 "nbformat_minor": 2
}
