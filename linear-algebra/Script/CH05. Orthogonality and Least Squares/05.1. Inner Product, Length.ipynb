{
 "cells": [
  {
   "attachments": {},
   "cell_type": "markdown",
   "metadata": {},
   "source": [
    "# CH05.1. **Inner Product, Length**"
   ]
  },
  {
   "cell_type": "markdown",
   "metadata": {},
   "source": [
    "> ## **내적(Inner Product)**"
   ]
  },
  {
   "cell_type": "markdown",
   "metadata": {},
   "source": [
    "#### **(1) 정의** : 두 벡터의 각 성분 곱의 합으로 계산하는 연산\n",
    "#### $ \\Rightarrow{} \\textbf{u} \\cdot{} \\textbf{v} = \\begin{bmatrix} u_{1} \\\\ u_{2} \\\\ \\cdots{} \\\\ u_{n} \\end{bmatrix} \\cdot{} \\begin{bmatrix} v_{1} \\\\ v_{2} \\\\ \\cdots{} \\\\ v_{n} \\end{bmatrix} = < \\textbf{u}, \\textbf{v} > = \\textbf{u}^{T} \\textbf{v} = u_{1}v_{1} + u_{2}v_{2} + \\cdots{} + u_{n}v_{n} $"
   ]
  },
  {
   "cell_type": "markdown",
   "metadata": {},
   "source": [
    "#### **(2) 성질** (Theorem 5-1) : \n",
    "#### $ \\hspace{0.15cm} $ ① $ \\, \\textbf{u} \\cdot{} \\textbf{v} = \\textbf{v} \\cdot{} \\textbf{u} \\;\\; $ (내적의 교환법칙)\n",
    "#### $ \\hspace{0.15cm} $ ② $ \\, (\\textbf{u}+\\textbf{v}) \\cdot{} \\textbf{w} = \\textbf{u} \\cdot{} \\textbf{w} + \\textbf{v} \\cdot{} \\textbf{w} \\;\\; $ (내적의 분배법칙) \n",
    "#### $ \\hspace{0.15cm} $ ③ $ \\, (c\\textbf{u}) \\cdot{} \\textbf{v} = c(\\textbf{u}\\cdot{}\\textbf{v}) \\;\\; $ (스칼라곱의 결합법칙)\n",
    "#### $ \\hspace{0.15cm} $ ④ $ \\, \\textbf{u} \\cdot{} \\textbf{u} \\geq{} 0 \\;\\; \\text{ if and only if } \\, \\textbf{u} \\neq{} \\textbf{0} \\;\\; $ (내적의 비음수성)\n",
    "#### $ \\hspace{0.55cm} \\Leftrightarrow{} \\textbf{u} \\cdot{} \\textbf{u} = 0 \\;\\; \\text{ if and only if } \\, \\textbf{u} = \\textbf{0} $"
   ]
  },
  {
   "cell_type": "markdown",
   "metadata": {},
   "source": [
    "#### **(3) 예시** :\n",
    "#### $ \\hspace{0.15cm} $ ① **[CONTENTS]**\n",
    "#### $ \\hspace{0.15cm} $ ② **[CONTENTS]**"
   ]
  },
  {
   "cell_type": "markdown",
   "metadata": {},
   "source": [
    "<b></b>"
   ]
  },
  {
   "cell_type": "markdown",
   "metadata": {},
   "source": [
    "> ## **벡터의 길이(Length of a Vector;norm)**"
   ]
  },
  {
   "cell_type": "markdown",
   "metadata": {},
   "source": [
    "#### **(1) 정의** : 원점 $ \\, \\textbf{0} $ 에서부터 해당 벡터의 좌표까지의 거리\n",
    "#### $ \\Rightarrow{} || \\textbf{v} || = \\sqrt{\\textbf{v} \\cdot{} \\textbf{v}} = \\sqrt{v_{1}^{2}+v_{2}^{2}+\\cdots{}+v_{n}^{2}} $\n",
    "#### $ \\hspace{0.15cm} $ <img src=\"../../img/05.1. Inner Product, Length (1).png\" width=\"30%\" height=\"30%\"/></img>"
   ]
  },
  {
   "cell_type": "markdown",
   "metadata": {},
   "source": [
    "#### **(`PLUS`)** 이 때 해당 벡터 길이를 L2 놈(norm)이라고 정의함"
   ]
  },
  {
   "cell_type": "markdown",
   "metadata": {},
   "source": [
    "#### **(2) 성질** :\n",
    "#### $ \\hspace{0.15cm} $ ① $ \\, || \\textbf{v} || \\geq{} 0, \\;\\; || \\textbf{v} || = 0 \\;\\; \\text{ if and if only } \\, \\textbf{v} = \\textbf{0} \\;\\; $ (비음수성)\n",
    "#### $ \\hspace{0.15cm} $ ② $ \\, || c\\textbf{v} || = | c | \\times{} || \\textbf{v} || \\;\\; $ (양의 동차성)\n",
    "#### $ \\hspace{0.15cm} $ ③ $ \\, || \\textbf{u} + \\textbf{v} || \\leq{} || \\textbf{u} || + || \\textbf{v} || \\;\\; $ (삼각 부등식)"
   ]
  },
  {
   "cell_type": "markdown",
   "metadata": {},
   "source": [
    "#### **(`PLUS`) 정규화(normalization)** : 어떤 벡터를 길이가 $ \\, 1 $ 인 단위 벡터(unit vector)로 변환하는 과정 \n",
    "#### $ \\hspace{0.15cm} \\Rightarrow{} \\textbf{v} = \\frac{1}{|| \\textbf{u}||} \\textbf{v} $ "
   ]
  },
  {
   "cell_type": "markdown",
   "metadata": {},
   "source": [
    "#### **(3) 예시** :\n",
    "#### $ \\hspace{0.15cm} $ ① **[CONTENTS]**\n",
    "#### $ \\hspace{0.15cm} $ ② **[CONTENTS]**"
   ]
  },
  {
   "cell_type": "markdown",
   "metadata": {},
   "source": [
    "<b></b>"
   ]
  },
  {
   "cell_type": "markdown",
   "metadata": {},
   "source": [
    "> ## **두 벡터 사이의 거리(Distance between $ \\, 2 \\, $ Vectors)**"
   ]
  },
  {
   "cell_type": "markdown",
   "metadata": {},
   "source": [
    "#### **(1) 정의** : 두 벡터 간의 차이(차원 적 간격)의 거리  \n",
    "#### $ \\Rightarrow{} \\text{dist}(\\textbf{u}, \\textbf{v}) = || \\textbf{u} - \\textbf{v} || $\n",
    "<img src=\"../../img/05.1. Inner Product, Length (2).png\" width=\"15%\" height=\"15%\"/></img>"
   ]
  },
  {
   "cell_type": "markdown",
   "metadata": {},
   "source": [
    "#### **(`PLUS`) 거리의 기하학적 이해** :\n",
    "#### $ \\hspace{0.15cm} $<img src=\"../../img/05.1. Inner Product, Length (3).png\" width=\"15%\" height=\"15%\"/></img> "
   ]
  },
  {
   "cell_type": "markdown",
   "metadata": {},
   "source": [
    "#### **(2) 예시** :\n",
    "#### $ \\hspace{0.15cm} $ ① **[CONTENTS]**\n",
    "#### $ \\hspace{0.15cm} $ ② **[CONTENTS]**"
   ]
  }
 ],
 "metadata": {
  "kernelspec": {
   "display_name": "Python 3",
   "language": "python",
   "name": "python3"
  },
  "language_info": {
   "codemirror_mode": {
    "name": "ipython",
    "version": 3
   },
   "file_extension": ".py",
   "mimetype": "text/x-python",
   "name": "python",
   "nbconvert_exporter": "python",
   "pygments_lexer": "ipython3",
   "version": "3.11.3"
  },
  "orig_nbformat": 4
 },
 "nbformat": 4,
 "nbformat_minor": 2
}
