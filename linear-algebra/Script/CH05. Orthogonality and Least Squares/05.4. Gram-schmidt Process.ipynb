{
 "cells": [
  {
   "attachments": {},
   "cell_type": "markdown",
   "metadata": {},
   "source": [
    "# CH05.4. **Gram-schmidt Process**"
   ]
  },
  {
   "cell_type": "markdown",
   "metadata": {},
   "source": [
    "> ## **그람-슈미트 과정(Gram-Schmidt Process)**"
   ]
  },
  {
   "cell_type": "markdown",
   "metadata": {},
   "source": [
    "#### **(1) 정의** : 어떠한 부분공간의 기저를 직교 기저(orthogonal basis)로 변환하는 연산\n",
    "#### $ = $ 어떠한 부분공간을 생성하고 선형독립인 벡터 집합을 직교 집합으로 변환하는 연산\n",
    "#### $ \\Rightarrow{} W = \\text{span}(\\mathcal{B}) = \\text{span}(\\mathcal{O}) \\;\\; \\text{where } \\; \\mathcal{B} = \\{ \\textbf{x}_{1}, \\textbf{x}_{2}, \\cdots{}, \\textbf{x}_{n} \\} \\, \\text{ is basis of } \\, W $\n",
    "#### $ \\hspace{4.5cm} \\text{and } \\; \\mathcal{O} = \\{ \\textbf{v}_{1}, \\textbf{v}_{2}, \\cdots{}, \\textbf{v}_{n} \\} \\, \\text{ is } \\textbf{orthogonal} \\text{ basis of } \\, W $"
   ]
  },
  {
   "cell_type": "markdown",
   "metadata": {},
   "source": [
    "#### **(2) 연산 과정** : 어떠한 기저 $ \\{ \\textbf{x}_{1}, \\cdots{}, \\textbf{x}_{n} \\} $와 동일한 공간의 직교기저 $ \\{ \\textbf{v}_{1}, \\cdots{}, \\textbf{v}_{n} \\} $가 존재할 때 아래와 같이 연산함\n",
    "#### $ \\Rightarrow{} \\textbf{v}_{k} = \\textbf{x}_{k} - \\sum^{k-1}_{i=1} \\frac{\\textbf{x}_{k}\\cdot{}\\textbf{v}_{i}}{\\textbf{v}_{i}\\cdot{}\\textbf{v}_{i}} \\textbf{v}_{i} = \\textbf{x}_{k} - \\sum^{k-1}_{i=1} \\text{proj}_{\\textbf{v}_{i}}(\\textbf{x}_{k}) $"
   ]
  },
  {
   "cell_type": "markdown",
   "metadata": {},
   "source": [
    "#### **(2) 예시** :\n",
    "##### $ \\hspace{0.15cm} $ ① 어떠한 부분공간 $ W = \\text{span}(\\{ \\textbf{v}_{1}, \\textbf{v}_{2}, \\textbf{v}_{3} \\}) $에서 $ \\, W $의 직교 기저 $ \\mathcal{O} $를 구하고자 할 때\n",
    "##### $ \\hspace{0.45cm} \\text{if } \\; \\textbf{v}_{1} = \\begin{bmatrix} 1 \\\\ 1 \\\\ 1 \\\\ 1 \\end{bmatrix}, \\;\\; \\textbf{v}_{2} = \\begin{bmatrix} 0 \\\\ 1 \\\\ 1 \\\\ 1 \\end{bmatrix}, \\;\\; \\textbf{v}_{3} = \\begin{bmatrix} 0 \\\\ 0 \\\\ 1 \\\\ 1 \\end{bmatrix} $\n",
    "##### $ \\hspace{0.6cm} \\textbf{u}_{1} = \\textbf{v}_{1} $\n",
    "##### $ \\hspace{0.6cm} \\textbf{u}_{2} = \\textbf{v}_{2} - \\frac{\\textbf{v}_{2}\\cdot{}\\textbf{v}_{1}}{\\textbf{v}_{1}\\cdot{}\\textbf{v}_{1}} \\textbf{v}_{1} = \\textbf{v}_{2} = \\begin{bmatrix} 0 \\\\ 1 \\\\ 1 \\\\ 1 \\end{bmatrix} - \\frac{3}{4} \\begin{bmatrix} 1 \\\\ 1 \\\\ 1 \\\\ 1 \\end{bmatrix} = \\frac{1}{4} \\begin{bmatrix} -3 \\\\ 1 \\\\ 1 \\\\ 1 \\end{bmatrix} $\n",
    "##### $ \\hspace{0.6cm} \\textbf{u}_{3} = \\textbf{v}_{3} - \\frac{\\textbf{v}_{3}\\cdot{}\\textbf{v}_{2}}{\\textbf{v}_{2}\\cdot{}\\textbf{v}_{2}} \\textbf{v}_{2} - \\frac{\\textbf{v}_{3}\\cdot{}\\textbf{v}_{1}}{\\textbf{v}_{1}\\cdot{}\\textbf{v}_{1}} \\textbf{v}_{1} = \\frac{1}{3} \\begin{bmatrix} 0 \\\\ -2 \\\\ 1 \\\\ 1 \\end{bmatrix} $\n",
    "##### $ \\hspace{0.45cm} \\therefore{} \\mathcal{O} = \\{ \\textbf{u}_{1}, \\textbf{u}_{2}, \\textbf{u}_{3} \\} $\n",
    "##### $ \\hspace{0.15cm} $ ② **[CONTENTS]**"
   ]
  },
  {
   "cell_type": "markdown",
   "metadata": {},
   "source": [
    "<b></b>"
   ]
  },
  {
   "cell_type": "markdown",
   "metadata": {},
   "source": [
    "> ## **QR 분해(QR Factorization)**"
   ]
  },
  {
   "cell_type": "markdown",
   "metadata": {},
   "source": [
    "#### **(1) 정의** : 어떠한 행렬의 열 벡터 집합이 선형 독립일 때, 그 행렬을 **정규** 직교 행렬과 상삼각행렬로 분해하는 연산 \n",
    "#### $ \\Rightarrow{} \\underset{m\\times{}n}{A} = \\begin{bmatrix} \\textbf{a}_{1} & \\cdots{} & \\textbf{a}_{n} \\end{bmatrix} = \\underset{m\\times{}n}{\\begin{bmatrix} \\textbf{u}_{1} & \\textbf{u}_{2} & \\cdots{} & \\textbf{u}_{n} \\end{bmatrix}} \\underset{n\\times{}n}{\\begin{bmatrix} r_{1,1}&r_{1,2}&\\cdots{}&r_{n,n} \\\\ 0 & r_{2,2} & \\cdots{} & r_{2,n} \\\\ \\vdots{} & \\vdots{} &\\ddots{} & \\vdots{} \\\\ 0 & 0 & \\cdots{} & r_{n,n} \\end{bmatrix}} = QR $\n",
    "#### $ \\hspace{0.45cm} \\text{where } \\; \\{ \\textbf{a}_{1}, \\cdots{},\\textbf{a}_{n} \\} \\, \\text{ is linearly indepndent} $\n",
    "#### $ \\hspace{0.45cm} \\text{and } \\; \\{ \\textbf{u}_{1}, \\cdots{}, \\textbf{u}_{n} \\} \\, \\text{ is orthonormal basis for } \\, \\mathbb{R}^{m} $\n",
    "#### $ \\hspace{0.45cm} \\text{and } \\; r_{i,i} \\neq{} 0 $"
   ]
  },
  {
   "cell_type": "markdown",
   "metadata": {},
   "source": [
    "##### **(⚠️)** 정확하게는 이지만, 유일한 상삼각행렬을 구하기 위해 $ r_{i,i} \\geq{} 0 $이라는 제약 조건을 정의함"
   ]
  },
  {
   "cell_type": "markdown",
   "metadata": {},
   "source": [
    "#### **(2) 목적** : \n",
    "##### $ \\hspace{0.15cm} $ ① \n",
    "##### $ \\hspace{0.15cm} $ ② 계수 행렬이 $ 5 $ 행(열) 이상일 경우($ = $ 특성방정식이 $ 5 $차 이상) 고유값을 근사 계산하기 위함"
   ]
  },
  {
   "cell_type": "markdown",
   "metadata": {},
   "source": [
    "#### **(2) 풀이 순서** :\n",
    "##### $ \\hspace{0.15cm} $ ① $ \\, A $ 의 열 벡터 공간에 대한 직교 기저를 구함 \n",
    "##### $ \\hspace{0.45cm} \\text{if } \\; A = \\begin{bmatrix} 1&0&0 \\\\ 1&1&0 \\\\ 1&1&1 \\\\ 1&1&1 \\end{bmatrix}, \\;\\; \\text{col}(A) = \\{ \\begin{bmatrix} 1 \\\\ 1 \\\\ 1 \\\\ 1 \\end{bmatrix}, \\begin{bmatrix} 0 \\\\ 1 \\\\ 1 \\\\ 1 \\end{bmatrix}, \\begin{bmatrix} 0 \\\\ 0 \\\\ 1 \\\\ 1 \\end{bmatrix} \\} = \\{ \\textbf{a}_{1}, \\textbf{a}_{2}, \\textbf{a}_{3} \\} $\n",
    "##### $ \\hspace{0.6cm} \\textbf{v}_{1} = \\textbf{a}_{1} = \\begin{bmatrix} 1 \\\\ 1 \\\\ 1 \\\\ 1 \\end{bmatrix} $\n",
    "##### $ \\hspace{0.6cm} \\textbf{v}_{2} = \\textbf{a}_{2} - \\frac{\\textbf{a}_{2}\\cdot{}\\textbf{v}_{1}}{\\textbf{v}_{1}\\cdot{}\\textbf{v}_{1}} \\textbf{v}_{1} = \\frac{1}{4} \\begin{bmatrix} -3 \\\\ 1 \\\\ 1 \\\\ 1 \\end{bmatrix}, \\;\\; \\textbf{v}^{'}_{2} = 4 \\textbf{v}_{2} = \\begin{bmatrix} -3 \\\\ 1 \\\\ 1 \\\\ 1 \\end{bmatrix} $ \n",
    "##### $ \\hspace{0.6cm} \\textbf{v}_{3} = \\textbf{a}_{3} - \\frac{\\textbf{a}_{3}\\cdot{}\\textbf{v}_{2}}{\\textbf{v}_{2}\\cdot{}\\textbf{v}_{2}} \\textbf{v}_{2} - \\frac{\\textbf{a}_{3}\\cdot{}\\textbf{v}_{1}}{\\textbf{v}_{1}\\cdot{}\\textbf{v}_{1}} \\textbf{v}_{1} = \\frac{1}{3} \\begin{bmatrix} 0 \\\\ -2 \\\\ 1 \\\\ 1 \\end{bmatrix}, \\;\\; \\textbf{v}^{'}_{3} = 3 \\textbf{v}_{3} = \\begin{bmatrix} 0 \\\\ -2 \\\\ 1 \\\\ 1 \\end{bmatrix} $\n",
    "##### $ \\hspace{0.45cm} \\Rightarrow{} \\text{span}(\\{ \\textbf{v}_{1}, \\textbf{v}_{2}^{'}, \\textbf{v}_{3}^{'} \\}) = \\text{span}(\\{ \\textbf{v}_{1}, \\textbf{v}_{2}, \\textbf{v}_{3} \\}) $\n",
    "##### $ \\hspace{0.15cm} $ ② 직교 기저를 정규화하여 정규직교 행렬 $ Q $ 를 생성\n",
    "##### $ \\hspace{0.45cm} \\textbf{u}_{1} = \\frac{1}{||\\textbf{v}_{1}||}\\textbf{v}_{1} = \\frac{1}{2} \\textbf{v}_{1}, \\;\\; \\textbf{u}_{2} = \\frac{1}{||\\textbf{v}_{2}||}\\textbf{v}_{2}^{'} = \\frac{1}{\\sqrt{12}} \\begin{bmatrix} -3 \\\\ 1 \\\\ 1 \\\\ 1 \\end{bmatrix}, \\;\\; \\textbf{u}_{3} = \\frac{1}{||\\textbf{v}_{3}||}\\textbf{v}_{3}^{'} = \\frac{1}{\\sqrt{6}} \\begin{bmatrix} 0 \\\\ -2 \\\\ 1 \\\\ 1 \\end{bmatrix} $\n",
    "##### $ \\hspace{0.45cm} \\Rightarrow{} Q = \\begin{bmatrix} 1/2 & -3/\\sqrt{12} & 0 \\\\ 1/2 & 1/\\sqrt{12} & -2/\\sqrt{6} \\\\ 1/2 & 1/\\sqrt{12} & 1/\\sqrt{6} \\\\ 1/2 & 1/\\sqrt{12} & 1/\\sqrt{6} \\end{bmatrix} $ \n",
    "##### $ \\hspace{0.15cm} $ ③ $ \\, R = Q^{T}A $을 이용하여 도출 $ \\;\\; $ ($ \\because{} Q^{T}A = Q^{T}QR = R $)\n",
    "##### $ \\hspace{0.45cm} R = Q^{T}A = \\begin{bmatrix} 1/2 & 1/2 & 1/2 & 1/2 \\\\ -3/\\sqrt{12} & 1/\\sqrt{12} & 1/\\sqrt{12} & 1/\\sqrt{12} \\\\ 0 & -2/\\sqrt{6} & 1/\\sqrt{6} & /\\sqrt{6} \\end{bmatrix} \\begin{bmatrix} 1&0&0 \\\\ 1&1&0 \\\\ 1&1&1 \\\\ 1&1&1 \\end{bmatrix} = \\begin{bmatrix} 2 & 3/2 & 1 \\\\ 0 & 3/\\sqrt{12} & 2/\\sqrt{12} \\\\ 0 & 0 & 2/\\sqrt{6} \\end{bmatrix} $\n",
    "##### $ \\hspace{0.45cm} \\therefore{} A = QR = \\begin{bmatrix} 1/2 & -3/\\sqrt{12} & 0 \\\\ 1/2 & 1/\\sqrt{12} & -2/\\sqrt{6} \\\\ 1/2 & 1/\\sqrt{12} & 1/\\sqrt{6} \\\\ 1/2 & 1/\\sqrt{12} & 1/\\sqrt{6} \\end{bmatrix} \\begin{bmatrix} 2 & 3/2 & 1 \\\\ 0 & 3/\\sqrt{12} & 2/\\sqrt{12} \\\\ 0 & 0 & 2/\\sqrt{6} \\end{bmatrix} $"
   ]
  },
  {
   "cell_type": "markdown",
   "metadata": {},
   "source": [
    "##### **(`PLUS`)** 만약 어떠한 대각 성분 $ r_{k,k} $의 부호 변경이 필요하다면 $ \\textbf{u}_{k} $의 부호와 $ \\, r_{k,k} $부터 $ r_{k,n} $까지 부호를 변경함\n",
    "##### $ \\hspace{0.15cm} \\text{if } \\; \\textbf{u}_{2} = - \\frac{1}{\\sqrt{12}} \\begin{bmatrix} -3 \\\\ 1 \\\\ 1 \\\\ 1 \\end{bmatrix}, \\;\\; R = \\begin{bmatrix} 2 & 3/2 & 1 \\\\ 0 & \\bf{-3/\\sqrt{12}} & \\bf{-2/\\sqrt{12}} \\\\ 0 & 0 & 2/\\sqrt{6} \\end{bmatrix} $\n",
    "##### $ \\hspace{0.15cm} \\Rightarrow{} \\, \\text{switch the sign of \\,} \\textbf{u}_{2}, \\textbf{r}_{22}, \\textbf{r}_{23}. $"
   ]
  },
  {
   "cell_type": "markdown",
   "metadata": {},
   "source": [
    "#### **(3) 예시** :\n",
    "##### $ \\hspace{0.15cm} $ ① **[CONTENTS]**\n",
    "##### $ \\hspace{0.15cm} $ ② **[CONTENTS]**"
   ]
  }
 ],
 "metadata": {
  "kernelspec": {
   "display_name": "Python 3",
   "language": "python",
   "name": "python3"
  },
  "language_info": {
   "codemirror_mode": {
    "name": "ipython",
    "version": 3
   },
   "file_extension": ".py",
   "mimetype": "text/x-python",
   "name": "python",
   "nbconvert_exporter": "python",
   "pygments_lexer": "ipython3",
   "version": "3.11.3"
  },
  "orig_nbformat": 4
 },
 "nbformat": 4,
 "nbformat_minor": 2
}
