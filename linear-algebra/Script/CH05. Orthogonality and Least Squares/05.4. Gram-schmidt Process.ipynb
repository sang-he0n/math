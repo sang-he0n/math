{
 "cells": [
  {
   "attachments": {},
   "cell_type": "markdown",
   "metadata": {},
   "source": [
    "# CH05.4. **Gram-schmidt Process**"
   ]
  },
  {
   "cell_type": "markdown",
   "metadata": {},
   "source": [
    "> ## **그람-슈미트 과정(Gram-Schmidt Process)**"
   ]
  },
  {
   "cell_type": "markdown",
   "metadata": {},
   "source": [
    "#### **(1) 정의** : 어떠한 부분 공간 $ \\, \\mathbb{W} $ 의 기저 $ \\, \\mathcal{B} $ 를 **직교(orthogonal) 기저 $ \\, \\mathcal{O} $ 로 변환**하는 연산 과정\n",
    "#### $ \\Rightarrow{} \\mathbb{W} = \\text{span}(\\mathcal{B}) = \\text{span}(\\mathcal{O}) $\n",
    "#### $ \\hspace{0.3cm} \\text{where } \\, \\mathcal{B} = \\text{span}\\{ \\textbf{x}_{1}, \\textbf{x}_{2}, \\cdots{}, \\textbf{x}_{n} \\} \\, \\text{ is basis for } \\, \\mathbb{W} $\n",
    "#### $ \\hspace{0.3cm} \\text{and } \\, \\mathcal{O} = \\text{span}\\{ \\textbf{v}_{1}, \\textbf{v}_{2}, \\cdots{}, \\textbf{v}_{n} \\} \\, \\text{ is orthogonal basis for } \\, \\mathbb{W} $\n",
    "#### $ \\hspace{0.3cm} \\text{and } \\, \\textbf{v}_{k} = x_{k} - \\displaystyle\\sum^{k-1}_{i=1} \\frac{\\textbf{x}_{k}\\cdot{}\\textbf{v}_{i}}{\\textbf{v}_{i}\\cdot{}\\textbf{v}_{i}} \\textbf{v}_{i} = x_{k} - \\displaystyle\\sum^{k-1}_{i=1} \\text{proj}_{\\textbf{v}_{i}}(\\textbf{x}_{k}) $"
   ]
  },
  {
   "cell_type": "markdown",
   "metadata": {},
   "source": [
    "#### **(`PLUS`)** 직교 기저 $ \\, \\mathcal{O} \\, $ 역시 부분공간 $ \\, \\mathbb{W} $ 의 기저임"
   ]
  },
  {
   "cell_type": "markdown",
   "metadata": {},
   "source": [
    "#### **(2) 연산 과정** :\n",
    "#### **[LATEX]**"
   ]
  },
  {
   "cell_type": "markdown",
   "metadata": {},
   "source": [
    "#### **(3) 성질** :\n",
    "#### $ \\hspace{0.15cm} $ ① 어느 직교 기저 벡터에 스칼라곱(scaling)하더라도 동일한 부분 공간을 형성함\n",
    "#### $ \\hspace{0.45cm} \\Rightarrow{}  \\text{span}\\{ \\textbf{v}_{1}, \\cdots{}, \\textbf{v}_{i}, \\cdots{}, \\textbf{v}_{n} \\} = \\text{span}\\{ \\textbf{v}_{1}, \\cdots{}, c\\textbf{v}_{i}, \\cdots{}, \\textbf{v}_{n} \\} = \\mathbb{W} $\n",
    "#### $ \\hspace{0.15cm} $ ② **[CONTENTS]**"
   ]
  },
  {
   "cell_type": "markdown",
   "metadata": {},
   "source": [
    "#### **(3) 예제** :\n",
    "#### $ \\hspace{0.15cm} $ ① 부분공간 $ \\, \\mathbb{W} = \\text{span}\\{ \\textbf{x}_{1}, \\textbf{x}_{2}, \\textbf{x}_{3} \\} $ 일 때, $ \\, \\mathbb{W} $ 의 직교 기저 $ \\, \\mathcal{O} $ 를 구하고자 할 때\n",
    "#### $ \\hspace{0.45cm} \\textbf{x}_{1} = \\begin{bmatrix} 1 \\\\ 1 \\\\ 1 \\\\ 1 \\end{bmatrix}, \\;\\; \\textbf{x}_{2} = \\begin{bmatrix} 0 \\\\ 1 \\\\ 1 \\\\ 1 \\end{bmatrix}, \\;\\; \\textbf{x}_{3} = \\begin{bmatrix} 0 \\\\ 0 \\\\ 1 \\\\ 1 \\end{bmatrix} $\n",
    "#### $ \\hspace{0.45cm} \\textbf{v}_{1} = \\textbf{x}_{1} $\n",
    "#### $ \\hspace{0.45cm} \\textbf{v}_{2} = \\textbf{x}_{2} - \\frac{\\textbf{x}_{2}\\cdot{}\\textbf{v}_{1}}{\\textbf{v}_{1}\\cdot{}\\textbf{v}_{1}} \\textbf{v}_{1} = \\textbf{x}_{2} = \\begin{bmatrix} 0 \\\\ 1 \\\\ 1 \\\\ 1 \\end{bmatrix} - \\frac{3}{4} \\begin{bmatrix} 1 \\\\ 1 \\\\ 1 \\\\ 1 \\end{bmatrix} = \\frac{1}{4} \\begin{bmatrix} -3 \\\\ 1 \\\\ 1 \\\\ 1 \\end{bmatrix}, \\;\\; \\textbf{v}^{'}_{2} = \\begin{bmatrix} -3 \\\\ 1 \\\\ 1 \\\\ 1 \\end{bmatrix} $\n",
    "#### $ \\hspace{0.45cm} \\textbf{v}_{3} = \\textbf{x}_{3} - \\frac{\\textbf{x}_{3}\\cdot{}\\textbf{v}_{2}}{\\textbf{v}_{2}\\cdot{}\\textbf{v}_{2}} \\textbf{v}_{2} - \\frac{\\textbf{x}_{3}\\cdot{}\\textbf{v}_{1}}{\\textbf{v}_{1}\\cdot{}\\textbf{v}_{1}} \\textbf{v}_{1} = \\frac{1}{3} \\begin{bmatrix} 0 \\\\ -2 \\\\ 1 \\\\ 1 \\end{bmatrix}, \\;\\; \\textbf{v}^{'}_{3} = \\begin{bmatrix} 0 \\\\ -2 \\\\ 1 \\\\ 1 \\end{bmatrix} $\n",
    "#### $ \\hspace{0.45cm} \\therefore{} \\mathcal{O} = \\{ \\textbf{v}_{1}, \\textbf{v}_{2}, \\textbf{v}_{3} \\} = \\{ \\textbf{v}_{1}, \\textbf{v}^{'}_{2}, \\textbf{v}^{'}_{3} \\} $\n",
    "#### $ \\hspace{0.15cm} $ ② **[CONTENTS]**"
   ]
  },
  {
   "cell_type": "markdown",
   "metadata": {},
   "source": [
    "<b></b>"
   ]
  },
  {
   "cell_type": "markdown",
   "metadata": {},
   "source": [
    "> ## **QR 분해(QR Factorization;Decomposition)**"
   ]
  },
  {
   "cell_type": "markdown",
   "metadata": {},
   "source": [
    "#### **(1) 정의** : 어떠한 행렬 $ \\, \\underset{m\\times{}n}{A} $ 의 열 집합이 선형 독립일 때 그 행렬을 정규직교행렬 $ \\, \\underset{m\\times{}n}{Q} $ 와 상삼각 행렬 $ \\, \\underset{n\\times{}n}{R} $ 로 분해하는 연산 \n",
    "#### $ \\Rightarrow{} \\underset{m\\times{}n}{A} = \\begin{bmatrix} \\textbf{a}_{1} & \\cdots{} & \\textbf{a}_{n} \\end{bmatrix} = \\begin{bmatrix} \\textbf{u}_{1} & \\textbf{u}_{2} & \\cdots{} & \\textbf{u}_{n} \\end{bmatrix} \\begin{bmatrix} r_{1,1}&r_{1,2}&\\cdots{}&r_{n,n} \\\\ 0 & r_{2,2} & \\cdots{} & r_{2,n} \\\\ \\vdots{} & \\vdots{} &\\ddots{} & \\vdots{} \\\\ 0 & 0 & \\cdots{} & r_{n,n} \\end{bmatrix} = QR $\n",
    "#### $ \\hspace{0.15cm} \\text{ where } \\, \\{ \\textbf{a}_{1}, \\cdots{},\\textbf{a}_{n} \\} \\, \\text{ is linearly indepndent} $\n",
    "#### $ \\hspace{0.15cm} \\text{ and } \\, \\{ \\textbf{u}_{1}, \\cdots{}, \\textbf{u}_{n} \\} \\, \\text{ is orthonormal basis for } \\, \\mathbb{R}^{m} $\n",
    "#### $ \\hspace{0.15cm} \\text{ and } \\, r_{i,i} > 0 \\;\\; \\text{ for } \\, 1 \\leq{} i \\leq{} n $"
   ]
  },
  {
   "cell_type": "markdown",
   "metadata": {},
   "source": [
    "#### **(`PLUS`)** 정확하게는 $ \\, r_{i,i} \\neq{} 0 $ 이지만, 유일한 행렬 $ \\, QR $ 를 구하기 위해 $ \\, 0 $ 보다 크다는 제약 조건을 생성"
   ]
  },
  {
   "cell_type": "markdown",
   "metadata": {},
   "source": [
    "#### **(2) 풀이 순서** :\n",
    "#### $ \\hspace{0.15cm} $ ① $ \\, A $ 의 열공간($ \\text{col}(A) $)에 대한 직교 기저를 구함 \n",
    "#### $ \\hspace{0.45cm} A = \\begin{bmatrix} 1&0&0 \\\\ 1&1&0 \\\\ 1&1&1 \\\\ 1&1&1 \\end{bmatrix}, \\;\\; \\text{col}(A) = \\{ \\begin{bmatrix} 1 \\\\ 1 \\\\ 1 \\\\ 1 \\end{bmatrix}, \\begin{bmatrix} 0 \\\\ 1 \\\\ 1 \\\\ 1 \\end{bmatrix}, \\begin{bmatrix} 0 \\\\ 0 \\\\ 1 \\\\ 1 \\end{bmatrix} \\} = \\{ \\textbf{x}_{1}, \\textbf{x}_{2}, \\textbf{x}_{3} \\} $\n",
    "#### $ \\hspace{0.45cm} \\textbf{v}_{1} = \\textbf{x}_{1}$\n",
    "#### $ \\hspace{0.45cm} \\textbf{v}_{2} = \\textbf{x}_{2} - \\frac{\\textbf{x}_{2}\\cdot{}\\textbf{v}_{1}}{\\textbf{v}_{1}\\cdot{}\\textbf{v}_{1}} \\textbf{v}_{1} = \\frac{1}{4} \\begin{bmatrix} -3 \\\\ 1 \\\\ 1 \\\\ 1 \\end{bmatrix}, \\;\\; \\textbf{v}^{'}_{2} = \\begin{bmatrix} -3 \\\\ 1 \\\\ 1 \\\\ 1 \\end{bmatrix} $ \n",
    "#### $ \\hspace{0.45cm} \\textbf{v}_{3} = \\textbf{x}_{3} - \\frac{\\textbf{x}_{3}\\cdot{}\\textbf{v}_{2}}{\\textbf{v}_{2}\\cdot{}\\textbf{v}_{2}} \\textbf{v}_{2} - \\frac{\\textbf{x}_{3}\\cdot{}\\textbf{v}_{1}}{\\textbf{v}_{1}\\cdot{}\\textbf{v}_{1}} \\textbf{v}_{1} = \\frac{1}{3} \\begin{bmatrix} 0 \\\\ -2 \\\\ 1 \\\\ 1 \\end{bmatrix}, \\;\\; \\textbf{v}^{'}_{3} = \\begin{bmatrix} 0 \\\\ -2 \\\\ 1 \\\\ 1 \\end{bmatrix} $\n",
    "#### $ \\hspace{0.15cm} $ ② 직교 기저를 정규화하여 정규직교 행렬 $ \\, Q $ 를 생성\n",
    "#### $ \\hspace{0.45cm} \\textbf{u}_{1} = \\frac{1}{2} \\textbf{v}_{1}, \\;\\; \\textbf{u}_{2} = \\frac{1}{\\sqrt{12}} \\begin{bmatrix} -3 \\\\ 1 \\\\ 1 \\\\ 1 \\end{bmatrix}, \\;\\; \\textbf{u}_{3} = \\frac{1}{\\sqrt{6}} \\begin{bmatrix} 0 \\\\ -2 \\\\ 1 \\\\ 1 \\end{bmatrix} $\n",
    "#### $ \\hspace{0.45cm} Q = \\begin{bmatrix} 1/2 & -3/\\sqrt{12} & 0 \\\\ 1/2 & 1/\\sqrt{12} & -2/\\sqrt{6} \\\\ 1/2 & 1/\\sqrt{12} & 1/\\sqrt{6} \\\\ 1/2 & 1/\\sqrt{12} & 1/\\sqrt{6} \\end{bmatrix} $ \n",
    "#### $ \\hspace{0.15cm} $ ③ $ \\, R = Q^{T}A $ 을 이용하여 도출 $ \\;\\; $ ($ \\because{} Q^{T}A = Q^{T}QR = R $)\n",
    "#### $ \\hspace{0.45cm} R = Q^{T}A = \\begin{bmatrix} 1/2 & 1/2 & 1/2 & 1/2 \\\\ -3/\\sqrt{12} & 1/\\sqrt{12} & 1/\\sqrt{12} & 1/\\sqrt{12} \\\\ 0 & -2/\\sqrt{6} & 1/\\sqrt{6} & /\\sqrt{6} \\end{bmatrix} \\begin{bmatrix} 1&0&0 \\\\ 1&1&0 \\\\ 1&1&1 \\\\ 1&1&1 \\end{bmatrix} = \\begin{bmatrix} 2 & 3/2 & 1 \\\\ 0 & 3/\\sqrt{12} & 2/\\sqrt{12} \\\\ 0 & 0 & 2/\\sqrt{6} \\end{bmatrix} $\n",
    "#### $ \\hspace{0.45cm} \\therefore{} A = QR = \\begin{bmatrix} 1/2 & -3/\\sqrt{12} & 0 \\\\ 1/2 & 1/\\sqrt{12} & -2/\\sqrt{6} \\\\ 1/2 & 1/\\sqrt{12} & 1/\\sqrt{6} \\\\ 1/2 & 1/\\sqrt{12} & 1/\\sqrt{6} \\end{bmatrix} \\begin{bmatrix} 2 & 3/2 & 1 \\\\ 0 & 3/\\sqrt{12} & 2/\\sqrt{12} \\\\ 0 & 0 & 2/\\sqrt{6} \\end{bmatrix} $"
   ]
  },
  {
   "cell_type": "markdown",
   "metadata": {},
   "source": [
    "#### **(`PLUS`)** 만약 어떠한 대각원소 $ \\, r_{k,k} $ 에서 부호 변경이 필요하다면 $ \\textbf{u}_{k} $ 의 부호와 $ \\, r_{k,k} $ 부터 $ \\, r_{k,n} $ 까지 부호를 변경함\n",
    "#### $ \\hspace{0.45cm} \\text{if } \\, \\textbf{u}_{2} = - \\frac{1}{\\sqrt{12}} \\begin{bmatrix} -3 \\\\ 1 \\\\ 1 \\\\ 1 \\end{bmatrix}, \\;\\; R = \\begin{bmatrix} 2 & 3/2 & 1 \\\\ 0 & \\bf{-3/\\sqrt{12}} & \\bf{-2/\\sqrt{12}} \\\\ 0 & 0 & 2/\\sqrt{6} \\end{bmatrix} $\n",
    "#### $ \\hspace{0.45cm} \\Rightarrow{} \\, \\text{switch the sign of \\,} \\textbf{u}_{2}, \\textbf{r}_{22}, \\textbf{r}_{23}. $"
   ]
  },
  {
   "cell_type": "markdown",
   "metadata": {},
   "source": [
    "#### **(3) 예제** :\n",
    "#### $ \\hspace{0.15cm} $ ① **[CONTENTS]**\n",
    "#### $ \\hspace{0.15cm} $ ② **[CONTENTS]**"
   ]
  }
 ],
 "metadata": {
  "kernelspec": {
   "display_name": "Python 3",
   "language": "python",
   "name": "python3"
  },
  "language_info": {
   "codemirror_mode": {
    "name": "ipython",
    "version": 3
   },
   "file_extension": ".py",
   "mimetype": "text/x-python",
   "name": "python",
   "nbconvert_exporter": "python",
   "pygments_lexer": "ipython3",
   "version": "3.11.3"
  },
  "orig_nbformat": 4
 },
 "nbformat": 4,
 "nbformat_minor": 2
}
