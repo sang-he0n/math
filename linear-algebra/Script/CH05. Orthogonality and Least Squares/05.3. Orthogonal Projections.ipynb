{
 "cells": [
  {
   "attachments": {},
   "cell_type": "markdown",
   "metadata": {},
   "source": [
    "# CH05.3. **Orthogonal Projections**"
   ]
  },
  {
   "cell_type": "markdown",
   "metadata": {},
   "source": [
    "> ## **직교 투영;정사영(Orthogonal Projection)**"
   ]
  },
  {
   "cell_type": "markdown",
   "metadata": {},
   "source": [
    "#### **(1) 정의** : 어떠한 벡터를 특정한 부분공간으로 **수직**으로 내리는 과정(투영)\n",
    "#### $ \\Rightarrow{} \\text{proj}_{W}(\\textbf{y}) = d_{1} \\hat{\\textbf{y}}_{1} + \\cdots{} + d_{n} \\hat{\\textbf{y}}_{n} = \\hat{\\textbf{y}} \\;\\; \\text{ where } \\; \\hat{\\textbf{y}}_{i} \\in{} W $\n",
    "##### $ \\hspace{0.45cm} $ <img src=\"../../img/05.3. Orthogonal Projections (1).png\" width=\"40%\" height=\"40%\"/></img>"
   ]
  },
  {
   "cell_type": "markdown",
   "metadata": {},
   "source": [
    "<b></b>"
   ]
  },
  {
   "cell_type": "markdown",
   "metadata": {},
   "source": [
    "> ## **직교 기저를 이용한 투영(Projection using Orthogonal Basis)**"
   ]
  },
  {
   "cell_type": "markdown",
   "metadata": {},
   "source": [
    "#### **(1) 정의** : 어떠한 벡터를 특정한 부분공간으로 투영할 때 그 부분공간의 직교기저를 이용하여 직교투영벡터를 도출하는 과정\n",
    "#### $ \\Rightarrow{} \\text{proj}_{W}(\\textbf{y}) = \\frac{\\textbf{y} \\cdot{} \\textbf{u}_{1}}{\\textbf{u}_{1} \\cdot{} \\textbf{u}_{1}} \\textbf{u}_{1} + \\frac{\\textbf{y} \\cdot{} \\textbf{u}_{2}}{\\textbf{u}_{2} \\cdot{} \\textbf{u}_{2}} \\textbf{u}_{2} + \\cdots{} + \\frac{\\textbf{y} \\cdot{} \\textbf{u}_{n}}{\\textbf{u}_{n} \\cdot{} \\textbf{u}_{n}} \\textbf{u}_{n} = \\sum^{n}_{i=1} \\frac{\\textbf{y} \\cdot{} \\textbf{u}_{i}}{\\textbf{u}_{i} \\cdot{} \\textbf{u}_{i}} \\textbf{u}_{i} $\n",
    "#### $ \\hspace{0.45cm} \\text{where } \\; W = \\text{span}(\\{ \\textbf{u}_{1}, \\textbf{u}_{2}, \\cdots{}, \\textbf{u}_{n} \\}) \\; \\text{ and } \\; \\textbf{u}_{i} \\perp{} \\textbf{u}_{k}, \\;\\; i \\neq{} k  $"
   ]
  },
  {
   "cell_type": "markdown",
   "metadata": {},
   "source": [
    "#### **(2) 기하학적 해석** : \n",
    "##### $ \\hspace{0.15cm} $ ① 투영하고자 하는 부분공간이 선(line)일 경우\n",
    "##### $ \\hspace{0.45cm} $ <img src=\"../../img/05.3. Orthogonal Projections (2).png\" width=\"40%\" height=\"40%\"/></img>\n",
    "##### $ \\hspace{0.15cm} $ ② 투영하고자 하는 부분공간이 면(plane)일 경우\n",
    "##### $ \\hspace{0.45cm} $ <img src=\"../../img/05.3. Orthogonal Projections (3).png\" width=\"40%\" height=\"40%\"/></img>"
   ]
  },
  {
   "cell_type": "markdown",
   "metadata": {},
   "source": [
    "#### **(3) 예시** :\n",
    "##### $ \\hspace{0.15cm} $ ① $ \\, \\{ \\textbf{u}_{1}, \\textbf{u}_{2} \\} $ 가 벡터 공간 $ W $의 직교 기저일 때, 벡터 $ \\textbf{y} $의 직교 투영 벡터 $ \\hat{\\textbf{y}} $을 구하고자 할 경우\n",
    "##### $ \\hspace{0.45cm} \\text{if } \\; \\textbf{u}_{1} = \\begin{bmatrix} 2 \\\\ 5 \\\\ -1 \\end{bmatrix}, \\;\\; \\textbf{u}_{2} = \\begin{bmatrix} -2 \\\\ 1 \\\\ 1 \\end{bmatrix}, \\;\\; \\textbf{y} = \\begin{bmatrix} 1 \\\\ 2 \\\\ 3 \\end{bmatrix} $ \n",
    "##### $ \\hspace{0.6cm} \\textbf{y} \\cdot{} \\textbf{u}_{1} = 9, \\;\\; \\textbf{u}_{1} \\cdot{} \\textbf{u}_{1} = 30, \\;\\; \\textbf{y} \\cdot{} \\textbf{u}_{2} = 3, \\;\\; \\textbf{u}_{2} \\cdot{} \\textbf{u}_{2} = 6 $ \n",
    "##### $ \\hspace{0.45cm} \\therefore{} \\text{proj}_{W}(\\textbf{y}) = \\hat{\\textbf{y}} = \\frac{\\textbf{y} \\cdot{} \\textbf{u}_{1}}{\\textbf{u}_{1} \\cdot{} \\textbf{u}_{1}} \\textbf{u}_{1} + \\frac{\\textbf{y} \\cdot{} \\textbf{u}_{2}}{\\textbf{u}_{2} \\cdot{} \\textbf{u}_{2}} \\textbf{u}_{2} = \\frac{9}{30} \\begin{bmatrix} 2 \\\\ 5 \\\\ -1 \\end{bmatrix} + \\frac{3}{6} \\begin{bmatrix} -2 \\\\ 1 \\\\ 1 \\end{bmatrix} = \\begin{bmatrix} -\\frac{2}{5} \\\\ 2 \\\\ \\frac{1}{5} \\end{bmatrix} $\n",
    "##### $ \\hspace{0.15cm} $ ② **[CONTENTS]**"
   ]
  },
  {
   "cell_type": "markdown",
   "metadata": {},
   "source": [
    "<b><b>"
   ]
  },
  {
   "cell_type": "markdown",
   "metadata": {},
   "source": [
    "> ## (Theorem 5-10) **Orthogonal Projection using Orthonormal Basis**"
   ]
  },
  {
   "cell_type": "markdown",
   "metadata": {},
   "source": [
    "#### **(1)** 어떠한 벡터 집합 $ \\{ \\textbf{u}_{1}, \\cdots{}, \\textbf{u}_{n} \\} $가 부분공간 $ W $의 **정규 직교(orthonormal) 기저**일 때, $ \\, \\textbf{y} $에서 $ W $로의 투영은 다음과 같다.\n",
    "#### $ \\Rightarrow{} \\text{proj}_{W}(\\textbf{y}) = (\\textbf{y} \\cdot{} \\textbf{u}_{1})\\textbf{u}_{1} + \\cdots{} + (\\textbf{y} \\cdot{} \\textbf{u}_{n})\\textbf{u}_{n} \\;\\; \\text{ where } \\; \\{ \\textbf{u}_{1} , \\cdots{} , \\textbf{u}_{n} \\} \\, \\text{ is orthonormal basis of } \\, W $"
   ]
  },
  {
   "cell_type": "markdown",
   "metadata": {},
   "source": [
    "#### **(2)** 부분공간 $ W $의 정규 직교 (기저) 행렬 $ U $가 존재할 때 $ \\, \\textbf{y} $에서 $ W $로의 투영은 다음과 같다.\n",
    "#### $ \\Rightarrow{} \\text{proj}_{W}(\\textbf{y}) = UU^{T} \\textbf{y} \\;\\; \\text{ where } \\; U = \\begin{bmatrix} \\textbf{u}_{1} & \\cdots{} & \\textbf{u}_{n} \\end{bmatrix} $ "
   ]
  },
  {
   "cell_type": "markdown",
   "metadata": {},
   "source": [
    "##### **(`WHY?`)** \n",
    "##### $ \\hspace{0.15cm} \\text{proj}_{W}(\\textbf{y}) = (\\textbf{y} \\cdot{} \\textbf{u}_{1})\\textbf{u}_{1} + \\cdots{} + (\\textbf{y} \\cdot{} \\textbf{u}_{n})\\textbf{u}_{n} $\n",
    "##### $ \\hspace{1.65cm} = (\\textbf{u}_{1}^{T}\\textbf{y})\\textbf{u}_{1} + \\cdots{} + (\\textbf{u}_{n}^{T}\\textbf{y})\\textbf{u}_{n} = \\begin{bmatrix} \\textbf{u}_{1} & \\cdots{} & \\textbf{u}_{n} \\end{bmatrix} \\begin{bmatrix} \\textbf{u}_{1}^{T}\\textbf{y} \\\\ \\vdots{} \\\\ \\textbf{u}_{n}^{T}\\textbf{y} \\end{bmatrix} $ \n",
    "##### $ \\hspace{1.65cm} = \\begin{bmatrix} \\textbf{u}_{1} & \\cdots{} & \\textbf{u}_{n} \\end{bmatrix} \\begin{bmatrix} \\textbf{u}_{1}^{T} \\\\ \\vdots{} \\\\ \\textbf{u}_{n}^{T} \\end{bmatrix} \\textbf{y} = \\begin{bmatrix} \\textbf{u}_{1} & \\cdots{} & \\textbf{u}_{n} \\end{bmatrix} \\begin{bmatrix} \\textbf{u}_{1} & \\cdots{} & \\textbf{u}_{n} \\end{bmatrix}^{T} \\textbf{y} $\n",
    "##### $ \\hspace{0.15cm} \\therefore{} \\text{proj}_{W}(\\textbf{y}) = U U^{T} \\textbf{y} $"
   ]
  },
  {
   "cell_type": "markdown",
   "metadata": {},
   "source": [
    "<b></b>"
   ]
  },
  {
   "cell_type": "markdown",
   "metadata": {},
   "source": [
    "> ## **직교 여공간(Orthogonal Complements)**"
   ]
  },
  {
   "cell_type": "markdown",
   "metadata": {},
   "source": [
    "#### **(1) 정의** : 어떤 벡터 부분공간에 대해 직교하는 벡터 부분공간\n",
    "#### $ \\Rightarrow{} \\text{span}(\\{ \\textbf{v}_{1}, \\textbf{v}_{2}, \\cdots{}, \\textbf{v}_{n} \\}) = \\text{span}(\\{ \\textbf{u}_{1}, \\textbf{u}_{2}, \\cdots{}, \\textbf{u}_{m} \\})^{\\perp{}} \\;\\; \\text{ where } \\; \\textbf{v}_{i} \\cdot{} \\textbf{u}_{k} = 0 $"
   ]
  },
  {
   "cell_type": "markdown",
   "metadata": {},
   "source": [
    "#### **(2) 성질** : $ \\mathbb{R}^{n} $ 공간의 부분공간 $ W $가 존재할 때 아래가 성립함\n",
    "##### $ \\hspace{0.15cm} $ ① $ \\, (W^{\\perp{}})^{\\perp{}} = W $\n",
    "##### $ \\hspace{0.15cm} $ ② $ \\, \\dim{}(W) + \\dim{}(W^{\\perp{}}) = n $"
   ]
  },
  {
   "cell_type": "markdown",
   "metadata": {},
   "source": [
    "#### **(3) 예시** :\n",
    "##### $ \\hspace{0.15cm} $ ① 벡터 $ \\textbf{x} $가 벡터 집합 $ \\{ \\textbf{v}_{1}, \\cdots{} \\textbf{v}_{n} \\} $의 개별 벡터에 대하여 직교할 때, $ \\, \\textbf{x} $ 가 부분집합 $ W = \\text{span}(\\{ \\textbf{v}_{1}, \\cdots{} \\textbf{v}_{n} \\}) $에도 직교함을 보이고자 할 때 \n",
    "##### $ \\hspace{0.45cm} \\text{if } \\; \\textbf{x} \\cdot{} \\textbf{v}_{i} = 0 \\; \\text{ and } \\;  \\textbf{w} = c_{1} \\textbf{v}_{1} + \\cdots{} + c_{n} \\textbf{v}_{n}. $\n",
    "##### $ \\hspace{0.6cm} \\textbf{w} \\cdot{} \\textbf{x} = (c_{1} \\textbf{v}_{1} + \\cdots{} + c_{n} \\textbf{v}_{n}) \\cdot{} \\textbf{x} = c_{1} \\textbf{v}_{1} \\cdot{} \\textbf{x} + \\cdots{} + c_{n} \\textbf{v}_{n} \\cdot{} \\textbf{x} = 0 $\n",
    "##### $ \\hspace{0.45cm} \\therefore{} \\textbf{x} \\perp{} W $ \n",
    "##### $ \\hspace{0.15cm} $ ② $ \\mathbb{R}^{n} $ 공간의 부분공간 $ W $가 직교 여공간 $ W^{\\perp{}} $을 가질 때, $ W^{\\perp{}} $이 $ \\, \\mathbb{R}^{n} $ 공간의 부분공간임을 확인하고자 할 때\n",
    "##### $ \\hspace{0.45cm} \\text{if } \\; \\textbf{u} \\in{} W, \\;\\; \\{ \\textbf{z}_{1}, \\textbf{z}_{2} \\} \\in{} W^{\\perp{}}. $\n",
    "##### $ \\hspace{0.6cm} \\textbf{u} \\cdot{} \\textbf{0} = 0 \\; \\Rightarrow{} \\; \\textbf{0} \\in{} W^{\\perp{}} \\;\\; $ (영벡터 존재)\n",
    "##### $ \\hspace{0.6cm} \\textbf{u} \\cdot{} c \\textbf{z}_{1} = c \\textbf{u} \\cdot{} \\textbf{z}_{1} = 0 \\; \\Rightarrow{} \\; c\\textbf{z}_{1} \\in{} W^{\\perp{}} \\;\\; $ (스칼라곱 존재)\n",
    "##### $ \\hspace{0.6cm} \\textbf{u} \\cdot{} (\\textbf{z}_{1} + \\textbf{z}_{2}) = \\textbf{u} \\cdot{} \\textbf{z}_{1} + \\textbf{u} \\cdot{} \\textbf{z}_{2} = 0 \\; \\Rightarrow{} \\; (\\textbf{z}_{1} + \\textbf{z}_{2}) \\in{} W^{\\perp{}} \\;\\; $ (벡터합 존재)\n",
    "##### $ \\hspace{0.45cm} \\therefore{} W^{T} \\subset{} \\mathbb{R}^{n} $"
   ]
  },
  {
   "cell_type": "markdown",
   "metadata": {},
   "source": [
    "<b><b>"
   ]
  },
  {
   "cell_type": "markdown",
   "metadata": {},
   "source": [
    "> ## (Theorem 5-3) **Orthogonal Complements of Row and Column Spaces**"
   ]
  },
  {
   "cell_type": "markdown",
   "metadata": {},
   "source": [
    "#### 어떠한 행렬 $ A $의 행 공간의 직교 여공간은 $ A $의 영 공간(null space)이며, 열 공간의 직교 여공간은 전치 행렬 $ A^{T} $의 직교 여공간이다. \n",
    "#### $ \\Rightarrow{} \\text{Row}(A)^{\\perp{}} = \\text{Nul}(A) \\; \\text{ and } \\; \\text{Col}(A)^{\\perp{}} = \\text{Nul}(A^{T}) $"
   ]
  },
  {
   "cell_type": "markdown",
   "metadata": {},
   "source": [
    "##### **(`WHY?`)**\n",
    "##### $ \\hspace{0.15cm} \\text{if } \\; A\\textbf{x} = \\begin{bmatrix} \\textbf{a}_{1}^{T} \\\\ \\textbf{a}_{2}^{T} \\\\ \\vdots{} \\\\ \\textbf{a}_{m}^{T} \\end{bmatrix} \\textbf{x} = \\begin{bmatrix} \\textbf{a}_{1}^{T}\\textbf{x} \\\\ \\textbf{a}_{2}^{T} \\textbf{x} \\\\ \\vdots{} \\\\ \\textbf{a}_{m}^{T} \\textbf{x} \\end{bmatrix} = \\begin{bmatrix} 0 \\\\ 0 \\\\ \\vdots{} \\\\ 0 \\end{bmatrix} = \\textbf{0} $\n",
    "##### $ \\hspace{0.15cm} \\textbf{a}^{T}_{i} \\cdot{} \\textbf{x} = \\textbf{a}_{i} \\textbf{x} = 0 $ \n",
    "##### $ \\hspace{0.15cm} \\Rightarrow{} \\textbf{x} \\perp{} \\textbf{a}_{i}^{T} \\Leftrightarrow{} \\text{Nul}(\\textbf{a}_{i}) \\perp{} \\text{row}_{i}(A) $\n",
    "##### $ \\hspace{0.15cm} \\text{if } \\; A^{T}\\textbf{x} \\begin{bmatrix} \\textbf{a}_{1} \\\\ \\textbf{a}_{2} \\\\ \\vdots{} \\\\ \\textbf{a}_{n} \\end{bmatrix} \\textbf{x} = \\begin{bmatrix} \\textbf{a}_{1}\\textbf{x} \\\\ \\textbf{a}_{2}\\textbf{x} \\\\ \\vdots{} \\\\ \\textbf{a}_{n}\\textbf{x} \\end{bmatrix} = \\begin{bmatrix} 0 \\\\ 0 \\\\ \\vdots{} \\\\ 0 \\end{bmatrix} = \\textbf{0} $\n",
    "##### $ \\hspace{0.15cm} \\textbf{a}_{i} \\cdot{} \\textbf{x} = \\textbf{a}_{i}^{T} \\textbf{x} = 0 $ \n",
    "##### $ \\hspace{0.15cm} \\Rightarrow{} \\textbf{x} \\perp{} \\textbf{a}_{i} \\Leftrightarrow{} \\text{Nul}(\\textbf{a}^{T}_{i}) \\perp{} \\text{col}_{i}(A) $\n",
    "##### $ \\hspace{0.15cm} \\therefore{} \\text{Row}(A)^{\\perp{}} = \\text{Nul}(A), \\;\\; \\text{Col}(A)^{\\perp{}} = \\text{Nul}(A^{T}) $"
   ]
  },
  {
   "cell_type": "markdown",
   "metadata": {},
   "source": [
    "<b><b>"
   ]
  },
  {
   "cell_type": "markdown",
   "metadata": {},
   "source": [
    "> ## (Theorem 5-8) **The Orthogonal Decomposition Theorem**"
   ]
  },
  {
   "cell_type": "markdown",
   "metadata": {},
   "source": [
    "#### 어떠한 벡터 부분공간 $ W $ 가 $ \\, \\mathbb{R}^{n} $ 공간에 존재하고, 벡터 $ \\textbf{y} $가 $ \\, \\mathbb{R}^{n} $ 공간에 존재할 때, 벡터 $ \\textbf{y} $ 는 **유일하게** 정의할 수 있다.\n",
    "#### $ \\Rightarrow{} \\textbf{y} = \\text{proj}_{W}(\\textbf{y}) + \\text{proj}_{W}(\\textbf{y})^{\\perp{}} $ \n",
    "#### $ \\hspace{0.75cm} = \\hat{\\textbf{y}} + \\textbf{z} $\n",
    "<img src=\"../../img/05.3. Orthogonal Projections (4).png\" width=\"40%\" height=\"40%\"/></img>"
   ]
  },
  {
   "cell_type": "markdown",
   "metadata": {},
   "source": [
    "##### **(`PLUS`)** 벡터 $ \\, \\textbf{z} $는 $ \\, W $에 직교하는 성분(the component of $ \\, \\textbf{y} \\, $ orthogonal to $ \\, W $)이라고 하며, $ \\, W^{\\perp{}} $ 에 존재한다.\n",
    "##### $ \\Rightarrow{} \\textbf{z} = \\textbf{y} - \\hat{\\textbf{y}} \\in{} W^{\\perp{}} $ "
   ]
  },
  {
   "cell_type": "markdown",
   "metadata": {},
   "source": [
    "##### **(`PLUS`)** 벡터 $ \\textbf{y} $가 부분공간 $ W $ 안에 있을 경우, $ \\, \\textbf{y} $는 $ W $의 직교 투영 그 자체가 된다.\n",
    "##### $ \\Rightarrow{} \\textbf{y} = \\text{proj}_{W}(\\textbf{y}) = \\hat{\\textbf{y}} $ "
   ]
  },
  {
   "cell_type": "markdown",
   "metadata": {},
   "source": [
    "<b></b>"
   ]
  },
  {
   "cell_type": "markdown",
   "metadata": {},
   "source": [
    "> ## (Theorem 5-9) **The Best Approximation**"
   ]
  },
  {
   "cell_type": "markdown",
   "metadata": {},
   "source": [
    "#### 어떠한 벡터 $ \\, \\textbf{y} $를 부분공간 $ W $에 직교 투영한 벡터는 $ W $의 다른 모든 벡터보다 $ \\textbf{y} $에 **가장 가깝다**.\n",
    "#### $ \\Rightarrow{} || \\textbf{y} - \\text{proj}_{W}(\\textbf{y}) || < || \\textbf{y} - \\textbf{v} || $\n",
    "#### $ \\Leftrightarrow{} || \\textbf{y} - \\hat{\\textbf{y}} || = || \\textbf{z} || < || \\textbf{y} - \\textbf{v} || $\n",
    "<img src=\"../../img/05.3. Orthogonal Projections (5).png\" width=\"35%\" height=\"35%\"/></img>"
   ]
  }
 ],
 "metadata": {
  "kernelspec": {
   "display_name": "Python 3",
   "language": "python",
   "name": "python3"
  },
  "language_info": {
   "codemirror_mode": {
    "name": "ipython",
    "version": 3
   },
   "file_extension": ".py",
   "mimetype": "text/x-python",
   "name": "python",
   "nbconvert_exporter": "python",
   "pygments_lexer": "ipython3",
   "version": "3.11.3"
  },
  "orig_nbformat": 4
 },
 "nbformat": 4,
 "nbformat_minor": 2
}
