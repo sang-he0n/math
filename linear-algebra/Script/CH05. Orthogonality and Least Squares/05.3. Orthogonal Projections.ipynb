{
 "cells": [
  {
   "attachments": {},
   "cell_type": "markdown",
   "metadata": {},
   "source": [
    "# CH05.3. **Orthogonal Projections**"
   ]
  },
  {
   "cell_type": "markdown",
   "metadata": {},
   "source": [
    "> ## **직교 투영;정사영(Orthogonal Projection)**"
   ]
  },
  {
   "cell_type": "markdown",
   "metadata": {},
   "source": [
    "#### **(1) 정의** : 어떠한 벡터 $ \\, \\textbf{y} $ 가 직교 기저 $ \\, \\mathcal{B} $ 에 의해 선형 형성될 때, $ \\, \\mathcal{B} $ 의 부분 집합 $ \\, \\mathbb{W} $ 으로 투영하는 연산\n",
    "#### = $ \\, \\textbf{y} $ 에서 $ \\, \\mathbb{W} $ 으로 전사(onto)하는 직교 투영 연산\n",
    "#### $ \\Rightarrow{} \\text{proj}_{\\mathbb{W}}(\\textbf{y}) = \\frac{\\textbf{y}\\cdot{}\\textbf{v}_{1}}{\\textbf{v}_{1}\\cdot{}\\textbf{v}_{1}} \\textbf{v}_{1} + \\cdots{} + \\frac{\\textbf{y}\\cdot{}\\textbf{v}_{k}}{\\textbf{v}_{k}\\cdot{}\\textbf{v}_{k}} \\textbf{v}_{k} \\;\\; \\text{ where } \\, x_{1} \\textbf{v}_{1} + \\cdots{} + x_{n} \\textbf{v}_{n} = \\textbf{y} \\in{} \\mathbb{H} $\n",
    "#### $ \\hspace{5.8cm} \\text{ and } \\, \\mathcal{B} = \\{ \\textbf{v}_{1}, \\textbf{v}_{2}, \\cdots{}, \\textbf{v}_{n} \\} \\;\\; \\text{ with } \\, \\textbf{v}_{i} \\cdot{} \\textbf{v}_{k} = 0 \\;\\; \\text{ for all } \\, i \\neq{} k $\n",
    "#### $ \\hspace{5.8cm} \\text{ and } \\, \\mathbb{H} = \\text{span}\\{ \\textbf{v}_{1}, \\textbf{v}_{2}, \\cdots{}, \\textbf{v}_{n} \\} = \\text{span}(\\mathcal{B}) $\n",
    "#### $ \\hspace{5.8cm} \\text{ and } \\, \\text{span}\\{ \\textbf{v}_{1}, \\textbf{v}_{2}, \\cdots{}, \\textbf{v}_{k} \\}= \\mathbb{W} \\subset{} \\mathbb{H} \\;\\; \\text{ for } \\, 1 \\leq{} k \\leq{} n $"
   ]
  },
  {
   "cell_type": "markdown",
   "metadata": {},
   "source": [
    "#### **(2) 직교 투영의 기하학적 해석** :\n",
    "#### **[GRPAH]**"
   ]
  },
  {
   "cell_type": "markdown",
   "metadata": {},
   "source": [
    "#### **(3) 예시** :\n",
    "#### $ \\hspace{0.15cm} $ ① $ \\, \\{ \\textbf{u}_{1}, \\textbf{u}_{2} \\} $ 가 공간 $ \\, \\mathbb{W} $ 의 직교 기저일 때, 벡터 $ \\, y $ 의 직교 투영을 구하고자 할 경우\n",
    "#### $ \\hspace{0.45cm} \\textbf{u}_{1} = \\begin{bmatrix} 2 \\\\ 5 \\\\ -1 \\end{bmatrix}, \\;\\; \\textbf{u}_{2} = \\begin{bmatrix} -2 \\\\ 1 \\\\ 1 \\end{bmatrix}, \\;\\; \\textbf{y} = \\begin{bmatrix} 1 \\\\ 2 \\\\ 3 \\end{bmatrix} $ \n",
    "#### $ \\hspace{0.45cm} \\textbf{y} \\cdot{} \\textbf{u}_{1} = 9, \\;\\; \\textbf{u}_{1} \\cdot{} \\textbf{u}_{1} = 30, \\;\\; \\textbf{y} \\cdot{} \\textbf{u}_{2} = 3, \\;\\; \\textbf{u}_{2} \\cdot{} \\textbf{u}_{2} = 6 $ \n",
    "#### $ \\hspace{0.45cm} \\therefore{} \\text{proj}_{\\mathbb{W}}(\\textbf{y}) = \\frac{\\textbf{y} \\cdot{} \\textbf{u}_{1}}{\\textbf{u}_{1} \\cdot{} \\textbf{u}_{1}} \\textbf{u}_{1} + \\frac{\\textbf{y} \\cdot{} \\textbf{u}_{2}}{\\textbf{u}_{2} \\cdot{} \\textbf{u}_{2}} \\textbf{u}_{2} = \\frac{9}{30} \\begin{bmatrix} 2 \\\\ 5 \\\\ -1 \\end{bmatrix} + \\frac{3}{6} \\begin{bmatrix} -2 \\\\ 1 \\\\ 1 \\end{bmatrix} = \\begin{bmatrix} -\\frac{2}{5} \\\\ 2 \\\\ \\frac{1}{5} \\end{bmatrix} $\n",
    "#### $ \\hspace{0.15cm} $ ② **[CONTENTS]**"
   ]
  },
  {
   "cell_type": "markdown",
   "metadata": {},
   "source": [
    "<b><b>"
   ]
  },
  {
   "cell_type": "markdown",
   "metadata": {},
   "source": [
    "> ## (Theorem 5-8) **The Orthogonal Decomposition Theorem**"
   ]
  },
  {
   "cell_type": "markdown",
   "metadata": {},
   "source": [
    "#### 어떠한 벡터 공간 $ \\, W $ 가 $ \\, \\mathbb{R}^{n} $ 공간에 존재하고, 벡터 $ \\, \\textbf{y} $ 가 $ \\, \\mathbb{R}^{n} $ 공간에 존재할 때, 벡터는 아래와 같이 **유일하게** 정의할 수 있다.\n",
    "#### $ \\Rightarrow{} \\textbf{y} = \\text{proj}_{\\mathbb{W}}(\\textbf{y}) + \\textbf{z} $"
   ]
  },
  {
   "cell_type": "markdown",
   "metadata": {},
   "source": [
    "#### **(`PLUS`)** 벡터 $ \\, \\textbf{z} $ 는 $ \\, \\mathbb{W} $ 에 **직교하는** 성분(the component of $ \\, \\textbf{y} $ orthogonal to $ \\, \\mathbb{W} $)이라고 하며, $ \\, \\mathbb{W}^{\\perp{}} $ 에 존재한다.\n",
    "#### $ \\Rightarrow{} \\textbf{z} = \\textbf{y} - \\text{proj}_{\\mathbb{W}}(\\textbf{y}) $ "
   ]
  },
  {
   "cell_type": "markdown",
   "metadata": {},
   "source": [
    "#### **(`PLUS`)** 벡터 $ \\, \\textbf{y} $ 가 $ \\, \\mathbb{W} $ 공간 안에 있을 경우, $ \\, \\textbf{y} $ 는 $ \\, \\mathbb{W} $ 의 직교 투영 그자체가 된다.\n",
    "#### $ \\Rightarrow{} \\textbf{y} = \\text{proj}_{\\mathbb{W}}(\\textbf{y}) $ "
   ]
  },
  {
   "cell_type": "markdown",
   "metadata": {},
   "source": [
    "<b></b>"
   ]
  },
  {
   "cell_type": "markdown",
   "metadata": {},
   "source": [
    "> ## (Theorem 5-9) **The Best Approximation**"
   ]
  },
  {
   "cell_type": "markdown",
   "metadata": {},
   "source": [
    "#### 어떠한 벡터 $ \\, \\textbf{y} $ 를 부분 공간 $ \\, \\mathbb{W} $ 에 직교 투영한 벡터는 $ \\, \\mathbb{W} $ 의 다른 모든 벡터보다 $ \\, \\textbf{y} $ 에 가장 가깝다.\n",
    "#### $ \\Rightarrow{} || \\textbf{y} - \\text{proj}_{\\mathbb{W}}(\\textbf{y}) || < || \\textbf{y} - \\textbf{v} || \\;\\; \\text{ where } \\, \\textbf{y} \\in{} \\mathbb{W} $"
   ]
  },
  {
   "cell_type": "markdown",
   "metadata": {},
   "source": [
    "#### **(`WHY?`)**\n",
    "#### **[GRAPH]**"
   ]
  },
  {
   "cell_type": "markdown",
   "metadata": {},
   "source": [
    "<b></b>"
   ]
  },
  {
   "cell_type": "markdown",
   "metadata": {},
   "source": [
    "> ## (Theorem 5-10) **Orthogonal Projection Using Orthonormal**"
   ]
  },
  {
   "cell_type": "markdown",
   "metadata": {},
   "source": [
    "#### **(1)** 벡터 집합 $ \\, \\{ \\textbf{u}_{1}, \\cdots{}, \\textbf{u}_{n} \\} $ 가 부분공간 $ \\, \\mathbb{W} $ 의 정규 직교(orthonormal) 기저일 때, $ \\, \\textbf{y} $ 에서 $ \\, \\mathbb{W} $ 으로 전사하는 직교 투영은 다음과 같다.\n",
    "#### $ \\Rightarrow{} \\text{proj}_{\\mathbb{W}}(\\textbf{y}) = (\\textbf{y} \\cdot{} \\textbf{u}_{1})\\textbf{u}_{1} + \\cdots{} + (\\textbf{y} \\cdot{} \\textbf{u}_{n})\\textbf{u}_{n} \\;\\; \\text{ where } \\, \\{ \\textbf{u}_{1} , \\cdots{} , \\textbf{u}_{n} \\} \\, \\text{ is orthonormal basis for } \\, \\mathbb{R}^{n} $"
   ]
  },
  {
   "cell_type": "markdown",
   "metadata": {},
   "source": [
    "#### **(`WHY?`)** $ \\, (|| \\textbf{u}_{i} ||)^{2} = \\textbf{u}_{i} \\cdot{} \\textbf{u}_{i} = 1 $ "
   ]
  },
  {
   "cell_type": "markdown",
   "metadata": {},
   "source": [
    "#### **(2)** 행렬 $ \\, U = \\begin{bmatrix} \\textbf{u}_{1} & \\cdots{} & \\textbf{u}_{n} \\end{bmatrix} $ 일 때, $ \\, \\textbf{y} $ 에서 $ \\, \\mathbb{W} $ 으로 전사하는 직교 투영은 다음과 같다.\n",
    "#### $ \\Rightarrow{} \\text{proj}_{\\mathbb{W}}(\\textbf{y}) = UU^{T} \\textbf{y} \\;\\; \\text{ where } \\, U = \\begin{bmatrix} \\textbf{u}_{1} & \\cdots{} & \\textbf{u}_{n} \\end{bmatrix} $ "
   ]
  },
  {
   "cell_type": "markdown",
   "metadata": {},
   "source": [
    "#### **(`WHY?`)** \n",
    "#### $ \\text{proj}_{\\mathbb{W}}(\\textbf{y}) = (\\textbf{u}_{1}^{T}\\textbf{y})\\textbf{u}_{1} + \\cdots{} + (\\textbf{u}_{n}^{T}\\textbf{y})\\textbf{u}_{n} = \\begin{bmatrix} \\textbf{u}_{1} & \\cdots{} & \\textbf{u}_{n} \\end{bmatrix} \\begin{bmatrix} \\textbf{u}_{1}^{T}\\textbf{y} \\\\ \\vdots{} \\\\ \\textbf{u}_{n}^{T}\\textbf{y} \\end{bmatrix} $ \n",
    "#### $ \\hspace{1.5cm} = \\begin{bmatrix} \\textbf{u}_{1} & \\cdots{} & \\textbf{u}_{n} \\end{bmatrix} \\begin{bmatrix} \\textbf{u}_{1}^{T} \\\\ \\vdots{} \\\\ \\textbf{u}_{n}^{T} \\end{bmatrix} \\textbf{y} = \\begin{bmatrix} \\textbf{u}_{1} & \\cdots{} & \\textbf{u}_{n} \\end{bmatrix} \\begin{bmatrix} \\textbf{u}_{1} & \\cdots{} & \\textbf{u}_{n} \\end{bmatrix}^{T} \\textbf{y} $\n",
    "#### $ \\therefore{} \\text{proj}_{\\mathbb{W}}(\\textbf{y}) = U U^{T} \\textbf{y} $"
   ]
  }
 ],
 "metadata": {
  "kernelspec": {
   "display_name": "Python 3",
   "language": "python",
   "name": "python3"
  },
  "language_info": {
   "codemirror_mode": {
    "name": "ipython",
    "version": 3
   },
   "file_extension": ".py",
   "mimetype": "text/x-python",
   "name": "python",
   "nbconvert_exporter": "python",
   "pygments_lexer": "ipython3",
   "version": "3.11.3"
  },
  "orig_nbformat": 4
 },
 "nbformat": 4,
 "nbformat_minor": 2
}
