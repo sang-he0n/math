{
 "cells": [
  {
   "attachments": {},
   "cell_type": "markdown",
   "metadata": {},
   "source": [
    "# CH05.2. **Orthogonality**"
   ]
  },
  {
   "cell_type": "markdown",
   "metadata": {},
   "source": [
    "> ## **직교 벡터(Orthogonal Vector)**"
   ]
  },
  {
   "cell_type": "markdown",
   "metadata": {},
   "source": [
    "#### **(1) 정의** : 두 벡터가 수직인 관계 \n",
    "#### = 두 벡터의 내적이 $ \\, 0 $ 일 때의 벡터의 관계\n",
    "#### $ \\Rightarrow{} \\textbf{u} = \\textbf{v}^{\\perp{}}. \\;\\; \\text{ if } \\, \\textbf{u} \\cdot{} \\textbf{v} = 0 $"
   ]
  },
  {
   "cell_type": "markdown",
   "metadata": {},
   "source": [
    "#### **(`PLUS`)** 영벡터(zero vector)는 같은 차원의 모든 벡터에 대해 직교 관계임"
   ]
  },
  {
   "cell_type": "markdown",
   "metadata": {},
   "source": [
    "#### **(`PLUS`)** 두 벡터의 거리 $ \\, \\text{dist}(\\textbf{u}, \\textbf{v}) $ 와 $ \\, \\text{dist}(\\textbf{u}, -\\textbf{v}) $ 가 같을 때 벡터의 관계를 의미하기도 함\n",
    "#### **[GRPAH]**"
   ]
  },
  {
   "cell_type": "markdown",
   "metadata": {},
   "source": [
    "<b><b>"
   ]
  },
  {
   "cell_type": "markdown",
   "metadata": {},
   "source": [
    "> ## (Theorem 5-2) **Pythagorean Theorem**"
   ]
  },
  {
   "cell_type": "markdown",
   "metadata": {},
   "source": [
    "#### 두 벡터가 직교 관계라면, 벡터의 길이에 대한 제곱 선형성을 만족한다.\n",
    "#### $ \\Rightarrow{} || \\textbf{u} + \\textbf{v} ||^{2} = || \\textbf{u} ||^{2} + || \\textbf{v} ||^{2}, \\;\\; \\text{ if and only if } \\,  \\textbf{u} = \\textbf{v}^{\\perp{}} $"
   ]
  },
  {
   "cell_type": "markdown",
   "metadata": {},
   "source": [
    "<b><b>"
   ]
  },
  {
   "cell_type": "markdown",
   "metadata": {},
   "source": [
    "> ## **직교 여공간(Orthogonal Complements)**"
   ]
  },
  {
   "cell_type": "markdown",
   "metadata": {},
   "source": [
    "#### **(1) 정의** : 어떤 벡터 공간 또는 부분 공간에 대해 서로 직교하는 벡터들의 집합\n",
    "#### $ \\Rightarrow{} \\{ \\textbf{v}_{1}, \\textbf{v}_{2}, \\cdots{}, \\textbf{v}_{n} \\} = \\{ \\textbf{u}_{1}, \\textbf{u}_{2}, \\cdots{}, \\textbf{u}_{m} \\}^{\\perp{}} \\Leftrightarrow{} \\{ \\textbf{u}_{1}, \\textbf{u}_{2}, \\cdots{}, \\textbf{u}_{m} \\} = \\{ \\textbf{v}_{1}, \\textbf{v}_{2}, \\cdots{}, \\textbf{v}_{n} \\}^{\\perp{}} $\n",
    "#### $ \\hspace{0.45cm} \\text{ where } \\, \\textbf{v}_{i} \\cdot{} \\textbf{u}_{k} = 0 \\;\\; \\text{and } \\, \\textbf{v}_{i} \\in{} \\{ \\textbf{v}_{1}, \\textbf{v}_{2}, \\cdots{}, \\textbf{v}_{n} \\}, \\;\\; \\textbf{u}_{i} \\in{} \\{ \\textbf{u}_{1}, \\textbf{u}_{2}, \\cdots{}, \\textbf{u}_{n} \\} $ "
   ]
  },
  {
   "cell_type": "markdown",
   "metadata": {},
   "source": [
    "#### **(2) 성질** :"
   ]
  },
  {
   "cell_type": "markdown",
   "metadata": {},
   "source": [
    "#### **(3) 예시** :\n",
    "#### $ \\hspace{0.15cm} $ ① 벡터 $ \\, \\textbf{y} $ 가 벡터 $ \\, \\textbf{u}, \\, \\textbf{v} $ 에 대하여 직교할 때, $ \\, \\textbf{y} $ 가 $ \\, \\textbf{u}+\\textbf{v} $ 에도 직교함을 보이고자 할 때 \n",
    "#### $ \\hspace{0.45cm} \\textbf{y} \\cdot{} \\textbf{u} = 0 $\n",
    "#### $ \\hspace{0.45cm} \\textbf{y} \\cdot{} \\textbf{v} = 0 $\n",
    "#### $ \\hspace{0.45cm} \\therefore{} \\textbf{y} \\cdot{} (\\textbf{u}+\\textbf{v}) = \\textbf{y} \\cdot{} \\textbf{u} + \\textbf{y} \\cdot{} \\textbf{v} = 0 $\n",
    "#### $ \\hspace{0.15cm} $ ② 벡터 $ \\, \\textbf{x} $ 가 벡터 공간 $ \\, \\{ \\textbf{v}_{1}, \\cdots{} \\textbf{v}_{n} \\} $ 의 개별 벡터에 대하여 직교할 때, $ \\, \\textbf{x} $ 가 $ \\, W = \\text{span}\\{ \\textbf{v}_{1}, \\cdots{} \\textbf{v}_{n} \\} $ 에도 직교함을 보이고자 할 때 \n",
    "#### $ \\hspace{0.45cm} \\textbf{x} \\cdot{} \\textbf{v}_{i} = 0 \\;\\; \\text{ for } \\, 1 \\leq{} i \\leq{} n $\n",
    "#### $ \\hspace{0.45cm} \\textbf{w} = c_{1} \\textbf{v}_{1} + \\cdots{} + c_{n} \\textbf{v}_{n} $\n",
    "#### $ \\hspace{0.45cm} \\therefore{} \\textbf{w} \\cdot{} \\textbf{x} = (c_{1} \\textbf{v}_{1} + \\cdots{} + c_{n} \\textbf{v}_{n}) \\cdot{} \\textbf{x} = c_{1} \\textbf{v}_{1} \\cdot{} \\textbf{x} + \\cdots{} + c_{n} \\textbf{v}_{n} \\cdot{} \\textbf{x} = 0 $\n",
    "#### $ \\hspace{0.15cm} $ ③ $ \\mathbb{R}^{n} $ 차원의 부분공간 $ \\, W $ 가 직교 여공간 $ \\, W^{\\perp{}} $ 을 가질 때, $ \\, W^{\\perp{}} $ 이 $ \\, \\mathbb{R}^{n} $ 의 **부분 공간**(subspace)임을 확인하고자 할 때\n",
    "#### $ \\hspace{0.45cm} \\text{if } \\, \\textbf{u} \\in{} W, \\;\\; \\textbf{v} \\in{} W^{\\perp{}} $\n",
    "#### $ \\hspace{0.6cm} \\textbf{u} \\cdot{} c \\textbf{z} = c \\textbf{u} \\cdot{} \\textbf{z} = 0 $\n",
    "#### $ \\hspace{0.6cm} \\rightarrow{} c\\textbf{z} \\in{} W^{\\perp{}} $\n",
    "#### $ \\hspace{0.45cm} \\text{if } \\, \\{ \\textbf{z}_{1}, \\textbf{z}_{2} \\} \\subset{} W^{\\perp{}} $ \n",
    "#### $ \\hspace{0.6cm} \\textbf{u} \\cdot{} (\\textbf{z}_{1} + \\textbf{z}_{2}) = \\textbf{u} \\cdot{} \\textbf{z}_{1} + \\textbf{u} \\cdot{} \\textbf{z}_{2} = 0 $\n",
    "#### $ \\hspace{0.6cm} (\\textbf{z}_{1} + \\textbf{z}_{2}) \\in{} W^{\\perp{}} $\n",
    "#### $ \\hspace{0.45cm} \\rightarrow{} \\text{for all } \\, \\textbf{u} \\in{} W $\n",
    "#### $ \\hspace{0.6cm} \\textbf{u} \\cdot{} \\textbf{0} = 0 $\n",
    "#### $ \\hspace{0.6cm} \\rightarrow{} \\textbf{0} \\in{} W^{\\perp{}} $"
   ]
  },
  {
   "cell_type": "markdown",
   "metadata": {},
   "source": [
    "<b><b>"
   ]
  },
  {
   "cell_type": "markdown",
   "metadata": {},
   "source": [
    "> ## (Theorem 5-3) **Orthogonal Complements of Row and Column Spaces**"
   ]
  },
  {
   "cell_type": "markdown",
   "metadata": {},
   "source": [
    "#### 어떠한 행렬 $ \\, A $ 의 행공간의 직교 여공간은 $ \\, A $ 의 영공간(null space)이며, 행공간의 직교 여공간은 전치행렬 $ \\, A^{T} $ 의 직교 여공간이다. \n",
    "#### $ \\Rightarrow{} \\text{Row}(A)^{\\perp{}} = \\text{Nul}(A), \\;\\; \\text{Col}(A)^{\\perp{}} = (\\text{Nul}(A))^{T} $ "
   ]
  },
  {
   "cell_type": "markdown",
   "metadata": {},
   "source": [
    "#### **(`WHY?`)**\n",
    "#### **[LATEX]**"
   ]
  },
  {
   "cell_type": "markdown",
   "metadata": {},
   "source": [
    "<b><b>"
   ]
  },
  {
   "cell_type": "markdown",
   "metadata": {},
   "source": [
    "> ## **직교 집합(Orthogonal Set)**"
   ]
  },
  {
   "cell_type": "markdown",
   "metadata": {},
   "source": [
    "#### **(1) 정의** : \n",
    "#### $ \\Rightarrow{} $"
   ]
  },
  {
   "cell_type": "markdown",
   "metadata": {},
   "source": [
    "<b><b>"
   ]
  },
  {
   "cell_type": "markdown",
   "metadata": {},
   "source": [
    "> ## (Theorem 5-4) **__()**"
   ]
  },
  {
   "cell_type": "markdown",
   "metadata": {},
   "source": [
    "#### **[CONTENTS]**"
   ]
  },
  {
   "cell_type": "markdown",
   "metadata": {},
   "source": [
    "<b><b>"
   ]
  },
  {
   "cell_type": "markdown",
   "metadata": {},
   "source": [
    "> ## **직교 기저(Orthogonal Basis)**"
   ]
  },
  {
   "cell_type": "markdown",
   "metadata": {},
   "source": [
    "#### **(1) 정의** : \n",
    "#### $ \\Rightarrow{} $"
   ]
  },
  {
   "cell_type": "markdown",
   "metadata": {},
   "source": [
    "<b><b>"
   ]
  },
  {
   "cell_type": "markdown",
   "metadata": {},
   "source": [
    "> ## (Theorem 5-5) **__()**"
   ]
  },
  {
   "cell_type": "markdown",
   "metadata": {},
   "source": [
    "#### **[CONTENTS]**"
   ]
  },
  {
   "cell_type": "markdown",
   "metadata": {},
   "source": [
    "<b><b>"
   ]
  },
  {
   "cell_type": "markdown",
   "metadata": {},
   "source": [
    "> ## **직교 투영(Orthogonal Projection)**"
   ]
  },
  {
   "cell_type": "markdown",
   "metadata": {},
   "source": [
    "#### **(1) 정의** : \n",
    "#### $ \\Rightarrow{} $"
   ]
  },
  {
   "cell_type": "markdown",
   "metadata": {},
   "source": [
    "<b><b>"
   ]
  },
  {
   "cell_type": "markdown",
   "metadata": {},
   "source": [
    "> ## **정규 직교 집합(Orthogonomal Set)**"
   ]
  },
  {
   "cell_type": "markdown",
   "metadata": {},
   "source": [
    "#### **(1) 정의** : \n",
    "#### $ \\Rightarrow{} $"
   ]
  },
  {
   "cell_type": "markdown",
   "metadata": {},
   "source": [
    "#### **(2) 성질** (Theorem 5-7) :\n",
    "#### $ \\hspace{0.15cm} $ ① \n",
    "#### $ \\hspace{0.15cm} $ ② \n",
    "#### $ \\hspace{0.15cm} $ ③"
   ]
  },
  {
   "cell_type": "markdown",
   "metadata": {},
   "source": [
    "<b><b>"
   ]
  },
  {
   "cell_type": "markdown",
   "metadata": {},
   "source": [
    "> ## (Theorem 5-6) **__()**"
   ]
  },
  {
   "cell_type": "markdown",
   "metadata": {},
   "source": [
    "#### **[CONTENTS]**"
   ]
  },
  {
   "cell_type": "markdown",
   "metadata": {},
   "source": [
    "<b><b>"
   ]
  }
 ],
 "metadata": {
  "kernelspec": {
   "display_name": "Python 3",
   "language": "python",
   "name": "python3"
  },
  "language_info": {
   "codemirror_mode": {
    "name": "ipython",
    "version": 3
   },
   "file_extension": ".py",
   "mimetype": "text/x-python",
   "name": "python",
   "nbconvert_exporter": "python",
   "pygments_lexer": "ipython3",
   "version": "3.11.3"
  },
  "orig_nbformat": 4
 },
 "nbformat": 4,
 "nbformat_minor": 2
}
