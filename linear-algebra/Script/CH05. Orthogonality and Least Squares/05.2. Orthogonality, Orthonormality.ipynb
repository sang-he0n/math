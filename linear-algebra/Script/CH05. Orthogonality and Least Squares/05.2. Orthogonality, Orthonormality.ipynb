{
 "cells": [
  {
   "attachments": {},
   "cell_type": "markdown",
   "metadata": {},
   "source": [
    "# CH05.2. **Orthogonality, Orthonormality**"
   ]
  },
  {
   "cell_type": "markdown",
   "metadata": {},
   "source": [
    "> ## **직교 벡터(Orthogonal Vector)**"
   ]
  },
  {
   "cell_type": "markdown",
   "metadata": {},
   "source": [
    "#### **(1) 정의** : 두 벡터가 수직(Perpendicular)인 관계 \n",
    "#### = 두 벡터의 내적이 $ \\, 0 $ 일 때의 벡터의 관계\n",
    "#### $ \\Rightarrow{} \\textbf{u} = \\textbf{v}^{\\perp{}} \\;\\; \\text{ if } \\, \\textbf{u} \\cdot{} \\textbf{v} = 0 $"
   ]
  },
  {
   "cell_type": "markdown",
   "metadata": {},
   "source": [
    "#### **(`PLUS`)** 영벡터(zero vector)는 같은 차원의 모든 벡터에 대해 직교 관계임"
   ]
  },
  {
   "cell_type": "markdown",
   "metadata": {},
   "source": [
    "#### **(`PLUS`)** 두 벡터의 거리 $ \\, \\text{dist}(\\textbf{u}, \\textbf{v}) $ 와 $ \\, \\text{dist}(\\textbf{u}, -\\textbf{v}) $ 가 같을 때 벡터의 관계를 의미하기도 함\n",
    "#### **[GRPAH]**"
   ]
  },
  {
   "cell_type": "markdown",
   "metadata": {},
   "source": [
    "<b><b>"
   ]
  },
  {
   "cell_type": "markdown",
   "metadata": {},
   "source": [
    "> ## (Theorem 5-2) **Pythagorean Theorem**"
   ]
  },
  {
   "cell_type": "markdown",
   "metadata": {},
   "source": [
    "#### 두 벡터가 직교 관계라면, 벡터의 길이에 대한 제곱 선형성을 만족한다.\n",
    "#### $ \\Rightarrow{} || \\textbf{u} + \\textbf{v} ||^{2} = || \\textbf{u} ||^{2} + || \\textbf{v} ||^{2}, \\;\\; \\text{ if and only if } \\, \\textbf{u} = \\textbf{v}^{\\perp{}} $"
   ]
  },
  {
   "cell_type": "markdown",
   "metadata": {},
   "source": [
    "<b><b>"
   ]
  },
  {
   "cell_type": "markdown",
   "metadata": {},
   "source": [
    "> ## **직교 여공간(Orthogonal Complements)**"
   ]
  },
  {
   "cell_type": "markdown",
   "metadata": {},
   "source": [
    "#### **(1) 정의** : 어떤 벡터 공간 또는 부분 공간에 대해 서로 직교하는 벡터들의 집합\n",
    "#### $ \\Rightarrow{} \\{ \\textbf{v}_{1}, \\textbf{v}_{2}, \\cdots{}, \\textbf{v}_{n} \\} = \\{ \\textbf{u}_{1}, \\textbf{u}_{2}, \\cdots{}, \\textbf{u}_{m} \\}^{\\perp{}} $\n",
    "#### $ \\Leftrightarrow{} \\{ \\textbf{v}_{1}, \\textbf{v}_{2}, \\cdots{}, \\textbf{v}_{n} \\}^{\\perp{}} = \\{ \\textbf{u}_{1}, \\textbf{u}_{2}, \\cdots{}, \\textbf{u}_{m} \\} $\n",
    "#### $ \\hspace{0.45cm} \\text{ where } \\, \\textbf{v}_{i} \\cdot{} \\textbf{u}_{k} = 0 \\;\\; \\text{and } \\, \\textbf{v}_{i} \\in{} \\{ \\textbf{v}_{1}, \\textbf{v}_{2}, \\cdots{}, \\textbf{v}_{n} \\}, \\;\\; \\textbf{u}_{i} \\in{} \\{ \\textbf{u}_{1}, \\textbf{u}_{2}, \\cdots{}, \\textbf{u}_{n} \\} $ "
   ]
  },
  {
   "cell_type": "markdown",
   "metadata": {},
   "source": [
    "#### **(2) 성질** : **[CONTENTS]**"
   ]
  },
  {
   "cell_type": "markdown",
   "metadata": {},
   "source": [
    "#### **(3) 예시** :\n",
    "#### $ \\hspace{0.15cm} $ ① 벡터 $ \\, \\textbf{y} $ 가 벡터 $ \\, \\textbf{u}, \\, \\textbf{v} $ 에 대하여 직교할 때, $ \\, \\textbf{y} $ 가 $ \\, \\textbf{u}+\\textbf{v} $ 에도 직교함을 보이고자 할 때 \n",
    "#### $ \\hspace{0.45cm} \\textbf{y} \\cdot{} \\textbf{u} = 0 $\n",
    "#### $ \\hspace{0.45cm} \\textbf{y} \\cdot{} \\textbf{v} = 0 $\n",
    "#### $ \\hspace{0.45cm} \\therefore{} \\textbf{y} \\cdot{} (\\textbf{u}+\\textbf{v}) = \\textbf{y} \\cdot{} \\textbf{u} + \\textbf{y} \\cdot{} \\textbf{v} = 0 $\n",
    "#### $ \\hspace{0.15cm} $ ② 벡터 $ \\, \\textbf{x} $ 가 벡터 공간 $ \\, \\{ \\textbf{v}_{1}, \\cdots{} \\textbf{v}_{n} \\} $ 의 개별 벡터에 대하여 직교할 때, $ \\, \\textbf{x} $ 가 $ \\, W = \\text{span}\\{ \\textbf{v}_{1}, \\cdots{} \\textbf{v}_{n} \\} $ 에도 직교함을 보이고자 할 때 \n",
    "#### $ \\hspace{0.45cm} \\textbf{x} \\cdot{} \\textbf{v}_{i} = 0 \\;\\; \\text{ for } \\, 1 \\leq{} i \\leq{} n $\n",
    "#### $ \\hspace{0.45cm} \\textbf{w} = c_{1} \\textbf{v}_{1} + \\cdots{} + c_{n} \\textbf{v}_{n} $\n",
    "#### $ \\hspace{0.45cm} \\therefore{} \\textbf{w} \\cdot{} \\textbf{x} = (c_{1} \\textbf{v}_{1} + \\cdots{} + c_{n} \\textbf{v}_{n}) \\cdot{} \\textbf{x} = c_{1} \\textbf{v}_{1} \\cdot{} \\textbf{x} + \\cdots{} + c_{n} \\textbf{v}_{n} \\cdot{} \\textbf{x} = 0 $\n",
    "#### $ \\hspace{0.15cm} $ ③ $ \\mathbb{R}^{n} $ 차원의 부분공간 $ \\, W $ 가 직교 여공간 $ \\, W^{\\perp{}} $ 을 가질 때, $ \\, W^{\\perp{}} $ 이 $ \\, \\mathbb{R}^{n} $ 의 **부분 공간**(subspace)임을 확인하고자 할 때\n",
    "#### $ \\hspace{0.45cm} \\text{if } \\, \\textbf{u} \\in{} W, \\;\\; \\textbf{v} \\in{} W^{\\perp{}} $\n",
    "#### $ \\hspace{0.6cm} \\textbf{u} \\cdot{} c \\textbf{z} = c \\textbf{u} \\cdot{} \\textbf{z} = 0 $\n",
    "#### $ \\hspace{0.6cm} \\rightarrow{} c\\textbf{z} \\in{} W^{\\perp{}} \\;\\; $ (부분 공간의 스칼라곱 만족)\n",
    "#### $ \\hspace{0.45cm} \\text{if } \\, \\{ \\textbf{z}_{1}, \\textbf{z}_{2} \\} \\subset{} W^{\\perp{}} $ \n",
    "#### $ \\hspace{0.6cm} \\textbf{u} \\cdot{} (\\textbf{z}_{1} + \\textbf{z}_{2}) = \\textbf{u} \\cdot{} \\textbf{z}_{1} + \\textbf{u} \\cdot{} \\textbf{z}_{2} = 0 $\n",
    "#### $ \\hspace{0.6cm} (\\textbf{z}_{1} + \\textbf{z}_{2}) \\in{} W^{\\perp{}} $\n",
    "#### $ \\hspace{0.45cm} \\rightarrow{} \\text{for all } \\, \\textbf{u} \\in{} W \\;\\; $ (부분 공간의 벡터합 만족)\n",
    "#### $ \\hspace{0.6cm} \\textbf{u} \\cdot{} \\textbf{0} = 0 $\n",
    "#### $ \\hspace{0.6cm} \\rightarrow{} \\textbf{0} \\in{} W^{\\perp{}} \\;\\; $ (부분 공간의 영벡터 존재 만족)"
   ]
  },
  {
   "cell_type": "markdown",
   "metadata": {},
   "source": [
    "<b><b>"
   ]
  },
  {
   "cell_type": "markdown",
   "metadata": {},
   "source": [
    "> ## (Theorem 5-3) **Orthogonal Complements of Row and Column Spaces**"
   ]
  },
  {
   "cell_type": "markdown",
   "metadata": {},
   "source": [
    "#### 행렬 $ \\, \\underset{m\\times{}n}{A} $ 의 행공간의 직교 여공간은 $ \\, A $ 의 영공간(null space)이며, 열공간의 직교 여공간은 전치행렬 $ \\, A^{T} $ 의 직교 여공간이다. \n",
    "#### $ \\Rightarrow{} \\text{Row}(A)^{\\perp{}} = \\text{Nul}(A), \\;\\; \\text{Col}(A)^{\\perp{}} = \\text{Nul}(A^{T}) $"
   ]
  },
  {
   "cell_type": "markdown",
   "metadata": {},
   "source": [
    "#### **(`WHY?`)**\n",
    "#### $ A\\textbf{x} = \\begin{bmatrix} \\textbf{a}_{1}^{T} \\\\ \\textbf{a}_{2}^{T} \\\\ \\vdots{} \\\\ \\textbf{a}_{n}^{T} \\end{bmatrix} \\textbf{x} = \\begin{bmatrix} \\textbf{a}_{1}^{T}\\textbf{x} \\\\ \\textbf{a}_{2}^{T}\\textbf{x} \\\\ \\vdots{} \\\\ \\textbf{a}_{n}^{T}\\textbf{x} \\end{bmatrix} = \\begin{bmatrix} 0 \\\\ 0 \\\\ \\vdots{} \\\\ 0 \\end{bmatrix} = \\textbf{0} $\n",
    "#### $ \\textbf{a}_{i}^{T} \\cdot{} \\textbf{x} = (\\textbf{a}_{i}^{T})^{T} \\textbf{x} = \\textbf{a}_{i} \\textbf{x} = 0, \\;\\; \\text{ for } \\, 1 \\leq{} i \\leq{} n $  \n",
    "#### $ \\rightarrow{} \\textbf{x} = \\textbf{a}_{i}^{\\perp{}} $\n",
    "#### $ A^{T}\\textbf{x} = \\begin{bmatrix} \\textbf{a}_{1} \\\\ \\textbf{a}_{2} \\\\ \\vdots{} \\\\ \\textbf{a}_{n} \\end{bmatrix} \\textbf{x} = \\begin{bmatrix} \\textbf{a}_{1}\\textbf{x} \\\\ \\textbf{a}_{2}\\textbf{x} \\\\ \\vdots{} \\\\ \\textbf{a}_{n}\\textbf{x} \\end{bmatrix} = \\begin{bmatrix} 0 \\\\ 0 \\\\ \\vdots{} \\\\ 0 \\end{bmatrix} = \\textbf{0} $\n",
    "#### $ \\textbf{a}_{i} \\cdot{} \\textbf{x} = (\\textbf{a}_{i})^{T} \\textbf{x} = \\textbf{a}_{i}^{T} \\textbf{x} = 0, \\;\\; \\text{ for } \\, 1 \\leq{} i \\leq{} n $  \n",
    "#### $ \\therefore{} \\text{Row}(A)^{\\perp{}} = \\text{Nul}(A), \\;\\; \\text{Col}(A)^{\\perp{}} = \\text{Nul}(A^{T}) $"
   ]
  },
  {
   "cell_type": "markdown",
   "metadata": {},
   "source": [
    "<b><b>"
   ]
  },
  {
   "cell_type": "markdown",
   "metadata": {},
   "source": [
    "> ## **직교 집합(Orthogonal Set)**"
   ]
  },
  {
   "cell_type": "markdown",
   "metadata": {},
   "source": [
    "#### **(1) 정의** : 벡터 집합안의 모든 벡터쌍이 직교인 집합 \n",
    "#### $ \\Rightarrow{} \\{ \\textbf{v}_{1}, \\textbf{v}_{2}, \\cdots{}, \\textbf{v}_{n} \\} \\, \\text{ is orthogonal set}, \\;\\; \\text{ for each } \\, \\textbf{v}_{i} \\cdot{} \\textbf{v}_{j} = 0 $"
   ]
  },
  {
   "cell_type": "markdown",
   "metadata": {},
   "source": [
    "#### **(2) 예시** :\n",
    "#### $ \\hspace{0.15cm} $ ① **[CONTENTS]**\n",
    "#### $ \\hspace{0.15cm} $ ② **[CONTENTS]**"
   ]
  },
  {
   "cell_type": "markdown",
   "metadata": {},
   "source": [
    "<b><b>"
   ]
  },
  {
   "cell_type": "markdown",
   "metadata": {},
   "source": [
    "> ## (Theorem 5-4) **Linear Independence of Orthogonal Sets**"
   ]
  },
  {
   "cell_type": "markdown",
   "metadata": {},
   "source": [
    "#### 어떠한 집합 $ \\, V = \\{ \\textbf{v}_{1}, \\textbf{v}_{2}, \\cdots{}, \\textbf{v}_{n} \\} $ 가 영벡터를 가지지 않는 직교 집합(orthogonal set)이라면, \n",
    "#### 그 집합은 **선형독립** 관계이고 $ \\, S $ 에 의해 생성된 부분공간을 선형 생성(span)한다. "
   ]
  },
  {
   "cell_type": "markdown",
   "metadata": {},
   "source": [
    "#### **(`WHY?`)** \n",
    "#### $ \\text{if } \\, V = \\{ \\textbf{v}_{1}, \\textbf{v}_{2}, \\cdots{}, \\textbf{v}_{n} \\} \\, \\text{ is orthogonal}, \\;\\; \\textbf{v}_{i} \\neq{} \\textbf{0} \\;\\; \\text{ for } 1 \\leq{} i \\leq{} n $  \n",
    "#### $ c_{1}\\textbf{v}_{1} + \\cdots{} + c_{n} \\textbf{v}_{n} = \\textbf{0} $\n",
    "#### $ (c_{1}\\textbf{v}_{1} + \\cdots{} + c_{n} \\textbf{v}_{n}) \\cdot{} \\textbf{v}_{k} = \\textbf{0} \\cdot{} \\textbf{v}_{k} = 0, \\;\\; \\text{ for } 1 \\leq{} k \\leq{} n $\n",
    "#### $ c_{1}\\textbf{v}_{1} \\cdot{} \\textbf{v}_{k} + \\cdots{} + c_{n} \\textbf{v}_{n} \\cdot{} \\textbf{v}_{k} = 0 $ \n",
    "#### $ c_{1}\\textbf{v}_{1} \\cdot{} \\textbf{v}_{k} = 0 \\;\\; $ ($ \\because{} \\, \\text{v}_{i} \\cdot{} \\textbf{v}_{k} = 0 $) \n",
    "#### $ \\Rightarrow{} c_{k} = 0 $\n",
    "#### $ \\therefore{} V \\, \\text{is linear independent}. $"
   ]
  },
  {
   "cell_type": "markdown",
   "metadata": {},
   "source": [
    "<b><b>"
   ]
  },
  {
   "cell_type": "markdown",
   "metadata": {},
   "source": [
    "> ## **직교 기저(Orthogonal Basis)**"
   ]
  },
  {
   "cell_type": "markdown",
   "metadata": {},
   "source": [
    "#### **(1) 정의** : 어떠한 부분 공간의 기저(basis)이면서, 기저 벡터들이 서로 직교하는 집합\n",
    "#### $ \\Rightarrow{} \\{ \\textbf{v}_{1}, \\textbf{v}_{2}, \\cdots{}, \\textbf{v}_{n} \\} = \\mathcal{B} \\, \\text{ is orthogonal basis}, \\;\\; \\text{ with } \\, \\textbf{v}_{i} \\cdot{} \\textbf{v}_{j} = 0 \\;\\; \\text{ for all } \\, i \\neq{} k $\n",
    "#### $ \\hspace{6.9cm} \\text{and } \\mathbb{H} = \\text{span}\\{ \\textbf{v}_{1}, \\textbf{v}_{2}, \\cdots{}, \\textbf{v}_{n} \\} = \\text{span}(\\mathcal{B}) $"
   ]
  },
  {
   "cell_type": "markdown",
   "metadata": {},
   "source": [
    "<b><b>"
   ]
  },
  {
   "cell_type": "markdown",
   "metadata": {},
   "source": [
    "> ## (Theorem 5-5) **Orthogonal Basis Decomposition**"
   ]
  },
  {
   "cell_type": "markdown",
   "metadata": {},
   "source": [
    "#### 어떠한 부분 공간 $ \\, H $ 의 벡터 $ \\, \\textbf{y} $ 가 직교 기저 $ \\, \\mathcal{B} $ 로 표현될 때 각 계수는 다음과 같이 계산된다.\n",
    "#### $ \\Rightarrow{} x_{i} = \\frac{\\textbf{y}\\cdot{}\\textbf{v}_{i}}{\\textbf{v}_{i}\\cdot{}\\textbf{v}_{i}} \\;\\; \\text{ where } \\, x_{1} \\textbf{v}_{1} + \\cdots{} + x_{n} \\textbf{v}_{n} = \\textbf{y} \\in{} \\mathbb{H} $\n",
    "#### $ \\hspace{2.05cm} \\text{ and } \\, \\mathcal{B} = \\{ \\textbf{v}_{1}, \\textbf{v}_{2}, \\cdots{}, \\textbf{v}_{n} \\} \\;\\; \\text{ with } \\, \\textbf{v}_{i} \\cdot{} \\textbf{v}_{k} = 0 \\;\\; \\text{ for all } \\, i \\neq{} k $\n",
    "#### $ \\hspace{2.05cm} \\text{ and } \\, \\mathbb{H} = \\text{span}\\{ \\textbf{v}_{1}, \\textbf{v}_{2}, \\cdots{}, \\textbf{v}_{n} \\} = \\text{span}(\\mathcal{B}) $"
   ]
  },
  {
   "cell_type": "markdown",
   "metadata": {},
   "source": [
    "</b><b>"
   ]
  },
  {
   "cell_type": "markdown",
   "metadata": {},
   "source": [
    "> ## **정규 직교 집합(Orthogonormal Set)**"
   ]
  },
  {
   "cell_type": "markdown",
   "metadata": {},
   "source": [
    "#### **(1) 정의** : 각 벡터들의 길이(length)가 $ \\, 1 $ 이면서 서로 직교하는 집합\n",
    "#### $ \\Rightarrow{} \\{ \\textbf{v}_{1}, \\cdots{}, \\textbf{v}_{n} \\} \\, \\text{ is orthogonomal set}. \\;\\; \\text{ where } \\, || v_{i} || = 1, \\;\\; 1 \\leq{} i \\leq{} n $\n",
    "#### $ \\hspace{5.75cm} \\text{and } \\, \\textbf{v}_{i} \\cdot{} \\textbf{v}_{k} = 0 \\;\\; \\text{ for all } \\, i \\neq{} k $"
   ]
  },
  {
   "cell_type": "markdown",
   "metadata": {},
   "source": [
    "#### **(`PLUS`)** 정규 직교 집합이 열벡터집합인 행렬을 [**CONTENTS**]이라고 정의함 \n",
    "#### $ \\Rightarrow{} \\textbf{U} = \\begin{bmatrix} \\textbf{v}_{1} & \\cdots{} & \\textbf{v}_{n} \\end{bmatrix} \\;\\; \\text{ where } \\, \\{ \\textbf{v}_{1}, \\cdots{}, \\textbf{v}_{n} \\} \\, \\text{ is orthogonomal set}. $"
   ]
  },
  {
   "cell_type": "markdown",
   "metadata": {},
   "source": [
    "#### **(2) 성질** (Theorem 5-7) :\n",
    "#### $ \\hspace{0.15cm} $ ① $ \\, || U\\textbf{x} || = || \\textbf{x} || $ "
   ]
  },
  {
   "cell_type": "markdown",
   "metadata": {},
   "source": [
    "#### **(`WHY?`)**\n",
    "#### $ || U\\textbf{x} || = \\sqrt{(x_{1}\\textbf{v}_{1}+\\cdots{}+x_{n}\\textbf{v}_{n})\\cdot{}(x_{1}\\textbf{v}_{1}+\\cdots{}+x_{n}\\textbf{v}_{n})} $\n",
    "#### $ \\hspace{1cm} =\\sqrt{x_{1}^{2}\\textbf{v}_{1} \\cdot{} \\textbf{v}_{1} + \\cdots{} x_{n}^{2}\\textbf{v}_{n} \\cdot{} \\textbf{v}_{n}} \\;\\; $ ($ \\because{} \\, \\textbf{v}_{i} \\cdot{} \\textbf{v}_{k} = 0, \\;\\; i \\neq{} k $) \n",
    "#### $ \\hspace{1cm} = \\sqrt{x_{1}^{2}+\\cdots{}+x_{n}^{2}} $\n",
    "#### $ \\therefore{} || U\\textbf{x} || = || \\textbf{x} || $"
   ]
  },
  {
   "cell_type": "markdown",
   "metadata": {},
   "source": [
    "#### $ \\hspace{0.15cm} $ ② $ \\, (U\\textbf{x}) \\cdot{} (U\\textbf{x}) = \\textbf{x} \\cdot{} \\textbf{y} $\n",
    "#### $ \\hspace{0.6cm} \\Leftrightarrow{} (U\\textbf{x}) \\cdot{} (U\\textbf{x}) = 0 \\;\\; \\text{ if and only if } \\, \\textbf{x} \\cdot{} \\textbf{y} = 0 $"
   ]
  },
  {
   "cell_type": "markdown",
   "metadata": {},
   "source": [
    "<b><b>"
   ]
  },
  {
   "cell_type": "markdown",
   "metadata": {},
   "source": [
    "> ## (Theorem 5-6) **Orthonormal Columns Property**"
   ]
  },
  {
   "cell_type": "markdown",
   "metadata": {},
   "source": [
    "#### $ m \\times{} n \\, $ 행렬 $ \\, U $ 가 정규 직교 열(orthonormal column)을 가진다면, 전치행렬 $ \\, U^{T} $ 과 $ \\, U $ 을 곱한다면 $ \\, n \\times{} n \\, $ 단위 행렬이 된다.\n",
    "#### $ \\Rightarrow{} U^{T} U = I \\;\\; \\text{ where } \\, U = \\begin{bmatrix} \\textbf{v}_{1} & \\cdots{} & \\textbf{v}_{n} \\end{bmatrix}, \\;\\; \\{ \\textbf{v}_{1},\\cdots{},\\textbf{v}_{n} \\} \\, \\text{ is orthogonormal set}. $\n",
    "#### $ \\Leftrightarrow{} U^{T} = U^{-1} $"
   ]
  },
  {
   "cell_type": "markdown",
   "metadata": {},
   "source": [
    "#### **(`WHY?`)**\n",
    "#### $ U^{T}U = \\begin{bmatrix} \\textbf{v}_{1}^{T} \\\\ \\vdots{} \\\\ \\textbf{v}_{n}^{T} \\end{bmatrix} \\begin{bmatrix} \\textbf{v}_{1} & \\cdots{} & \\textbf{v}_{n} \\end{bmatrix} = \\begin{bmatrix} \\textbf{v}_{1}^{T} \\textbf{v}_{1} & \\textbf{v}_{1}^{T} \\textbf{v}_{2} & \\cdots{} & \\textbf{v}_{1}^{T} \\textbf{v}_{n} \\\\ \\textbf{v}_{2}^{T} \\textbf{v}_{1} & \\textbf{v}_{2}^{T} \\textbf{v}_{2} & \\cdots{} & \\textbf{v}_{2}^{T} \\textbf{v}_{n} \\\\ \\vdots{} & \\vdots{} & \\ddots{} & \\vdots{} \\\\ \\textbf{v}_{n}^{T} \\textbf{v}_{1} & \\textbf{v}_{n}^{T} \\textbf{v}_{2} & \\cdots{} & \\textbf{v}_{n}^{T} \\textbf{v}_{n} \\end{bmatrix} = \\begin{bmatrix} \\textbf{v}_{1} \\cdot{} \\textbf{v}_{1} & \\textbf{v}_{1} \\cdot{} \\textbf{v}_{2} & \\cdots{} & \\textbf{v}_{1} \\cdot{} \\textbf{v}_{n} \\\\ \\textbf{v}_{2} \\cdot{} \\textbf{v}_{1} & \\textbf{v}_{2} \\cdot{} \\textbf{v}_{2} & \\cdots{} & \\textbf{v}_{2} \\cdot{} \\textbf{v}_{n} \\\\ \\vdots{} & \\vdots{} & \\ddots{} & \\vdots{} \\\\ \\textbf{v}_{n} \\cdot{} \\textbf{v}_{1} & \\textbf{v}_{n} \\cdot{} \\textbf{v}_{2} & \\cdots{} & \\textbf{v}_{n} \\cdot{} \\textbf{v}_{n} \\end{bmatrix} $\n",
    "#### $ \\hspace{0.85cm} = \\begin{bmatrix} 1 & 0 & \\cdots{} & 0 \\\\ 0 & 1 & \\cdot{} & 0 \\\\ \\vdots{} & \\vdots{} & \\ddots{} & \\vdots{} \\\\ 0 & 0 & \\cdots{} & 1 \\end{bmatrix} $\n",
    "#### $ \\therefore{} U^{T}U = \\underset{n\\times{}n}{I} $"
   ]
  },
  {
   "cell_type": "markdown",
   "metadata": {},
   "source": [
    "<b><b>"
   ]
  },
  {
   "cell_type": "markdown",
   "metadata": {},
   "source": [
    "> ## **정규 직교 기저(Orthogonormal Basis)**"
   ]
  },
  {
   "cell_type": "markdown",
   "metadata": {},
   "source": [
    "#### **(1) 정의** : 어떠한 부분 공간의 기저(basis)이면서, 기저 벡터들의 길이가 $ \\, 1 $ 이며 서로 직교하는 집합\n",
    "#### $ \\Rightarrow{} \\{ \\textbf{v}_{1}, \\textbf{v}_{2}, \\cdots{}, \\textbf{v}_{n} \\} = \\mathcal{B} \\, \\text{ is orthonormal basis}, \\;\\; \\text{ with } \\, \\textbf{v}_{i} \\cdot{} \\textbf{v}_{j} = 0 \\;\\; \\text{ for all } \\, i \\neq{} k $\n",
    "#### $ \\hspace{7.2cm} \\text{and } || v_{i} || = 1, \\;\\; 1 \\leq{} i \\leq{} n $\n",
    "#### $ \\hspace{7.2cm} \\text{and } \\, \\mathbb{H} = \\text{span}\\{ \\textbf{v}_{1}, \\textbf{v}_{2}, \\cdots{}, \\textbf{v}_{n} \\} = \\text{span}(\\mathcal{B}) $"
   ]
  },
  {
   "cell_type": "markdown",
   "metadata": {},
   "source": [
    "#### **(`PLUS`)** **[CONTENTS]**"
   ]
  },
  {
   "cell_type": "markdown",
   "metadata": {},
   "source": [
    "#### **(2) 예제** :\n",
    "#### $ \\hspace{0.15cm} $ ① **[CONTENTS]**\n",
    "#### $ \\hspace{0.15cm} $ ② **[CONTENTS]**"
   ]
  }
 ],
 "metadata": {
  "kernelspec": {
   "display_name": "Python 3",
   "language": "python",
   "name": "python3"
  },
  "language_info": {
   "codemirror_mode": {
    "name": "ipython",
    "version": 3
   },
   "file_extension": ".py",
   "mimetype": "text/x-python",
   "name": "python",
   "nbconvert_exporter": "python",
   "pygments_lexer": "ipython3",
   "version": "3.11.3"
  },
  "orig_nbformat": 4
 },
 "nbformat": 4,
 "nbformat_minor": 2
}
