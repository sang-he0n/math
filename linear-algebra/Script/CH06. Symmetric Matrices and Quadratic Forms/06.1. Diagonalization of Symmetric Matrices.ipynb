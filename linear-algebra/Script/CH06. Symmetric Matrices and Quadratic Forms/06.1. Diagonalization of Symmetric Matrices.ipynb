{
 "cells": [
  {
   "attachments": {},
   "cell_type": "markdown",
   "metadata": {},
   "source": [
    "# CH06.1. **Diagonalization of Symmetric Matrices**"
   ]
  },
  {
   "cell_type": "markdown",
   "metadata": {},
   "source": [
    "> ## **대칭행렬(Symetric Matrix)**"
   ]
  },
  {
   "cell_type": "markdown",
   "metadata": {},
   "source": [
    "#### **(1) 정의** : 전치 행렬과 동일한 정방 행렬\n",
    "#### $ \\Rightarrow{} A = A^{T} $"
   ]
  },
  {
   "cell_type": "markdown",
   "metadata": {},
   "source": [
    "<b></b>"
   ]
  },
  {
   "cell_type": "markdown",
   "metadata": {},
   "source": [
    "> ## (Theorem 6-1) **Eigen Orthogonality of Symmetric Matrix**"
   ]
  },
  {
   "cell_type": "markdown",
   "metadata": {},
   "source": [
    "#### 어떠한 행렬 $ \\, A $ 가 대칭행렬이라면, 다른 고유 공간(eigen space)에 있는 고유 벡터들은 직교하다."
   ]
  },
  {
   "cell_type": "markdown",
   "metadata": {},
   "source": [
    "#### **(`WHY?`)**\n",
    "#### $ \\text{if } \\, \\lambda{}_{1} \\neq{} \\lambda{}_{2} \\;\\; \\text{ where } \\, \\lambda{}_{1}, \\lambda{}_{2} \\, \\text{ is eigen value of } \\, A $\n",
    "#### $ \\text{and } \\, \\textbf{v}_{1} \\, \\text{ is eigen value of } \\, \\lambda{}_{1}, \\textbf{v}_{2} \\, \\text{ is eigen value of } \\, \\lambda{}_{2} $\n",
    "#### $ \\lambda{}_{1}\\textbf{v}_{1} \\cdot{} \\textbf{v}_{2} = (\\lambda{}_{1}\\textbf{v}_{1})^{T} \\textbf{v}_{2} = (A\\textbf{v}_{1})^{T} \\textbf{v}_{2} = \\textbf{v}_{1}^{T}A^{T}\\textbf{v}_{2} = \\textbf{v}_{1}^{T}A\\textbf{v}_{2} = \\textbf{v}_{1}^{T}\\lambda{}_{2}\\textbf{v}_{2} \\;\\; $ ($ \\because{} A\\textbf{v}_{i} = \\lambda{}_{i}\\textbf{v}_{i} $)\n",
    "####  $ \\hspace{1.45cm} = \\lambda{}_{2}\\textbf{v}_{1}^{T}\\textbf{v}_{2} $\n",
    "#### $  \\therefore{} \\textbf{v}_{1} \\cdot{} \\textbf{v}_{2} = 0 \\;\\; $ ($ \\because{} \\lambda{}_{1} \\neq{} \\lambda{}_{2} $)"
   ]
  },
  {
   "cell_type": "markdown",
   "metadata": {},
   "source": [
    "<b></b>"
   ]
  },
  {
   "cell_type": "markdown",
   "metadata": {},
   "source": [
    "> ## **직교 대각화(Orthogonally Diagonalization)**"
   ]
  },
  {
   "cell_type": "markdown",
   "metadata": {},
   "source": [
    "#### **(1) 정의** : 어떠한 행렬 $ \\, A $ 가 대각화가 가능할 때 아래를 만족하는 **정규직교 행렬** $ \\, P $ 및 대각행렬 $ \\, D $ 사이의 관계\n",
    "#### $ \\Rightarrow{} A = PDP^{T} = PDP^{-1} = A^{T} $"
   ]
  },
  {
   "cell_type": "markdown",
   "metadata": {},
   "source": [
    "#### **(2) 성질** :\n",
    "#### $ \\hspace{0.15cm} $ ① 행렬 $ \\, A $ 가 직교 대각화가 가능(orthogonally diagonalizationable)하다면, 그 행렬은 대칭행렬임 (Theorem 6-2)\n",
    "#### $ \\hspace{0.15cm} $ ②"
   ]
  },
  {
   "cell_type": "markdown",
   "metadata": {},
   "source": [
    "#### **(2) 판별(연산) 방법** : \n",
    "#### $ \\hspace{0.15cm} $ ① 행렬 $ \\, A $ 가 대칭행렬인지 확인\n",
    "#### $ \\hspace{0.55cm} A = \\begin{bmatrix} 3 & -2 & 4 \\\\ -2 & 6 & 2 \\\\ 4 & 2 & 3 \\end{bmatrix} = A^{T} $\n",
    "#### $ \\hspace{0.15cm} $ ② 행렬 $ \\, A $ 의 고유값에 대응되는 고유 공간을 찾음\n",
    "#### $ \\hspace{0.55cm} \\lambda{} = 1, \\;\\; (A - \\lambda{}I) = (A - I) = \\begin{bmatrix} 0&3&3 \\\\ -3&-6&-3 \\\\ 3&3&0 \\end{bmatrix} $ \n",
    "#### $ \\hspace{0.6cm} \\begin{bmatrix} A-I&0 \\end{bmatrix} = \\begin{bmatrix} 0&3&3&0 \\\\ -3&-6&-3&0 \\\\ 3&3&0&0 \\end{bmatrix} $ ~ $ \\begin{bmatrix} 1&0&-1&0 \\\\ 0&1&1&0 \\\\0&0&0&0 \\end{bmatrix} $\n",
    "#### $ \\hspace{0.6cm} \\text{Nul}(A-I) = \\textbf{x} = x_{3} \\begin{bmatrix} 1 \\\\ -1 \\\\ 1 \\end{bmatrix} = \\text{span} \\{ \\begin{bmatrix} 1 \\\\ -1 \\\\ 1 \\end{bmatrix} \\} $\n",
    "#### $ \\hspace{0.55cm} \\lambda{} = -2, \\;\\; (A - \\lambda{}I) = (A + 2I) = \\begin{bmatrix} 3&3&3 \\\\ -3&-3&-3 \\\\ 3&3&3 \\end{bmatrix} $\n",
    "#### $ \\hspace{0.6cm} \\begin{bmatrix} A+2I&0 \\end{bmatrix} = \\begin{bmatrix} 3&3&3&0 \\\\ -3&-3&-3&0 \\\\ 3&3&3&0 \\end{bmatrix} $ ~ $ \\cdots{} $ ~ $ \\begin{bmatrix} 1&1&1&0 \\\\ 0&0&0&0 \\\\0&0&0&0 \\end{bmatrix} $\n",
    "#### $ \\hspace{0.6cm} \\text{Nul}(A+2I) = \\textbf{x} = x_{2} \\begin{bmatrix} -1 \\\\ 1 \\\\ 0 \\end{bmatrix} + x_{3} \\begin{bmatrix} -1 \\\\ 0 \\\\ 1 \\end{bmatrix} = \\text{span} \\{ \\begin{bmatrix} -1 \\\\ 1 \\\\ 0 \\end{bmatrix}, \\begin{bmatrix} -1 \\\\ 0 \\\\ 1 \\end{bmatrix} \\} $\n",
    "#### $ \\hspace{0.55cm} \\text{Nul}(A-\\lambda{}I) = \\begin{cases} \\text{span} \\{ \\begin{bmatrix} 1 \\\\ -1 \\\\ 1 \\end{bmatrix} \\}, \\;\\;\\;\\;\\;\\;\\;\\;\\;\\;\\;\\;\\; \\lambda{} = 1 \\\\ \\\\  \\text{span} \\{ \\begin{bmatrix} -1 \\\\ 1 \\\\ 0 \\end{bmatrix}, \\begin{bmatrix} -1 \\\\ 0 \\\\ 1 \\end{bmatrix} \\}, \\;\\; \\lambda{} = - 2 \\end{cases} $\n",
    "#### $ \\hspace{0.55cm} \\therefore{} \\text{eigen vector set} = \\{ \\begin{bmatrix} 1 \\\\ -1 \\\\ 1 \\end{bmatrix}, \\begin{bmatrix} -1 \\\\ 1 \\\\ 0 \\end{bmatrix}, \\begin{bmatrix} -1 \\\\ 0 \\\\ 1 \\end{bmatrix}\\} $\n",
    "#### $ \\hspace{0.15cm} $ ③ 그람-슈미트 과정을 이용하여 개별 고유 공간에 대한 직교 기저를 정의함\n",
    "#### $ \\hspace{0.15cm} $ ④ 직교 기저를 정규화(normalization)하여 정규 직교 기저를 정으함\n",
    "#### $ \\hspace{0.55cm} P = \\begin{bmatrix} 1&-1&-1 \\\\ -1&1&0 \\\\ 1&0&1 \\end{bmatrix} $\n",
    "#### $ \\hspace{0.55cm} D = \\begin{bmatrix} 1&0&0 \\\\ 0&-2&0 \\\\ 0&0&-2 \\end{bmatrix} $\n",
    "#### $ \\hspace{0.55cm} \\therefore{} A = \\begin{bmatrix} 1&-1&-1 \\\\ -1&1&0 \\\\ 1&0&1 \\end{bmatrix} \\begin{bmatrix} 1&0&0 \\\\ 0&-2&0 \\\\ 0&0&-2 \\end{bmatrix} \\begin{bmatrix} 1&-1&-1 \\\\ -1&1&0 \\\\ 1&0&1 \\end{bmatrix}^{-1} = A = PDP^{-1} $\n",
    "#### $ \\hspace{0.15cm} $ ⑤"
   ]
  },
  {
   "cell_type": "markdown",
   "metadata": {},
   "source": [
    "#### **(4) 예제** :\n",
    "#### $ \\hspace{0.15cm} $ ① 어떠한 행렬 $ \\, A $ 를 직교 대각화하고자 할 때 \n",
    "\n",
    "#### $ \\hspace{0.6cm} A = $\n",
    "#### $ \\hspace{0.15cm} $ ②"
   ]
  },
  {
   "cell_type": "markdown",
   "metadata": {},
   "source": [
    "<b></b>"
   ]
  },
  {
   "cell_type": "markdown",
   "metadata": {},
   "source": [
    "> ## (Theorem 6-3) **Spectral Theorem for Symmetric Matrices**"
   ]
  },
  {
   "cell_type": "markdown",
   "metadata": {},
   "source": [
    "#### **[CONTENTS]**"
   ]
  },
  {
   "cell_type": "markdown",
   "metadata": {},
   "source": [
    "<b></b>"
   ]
  },
  {
   "cell_type": "markdown",
   "metadata": {},
   "source": [
    "> ## **(Spectral Decomponsition)**"
   ]
  },
  {
   "cell_type": "markdown",
   "metadata": {},
   "source": [
    "#### **(1) 정의** : **[CONTENTS]**\n",
    "#### $ \\Rightarrow{} A = PDP^{T} = $ **[LATEX]**"
   ]
  }
 ],
 "metadata": {
  "kernelspec": {
   "display_name": "Python 3",
   "language": "python",
   "name": "python3"
  },
  "language_info": {
   "codemirror_mode": {
    "name": "ipython",
    "version": 3
   },
   "file_extension": ".py",
   "mimetype": "text/x-python",
   "name": "python",
   "nbconvert_exporter": "python",
   "pygments_lexer": "ipython3",
   "version": "3.11.3"
  },
  "orig_nbformat": 4
 },
 "nbformat": 4,
 "nbformat_minor": 2
}
