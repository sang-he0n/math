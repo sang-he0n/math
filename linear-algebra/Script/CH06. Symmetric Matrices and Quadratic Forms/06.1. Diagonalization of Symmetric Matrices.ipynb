{
 "cells": [
  {
   "attachments": {},
   "cell_type": "markdown",
   "metadata": {},
   "source": [
    "# CH06.1. **Diagonalization of Symmetric Matrices**"
   ]
  },
  {
   "cell_type": "markdown",
   "metadata": {},
   "source": [
    "> ## **대칭행렬(Symetric Matrix)**"
   ]
  },
  {
   "cell_type": "markdown",
   "metadata": {},
   "source": [
    "#### **(1) 정의** : 전치 행렬과 동일한 정방 행렬\n",
    "#### $ \\Rightarrow{} \\underset{n\\times{}n}{A} = \\underset{n\\times{}n}{A^{T}} $"
   ]
  },
  {
   "cell_type": "markdown",
   "metadata": {},
   "source": [
    "#### **(2) 성질** :\n",
    "#### $ \\hspace{0.15cm} $ ① 행렬 $ \\, A $ 가 대칭 행렬이라면, $ \\, A^{n} $ 역시 대칭 행렬임\n",
    "#### $ \\hspace{0.15cm} $ ② **[CONTENTS]**"
   ]
  },
  {
   "cell_type": "markdown",
   "metadata": {},
   "source": [
    "<b></b>"
   ]
  },
  {
   "cell_type": "markdown",
   "metadata": {},
   "source": [
    "> ## **직교 대각화(Orthogonally Diagonalization)**"
   ]
  },
  {
   "cell_type": "markdown",
   "metadata": {},
   "source": [
    "#### **(1) 정의** : 어떠한 행렬 $ \\, A $ 가 대각화가 가능할 때 아래를 만족하는 **정규직교 행렬** $ \\, P $ 및 대각행렬 $ \\, D $ 사이의 관계\n",
    "#### $ \\Rightarrow{} A = PDP^{T} = PDP^{-1} = A^{T} $"
   ]
  },
  {
   "cell_type": "markdown",
   "metadata": {},
   "source": [
    "#### **(2) 성질** :\n",
    "#### $ \\hspace{0.15cm} $ ① 행렬 $ \\, A $ 가 **직교 대각화가 가능**(orthogonally diagonalizationable)하다면, 그 행렬은 **대칭 행렬**임 (Theorem 6-2)\n",
    "#### $ \\hspace{0.15cm} $ ② **[CONTENTS]**"
   ]
  },
  {
   "cell_type": "markdown",
   "metadata": {},
   "source": [
    "#### **(3) 연산 방법** : \n",
    "#### $ \\hspace{0.15cm} $ ① 행렬 $ \\, A $ 가 대칭행렬인지 확인 및 특성 방정식을 통해 고유값을 구함\n",
    "#### $ \\hspace{0.55cm} A = \\begin{bmatrix} 3 & -2 & 4 \\\\ -2 & 6 & 2 \\\\ 4 & 2 & 3 \\end{bmatrix} = A^{T} $\n",
    "#### $ \\hspace{0.55cm} \\det{}(A-\\lambda{}I) = (3-\\lambda{}) C_{11} - 2 C_{12} + 4 C_{13} $\n",
    "#### $ \\hspace{2.55cm} = (3-\\lambda{}) \\det{}(\\begin{bmatrix} 6 - \\lambda{} & 2 \\\\\\ 2 & 3 - \\lambda{} \\end{bmatrix}) + 2 \\det{}(\\begin{bmatrix} -2 & 2 \\\\ 4 & 3 - \\lambda{} \\end{bmatrix}) + 4 \\det{}(\\begin{bmatrix} -2 & 6 - \\lambda{} \\\\ 4 & 2 \\end{bmatrix}) $\n",
    "#### $ \\hspace{2.55cm} = - \\lambda{}^{3} + 12 \\lambda{}^{2} - 21 \\lambda{} - 98 = -(\\lambda{}-7)^{2}(\\lambda{}+2) = 0 $ \n",
    "#### $ \\hspace{0.55cm} \\Rightarrow{} \\lambda{} = 7 (\\text{multiplicity} = 2) \\, \\text{ or } \\, \\lambda{} = -2(\\text{multiplicity} = 1) $\n",
    "#### $ \\hspace{0.15cm} $ ② 행렬 $ \\, A $ 의 고유값에 대응되는 고유 공간을 찾음\n",
    "#### $ \\hspace{0.55cm} \\text{if } \\, \\lambda{} = 7, \\;\\; A-\\lambda{}I = A-7I = \\begin{bmatrix} -4 & -2 & 4 \\\\ -2 & -1 & 2 \\\\ 4 & 2 & -4 \\end{bmatrix} $\n",
    "#### $ \\hspace{0.55cm} \\begin{bmatrix} A-7I & 0 \\end{bmatrix} = \\begin{bmatrix} -4&-2&4&0 \\\\ -2&-1&2&0 \\\\ 4&2&-4&0 \\end{bmatrix} $ ~ $ \\begin{bmatrix} 1 & 1/2 & -1 &  0 \\\\ 0 & 0 & 0 & 0 \\\\ 0 & 0 & 0 & 0 \\end{bmatrix} $\n",
    "#### $ \\hspace{0.55cm} \\textbf{x} = x_{2} \\begin{bmatrix} -1/2 \\\\ 1 \\\\ 0 \\end{bmatrix} + x_{3} \\begin{bmatrix} 1 \\\\ 0 \\\\ 1 \\end{bmatrix}, \\;\\; \\text{Nul}(A-7I) = \\text{span} \\{ \\begin{bmatrix} -1/2 \\\\ 1 \\\\ 0 \\end{bmatrix}, \\begin{bmatrix} 1 \\\\ 0 \\\\ 1 \\end{bmatrix} \\} = \\text{span} \\{ \\textbf{v}_{2}, \\textbf{v}_{1} \\} $\n",
    "#### $ \\hspace{0.55cm} \\text{if } \\, \\lambda{} = -2, \\;\\; A-\\lambda{}I = A+2I = \\begin{bmatrix} 5 & -2 & 4 \\\\ -2 & 8 & 2 \\\\ 4 & 2 & 5 \\end{bmatrix} $\n",
    "#### $ \\hspace{0.55cm} \\begin{bmatrix} A+2I & 0 \\end{bmatrix} = \\begin{bmatrix} 5&-2&4&0 \\\\ -2&8&2&0 \\\\ 4&2&5&0 \\end{bmatrix} $ ~ $ \\begin{bmatrix} 1 & 0 & 1 &  0 \\\\ 0 & 1 & 1/2 & 0 \\\\ 0 & 0 & 0 & 0 \\end{bmatrix} $\n",
    "#### $ \\hspace{0.55cm} \\textbf{x} = x_{3} \\begin{bmatrix} -1 \\\\ 1/2 \\\\ 1 \\end{bmatrix}, \\;\\; \\text{Nul}(A+2I) = \\text{span} \\{ \\begin{bmatrix} -1 \\\\ 1/2 \\\\ 1 \\end{bmatrix} \\} = \\text{span} \\{ \\textbf{v}_{3} \\} $\n",
    "#### $ \\hspace{0.55cm} \\text{Nul}(A-\\lambda{}I) = \\begin{cases} \\text{span} \\{ \\textbf{v}_{1}, \\textbf{v}_{2} \\}, \\;\\; \\lambda{} = 7 \\\\ \\\\ \\text{span} \\{ \\textbf{v}_{3} \\}, \\;\\;\\;\\;\\;\\;\\;\\, \\lambda{} = - 2 \\end{cases} $\n",
    "#### $ \\hspace{0.15cm} $ ③ 그람-슈미트 과정을 이용하여 개별 고유 공간에 대한 직교 기저를 정의함\n",
    "#### $ \\hspace{0.55cm} \\textbf{v}_{1}^{'} = \\textbf{v}_{1} = \\begin{bmatrix} 1 \\\\ 0 \\\\ 1 \\end{bmatrix} $\n",
    "#### $ \\hspace{0.55cm} \\textbf{v}_{2}^{'} = \\textbf{v}_{2} - \\frac{\\textbf{v}_{2}\\cdot{}\\textbf{v}_{1}}{\\textbf{v}_{1}\\cdot{}\\textbf{v}_{1}} \\textbf{v}_{1} = \\frac{1}{4}\\begin{bmatrix} -1 \\\\ 4 \\\\ 1 \\end{bmatrix} $\n",
    "#### $ \\hspace{0.55cm} \\text{span}\\{ \\textbf{v}_{1}, \\textbf{v}_{2} \\} = \\text{span}\\{ \\textbf{v}_{1}^{'}, \\textbf{v}_{2}^{'} \\} = \\text{Nul}(A-7I) $\n",
    "#### $ \\hspace{0.55cm} \\textbf{v}_{3}^{'} = 2 \\textbf{v}_{3} = 2 \\begin{bmatrix} -1 \\\\ 1/2 \\\\ 1 \\end{bmatrix} = \\begin{bmatrix} -2 \\\\ 1 \\\\ 2 \\end{bmatrix}$\n",
    "#### $ \\hspace{0.55cm} \\text{span} \\{ \\textbf{v}_{3} \\} = \\text{span} \\{ \\textbf{v}_{3}^{'} \\} = \\text{Nul}(A+2I) $\n",
    "#### $ \\hspace{0.15cm} $ ④ 직교 기저를 정규화(normalization)하여 정규 직교 기저를 정의함\n",
    "#### $ \\hspace{0.55cm} \\textbf{u}_{1} = \\frac{1}{\\sqrt{2}} \\textbf{v}_{1}^{'} $\n",
    "#### $ \\hspace{0.55cm} \\textbf{u}_{2} = \\frac{1}{\\sqrt{18}} \\textbf{v}_{2}^{'} $\n",
    "#### $ \\hspace{0.55cm} \\textbf{u}_{3} = \\frac{1}{\\sqrt{5}} \\textbf{v}_{3}^{'} $\n",
    "#### $ \\hspace{0.15cm} $ ⑤ 고유값과 정규 직교 기저를 이용하여 행렬 $ \\, P, \\, D $ 를 정의함\n",
    "#### $ \\hspace{0.55cm} P = \\begin{bmatrix} 1/\\sqrt{2}&-1\\sqrt{18}&-2/3 \\\\ 0&4/\\sqrt{18}&-1/3 \\\\ 1/\\sqrt{2}&1/\\sqrt{18}&2/3 \\end{bmatrix} $\n",
    "#### $ \\hspace{0.55cm} D = \\begin{bmatrix} 7&0&0 \\\\ 0&7&0 \\\\ 0&0&-2 \\end{bmatrix} $\n",
    "#### $ \\hspace{0.55cm} \\therefore{} A = \\begin{bmatrix} 1/\\sqrt{2}&-1\\sqrt{18}&-2/3 \\\\ 0&4/\\sqrt{18}&-1/3 \\\\ 1/\\sqrt{2}&1/\\sqrt{18}&2/3 \\end{bmatrix} \\begin{bmatrix} 7&0&0 \\\\ 0&7&0 \\\\ 0&0&-2 \\end{bmatrix} \\begin{bmatrix} 1/\\sqrt{2}&-1\\sqrt{18}&-2/3 \\\\ 0&4/\\sqrt{18}&-1/3 \\\\ 1/\\sqrt{2}&1/\\sqrt{18}&2/3 \\end{bmatrix}^{T} = PDP^{T} $"
   ]
  },
  {
   "cell_type": "markdown",
   "metadata": {},
   "source": [
    "#### **(4) 예제** :\n",
    "#### $ \\hspace{0.15cm} $ ① 어떠한 행렬 $ \\, A $ 를 직교 대각화하고자 할 때 \n",
    "#### $ \\hspace{0.55cm} A = \\begin{bmatrix} 6 & -2 & -1 \\\\ -2 & 6 & -1 \\\\ -1 & -1 & 5 \\end{bmatrix}, \\;\\; A = A^{T} $\n",
    "#### $ \\hspace{0.55cm} $ **[LATEX]**\n",
    "#### $ \\hspace{0.15cm} $ ② **[CONTENTS]**"
   ]
  },
  {
   "cell_type": "markdown",
   "metadata": {},
   "source": [
    "<b></b>"
   ]
  },
  {
   "cell_type": "markdown",
   "metadata": {},
   "source": [
    "> ## (Theorem 6-3) **Spectral Theorem for Symmetric Matrices**"
   ]
  },
  {
   "cell_type": "markdown",
   "metadata": {},
   "source": [
    "#### 어떠한 행렬 $ \\, \\underset{n\\times{}n}{A} $ 이 대칭 행렬일 때 아래의 성질을 만족한다.\n",
    "#### **(1)** 중복을 허용한 $ \\, n $ 개의 실수 고유값(real eigen value)을 가진다.\n",
    "#### **(2)** 고유값과 대응되는 고유공간의 차원(dimension)은 중복도와 동일하다.\n",
    "#### **(3)** 다른 고유값에서 정의된 고유 벡터들은 서로 직교(orthogonal) 관계이다. (Theorem 6-1)"
   ]
  },
  {
   "cell_type": "markdown",
   "metadata": {},
   "source": [
    "#### **(`WHY?`)**\n",
    "#### $ \\hspace{0.15cm} \\text{if } \\, \\lambda{}_{1} \\neq{} \\lambda{}_{2} \\;\\; \\text{ where } \\, \\lambda{}_{1}, \\lambda{}_{2} \\, \\text{ is eigen value of } \\, A $\n",
    "#### $ \\hspace{0.15cm} \\text{and } \\, \\textbf{v}_{1} \\, \\text{ is eigen value of } \\, \\lambda{}_{1}, \\;\\; \\textbf{v}_{2} \\, \\text{ is eigen value of } \\, \\lambda{}_{2} $\n",
    "#### $ \\hspace{0.15cm} \\lambda{}_{1}\\textbf{v}_{1} \\cdot{} \\textbf{v}_{2} = (\\lambda{}_{1}\\textbf{v}_{1})^{T} \\textbf{v}_{2} = (A\\textbf{v}_{1})^{T} \\textbf{v}_{2} = \\textbf{v}_{1}^{T}A^{T}\\textbf{v}_{2} = \\textbf{v}_{1}^{T}A\\textbf{v}_{2} = \\textbf{v}_{1}^{T}\\lambda{}_{2}\\textbf{v}_{2} \\;\\; $ ($ \\because{} A\\textbf{v}_{i} = \\lambda{}_{i}\\textbf{v}_{i} $)\n",
    "#### $ \\hspace{1.55cm} = \\lambda{}_{2}\\textbf{v}_{1}^{T}\\textbf{v}_{2} = \\lambda{}_{2} \\textbf{v}_{1} \\cdot{} \\textbf{v}_{2} $\n",
    "#### $ \\hspace{0.15cm} \\Rightarrow{} \\lambda{}_{1}\\textbf{v}_{1} \\cdot{} \\textbf{v}_{2} = \\lambda{}_{2} \\textbf{v}_{1} \\cdot{} \\textbf{v}_{2} $\n",
    "#### $ \\hspace{0.15cm} \\therefore{} \\textbf{v}_{1} \\cdot{} \\textbf{v}_{2} = 0 \\;\\; $ ($ \\because{} \\lambda{}_{1} \\neq{} \\lambda{}_{2} $)"
   ]
  },
  {
   "cell_type": "markdown",
   "metadata": {},
   "source": [
    "#### **(4)** 행렬 $ \\, A $ 는 직교대각화 가능하다."
   ]
  },
  {
   "cell_type": "markdown",
   "metadata": {},
   "source": [
    "<b></b>"
   ]
  },
  {
   "cell_type": "markdown",
   "metadata": {},
   "source": [
    "> ## **스펙트럴 분해(Spectral Decomponsition)**"
   ]
  },
  {
   "cell_type": "markdown",
   "metadata": {},
   "source": [
    "#### **(1) 정의** : 행렬 $ \\, A $ 가 직교 대각화 가능할 때\n",
    "#### $ \\Rightarrow{} A = PDP^{T} = \\begin{bmatrix} \\textbf{u}_{1} & \\cdots{} & \\textbf{u}_{n} \\end{bmatrix} \\begin{bmatrix} \\lambda{}_{1} & 0 & \\cdots{} & 0 \\\\ 0 & \\lambda{}_{2} & \\cdots{} & 0 \\\\ \\vdots{} & \\vdots{} & \\ddots{} & \\vdots{} \\\\ 0 & 0 & \\cdots{} & \\lambda{}_{n} \\end{bmatrix} \\begin{bmatrix} \\textbf{u}_{1}^{T} \\\\ \\vdots{} \\\\ \\textbf{u}_{n}^{T} \\end{bmatrix} = \\begin{bmatrix} \\lambda{}_{1} \\textbf{u}_{1} \\cdots{} \\lambda{}_{n} \\textbf{u}_{n} \\end{bmatrix} \\begin{bmatrix} \\textbf{u}_{1}^{T} \\\\ \\vdots{} \\\\ \\textbf{u}_{n}^{T} \\end{bmatrix} $\n",
    "#### $ \\hspace{0.8cm} = \\lambda{}_{1} \\textbf{u}_{1} \\textbf{u}_{1}^{T} + \\cdots{} + \\lambda{}_{n} \\textbf{u}_{n} \\textbf{u}_{n}^{T} $"
   ]
  },
  {
   "cell_type": "markdown",
   "metadata": {},
   "source": [
    "#### **(`PLUS`)** 스펙트럼(spectrum)은 고유값(eigen value)의 다른 표현임"
   ]
  },
  {
   "cell_type": "markdown",
   "metadata": {},
   "source": [
    "#### **(2) $ \\, \\textbf{u}_{i}\\textbf{u}_{i}^{T} $ 의 성질** : \n",
    "#### $ \\hspace{0.15cm} $ ① $ \\, \\text{rank}(\\textbf{u}_{i}\\textbf{u}_{i}^{T}) = 1 $"
   ]
  },
  {
   "cell_type": "markdown",
   "metadata": {},
   "source": [
    "#### **(`WHY?`)**\n",
    "#### $ \\hspace{0.6cm} \\textbf{u}_{i}\\textbf{u}_{i}^{T} = \\textbf{u}_{i} \\begin{bmatrix} u_{1,i} & \\cdots{} & u_{n,i} \\end{bmatrix} = \\begin{bmatrix} u_{1,i}\\textbf{u}_{i}  & \\cdots{} & u_{n,i}\\textbf{u}_{i} \\end{bmatrix} $\n",
    "#### $ \\hspace{0.6cm} \\therefore{} \\text{all column is represented by } \\, \\textbf{u}_{i}, \\;\\; \\text{rank}(\\textbf{u}_{i}\\textbf{u}_{i}^{T}) = 1 $"
   ]
  },
  {
   "cell_type": "markdown",
   "metadata": {},
   "source": [
    "#### $ \\hspace{0.15cm} $ ② $ \\, \\textbf{u}_{i}\\textbf{u}_{i}^{T} \\textbf{x} = \\text{proj}_{\\textbf{u}_{i}}(\\textbf{x}) $"
   ]
  },
  {
   "cell_type": "markdown",
   "metadata": {},
   "source": [
    "#### **(`WHY?`)**\n",
    "#### $ \\hspace{0.6cm} $ **[CONTENTS]**"
   ]
  }
 ],
 "metadata": {
  "kernelspec": {
   "display_name": "Python 3",
   "language": "python",
   "name": "python3"
  },
  "language_info": {
   "codemirror_mode": {
    "name": "ipython",
    "version": 3
   },
   "file_extension": ".py",
   "mimetype": "text/x-python",
   "name": "python",
   "nbconvert_exporter": "python",
   "pygments_lexer": "ipython3",
   "version": "3.11.3"
  },
  "orig_nbformat": 4
 },
 "nbformat": 4,
 "nbformat_minor": 2
}
