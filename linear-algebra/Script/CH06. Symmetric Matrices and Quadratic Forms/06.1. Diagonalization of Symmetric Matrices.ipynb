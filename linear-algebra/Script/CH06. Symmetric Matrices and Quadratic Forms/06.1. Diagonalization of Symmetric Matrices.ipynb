{
 "cells": [
  {
   "attachments": {},
   "cell_type": "markdown",
   "metadata": {},
   "source": [
    "# CH06.1. **Diagonalization of Symmetric Matrices**"
   ]
  },
  {
   "cell_type": "markdown",
   "metadata": {},
   "source": [
    "> ## **대칭행렬(Symetric Matrix)**"
   ]
  },
  {
   "cell_type": "markdown",
   "metadata": {},
   "source": [
    "#### **(1) 정의** : 전치 행렬과 동일한 정방 행렬\n",
    "#### $ \\Rightarrow{} \\underset{n\\times{}n}{A} = \\underset{n\\times{}n}{A^{T}} $"
   ]
  },
  {
   "cell_type": "markdown",
   "metadata": {},
   "source": [
    "#### **(2) 성질** : 대칭 행렬 $ A $과 비정방 행렬 $ B $이 존재할 때 아래가 성립 \n",
    "##### $ \\hspace{0.15cm} $ ① $ \\, A^{k} = (A^{k})^{T} $\n",
    "##### $ \\hspace{0.15cm} $ ② $ \\, BB^{T} = (BB^{T})^{T} \\;\\; (BB^{T} \\, \\text{ is symetric matrix.})$"
   ]
  },
  {
   "cell_type": "markdown",
   "metadata": {},
   "source": [
    "<b></b>"
   ]
  },
  {
   "cell_type": "markdown",
   "metadata": {},
   "source": [
    "> ## **직교 대각화(Orthogonally Diagonalization)**"
   ]
  },
  {
   "cell_type": "markdown",
   "metadata": {},
   "source": [
    "#### **(1) 정의** : 어떠한 대칭 행렬 $ A $를 정규 직교 행렬 $ P $를 이용해 대각 행렬 $ D $와 유사성을 정의한 관계\n",
    "#### $ = $ 어떠한 대칭 행렬$ A $를 정규 직교 행렬 $ P $ 및 대각 행렬 $ D $로 표현하는 형태\n",
    "#### $ \\Rightarrow{} A = PDP^{T} \\;\\; \\text{ where } \\; D \\, \\text{ is diagonal matrix} \\; \\text{ and } \\; P \\, \\text{ is orthonomal matrix}. $"
   ]
  },
  {
   "cell_type": "markdown",
   "metadata": {},
   "source": [
    "<b></b>"
   ]
  },
  {
   "cell_type": "markdown",
   "metadata": {},
   "source": [
    "> ## (Theorem 6-3) **Spectral Theorem**"
   ]
  },
  {
   "cell_type": "markdown",
   "metadata": {},
   "source": [
    "#### 어떠한 대칭 행렬 $ A $에 대하여 아래를 만족한다."
   ]
  },
  {
   "cell_type": "markdown",
   "metadata": {},
   "source": [
    "#### **(1)** 중복을 허용한 $ n $개의 **실수** 고유값을 가진다.\n",
    "#### $ \\Rightarrow{} \\lambda{}_{i} \\in{} \\mathbb{R} \\;\\; \\text{ where } \\; \\{ \\lambda{}_{1}, \\cdots{}, \\lambda{}_{n} \\} \\, \\text{ is eigen value set of } \\, A $"
   ]
  },
  {
   "cell_type": "markdown",
   "metadata": {},
   "source": [
    "#### **(2)** 고유값에 대응되는 고유 공간(eigen space)의 차원은 중복도와 동일하다.\n",
    "#### $ \\Rightarrow{} \\text{dim}(\\text{Nul}(A-\\lambda{}_{k}I)) = \\text{multiplicity of } \\, \\lambda{}_{k} $"
   ]
  },
  {
   "cell_type": "markdown",
   "metadata": {},
   "source": [
    "#### **(4)** 서로 다른 고유 공간의 고유 벡터들은 직교(orthogonal)하다. (Theorem 6-1)\n",
    "#### $ \\Rightarrow{} \\textbf{v}_{i} \\perp{} \\textbf{v}_{k} \\;\\; \\text{ where } \\; \\textbf{v}_{i} \\in{} \\text{Nul}(A-\\lambda{}_{i}I), \\;\\; i \\neq{} k $"
   ]
  },
  {
   "cell_type": "markdown",
   "metadata": {},
   "source": [
    "##### **(`WHY?`)**\n",
    "##### $ \\hspace{0.15cm} $ **[LATEX]**"
   ]
  },
  {
   "cell_type": "markdown",
   "metadata": {},
   "source": [
    "#### **(5)** 행렬 $ A $는 직교 대각화 가능하며 이 때 **고유 벡터 집합은 정규 직교하며, 대각 행렬은 고유값으로 구성**되어 있다.\n",
    "#### $ \\Rightarrow{} A = V\\Lambda{}V^{T} $ "
   ]
  },
  {
   "cell_type": "markdown",
   "metadata": {},
   "source": [
    "<b></b>"
   ]
  },
  {
   "cell_type": "markdown",
   "metadata": {},
   "source": [
    "> ## **스펙트럴 분해(Spectral Decomponsition)**"
   ]
  },
  {
   "cell_type": "markdown",
   "metadata": {},
   "source": [
    "#### **(1) 정의** : 행렬 $ A $가 **대칭 행렬일 경우**, 이를 고유값과 고유벡터의 형태로 표현하는 알고리듬\n",
    "#### $ \\Rightarrow{} A = V\\Lambda{}V^{T} = \\lambda{}_{1} \\textbf{u}_{1} \\textbf{u}_{1}^{T} + \\cdots{} + \\lambda{}_{n} \\textbf{u}_{n} \\textbf{u}_{n}^{T} $\n",
    "#### $ \\hspace{0.45cm} \\text{where } \\; \\lambda{}_{i} \\, \\text{ is eigen value of } A, \\;\\;  \\textbf{u}_{i} \\, \\text{ is orthonormal eigen vector of } \\, A $\n",
    "#### $ \\hspace{0.45cm} \\text{and } \\; V = \\begin{bmatrix} \\textbf{u}_{1} & \\textbf{u}_{2} & \\cdots{} & \\textbf{u}_{n} \\end{bmatrix} \\text{ and } \\; \\Lambda{} = \\begin{bmatrix} \\lambda{}_{1} & 0 & \\cdots{} & 0 \\\\ 0 & \\lambda{}_{2} & \\cdots{} & 0 \\\\ \\vdots{} & \\vdots{} & \\ddots{} & \\vdots{} \\\\ 0 & 0 & \\cdots{} & \\lambda{}_{n} \\end{bmatrix} $"
   ]
  },
  {
   "cell_type": "markdown",
   "metadata": {},
   "source": [
    "#### **(2) 연산 방법** : \n",
    "##### $ \\hspace{0.15cm} $ ① 행렬 $ A $가 대칭행렬일 때 특성 방정식을 통해 고유값을 구함\n",
    "##### $ \\hspace{0.45cm} A = \\begin{bmatrix} 3 & -2 & 4 \\\\ -2 & 6 & 2 \\\\ 4 & 2 & 3 \\end{bmatrix} = A^{T} $\n",
    "##### $ \\hspace{0.45cm} \\det{}(A-\\lambda{}I) = (3-\\lambda{}) C_{11} - 2 C_{12} + 4 C_{13} $\n",
    "##### $ \\hspace{2.55cm} = (3-\\lambda{}) \\det{}(\\begin{bmatrix} 6 - \\lambda{} & 2 \\\\\\ 2 & 3 - \\lambda{} \\end{bmatrix}) + 2 \\det{}(\\begin{bmatrix} -2 & 2 \\\\ 4 & 3 - \\lambda{} \\end{bmatrix}) + 4 \\det{}(\\begin{bmatrix} -2 & 6 - \\lambda{} \\\\ 4 & 2 \\end{bmatrix}) $\n",
    "##### $ \\hspace{2.55cm} = - \\lambda{}^{3} + 12 \\lambda{}^{2} - 21 \\lambda{} - 98 = -(\\lambda{}-7)^{2}(\\lambda{}+2) = 0 $ \n",
    "##### $ \\hspace{0.45cm} \\Rightarrow{} \\lambda{} = 7 (\\text{multiplicity} = 2) \\; \\text{ or } \\; \\lambda{} = -2(\\text{multiplicity} = 1) $\n",
    "##### $ \\hspace{0.15cm} $ ② 행렬 $ A $의 고유값에 대응되는 고유 공간을 찾음\n",
    "##### $ \\hspace{0.45cm} \\text{if } \\; \\lambda{} = 7, \\;\\; A-\\lambda{}I = A-7I = \\begin{bmatrix} -4 & -2 & 4 \\\\ -2 & -1 & 2 \\\\ 4 & 2 & -4 \\end{bmatrix} $\n",
    "##### $ \\hspace{0.6cm} \\begin{bmatrix} A-7I & 0 \\end{bmatrix} = \\begin{bmatrix} -4 & -2 & 4 & 0 \\\\ -2 & -1 & 2 & 0 \\\\ 4 & 2 & -4 & 0 \\end{bmatrix} $ ~ $ \\begin{bmatrix} 1 & 1/2 & -1 &  0 \\\\ 0 & 0 & 0 & 0 \\\\ 0 & 0 & 0 & 0 \\end{bmatrix} $\n",
    "##### $ \\hspace{0.6cm} \\textbf{x} = x_{2} \\begin{bmatrix} -1/2 \\\\ 1 \\\\ 0 \\end{bmatrix} + x_{3} \\begin{bmatrix} 1 \\\\ 0 \\\\ 1 \\end{bmatrix}, \\;\\; \\text{Nul}(A-7I) = \\text{span}(\\{ \\begin{bmatrix} 1 \\\\ 0 \\\\ 1 \\end{bmatrix}, \\begin{bmatrix} -1/2 \\\\ 1 \\\\ 0 \\end{bmatrix} \\}) = \\text{span}(\\{ \\textbf{v}_{1}, \\textbf{v}_{2} \\}) $\n",
    "##### $ \\hspace{0.45cm} \\text{if } \\; \\lambda{} = -2, \\;\\; A-\\lambda{}I = A+2I = \\begin{bmatrix} 5 & -2 & 4 \\\\ -2 & 8 & 2 \\\\ 4 & 2 & 5 \\end{bmatrix} $\n",
    "##### $ \\hspace{0.6cm} \\begin{bmatrix} A+2I & 0 \\end{bmatrix} = \\begin{bmatrix} 5&-2&4&0 \\\\ -2&8&2&0 \\\\ 4&2&5&0 \\end{bmatrix} $ ~ $ \\begin{bmatrix} 1 & 0 & 1 &  0 \\\\ 0 & 1 & 1/2 & 0 \\\\ 0 & 0 & 0 & 0 \\end{bmatrix} $\n",
    "##### $ \\hspace{0.6cm} \\textbf{x} = x_{3} \\begin{bmatrix} -1 \\\\ 1/2 \\\\ 1 \\end{bmatrix}, \\;\\; \\text{Nul}(A+2I) = \\text{span}(\\{ \\begin{bmatrix} -1 \\\\ 1/2 \\\\ 1 \\end{bmatrix} \\}) = \\text{span}(\\{ \\textbf{v}_{3} \\}) $\n",
    "##### $ \\hspace{0.45cm} \\Rightarrow{} \\text{Nul}(A-\\lambda{}I) = \\begin{cases} \\text{span}(\\{ \\textbf{v}_{1}, \\textbf{v}_{2} \\}), \\;\\; \\text{ if } \\; \\lambda{} = 7 \\\\ \\\\ \\text{span} (\\{ \\textbf{v}_{3} \\}), \\;\\;\\;\\;\\;\\;\\;\\, \\text{ if } \\; \\lambda{} = - 2 \\end{cases} $\n",
    "##### $ \\hspace{0.15cm} $ ③ 그람-슈미트 과정 및 직교 기저의 성징을 통해 개별 고유 공간에 대한 직교 기저를 정의함\n",
    "##### $ \\hspace{0.45cm} \\textbf{v}_{1}^{'} = \\textbf{v}_{1} = \\begin{bmatrix} 1 \\\\ 0 \\\\ 1 \\end{bmatrix} $\n",
    "##### $ \\hspace{0.45cm} \\textbf{v}_{2}^{'} = \\textbf{v}_{2} - \\frac{\\textbf{v}_{2}\\cdot{}\\textbf{v}_{1}}{\\textbf{v}_{1}\\cdot{}\\textbf{v}_{1}} \\textbf{v}_{1} = \\frac{1}{4}\\begin{bmatrix} -1 \\\\ 4 \\\\ 1 \\end{bmatrix} $\n",
    "##### $ \\hspace{0.45cm} \\Rightarrow{} \\text{span}(\\{ \\textbf{v}_{1}, \\textbf{v}_{2} \\}) = \\text{span}(\\{ \\textbf{v}_{1}, \\textbf{v}_{2}^{'} \\}) = \\text{Nul}(A-7I) $\n",
    "##### $ \\hspace{0.45cm} \\textbf{v}_{3}^{'} = 2 \\textbf{v}_{3} = 2 \\begin{bmatrix} -1 \\\\ 1/2 \\\\ 1 \\end{bmatrix} = \\begin{bmatrix} -2 \\\\ 1 \\\\ 2 \\end{bmatrix} \\;\\; $ ($ \\because{} \\, $ 직교기저 성질)\n",
    "##### $ \\hspace{0.45cm} \\Rightarrow{} \\text{span}(\\{ \\textbf{v}_{3} \\}) = \\text{span}(\\{ \\textbf{v}_{3}^{'} \\}) = \\text{Nul}(A+2I) $\n",
    "##### $ \\hspace{0.15cm} $ ④ 직교 기저를 정규화하여 정규 직교 기저를 정의함\n",
    "##### $ \\hspace{0.45cm} \\textbf{u}_{1} = \\frac{1}{\\sqrt{2}} \\textbf{v}_{1}^{'} $\n",
    "##### $ \\hspace{0.45cm} \\textbf{u}_{2} = \\frac{1}{\\sqrt{18}} \\textbf{v}_{2}^{'} $\n",
    "##### $ \\hspace{0.45cm} \\textbf{u}_{3} = \\frac{1}{\\sqrt{5}} \\textbf{v}_{3}^{'} $\n",
    "##### $ \\hspace{0.45cm} \\Rightarrow{} \\text{eigen vector set} = \\{ \\textbf{u}_{1}, \\textbf{u}_{2}, \\textbf{u}_{3} \\} $\n",
    "##### $ \\hspace{0.15cm} $ ⑤ 고유값과 정규 직교 기저를 이용하여 행렬 $ V, \\Lambda{} $ 를 정의함\n",
    "##### $ \\hspace{0.45cm} V = \\begin{bmatrix} 1/\\sqrt{2} & -1\\sqrt{18} & -2/3 \\\\ 0 & 4/\\sqrt{18} & -1/3 \\\\ 1/\\sqrt{2} & 1/\\sqrt{18} & 2/3 \\end{bmatrix}, \\;\\; \\Lambda{} = \\begin{bmatrix} 7&0&0 \\\\ 0&7&0 \\\\ 0&0&-2 \\end{bmatrix} $\n",
    "##### $ \\hspace{0.45cm} \\therefore{} A = V\\Lambda{}V^{T} = \\begin{bmatrix} 1/\\sqrt{2}&-1\\sqrt{18}&-2/3 \\\\ 0&4/\\sqrt{18}&-1/3 \\\\ 1/\\sqrt{2}&1/\\sqrt{18}&2/3 \\end{bmatrix} \\begin{bmatrix} 7&0&0 \\\\ 0&7&0 \\\\ 0&0&-2 \\end{bmatrix} \\begin{bmatrix} 1/\\sqrt{2}&-1\\sqrt{18}&-2/3 \\\\ 0&4/\\sqrt{18}&-1/3 \\\\ 1/\\sqrt{2}&1/\\sqrt{18}&2/3 \\end{bmatrix}^{T} $"
   ]
  }
 ],
 "metadata": {
  "kernelspec": {
   "display_name": "Python 3",
   "language": "python",
   "name": "python3"
  },
  "language_info": {
   "codemirror_mode": {
    "name": "ipython",
    "version": 3
   },
   "file_extension": ".py",
   "mimetype": "text/x-python",
   "name": "python",
   "nbconvert_exporter": "python",
   "pygments_lexer": "ipython3",
   "version": "3.11.3"
  },
  "orig_nbformat": 4
 },
 "nbformat": 4,
 "nbformat_minor": 2
}
