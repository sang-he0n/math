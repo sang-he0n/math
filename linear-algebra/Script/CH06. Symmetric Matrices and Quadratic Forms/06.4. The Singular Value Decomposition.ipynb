{
 "cells": [
  {
   "attachments": {},
   "cell_type": "markdown",
   "metadata": {},
   "source": [
    "# CH06.4. **The Singular Value Decomposition**"
   ]
  },
  {
   "cell_type": "markdown",
   "metadata": {},
   "source": [
    "> ## **특이값(Singular Value)**"
   ]
  },
  {
   "cell_type": "markdown",
   "metadata": {},
   "source": [
    "#### **(1) 정의** : 어떠한 행렬 $ \\underset{m \\times{} n}{A} $ 이 존재할 때 $ \\, A^{T}A $ 의 고유값의 제곱근 $ \\, \\sigma{}_{i} $\n",
    "#### $ \\Rightarrow{} \\sigma{}_{i} = || A\\textbf{p}_{i} || = \\sqrt{\\lambda{}_{i}} \\;\\; \\text{ where } \\, \\lambda{}_{i} \\, \\text{ is eigen value for } \\, A^{T}A $\n",
    "#### $ \\hspace{3.6cm} \\text{and } \\, \\textbf{p}_{i} \\, \\text{ is eigen vector corresponding to } \\, \\lambda_{i} \\, \\text{ for } \\, A^{T}A $"
   ]
  },
  {
   "cell_type": "markdown",
   "metadata": {},
   "source": [
    "#### **(`WHY?`)**\n",
    "#### $ \\hspace{0.15cm} A^{T}A = (A^{T}A)^{T} \\;\\; $ \n",
    "#### $ \\hspace{1cm} = PDP^{T} \\;\\; $ ($ \\because{} \\, \\text{symmetric matrix} $)\n",
    "#### $ \\hspace{1cm} = \\begin{bmatrix} \\textbf{p}_{1} & \\cdots{} & \\textbf{p}_{n} \\end{bmatrix} \\begin{bmatrix} \\lambda{}_{1} & 0 & \\cdots{} & 0 \\\\ 0 & \\lambda{}_{2} & \\cdots{} & 0 \\\\ \\vdots{} & \\vdots{} & \\ddots{} & \\vdots{} \\\\ 0 & 0 & \\cdots{} & \\lambda{}_{n} \\end{bmatrix} \\begin{bmatrix} \\textbf{p}_{1}^{T} \\\\ \\vdots{} \\\\ \\textbf{p}_{n} \\end{bmatrix} $\n",
    "#### $ \\hspace{0.15cm} || A\\textbf{p}_{i} ||^{2} = (A\\textbf{p}_{i})^{T}A\\textbf{p}_{i} = \\textbf{p}_{i}^{T}A^{T}A\\textbf{p}_{i} = \\textbf{p}_{i}^{T}\\lambda{}_{i}\\textbf{p}_{i} \\;\\; $ ($ \\because{} \\, A^{T}A\\textbf{p}_{i} = \\lambda{}_{i} \\textbf{p}_{i} $)\n",
    "#### $ \\hspace{1.375cm} = \\lambda{}_{i} \\textbf{p}_{i}^{T}\\textbf{p}_{i} = \\lambda{}_{i} \\;\\; $ ($ \\because{} \\, \\textbf{p}_{i}^{T}\\textbf{p}_{i} = 1, \\;\\; P \\, \\text{ is orthonormal matrix}. $)\n",
    "#### $ \\hspace{0.15cm} \\therefore{} \\sigma{}_{i} = || A\\textbf{p}_{i} || = \\sqrt{\\lambda{}_{i}} $"
   ]
  },
  {
   "cell_type": "markdown",
   "metadata": {},
   "source": [
    "#### **(2) 의미** : **[CONTENTS]**"
   ]
  },
  {
   "cell_type": "markdown",
   "metadata": {},
   "source": [
    "#### **(3) 성질** :\n",
    "#### $ \\hspace{0.15cm} $ ① $ \\, \\sigma{}_{i} \\geq{} 0 \\; \\leftrightarrow{} \\; \\lambda{}_{i} \\geq{} 0 $\n",
    "#### $ \\hspace{0.15cm} $ ② **[CONTENTS]**"
   ]
  },
  {
   "cell_type": "markdown",
   "metadata": {},
   "source": [
    "#### **(3) 예제** :\n",
    "#### $ \\hspace{0.15cm} $ ① 어떠한 행렬 $ \\, A $ 의 특이값을 구하고자 할 때 \n",
    "#### $ \\hspace{0.45cm} A = \\begin{bmatrix} 4 & 11 & 14 \\\\ 8 & 7 & -2 \\end{bmatrix}, \\;\\; A^{T}A = \\begin{bmatrix} 80 & 100 & 40 \\\\ 100 & 170 & 140 \\\\ 40 & 140 & 200 \\end{bmatrix} $\n",
    "#### $ \\hspace{0.45cm} \\det{}(A^{T}A-\\lambda{}I) = \\det{}(\\begin{bmatrix} 80-\\lambda{} & 100 & 40 \\\\ 100 & 170-\\lambda{} & 140 \\\\ 40 & 140 & 200-\\lambda{} \\end{bmatrix}) = (\\lambda{}_{1}-360)(\\lambda{}_{2}-90)\\lambda{}_{3} = 0 $\n",
    "#### $ \\hspace{0.45cm} \\lambda{}_{1} = 360, \\;\\; \\lambda{}_{2} = 90, \\;\\; \\lambda{}_{3} = 0 $\n",
    "#### $ \\hspace{0.45cm} \\therefore{} \\sigma{}_{1} = \\sqrt{360}, \\;\\; \\sigma{}_{2} = \\sqrt{90}, \\;\\; \\sigma_{3} = 0 $\n",
    "#### $ \\hspace{0.15cm} $ ② **[CONTENTS]**"
   ]
  },
  {
   "cell_type": "markdown",
   "metadata": {},
   "source": [
    "<b></b>"
   ]
  },
  {
   "cell_type": "markdown",
   "metadata": {},
   "source": [
    "> ## (Theorem 6-9) **Orthogonal Basis for Column Space via Eigenvectors**"
   ]
  },
  {
   "cell_type": "markdown",
   "metadata": {},
   "source": [
    "#### 벡터 집합 $ \\, \\{ \\textbf{p}_{1}, \\cdots{}, \\textbf{p}_{n} \\} $ 이 행렬 $ \\, \\underset{n\\times{}n}{A^{T}A} $ 의 고유 벡터이고, 그 고유값들은 순번대로 내림차순 정렬될 때($ \\lambda{}_{1} \\geq{} \\lambda{}_{2} \\geq{} \\cdots{} \\geq{} \\lambda{}_{n} $)\n",
    "#### 행렬 $ \\, \\underset{m\\times{}n}{A} $ 가 $ \\, r $ 개의 $ \\, 0 $ 이 아닌 특이값(nonzero singular value)가 있을 때, 아래의 성질이 성립한다.\n",
    "#### **(1)** 벡터 집합 $ \\, \\{ A\\textbf{p}_{1}, \\cdots{}, A\\textbf{p}_{r} \\} $ 은 행렬 $ \\, A $ 의 열 공간(column space)의 직교 기저이다."
   ]
  },
  {
   "cell_type": "markdown",
   "metadata": {},
   "source": [
    "#### **(`WHY?`)**\n",
    "#### $ \\hspace{0.15cm} \\text{if } \\, i \\neq{} j, $\n",
    "#### $ \\hspace{0.3cm} (A\\textbf{p}_{i}) \\cdot{} (A\\textbf{p}_{j}) = (A\\textbf{p}_{i})^{T}(A\\textbf{p}_{j}) = \\textbf{p}_{i}^{T}A^{T}A\\textbf{p}_{j} = \\textbf{p}_{i}^{T}\\lambda{}_\\textbf{j}\\textbf{p}_{j} = 0 \\;\\; $ ($ \\because{} \\, \\text{orthogonal} $)\n",
    "#### $ \\hspace{0.3cm}\\Rightarrow{} \\{ \\textbf{A}\\textbf{p}_{1}, \\cdots{}, \\textbf{A}\\textbf{p}_{n} \\} \\, \\text{ is orthogonal set. } \\textbf{but} \\, 1 \\leq{} i \\leq{} r $\n",
    "#### $ \\hspace{0.3cm} \\Leftrightarrow{} \\{ \\textbf{A}\\textbf{p}_{1}, \\cdots{}, \\textbf{A}\\textbf{p}_\\textbf{r} \\} \\, \\text{ is linearly independent set.} \\;\\; $ ($ \\because{} \\, $ Theorem 5-4)\n",
    "#### $ \\hspace{0.15cm} \\text{if } \\, \\textbf{v} \\in{} \\text{col}(A), \\;\\; \\textbf{v} = A\\textbf{x} $\n",
    "#### $ \\hspace{0.3cm} \\textbf{x} = c_{1} \\textbf{p}_{1} + \\cdots{} + c_{n} \\textbf{p}_{n} \\;\\; $ ($ \\because{} \\, \\{ \\textbf{p}_{1}, \\cdots{}, \\textbf{p}_{n} \\} \\,\\text{ is orthonormal basis of } \\, \\mathbb{R}^{n}, \\;\\; $ Theorem 4-4)\n",
    "#### $ \\hspace{0.3cm} \\textbf{v} = A (c_{1} \\textbf{p}_{1} + \\cdots{} + c_{n} \\textbf{p}_{n}) = c_{1} A \\textbf{p}_{1} + \\cdots{} + c_{r} A \\textbf{p}_{r} + \\textbf{0} + \\cdots{} + \\textbf{0} $\n",
    "#### $ \\hspace{0.15cm} \\therefore{} \\, \\{ A\\textbf{p}_{1}, \\cdots{}, A\\textbf{p}_{r} \\} \\, \\text{ is orthogonal basis for } \\, \\text{col}(A) \\in{} \\mathbb{R}^{m} $"
   ]
  },
  {
   "cell_type": "markdown",
   "metadata": {},
   "source": [
    "#### **(2)** 행렬 $ \\, A $ 의 랭크는 $ r $ 이다. "
   ]
  },
  {
   "cell_type": "markdown",
   "metadata": {},
   "source": [
    "#### **(`PLUS`)** 행렬의 행($ m $)과 열($ n $) 개수에 따른 랭크($ r $)의 관계\n",
    "#### $ \\hspace{0.15cm} $ ① $ \\text{if } \\, m < n, \\;\\; r \\leq{} m \\; $ (undetermined) \n",
    "#### $ \\hspace{0.15cm} $ ② $ \\text{if } \\, m > n, \\;\\; r \\leq{} n \\leq{} m \\; $ (overdetermined)"
   ]
  },
  {
   "cell_type": "markdown",
   "metadata": {},
   "source": [
    "<b></b>"
   ]
  },
  {
   "cell_type": "markdown",
   "metadata": {},
   "source": [
    "> ## **특이값 분해(Singular Value Decomposition)**"
   ]
  },
  {
   "cell_type": "markdown",
   "metadata": {},
   "source": [
    "#### **(1) 정의** : 어떠한 행렬 $ \\underset{m \\times{} n}{A} $ 의 랭크가 $ \\, r $ 이고 그 행렬의 특이값들이 내림차순 정렬될 때,\n",
    "#### $ \\hspace{1.05cm} $ **정규 직교 행렬** $ \\, U, V $ 와 특이값으로 이루어진 대각 행렬 $ \\, D $ 의 관계\n",
    "#### $ \\Rightarrow{} A = U\\underset{n\\times{}n}{\\Sigma{}}V^{T} = \\begin{bmatrix} \\textbf{u}_{1} & \\cdots{} & \\textbf{u}_{m} \\end{bmatrix} \\begin{bmatrix} \\underset{r\\times{}r}{D} & 0 \\\\ 0 & \\underset{(m-r)\\times{}(n-r)}{0} \\end{bmatrix} \\begin{bmatrix} \\textbf{v}_{1}^{T} \\\\ \\vdots{} \\\\ \\textbf{v}_{n}^{T} \\end{bmatrix} $\n",
    "#### $ \\hspace{0.6cm} \\text{where } \\, D = \\begin{bmatrix} \\sigma{}_{1} & 0 & \\cdots{} & 0 \\\\ 0 & \\sigma{}_{1} & \\cdots{} & 0 \\\\ \\vdots{} & \\vdots{} & \\ddots{} & \\vdots{} \\\\ 0 & 0 & \\cdots{} & \\sigma{}_{r} \\end{bmatrix} $\n",
    "#### $ \\hspace{0.6cm} \\text{and } \\, \\sigma{}_{1} \\geq{} \\sigma{}_{2} \\geq{} \\cdots{} \\geq{} \\sigma{}_{r} > 0 $\n",
    "#### $ \\hspace{0.6cm} \\text{and } U = \\begin{bmatrix} \\textbf{u}_{1} & \\cdots{} & \\textbf{u}_{m} \\end{bmatrix} \\in{} \\mathbb{R}^{m\\times{}m} $\n",
    "#### $ \\hspace{0.6cm} \\text{and } V = \\begin{bmatrix} \\textbf{v}_{1} & \\cdots{} & \\textbf{v}_{n} \\end{bmatrix} \\in{} \\mathbb{R}^{n\\times{}n} $\n",
    "#### $ \\hspace{0.6cm} \\text{and } U, V \\, \\text{ is orthonormal matrix.} $"
   ]
  },
  {
   "cell_type": "markdown",
   "metadata": {},
   "source": [
    "#### **(`PLUS`)** 행렬 $ \\, U $ 의 열들을 좌측 특이 벡터(left singular vectors), $ \\, V $ 의 열을 우측 특이 벡터(Right singular vectors)라고 정의함"
   ]
  },
  {
   "cell_type": "markdown",
   "metadata": {},
   "source": [
    "#### **(`WHY?`)**\n",
    "#### $ \\hspace{0.15cm} \\{ \\underset{m\\times{}1}{A\\textbf{v}_{1}}, \\cdots{}, A\\textbf{v}_{r} \\} \\, \\text{ is orthogonal basis for } \\, \\text{col}(A) \\in{} \\mathbb{R}^{m} $\n",
    "#### $ \\hspace{0.15cm} \\text{normalize } \\, \\{ A\\textbf{v}_{1}, \\cdots{}, A\\textbf{v}_{r} \\} \\; \\rightarrow{} \\; \\textbf{u}_{i} = \\frac{1}{||A\\textbf{v}_{i}||} A\\textbf{v}_{i} = \\frac{1}{\\sigma{}_{i}} A\\textbf{v}_{i} \\; \\rightarrow{} \\; \\{ \\textbf{u}_{i}, \\cdots{}, \\textbf{u}_{r} \\} $\n",
    "#### $ \\hspace{0.15cm} \\text{extend } \\, \\{ \\textbf{u}_{i}, \\cdots{}, \\textbf{u}_{r} \\} \\; \\rightarrow{} \\; \\{ \\textbf{u}_{i}, \\cdots{}, \\textbf{u}_{r}, \\cdots{}, \\textbf{u}_{m} \\} $\n",
    "#### $ \\hspace{0.15cm} \\text{let } \\, \\underset{n\\times{}n}{V} = \\begin{bmatrix} \\textbf{v}_{1} & \\cdots{} & \\textbf{v}_{n} \\end{bmatrix}, \\;\\;\\underset{m\\times{}m}{U} = \\begin{bmatrix} \\textbf{u}_{1} & \\cdots{} & \\textbf{u}_{m} \\end{bmatrix} $\n",
    "#### $ \\hspace{0.15cm} AV = \\begin{bmatrix} A\\textbf{v}_{1} & \\cdots{} & A\\textbf{v}_{n} \\end{bmatrix} = \\begin{bmatrix} A\\textbf{v}_{1} & \\cdots{} & A\\textbf{v}_{r} & \\textbf{0} & \\cdots{} & \\textbf{0} \\end{bmatrix} $\n",
    "#### $ \\hspace{0.8cm} = \\begin{bmatrix} \\sigma{}_{1}\\textbf{u}_{1} & \\cdots{} & \\sigma{}_{r}\\textbf{u}_{r} & \\textbf{0} & \\cdots{} & \\textbf{0} \\end{bmatrix} $\n",
    "#### $ \\hspace{0.15cm} U\\Sigma{} = \\begin{bmatrix} \\textbf{u}_{1} & \\cdots{} & \\textbf{u}_{m} \\end{bmatrix} \\begin{bmatrix} \\underset{r\\times{}r}{D} & 0 \\\\ 0 & \\underset{(m-r)\\times{}(n-r)}{0} \\end{bmatrix} $\n",
    "#### $ \\hspace{0.75cm} = \\begin{bmatrix} \\textbf{u}_{1} & \\cdots{} & \\textbf{u}_{m} \\end{bmatrix} \\begin{bmatrix} \\begin{array}{cccc|ccc} \\sigma{}_{1} & 0 & \\cdots{} & 0 & 0 & \\cdots{} & 0 \\\\ 0 & \\sigma{}_{1} & \\cdots{} & 0 & 0 & \\cdots{} & 0 \\\\ \\vdots{} & \\vdots{} & \\vdots{} & \\ddots{} & \\vdots{} & \\ddots{} & \\vdots{} \\\\ 0 & 0 & \\cdots{} & \\sigma{}_{r} & 0 & \\cdots{} & 0 \\\\ \\hline{} 0 & 0 & \\cdots{} & 0 & 0 & \\cdots{} & 0 \\\\ \\vdots{} & \\vdots{} & \\ddots{} & \\vdots{} & \\vdots{} & \\ddots{} & \\vdots{} \\\\ 0 & \\cdots{} & 0 & 0 & 0 & \\cdots{} & 0 \\end{array} \\end{bmatrix} $\n",
    "#### $ \\hspace{0.75cm} = \\begin{bmatrix} \\sigma{}_{1}\\textbf{u}_{1} & \\cdots{} & \\sigma{}_{r}\\textbf{u}_{r} & \\textbf{0} & \\cdots{} & \\textbf{0} \\end{bmatrix} $\n",
    "#### $ \\hspace{0.15cm} \\Rightarrow{} AV = U\\Sigma{} $\n",
    "#### $ \\hspace{0.15cm} \\therefore{} A = U\\Sigma{}V^{T} \\;\\; $ ($ \\because{} \\, V^{T} = V^{-1}, \\;\\; V \\, \\text{ is orthonormal matrix} $)"
   ]
  },
  {
   "cell_type": "markdown",
   "metadata": {},
   "source": [
    "#### **(`PLUS`)** 행렬의 특이값 분해는 $ \\, U, V $ 정의에 따라 다르기 때문에 **유일하게 연산**되지 않음"
   ]
  },
  {
   "cell_type": "markdown",
   "metadata": {},
   "source": [
    "#### **(2) 연산 방법** :\n",
    "#### $ \\hspace{0.15cm} $ ① **[CONTENTS]**"
   ]
  },
  {
   "cell_type": "markdown",
   "metadata": {},
   "source": [
    "#### **(3) 예제** : \n",
    "#### $ \\hspace{0.15cm} $ ① 어떠한 행렬 $ \\, A $ 의 특이값 분해를 구하고자 할 때 \n",
    "#### $ \\hspace{0.45cm} A = \\begin{bmatrix} 4 & 11 & 14 \\\\ 8 & 7 & -2 \\end{bmatrix}, \\;\\; A^{T}A = \\begin{bmatrix} 80 & 100 & 40 \\\\ 100 & 170 & 140 \\\\ 40 & 140 & 200 \\end{bmatrix} $\n",
    "#### $ \\hspace{0.45cm} \\sigma{}_{1} = \\sqrt{360}, \\;\\; \\sigma{}_{2} = \\sqrt{90}, \\;\\; \\sigma_{3} = 0 $\n",
    "#### $ \\hspace{0.45cm} $ **[CONTENTS]**\n",
    "#### $ \\hspace{0.15cm} $ ② 어떠한 행렬 $ \\, A $ 의 특이값 분해를 구하고자 할 때 \n",
    "#### $ \\hspace{0.45cm} A = \\begin{bmatrix} 1 & -1 \\\\ -2 & 2 \\\\ 2 & -2 \\end{bmatrix}, \\;\\; A^{T}A = \\begin{bmatrix} 9 & -9 \\\\ -9 & 9 \\end{bmatrix} $ \n",
    "#### $ \\hspace{0.45cm} $ **[CONTENTS]**"
   ]
  },
  {
   "cell_type": "markdown",
   "metadata": {},
   "source": [
    "<b></b>"
   ]
  },
  {
   "cell_type": "markdown",
   "metadata": {},
   "source": [
    "> ## (Theorem 6-10) **Bases for Fundamental Subspace**"
   ]
  },
  {
   "cell_type": "markdown",
   "metadata": {},
   "source": [
    "#### 어떠한 행렬 $ \\, \\underset{m\\times{}n}{A} $ 의 랭크가 $ \\, r $ 일 때 아래가 성립한다. \n",
    "#### **(1)** 좌측 특이 벡터 $ \\, \\{ \\textbf{u}_{1}, \\cdots{}, \\textbf{u}_{r} \\} $ 은 행렬 $ \\, A \\, $ 열 공간(column space)의 **정규 직교 기저**이다. \n",
    "#### **(2)** 좌측 특이 벡터 $ \\, \\{ \\textbf{u}_{r+1}, \\cdots{}, \\textbf{u}_{m} \\} $ 은 행렬 $ \\, A^{T} $ 영 공간(null space)의 **정규 직교 기저**이다. \n",
    "#### **(3)** 우측 특이 벡터 $ \\, \\{ \\textbf{v}_{1}, \\cdots{}, \\textbf{v}_{r} \\} $ 은 행렬 $ \\, A \\, $ 행 공간(row space)의 **정규 직교 기저**이다.\n",
    "#### **(4)** 우측 특이 벡터 $ \\, \\{ \\textbf{v}_{r+1}, \\cdots{}, \\textbf{v}_{n} \\} $ 은 행렬 $ \\, A $ 영 공간의 **정규 직교 기저**이다.\n",
    "#### **[GRAPH]**"
   ]
  },
  {
   "cell_type": "markdown",
   "metadata": {},
   "source": [
    "<b></b>"
   ]
  },
  {
   "cell_type": "markdown",
   "metadata": {},
   "source": [
    "> ## **축소 특이값 분해(Reduced SVD)**"
   ]
  },
  {
   "cell_type": "markdown",
   "metadata": {},
   "source": [
    "#### **(1) 정의** : 전체 특이값 분해를 수행하는 대신, 더 작은 차원의 **근사치**로 행렬을 표현하는 방법\n",
    "#### $ \\Rightarrow{} A \\approx{} U_{r} D V_{r}^{T} = \\begin{bmatrix} \\textbf{u}_{1} & \\cdots{} & \\textbf{u}_{r} \\end{bmatrix} \\begin{bmatrix} \\sigma{}_{1} & 0 & \\cdots{} & 0 \\\\ 0 & \\sigma{}_{1} & \\cdots{} & 0 \\\\ \\vdots{} & \\vdots{} & \\ddots{} & \\vdots{} \\\\ 0 & 0 & \\cdots{} & \\sigma{}_{r} \\end{bmatrix} \\begin{bmatrix} \\textbf{v}_{1}^{T} \\\\ \\vdots{} \\\\ \\textbf{v}_{r}^{T} \\end{bmatrix} $ \n",
    "#### $ \\hspace{0.6cm} \\text{where } \\, \\sigma{}_{1} \\geq{} \\sigma{}_{2} \\geq{} \\cdots{} \\geq{} \\sigma{}_{r} > 0 $\n",
    "#### $ \\hspace{0.6cm} \\text{and } U = \\begin{bmatrix} \\textbf{u}_{1} & \\cdots{} & \\textbf{u}_{m} \\end{bmatrix} = \\begin{bmatrix} \\begin{array}{c|c} U_{r} & U_{m-r} \\end{array} \\end{bmatrix} \\in{} \\mathbb{R}^{m\\times{}m} $\n",
    "#### $ \\hspace{0.6cm} \\text{and } V = \\begin{bmatrix} \\textbf{v}_{1} & \\cdots{} & \\textbf{v}_{n} \\end{bmatrix} = \\begin{bmatrix} \\begin{array}{c|c} V_{r} & V_{n-r} \\end{array} \\end{bmatrix} \\in{} \\mathbb{R}^{n\\times{}n} $\n",
    "#### $ \\hspace{0.6cm} \\text{and } U, V \\, \\text{ is orthonormal matrix.} $"
   ]
  }
 ],
 "metadata": {
  "kernelspec": {
   "display_name": "Python 3",
   "language": "python",
   "name": "python3"
  },
  "language_info": {
   "codemirror_mode": {
    "name": "ipython",
    "version": 3
   },
   "file_extension": ".py",
   "mimetype": "text/x-python",
   "name": "python",
   "nbconvert_exporter": "python",
   "pygments_lexer": "ipython3",
   "version": "3.11.3"
  },
  "orig_nbformat": 4
 },
 "nbformat": 4,
 "nbformat_minor": 2
}
