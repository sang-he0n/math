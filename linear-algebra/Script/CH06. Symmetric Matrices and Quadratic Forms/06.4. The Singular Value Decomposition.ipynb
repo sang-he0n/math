{
 "cells": [
  {
   "attachments": {},
   "cell_type": "markdown",
   "metadata": {},
   "source": [
    "# CH06.4. **The Singular Value Decomposition**"
   ]
  },
  {
   "cell_type": "markdown",
   "metadata": {},
   "source": [
    "> ## **특이값(Singular Value)**"
   ]
  },
  {
   "cell_type": "markdown",
   "metadata": {},
   "source": [
    "#### **(1) 정의** : 어떠한 행렬 $ \\underset{m \\times{} n}{A} $ 이 존재할 때 $ \\, A^{T}A $ 의 고유값의 제곱근 $ \\, \\sigma{}_{i} $\n",
    "#### $ \\Rightarrow{} \\sigma{}_{i} = || A\\textbf{p}_{i} || = \\sqrt{\\lambda{}_{i}} \\;\\; \\text{ where } \\, \\lambda{}_{i} \\, \\text{ is eigen value for } \\, A^{T}A $\n",
    "#### $ \\hspace{3.6cm} \\text{and } \\, \\textbf{p}_{i} \\, \\text{ is eigen vector corresponding to } \\, \\lambda_{i} \\, \\text{ for } \\, A^{T}A $"
   ]
  },
  {
   "cell_type": "markdown",
   "metadata": {},
   "source": [
    "#### **(`WHY?`)**\n",
    "#### $ \\hspace{0.15cm} A^{T}A = (A^{T}A)^{T} \\;\\; $ \n",
    "#### $ \\hspace{1cm} = PDP^{T} \\;\\; $ ($ \\because{} \\, \\text{symmetric matrix} $)\n",
    "#### $ \\hspace{1cm} = \\begin{bmatrix} \\textbf{p}_{1} & \\cdots{} & \\textbf{p}_{n} \\end{bmatrix} \\begin{bmatrix} \\lambda{}_{1} & 0 & \\cdots{} & 0 \\\\ 0 & \\lambda{}_{2} & \\cdots{} & 0 \\\\ \\vdots{} & \\vdots{} & \\ddots{} & \\vdots{} \\\\ 0 & 0 & \\cdots{} & \\lambda{}_{n} \\end{bmatrix} \\begin{bmatrix} \\textbf{p}_{1}^{T} \\\\ \\vdots{} \\\\ \\textbf{p}_{n} \\end{bmatrix} $\n",
    "#### $ \\hspace{0.15cm} || A\\textbf{p}_{i} ||^{2} = (A\\textbf{p}_{i})^{T}A\\textbf{p}_{i} = \\textbf{p}_{i}^{T}A^{T}A\\textbf{p}_{i} = \\textbf{p}_{i}^{T}\\lambda{}_{i}\\textbf{p}_{i} \\;\\; $ ($ \\because{} \\, A^{T}A\\textbf{p}_{i} = \\lambda{}_{i} \\textbf{p}_{i} $)\n",
    "#### $ \\hspace{1.375cm} = \\lambda{}_{i} \\textbf{p}_{i}^{T}\\textbf{p}_{i} = \\lambda{}_{i} \\;\\; $ ($ \\because{} \\, \\textbf{p}_{i}^{T}\\textbf{p}_{i} = 1, \\;\\; P \\, \\text{ is orthonormal matrix}. $)\n",
    "#### $ \\hspace{0.15cm} \\therefore{} \\sigma{}_{i} = || A\\textbf{p}_{i} || = \\sqrt{\\lambda{}_{i}} $"
   ]
  },
  {
   "cell_type": "markdown",
   "metadata": {},
   "source": [
    "#### **(2) 의미** : **[CONTENTS]**"
   ]
  },
  {
   "cell_type": "markdown",
   "metadata": {},
   "source": [
    "#### **(3) 성질** :\n",
    "#### $ \\hspace{0.15cm} $ ① $ \\, \\sigma{}_{i} \\geq{} 0 $\n",
    "#### $ \\hspace{0.15cm} $ ② **[CONTENTS]**"
   ]
  },
  {
   "cell_type": "markdown",
   "metadata": {},
   "source": [
    "#### **(3) 예제** :\n",
    "#### $ \\hspace{0.15cm} $ ① 어떠한 행렬 $ \\, A $ 의 특이값을 구하고자 할 때 \n",
    "#### $ \\hspace{0.55cm} A = \\begin{bmatrix} 4 & 11 & 14 \\\\ 8 & 7 & -2 \\end{bmatrix}, \\;\\; A^{T}A = \\begin{bmatrix} 80 & 100 & 40 \\\\ 100 & 170 & 140 \\\\ 40 & 140 & 200 \\end{bmatrix} $\n",
    "#### $ \\hspace{0.15cm} $ ② **[CONTENTS]**"
   ]
  },
  {
   "cell_type": "markdown",
   "metadata": {},
   "source": [
    "<b></b>"
   ]
  },
  {
   "cell_type": "markdown",
   "metadata": {},
   "source": [
    "> ## **특이값 분해(Singular Value Decomposition)**"
   ]
  },
  {
   "cell_type": "markdown",
   "metadata": {},
   "source": [
    "#### **(1) 정의** : **[CONTENTS]**"
   ]
  },
  {
   "cell_type": "markdown",
   "metadata": {},
   "source": [
    "<b></b>"
   ]
  },
  {
   "cell_type": "markdown",
   "metadata": {},
   "source": [
    "> ## **축소 특이값 분해(Reduced SVD)**"
   ]
  },
  {
   "cell_type": "markdown",
   "metadata": {},
   "source": [
    "#### **(1) 정의** : **[CONTENTS]**"
   ]
  },
  {
   "cell_type": "markdown",
   "metadata": {},
   "source": [
    "<b></b>"
   ]
  },
  {
   "cell_type": "markdown",
   "metadata": {},
   "source": [
    "> ## **유사 역행렬(Pesudoinverse Matrix)**"
   ]
  },
  {
   "cell_type": "markdown",
   "metadata": {},
   "source": [
    "#### **(1) 정의** : **[CONTENTS]**"
   ]
  },
  {
   "cell_type": "markdown",
   "metadata": {},
   "source": [
    "<b></b>"
   ]
  },
  {
   "cell_type": "markdown",
   "metadata": {},
   "source": [
    "<b></b>"
   ]
  }
 ],
 "metadata": {
  "kernelspec": {
   "display_name": "Python 3",
   "language": "python",
   "name": "python3"
  },
  "language_info": {
   "codemirror_mode": {
    "name": "ipython",
    "version": 3
   },
   "file_extension": ".py",
   "mimetype": "text/x-python",
   "name": "python",
   "nbconvert_exporter": "python",
   "pygments_lexer": "ipython3",
   "version": "3.11.3"
  },
  "orig_nbformat": 4
 },
 "nbformat": 4,
 "nbformat_minor": 2
}
