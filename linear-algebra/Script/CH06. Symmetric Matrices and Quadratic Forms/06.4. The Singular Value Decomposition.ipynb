{
 "cells": [
  {
   "attachments": {},
   "cell_type": "markdown",
   "metadata": {},
   "source": [
    "# CH06.4. **The Singular Value Decomposition**"
   ]
  },
  {
   "cell_type": "markdown",
   "metadata": {},
   "source": [
    "> ## **특이값(Singular Value)**"
   ]
  },
  {
   "cell_type": "markdown",
   "metadata": {},
   "source": [
    "#### **(1) 정의** : 어떠한 행렬 $ \\underset{m \\times{} n}{A} $ 이 존재할 때 $ \\, A^{T}A $ 의 고유값의 제곱근 $ \\, \\sigma{}_{i} $\n",
    "#### $ \\Rightarrow{} \\sigma{}_{i} = || A\\textbf{p}_{i} || = \\sqrt{\\lambda{}_{i}} \\;\\; \\text{ where } \\, \\lambda{}_{i} \\, \\text{ is eigen value for } \\, A^{T}A $\n",
    "#### $ \\hspace{3.6cm} \\text{and } \\, \\textbf{p}_{i} \\, \\text{ is eigen vector corresponding to } \\, \\lambda_{i} \\, \\text{ for } \\, A^{T}A $"
   ]
  },
  {
   "cell_type": "markdown",
   "metadata": {},
   "source": [
    "#### **(`WHY?`)**\n",
    "#### $ \\hspace{0.15cm} A^{T}A = (A^{T}A)^{T} \\;\\; $ \n",
    "#### $ \\hspace{1cm} = PDP^{T} \\;\\; $ ($ \\because{} \\, \\text{symmetric matrix} $)\n",
    "#### $ \\hspace{1cm} = \\begin{bmatrix} \\textbf{p}_{1} & \\cdots{} & \\textbf{p}_{n} \\end{bmatrix} \\begin{bmatrix} \\lambda{}_{1} & 0 & \\cdots{} & 0 \\\\ 0 & \\lambda{}_{2} & \\cdots{} & 0 \\\\ \\vdots{} & \\vdots{} & \\ddots{} & \\vdots{} \\\\ 0 & 0 & \\cdots{} & \\lambda{}_{n} \\end{bmatrix} \\begin{bmatrix} \\textbf{p}_{1}^{T} \\\\ \\vdots{} \\\\ \\textbf{p}_{n} \\end{bmatrix} $\n",
    "#### $ \\hspace{0.15cm} || A\\textbf{p}_{i} ||^{2} = (A\\textbf{p}_{i})^{T}A\\textbf{p}_{i} = \\textbf{p}_{i}^{T}A^{T}A\\textbf{p}_{i} = \\textbf{p}_{i}^{T}\\lambda{}_{i}\\textbf{p}_{i} \\;\\; $ ($ \\because{} \\, A^{T}A\\textbf{p}_{i} = \\lambda{}_{i} \\textbf{p}_{i} $)\n",
    "#### $ \\hspace{1.375cm} = \\lambda{}_{i} \\textbf{p}_{i}^{T}\\textbf{p}_{i} = \\lambda{}_{i} \\;\\; $ ($ \\because{} \\, \\textbf{p}_{i}^{T}\\textbf{p}_{i} = 1, \\;\\; P \\, \\text{ is orthonormal matrix}. $)\n",
    "#### $ \\hspace{0.15cm} \\therefore{} \\sigma{}_{i} = || A\\textbf{p}_{i} || = \\sqrt{\\lambda{}_{i}} $"
   ]
  },
  {
   "cell_type": "markdown",
   "metadata": {},
   "source": [
    "#### **(2) 의미** : **[CONTENTS]**"
   ]
  },
  {
   "cell_type": "markdown",
   "metadata": {},
   "source": [
    "#### **(3) 성질** :\n",
    "#### $ \\hspace{0.15cm} $ ① $ \\, \\sigma{}_{i} \\geq{} 0 \\, \\rightarrow{} \\, \\lambda{}_{i} \\geq{} 0 $\n",
    "#### $ \\hspace{0.15cm} $ ② **[CONTENTS]**"
   ]
  },
  {
   "cell_type": "markdown",
   "metadata": {},
   "source": [
    "#### **(3) 예제** :\n",
    "#### $ \\hspace{0.15cm} $ ① 어떠한 행렬 $ \\, A $ 의 특이값을 구하고자 할 때 \n",
    "#### $ \\hspace{0.55cm} A = \\begin{bmatrix} 4 & 11 & 14 \\\\ 8 & 7 & -2 \\end{bmatrix}, \\;\\; A^{T}A = \\begin{bmatrix} 80 & 100 & 40 \\\\ 100 & 170 & 140 \\\\ 40 & 140 & 200 \\end{bmatrix} $\n",
    "#### $ \\hspace{0.55cm} \\det{}(A-\\lambda{}I) = $ **[LATEX]**\n",
    "#### $ \\hspace{0.15cm} $ ② **[CONTENTS]**"
   ]
  },
  {
   "cell_type": "markdown",
   "metadata": {},
   "source": [
    "<b></b>"
   ]
  },
  {
   "cell_type": "markdown",
   "metadata": {},
   "source": [
    "> ## (Theorem 6-9) **_**"
   ]
  },
  {
   "cell_type": "markdown",
   "metadata": {},
   "source": [
    "#### 벡터 집합 $ \\, \\{ \\textbf{p}_{1}, \\cdots{}, \\textbf{p}_{n} \\} $ 이 행렬 $ \\, \\underset{n\\times{}n}{A^{T}A} $ 의 고유 벡터이고, 그 고유값들은 순번대로 내림차순 정렬될 때($ \\lambda{}_{1} \\geq{} \\lambda{}_{2} \\geq{} \\cdots{} \\geq{} \\lambda{}_{n} $)\n",
    "#### 행렬 $ \\, \\underset{m\\times{}n}{A} $ 가 $ \\, r $ 개의 $ \\, 0 $ 이 아닌 특이값(nonzero singular value)가 있을 때, 아래의 성질이 성립한다.\n",
    "#### **(1)** 벡터 집합 $ \\, \\{ A\\textbf{p}_{1}, \\cdots{}, A\\textbf{p}_{r} \\} $ 은 행렬 $ \\, A $ 의 열 공간(column space)의 직교 기저이다."
   ]
  },
  {
   "cell_type": "markdown",
   "metadata": {},
   "source": [
    "#### **(`WHY?`)**\n",
    "#### $ \\hspace{0.15cm} \\text{if } \\, i \\neq{} j, $\n",
    "#### $ \\hspace{0.3cm} (A\\textbf{p}_{i}) \\cdot{} (A\\textbf{p}_{j}) = (A\\textbf{p}_{i})^{T}(A\\textbf{p}_{j}) = \\textbf{p}_{i}^{T}A^{T}A\\textbf{p}_{j} = \\textbf{p}_{i}^{T}\\lambda{}_\\textbf{j}\\textbf{p}_{j} = 0 \\;\\; $ ($ \\because{} \\, \\text{orthogonal} $)\n",
    "#### $ \\hspace{0.3cm}\\Rightarrow{} \\{ \\textbf{A}\\textbf{p}_{1}, \\cdots{}, \\textbf{A}\\textbf{p}_{n} \\} \\, \\text{ is orthogonal set. } \\textbf{but} \\, 1 \\leq{} i \\leq{} r $\n",
    "#### $ \\hspace{0.3cm} \\Leftrightarrow{} \\{ \\textbf{A}\\textbf{p}_{1}, \\cdots{}, \\textbf{A}\\textbf{p}_\\textbf{r} \\} \\, \\text{ is linearly independent set.} \\;\\; $ ($ \\because{} \\, $ Theorem 5-4)\n",
    "#### $ \\hspace{0.15cm} \\text{if } \\, \\textbf{v} \\in{} \\text{col}(A), \\;\\; \\textbf{v} = A\\textbf{x} $\n",
    "#### $ \\hspace{0.3cm} \\textbf{x} = c_{1} \\textbf{p}_{1} + \\cdots{} + c_{n} \\textbf{p}_{n} \\;\\; $ ($ \\because{} \\, \\{ \\textbf{p}_{1}, \\cdots{}, \\textbf{p}_{n} \\} \\,\\text{ is orthonormal basis of } \\, \\mathbb{R}^{n}, \\;\\; $ Theorem 4-4)\n",
    "#### $ \\hspace{0.3cm} \\textbf{v} = A (c_{1} \\textbf{p}_{1} + \\cdots{} + c_{n} \\textbf{p}_{n}) = c_{1} A \\textbf{p}_{1} + \\cdots{} + c_{r} A \\textbf{p}_{r} + \\textbf{0} + \\cdots{} + \\textbf{0} $\n",
    "#### $ \\hspace{0.15cm} \\therefore{} \\, \\{ A\\textbf{p}_{1}, \\cdots{}, A\\textbf{p}_{r} \\} \\, \\text{ is orthogonal basis for } \\, \\text{col}(A) \\in{} \\mathbb{R}^{m} $"
   ]
  },
  {
   "cell_type": "markdown",
   "metadata": {},
   "source": [
    "#### **(2)** 행렬 $ \\, A $ 의 랭크는 $ r $ 이다. "
   ]
  },
  {
   "cell_type": "markdown",
   "metadata": {},
   "source": [
    "#### **(`PLUS`)** 행렬의 행($ m $)과 열($ n $) 개수에 따른 랭크($ r $)의 관계\n",
    "#### $ \\hspace{0.15cm} $ ① $ \\text{if } \\, m < n, \\;\\; r \\leq{} m \\; $ (undetermined) \n",
    "#### $ \\hspace{0.15cm} $ ② $ \\text{if } \\, m > n, \\;\\; r \\leq{} n \\leq{} m \\; $ (overdetermined)"
   ]
  },
  {
   "cell_type": "markdown",
   "metadata": {},
   "source": [
    "<b></b>"
   ]
  },
  {
   "cell_type": "markdown",
   "metadata": {},
   "source": [
    "> ## **특이값 분해(Singular Value Decomposition)**"
   ]
  },
  {
   "cell_type": "markdown",
   "metadata": {},
   "source": [
    "#### **(1) 정의** : 어떠한 행렬 $ \\underset{m \\times{} n}{A} $ 의 랭크가 $ \\, r $ 이고, 그 행렬의 특이값들이 순번대로 내림차순 정렬될 때 ~\n",
    "#### $ \\Rightarrow{} A = U\\underset{n\\times{}n}{\\Sigma{}}V^{T} = U \\begin{bmatrix} \\underset{r\\times{}r}{D} & 0 \\\\ 0 & \\underset{(m-r)\\times{}(n-r)}{0} \\end{bmatrix}V^{T}, \\;\\; \\text{ where } \\, D = \\begin{bmatrix} \\sigma{}_{1} & 0 & \\cdots{} & 0 \\\\ \\end{bmatrix} $\n",
    "#### $ \\hspace{7.05cm} \\text{and } \\, \\sigma{}_{1} \\geq{} \\sigma{}_{2} \\geq{} \\cdots{} \\geq{} \\sigma{}_{r} > 0 $\n",
    "#### $ \\hspace{7.05cm} \\text{and } U = \\begin{bmatrix} \\textbf{u}_{1} & \\cdots{} & \\textbf{u}_{m} \\end{bmatrix}, \\;\\; \\textbf{u}_{i} $\n",
    "#### $ \\hspace{7.05cm} \\text{and } V = \\begin{bmatrix} \\textbf{v}_{1} & \\cdots{} & \\textbf{v}_{n} \\end{bmatrix} $"
   ]
  },
  {
   "cell_type": "markdown",
   "metadata": {},
   "source": [
    "#### **(`WHY?`)**\n",
    "#### $ \\hspace{0.15cm} $"
   ]
  },
  {
   "cell_type": "markdown",
   "metadata": {},
   "source": [
    "<b></b>"
   ]
  },
  {
   "cell_type": "markdown",
   "metadata": {},
   "source": [
    "> ## **축소 특이값 분해(Reduced SVD)**"
   ]
  },
  {
   "cell_type": "markdown",
   "metadata": {},
   "source": [
    "#### **(1) 정의** : **[CONTENTS]**"
   ]
  },
  {
   "cell_type": "markdown",
   "metadata": {},
   "source": [
    "<b></b>"
   ]
  },
  {
   "cell_type": "markdown",
   "metadata": {},
   "source": [
    "> ## **유사 역행렬(Pesudoinverse Matrix)**"
   ]
  },
  {
   "cell_type": "markdown",
   "metadata": {},
   "source": [
    "#### **(1) 정의** : **[CONTENTS]**"
   ]
  },
  {
   "cell_type": "markdown",
   "metadata": {},
   "source": [
    "<b></b>"
   ]
  },
  {
   "cell_type": "markdown",
   "metadata": {},
   "source": [
    "<b></b>"
   ]
  }
 ],
 "metadata": {
  "kernelspec": {
   "display_name": "Python 3",
   "language": "python",
   "name": "python3"
  },
  "language_info": {
   "codemirror_mode": {
    "name": "ipython",
    "version": 3
   },
   "file_extension": ".py",
   "mimetype": "text/x-python",
   "name": "python",
   "nbconvert_exporter": "python",
   "pygments_lexer": "ipython3",
   "version": "3.11.3"
  },
  "orig_nbformat": 4
 },
 "nbformat": 4,
 "nbformat_minor": 2
}
