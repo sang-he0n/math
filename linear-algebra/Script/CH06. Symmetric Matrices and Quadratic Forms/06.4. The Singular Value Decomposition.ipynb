{
 "cells": [
  {
   "attachments": {},
   "cell_type": "markdown",
   "metadata": {},
   "source": [
    "# CH06.4. **The Singular Value Decomposition**"
   ]
  },
  {
   "cell_type": "markdown",
   "metadata": {},
   "source": [
    "> ## **특이값(Singular Value)**"
   ]
  },
  {
   "cell_type": "markdown",
   "metadata": {},
   "source": [
    "#### **(1) 정의** : 어떠한 행렬 $ A $이 존재할 때 $ A^{T}A \\, $ 혹은 $ AA^{T} $의 (양의) 고유값의 제곱근\n",
    "#### $ = $ 행렬의 크기(영향력)을 측정한 값\n",
    "#### $ \\Rightarrow{} \\sigma{}_{i} = || A\\textbf{u}_{i} || = \\sqrt{\\lambda{}_{i}} $\n",
    "#### $ \\hspace{0.45cm} \\text{where } \\; \\lambda{}_{i} \\, \\text{ is positive eigen value of } \\, A^{T}A $\n",
    "#### $ \\hspace{0.45cm} \\text{and } \\; \\textbf{u}_{i} \\, \\text{ is eigen vector corresponding to } \\, \\lambda_{i} \\, \\text{ of } \\, A^{T}A $"
   ]
  },
  {
   "cell_type": "markdown",
   "metadata": {},
   "source": [
    "#### **(2) 예시** :\n",
    "##### $ \\hspace{0.15cm} $ ① 어떠한 행렬 $ A $의 특이값을 구하고자 할 때 \n",
    "##### $ \\hspace{0.45cm} A = \\begin{bmatrix} 4 & 11 & 14 \\\\ 8 & 7 & -2 \\end{bmatrix}, \\;\\; A^{T}A = \\begin{bmatrix} 80 & 100 & 40 \\\\ 100 & 170 & 140 \\\\ 40 & 140 & 200 \\end{bmatrix} $\n",
    "##### $ \\hspace{0.45cm} \\det{}(A^{T}A-\\lambda{}I) = \\det{}(\\begin{bmatrix} 80-\\lambda{} & 100 & 40 \\\\ 100 & 170-\\lambda{} & 140 \\\\ 40 & 140 & 200-\\lambda{} \\end{bmatrix}) = (\\lambda{}_{1}-360)(\\lambda{}_{2}-90)\\lambda{}_{3} = 0 $\n",
    "##### $ \\hspace{0.45cm} \\lambda{}_{1} = 360, \\;\\; \\lambda{}_{2} = 90, \\;\\; \\lambda{}_{3} = 0 $\n",
    "##### $ \\hspace{0.45cm} \\therefore{} \\sigma{}_{1} = \\sqrt{360}, \\;\\; \\sigma{}_{2} = \\sqrt{90}, \\;\\; \\sigma_{3} = 0 $\n",
    "##### $ \\hspace{0.15cm} $ ② **[CONTENTS]**"
   ]
  },
  {
   "cell_type": "markdown",
   "metadata": {},
   "source": [
    "<b></b>"
   ]
  },
  {
   "cell_type": "markdown",
   "metadata": {},
   "source": [
    "> ## (Theorem 6-9) **Orthogonal Basis for Column Space via Eigenvectors**"
   ]
  },
  {
   "cell_type": "markdown",
   "metadata": {},
   "source": [
    "#### 어떠한 행렬 $ \\underset{m\\times{}n}{A} $에서 $ 0 $이 아닌 특이값이 $ r $개 있고, 행렬 $ A^{T}A $의 고유 벡터 집합 $ \\{ \\textbf{v}_{1}, \\cdots{}, \\textbf{v}_{n} \\} $은 직교 단위 고유 벡터 집합이며 \n",
    "#### 그 고유값들은 $ \\lambda{}_{1} \\geq{} \\lambda{}_{2} \\geq{} \\cdots{} \\geq{} \\lambda{}_{n} $일 때 아래의 성질이 성립한다."
   ]
  },
  {
   "cell_type": "markdown",
   "metadata": {},
   "source": [
    "#### **(1)**  $ \\{ A\\textbf{v}_{1}, \\cdots{}, A\\textbf{v}_{r} \\} $ 은 행렬 $ A $의 열 공간의 직교 기저이다.\n",
    "#### $ \\Rightarrow{} \\text{col}(A) = \\text{span}{}(\\{ A\\textbf{v}_{1}, \\cdots{}, A\\textbf{v}_{r} \\}) $"
   ]
  },
  {
   "cell_type": "markdown",
   "metadata": {},
   "source": [
    "##### **(`WHY?`)**\n",
    "##### $ \\hspace{0.15cm} \\text{if } \\; i \\neq{} j, \\;\\; \\{ \\textbf{v}_{1}, \\cdots{}, \\textbf{v}_{n} \\} \\, \\text{ is orthonormal eigen vector set of } \\, A^{T}A. $\n",
    "##### $ \\hspace{0.3cm} (A\\textbf{v}_{i}) \\cdot{} (A\\textbf{v}_{j}) = (A\\textbf{v}_{i})^{T}(A\\textbf{v}_{j}) = \\textbf{v}_{i}^{T}A^{T}A\\textbf{v}_{j} = \\textbf{v}_{i}^{T} \\lambda{}_{j} \\textbf{v}_{j} \\;\\; $ ($ \\because{} \\text{eigen value equation of } \\, A^{T}A $)\n",
    "##### $ \\hspace{2.4275cm} = \\lambda{}_{j} \\textbf{v}_{i}^{T}\\textbf{v}_{j} = 0 \\;\\; $ ($ \\because{} \\text{orthogonal} $)\n",
    "##### $ \\hspace{0.3cm} \\Rightarrow{} \\{ \\textbf{A}\\textbf{v}_{1}, \\cdots{}, \\textbf{A}\\textbf{v}_{n} \\} \\, \\text{ is orthogonal set. } \\;\\; 1 \\leq{} i \\leq{} r $\n",
    "##### $ \\hspace{0.3cm} \\Leftrightarrow{} \\{ \\textbf{A}\\textbf{v}_{1}, \\cdots{}, \\textbf{A}\\textbf{v}_\\textbf{r} \\} \\, \\text{ is linearly independent set.} \\;\\; $ ($ \\because{} $ Theorem 5-4)\n",
    "##### $ \\hspace{0.15cm} \\text{if } \\; \\textbf{y} \\in{} \\text{col}(A), \\;\\; \\textbf{y} = A\\textbf{x}. $\n",
    "##### $ \\hspace{0.3cm} \\textbf{x} = c_{1} \\textbf{v}_{1} + \\cdots{} + c_{n} \\textbf{v}_{n} \\;\\; $ ($ \\because{} \\{ \\textbf{v}_{1}, \\cdots{}, \\textbf{v}_{n} \\} \\,\\text{ is orthonormal basis of } \\, \\mathbb{R}^{n}, \\;\\; $ Theorem 4-4)\n",
    "##### $ \\hspace{0.3cm} \\textbf{y} = A (c_{1} \\textbf{v}_{1} + \\cdots{} + c_{n} \\textbf{v}_{n}) = c_{1} A \\textbf{v}_{1} + \\cdots{} + c_{r} A \\textbf{v}_{r} + \\textbf{0} + \\cdots{} + \\textbf{0} $\n",
    "##### $ \\hspace{0.15cm} \\therefore{} \\, \\{ A\\textbf{v}_{1}, \\cdots{}, A\\textbf{v}_{r} \\} \\, \\text{ is orthogonal basis of } \\, \\text{col}(A). $"
   ]
  },
  {
   "cell_type": "markdown",
   "metadata": {},
   "source": [
    "#### **(2)** 행렬 $ A $의 랭크는 $ r $이다. \n",
    "#### $ \\Rightarrow{} \\text{rank}(A) = r $"
   ]
  },
  {
   "cell_type": "markdown",
   "metadata": {},
   "source": [
    "#### **(`PLUS`)** $ A $의 랭크가 $ r $이라는 뜻은 $ A^{T}A $의 고유값 중 $ 0 $이 아닌 고유값이 $ r $개이고 $ 0 $인 고유값들은 $ n-r $개라는 의미임 \n",
    "#### $ \\hspace{0.15cm} \\Rightarrow{} \\{ \\lambda{}_{1}, \\lambda{}_{2}, \\cdots{}, \\lambda{}_{n} \\} = \\{ \\underbrace{\\lambda{}_{1}, \\lambda{}_{2}, \\cdots{}, \\lambda{}_{r}}_{r\\text{개}}, \\underbrace{0, 0, \\cdots{}, 0}_{n-r\\text{개}} \\} \\;\\; \\text{ where } \\; \\text{rank}(A)=r $"
   ]
  },
  {
   "cell_type": "markdown",
   "metadata": {},
   "source": [
    "<b></b>"
   ]
  },
  {
   "cell_type": "markdown",
   "metadata": {},
   "source": [
    "> ## **특이값 분해(Singular Value Decomposition)**"
   ]
  },
  {
   "cell_type": "markdown",
   "metadata": {},
   "source": [
    "#### **(1) 정의** : \n",
    "#### 어떠한 행렬 $ \\underset{m \\times{} n}{A} $의 랭크가 $ r $이고 그 행렬의 특이값들이 내림차순 정렬될 때\n",
    "#### 정규 직교 행렬 $ U, V $와 특이값과 $ 0 $으로 이루어진 대각 행렬 $ \\Sigma{} $로 변환하는 알고리듬\n",
    "#### $ \\Rightarrow{} A = U\\Sigma{}V^{T} $\n",
    "#### $ \\hspace{0.45cm} \\text{where } \\; \\sigma{}_{i} \\, \\text{ is singular value of } \\, A, \\;\\; \\sigma{}_{1} \\geq{} \\sigma{}_{2} \\geq{} \\cdots{} \\geq{} \\sigma{}_{r} > 0 \\; \\Leftrightarrow{} \\; \\text{rank}(A) = r $\n",
    "#### $ \\hspace{0.45cm} \\text{and } \\; \\textbf{u}_{i} \\, \\text{ is orthonormal eigen vector of } \\, AA^{T}, \\;\\; U = \\begin{bmatrix} \\textbf{u}_{1} & \\cdots{} & \\textbf{u}_{m} \\end{bmatrix} \\in{} \\mathbb{R}^{m\\times{}m} $\n",
    "#### $ \\hspace{0.45cm} \\text{and } \\; \\textbf{v}_{i} \\, \\text{ is orthonormal eigen vector of } \\, A^{T}A, \\;\\; V = \\begin{bmatrix} \\textbf{v}_{1} & \\cdots{} & \\textbf{v}_{n} \\end{bmatrix} \\in{} \\mathbb{R}^{n\\times{}n} $\n",
    "#### $ \\hspace{0.45cm} \\text{and } \\Sigma{} = \\begin{bmatrix} \\underset{r\\times{}r}{\\Lambda{}^{\\frac{1}{2}}} & 0 \\\\ 0 & \\underset{(m-r)\\times{}(n-r)}{0} \\end{bmatrix} \\in{} \\mathbb{R}^{m\\times{}n}, \\;\\; \\Lambda{}^{\\frac{1}{2}} = \\begin{bmatrix} \\sigma{}_{1} & 0 & \\cdots{} & 0 \\\\ 0 & \\sigma{}_{1} & \\cdots{} & 0 \\\\ \\vdots{} & \\vdots{} & \\ddots{} & \\vdots{} \\\\ 0 & 0 & \\cdots{} & \\sigma{}_{r} \\end{bmatrix} \\in{} \\mathbb{R}^{r\\times{}r} $"
   ]
  },
  {
   "cell_type": "markdown",
   "metadata": {},
   "source": [
    "##### **(`PLUS`)** 행렬 $ U $의 열 벡터를 좌측 특이 벡터(left singular vectors), $ V $의 열 벡터를 우측 특이 벡터(Right singular vectors)라고 정의함"
   ]
  },
  {
   "cell_type": "markdown",
   "metadata": {},
   "source": [
    "##### **(`WHY?`)**\n",
    "##### $ \\hspace{0.15cm} \\{ \\textbf{v}_{1}, \\cdots{}, \\textbf{v}_{n} \\} \\, \\text{ is orthonormal eigen vector set of } \\, A^{T}A \\in{} \\mathbb{R}^{n} $\n",
    "##### $ \\hspace{0.15cm} \\{ A\\textbf{v}_{1}, \\cdots{}, A\\textbf{v}_{r} \\} \\, \\text{ is orthogonal basis of col}(A) \\in{} \\mathbb{R}^{m} $\n",
    "##### $ \\hspace{0.15cm} \\text{normalize } \\, \\{ A\\textbf{v}_{1}, \\cdots{}, A\\textbf{v}_{r} \\} = \\{ \\textbf{u}_{i}, \\cdots{}, \\textbf{u}_{r} \\} \\;\\; \\text{ where } \\; \\textbf{u}_{i} = \\frac{1}{||A\\textbf{v}_{i}||} A\\textbf{v}_{i} = \\frac{1}{\\sigma{}_{i}} A\\textbf{v}_{i} $\n",
    "##### $ \\hspace{0.15cm} \\text{extend } \\, \\{ \\textbf{u}_{i}, \\cdots{}, \\textbf{u}_{r} \\} \\; \\rightarrow{} \\; \\{ \\textbf{u}_{i}, \\cdots{}, \\textbf{u}_{r}, \\cdots{}, \\textbf{u}_{m} \\} \\;\\; \\text{ where } \\; \\{\\textbf{u}_{r+1}, \\textbf{u}_{r+2}, \\cdots{}, \\textbf{u}_{m} \\} = \\text{col}(A)^{\\perp{}} $\n",
    "##### $ \\hspace{0.15cm} \\text{let } \\, \\underset{n\\times{}n}{V} = \\begin{bmatrix} \\textbf{v}_{1} & \\cdots{} & \\textbf{v}_{n} \\end{bmatrix}, \\;\\;\\underset{m\\times{}m}{U} = \\begin{bmatrix} \\textbf{u}_{1} & \\cdots{} & \\textbf{u}_{m} \\end{bmatrix} $\n",
    "##### $ \\hspace{0.15cm} AV = \\begin{bmatrix} A\\textbf{v}_{1} & \\cdots{} & A\\textbf{v}_{n} \\end{bmatrix} $\n",
    "##### $ \\hspace{0.8cm} = \\begin{bmatrix} \\lambda{}_{1}\\textbf{v}_{1} & \\lambda{}_{2}\\textbf{v}_{2} & \\cdots{} & \\lambda{}_{r}\\textbf{v}_{r} & \\lambda{}_{r+1}\\textbf{v}_{r+1} & \\cdots{} & \\lambda{}_{n}\\textbf{v}_{n} \\end{bmatrix} $\n",
    "##### $ \\hspace{0.8cm} = \\begin{bmatrix} A\\textbf{v}_{1} & \\cdots{} & A\\textbf{v}_{r} & \\textbf{0} & \\cdots{} & \\textbf{0} \\end{bmatrix} $\n",
    "##### $ \\hspace{0.8cm} = \\begin{bmatrix} \\sigma{}_{1}\\textbf{u}_{1} & \\cdots{} & \\sigma{}_{r}\\textbf{u}_{r} & \\textbf{0} & \\cdots{} & \\textbf{0} \\end{bmatrix} $\n",
    "##### $ \\hspace{0.15cm} U\\Sigma{} = \\begin{bmatrix} \\textbf{u}_{1} & \\cdots{} & \\textbf{u}_{m} \\end{bmatrix} \\begin{bmatrix} \\underset{r\\times{}r}{\\Lambda{}^{\\frac{1}{2}}} & 0 \\\\ 0 & \\underset{(m-r)\\times{}(n-r)}{0} \\end{bmatrix} $\n",
    "##### $ \\hspace{0.75cm} = \\begin{bmatrix} \\textbf{u}_{1} & \\cdots{} & \\textbf{u}_{m} \\end{bmatrix} \\begin{bmatrix} \\begin{array}{cccc|ccc} \\sigma{}_{1} & 0 & \\cdots{} & 0 & 0 & \\cdots{} & 0 \\\\ 0 & \\sigma{}_{1} & \\cdots{} & 0 & 0 & \\cdots{} & 0 \\\\ \\vdots{} & \\vdots{} & \\vdots{} & \\ddots{} & \\vdots{} & \\ddots{} & \\vdots{} \\\\ 0 & 0 & \\cdots{} & \\sigma{}_{r} & 0 & \\cdots{} & 0 \\\\ \\hline{} 0 & 0 & \\cdots{} & 0 & 0 & \\cdots{} & 0 \\\\ \\vdots{} & \\vdots{} & \\ddots{} & \\vdots{} & \\vdots{} & \\ddots{} & \\vdots{} \\\\ 0 & \\cdots{} & 0 & 0 & 0 & \\cdots{} & 0 \\end{array} \\end{bmatrix} $\n",
    "##### $ \\hspace{0.75cm} = \\begin{bmatrix} \\sigma{}_{1}\\textbf{u}_{1} & \\cdots{} & \\sigma{}_{r}\\textbf{u}_{r} & \\textbf{0} & \\cdots{} & \\textbf{0} \\end{bmatrix} $\n",
    "##### $ \\hspace{0.15cm} \\Rightarrow{} AV = U\\Sigma{} $\n",
    "##### $ \\hspace{0.15cm} \\therefore{} A = U\\Sigma{}V^{T} \\;\\; $ ($ \\because{} V^{T} = V^{-1} $)"
   ]
  },
  {
   "cell_type": "markdown",
   "metadata": {},
   "source": [
    "##### **(`PLUS`)** 행렬의 특이값 분해는 $ U, V $ 정의에 따라 다르기 때문에 **유일하게 연산**되지 않음"
   ]
  },
  {
   "cell_type": "markdown",
   "metadata": {},
   "source": [
    "#### **(2) 연산 방법** :\n",
    "##### $ \\hspace{0.15cm} $ ① 어떠한 행렬 $ A $가 존재할 때 이를 대칭 행렬 $ A^{T}A $로 구성함\n",
    "##### $ \\hspace{0.45cm} A = \\begin{bmatrix} 1 & -1 \\\\ -2 & 2 \\\\ 2 & -2 \\end{bmatrix}, \\;\\; A^{T}A = \\begin{bmatrix} 1 & -2 & 2 \\\\ -1 & 2 & -2 \\end{bmatrix} \\begin{bmatrix} 1 & -1 \\\\ -2 & 2 \\\\ 2 & -2 \\end{bmatrix} = \\begin{bmatrix} 9 & -9 \\\\ -9 & 9 \\end{bmatrix} $\n",
    "##### $ \\hspace{0.15cm} $ ② $ A^{T}A $의 특성방정식을 통해 고윳값을 구함\n",
    "##### $ \\hspace{0.45cm} A^{T}A-\\lambda{}I = \\begin{bmatrix} 9 - \\lambda{} & -9 \\\\ -9 & 9 -\\lambda{} \\end{bmatrix} $\n",
    "##### $ \\hspace{0.45cm} \\det{}(A^{T}A-\\lambda{}I) = (9-\\lambda{})(9-\\lambda{}) - (-9)^{2} = \\lambda{}^{2} - 18\\lambda{} + 81 - 81 $ \n",
    "##### $ \\hspace{2.9cm} = \\lambda{}^{2} - 18\\lambda{} = \\lambda{} (\\lambda{}-18) = 0 $\n",
    "##### $ \\hspace{0.45cm} \\Rightarrow{} \\lambda{} = 18 (\\text{multiplicity} = 1) \\; \\text{ or } \\; \\lambda{} = 0(\\text{multiplicity} = 1) $\n",
    "##### $ \\hspace{0.15cm} $ ③ 행렬 $ A^{T}A $의 고유값에 대응되는 고유 공간을 찾음\n",
    "##### $ \\hspace{0.45cm} \\text{if } \\; \\lambda{} = 18, \\;\\; A^{T}A - \\lambda{}I = A^{T}A - 18I = \\begin{bmatrix} -9 & -9  \\\\ -9 & -9 \\end{bmatrix} $ \n",
    "##### $ \\hspace{0.6cm} \\begin{bmatrix} A^{T}A-18I & 0 \\end{bmatrix} = \\begin{bmatrix} -9 & -9 & 0 \\\\ -9 & -9 & 0 \\end{bmatrix} \\; $ ~ $ \\; \\cdots{} \\; $ ~ $ \\; \\begin{bmatrix} 1 & 1 & 0 \\\\ 0 & 0 & 0 \\end{bmatrix} $\n",
    "##### $ \\hspace{0.6cm} \\textbf{x} = x_{2} \\begin{bmatrix} 1 \\\\ -1 \\end{bmatrix}, \\;\\; \\text{Nul}(A^{T}A-18I) = \\text{span}(\\{ \\begin{bmatrix} 1 \\\\ -1 \\end{bmatrix} \\}) = \\text{span}(\\{ \\textbf{v}_{1} \\}) $\n",
    "##### $ \\hspace{0.45cm} \\text{if } \\; \\lambda{} = 0, \\;\\; A^{T}A - \\lambda{}I = A^{T}A = \\begin{bmatrix} 9 & -9 \\\\ -9 & 9 \\end{bmatrix} $\n",
    "##### $ \\hspace{0.6cm} \\begin{bmatrix} A^{T}A & 0 \\end{bmatrix} = \\begin{bmatrix} 9 & -9 & 0 \\\\ -9 & 9 & 0 \\end{bmatrix} \\; $ ~ $ \\; \\cdots{} \\; $ ~ $ \\; \\begin{bmatrix} 1 & -1 & 0 \\\\ 0 & 0 & 0 \\end{bmatrix} $\n",
    "##### $ \\hspace{0.6cm} \\textbf{x} = x_{2} \\begin{bmatrix} 1 \\\\ 1 \\end{bmatrix}, \\;\\; \\text{Nul}(A^{T}A) = \\text{span}(\\{ \\begin{bmatrix} 1 \\\\ 1 \\end{bmatrix} \\}) = \\text{span}(\\{ \\textbf{v}_{2} \\}) $\n",
    "##### $ \\hspace{0.15cm} $ ④ (필요하다면 그람-슈미트 과정 및) 직교 기저의 성질을 통해 개별 고유 공간에 대한 직교 기저를 정의함\n",
    "##### $ \\hspace{0.45cm} \\Rightarrow{} \\textbf{v}_{1} \\perp{} \\textbf{v}_{2} \\;\\; $ ($ \\because{} $ Theorem 6-3)\n",
    "##### $ \\hspace{0.15cm} $ ⑤ 직교 기저를 정규화하여 정규 직교 기저로 변환\n",
    "##### $ \\hspace{0.45cm} \\textbf{v}_{1}^{'} = \\frac{1}{||\\textbf{v}_{1}||} \\textbf{v}_{1} = \\frac{1}{\\sqrt{2}} \\begin{bmatrix} 1 \\\\ -1 \\end{bmatrix} $\n",
    "##### $ \\hspace{0.45cm} \\textbf{v}_{2}^{'} = \\frac{1}{||\\textbf{v}_{2}||} \\textbf{v}_{2} = \\frac{1}{\\sqrt{2}} \\begin{bmatrix} 1 \\\\ 1 \\end{bmatrix} $\n",
    "##### $ \\hspace{0.45cm} \\Rightarrow{} \\{ \\textbf{v}_{1}^{'}, \\textbf{v}_{2}^{'} \\} \\, \\text{ is eigen vector set of } \\, A^{T}A $ \n",
    "##### $ \\hspace{0.15cm} $ ⑥ 위의 과정(③~⑤)을 행렬 $ AA^{T} $에 대해 동일하게 연산하여 정규 직교 기저를 구함\n",
    "##### $ \\hspace{0.45cm} \\vdots{} $\n",
    "##### $ \\hspace{0.45cm} \\textbf{u}_{1}^{'} = \\frac{1}{||\\textbf{u}_{1}||} \\textbf{u}_{1} = \\frac{1}{3} \\begin{bmatrix} 1 \\\\ -2 \\\\ 2 \\end{bmatrix} $\n",
    "##### $ \\hspace{0.45cm} \\textbf{u}_{2}^{'} = \\frac{1}{||\\textbf{u}_{2}||} \\textbf{u}_{2} = \\frac{1}{\\sqrt{5}} \\begin{bmatrix} 2 \\\\ 1 \\\\ 0 \\end{bmatrix} $\n",
    "##### $ \\hspace{0.45cm} \\textbf{u}_{3}^{'} = \\frac{1}{||\\textbf{u}_{3}||} \\textbf{u}_{3} = \\frac{1}{\\sqrt{6}} \\begin{bmatrix} 2 \\\\ 0 \\\\ 1 \\end{bmatrix} $\n",
    "##### $ \\hspace{0.45cm} \\Rightarrow{} \\{ \\textbf{u}_{1}^{'}, \\textbf{u}_{2}^{'}, \\textbf{u}_{3}^{'} \\} \\, \\text{ is eigen vector set of } \\, AA^{T} $ \n",
    "##### $ \\hspace{0.15cm} $ ⑦ 특이값과 정규 직교 기저 집합들을 이용하여 행렬 $ U, \\Sigma{}, V^{T} $ 를 정의함\n",
    "##### $ \\hspace{0.45cm} U = \\begin{bmatrix} \\frac{1}{3} & \\frac{2}{\\sqrt{5}} & \\frac{2}{\\sqrt{6}} \\\\ \\frac{-2}{3} & \\frac{1}{\\sqrt{5}} & \\frac{0}{\\sqrt{6}} \\\\ \\frac{2}{3} & \\frac{1}{\\sqrt{5}} & \\frac{0}{\\sqrt{6}} \\end{bmatrix} $\n",
    "##### $ \\hspace{0.45cm} \\Sigma{} = \\begin{bmatrix} \\sigma{}_{1} & 0 \\\\ 0 & \\sigma{}_{2} \\\\ 0 & 0 \\end{bmatrix} = \\begin{bmatrix} \\sqrt{18} & 0 \\\\ 0 & 0 \\\\ 0 & 0 \\end{bmatrix} $\n",
    "##### $ \\hspace{0.45cm} V = \\begin{bmatrix} \\frac{1}{\\sqrt{2}} & \\frac{-1}{\\sqrt{2}} \\\\ \\frac{1}{\\sqrt{2}} & \\frac{1}{\\sqrt{2}} \\end{bmatrix} $\n",
    "##### $ \\hspace{0.45cm} \\therefore{} A = U\\Sigma{}V^{T} = \\begin{bmatrix} \\frac{1}{3} & \\frac{2}{\\sqrt{5}} & \\frac{2}{\\sqrt{6}} \\\\ \\frac{-2}{3} & \\frac{1}{\\sqrt{5}} & \\frac{0}{\\sqrt{6}} \\\\ \\frac{2}{3} & \\frac{1}{\\sqrt{5}} & \\frac{0}{\\sqrt{6}} \\end{bmatrix} \\begin{bmatrix} \\sqrt{18} & 0 \\\\ 0 & 0 \\\\ 0 & 0 \\end{bmatrix} \\begin{bmatrix} \\frac{1}{\\sqrt{2}} & \\frac{-1}{\\sqrt{2}} \\\\ \\frac{1}{\\sqrt{2}} & \\frac{1}{\\sqrt{2}} \\end{bmatrix}^{T} $"
   ]
  },
  {
   "cell_type": "markdown",
   "metadata": {},
   "source": [
    "<b></b>"
   ]
  },
  {
   "cell_type": "markdown",
   "metadata": {},
   "source": [
    "> ## (Theorem 6-10) **Bases for Fundamental Subspace**"
   ]
  },
  {
   "cell_type": "markdown",
   "metadata": {},
   "source": [
    "#### 어떠한 행렬 $ \\underset{m\\times{}n}{A}$ 의 랭크가 $ r $일 때 아래가 성립한다. "
   ]
  },
  {
   "cell_type": "markdown",
   "metadata": {},
   "source": [
    "#### **(1)** 우측 특이 벡터 $ \\{ \\textbf{v}_{1}, \\cdots{}, \\textbf{v}_{r} \\} $은 행렬 $ A $의 행 공간 $ \\text{row}(A) $의 정규 직교 기저이다."
   ]
  },
  {
   "cell_type": "markdown",
   "metadata": {},
   "source": [
    "#### **(2)** 우측 특이 벡터 $ \\{ \\textbf{v}_{r+1}, \\cdots{}, \\textbf{v}_{n} \\} $은 행렬 $ A $의 영 공간 $ \\text{Nul}(A) $의 정규 직교 기저이다."
   ]
  },
  {
   "cell_type": "markdown",
   "metadata": {},
   "source": [
    "#### **(3)** 좌측 특이 벡터 $ \\{ \\textbf{u}_{1}, \\cdots{}, \\textbf{u}_{r} \\} $은 행렬 $ A $의 열 공간 $ \\text{col}(A) $의 정규 직교 기저이다. "
   ]
  },
  {
   "cell_type": "markdown",
   "metadata": {},
   "source": [
    "#### **(4)** 좌측 특이 벡터 $ \\{ \\textbf{u}_{r+1}, \\cdots{}, \\textbf{u}_{m} \\} $은 행렬 $ A^{T} $의 영 공간 $ \\text{Nul}(A^{T}) $의 정규 직교 기저이다. "
   ]
  },
  {
   "cell_type": "markdown",
   "metadata": {},
   "source": [
    "##### **(`PLUS`) 직교 기저 별 공간 시각화** :\n",
    "##### $ \\hspace{0.15cm} $ <img src=\"../../img/06.4. The Singular Value Decomposition (1).png\" width=\"40%\" height=\"40%\"/></img>"
   ]
  },
  {
   "cell_type": "markdown",
   "metadata": {},
   "source": [
    "<b></b>"
   ]
  },
  {
   "cell_type": "markdown",
   "metadata": {},
   "source": [
    "> ## **축소 특이값 분해(Reduced SVD)**"
   ]
  },
  {
   "cell_type": "markdown",
   "metadata": {},
   "source": [
    "#### **(1) 정의** : 전체 특이값 분해를 수행하는 대신 $ 0 $이 아닌 특이값에 대응되는 고유 벡터까지만을 사용하여 **근사적으로** 행렬을 표현하는 방법\n",
    "#### $ \\Rightarrow{} A \\approx{} U_{r} \\Lambda{}^{\\frac{1}{2}} V_{r}^{T} $ \n",
    "#### $ \\hspace{0.45cm} \\text{where } \\; \\sigma{}_{i} \\, \\text{ is singular value of } \\, A, \\;\\; \\sigma{}_{1} \\geq{} \\sigma{}_{2} \\geq{} \\cdots{} \\geq{} \\sigma{}_{r} > 0 \\; \\Leftrightarrow{} \\; \\text{rank}(A) = r $\n",
    "#### $ \\hspace{0.45cm} \\text{and } \\; \\textbf{u}_{i} \\, \\text{ is orthonormal eigen vector of } \\, AA^{T}, \\;\\; U_{r} = \\begin{bmatrix} \\textbf{u}_{1} & \\cdots{} & \\textbf{u}_{r} \\end{bmatrix} \\in{} \\mathbb{R}^{m\\times{}r} $\n",
    "#### $ \\hspace{0.45cm} \\text{and } \\; \\textbf{v}_{i} \\, \\text{ is orthonormal eigen vector of } \\, A^{T}A, \\;\\; V_{r} = \\begin{bmatrix} \\textbf{v}_{1} & \\cdots{} & \\textbf{v}_{r} \\end{bmatrix} \\in{} \\mathbb{R}^{n\\times{}r} $\n",
    "#### $ \\hspace{0.45cm} \\text{and } \\; \\Lambda{}^{\\frac{1}{2}} = \\begin{bmatrix} \\sigma{}_{1} & 0 & \\cdots{} & 0 \\\\ 0 & \\sigma{}_{2} & \\cdots{} & 0 \\\\ \\vdots{} & \\vdots{} & \\ddots{} & \\vdots{} \\\\ 0 & 0 & \\cdots{} & \\sigma{}_{r} \\end{bmatrix} $"
   ]
  }
 ],
 "metadata": {
  "kernelspec": {
   "display_name": "Python 3",
   "language": "python",
   "name": "python3"
  },
  "language_info": {
   "codemirror_mode": {
    "name": "ipython",
    "version": 3
   },
   "file_extension": ".py",
   "mimetype": "text/x-python",
   "name": "python",
   "nbconvert_exporter": "python",
   "pygments_lexer": "ipython3",
   "version": "3.11.3"
  },
  "orig_nbformat": 4
 },
 "nbformat": 4,
 "nbformat_minor": 2
}
