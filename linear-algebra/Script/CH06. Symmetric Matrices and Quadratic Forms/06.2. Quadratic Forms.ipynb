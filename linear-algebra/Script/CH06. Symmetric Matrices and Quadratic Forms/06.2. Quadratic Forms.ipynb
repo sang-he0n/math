{
 "cells": [
  {
   "attachments": {},
   "cell_type": "markdown",
   "metadata": {},
   "source": [
    "# CH06.2. **Quadratic Forms**"
   ]
  },
  {
   "cell_type": "markdown",
   "metadata": {},
   "source": [
    "> ## **이차 형식(Quadratic Forms)**"
   ]
  },
  {
   "cell_type": "markdown",
   "metadata": {},
   "source": [
    "#### **(1) 정의** : **모든** 항의 차수가 2차인 다변수 실수 함수(다항식)\n",
    "#### $ \\Rightarrow{} Q(\\underset{n\\times{}1}{\\textbf{x}}) = \\textbf{x}^{T}\\underset{n\\times{}n}{A}\\textbf{x} = \\displaystyle\\sum^{n}_{i=1} a_{i,i} x_{i}^{2} + \\frac{1}{2}\\displaystyle\\sum^{n}_{i=1} \\displaystyle\\sum^{n}_{k=1} a_{i,k} x_{i}x_{k} \\;\\; \\text{ where } \\, A = A^{T} $"
   ]
  },
  {
   "cell_type": "markdown",
   "metadata": {},
   "source": [
    "#### **(`PLUS`)** 행렬 $ \\, A $ 를 이차형식 행렬(matrix of quadratic form)이라고 정의함"
   ]
  },
  {
   "cell_type": "markdown",
   "metadata": {},
   "source": [
    "#### **(2) 기하학적 해석** : 입력 벡터의 차원($ R^{n} $)을 스칼라($ \\mathbb{R}^{1} $) 차원으로 보내는 함수\n",
    "#### $ \\Rightarrow{} Q : \\mathbb{R}^{n} \\rightarrow{} \\mathbb{R}^{1} $\n",
    "#### **[GRAPH]**"
   ]
  },
  {
   "cell_type": "markdown",
   "metadata": {},
   "source": [
    "#### **(3) 예제** :\n",
    "#### $ \\hspace{0.15cm} $ ① $ 4x_{1}^{2} + 2 x_{2}^{2} - 5 x_{3}^{2} = \\begin{bmatrix} x_{1} \\\\ x_{2} \\\\ x_{3} \\end{bmatrix} \\begin{bmatrix} 4&0&0 \\\\ 0&2&0 \\\\ 0&0&5 \\end{bmatrix} \\begin{bmatrix} x_{1} & x_{2} & x_{3} \\end{bmatrix} = \\textbf{x} \\begin{bmatrix} 4&0&0 \\\\ 0&2&0 \\\\ 0&0&5 \\end{bmatrix} \\textbf{x}^{T} $\n",
    "#### $ \\hspace{0.15cm} $ ② $ x_{1}^{2} + 6 x_{2}^{2} - 2 x_{1}x_{2} = \\textbf{x} \\begin{bmatrix} 1&-1 \\\\ -1&6 \\end{bmatrix} \\textbf{x}^{T} $\n",
    "#### $ \\hspace{0.15cm} $ ③ $ 5 x_{1}^{2} + 3 x_{2}^{2} + 2 x_{3} - x_{1}x_{2} + 8 x_{2} x_{3} = \\textbf{x} \\begin{bmatrix} 5&-1/2&0 \\\\ -1/2&3&4 \\\\ 0 & 4 & 2 \\end{bmatrix} \\textbf{x}^{T} $"
   ]
  },
  {
   "cell_type": "markdown",
   "metadata": {},
   "source": [
    "#### **(`PLUS`)** 이차 형식은 선형 시스템이 아님"
   ]
  },
  {
   "cell_type": "markdown",
   "metadata": {},
   "source": [
    "<b></b>"
   ]
  },
  {
   "cell_type": "markdown",
   "metadata": {},
   "source": [
    "> ## **이차 형식 변수의 변경(Change of Variable in a Quadratic Form)**"
   ]
  },
  {
   "cell_type": "markdown",
   "metadata": {},
   "source": [
    "#### **(1) 정의** : 이차 형식 행렬 $ \\, \\underset{n\\times{}n}{A} $ 을 직교화를 통해 좌표 변환하는 방법\n",
    "#### $ \\Rightarrow{} Q(\\underset{n\\times{}1}{\\textbf{x}}) = \\textbf{x}^{T}A\\textbf{x} = \\textbf{y}^{T} D \\textbf{y} = \\displaystyle\\sum^{n}_{i=1} \\lambda{}_{i,i} y_{i}^{2} \\;\\; \\text{ where } \\, A = A^{T} = PDP^{-1} = PDP^{T} $\n",
    "#### $ \\hspace{6.35cm} \\text{and } \\, \\textbf{x} = P\\textbf{y} $\n",
    "#### $ \\hspace{6.35cm} \\text{and } \\, P \\, \\text{ is orthonormal matrix}. $\n",
    "#### $ \\hspace{6.35cm} \\text{and } \\, D \\, \\text{ is diagonal matrix}. $"
   ]
  },
  {
   "cell_type": "markdown",
   "metadata": {},
   "source": [
    "#### **(`HOW?`)**\n",
    "#### $ \\hspace{0.15cm} A = PDP^{T} = PDP^{-1} $\n",
    "#### $ \\hspace{0.15cm} \\textbf{x} = P\\textbf{y} = \\begin{bmatrix} \\textbf{p}_{1} & \\cdots{} & \\textbf{p}_{n} \\end{bmatrix} \\begin{bmatrix} \\textbf{x} \\end{bmatrix}_{\\mathcal{P}}, \\;\\; \\mathcal{P} = \\{ \\textbf{p}_{1}, \\cdots{}, \\textbf{p}_{n} \\} \\, \\text{ is basis for } \\, \\mathbb{R}^{n} $\n",
    "#### $ \\hspace{0.15cm} \\textbf{x}^{T}A\\textbf{x} = (P\\textbf{y})^{T} A P\\textbf{y} = \\textbf{y}^{T}P^{T}AP \\textbf{y} = \\textbf{y}^{T} D \\textbf{y} \\;\\; $ ($ \\because{} \\, D = P^{T}AP $)\n",
    "#### $ \\hspace{0.15cm} \\therefore{} Q(\\textbf{x}) = \\textbf{x}^{T}A\\textbf{x} = \\textbf{y}^{T} D \\textbf{y} $"
   ]
  },
  {
   "cell_type": "markdown",
   "metadata": {},
   "source": [
    "#### **(2) 기하학적 해석** :\n",
    "#### **[GRAPH]**"
   ]
  },
  {
   "cell_type": "markdown",
   "metadata": {},
   "source": [
    "#### **(3) 예제** :\n",
    "#### $ \\hspace{0.15cm} $ ① 아래의 이차 형식에서 교차항(cross-product term)을 없애고자 할 때\n",
    "#### $ \\hspace{0.55cm} Q(\\textbf{x}) = \\textbf{x}^{T} \\begin{bmatrix} 1 & -4 \\\\ -4 & -5 \\end{bmatrix} \\textbf{x} = \\textbf{x}^{T} A \\textbf{x} = x_{1}^{2} - 8 x_{1}x_{2} - 5 x_{2}^{2} $ \n",
    "#### $ \\hspace{0.55cm} \\det{}(A-\\lambda{}I) = (1-\\lambda{})(-5-\\lambda{})-16 = \\lambda{}^{2} + 5 \\lambda{} -5 - 16 = \\lambda{}^{2} + 4 \\lambda{} - 21 = (\\lambda{}+7)(\\lambda{}-3) = 0 $\n",
    "#### $ \\hspace{0.55cm} \\text{if } \\, \\lambda{} = 3, \\;\\; A-\\lambda{}I = A - 3I = \\begin{bmatrix} -2 & -4 \\\\ -4 & -8 \\end{bmatrix} $ \n",
    "#### $ \\hspace{0.55cm} \\begin{bmatrix} A-3I & 0 \\end{bmatrix} = \\begin{bmatrix} -2 & -4 & 0 \\\\ -4 & -8 & 0 \\end{bmatrix} $ ~ $ \\cdots{} $ ~ $ \\begin{bmatrix} 1 & -2 & 0 \\\\ 0 & 0 & 0 \\end{bmatrix} $\n",
    "#### $ \\hspace{0.55cm} \\textbf{x} = x_{2} \\begin{bmatrix} -2 \\\\ 1 \\end{bmatrix}, \\;\\; \\text{Nul}(A-3I) = \\text{span} \\{ \\begin{bmatrix} -2 \\\\ 1 \\end{bmatrix} \\} = \\text{span} \\{ \\textbf{v}_{1} \\} $\n",
    "#### $ \\hspace{0.55cm} \\text{if } \\, \\lambda{} = -7, \\;\\; A-\\lambda{}I = A + 7I = \\begin{bmatrix} 8 & -4 \\\\ -4 & 2 \\end{bmatrix} $ \n",
    "#### $ \\hspace{0.55cm} \\begin{bmatrix} A+7I & 0 \\end{bmatrix} = \\begin{bmatrix} 8 & -4 & 0 \\\\ -4 & 2 & 0 \\end{bmatrix} $ ~ $ \\cdots{} $ ~ $ \\begin{bmatrix} 1 & -1/2 & 0 \\\\ 0 & 0 & 0 \\end{bmatrix} $\n",
    "#### $ \\hspace{0.55cm} \\textbf{x} = x_{2} \\begin{bmatrix} 1/2 \\\\ 1 \\end{bmatrix} = x_{2}^{'} \\begin{bmatrix} 1 \\\\ 2 \\end{bmatrix}, \\;\\; \\text{Nul}(A+7I) = \\text{span} \\{ \\begin{bmatrix} 2 \\\\ 1 \\end{bmatrix} \\} = \\text{span} \\{ \\textbf{v}_{1} \\} $\n",
    "#### $ \\hspace{0.55cm} \\text{Nul}(A-\\lambda{}I) = \\begin{cases} \\text{span} \\{ \\textbf{v}_{1} \\}, \\;\\; \\lambda{} = 3 \\\\ \\\\ \\text{span} \\{ \\textbf{v}_{2} \\}, \\;\\; \\lambda{} = -7 \\end{cases} $\n",
    "#### $ \\hspace{0.55cm} \\textbf{u}_{1} = \\frac{1}{\\sqrt{5}} \\textbf{v}_{1}, \\;\\; \\textbf{u}_{2} = \\frac{1}{\\sqrt{5}} \\textbf{v}_{2} $\n",
    "#### $ \\hspace{0.55cm} A = \\frac{1}{5} \\begin{bmatrix} -2 & 1 \\\\ 1 & 2 \\end{bmatrix} \\begin{bmatrix} 3 & 0 \\\\ 0 & -7 \\end{bmatrix} \\begin{bmatrix} -2 & 1 \\\\ 1 & 2 \\end{bmatrix}^{T} $\n",
    "#### $ \\hspace{0.55cm} \\textbf{y} = P^{-1}\\textbf{x} = P^{T}\\textbf{x} = \\frac{1}{\\sqrt{5}} \\begin{bmatrix} -2 & 1 \\\\ 1 & 2 \\end{bmatrix} \\begin{bmatrix} x_{1} \\\\ x_{2} \\end{bmatrix} = \\frac{1}{\\sqrt{5}} \\begin{bmatrix} -2x_{1} + x_{2} \\\\ x_{1} + 2x_{2} \\end{bmatrix} $\n",
    "#### $ \\hspace{0.55cm} \\therefore{} Q(\\textbf{x}) = \\textbf{x}^{T} A \\textbf{x} = \\begin{bmatrix} -2x_{1} + x_{2} \\\\ x_{1} + 2x_{2} \\end{bmatrix}^{T} \\begin{bmatrix} 3 & 0 \\\\ 0 & -7 \\end{bmatrix} \\begin{bmatrix} -2x_{1} + x_{2} \\\\ x_{1} + 2x_{2} \\end{bmatrix} = 3y_{1}^{2} - 7y_{2}^{2} $\n",
    "#### $ \\hspace{0.15cm} $ ② **[CONTENTS]**"
   ]
  },
  {
   "cell_type": "markdown",
   "metadata": {},
   "source": [
    "<b></b>"
   ]
  },
  {
   "cell_type": "markdown",
   "metadata": {},
   "source": [
    "> ## (Theorem 6-4) **The Principal Axes Theorem**"
   ]
  },
  {
   "cell_type": "markdown",
   "metadata": {},
   "source": [
    "#### 어떤 행렬 $ \\, A $ 가 대칭행렬일 때 아래가 성립한다.\n",
    "#### **(1)** 이차 형식의 해 벡터 $ \\, \\textbf{x} $ 를 직교 변환하는 벡터 $ \\, \\textbf{y} $ 는 무조건 존재한다. $ \\;\\; $ ($ \\because{} \\, A = PDP^{T}, \\;\\; P \\, \\text{ is orthonormal Matrix} $)\n",
    "#### **(2)** 원 이차 형식을 선형 변환한 벡터 $ \\, \\textbf{y}^{T} D \\textbf{y} $ 는 교차항이 존재하지 않는다."
   ]
  },
  {
   "cell_type": "markdown",
   "metadata": {},
   "source": [
    "#### **(`PLUS`)** 이 때 행렬 $ \\, P $ 의 열들을 주축(principal axes)라고 정의한다."
   ]
  },
  {
   "cell_type": "markdown",
   "metadata": {},
   "source": [
    "<b></b>"
   ]
  },
  {
   "cell_type": "markdown",
   "metadata": {},
   "source": [
    "> ## **주축의 기하학적 시점(Geometric View of Principal Axes)**"
   ]
  },
  {
   "cell_type": "markdown",
   "metadata": {},
   "source": [
    "#### **[CONTENTS]**"
   ]
  },
  {
   "cell_type": "markdown",
   "metadata": {},
   "source": [
    "<b></b>"
   ]
  },
  {
   "cell_type": "markdown",
   "metadata": {},
   "source": [
    "> ## **이차 형식의 분류(Classifying Quadratic Forms)**"
   ]
  },
  {
   "cell_type": "markdown",
   "metadata": {},
   "source": [
    "#### **(1) 정의** : 이차 형식의 값의 부호와 입력 벡터의 범위에 따라 정의된 개념"
   ]
  },
  {
   "cell_type": "markdown",
   "metadata": {},
   "source": [
    "#### **(2) 종류** :\n",
    "#### $ \\hspace{0.15cm} $ ① 양의 정부호(positive definite) : 모든 $ \\, \\textbf{0} $ 이 아닌 $ \\, \\textbf{x} $ 에 대하여 $ \\, Q(\\textbf{x}) > 0 $\n",
    "#### $ \\hspace{0.15cm} $ ② 음의 정부호(negative definite) : 모든 $ \\, \\textbf{0} $ 이 아닌 $ \\, \\textbf{x} $ 에 대하여 $ \\, Q(\\textbf{x}) < 0 $\n",
    "#### $ \\hspace{0.15cm} $ ③ 부정부호(indefinite) : 어떤(특정한) $ \\, \\textbf{x} $ 에 대하여 $ \\, Q(\\textbf{x}) > 0 $ , 다른 $ \\, \\textbf{y} $ 에 대하여 $ \\, Q(\\textbf{x}) < 0 $\n",
    "#### $ \\hspace{3.05cm} = \\, Q(\\textbf{x}) $ 가 양수와 음수 둘 다 가질 경우\n",
    "#### $ \\hspace{0.15cm} $ ④ 양의 준정부호(positive semidefinite) : 모든 $ \\, \\textbf{x} $ 에 대하여 $ \\, Q(\\textbf{x}) \\geq{} 0 $\n",
    "#### $ \\hspace{0.15cm} $ ⑤ 음의 준정부호(negative semidefinite) : 모든 $ \\, \\textbf{x} $ 에 대하여 $ \\, Q(\\textbf{x}) \\leq{} 0 $"
   ]
  },
  {
   "cell_type": "markdown",
   "metadata": {},
   "source": [
    "<b></b>"
   ]
  },
  {
   "cell_type": "markdown",
   "metadata": {},
   "source": [
    "> ## (Theorem 6-5) **Quadratic Forms and Eigen values**"
   ]
  },
  {
   "cell_type": "markdown",
   "metadata": {},
   "source": [
    "#### 어떤 행렬 $ \\, A $ 가 대칭행렬일 때 아래가 성립한다. $ \\;\\; $ ($ \\text{ if and only if } $)\n",
    "#### **(1)** $ \\, Q(\\textbf{x}) $ 가 양의 정부호(positive definite)라면, 행렬 $ \\, A $ 의 고유값(eigen value)은 모두 양수이다.\n",
    "#### **(2)** $ \\, Q(\\textbf{x}) $ 가 음의 정부호(negative definite)라면, 행렬 $ \\, A $ 의 고유값은 모두 음수이다.\n",
    "#### **(3)** $ \\, Q(\\textbf{x}) $ 가 부정부호(indefinite)라면, 행렬 $ \\, A $ 의 고유값은 양수와 음수 모두를 가진다.\n",
    "#### **(4)** $ \\, Q(\\textbf{x}) $ 가 준정부호(positive semidefinite)라면, 행렬 $ \\, A $ 의 고유값은 음수가 아니다. \n",
    "#### **(5)** $ \\, Q(\\textbf{x}) $ 가 준정부호(negative semidefinite), 행렬 $ \\, A $ 의 고유값은 양수가 아니다."
   ]
  },
  {
   "cell_type": "markdown",
   "metadata": {},
   "source": [
    "#### **(`PLUS`) 숄레스키 분해(Cholesky decomposition)** : **[CONTENTS]**\n",
    "#### $ \\hspace{0.15cm} \\Rightarrow{} A = L L^{T} \\, \\text{ or } \\, A = U^{T}U $"
   ]
  }
 ],
 "metadata": {
  "kernelspec": {
   "display_name": "PYTCH_LLM",
   "language": "python",
   "name": "python3"
  },
  "language_info": {
   "codemirror_mode": {
    "name": "ipython",
    "version": 3
   },
   "file_extension": ".py",
   "mimetype": "text/x-python",
   "name": "python",
   "nbconvert_exporter": "python",
   "pygments_lexer": "ipython3",
   "version": "3.8.18"
  },
  "orig_nbformat": 4
 },
 "nbformat": 4,
 "nbformat_minor": 2
}
