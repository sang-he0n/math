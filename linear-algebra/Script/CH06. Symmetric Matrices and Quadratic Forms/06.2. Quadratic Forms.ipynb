{
 "cells": [
  {
   "attachments": {},
   "cell_type": "markdown",
   "metadata": {},
   "source": [
    "# CH06.2. **Quadratic Forms**"
   ]
  },
  {
   "cell_type": "markdown",
   "metadata": {},
   "source": [
    "> ## **이차 형식(Quadratic Forms)**"
   ]
  },
  {
   "cell_type": "markdown",
   "metadata": {},
   "source": [
    "#### **(1) 정의** : **모든** 항의 차수가 2차인 다항식\n",
    "#### $ \\Rightarrow{} Q(\\textbf{x}) = \\textbf{x}^{T}A\\textbf{x} \\;\\; \\text{ where } \\, A = A^{T} $"
   ]
  },
  {
   "cell_type": "markdown",
   "metadata": {},
   "source": [
    "#### **(`PLUS`)** 행렬 $ \\, A $ 를 이차형식 행렬(matrix of quadratic form)이라고 정의함"
   ]
  },
  {
   "cell_type": "markdown",
   "metadata": {},
   "source": [
    "#### **(2) 예제** :\n",
    "#### $ \\hspace{0.15cm} $ ① \n",
    "#### $ \\hspace{0.55cm} 4x_{1}^{2} + 2 x_{2}^{2} - 5 x_{3}^{2} = \\begin{bmatrix} x_{1} \\\\ x_{2} \\\\ x_{3} \\end{bmatrix} \\begin{bmatrix} 4&0&0 \\\\ 0&2&0 \\\\ 0&0&5 \\end{bmatrix} \\begin{bmatrix} x_{1} & x_{2} & x_{3} \\end{bmatrix} = \\textbf{x} \\begin{bmatrix} 4&0&0 \\\\ 0&2&0 \\\\ 0&0&5 \\end{bmatrix} \\textbf{x}^{T} $\n",
    "#### $ \\hspace{0.15cm} $ ②\n",
    "#### $ \\hspace{0.55cm} x_{1}^{2} + 6 x_{2}^{2} - 2 x_{1}x_{2} = \\textbf{x} \\begin{bmatrix} 1&-1 \\\\ -1&6 \\end{bmatrix} \\textbf{x}^{T} $\n",
    "#### $ \\hspace{0.15cm} $ ③\n",
    "#### $ \\hspace{0.55cm} 5 x_{1}^{2} + 3 x_{2}^{2} + 2 x_{3} - x_{1}x_{2} + 8 x_{2} x_{3} = \\textbf{x} \\begin{bmatrix} 5&-1/2&0 \\\\ -1/2&3&4 \\\\ 0 & 4 & 2 \\end{bmatrix} \\textbf{x}^{T} $"
   ]
  },
  {
   "cell_type": "markdown",
   "metadata": {},
   "source": [
    "#### **(`PLUS`)** 이차 형식은 선형 시스템이 아님"
   ]
  },
  {
   "cell_type": "markdown",
   "metadata": {},
   "source": [
    "<b></b>"
   ]
  },
  {
   "cell_type": "markdown",
   "metadata": {},
   "source": [
    "> ## **이차 형식 변수의 변경(Change of Variable in a Quadratic Form)**"
   ]
  },
  {
   "cell_type": "markdown",
   "metadata": {},
   "source": [
    "#### **(1) 정의** : 이차 형식 행렬 $ \\, \\underset{n\\times{}n}{A} $ 을 직교화를 통해 좌표변환을 통하여 교차항을 제거하고 단순한 형태로 변환하는 방법\n",
    "#### $ \\Rightarrow{} Q(\\underset{n\\times{}1}{\\textbf{x}}) = \\textbf{x}^{T}A\\textbf{x} = \\textbf{y}^{T} D \\textbf{y} \\;\\; \\text{ where } \\, A = A^{T} $\n",
    "#### $ \\hspace{4.525cm} \\text{and } \\, \\textbf{x} = P\\textbf{y} $\n",
    "#### $ \\hspace{4.525cm} \\text{and } \\, P \\, \\text{ is orthonormal matrix}. $"
   ]
  },
  {
   "cell_type": "markdown",
   "metadata": {},
   "source": [
    "#### **(`HOW?`)**\n",
    "#### $ \\hspace{0.15cm} A = PDP^{T} = PDP^{-1} $\n",
    "#### $ \\hspace{0.15cm} \\textbf{x} = P\\textbf{y} = \\begin{bmatrix} \\textbf{p}_{1} & \\cdots{} & \\textbf{p}_{n} \\end{bmatrix} \\begin{bmatrix} \\textbf{x} \\end{bmatrix}_{\\mathcal{P}}, \\;\\; \\mathcal{P} = \\{ \\textbf{p}_{1}, \\cdots{}, \\textbf{p}_{n} \\} \\, \\text{ is basis for } \\, \\mathbb{R}^{n} $\n",
    "#### $ \\hspace{0.15cm} \\textbf{x}^{T}A\\textbf{x} = (P\\textbf{y})^{T} A P\\textbf{y} = \\textbf{y}^{T}P^{T}AP \\textbf{y} = \\textbf{y}^{T} D \\textbf{y} \\;\\; $ ($ \\because{} \\, D = P^{T}AP $)\n",
    "#### $ \\hspace{0.15cm} \\therefore{} Q(\\textbf{x}) = \\textbf{x}^{T}A\\textbf{x} = \\textbf{y} D \\textbf{y}^{T} $"
   ]
  },
  {
   "cell_type": "markdown",
   "metadata": {},
   "source": [
    "#### **(2) 기하학적 해석** :"
   ]
  },
  {
   "cell_type": "markdown",
   "metadata": {},
   "source": [
    "#### **(3) 예제** :\n",
    "#### $ \\hspace{0.15cm} $ ① \n",
    "#### $ \\hspace{0.55cm} ㅇ $\n",
    "#### $ \\hspace{0.15cm} $ ②\n",
    "#### $ \\hspace{0.55cm} x_{1}^{2} + 6 x_{2}^{2} - 2 x_{1}x_{2} = \\textbf{x} \\begin{bmatrix} 1&-1 \\\\ -1&6 \\end{bmatrix} \\textbf{x}^{T} $\n",
    "#### $ \\hspace{0.15cm} $ ③\n",
    "#### $ \\hspace{0.55cm} ㅇ$"
   ]
  },
  {
   "cell_type": "markdown",
   "metadata": {},
   "source": [
    "<b></b>"
   ]
  },
  {
   "cell_type": "markdown",
   "metadata": {},
   "source": [
    "> ## (Theorem 6-4) **The Principal Axes Theorem**"
   ]
  },
  {
   "cell_type": "markdown",
   "metadata": {},
   "source": [
    "#### **[CONTENTS]**"
   ]
  },
  {
   "cell_type": "markdown",
   "metadata": {},
   "source": [
    "<b></b>"
   ]
  },
  {
   "cell_type": "markdown",
   "metadata": {},
   "source": [
    "> ## **(Classifying Quadratic Forms)**"
   ]
  },
  {
   "cell_type": "markdown",
   "metadata": {},
   "source": [
    "#### **[CONTENTS]**"
   ]
  },
  {
   "cell_type": "markdown",
   "metadata": {},
   "source": [
    "<b></b>"
   ]
  },
  {
   "cell_type": "markdown",
   "metadata": {},
   "source": [
    "> ## (Theorem 6-5) **Quadratic Forms and Eigen values**"
   ]
  },
  {
   "cell_type": "markdown",
   "metadata": {},
   "source": [
    "#### **[CONTENTS]**"
   ]
  }
 ],
 "metadata": {
  "kernelspec": {
   "display_name": "Python 3",
   "language": "python",
   "name": "python3"
  },
  "language_info": {
   "codemirror_mode": {
    "name": "ipython",
    "version": 3
   },
   "file_extension": ".py",
   "mimetype": "text/x-python",
   "name": "python",
   "nbconvert_exporter": "python",
   "pygments_lexer": "ipython3",
   "version": "3.8.19"
  },
  "orig_nbformat": 4
 },
 "nbformat": 4,
 "nbformat_minor": 2
}
