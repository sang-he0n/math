{
 "cells": [
  {
   "attachments": {},
   "cell_type": "markdown",
   "metadata": {},
   "source": [
    "# CH06.3. **Constrained Optimization**"
   ]
  },
  {
   "cell_type": "markdown",
   "metadata": {},
   "source": [
    "> ## **이차 형식의 제약 최적화(Constrained Optimization of QF)**"
   ]
  },
  {
   "cell_type": "markdown",
   "metadata": {},
   "source": [
    "#### **(1) 정의** : 이차 형식에서 어떠한 제약 조건이 주어졌을 때 그 조건 하에서 최댓값 혹은 최소값\n",
    "#### $ \\Rightarrow{} \\min{} Q(\\textbf{x}) = \\min{}(\\textbf{x}^{T} A \\textbf{x}) \\;\\; \\text{ where } \\, \\textbf{CONDITION} $\n",
    "#### $ \\hspace{2.15cm} = \\min{} \\{ Q(\\textbf{x}) \\;\\; || \\;\\; \\textbf{CONDITION} \\} $\n",
    "#### $ \\hspace{0.45cm} \\text{ or } \\, \\max{} Q(X) = \\max{}(\\textbf{x}^{T} A \\textbf{x}) \\;\\; \\text{ where } \\, \\textbf{CONDITION} $\n",
    "#### $ \\hspace{2.75cm} = \\max{} \\{ Q(\\textbf{x}) \\;\\; || \\;\\; \\textbf{CONDITION} \\} $"
   ]
  },
  {
   "cell_type": "markdown",
   "metadata": {},
   "source": [
    "<b></b>"
   ]
  },
  {
   "cell_type": "markdown",
   "metadata": {},
   "source": [
    "> ## (Theorem 6-6) **QF Optimization using Eigen value**"
   ]
  },
  {
   "cell_type": "markdown",
   "metadata": {},
   "source": [
    "#### 행렬 $ \\, A $ 가 대칭행렬이고 $ \\, \\textbf{x} $ 가 해(solution) 벡터이며, $ \\, \\textbf{x}^{T}\\textbf{x} = 1 $ 의 제약조건을 가질 때 성질이 성립한다.\n",
    "#### **(1)** 행렬 $ \\, A $ 를 갖는 이차 형식의 최대값 $ \\, M $ 은 행렬 $ \\, A $ 의 가장 큰 고유값(eigen value)이다.\n",
    "#### $ \\Rightarrow{} M = \\max{} \\{ Q(\\textbf{x}) \\;\\; || \\;\\; \\textbf{x}^{T}\\textbf{x} = 1 \\} = \\lambda{}_{1} \\;\\; \\text{ where } \\, Q(\\textbf{x}) = \\textbf{x}^{T}A\\textbf{x} $\n",
    "#### $ \\hspace{6.1cm} \\text{and } \\lambda{}_{i} \\, \\text{ is eigen value for } \\, A $\n",
    "#### $ \\hspace{6.1cm} \\text{and } \\lambda{}_{1} \\geq{} \\lambda{}_{i} \\, \\text{ for all } i $\n",
    "#### **(2)** $ \\, M $ 을 갖는 해 벡터는 그 고유값의 고유 공간(eigen space)에 해당되는 단위 벡터이다.\n",
    "#### = 그 고유값에 해당되는 정규 직교 행렬 $ \\, P $ 의 열벡터이다.\n",
    "#### $ \\Rightarrow{} \\textbf{x} = \\textbf{u}_{1} \\;\\; \\text{ where } \\, Q(\\textbf{x}) = M = \\lambda{}_{1} $\n",
    "#### $ \\hspace{1.8cm} \\text{and } \\, \\textbf{u}_{1} \\in{} \\text{Nul}(A-\\lambda{}_{1}I) $\n",
    "#### $ \\hspace{1.8cm} \\text{and } \\, || \\textbf{u}_{1} || = 1 $"
   ]
  },
  {
   "cell_type": "markdown",
   "metadata": {},
   "source": [
    "#### **(`WHY?`)**\n",
    "#### $ \\hspace{0.15cm} \\text{if } \\, \\textbf{x} = P\\textbf{y} = \\begin{bmatrix} \\textbf{u}_{1} & \\cdots{} & \\textbf{u}_{n} \\end{bmatrix} \\textbf{y} $\n",
    "#### $ \\hspace{0.3cm} || \\textbf{x} || = || P\\textbf{y} || = || \\textbf{y} || \\;\\; $ ($ \\because{} \\, || P\\textbf{y}||^{2} = \\textbf{y}^{T}P^{T} P\\textbf{y} = || \\textbf{y} ||^{2} $)\n",
    "#### $ \\hspace{0.3cm} \\Rightarrow{} || \\textbf{x} || = || \\textbf{y} || = 1 $\n",
    "#### $ Q(\\textbf{x}) = \\textbf{x}^{T}A\\textbf{x} = \\textbf{y}^{T}D\\textbf{y} = \\lambda{}_{1} \\textbf{y}_{1}^{2} + \\cdots{} + \\lambda{}_{n} \\textbf{y}_{n}^{2} $\n",
    "#### $ \\hspace{0.15cm} \\text{if } \\, \\lambda{}_{1} \\geq{} \\lambda{}_{i}, \\;\\; 1\\leq{}i\\leq{}n $\n",
    "#### $ \\hspace{0.30cm} \\lambda{}_{1} \\textbf{y}_{1}^{2} + \\cdots{} + \\lambda{}_{n} \\textbf{y}_{n}^{2} \\leq{} \\lambda{}_{1}(\\textbf{y}_{1}^{2}+\\cdots{}\\textbf{y}_{n}^{2}) = \\lambda{}_{1} $\n",
    "#### $ \\hspace{0.15cm} \\therefore{} M = \\lambda{}_{1}, \\;\\; \\textbf{y} = \\begin{bmatrix} \\pm{}1 \\\\ \\vdots{} \\\\ 0 \\end{bmatrix}, \\;\\; \\textbf{x} = \\begin{bmatrix} \\textbf{u}_{1} & \\cdots{} & \\textbf{u}_{n} \\end{bmatrix} \\textbf{y} = \\pm{} \\textbf{u}_{1} $"
   ]
  },
  {
   "cell_type": "markdown",
   "metadata": {},
   "source": [
    "#### **(3)** 행렬 $ \\, A $ 를 갖는 이차 형식의 최소값 $ \\, m $ 은 행렬 $ \\, A $ 의 가장 작은 고유값(eigen value)이다.\n",
    "#### $ \\Rightarrow{} m = \\min{} \\{ Q(\\textbf{x}) \\;\\; || \\;\\; \\textbf{x}^{T}\\textbf{x} = 1 \\} = \\lambda{}_{2} \\;\\; \\text{ where } \\, Q(\\textbf{x}) = \\textbf{x}^{T}A\\textbf{x} $\n",
    "#### $ \\hspace{5.95cm} \\text{and } \\lambda{}_{i} \\, \\text{ is eigen value for } \\, A $\n",
    "#### $ \\hspace{5.95cm} \\text{and } \\lambda{}_{2} \\leq{} \\lambda{}_{i} \\, \\text{ for all } i $\n",
    "#### **(4)** $ \\, m $ 을 갖는 해 벡터는 그 고유값의 고유 공간(eigen space)에 해당되는 단위 벡터이다.\n",
    "#### $ \\Rightarrow{} \\textbf{x} = \\textbf{u}_{2} \\;\\; \\text{ where } \\, Q(\\textbf{x}) = M = \\lambda{}_{2} $\n",
    "#### $ \\hspace{1.8cm} \\text{and } \\, \\textbf{u}_{2} \\in{} \\text{Nul}(A-\\lambda{}_{2}I) $\n",
    "#### $ \\hspace{1.8cm} \\text{and } \\, || \\textbf{u}_{2} || = 1 $"
   ]
  },
  {
   "cell_type": "markdown",
   "metadata": {},
   "source": [
    "<b></b>"
   ]
  },
  {
   "cell_type": "markdown",
   "metadata": {},
   "source": [
    "> ## (Theorem 6-7) **QF Second Optimization using Eigen value**"
   ]
  },
  {
   "cell_type": "markdown",
   "metadata": {},
   "source": [
    "#### 정리 6-6을 따르며 추가로 $ \\, \\textbf{x}^{T}\\textbf{u}_{1} = 0 $ 의 제약조건을 가질 때 제약조건을 가질 때 두 번 째 최댓값 $ M_{2} $ 는 두 번 째 큰 고유값이 된다. \n",
    "#### $ \\Rightarrow{} M_{2} = \\max{} \\{ Q(\\textbf{x}) \\;\\; || \\;\\; \\textbf{x}^{T}\\textbf{x} = 1, \\;\\; \\textbf{x}^{T}\\textbf{u}_{1} = 0, \\;\\; \\lambda{}_{1} \\not\\in{} Q(\\textbf{x}) \\} = \\lambda{}_{2} $\n",
    "#### $ \\hspace{0.45cm} \\text{where } \\, \\lambda{}_{1} > \\lambda{}_{2} \\geq{} \\lambda{}_{i}, \\;\\; 2\\leq{}i\\leq{}n $"
   ]
  },
  {
   "cell_type": "markdown",
   "metadata": {},
   "source": [
    "#### **(`PLUS`)** $ \\, k $ 번째 최댓값은 아래와 같이 정의된다. (Theorem 6-8)\n",
    "#### $ \\hspace{0.15cm} \\Rightarrow{} M = \\max{} \\{ Q(\\textbf{x}) \\;\\; || \\;\\; \\textbf{x}^{T}\\textbf{x} = 1, \\;\\; \\textbf{x}^{T}\\textbf{u}_{1} = 0, \\;\\; \\cdots{}, \\;\\; \\textbf{x}^{T}\\textbf{u}_{k-1} = 0 ,\\;\\; \\{\\lambda{}_{1}, \\cdots{}, \\lambda{}_{k-1} \\} \\not\\in{} Q(\\textbf{x}) \\} = \\lambda{}_{k} $\n",
    "#### $ \\hspace{0.6cm} \\text{where } \\, \\lambda{}_{1} \\geq{} \\lambda{}_{2} \\geq{} \\cdots{} \\geq{} \\lambda{}_{n} $"
   ]
  }
 ],
 "metadata": {
  "kernelspec": {
   "display_name": "Python 3",
   "language": "python",
   "name": "python3"
  },
  "language_info": {
   "codemirror_mode": {
    "name": "ipython",
    "version": 3
   },
   "file_extension": ".py",
   "mimetype": "text/x-python",
   "name": "python",
   "nbconvert_exporter": "python",
   "pygments_lexer": "ipython3",
   "version": "3.11.3"
  },
  "orig_nbformat": 4
 },
 "nbformat": 4,
 "nbformat_minor": 2
}
