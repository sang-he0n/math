{
 "cells": [
  {
   "attachments": {},
   "cell_type": "markdown",
   "metadata": {},
   "source": [
    "# CH06.5. **Pesudoinverse Matrix**"
   ]
  },
  {
   "cell_type": "markdown",
   "metadata": {},
   "source": [
    "> ## **유사 역행렬(Pesudoinverse Matrix)**"
   ]
  },
  {
   "cell_type": "markdown",
   "metadata": {},
   "source": [
    "#### **(1) 정의** : 어떠한 행렬 $ A $가 역행렬이 존재하지 않을 때 일반화된 역행렬\n",
    "#### $ \\Rightarrow{} \\underset{r\\times{}r}{A}^{+} =  V_{r} \\Lambda{}^{-\\frac{1}{2}} U^{T}_{r} $\n",
    "#### $ \\hspace{0.45cm} \\text{where } \\; \\text{rank}(A) = r, \\;\\; A = U \\Sigma{} V^{T} \\approx{} U_{r} \\Lambda{}^{\\frac{1}{2}} V_ r^{T} $\n",
    "#### $ \\hspace{0.45cm} \\text{and } \\; \\sigma{}_{i} \\, \\text{ is singular value of } A $\n",
    "#### $ \\hspace{0.45cm} \\text{and } \\; \\textbf{u}_{i} \\, \\text{ is orthonormal eigen vector of } \\, AA^{T}, \\;\\; U_{r} = \\begin{bmatrix} \\textbf{u}_{1} & \\cdots{} & \\textbf{u}_{r} \\end{bmatrix} \\in{} \\mathbb{R}^{m\\times{}r} $\n",
    "#### $ \\hspace{0.45cm} \\text{and } \\; \\textbf{v}_{i} \\, \\text{ is orthonormal eigen vector of } \\, A^{T}A, \\;\\; V_{r} = \\begin{bmatrix} \\textbf{v}_{1} & \\cdots{} & \\textbf{v}_{r} \\end{bmatrix} \\in{} \\mathbb{R}^{n\\times{}r} $\n",
    "#### $ \\hspace{0.45cm} \\text{and } \\; \\Lambda{}^{-\\frac{1}{2}} = \\begin{bmatrix} \\frac{1}{\\sigma{}_{1}} & 0 & \\cdots{} & 0 \\\\ 0 & \\frac{1}{\\sigma{}_{1}} & \\cdots{} & 0 \\\\ \\vdots{} & \\vdots{} & \\ddots{} & \\vdots{} \\\\ 0 & 0 & \\cdots{} & \\frac{1}{\\sigma{}_{r}} \\end{bmatrix} $"
   ]
  },
  {
   "cell_type": "markdown",
   "metadata": {},
   "source": [
    "#### **(2) 성질** : 어떠한 행렬 $ A, B $와 스칼라 $ r $ 및 $ A $의 유사 역행렬 $ A^{+} $가 존재할 때 아래가 성립함\n",
    "##### $ \\hspace{0.15cm} $ ① $ A^{+}A \\neq{} I $\n",
    "##### $ \\hspace{0.15cm} $ ② $ (A^{+})^{+} = A $\n",
    "##### $ \\hspace{0.15cm} $ ③ $ (rA)^{+} = \\frac{1}{r} A^{+} $\n",
    "##### $ \\hspace{0.15cm} $ ④ $ (A^{T})^{+} = (A^{+})^{T} $\n",
    "##### $ \\hspace{0.15cm} $ ⑤ $ (AA^{+})^{T} = AA^{+} $\n",
    "##### $ \\hspace{0.15cm} $ ⑥ $ (A+B)^{+} \\neq{} A^{+} + B^{+} $\n",
    "##### $ \\hspace{0.15cm} $ ⑦ $ (AB)^{+} \\neq{} B^{+}A^{+} $\n",
    "##### $ \\hspace{0.15cm} $ ⑧ $ AA^{+}A = A $ "
   ]
  },
  {
   "cell_type": "markdown",
   "metadata": {},
   "source": [
    "<b></b>"
   ]
  },
  {
   "cell_type": "markdown",
   "metadata": {},
   "source": [
    "> ## (Theorem 6-13) **Projection using Pseudoinverse**"
   ]
  },
  {
   "cell_type": "markdown",
   "metadata": {},
   "source": [
    "#### 유사 역행렬을 이용하여 정사영을 아래와 같이 정의할 수 있다.\n",
    "#### $ \\Rightarrow{} \\text{proj}_{\\text{col(A)}}(\\textbf{b}) = AA^{+}\\textbf{y} \\;\\; \\text{ where } \\; A \\approx{} U_{r} \\Lambda{}^{\\frac{1}{2}} V_{r}^{T} \\; \\text{ and } \\; A^{+} = V_{r} \\Lambda{}^{-\\frac{1}{2}} U^{T}_{r} $"
   ]
  },
  {
   "cell_type": "markdown",
   "metadata": {},
   "source": [
    "##### **(`WHY?`)**\n",
    "##### $ \\hspace{0.15cm} AA^{+} \\approx{}  U_{r} \\Lambda{}^{\\frac{1}{2}} V_{r}^{T} V_{r} \\Lambda^{-\\frac{1}{2}} U^{T}_{r} = U_{r}U^{T}_{r} $ \n",
    "##### $ \\hspace{0.15cm} \\therefore{} \\text{proj}_{\\text{col(A)}}(\\textbf{b}) = (\\textbf{y} \\cdot{} \\textbf{u}_{1})\\textbf{u}_{1} + \\cdots{} + (\\textbf{y} \\cdot{} \\textbf{u}_{r})\\textbf{u}_{r}  \\;\\; $ ($\\because{} U_{r} \\, \\text{ is orthonormal basis of col}(A) $)\n",
    "##### $ \\hspace{2.4cm} = U_{r}U^{T}_{r}\\textbf{y} = AA^{+}\\textbf{y} $"
   ]
  },
  {
   "cell_type": "markdown",
   "metadata": {},
   "source": [
    "<b></b>"
   ]
  },
  {
   "cell_type": "markdown",
   "metadata": {},
   "source": [
    "> ## (Theorem 6-12) **Pseudoinverse Optimization Theorem**"
   ]
  },
  {
   "cell_type": "markdown",
   "metadata": {},
   "source": [
    "#### 유사 역행렬을 이용하여 최소 제곱 문제를 아래와 같이 정의할 수 있다. \n",
    "#### $ \\Leftrightarrow{} \\hat{\\textbf{x}} = A^{+}\\textbf{b} $ \n",
    "#### $ \\hspace{0.45cm} \\text{where } \\; \\hat{\\textbf{x}} = \\argmin_{\\textbf{x}} (|| \\textbf{b} - A\\textbf{x} ||) \\; \\text{ and } \\; A \\approx{} U_{r} \\Lambda{}^{\\frac{1}{2}} V_{r}^{T} \\; \\text{ and } \\; A^{+} = V_{r} \\Lambda{}^{-\\frac{1}{2}} U^{T}_{r} $"
   ]
  },
  {
   "cell_type": "markdown",
   "metadata": {},
   "source": [
    "##### **(`WHY?`)**\n",
    "##### $ \\hspace{0.15cm} A^{T}A\\hat{\\textbf{x}} = A^{T}\\textbf{b} $\n",
    "##### $ \\hspace{0.15cm} V_{r}(\\Lambda{}^{\\frac{1}{2}})^{T}U_{r}^{T} A \\hat{\\textbf{x}} = V_{r}(\\Lambda{}^{\\frac{1}{2}})^{T}U_{r}^{T} \\textbf{b} $\n",
    "##### $ \\hspace{0.15cm} V_{r}(\\Lambda{}^{\\frac{1}{2}})^{T}U_{r}^{T} U_{r} (\\Lambda{}^{\\frac{1}{2}}) V_{r}^{T} \\hat{\\textbf{x}} = V_{r}(\\Lambda{}^{\\frac{1}{2}})^{T}U_{r}^{T} \\textbf{b} $\n",
    "##### $ \\hspace{0.15cm} V_{r}(\\Lambda{}^{\\frac{1}{2}})^{2} V_{r}^{T}\\hat{\\textbf{x}} = V_{r}(\\Lambda{}^{\\frac{1}{2}})^{T}U_{r}^{T} \\textbf{b} $\n",
    "##### $ \\hspace{0.15cm} (\\Lambda{}^{\\frac{1}{2}})^{2} V_{r}^{T}\\hat{\\textbf{x}} = (\\Lambda{}^{\\frac{1}{2}})^{T}U_{r}^{T} \\textbf{b} \\;\\; $ ($ \\because{} V^{T}_{r}V_{r} = I $)\n",
    "##### $ \\hspace{0.15cm} (\\Lambda{}^{\\frac{1}{2}})^{2} V_{r}^{T}\\hat{\\textbf{x}} = (\\Lambda{}^{\\frac{1}{2}})U_{r}^{T} \\textbf{b} \\;\\; $ ($ \\because{} (\\Lambda{}^{\\frac{1}{2}})^{T} = (\\Lambda{}^{\\frac{1}{2}}) $)\n",
    "##### $ \\hspace{0.15cm} V_{r}^{T}\\hat{\\textbf{x}} = (\\Lambda{}^{\\frac{1}{2}})^{-1}U_{r}^{T} \\textbf{b} $\n",
    "##### $ \\hspace{0.15cm} \\hat{\\textbf{x}} = V_{r}(\\Lambda{}^{\\frac{1}{2}})^{-1}U_{r}^{T} \\textbf{b} $\n",
    "##### $ \\hspace{0.15cm} \\therefore{} \\hat{\\textbf{x}} = A^{+}\\textbf{b} $"
   ]
  }
 ],
 "metadata": {
  "kernelspec": {
   "display_name": "Python 3",
   "language": "python",
   "name": "python3"
  },
  "language_info": {
   "codemirror_mode": {
    "name": "ipython",
    "version": 3
   },
   "file_extension": ".py",
   "mimetype": "text/x-python",
   "name": "python",
   "nbconvert_exporter": "python",
   "pygments_lexer": "ipython3",
   "version": "3.11.3"
  },
  "orig_nbformat": 4
 },
 "nbformat": 4,
 "nbformat_minor": 2
}
