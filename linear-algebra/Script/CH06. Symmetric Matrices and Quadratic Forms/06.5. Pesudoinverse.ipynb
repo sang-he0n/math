{
 "cells": [
  {
   "attachments": {},
   "cell_type": "markdown",
   "metadata": {},
   "source": [
    "# CH06.5. **유사 역행렬(Pesudoinverse Matrix)**"
   ]
  },
  {
   "cell_type": "markdown",
   "metadata": {},
   "source": [
    "> ## **유사 역행렬(Pesudoinverse Matrix)**"
   ]
  },
  {
   "cell_type": "markdown",
   "metadata": {},
   "source": [
    "#### **(1) 정의** : 어떠한 행렬 $ \\, A $ 가 정방행렬이 아니거나 역행렬이 존재하지 않을 때 일반화된 역행렬\n",
    "#### $ \\Rightarrow{} A^{+} =  V_{r} D^{-1} U^{T}_{r} = \\begin{bmatrix} \\textbf{v}_{1} & \\cdots{} & \\textbf{v}_{r} \\end{bmatrix} \\begin{bmatrix} \\sigma{}_{1} & 0 & \\cdots{} & 0 \\\\ 0 & \\sigma{}_{1} & \\cdots{} & 0 \\\\ \\vdots{} & \\vdots{} & \\ddots{} & \\vdots{} \\\\ 0 & 0 & \\cdots{} & \\sigma{}_{r} \\end{bmatrix} \\begin{bmatrix} \\textbf{u}_{1}^{T} \\\\ \\vdots{} \\\\ \\textbf{u}_{r}^{T} \\end{bmatrix} $\n",
    "#### $ \\hspace{0.6cm} \\text{where } \\, A \\approx{} U_{r} D V_{r}^{T} $\n",
    "#### $ \\hspace{0.6cm} \\text{and } \\, \\text{rank}(A) = r $"
   ]
  },
  {
   "cell_type": "markdown",
   "metadata": {},
   "source": [
    "<b></b>"
   ]
  },
  {
   "cell_type": "markdown",
   "metadata": {},
   "source": [
    "> ## (Theorem 6-12) **Pseudoinverse Optimization Theorem**"
   ]
  },
  {
   "cell_type": "markdown",
   "metadata": {},
   "source": [
    "#### 유사 역행렬과 상수 벡터 $ \\, \\textbf{b} $ 를 행렬곱한 해 $ \\, \\hat{\\textbf{x}} $ 은 최소 제곱 문제에서 가장 작은 길이를 갖는 해이다.\n",
    "#### $ \\Rightarrow{} \\displaystyle\\min_{\\hat{\\textbf{x}}} || \\textbf{b} - A\\hat{\\textbf{x}} || $\n",
    "#### $ \\Leftrightarrow{} \\textbf{x} = A^{+}\\textbf{b} \\;\\; \\text{ where } \\, A^{+} = V_{r} D^{-1} U^{T}_{r} $"
   ]
  },
  {
   "cell_type": "markdown",
   "metadata": {},
   "source": [
    "#### **(`WHY?`)**\n",
    "#### $ \\hspace{0.15cm} \\text{if } \\, \\hat{\\textbf{x}} = A^{+}\\textbf{b} $\n",
    "#### $ \\hspace{0.30cm} A\\hat{\\textbf{x}} = AA^{+}\\textbf{b} \\approx{} U_{r} D V_{r}^{T} V_{r} D^{-1} U_{r}^{T} \\textbf{b} = U_{r} D D^{-1} U_{r}^{T} \\textbf{b} \\;\\; $ ($ \\because{} \\, V^{T}V = I, \\,$ Theorem 5-6)\n",
    "#### $ \\hspace{0.9cm} = U_{r} U_{r}^{T} \\textbf{b} = \\text{proj}_{\\text{col}(A)}(\\textbf{b}) = \\hat{\\textbf{b}} \\;\\; $ ($ \\because{} \\, $ Theorem 5-10)"
   ]
  }
 ],
 "metadata": {
  "kernelspec": {
   "display_name": "Python 3",
   "language": "python",
   "name": "python3"
  },
  "language_info": {
   "codemirror_mode": {
    "name": "ipython",
    "version": 3
   },
   "file_extension": ".py",
   "mimetype": "text/x-python",
   "name": "python",
   "nbconvert_exporter": "python",
   "pygments_lexer": "ipython3",
   "version": "3.11.3"
  },
  "orig_nbformat": 4
 },
 "nbformat": 4,
 "nbformat_minor": 2
}
