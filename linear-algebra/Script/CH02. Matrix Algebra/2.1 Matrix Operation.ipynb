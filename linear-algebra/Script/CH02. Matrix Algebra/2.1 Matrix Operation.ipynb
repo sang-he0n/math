{
 "cells": [
  {
   "attachments": {},
   "cell_type": "markdown",
   "metadata": {},
   "source": [
    "# CH2.1 **Matrix Operation**"
   ]
  },
  {
   "cell_type": "markdown",
   "metadata": {},
   "source": [
    "> ## **Matrix Notation**"
   ]
  },
  {
   "cell_type": "markdown",
   "metadata": {},
   "source": [
    "#### **(1) 행렬 표기**\n",
    "#### $ \\;\\;\\;\\; A \\;\\;\\;\\; = \\begin{bmatrix} a_{11}&\\cdots&a_{1n} \\\\ \\cdots&\\cdots&\\cdots \\\\ a_{m1}&\\cdots&a_{mn} \\end{bmatrix} = \\begin{bmatrix} \\textbf{a}_{11}&\\cdots&\\textbf{a}_{n1} \\end{bmatrix} $\n",
    "#### $ \\; m \\times n $ "
   ]
  },
  {
   "cell_type": "markdown",
   "metadata": {},
   "source": [
    "#### **(2) 행렬 합** : $ A + B$"
   ]
  },
  {
   "cell_type": "markdown",
   "metadata": {},
   "source": [
    "#### **(3) 스칼라 곱** : $ c \\times B $\n",
    "<b></b>"
   ]
  },
  {
   "cell_type": "markdown",
   "metadata": {},
   "source": [
    "> ## (Thorem 1)"
   ]
  },
  {
   "cell_type": "markdown",
   "metadata": {},
   "source": [
    "#### 행렬 $ \\; A, B, C \\; $가 같은 사이즈이며, $ \\; c, d $ 가 스칼라일 때 아래의 공리가 성립한다.\n",
    "#### &nbsp;&nbsp; ① $ A + B = B + A $\n",
    "#### &nbsp;&nbsp; ② $ (A + B) + C = B + (A + C) $\n",
    "#### &nbsp;&nbsp; ③ $ A + \\textbf{0} = \\textbf{0} + A = A $\n",
    "#### &nbsp;&nbsp; ④ $ A + (-A) = (-A) + A = 0 $\n",
    "#### &nbsp;&nbsp; ⑤ $ c(A + B) = cB + cA $\n",
    "#### &nbsp;&nbsp; ⑥ $ (c+d)A = cA + dA $\n",
    "#### &nbsp;&nbsp; ⑦ $ c(dA) = (cd)A $\n",
    "#### &nbsp;&nbsp; ⑧ $ 1A = A $\n",
    "<b></b>"
   ]
  },
  {
   "cell_type": "markdown",
   "metadata": {},
   "source": [
    "> ## **Matrix  Multiplication**"
   ]
  },
  {
   "cell_type": "markdown",
   "metadata": {},
   "source": [
    "#### **(1) 정의**\n",
    "#### $ m \\times n \\; $ 행렬 $ \\; A $, $ n \\times p \\; $ 행렬 $ \\; B $와 컬럼 벡터 $ \\; \\textbf{b}_{1}, \\cdots, \\textbf{b}_{p} $ 가 존재할 때 행렬곱 $ \\; AB $는 아래와 같음\n",
    "#### $ AB = A \\begin{bmatrix} \\textbf{b}_{1}&\\cdots&\\textbf{b}_{p} \\end{bmatrix} = \\begin{bmatrix} A\\textbf{b}_{1}&\\cdots&A\\textbf{b}_{p} \\end{bmatrix} $"
   ]
  },
  {
   "cell_type": "markdown",
   "metadata": {},
   "source": [
    "#### **(2) 형태**\n",
    "#### $ A = \\begin{bmatrix} 2&3 \\\\ 1&-5 \\end{bmatrix}, \\; B = \\begin{bmatrix} 4&3&6 \\\\ 1&-2&3 \\end{bmatrix} $\n",
    "#### $ Ab_{1} = \\begin{bmatrix} 2&3 \\\\ 1&-5 \\end{bmatrix} \\begin{bmatrix} 4 \\\\ 1 \\end{bmatrix} = \\begin{bmatrix} 11 \\\\ 1 \\end{bmatrix} $\n",
    "#### $ Ab_{2} = \\begin{bmatrix} 2&3 \\\\ 1&-5 \\end{bmatrix} \\begin{bmatrix} 3 \\\\ -2 \\end{bmatrix} = \\begin{bmatrix} 0 \\\\ 13 \\end{bmatrix} $\n",
    "#### $ Ab_{3} = \\begin{bmatrix} 2&3 \\\\ 1&-5 \\end{bmatrix} \\begin{bmatrix} 6 \\\\ 3 \\end{bmatrix} = \\begin{bmatrix} 21 \\\\ -9 \\end{bmatrix} $\n",
    "#### $ \\therefore AB = A \\begin{bmatrix} b_{1}&b_{2}&b_{3} \\end{bmatrix} = \\begin{bmatrix} 11&0&21 \\\\ -1&13&-9 \\end{bmatrix} $"
   ]
  },
  {
   "cell_type": "markdown",
   "metadata": {},
   "source": [
    "#### **(3) 공리 (Theorem 2)**\n",
    "#### 행렬 $ \\; A, B, C \\; $가 곱, 합 연산 가능한 사이즈이며, $ \\; c, d $ 가 스칼라일 때 아래의 공리 성립\n",
    "#### &nbsp;&nbsp; ① $ A(BC) = ABC $\n",
    "#### &nbsp;&nbsp; ② $ A(B + C) + C = AB + AC $\n",
    "#### &nbsp;&nbsp; ③ $ (B + C)A = BA + CA $\n",
    "#### &nbsp;&nbsp; ④ $ c(AB) = (cA)B $\n",
    "#### &nbsp;&nbsp; ⑤ $ I_{m}A = A = AI_{n} $"
   ]
  },
  {
   "cell_type": "markdown",
   "metadata": {},
   "source": [
    "#### **(PLUS)** 행렬 곱 연산 주의 사항\n",
    "#### **(1)** In general, $ \\; AB \\neq BA $\n",
    "#### $ AB = \\begin{bmatrix} 5&1 \\\\ 3&-2 \\end{bmatrix} \\begin{bmatrix} 2&0 \\\\ 4&3 \\end{bmatrix} = \\begin{bmatrix} 14&3 \\\\ -2&-6 \\end{bmatrix} $ \n",
    "#### $ BA = \\begin{bmatrix} 2&0 \\\\ 4&3 \\end{bmatrix} \\begin{bmatrix} 5&1 \\\\ 3&-2 \\end{bmatrix} = \\begin{bmatrix} 10&2 \\\\ 29&-2 \\end{bmatrix} $\n",
    "#### $ \\therefore AB \\neq BA $ "
   ]
  },
  {
   "cell_type": "markdown",
   "metadata": {},
   "source": [
    "#### **(2)** If $ \\; AB = AC $, then In general $ \\; A \\neq C $\n",
    "#### $ AC = \\begin{bmatrix} 2&-3 \\\\ 4&6 \\end{bmatrix} \\begin{bmatrix} 8&4 \\\\ 5&5 \\end{bmatrix} = \\begin{bmatrix} 1&-7 \\\\ -2&14 \\end{bmatrix} $ \n",
    "#### $ AC = \\begin{bmatrix} 2&-3 \\\\ 4&6 \\end{bmatrix} \\begin{bmatrix} 5&-2 \\\\ 3&1 \\end{bmatrix} = \\begin{bmatrix} 1&-7 \\\\ -2&14 \\end{bmatrix} $\n",
    "#### $ \\therefore A \\neq C $   "
   ]
  },
  {
   "cell_type": "markdown",
   "metadata": {},
   "source": [
    "#### **(3)** If $ \\; AB = 0 $, then In general $ \\; A = 0 \\; $ or $ \\; B = 0 $ \n",
    "#### $ AB = \\begin{bmatrix} 3&-6 \\\\ -1&2 \\end{bmatrix} \\begin{bmatrix} 2&6 \\\\ 1&3 \\end{bmatrix} = \\begin{bmatrix} 0&0 \\\\ 0&0 \\end{bmatrix} $\n",
    "#### $ \\therefore A \\neq 0 \\;\\; or \\;\\; B \\neq 0 $ \n",
    "<b></b>"
   ]
  },
  {
   "cell_type": "markdown",
   "metadata": {},
   "source": [
    "> ## **The Transpose of a Matrix**"
   ]
  },
  {
   "cell_type": "markdown",
   "metadata": {},
   "source": [
    "#### **(1) 정의** : 전치행렬(transpose of matrix)는 행렬의 행과 열을 바꾼 형태"
   ]
  },
  {
   "cell_type": "markdown",
   "metadata": {},
   "source": [
    "#### **(2) 형태**\n",
    "#### $ \\begin{bmatrix} a&b \\\\ c&d \\end{bmatrix} ^{T} = \\begin{bmatrix} a&c \\\\ b&d \\end{bmatrix} $"
   ]
  },
  {
   "cell_type": "markdown",
   "metadata": {},
   "source": [
    "#### **(3) 성질 (Theorem 3)**\n",
    "#### &nbsp;&nbsp; ① $ (A^{T})^{T} = A $\n",
    "#### &nbsp;&nbsp; ② $ (A+B)^{T} = A^{T} + B^{T} $\n",
    "#### &nbsp;&nbsp; ③ $ (rA)^{T} = rA^{T} $ for any scalar $ r $\n",
    "#### &nbsp;&nbsp; ④ $ (AB)^{T} = B^{T} A^{T} $\n",
    "<b></b>"
   ]
  }
 ],
 "metadata": {
  "kernelspec": {
   "display_name": "Python 3",
   "language": "python",
   "name": "python3"
  },
  "language_info": {
   "codemirror_mode": {
    "name": "ipython",
    "version": 3
   },
   "file_extension": ".py",
   "mimetype": "text/x-python",
   "name": "python",
   "nbconvert_exporter": "python",
   "pygments_lexer": "ipython3",
   "version": "3.11.3"
  },
  "orig_nbformat": 4
 },
 "nbformat": 4,
 "nbformat_minor": 2
}
