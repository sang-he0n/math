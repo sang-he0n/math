{
 "cells": [
  {
   "attachments": {},
   "cell_type": "markdown",
   "metadata": {},
   "source": [
    "# CH2.3. **Characterizations of Invertible Matrices**"
   ]
  },
  {
   "cell_type": "markdown",
   "metadata": {},
   "source": [
    "> ## (Thorem 8) **The invertible Matrix Theroem**"
   ]
  },
  {
   "cell_type": "markdown",
   "metadata": {},
   "source": [
    "#### $ n \\times n \\; $ 행렬 $ \\; A $가 존재하고, 아래의 명제들은 전부 옳거나 전부 틀리다.\n",
    "#### &nbsp;&nbsp; ① 선형 방정식 $ \\; A\\textbf{x} = \\textbf{0} \\; $ 의 solution set은 오직 trivial solution($ \\textbf{x} = \\textbf{0} $)이다.\n",
    "#### &nbsp;&nbsp; ② $ CA = I \\; $를 만족하는 $ n \\times n \\; $ 행렬 $ C $ 가 존재한다.\n",
    "#### &nbsp;&nbsp; ③ $ AD = I \\; $를 만족하는 $ n \\times n \\; $ 행렬 $ D $ 가 존재한다.\n",
    "#### &nbsp;&nbsp; ④ $ A $는 invertible matrix이다.\n",
    "#### &nbsp;&nbsp; ⑤ $ A^{T} $는 invertible Matrix이다. \n",
    "#### &nbsp;&nbsp; ⑥ $ A $는 $ \\; n $ 개의 pivot position을 갖는다.\n",
    "#### &nbsp;&nbsp; ⑦ $ A $는 $ \\; I_{n} $와 row equivalent하다. \n",
    "#### &nbsp;&nbsp; ⑨ $ A $의 열벡터들은 선형 독립이다.\n",
    "#### &nbsp;&nbsp; ⑩ $ A $의 열벡터들은 $ \\mathbb{R}^{n} $ 을 span한다.\n",
    "#### &nbsp;&nbsp; ⑪ 선형 방정식 $ \\; A\\textbf{x} = \\textbf{b} \\; $ 의 solution set은 유일한 solution을 갖는다. (정리 5)\n",
    "#### &nbsp;&nbsp; ⑫ 선형변환 $ \\; \\textbf{x} \\longmapsto A\\textbf{X} $ 은 one-to-one 관계이다.\n",
    "#### &nbsp;&nbsp; ⑬ 선형변환 $ \\; \\textbf{x} \\longmapsto A\\textbf{X} $ 은 $ \\; \\mathbb{R}^{n} $에서 $ \\; \\mathbb{R}^{n} $으로 onto하는 관계이다.\n",
    "<b></b>"
   ]
  },
  {
   "cell_type": "markdown",
   "metadata": {},
   "source": [
    "> ## **Invertible Linear Transformation**"
   ]
  },
  {
   "cell_type": "markdown",
   "metadata": {},
   "source": [
    "#### **(1) 정의**\n",
    "#### 선형 변환 함수 $ \\; T : \\mathbb{R}^{n} \\rightarrow \\mathbb{R}^{n} $ 와 $ \\; S : \\mathbb{R}^{n} \\rightarrow \\mathbb{R}^{n} $ 가 존재할 때, 아래의 조건을 만족하면 $ \\; T $가 invertible함\n",
    "#### &nbsp;&nbsp; ① $ S(T(\\textbf{x})) = \\textbf{x} \\;\\; for \\; all \\;\\; \\textbf{x} \\;\\; in \\;\\; \\mathbb{R}^{n} $\n",
    "#### &nbsp;&nbsp; ② $ T(S(\\textbf{x})) = \\textbf{x} \\;\\; for \\; all \\;\\; \\textbf{x} \\;\\; in \\;\\; \\mathbb{R}^{n} $"
   ]
  },
  {
   "cell_type": "markdown",
   "metadata": {},
   "source": [
    "#### **(PLUS)** 선형 변환 함수 $ \\; T $ 가 invertible하면, $ \\; T $ 의 standard matrix $ \\; A $도 invertible함 (Therom 9)\n",
    "<b></b>"
   ]
  }
 ],
 "metadata": {
  "kernelspec": {
   "display_name": "Python 3",
   "language": "python",
   "name": "python3"
  },
  "language_info": {
   "codemirror_mode": {
    "name": "ipython",
    "version": 3
   },
   "file_extension": ".py",
   "mimetype": "text/x-python",
   "name": "python",
   "nbconvert_exporter": "python",
   "pygments_lexer": "ipython3",
   "version": "3.11.3"
  },
  "orig_nbformat": 4
 },
 "nbformat": 4,
 "nbformat_minor": 2
}
