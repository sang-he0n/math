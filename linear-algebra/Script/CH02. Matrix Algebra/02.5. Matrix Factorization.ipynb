{
 "cells": [
  {
   "attachments": {},
   "cell_type": "markdown",
   "metadata": {},
   "source": [
    "# CH02.5. **Matrix Factorization**"
   ]
  },
  {
   "cell_type": "markdown",
   "metadata": {},
   "source": [
    "> ## **행렬 분해(Matrix Factorization; Decomposition)**"
   ]
  },
  {
   "cell_type": "markdown",
   "metadata": {},
   "source": [
    "#### **(1) 정의** : 행렬을 두 개 이상의 행렬 곱으로 표현하는 방식\n",
    "#### $ \\Rightarrow{} A = BC $"
   ]
  },
  {
   "cell_type": "markdown",
   "metadata": {},
   "source": [
    "<b></b>"
   ]
  },
  {
   "cell_type": "markdown",
   "metadata": {},
   "source": [
    "> ## **LU 분해(LU Factorization)**"
   ]
  },
  {
   "cell_type": "markdown",
   "metadata": {},
   "source": [
    "#### **(1) 정의** : 행렬을 하삼각행렬(Lower triangular matrix), 상삼각행렬(Upper triangular matrix)로 분해하는 연산\n",
    "#### $ \\Rightarrow{} A = \\begin{bmatrix} 1&0&0&0 \\\\ *&1&0&0 \\\\ *&*&1&0 \\\\ *&*&*&1 \\end{bmatrix} \\begin{bmatrix} ■&*&*&* \\\\ 0&■&*&* \\\\ 0&0&■&* \\\\ 0&0&0&■ \\end{bmatrix} = LU, \\;\\; $ where $ \\, * \\in{} \\{ \\mathbb{R}^{1} \\}, \\;\\; ■ \\in{} \\{ \\mathbb{R^1} | \\mathbb{R^1} \\notni 0 \\} $"
   ]
  },
  {
   "cell_type": "markdown",
   "metadata": {},
   "source": [
    "#### **(`PLUS`)** 계산 편의성을 위해, 아래와 같이 행렬 $ \\, L $ 을 정의함 (그렇지 않으면 다양한 형태의 $ \\, LU $ 형태가 나옴)\n",
    "#### $ \\hspace{0.15cm} $ ① 행렬 $ \\, L $ 의 대각 성분(diagnoal term)는 $ \\, 1 $ 임 (= $ \\, L \\, $ is a unit lower triangular matrix) \n",
    "#### $ \\hspace{0.15cm} $ ② 행렬 $ \\, A $ 는 행 교환(interchage) 연산 없이 기약행사다리꼴(REF) 형태로 행 상동함\n",
    "#### $ \\hspace{0.15cm} $ ③ 행렬 $ \\, A $ 는 스칼라 곱(scaling) 연산 없이 기약행사다리꼴 형태로 행 상동함"
   ]
  },
  {
   "cell_type": "markdown",
   "metadata": {},
   "source": [
    "#### **(2) 사용 이유** : 행렬 $ \\, L, \\, U $ 는 행 연산(row operation)을 통해 쉽게 기약행사다리꼴로 만들 수 있기에 연산이 간편해짐"
   ]
  },
  {
   "cell_type": "markdown",
   "metadata": {},
   "source": [
    "#### **(`PLUS`) 계산 복잡도** : \n",
    "#### $ \\hspace{0.15cm} \\cdot{} \\, n \\times{} n $ 행렬 $ A $ 을 통한 선형시스템을 계산할 때 역행렬을 구하거나, $ \\, LU $ 분해를 하거나 성능은 비슷함\n",
    "#### $ \\hspace{0.15cm} \\cdot{} \\, A $ 가 희소행렬이라면, $ \\, L,\\, U $ 행렬들도 희소할 가능성이 높으나 $ \\, A^{-1} $ 은 밀도가 높을 가능성이 있어 $ \\, LU $ 분해가 효율적\n",
    "#### $ \\hspace{9cm} $ (메모리 관리 측면이나 계산 속도 측면에서)"
   ]
  },
  {
   "cell_type": "markdown",
   "metadata": {},
   "source": [
    "#### **(3) 풀이 순서** :\n",
    "#### $ \\hspace{0.15cm} $ ① $ A\\textbf{x} = LU\\textbf{x} = \\textbf{b} $ 일 때,\n",
    "#### $ \\hspace{0.45cm} A\\textbf{x} = LU\\textbf{x} = \\begin{bmatrix} 1&0&0&0 \\\\ -1&1&0&0 \\\\ 2&-5&1&0 \\\\ -3&8&3&1 \\end{bmatrix} \\begin{bmatrix} 3&-7&-2&2 \\\\ 0&-2&-1&2 \\\\ 0&0&-1&1 \\\\ 0&0&0&-1 \\end{bmatrix} \\begin{bmatrix} x_{1} \\\\ x_{2} \\\\ x_{3} \\\\ x_{4} \\end{bmatrix} = \\begin{bmatrix} -9 \\\\ 5 \\\\ 7 \\\\ 11 \\end{bmatrix} $\n",
    "#### $ \\hspace{0.15cm} $ ② $ U\\textbf{x} = \\textbf{y} $ 로 정의하여 풀이하면 $ \\, L\\textbf{y} = \\textbf{b} $ 로 풀이 가능\n",
    "#### $ \\hspace{0.45cm} \\begin{bmatrix} L & \\textbf{b} \\end{bmatrix} = \\begin{bmatrix} 1&0&0&0&-9 \\\\ -1&1&0&0&5 \\\\ 2&-5&1&0&7 \\\\ -3&8&3&1&11 \\end{bmatrix} $ ~ $ \\cdots $ ~ $ \\begin{bmatrix} 1&0&0&0&-9 \\\\ 0&1&0&0&-4 \\\\ 0&0&1&0&5 \\\\ 0&0&0&1&1 \\end{bmatrix} = \\begin{bmatrix} I&\\textbf{y} \\end{bmatrix} $\n",
    "#### $ \\hspace{0.15cm} $ ③ $ U, \\, \\textbf{y} $에 대하여 알고 있어 $ \\, \\textbf{x} $ 에 대하여 풀이 가능\n",
    "#### $ \\hspace{0.45cm} \\begin{bmatrix} U & \\textbf{y} \\end{bmatrix} = \\begin{bmatrix} 3&-7&-2&2&-9 \\\\ 0&-2&-1&2&-4 \\\\ 0&0&-1&1&5 \\\\ 0&0&0&-1&1 \\end{bmatrix} $ ~ $ \\cdots $ ~ $ \\begin{bmatrix} 1&0&0&0&3 \\\\ 0&1&0&0&4 \\\\ 0&0&1&0&-6 \\\\ 0&0&0&1&-1 \\end{bmatrix} = \\begin{bmatrix} I&\\textbf{x} \\end{bmatrix} $\n",
    "#### $ \\hspace{0.45cm} \\therefore \\textbf{x} = \\begin{bmatrix} 3 \\\\ 4 \\\\ -6 \\\\ -1 \\end{bmatrix} $"
   ]
  },
  {
   "cell_type": "markdown",
   "metadata": {},
   "source": [
    "<b></b>"
   ]
  },
  {
   "cell_type": "markdown",
   "metadata": {},
   "source": [
    "> ## **LU 분해 알고리듬(LU Factorization Algorithm)**"
   ]
  },
  {
   "cell_type": "markdown",
   "metadata": {},
   "source": [
    "#### **(1) 정의** : 행렬 $ \\, A $ 를 $ \\, LU $ 형태로 분해하는 연산 방법 "
   ]
  },
  {
   "cell_type": "markdown",
   "metadata": {},
   "source": [
    "#### **(2) 연산 순서** :\n",
    "#### $ \\hspace{0.15cm} $ ① 주어진 행렬 $ \\, A $에 대하여 행렬 $ \\, U $($ \\approx{} $ echelon form)를 도출하기 위해 행 연산을 수행\n",
    "#### $ \\hspace{0.45cm} \\cdot{} A \\; $ ~ $ \\; E_{1}A \\; $ ~ $ \\; E_{2}E_{1}A \\; $ ~ $ \\; E_{3}E_{2}E_{1}A = U $\n",
    "#### $ \\hspace{0.45cm} A = \\begin{bmatrix} 2&4&-1&5&-2 \\\\ -4&-5&3&-8&1 \\\\ 2&-5&-4&1&8 \\\\ -6&0&7&-3&1 \\end{bmatrix} $\n",
    "#### $ \\hspace{0.45cm} $ ~ $ \\begin{bmatrix} 2&4&-1&5&-2 \\\\ 0&3&1&2&-3 \\\\ 0&-9&-3&-4&10 \\\\ 0&12&4&12&-5 \\end{bmatrix} $ : $ \\begin{array}{c} \\\\ \\text{row}_{2} + 2 \\times \\text{row}_{1} \\to{} \\text{row}_{2} \\\\ \\text{row}_{3} - 1 \\times \\text{row}_{1} \\to{} \\text{row}_{3} \\\\ \\text{row}_{4} + 3 \\times \\text{row}_{1} \\to{} \\text{row}_{4} \\end{array}, \\;\\; E_{1} = \\begin{bmatrix} 1&0&0&0 \\\\ 2&1&0&0 \\\\ -1&0&1&0 \\\\ 3&0&0&1 \\end{bmatrix} $\n",
    "#### $ \\hspace{0.45cm} $ ~ $ \\begin{bmatrix} 2&4&-1&5&-2 \\\\ 0&3&1&2&-3 \\\\ 0&0&0&2&1 \\\\ 0&0&0&4&7 \\end{bmatrix} $ : $ \\begin{array}{c} \\\\ \\\\ \\text{row}_{3} + 3 \\times \\text{row}_{2} \\to{} \\text{row}_{3} \\\\ \\text{row}_{4} - 4 \\times \\text{row}_{2} \\to{} \\text{row}_{4} \\end{array}, \\hspace{0.75cm} E_{2} = \\begin{bmatrix} 1&0&0&0 \\\\ 0&1&0&0 \\\\ 0&3&1&0 \\\\ 0&-4&0&1 \\end{bmatrix} $\n",
    "#### $ \\hspace{0.45cm} $ ~ $ \\begin{bmatrix} 2&4&-1&5&-2 \\\\ 0&3&1&2&-3 \\\\ 0&0&0&2&1 \\\\ 0&0&0&0&5 \\end{bmatrix} $ : $ \\begin{array}{c} \\\\ \\\\ \\\\ \\text{row}_{4} - 2 \\times \\text{row}_{3} \\to{} \\text{row}_{4} \\end{array}, \\hspace{0.75cm} E_{3} = \\begin{bmatrix} 1&0&0&0 \\\\ 0&1&0&0 \\\\ 0&0&1&0 \\\\ 0&0&-2&1 \\end{bmatrix} $\n",
    "#### $ \\hspace{0.45cm} \\rightarrow{} U = (E_{3}E_{2}E_{1}) \\cdot{} A $\n",
    "#### $ \\hspace{0.15cm} $ ② 기본 행렬(elementray matrix)은 가역(invertible) 행렬이므로, 이항하면 $ \\, LU $ 구조로 변환\n",
    "#### $ \\hspace{0.45cm} \\cdot{} A = LU = L \\cdot{} (E_{3}E_{2}E_{1}) \\cdot{} A $\n",
    "#### $ \\hspace{0.45cm} I = \\begin{bmatrix} 1&0&0&0 \\\\ 0&1&0&0 \\\\ 0&0&1&0 \\\\ 0&0&0&1 \\end{bmatrix} $ ~ $ \\begin{bmatrix} 1&0&0&0 \\\\ 0&1&0&0 \\\\ 0&0&1&0 \\\\ 0&0&2&1 \\end{bmatrix} $ ~ $ \\begin{bmatrix} 1&0&0&0 \\\\ 0&1&0&0 \\\\ 0&-3&1&0 \\\\ 0&4&2&1 \\end{bmatrix} $ ~ $ \\begin{bmatrix} 1&0&0&0 \\\\ -2&1&0&0 \\\\ 1&-3&1&0 \\\\ -3&4&2&1 \\end{bmatrix} = L $\n",
    "#### $ \\hspace{0.45cm} \\rightarrow{} L = (E_{3}E_{2}E_{1})^{-1} = E^{-1}E^{-2}E^{-3}I $\n",
    "#### $ \\hspace{0.45cm} \\therefore{} A = ( E_{3} E_{2} E_{1} )^{-1} U = LU = \\begin{bmatrix} 1&0&0&0 \\\\ -2&1&0&0 \\\\ 1&-3&1&0 \\\\ -3&4&2&1 \\end{bmatrix} \\begin{bmatrix} 2&4&-1&5&-2 \\\\ 0&3&1&2&-3 \\\\ 0&0&0&2&1 \\\\ 0&0&0&0&5 \\end{bmatrix} $"
   ]
  },
  {
   "cell_type": "markdown",
   "metadata": {},
   "source": [
    "#### **(`PLUS`) 연산에서 행 교환(interchange)이 필요한 경우** : \n",
    "#### $ \\hspace{0.15cm} $ ① 일반적인 LU 분해 알고리듬 진행\n",
    "#### $ \\hspace{0.45cm} A = \\begin{bmatrix} 0&0&1&-3&2 \\\\ 2&-1&4&2&1 \\\\ 4&-1&9&1&4 \\\\ 2&-1&5&-1&5 \\end{bmatrix} $ \n",
    "#### $ \\hspace{0.45cm} $ ~ $ \\begin{bmatrix} 2&-1&5&-1&5 \\\\ 2&-1&4&2&1 \\\\ 4&-1&9&1&4 \\\\ 0&0&1&-3&2 \\end{bmatrix} $ : $ \\begin{array}{c} \\text{row}_{1} \\iff \\text{row}_{4} \\\\ \\\\ \\\\ \\end{array} , \\hspace{2cm} E_{1} = \\begin{bmatrix} 0&0&0&1 \\\\ 0&1&0&0 \\\\ 0&0&1&0 \\\\ 1&0&0&0 \\end{bmatrix} $\n",
    "#### $ \\hspace{0.45cm} $ ~ $ \\begin{bmatrix} 2&-1&5&-1&5 \\\\ 0&0&-1&3&-4 \\\\ 0&1&-1&3&-6 \\\\ 0&0&1&-3&2 \\end{bmatrix} $ : $ \\begin{array}{c} \\\\ \\text{row}_{2} - 1 \\times \\text{row}_{1} \\to \\text{row}_{2} \\\\ \\text{row}_{3} - 2 \\times \\text{row}_{1} \\to \\text{row}_{3} \\\\ \\end{array} , \\;\\; E_{2} = \\begin{bmatrix} 1&0&0&0 \\\\ -1&1&0&0 \\\\ -2&0&1&0 \\\\ 0&0&0&1 \\end{bmatrix} $\n",
    "#### $ \\hspace{0.45cm} $ ~ $ \\begin{bmatrix} 2&-1&5&-1&5 \\\\ 0&1&-1&3&-6 \\\\ 0&0&-1&3&-4 \\\\ 0&0&1&-3&2 \\end{bmatrix} $ : $ \\begin{array}{c} \\\\ \\text{row}_{2} \\iff \\text{row}_{3} \\\\ \\\\ \\end{array} , \\hspace{1.45cm} E_{3} = \\begin{bmatrix} 1&0&0&0 \\\\ 0&0&1&0 \\\\ 0&1&0&0 \\\\ 0&0&0&1 \\end{bmatrix} $\n",
    "#### $ \\hspace{0.45cm} $ ~ $ \\begin{bmatrix} 2&-1&5&-1&5 \\\\ 0&1&-1&3&-6 \\\\ 0&0&-1&3&-4 \\\\ 0&0&0&0&-2 \\end{bmatrix} $ : $ \\begin{array}{c} \\\\ \\\\ \\\\ \\text{row}_{4} + 1 \\times \\text{row}_{3} \\to \\text{row}_{4} \\end{array} , \\;\\; E_{4} = \\begin{bmatrix} 1&0&0&0 \\\\ 0&1&0&0 \\\\ 0&0&1&0 \\\\ 0&0&1&1 \\end{bmatrix} $\n",
    "#### $ \\hspace{0.45cm} \\rightarrow{} U = (E_{4}E_{3}E_{2}E_{1})A  $\n",
    "#### $ \\hspace{0.45cm} \\Rightarrow{} (E_{4}E_{3}E_{2}E_{1})^{-1} = \\begin{bmatrix} 0&0&-1&1 \\\\ 1&0&1&0 \\\\ 2&1&0&0 \\\\ 1&0&0&0 \\end{bmatrix} \\neq{} L $ (unit lower triangluar matrix)\n",
    "#### $ \\hspace{0.15cm} $ ② 행렬 $ \\, (E_{4}E_{3}E_{2}E_{1})^{-1} $ 에 대하여 행 연산을 추가로 수행하여 단위 하삼각 행렬로 변환\n",
    "#### $ \\hspace{0.45cm} (E_{4}E_{3}E_{2}E_{1})^{-1} = \\begin{bmatrix} 0&0&-1&1 \\\\ 1&0&1&0 \\\\ 2&1&0&0 \\\\ 1&0&0&0 \\end{bmatrix} $ \n",
    "#### $ \\hspace{0.45cm} $~ $ \\begin{bmatrix} 1&0&0&0 \\\\ 1&0&1&0 \\\\ 2&1&0&0 \\\\ 0&0&-1&1 \\end{bmatrix} $ : $ \\begin{array}{c} \\text{row}_{1} \\iff \\text{row}_{4} \\\\ \\\\ \\\\ \\end{array} , \\;\\; E_{5} = \\begin{bmatrix} 0&0&0&1 \\\\ 0&1&0&0 \\\\ 0&0&1&0 \\\\ 1&0&0&0 \\end{bmatrix} $\n",
    "#### $ \\hspace{0.45cm} $ ~ $ \\begin{bmatrix} 1&0&0&0 \\\\ 2&1&0&0 \\\\ 1&0&1&0 \\\\ 0&0&-1&1 \\end{bmatrix} $ : $ \\begin{array}{c} \\\\ \\text{row}_{2} \\iff \\text{row}_{3} \\\\ \\\\ \\end{array} , \\;\\; E_{6} = \\begin{bmatrix} 1&0&0&0 \\\\ 0&0&1&0 \\\\ 0&1&0&0 \\\\ 0&0&0&1 \\end{bmatrix} $\n",
    "#### $ \\hspace{0.45cm} \\rightarrow{} E_{6}E_{5}(E_{4}E_{3}E_{2}E_{1})^{-1} = \\begin{bmatrix} 1&0&0&0 \\\\ 2&1&0&0 \\\\ 1&0&1&0 \\\\ 0&0&-1&1 \\end{bmatrix} = L $\n",
    "#### $ \\hspace{0.15cm} $ ③ 그러나 $ \\, A = (E_{4}E_{3}E_{2}E_{1})^{-1}U $ 이므로, 양변에 $ \\, E_{6}E_{5} = \\begin{bmatrix} 0 & 0 & 0 & 1 \\\\ 0 & 0 & 1 & 0 \\\\ 0 & 1 & 0 & 0 \\\\ 1 & 0 & 0 & 0 \\end{bmatrix} =  P $ 곱하여 연산 처리\n",
    "#### $ \\hspace{0.45cm} \\rightarrow{} E_{6}E_{5} A = E_{6}E_{5}(E_{4}E_{3}E_{2}E_{1})^{-1}U $\n",
    "#### $ \\hspace{0.45cm} \\therefore{} P A = L U $ "
   ]
  },
  {
   "cell_type": "markdown",
   "metadata": {},
   "source": [
    "#### **(`PLUS`)** 행렬 $ \\, P $를 치환 행렬(permutation matrix)로 정의되며, 선형 시스템의 **해집합에 영향을 미치지 않음**(행의 순서만 바꾸므로 독립적임)"
   ]
  }
 ],
 "metadata": {
  "kernelspec": {
   "display_name": "Python 3",
   "language": "python",
   "name": "python3"
  },
  "language_info": {
   "codemirror_mode": {
    "name": "ipython",
    "version": 3
   },
   "file_extension": ".py",
   "mimetype": "text/x-python",
   "name": "python",
   "nbconvert_exporter": "python",
   "pygments_lexer": "ipython3",
   "version": "3.11.3"
  },
  "orig_nbformat": 4
 },
 "nbformat": 4,
 "nbformat_minor": 2
}
