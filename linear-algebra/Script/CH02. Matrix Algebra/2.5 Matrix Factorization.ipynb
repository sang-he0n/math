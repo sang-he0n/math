{
 "cells": [
  {
   "attachments": {},
   "cell_type": "markdown",
   "metadata": {},
   "source": [
    "# CH2.5 **Matrix Factorization**"
   ]
  },
  {
   "cell_type": "markdown",
   "metadata": {},
   "source": [
    "> ## **Factorization**"
   ]
  },
  {
   "cell_type": "markdown",
   "metadata": {},
   "source": [
    "#### **(1) 정의** : 행렬을 두 개 이상의 행렬 곱으로 표현하는 연산(방식)"
   ]
  },
  {
   "cell_type": "markdown",
   "metadata": {},
   "source": [
    "#### **(2) 형태**\n",
    "#### $ A = BC $\n",
    "<b></b>"
   ]
  },
  {
   "cell_type": "markdown",
   "metadata": {},
   "source": [
    "> ## **LU Factorization**"
   ]
  },
  {
   "cell_type": "markdown",
   "metadata": {},
   "source": [
    "#### **(1) 정의** : 특정 행렬을 Lower triangular matrix, Upper triangular matrix(ehchelon form)로 분해하는 연산"
   ]
  },
  {
   "cell_type": "markdown",
   "metadata": {},
   "source": [
    "#### **(2) 형태**\n",
    "#### $ A = \\begin{bmatrix} 1&0&0&0 \\\\ *&1&0&0 \\\\ *&*&1&0 \\\\ *&*&*&1 \\end{bmatrix} \\begin{bmatrix} ■&*&*&* \\\\ 0&■&*&* \\\\ 0&0&■&* \\\\ 0&0&0&■ \\end{bmatrix} = LU, \\;\\; where \\;\\; * \\in \\{ \\mathbb{R}^{1} \\} \\;\\; and \\;\\; ■ \\; \\in \\{ \\mathbb{R^1} | \\mathbb{R^1} \\notni 0 \\} $"
   ]
  },
  {
   "cell_type": "markdown",
   "metadata": {},
   "source": [
    "#### **(PLUS)** 계산 편의성을 위해, 아래와 같이 L을 정의함 (그렇지 않으면 다양한 형태의 $ \\; LU $ 가 나옴)\n",
    "#### &nbsp;&nbsp; ① 행렬 $ \\; L $의 diagnoal term은 1임 ($ L \\; $ is a unit lower triangular matrix) \n",
    "#### &nbsp;&nbsp; ② 행렬 $ \\; A $는 row interchage 연산 없이 reduced echelon form 형태로 row equivalent함 ($ A \\; $ is without row interchanges)\n",
    "#### &nbsp;&nbsp; ③ 행렬 $ \\; A $는 row scaling 연산 없이 reduced echelon form 형태로 row equivalent함 ($ A \\; $ is without row scaling)"
   ]
  },
  {
   "cell_type": "markdown",
   "metadata": {},
   "source": [
    "#### **(3) 유용성**\n",
    "#### 선형 방정식 $ \\; A\\textbf{x} = \\textbf{b} $가 존재하고, $ \\; A = LU $ 로 정의될 때 아래와 같이 풀이 가능\n",
    "#### $ A\\textbf{x} = \\begin{bmatrix} 3&-7&-2&2 \\\\ -3&5&1&0 \\\\ 6&-4&0&-5 \\\\ -9&5&-5&12 \\end{bmatrix} \\begin{bmatrix} x_{1} \\\\ x_{2} \\\\ x_{3} \\\\ x_{4} \\end{bmatrix} = \\begin{bmatrix} -9 \\\\ 5 \\\\ 7 \\\\ 11 \\end{bmatrix} $\n",
    "#### &nbsp;&nbsp; ① $ A\\textbf{x} = LU\\textbf{x} = \\textbf{b} $이고 ,\n",
    "#### $ A\\textbf{x} = LU\\textbf{x} = \\begin{bmatrix} 1&0&0&0 \\\\ -1&1&0&0 \\\\ 2&-5&1&0 \\\\ -3&8&3&1 \\end{bmatrix} \\begin{bmatrix} 3&-7&-2&2 \\\\ 0&-2&-1&2 \\\\ 0&0&-1&1 \\\\ 0&0&0&-1 \\end{bmatrix} \\begin{bmatrix} x_{1} \\\\ x_{2} \\\\ x_{3} \\\\ x_{4} \\end{bmatrix} = \\begin{bmatrix} -9 \\\\ 5 \\\\ 7 \\\\ 11 \\end{bmatrix} $\n",
    "#### &nbsp;&nbsp; ② $ U\\textbf{x} = y $로 정의하여 풀이하면 $ \\; L\\textbf{y} = \\textbf{b} $로 풀이 가능\n",
    "#### $ \\begin{bmatrix} L & \\textbf{b} \\end{bmatrix} = \\begin{bmatrix} 1&0&0&0&-9 \\\\ -1&1&0&0&5 \\\\ 2&-5&1&0&7 \\\\ -3&8&3&1&11 \\end{bmatrix} $ ~ \n",
    "#### &nbsp;&nbsp; ③ $ L, \\; y $에 대하여 알고 있어 $ \\; \\textbf{x} $에 대하여 풀이 가능. \n",
    "#### 이 과정에서 $ L, \\; U $는 row operation을 통해 쉽게 reduced echelon form으로 만들 수 있기에 연산이 간편해짐"
   ]
  },
  {
   "cell_type": "markdown",
   "metadata": {},
   "source": [
    "#### **(4) 분해 방법**\n",
    "<b></b>"
   ]
  },
  {
   "cell_type": "markdown",
   "metadata": {},
   "source": []
  }
 ],
 "metadata": {
  "kernelspec": {
   "display_name": "Python 3",
   "language": "python",
   "name": "python3"
  },
  "language_info": {
   "codemirror_mode": {
    "name": "ipython",
    "version": 3
   },
   "file_extension": ".py",
   "mimetype": "text/x-python",
   "name": "python",
   "nbconvert_exporter": "python",
   "pygments_lexer": "ipython3",
   "version": "3.11.3"
  },
  "orig_nbformat": 4
 },
 "nbformat": 4,
 "nbformat_minor": 2
}
