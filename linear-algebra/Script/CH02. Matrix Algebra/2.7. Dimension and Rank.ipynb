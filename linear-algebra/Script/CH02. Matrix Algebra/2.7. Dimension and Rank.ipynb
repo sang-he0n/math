{
 "cells": [
  {
   "attachments": {},
   "cell_type": "markdown",
   "metadata": {},
   "source": [
    "# CH2.7 **Dimension and Rank**"
   ]
  },
  {
   "cell_type": "markdown",
   "metadata": {},
   "source": [
    "> ## **Coordinate Systems**"
   ]
  },
  {
   "cell_type": "markdown",
   "metadata": {},
   "source": [
    "#### **(1) 정의** : subspace $ \\; H \\; $ 안 에 존재하는 각각의 vector는 basis vector의 linear combination으로 표현할 수 있음"
   ]
  },
  {
   "cell_type": "markdown",
   "metadata": {},
   "source": [
    "#### **(2) 형태** : \n",
    "<b></b>"
   ]
  },
  {
   "cell_type": "code",
   "execution_count": null,
   "metadata": {
    "vscode": {
     "languageId": "plaintext"
    }
   },
   "outputs": [],
   "source": []
  },
  {
   "cell_type": "markdown",
   "metadata": {},
   "source": [
    "> ## **Dimension**"
   ]
  },
  {
   "cell_type": "markdown",
   "metadata": {},
   "source": [
    "#### **(1) 정의** : non-zero subspace $ \\; H $ 의 **basis 벡터 개수** = dim $ H $"
   ]
  },
  {
   "cell_type": "markdown",
   "metadata": {},
   "source": [
    "#### **(PLUS)** zero subspace $ \\{ \\textbf{0} \\} $ 의 dimension은 0 임(dim $ \\{ \\textbf{0} \\} $  = 0) "
   ]
  },
  {
   "cell_type": "markdown",
   "metadata": {},
   "source": [
    "#### **(2) 형태** : "
   ]
  },
  {
   "cell_type": "markdown",
   "metadata": {},
   "source": [
    "#### subspace of $ \\mathbb{R}^{n} \\; $인 벡터 공간 $ \\; H \\; $가 벡터 $ \\; \\textbf{v}_{1}, \\textbf{v}_{2}, \\textbf{v}_{3} $ 를 span할 때, $ \\; H $의 dimension을 구하고자 할 경우\n",
    "#### $ \\textbf{v}_{1} = \\begin{bmatrix} 2 \\\\ -8 \\\\ 6 \\end{bmatrix}, \\; \\textbf{v}_{2} = \\begin{bmatrix} 3 \\\\ -7 \\\\ -1 \\end{bmatrix}, \\; \\textbf{v}_{3} = \\begin{bmatrix} -1 \\\\ 6 \\\\ -7 \\end{bmatrix} $\n",
    "#### $ \\begin{bmatrix} 2&3&-1 \\\\ -8&-7&6 \\\\ 6&-1&-7 \\end{bmatrix} $ ~ $ \\cdots $ ~ $ \\begin{bmatrix} \\textbf{2}&0&0 \\\\ 3&\\textbf{5}&0 \\\\ -1&2&0 \\end{bmatrix} $\n",
    "#### $ \\therefore \\; $ dim $ A = 2 \\; $ ( $ \\because \\; $ Theorem 12)\n",
    "<b></b>"
   ]
  },
  {
   "cell_type": "markdown",
   "metadata": {},
   "source": [
    "> ## **Rank**"
   ]
  },
  {
   "cell_type": "markdown",
   "metadata": {},
   "source": [
    "#### **(1) 정의** : 행렬 $ \\; A $ 의 column space의 dimension(= **basis 벡터의 개수**) = rank $ A $"
   ]
  },
  {
   "cell_type": "markdown",
   "metadata": {},
   "source": [
    "#### **(2) 형태** : \n",
    "#### 아래 행렬 $ \\; A $의 rank를 구하고자 하는 경우\n",
    "#### $ A = \\begin{bmatrix} 2&5&-3&-4&8 \\\\ 4&7&-4&-3&9 \\\\ 6&9&-5&2&4 \\\\ 0&-9&6&5&-6 \\end{bmatrix} $ ~ $ \\begin{bmatrix} \\textbf{2}&5&-3&-4&8 \\\\ 0&\\textbf{-3}&2&5&-7 \\\\ 0&0&0&\\textbf{4}&-6 \\\\ 0&0&0&0&0 \\end{bmatrix} = E_{p}E_{p-1} \\cdots E_{2}E_{1}A $\n",
    "#### $ \\therefore \\{ \\begin{bmatrix} 2 \\\\ 0 \\\\ 0 \\\\ 0 \\end{bmatrix}, \\begin{bmatrix} 5 \\\\ -3 \\\\ 0 \\\\ 0 \\end{bmatrix}, \\begin{bmatrix} -4 \\\\ 5 \\\\ 4 \\\\ 0 \\end{bmatrix} \\} \\; $ is basis of col $ A = $ rank $ A $ \n",
    "<b></b>"
   ]
  },
  {
   "cell_type": "markdown",
   "metadata": {},
   "source": [
    "> ## (Theorem 13) **The Rank Theorem**"
   ]
  },
  {
   "cell_type": "markdown",
   "metadata": {},
   "source": [
    "#### 행렬 $ \\; A $ 가 $ \\; n $개의 열을 갖고 있을 때, dim Nul $ A $ + rank $ A $ = $ n $ 가 된다. \n",
    "#### 이 경우, rank $ A $ 는 선형 시스템에서 basic variable의 개수, dim Nul $ A $ 은 free variable의 개수를 의미한다. \n",
    "<b></b>"
   ]
  },
  {
   "cell_type": "markdown",
   "metadata": {},
   "source": [
    "> ## (Theorem 14) **The Basis Theorem**"
   ]
  },
  {
   "cell_type": "markdown",
   "metadata": {},
   "source": [
    "#### **[TEXT]**\n",
    "<b></b>"
   ]
  }
 ],
 "metadata": {
  "kernelspec": {
   "display_name": "Python 3",
   "language": "python",
   "name": "python3"
  },
  "language_info": {
   "codemirror_mode": {
    "name": "ipython",
    "version": 3
   },
   "file_extension": ".py",
   "mimetype": "text/x-python",
   "name": "python",
   "nbconvert_exporter": "python",
   "pygments_lexer": "ipython3",
   "version": "3.11.3"
  },
  "orig_nbformat": 4
 },
 "nbformat": 4,
 "nbformat_minor": 2
}
