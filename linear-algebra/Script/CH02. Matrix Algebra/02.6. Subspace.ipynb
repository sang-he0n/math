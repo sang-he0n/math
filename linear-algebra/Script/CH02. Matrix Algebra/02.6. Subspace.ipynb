{
 "cells": [
  {
   "attachments": {},
   "cell_type": "markdown",
   "metadata": {},
   "source": [
    "# CH02.6. **Subspace**"
   ]
  },
  {
   "cell_type": "markdown",
   "metadata": {},
   "source": [
    "> ## **$ \\mathbb{R}^{n} $ 공간의 부분 공간(Subspace of $ \\, \\mathbb{R}^{n} $)**"
   ]
  },
  {
   "cell_type": "markdown",
   "metadata": {
    "vscode": {
     "languageId": "plaintext"
    }
   },
   "source": [
    "#### **(1) 정의** : $ \\, \\mathbb{R}^{n} $ 공간의 **부분 집합**이면서 벡터 공간의 성질을 만족하는 공간 $ \\, \\mathbb{H} $"
   ]
  },
  {
   "cell_type": "markdown",
   "metadata": {},
   "source": [
    "#### **(2) 조건** :\n",
    "#### $ \\hspace{0.15cm} $ ① $ \\underset{n\\times{}n}{\\textbf{0}} \\in{} \\mathbb{H} $\n",
    "#### $ \\hspace{0.15cm} $ ② $ \\{ \\textbf{u}, \\textbf{v} \\} \\subset{} \\mathbb{H}, \\;\\; \\textbf{u}+\\textbf{v} \\in{} \\mathbb{H} $ \n",
    "#### $ \\hspace{0.15cm} $ ③ $ \\textbf{u} \\in{} \\mathbb{H}, \\;\\; c\\textbf{u} \\in{} \\mathbb{H} $"
   ]
  },
  {
   "cell_type": "markdown",
   "metadata": {},
   "source": [
    "#### **(`PLUS`)** 영벡터(zero vector)는 $ \\, \\mathbb{R}^{n} $ 공간의 부분 공간이 되며 영 부분공간(zero subspace)라고 함"
   ]
  },
  {
   "cell_type": "markdown",
   "metadata": {},
   "source": [
    "#### **(3) 예시** :\n",
    "#### $ \\hspace{0.15cm} $ ① 벡터 집합 $ \\, H = \\text{span}\\{ \\textbf{v}_{1}, \\, \\textbf{v}_{2} \\} $ 로 정의될 때, 벡터 집합 $ \\, H $ 는 $ \\, \\mathbb{R}^{n} $의 부분 공간인가?\n",
    "#### $ \\hspace{0.45cm} 0 \\textbf{v}_{1} + 0 \\textbf{v}_{2} = \\textbf{0} \\in{} H $ \n",
    "#### $ \\hspace{0.45cm} \\text{if } \\, \\textbf{u} = s_{1} \\textbf{v}_{1} + t_{1} \\textbf{v}_{2}, \\;\\; \\textbf{v} = s_{2} \\textbf{v}_{1} + t_{2} \\textbf{v}_{2} $\n",
    "#### $ \\hspace{0.625cm} \\textbf{u} + \\textbf{v} = (s_{1}+t_{1}) \\textbf{v}_{1} + (s_{2}+t_{2}) \\textbf{v}_{2} \\in{} H $ \n",
    "#### $ \\hspace{0.45cm} c \\textbf{u} = c(s_{1} \\textbf{v}_{1} + t_{1} \\textbf{v}_{2}) = c s_{1} \\textbf{v}_{1} + c t_{1} \\textbf{v}_{2} \\in{} H $\n",
    "#### $ \\hspace{0.45cm} \\therefore{} H \\, \\text{ is subspace of } \\, \\mathbb{R}^{n}. $ \n",
    "#### $ \\hspace{0.15cm} $ ② **[LATEX]** 09:42"
   ]
  },
  {
   "cell_type": "markdown",
   "metadata": {},
   "source": [
    "<b></b>"
   ]
  },
  {
   "cell_type": "markdown",
   "metadata": {},
   "source": [
    "> ## **열공간(Column Space)**"
   ]
  },
  {
   "cell_type": "markdown",
   "metadata": {},
   "source": [
    "#### **(1) 정의** : 특정 행렬의 열 벡터들을 선형 결합한 집합 \n",
    "#### = 열 벡터들이 생성하는 부분 공간\n",
    "#### $ \\Rightarrow{} \\text{col}(A) = \\text{span}\\{ \\textbf{a}_{1},\\, \\textbf{a}_{2},\\, \\cdots{},\\, \\textbf{a}_{n} \\}, \\;\\; \\text{ where } \\, A = \\begin{bmatrix} \\textbf{a}_{1}&\\textbf{a}_{2}&\\cdots{}&\\textbf{a}_{n} \\end{bmatrix} $"
   ]
  },
  {
   "cell_type": "markdown",
   "metadata": {},
   "source": [
    "#### **(`PLUS`)** \n",
    "#### $ \\hspace{0.15cm} $ Is $ \\, \\textbf{b} \\, $ in $ \\, \\text{col}(A) $ ? \n",
    "#### $ \\hspace{0.15cm} $ = Does the following augmented matrix have a (consistent) solution ?\n",
    "#### $ \\hspace{0.15cm} $ = $ \\begin{bmatrix} \\textbf{a}_{1}&\\textbf{a}_{2}&\\cdots{}&\\textbf{a}_{n}&\\textbf{b} \\end{bmatrix} $\n"
   ]
  },
  {
   "cell_type": "markdown",
   "metadata": {},
   "source": [
    "<b></b>"
   ]
  },
  {
   "cell_type": "markdown",
   "metadata": {},
   "source": [
    "> ## **영 공간(Null Space)**"
   ]
  },
  {
   "cell_type": "markdown",
   "metadata": {},
   "source": [
    "#### **(1) 정의** : 동차 선형 시스템(homogeneneous equation)에서 모든 **해집합(solution set)**\n",
    "#### = 선형 변환의 표준 행렬 $ \\, A $ 에 의해 $ \\textbf{0} $ 으로 매핑되는 벡터들의 집합\n",
    "#### $ \\Rightarrow{} \\text{Nul}(A) = \\{ \\textbf{x} \\; | \\; A\\textbf{x} = \\textbf{0} \\}$"
   ]
  },
  {
   "cell_type": "markdown",
   "metadata": {},
   "source": [
    "#### **(2) 예시** :\n",
    "#### $ \\hspace{0.15cm} $ ① 동차 선형시스템에서의 해 집합을 구하고자 할 때\n",
    "#### $ \\hspace{0.45cm} \\begin{cases} 3x_{1}+5x_{2}-4x_{3} &= 0 \\\\ -3x_{1}-2x_{2}+4x_{3} &= 0 \\\\ 6x_{1}+x_{2}-8x_{3} &= 0 \\end{cases} \\; \\rightarrow{} \\; A\\textbf{x} = \\begin{bmatrix} 3&5&-4 \\\\ -3&-2&4 \\\\ 6&1&-8 \\end{bmatrix} \\begin{bmatrix} x_{1} \\\\ x_{2} \\\\ x_{3} \\end{bmatrix} = \\begin{bmatrix} 0 \\\\ 0 \\\\ 0 \\end{bmatrix} $\n",
    "#### $ \\hspace{0.45cm} \\begin{bmatrix} 3&5&-4&0 \\\\ -3&-2&4&0 \\\\ 6&1&-8&0 \\end{bmatrix} $ ~ $ \\begin{bmatrix} 3&5&-4&0 \\\\ 0&3&0&0 \\\\ 0&-9&0&0 \\end{bmatrix} $ ~ $ \\begin{bmatrix} 3&5&-4&0 \\\\ 0&3&0&0 \\\\ 0&0&0&0 \\end{bmatrix} $ ~ $ \\begin{bmatrix} 3&5&-4&0 \\\\ 0&1&0&0 \\\\ 0&0&0&0 \\end{bmatrix} $\n",
    "#### $ \\hspace{0.45cm} $ ~ $ \\begin{bmatrix} 3&0&-4&0 \\\\ 0&1&0&0 \\\\ 0&0&0&0 \\end{bmatrix} $ ~ $ \\begin{bmatrix} 1&0&-{{4}\\over{3}}&0 \\\\ 0&1&0&0 \\\\ 0&0&0&0 \\end{bmatrix} $\n",
    "#### $ \\hspace{0.45cm} \\textbf{x} = \\begin{bmatrix} x_{1} \\\\ x_{2} \\\\ x_{3} \\end{bmatrix} = x_{3} \\begin{bmatrix} \\frac{4}{3} \\\\ 0 \\\\ 1 \\end{bmatrix} $\n",
    "#### $ \\hspace{0.45cm} \\therefore{} \\text{Nul}(A) = \\text{span} \\{ \\begin{bmatrix} \\frac{4}{3} \\\\ 0 \\\\ 1 \\end{bmatrix} \\} $\n",
    "#### $ \\hspace{0.15cm} $ ② **[CONTENTS]**"
   ]
  },
  {
   "cell_type": "markdown",
   "metadata": {},
   "source": [
    "#### **(`PLUS`)** \n",
    "#### $ \\hspace{0.15cm} $ 열 공간(column space)은 특정 행렬에서 바로 구할 수 있으므로 명시적(explicitly)으로 정의되고, \n",
    "#### $ \\hspace{0.15cm} $ 영 공간(null space)은 동차 선형 시스템에서 해를 구해야하므로 암시적(explicity)으로 정의됨"
   ]
  },
  {
   "cell_type": "markdown",
   "metadata": {},
   "source": [
    "<b></b>"
   ]
  },
  {
   "cell_type": "markdown",
   "metadata": {},
   "source": [
    "> ## (Theorem 2-11) **Null Space as a Subspace Theorem**"
   ]
  },
  {
   "cell_type": "markdown",
   "metadata": {},
   "source": [
    "#### $ m \\times{} n \\, $ 행렬 $ \\, A $ 의 영 공간(null space)은 $ \\, \\mathbb{R}^{n} $ 의 부분공간(subspace)이다."
   ]
  },
  {
   "cell_type": "markdown",
   "metadata": {},
   "source": [
    "#### **(`WHY?`)**\n",
    "#### $ \\hspace{0.15cm} \\text{if } \\, \\{ \\textbf{u}, \\textbf{v} \\} \\subset{} \\text{Nul}(A), $\n",
    "#### $ \\hspace{0.30cm} A\\textbf{0} = \\textbf{0} $\n",
    "#### $ \\hspace{0.30cm} A(\\textbf{u} + \\textbf{v}) = A\\textbf{u} + A\\textbf{v} = \\textbf{0} \\;\\; $ ($ \\because{} \\, A \\textbf{u} = \\textbf{0}, \\;\\; A \\textbf{v} = \\textbf{0} $)\n",
    "#### $ \\hspace{0.30cm} A(c\\textbf{u}) = cA\\textbf{u} = c \\textbf{0} = \\textbf{0} $\n",
    "#### $ \\hspace{0.15cm} \\therefore{} \\text{Nul}(A) \\, \\text{ is subspace of } \\, \\mathbb{R}^{n}. $"
   ]
  },
  {
   "cell_type": "markdown",
   "metadata": {},
   "source": [
    "<b></b>"
   ]
  },
  {
   "cell_type": "markdown",
   "metadata": {},
   "source": [
    "> ## **부분공간의 기저(Basis for a Subspace)**"
   ]
  },
  {
   "cell_type": "markdown",
   "metadata": {},
   "source": [
    "#### **(1) 정의** : 어떤 부분 공간 $ \\, \\mathbb{H} $ 를 선형 생성(span)하면서, **선형 독립인 벡터들로 이루어진 집합**\n",
    "#### = 어떤 부분 공간 $ \\, \\mathbb{H} $ 를 선형 생성할 수 있는 최소한의 벡터 집합\n",
    "#### $ \\Rightarrow{} \\mathcal{B} = \\{ \\textbf{v}_{1},\\, \\textbf{v}_{2},\\, \\cdots{},\\, \\textbf{v}_{n} \\} \\;\\; \\text{ where } \\, \\{ \\textbf{v}_{1},\\, \\textbf{v}_{2},\\, \\cdots{},\\, \\textbf{v}_{n} \\} \\, \\text{ is linear independent}. $\n",
    "#### $ \\hspace{3.925cm} \\text{ and } \\, \\mathbb{H} = \\text{span} \\{ \\textbf{v}_{1},\\, \\textbf{v}_{2},\\, \\cdots{},\\, \\textbf{v}_{n} \\} $"
   ]
  },
  {
   "cell_type": "markdown",
   "metadata": {},
   "source": [
    "#### **(`PLUS`)** 이 때 $ \\, \\textbf{v}_{1},\\, \\textbf{v}_{2},\\, \\cdots{},\\, \\textbf{v}_{n} $ 를 기저 벡터(basis vector)라고 정의함"
   ]
  },
  {
   "cell_type": "markdown",
   "metadata": {},
   "source": [
    "#### **(`PLUS`)** 부분 공간의 기저는 **유일하지 않으며, 여러 개일 수 있음**"
   ]
  },
  {
   "cell_type": "markdown",
   "metadata": {},
   "source": [
    "#### **(2) 예시** :\n",
    "#### $ \\hspace{0.15cm} $ ① 행렬 $ \\, A $ 의 영공간의 기저(basis for a Null space)를 구하고자 할 경우\n",
    "#### $ \\hspace{0.45cm} A\\textbf{x} = \\begin{bmatrix} -3&6&-1&1&-7 \\\\ 1&-2&2&3&-1 \\\\ 2&-4&5&8&-4 \\end{bmatrix} \\begin{bmatrix} x_{1} \\\\ x_{2} \\\\ x_{3} \\\\ x_{4} \\\\ x_{5} \\end{bmatrix} = \\begin{bmatrix} 0 \\\\ 0 \\\\ 0 \\end{bmatrix} $\n",
    "#### $ \\hspace{0.45cm} \\begin{bmatrix} A & 0 \\end{bmatrix} $ ~ $ \\cdots $ ~ $ \\begin{bmatrix} 1&-2&0&-1&3&0 \\\\ 0&0&1&2&-2&0 \\\\ 0&0&0&0&0&0 \\end{bmatrix} $\n",
    "#### $ \\hspace{0.45cm} \\textbf{x} = \\begin{bmatrix} x_{1} \\\\ x_{2} \\\\ x_{3} \\\\ x_{4} \\\\ x_{5} \\end{bmatrix} = \\begin{bmatrix} 2x_{2}+x_{4}-3x_{5} \\\\ x_{2} \\\\ -2{x_4}+2x_{5} \\\\ x_{4} \\\\ x_{5} \\end{bmatrix} = x_{2} \\begin{bmatrix} 2 \\\\ 1 \\\\ 0 \\\\ 0\\\\ 0 \\end{bmatrix} + x_{4} \\begin{bmatrix} 1 \\\\ 0 \\\\ -2 \\\\ 1 \\\\ 0 \\end{bmatrix} + x_{5} \\begin{bmatrix} -3 \\\\ 0 \\\\ 2 \\\\ 0 \\\\ 1 \\end{bmatrix} = \\text{span} \\{ \\begin{bmatrix} 2 \\\\ 1 \\\\ 0 \\\\ 0\\\\ 0 \\end{bmatrix}, \\begin{bmatrix} 1 \\\\ 0 \\\\ -2 \\\\ 1 \\\\ 0 \\end{bmatrix}, \\begin{bmatrix} -3 \\\\ 0 \\\\ 2 \\\\ 0 \\\\ 1 \\end{bmatrix} \\} $\n",
    "#### $ \\hspace{0.45cm} \\therefore{} \\{ \\begin{bmatrix} 2 \\\\ \\textbf{1} \\\\ 0 \\\\ 0\\\\ 0 \\end{bmatrix}, \\begin{bmatrix} 1 \\\\ 0 \\\\ -2 \\\\ \\textbf{1} \\\\ 0 \\end{bmatrix}, \\begin{bmatrix} -3 \\\\ 0 \\\\ 2 \\\\ 0 \\\\ \\textbf{1} \\end{bmatrix} \\} \\, \\text{ is basis of Nul}(A). $ "
   ]
  },
  {
   "cell_type": "markdown",
   "metadata": {},
   "source": [
    "#### **(`PLUS`)** 자유변수에 따라 구성된 기저 벡터 집합은 무조건 **선형독립** 관계임"
   ]
  },
  {
   "cell_type": "markdown",
   "metadata": {},
   "source": [
    "#### $ \\hspace{0.15cm} $ ② **[LATEX]**"
   ]
  },
  {
   "cell_type": "markdown",
   "metadata": {},
   "source": [
    "#### **(`PLUS`) 표준 기저 벡터(Standard Basis Vector)** : 항등 행렬(identity matrix)에서 각각의 열 벡터\n",
    "#### $ E_{n} = \\begin{bmatrix} 1&0&\\cdots{}&0 \\\\ 0&1&\\cdots{}&0 \\\\ \\vdots{}&\\vdots{}&\\ddots{}&\\vdots{} \\\\ 0&0&\\cdots{}&1 \\end{bmatrix}, \\;\\; \\textbf{e}_{1} = \\begin{bmatrix} 1 \\\\ 0 \\\\ \\cdots{} \\\\ 0 \\end{bmatrix}, \\;\\; \\textbf{e}_{2} = \\begin{bmatrix} 0 \\\\ 1 \\\\ \\cdots{} \\\\ 0 \\end{bmatrix}, \\;\\; \\cdots{}, \\;\\; \\textbf{e}_{n} = \\begin{bmatrix} 0 \\\\ 0 \\\\ \\cdots{} \\\\ 1 \\end{bmatrix} $ \n",
    "#### $ \\Rightarrow{} \\{ \\textbf{e}_{1}, \\textbf{e}_{2}, \\cdots{}, \\textbf{e}_{n} \\} \\, \\text{ is standard basis of } \\, \\mathbb{R}^{n}. $ "
   ]
  },
  {
   "cell_type": "markdown",
   "metadata": {},
   "source": [
    "<b></b>"
   ]
  },
  {
   "cell_type": "markdown",
   "metadata": {},
   "source": [
    "> ## (Theorem 2-12) **Basis of Column Space using Pivot Columns**"
   ]
  },
  {
   "cell_type": "markdown",
   "metadata": {},
   "source": [
    "#### 어떤 행렬의 피봇 열(pivot columns)은 그 열 공간의 기저(basis of column space)이다."
   ]
  },
  {
   "cell_type": "markdown",
   "metadata": {},
   "source": [
    "#### **(`WHY?`)**\n",
    "#### $ A = \\begin{bmatrix} 1&3&3&2&-9 \\\\ -2&-2&2&-8&2 \\\\ 2&3&0&7&1 \\\\ 3&4&-1&11&-8 \\end{bmatrix} $ ~ $ \\cdots $ ~ $ \\begin{bmatrix} \\textbf{1}&0&-3&5&0 \\\\ 0&\\textbf{1}&2&-1&0 \\\\ 0&0&0&0&\\textbf{1} \\\\ 0&0&0&0&0 \\end{bmatrix} = B $\n",
    "#### $ \\therefore{} \\{ \\textbf{a}_{1}, \\textbf{a}_{2}, \\textbf{a}_{5} \\} \\, \\text{ is basis of col}(A). $"
   ]
  },
  {
   "cell_type": "markdown",
   "metadata": {},
   "source": [
    "#### **(`PLUS`)** $ \\, \\{ \\textbf{b}_{1}, \\textbf{b}_{2}, \\textbf{b}_{5} \\} \\, $는 행렬 $ \\, B \\, $ 열공간의 기저임 (**행렬 $ \\, A \\, $ 열공간의 기저가 아님**)"
   ]
  }
 ],
 "metadata": {
  "kernelspec": {
   "display_name": "Python 3",
   "language": "python",
   "name": "python3"
  },
  "language_info": {
   "codemirror_mode": {
    "name": "ipython",
    "version": 3
   },
   "file_extension": ".py",
   "mimetype": "text/x-python",
   "name": "python",
   "nbconvert_exporter": "python",
   "pygments_lexer": "ipython3",
   "version": "3.11.3"
  },
  "orig_nbformat": 4
 },
 "nbformat": 4,
 "nbformat_minor": 2
}
