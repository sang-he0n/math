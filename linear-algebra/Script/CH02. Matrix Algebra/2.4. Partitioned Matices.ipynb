{
 "cells": [
  {
   "attachments": {},
   "cell_type": "markdown",
   "metadata": {},
   "source": [
    "# CH2.4. **Partitioned Matices**"
   ]
  },
  {
   "cell_type": "markdown",
   "metadata": {},
   "source": [
    "> ## **Partitioned(Block) Matrix**"
   ]
  },
  {
   "cell_type": "markdown",
   "metadata": {},
   "source": [
    "#### **(1) 정의** : 행렬을 특정 열과 행을 기준으로 나눈 부분 행렬"
   ]
  },
  {
   "cell_type": "markdown",
   "metadata": {},
   "source": [
    "#### **(2) 형태**\n",
    "#### $ A = \\begin{bmatrix} \\begin{array}{ccc|ccc|c} 1&0&-3&5&-4&1&2 \\\\ -8&9&8&6&7&-1&3 \\\\ \\hline \\\\ 0&-5&1&5&7&2&0 \\end{array} \\end{bmatrix} = \\begin{bmatrix} A_{11}&A_{12}&A_{13} \\\\ A_{21}&A_{21}&A_{23}  \\end{bmatrix} $\n",
    "#### $ A_{11} = \\begin{bmatrix} 3&0&-1 \\\\ -5&2&4 \\end{bmatrix}, \\; A_{12} = \\begin{bmatrix} 5&9 \\\\ 0&-3 \\end{bmatrix}, \\; A_{13} = \\begin{bmatrix} -2 \\\\ 1 \\end{bmatrix} $\n",
    "#### $ A_{21} = \\begin{bmatrix} -8&6&3 \\end{bmatrix}, \\; A_{22} = \\begin{bmatrix} 1&7 \\end{bmatrix}, \\; A_{23} = \\begin{bmatrix} -4 \\end{bmatrix} $\n",
    "<b></b>"
   ]
  },
  {
   "cell_type": "markdown",
   "metadata": {},
   "source": [
    "#### **(3) 행렬 연산 조건** : 같은 형식(크기; size)이면 행렬 연산 가능\n",
    "#### $ A = \\begin{bmatrix} \\begin{array}{ccc|cc} 2&-3&1&0&4 \\\\ 1&5&-2&3&-1 \\\\ \\hline \\\\ 0&-4&-2&7&1 \\end{array} \\end{bmatrix} = \\begin{bmatrix} A_{11}&A_{12} \\\\ A_{21}&A_{22} \\end{bmatrix}, \\; B =  \\begin{bmatrix} 6&4 \\\\ -2&1 \\\\ -3&7 \\\\ \\hline \\\\ -1&3 \\\\ 5&2 \\end{bmatrix} = \\begin{bmatrix} B_{11} \\\\ B_{21} \\end{bmatrix} $\n",
    "#### $ AB = \\begin{bmatrix} A_{11}&A_{12} \\\\ A_{21}&A_{22} \\end{bmatrix}\\begin{bmatrix} B_{11} \\\\ B_{21} \\end{bmatrix} = \\begin{bmatrix} A_{11}B_{11} + A_{12}B_{21} \\\\ A_{21}B_{11} + A_{22}B_{21} \\end{bmatrix} = \\begin{bmatrix} -5&4 \\\\ -6&2 \\\\ 2&1 \\end{bmatrix} $\n",
    "<b></b>"
   ]
  },
  {
   "cell_type": "markdown",
   "metadata": {},
   "source": [
    "> ## (Thorem 10) **Column-Row Expansion of $ AB $**"
   ]
  },
  {
   "cell_type": "markdown",
   "metadata": {},
   "source": [
    "#### $ m \\times n $ 행렬 $ \\; A $와 $ n \\times p $ 행렬 $ \\; B $ 가 존재할 때 아래와 같이 표현 가능하다.\n",
    "#### $ \\;\\; AB \\;\\; = \\begin{bmatrix} col_{1}(A)&col_{2}(A)&\\cdots&col_{n}(A) \\end{bmatrix} \\begin{bmatrix} row_{1}(B) \\\\ row_{2}(B) \\\\ \\cdots& \\\\ row_{n}(B) \\end{bmatrix} = col_{1}(A)row_{1}(B) + col_{2}(A)row_{2}(B) + \\cdots +  col_{n}(A)row_{n}(B)$\n",
    "#### $ m \\times p $\n",
    "<b></b>"
   ]
  },
  {
   "cell_type": "markdown",
   "metadata": {},
   "source": [
    "> ## **Inverse of Partitioned Matrices**"
   ]
  },
  {
   "cell_type": "markdown",
   "metadata": {},
   "source": [
    "#### **(1) 연산 방식**\n",
    "#### 아래와 같이 행렬 $ \\; A, B $가 존재하고, $ A_{11} $ 행렬은 $ \\; p \\times p $, $ A_{22} $ 행렬은 $ \\; q \\times q \\; $ 사이즈이며 invertible하다. \n",
    "#### 또한 행렬 $ \\; B $를 행렬 $ \\; A $의 역행렬($ AB = I $)일 경우\n",
    "#### $ A = \\begin{bmatrix} A_{11}&A_{12} \\\\ 0&A_{22} \\end{bmatrix}, \\; B = \\begin{bmatrix} B_{11}&B_{12} \\\\ B_{21}&B_{22} \\end{bmatrix} $\n",
    "#### $ AB = \\begin{bmatrix} A_{11}&A_{12} \\\\ 0&A_{22} \\end{bmatrix} \\begin{bmatrix} B_{11}&B_{12} \\\\ B_{21}&B_{22} \\end{bmatrix} = \\begin{bmatrix} I_{p}&0 \\\\ 0&I_{q} \\end{bmatrix} $\n",
    "#### $ \\;\\;\\;\\;\\;\\;\\; = \\begin{bmatrix} A_{11}B_{11}+A_{12}B_{21}&A_{11}B_{12}+A_{12}B_{22} \\\\ A_{22}B_{21}&A_{22}B_{22} \\end{bmatrix} = \\begin{bmatrix} I_{p}&0 \\\\ 0&I_{q} \\end{bmatrix} $\n",
    "#### $ A_{11}B_{11} + A_{12}B_{21} = I_{p} \\;\\; \\cdots \\;\\; $ ㉠\n",
    "#### $ A_{11}B_{12} + A_{12}B_{22} = 0 \\;\\;\\; \\cdots \\;\\; $ ㉡\n",
    "#### $ \\;\\;\\;\\;\\;\\;\\;\\;\\;\\;\\;\\;\\;\\;\\; A_{22}B_{21} = 0 \\;\\;\\; \\cdots \\;\\; $ ㉢\n",
    "#### $ \\;\\;\\;\\;\\;\\;\\;\\;\\;\\;\\;\\;\\;\\;\\; A_{22}B_{22} = I_{q} \\;\\; \\cdots \\;\\; $ ㉣\n",
    "#### $ B_{21} = {A_{22}}^{-1}0 = 0 \\;\\; $ (㉢)\n",
    "#### $ A_{11}B_{11} + A_{12}B_{21} = A_{11}B_{11} + A_{12}0 = A_{11}B_{11} = I_{p}, \\; B_{11} = {A_{11}}^{-1} \\;\\; $ (㉠&㉢) \n",
    "#### $ B_{22} = {A_{22}}^{-1}I_{q} = {A_{22}}^{-1} \\;\\; $ (㉣)\n",
    "#### $ A_{11}B_{12} + A_{12}B_{22} = A_{11}B_{12} + A_{12}{A_{22}}^{-1} = 0, \\; A_{11}B_{12} = -A_{12}{A_{22}}^{-1}, \\; B_{12} = -{A_{11}}^{-1}A_{12}{A_{22}}^{-1} \\;\\; $ (㉡&㉣) \n",
    "#### $ \\therefore B = \\begin{bmatrix} 0&{A_{11}}^{-1} \\\\ {A_{22}}^{-1}&-{A_{11}}^{-1}A_{12}{A_{22}}^{-1} \\end{bmatrix} $"
   ]
  },
  {
   "cell_type": "markdown",
   "metadata": {},
   "source": [
    "#### **(PLUS)** 행렬 $ \\; A $를 block-upper trangle이라고 정의함\n",
    "<b></b>"
   ]
  }
 ],
 "metadata": {
  "kernelspec": {
   "display_name": "Python 3",
   "language": "python",
   "name": "python3"
  },
  "language_info": {
   "codemirror_mode": {
    "name": "ipython",
    "version": 3
   },
   "file_extension": ".py",
   "mimetype": "text/x-python",
   "name": "python",
   "nbconvert_exporter": "python",
   "pygments_lexer": "ipython3",
   "version": "3.11.3"
  },
  "orig_nbformat": 4
 },
 "nbformat": 4,
 "nbformat_minor": 2
}
