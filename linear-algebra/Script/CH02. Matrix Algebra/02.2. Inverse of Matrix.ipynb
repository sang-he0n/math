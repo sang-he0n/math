{
 "cells": [
  {
   "attachments": {},
   "cell_type": "markdown",
   "metadata": {},
   "source": [
    "# CH02.2. **Inverse of Matrix**"
   ]
  },
  {
   "cell_type": "markdown",
   "metadata": {},
   "source": [
    "> ## **가역 행렬(Invertible Matrix)**"
   ]
  },
  {
   "cell_type": "markdown",
   "metadata": {},
   "source": [
    "#### **(1) 정의** : 어떠한 정방 행렬에 대하여 그 행렬과 행렬곱 연산을 했을 때 항등 행렬($ I $)이 되는 행렬\n",
    "#### $ \\Rightarrow{} A^{-1}A = AA^{-1} = \\underset{n\\times{}n}{I} $"
   ]
  },
  {
   "cell_type": "markdown",
   "metadata": {},
   "source": [
    "##### **(`PLUS`)** 가역 행렬을 비특이행렬(nonsingular matrix)라고도 정의하나, 특이값(singular value)와는 관련 없음"
   ]
  },
  {
   "cell_type": "markdown",
   "metadata": {},
   "source": [
    "#### **(2) 성질** (Theorem 2-6) : \n",
    "##### $ \\hspace{0.15cm} $ ① $ \\, (A^{-1})^{-1} = A $\n",
    "##### $ \\hspace{0.15cm} $ ② $ \\, (rA)^{-1} = \\frac{1}{r} A^{-1} $\n",
    "##### $ \\hspace{0.15cm} $ ③ $ \\, (A^{T})^{-1} = (A^{-1})^{T} $\n",
    "##### $ \\hspace{0.15cm} $ ④ $ \\, (AB)^{-1} = B^{-1}A^{-1} $\n",
    "##### $ \\hspace{0.15cm} $ ⑤ $ \\, (A+B)^{-1} \\neq{} A^{-1} + B^{-1} $"
   ]
  },
  {
   "cell_type": "markdown",
   "metadata": {},
   "source": [
    "<b></b>"
   ]
  },
  {
   "cell_type": "markdown",
   "metadata": {},
   "source": [
    "> ## (Thorem 2-4) **Invertibility of $ \\, 2 \\times{} 2 \\, $ Matrix**"
   ]
  },
  {
   "cell_type": "markdown",
   "metadata": {},
   "source": [
    "#### 정방 행렬 $ A = \\begin{bmatrix} a & b \\\\ c & d \\end{bmatrix} $에 대하여 $ \\, ab - cd \\neq 0 $일 때 행렬 $ A $는 가역 행렬이다. \n",
    "#### $ \\hspace{0.15cm} \\Rightarrow{} A^{-1} = {{1}\\over{ad-bc}} \\begin{bmatrix} d & -b \\\\ -c & d \\end{bmatrix} \\;\\; \\text{ if } \\; ad-bc \\neq{} 0 $ "
   ]
  },
  {
   "cell_type": "markdown",
   "metadata": {},
   "source": [
    "<b></b>"
   ]
  },
  {
   "cell_type": "markdown",
   "metadata": {},
   "source": [
    "> ## (Thorem 2-5) **Unique Solution of Invertible Matrix**"
   ]
  },
  {
   "cell_type": "markdown",
   "metadata": {},
   "source": [
    "#### 정방 행렬 $ A $가 가역 행렬이라면 해당 선형 시스템($ A\\textbf{x} = \\textbf{b} $)은 **유일한 해**만을 갖는다\n",
    "#### $ \\Rightarrow{} A\\textbf{x} = \\textbf{b} \\; \\Leftrightarrow{} \\; \\textbf{x} = A^{-1}\\textbf{b} $"
   ]
  },
  {
   "cell_type": "markdown",
   "metadata": {},
   "source": [
    "<b></b>"
   ]
  },
  {
   "cell_type": "markdown",
   "metadata": {},
   "source": [
    "> ## **기본 행렬(Elementry Matrix)**"
   ]
  },
  {
   "cell_type": "markdown",
   "metadata": {},
   "source": [
    "#### **(1) 정의** : 항등 행렬에 행 연산(row operation)을 $ 1 $번 수행한 행렬\n",
    "#### $ \\Rightarrow{} A \\; $ ~ $ \\; A^{'} = EA $"
   ]
  },
  {
   "cell_type": "markdown",
   "metadata": {},
   "source": [
    "#### **(2) 종류** :\n",
    "##### $ \\hspace{0.15cm} $ ① 행 교환(row interchanging) : 두 행을 서로 교환하는 행렬\n",
    "##### $ \\hspace{0.45cm} E_{\\text{interchanging}} = \\begin{bmatrix} 0 & \\bf{1} & 0 \\\\ \\bf{1} & 0 & 0 \\\\ 0 & 0 & 1 \\end{bmatrix} \\; : \\; \\text{row}_{1} \\iff{} \\text{row}_{2} $\n",
    "##### $ \\hspace{0.15cm} $ ② 행 스케일링(row scaling) : 한 행의 각 성분에 $ 0 $이 아닌 상수를 곱하는 행렬\n",
    "##### $ \\hspace{0.45cm} E_{\\text{scaling}} = \\begin{bmatrix} \\bf{5} & 0 & 0 \\\\ 0 & 1 & 0 \\\\ 0 & 0 & 1 \\end{bmatrix} \\; : \\; \\text{row}_{1} \\leftarrow{} \\bf{5} \\times{} \\text{row}_{1} $\n",
    "##### $ \\hspace{0.15cm} $ ③ 행 덧셈(row addition) : 한 행을 다른 행의 상수배를 더하는 행렬\n",
    "##### $ \\hspace{0.45cm} E_{\\text{replacement}} = \\begin{bmatrix} 1 & 0 & 0 \\\\ 0 & 1 & 0 \\\\ \\bf{-4} & 0 & 1 \\end{bmatrix} \\; : \\; \\text{row}_{3} \\leftarrow{} \\text{row}_{3} \\bf{-4} \\times{} \\text{row}_{1} $"
   ]
  },
  {
   "cell_type": "markdown",
   "metadata": {},
   "source": [
    "#### **(3) 행 연산과의 관계** : 행렬에 행 연산을 수행한 것은 그 행렬에 기본 행렬 $ E $를 행렬곱 연산한 것과 같음\n",
    "#### $ \\Rightarrow{} A = \\begin{bmatrix} a&b \\\\ c&d \\end{bmatrix} \\; $ ~ $ \\; \\begin{bmatrix} a&b \\\\ 2c&2d \\end{bmatrix} = \\begin{bmatrix} 1&0 \\\\ 0&2 \\end{bmatrix} \\begin{bmatrix} a&b \\\\ c&d \\end{bmatrix} = E_{\\text{scaling}}A \\; : \\; 2 \\times{} \\text{row}_{2} $"
   ]
  },
  {
   "cell_type": "markdown",
   "metadata": {},
   "source": [
    "#### **(4) 특징** : 기본 행렬은 모두 **가역 행렬**이고, 그 역행렬은 행 연산의 **역연산과 같음**\n",
    "##### $ \\hspace{0.15cm} $ ① 행 교환(row interchanging) : \n",
    "##### $ \\hspace{0.45cm} E_{\\text{interchanging}} = \\begin{bmatrix} 0 & \\textbf{1} & 0 \\\\ \\textbf{1} & 0 & 0 \\\\ 0 & 0 & 1 \\end{bmatrix} , \\;\\; (E_{\\text{interchanging}})^{-1} = \\begin{bmatrix} 0 & \\textbf{1} & 0 \\\\ \\textbf{1} & 0 & 0 \\\\ 0 & 0 & 1 \\end{bmatrix} $\n",
    "##### $ \\hspace{0.15cm} $ 행 스케일링(row scaling) : 대각 성분의 역수 처리\n",
    "##### $ \\hspace{0.45cm} E_{\\text{scaling}} = \\begin{bmatrix} \\textbf{5} & 0 & 0 \\\\ 0 & 1 & 0 \\\\ 0 & 0 & 1 \\end{bmatrix} , \\;\\; (E_{\\text{scaling}})^{-1} = \\begin{bmatrix} \\bf{\\frac{1}{5}} & 0 & 0 \\\\ 0 & 1 & 0 \\\\ 0 & 0 & 1 \\end{bmatrix} $\n",
    "##### $ \\hspace{0.15cm} $ ③ 행 덧셈(row addition) : 상수 부호 반대 처리\n",
    "##### $ \\hspace{0.45cm} E_{\\text{replacement}} = \\begin{bmatrix} 1 & 0 & 0 \\\\ 0 & 1 & 0 \\\\ \\bf{-4} & 0 & 1 \\end{bmatrix} , \\;\\; (E_{\\text{replacement}})^{-1} = \\begin{bmatrix} 1 & 0 & 0 \\\\ 0 & 1 & 0 \\\\ \\bf{4} & 0 & 1 \\end{bmatrix}$"
   ]
  },
  {
   "cell_type": "markdown",
   "metadata": {},
   "source": [
    "<b></b>"
   ]
  },
  {
   "cell_type": "markdown",
   "metadata": {},
   "source": [
    "> ## (Thorem 2-7) **Inverse Matrix calculation using Elementary Matrices**"
   ]
  },
  {
   "cell_type": "markdown",
   "metadata": {},
   "source": [
    "#### **(1)** 어떠한 정방 행렬이 가역 행렬인 경우, 그 행렬은 항등 행렬과 **행 상동**(row equivalent)하다.\n",
    "#### $ \\Rightarrow{} A \\; $ ~ $ \\; I $"
   ]
  },
  {
   "cell_type": "markdown",
   "metadata": {},
   "source": [
    "#### **(2)** 어떠한 정방 행렬이 가역 행렬이고 행 연산을 통해 항등행렬로 만들 경우, 그 때 사용된 기본 행렬은 그 행렬의 역행렬이 된다. \n",
    "#### $ \\Rightarrow{} E_{p}E_{p-1}\\cdots{}E_{1} = A^{-1} \\;\\; \\text{ if } \\; A \\; $ ~ $ \\; I = E_{p}E_{p-1}\\cdots{}E_{1} $ "
   ]
  }
 ],
 "metadata": {
  "kernelspec": {
   "display_name": "Python 3",
   "language": "python",
   "name": "python3"
  },
  "language_info": {
   "codemirror_mode": {
    "name": "ipython",
    "version": 3
   },
   "file_extension": ".py",
   "mimetype": "text/x-python",
   "name": "python",
   "nbconvert_exporter": "python",
   "pygments_lexer": "ipython3",
   "version": "3.11.3"
  },
  "orig_nbformat": 4
 },
 "nbformat": 4,
 "nbformat_minor": 2
}
