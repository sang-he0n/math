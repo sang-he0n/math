{
 "cells": [
  {
   "attachments": {},
   "cell_type": "markdown",
   "metadata": {},
   "source": [
    "# CH02.3. **Characterizations of Invertible Matrices**"
   ]
  },
  {
   "cell_type": "markdown",
   "metadata": {},
   "source": [
    "> ## (Thorem 2-8) **Characterizations of The invertible Matrix**"
   ]
  },
  {
   "cell_type": "markdown",
   "metadata": {},
   "source": [
    "#### 정방 행렬 $ \\, A $가 존재하고, 아래의 명제들은 전부 옳거나 전부 틀리다.\n",
    "#### $ \\hspace{0.15cm} $ ① 선형 방정식 $ \\, A\\textbf{x} = \\textbf{0} \\, $ 의 해집합은 오직 자명해($ \\textbf{x} = \\textbf{0} $)이다.\n",
    "#### $ \\hspace{0.15cm} $ ② $ CA = I \\, $를 만족하는 $ \\, n \\times n \\, $ 행렬 $ \\, C $ 가 존재한다.\n",
    "#### $ \\hspace{0.15cm} $ ③ $ AD = I \\, $를 만족하는 $ \\, n \\times n \\, $ 행렬 $ \\, D $ 가 존재한다.\n",
    "#### $ \\hspace{0.15cm} $ ④ $ A $ 는 가역 행렬(invertible matrix)이다.\n",
    "#### $ \\hspace{0.15cm} $ ⑤ $ A^{T} $ 는 가역 행렬이다. \n",
    "#### $ \\hspace{0.15cm} $ ⑥ $ A $ 는 $ \\, n $ 개의 피봇 포지션(pivot position)을 갖는다.\n",
    "#### $ \\hspace{0.15cm} $ ⑦ $ A $ 는 $ \\, I_{n} $와 행 상동(row equivalent)하다. \n",
    "#### $ \\hspace{0.15cm} $ ⑨ $ A $ 의 열벡터들은 선형 독립(linear independent)이다.\n",
    "#### $ \\hspace{0.15cm} $ ⑩ $ A $ 의 열벡터들은 $ \\, \\mathbb{R}^{n} $ 을 선형 생성(span)한다.\n",
    "#### $ \\hspace{0.15cm} $ ⑪ 선형 방정식 $ \\, A\\textbf{x} = \\textbf{b} \\, $ 의 해집합은 유일해를 갖는다. $ \\;\\; $ ($ \\because{} \\, $ Theorem 2-5)\n",
    "#### $ \\hspace{0.15cm} $ ⑫ 선형 변환 $ \\, T(\\textbf{x}) : \\textbf{x} \\longmapsto A\\textbf{X} $ 은 $ \\, \\mathbb{R}^{n} $ 에서 $ \\, \\mathbb{R}^{n} $ 으로 단사(one-to-one) 관계이다.\n",
    "#### $ \\hspace{0.15cm} $ ⑬ 선형 변환 $ \\, T(\\textbf{x}) : \\textbf{x} \\longmapsto A\\textbf{X} $ 은 $ \\, \\mathbb{R}^{n} $ 에서 $ \\, \\mathbb{R}^{n} $ 으로 전사(onto) 관계이다."
   ]
  },
  {
   "cell_type": "markdown",
   "metadata": {},
   "source": [
    "<b></b>"
   ]
  },
  {
   "cell_type": "markdown",
   "metadata": {},
   "source": [
    "> ## **가역 선형 변환(Invertible Linear Transformation)**"
   ]
  },
  {
   "cell_type": "markdown",
   "metadata": {},
   "source": [
    "#### **(1) 정의** :\n",
    "#### 행렬 변환 함수 $ \\, T : \\mathbb{R}^{n} \\rightarrow \\mathbb{R}^{n} $ 와 $ \\, S : \\mathbb{R}^{n} \\rightarrow \\mathbb{R}^{n} $ 가 존재할 때, 아래의 조건을 만족하면 $ \\, T $ 은 가역적임\n",
    "#### $ \\Rightarrow{} \\textbf{[LATEX]} \\;\\; $ if $ \\, S(T(\\textbf{x})) = \\textbf{x}, \\;\\; T(S(\\textbf{x})) = \\textbf{x} $"
   ]
  },
  {
   "cell_type": "markdown",
   "metadata": {},
   "source": [
    "#### **(`PLUS`)** 선형 변환 함수 $ \\, T $ 가 가역적(invertible)이라면, $ \\, T $ 의 표준행렬(standard matrix) $ \\, A $ 는 가역행렬임 (Therom 2-9)"
   ]
  }
 ],
 "metadata": {
  "kernelspec": {
   "display_name": "Python 3",
   "language": "python",
   "name": "python3"
  },
  "language_info": {
   "codemirror_mode": {
    "name": "ipython",
    "version": 3
   },
   "file_extension": ".py",
   "mimetype": "text/x-python",
   "name": "python",
   "nbconvert_exporter": "python",
   "pygments_lexer": "ipython3",
   "version": "3.11.3"
  },
  "orig_nbformat": 4
 },
 "nbformat": 4,
 "nbformat_minor": 2
}
