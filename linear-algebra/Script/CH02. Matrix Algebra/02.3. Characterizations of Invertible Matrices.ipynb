{
 "cells": [
  {
   "attachments": {},
   "cell_type": "markdown",
   "metadata": {},
   "source": [
    "# CH02.3. **Characterizations of Invertible Matrices**"
   ]
  },
  {
   "cell_type": "markdown",
   "metadata": {},
   "source": [
    "> ## (Thorem 2-8) **Characterizations of The invertible Matrix**"
   ]
  },
  {
   "cell_type": "markdown",
   "metadata": {},
   "source": [
    "#### 정방 행렬 $ \\, \\underset{n\\times{}n}{A} $ 가 존재하고, 아래의 명제들은 전부 옳거나 전부 틀리다.\n",
    "#### $ \\hspace{0.15cm} $ ① 행렬 $ \\, A $ 는 가역 행렬(invertible matrix)이다.\n",
    "#### $ \\hspace{0.15cm} $ ② 행렬 $ \\, A^{T} $ 는 가역 행렬이다. \n",
    "#### $ \\hspace{0.15cm} $ ③ 행렬 연산 $ \\, CA = I \\, $ 를 만족하는 정방 행렬 $ \\, \\underset{n\\times{}n}{C} $ 가 존재한다.\n",
    "#### $ \\hspace{0.15cm} $ ④ 행렬 연산 $ \\, AD = I \\, $ 를 만족하는 정방 행렬 $ \\, \\underset{n\\times{}n}{D} $ 가 존재한다.\n",
    "#### $ \\hspace{0.15cm} $ ⑤ 행렬 $ \\, A $ 는 $ \\, n $ 개의 피봇 포지션(pivot position)을 갖는다.\n",
    "#### $ \\hspace{0.15cm} $ ⑥ 행렬 $ \\, A $ 는 $ \\, I $ 와 행 상동(row equivalent)하다. \n",
    "#### $ \\hspace{0.15cm} $ ⑦ 행렬 $ \\, A $ 의 열벡터 집합은 선형 독립(linear independent) 관계이다.\n",
    "#### $ \\hspace{0.15cm} $ ⑧ 행렬 $ \\, A $ 의 열벡터 집합은 $ \\, \\mathbb{R}^{n} $ 공간을 선형 생성(span)한다.\n",
    "#### $ \\hspace{0.15cm} $ ⑨ 선형 방정식 $ \\, A\\textbf{x} = \\textbf{b} \\, $ 의 해집합은 유일해를 갖는다. $ \\;\\; $ ($ \\because{} \\, $ Theorem 2-5)\n",
    "#### $ \\hspace{0.15cm} $ ⑩ 선형 방정식 $ \\, A\\textbf{x} = \\textbf{0} \\, $ 의 해집합은 오직 자명해($ \\textbf{x} = \\textbf{0} $)이다.\n",
    "#### $ \\hspace{0.15cm} $ ⑪ 선형 변환 $ \\, T(\\textbf{x}) : \\textbf{x} \\longmapsto{} A\\textbf{X} $ 은 $ \\, \\mathbb{R}^{n} $ 공간에서 $ \\, \\mathbb{R}^{n} $ 공간으로 단사(one-to-one) 관계이다.\n",
    "#### $ \\hspace{0.15cm} $ ⑫ 선형 변환 $ \\, T(\\textbf{x}) : \\textbf{x} \\longmapsto{} A\\textbf{X} $ 은 $ \\, \\mathbb{R}^{n} $ 공간에서 $ \\, \\mathbb{R}^{n} $ 공간으로 전사(onto) 관계이다."
   ]
  },
  {
   "cell_type": "markdown",
   "metadata": {},
   "source": [
    "<b></b>"
   ]
  },
  {
   "cell_type": "markdown",
   "metadata": {},
   "source": [
    "> ## (Theorem 2-9) **가역 선형 변환(Invertible Linear Transformation)**"
   ]
  },
  {
   "cell_type": "markdown",
   "metadata": {},
   "source": [
    "#### **(1)** $ \\, \\mathbb{R}^{n} $ 공간에서 $ \\, \\mathbb{R}^{m} $ 공간으로 변환하는 선형 변환함수 $ T,\\, S $ 가 아래의 조건을 만족하면 $ \\, T $ 는 가역적(invertible)이다.\n",
    "#### $ \\Rightarrow{} T \\, \\text{ is invertible } \\;\\; \\text{ where } \\, S(T(\\textbf{x})) = \\textbf{x} \\;\\; $ (for all) $ \\forall{} \\, \\textbf{x} \\in{} \\mathbb{R}^{n} $\n",
    "#### $ \\hspace{3cm} \\text{and } \\, T(S(\\textbf{x})) = \\textbf{x}, \\;\\; \\forall{} \\, \\textbf{x} \\in{} \\mathbb{R}^{n} $"
   ]
  },
  {
   "cell_type": "markdown",
   "metadata": {},
   "source": [
    "#### **(2)** 선형 변환 함수 $ \\, T $ 가 가역적(invertible)이라면, $ \\, T $ 의 표준 행렬 $ \\, A $ 는 가역행렬이다.\n",
    "#### $ \\Rightarrow{} T(\\textbf{x}) = A\\textbf{x}, \\;\\; S(\\textbf{x}) = A^{-1}\\textbf{x} $"
   ]
  }
 ],
 "metadata": {
  "kernelspec": {
   "display_name": "Python 3",
   "language": "python",
   "name": "python3"
  },
  "language_info": {
   "codemirror_mode": {
    "name": "ipython",
    "version": 3
   },
   "file_extension": ".py",
   "mimetype": "text/x-python",
   "name": "python",
   "nbconvert_exporter": "python",
   "pygments_lexer": "ipython3",
   "version": "3.11.3"
  },
  "orig_nbformat": 4
 },
 "nbformat": 4,
 "nbformat_minor": 2
}
