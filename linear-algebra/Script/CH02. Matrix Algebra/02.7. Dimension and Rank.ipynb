{
 "cells": [
  {
   "attachments": {},
   "cell_type": "markdown",
   "metadata": {},
   "source": [
    "# CH02.7. **Dimension and Rank**"
   ]
  },
  {
   "cell_type": "markdown",
   "metadata": {},
   "source": [
    "> ## **좌표계(Coordinate Systems)**"
   ]
  },
  {
   "cell_type": "markdown",
   "metadata": {},
   "source": [
    "#### **(1) 정의** : 어떠한 부분공간 안에 존재하는 벡터를 그 부분공간의 **기저를 이용해 선형결합으로 유일하게 표현**하는 방법\n",
    "#### $ \\Rightarrow{} \\textbf{x} = c_{1}\\textbf{b}_{1} + c_{2}\\textbf{b}_{2} + \\cdots{} + c_{n}\\textbf{b}_{n} \\;\\; \\text{ where } \\; \\textbf{x} \\in{} H \\; \\text{ and } \\; \\mathcal{B}_{H} = \\{ \\textbf{b}_{1}, \\textbf{b}_{2}, \\cdots{}, \\textbf{b}_{n} \\} \\, \\text{ is basis of } \\, H $"
   ]
  },
  {
   "cell_type": "markdown",
   "metadata": {},
   "source": [
    "##### **(`WHY?`)**\n",
    "##### $ \\hspace{0.15cm} \\text{if } \\; \\mathcal{B}_{H} \\, \\text{ is basis of } H, \\;\\; \\textbf{x} \\in{} H, \\;\\; \\textbf{x} \\, \\textbf{ is not unique}. $ \n",
    "##### $ \\hspace{0.30cm} \\textbf{x} = c_{1} \\textbf{b}_{1} + c_{2} \\textbf{b}_{2} + \\cdots{} + c_{n} \\textbf{b}_{n} \\;\\; \\text{ or } \\;\\; \\textbf{x} = d_{1} \\textbf{b}_{1} + d_{2} \\textbf{b}_{2} + \\cdots{} + d_{n} \\textbf{b}_{n} $\n",
    "##### $ \\hspace{0.30cm} \\textbf{x} - \\textbf{x} = (c_{1}-d_{1}) \\textbf{b}_{1} + (c_{2}-d_{2}) \\textbf{b}_{2} + \\cdots{} + (c_{n}-d_{n}) \\textbf{b}_{n} = \\textbf{0} $\n",
    "##### \n",
    "##### $ \\hspace{0.3cm} \\Rightarrow{} (c_{i}-d_{i})=0, \\;\\; c_{i}=d_{i} \\;\\; \\textbf{(contradiction)} \\;\\; $ ($ \\because{} \\; \\mathcal{B}_{H} = \\{ \\textbf{b}_{1}, \\textbf{b}_{2}, \\cdots{}, \\textbf{b}_{n} \\} \\, \\text{ is linear independent}.$) \n",
    "##### $ \\hspace{0.15cm} \\therefore{} \\textbf{x} \\, \\text{ is unique}. $"
   ]
  },
  {
   "cell_type": "markdown",
   "metadata": {},
   "source": [
    "<b></b>"
   ]
  },
  {
   "cell_type": "markdown",
   "metadata": {},
   "source": [
    "> ## **좌표 벡터(Coordinate Vectors)**"
   ]
  },
  {
   "cell_type": "markdown",
   "metadata": {},
   "source": [
    "#### **(1) 정의** : 어떠한 부분 공간의 기저로 표현된 벡터\n",
    "#### $ \\Rightarrow{} \\begin{bmatrix} \\textbf{x} \\end{bmatrix}_{\\mathcal{B}} = \\begin{bmatrix} c_{1} \\\\ c_{2} \\\\ \\cdots \\\\ c_{n} \\end{bmatrix} = c_{1}\\textbf{b}_{1} + c_{2}\\textbf{b}_{2} + \\cdots{} + c_{n}\\textbf{b}_{n} $\n",
    "#### $ \\hspace{0.45cm} \\text{where } \\; \\textbf{x} \\in{} H \\; \\text{ and } \\; \\mathcal{B}_{H} = \\{ \\textbf{b}_{1}, \\textbf{b}_{2}, \\cdots{}, \\textbf{b}_{n} \\} \\, \\text{ is basis of } \\, H $"
   ]
  },
  {
   "cell_type": "markdown",
   "metadata": {},
   "source": [
    "##### **(`PLUS`)** $ \\begin{bmatrix} \\textbf{x} \\end{bmatrix}_{\\mathcal{B}} $를 $ \\, \\textbf{x} $ 의 $ \\, \\mathcal{B} $- 좌표 벡터($ \\mathcal{B} \\text{-coordinate vector of } \\, \\textbf{x} $)라고도 정의함 "
   ]
  },
  {
   "cell_type": "markdown",
   "metadata": {},
   "source": [
    "##### **(`PLUS`)** 좌표 벡터는 선형성을 만족함\n",
    "##### $ \\hspace{0.15cm} \\Rightarrow{} \\begin{bmatrix} \\textbf{x} + \\textbf{y} \\end{bmatrix}_{\\mathcal{B}} = \\begin{bmatrix} \\textbf{x} \\end{bmatrix}_{\\mathcal{B}} + \\begin{bmatrix} \\textbf{y} \\end{bmatrix}_{\\mathcal{B}} $"
   ]
  },
  {
   "cell_type": "markdown",
   "metadata": {},
   "source": [
    "#### **(2) 예시** :\n",
    "##### $ \\hspace{0.15cm} $ ① 어떠한 부분공간의 벡터와 기저가 주어졌을 때 좌표 벡터 $ \\begin{bmatrix} \\textbf{x} \\end{bmatrix}_{\\mathcal{B}_{H}} $ 를 구하고자 하는 경우\n",
    "##### $ \\hspace{0.45cm} \\text{if } \\; \\mathcal{B}_{H} = \\{ \\textbf{v}_{1}, \\textbf{v}_{2} \\} = \\{ \\begin{bmatrix} 3 \\\\ 6 \\\\ 2 \\end{bmatrix}, \\begin{bmatrix} -1 \\\\ 0 \\\\ 1 \\end{bmatrix} \\}, \\;\\; H = \\text{span}(\\mathcal{B}_{H}), \\;\\; \\textbf{x} = \\begin{bmatrix} 3 \\\\ 12 \\\\ 7 \\end{bmatrix} \\in{} H. $ \n",
    "##### $ \\hspace{0.6cm} c_{1} \\textbf{v}_{1} + c_{2} \\textbf{v}_{2} = \\textbf{x} \\rightarrow{} \\begin{bmatrix} \\textbf{v}_{1} & \\textbf{v}_{2} & \\textbf{x} \\end{bmatrix} = \\begin{bmatrix} 3 & -1 & 3 \\\\ 6 & 0 & 12 \\\\ 2 & 1 & 7 \\end{bmatrix} \\; $ ~ $ \\; \\cdots{} \\; $ ~ $ \\; \\begin{bmatrix} 1 & 0 & 2 \\\\ 0 & 1 & 3 \\\\ 0 & 0 & 0 \\end{bmatrix} $\n",
    "##### $ \\hspace{0.45cm} \\therefore{} [ \\textbf{x} ] _{\\mathcal{B}_{H}} = \\begin{bmatrix} 2 \\\\ 3 \\end{bmatrix} $\n",
    "##### $ \\hspace{0.15cm} $ ② **[LATEX]**"
   ]
  },
  {
   "cell_type": "markdown",
   "metadata": {},
   "source": [
    "<b></b>"
   ]
  },
  {
   "cell_type": "markdown",
   "metadata": {},
   "source": [
    "> ## **부분공간의 차원(Dimension of subspace)**"
   ]
  },
  {
   "cell_type": "markdown",
   "metadata": {},
   "source": [
    "#### **(1) 정의** : 비영 부분공간(nonzero subspace)인 $ H $의 **기저 벡터 개수** \n",
    "#### $ \\Rightarrow{} \\text{dim}(H) = | \\mathcal{B}_{H} | \\;\\; \\text{ where } \\; \\mathcal{B}_{H} \\, \\text{ is basis of } \\, H $"
   ]
  },
  {
   "cell_type": "markdown",
   "metadata": {},
   "source": [
    "##### **(`PLUS`)** 영 부분공간(zero subspace) $ \\{ \\textbf{0} \\} $의 차원은 $  0 $임 $ \\; \\rightarrow{} \\; \\text{dim}(\\{ \\textbf{0} \\}) = 0 $"
   ]
  },
  {
   "cell_type": "markdown",
   "metadata": {},
   "source": [
    "#### **(2) 예시** : \n",
    "##### $ \\hspace{0.15cm} $ ① $ \\, \\mathbb{R}^{n} $ 공간의 부분공간 $ \\, H = \\text{span}\\{ \\textbf{v}_{1}, \\textbf{v}_{2}, \\textbf{v}_{3} \\}$ 의 차원을 구하고자 하는 경우\n",
    "##### $ \\hspace{0.45cm} \\text{if } \\; \\textbf{v}_{1} = \\begin{bmatrix} 2 \\\\ -8 \\\\ 6 \\end{bmatrix}, \\;\\; \\textbf{v}_{2} = \\begin{bmatrix} 3 \\\\ -7 \\\\ -1 \\end{bmatrix}, \\;\\; \\textbf{v}_{3} = \\begin{bmatrix} -1 \\\\ 6 \\\\ -7 \\end{bmatrix} $\n",
    "##### $ \\hspace{0.6cm} V = \\begin{bmatrix} \\textbf{v}_{1} & \\textbf{v}_{2} & \\textbf{v}_{3} \\end{bmatrix} = \\begin{bmatrix} 2 & 3 & -1 \\\\ -8 & -7 & 6 \\\\ 6 & -1 & -7 \\end{bmatrix} \\; $ ~ $ \\; \\cdots{} \\; $ ~ $ \\; \\begin{bmatrix} \\textbf{2} & 3 & -1 \\\\ 0 & \\textbf{5} & 2 \\\\ 0 & 0 & 0 \\end{bmatrix} $ \n",
    "##### $ \\hspace{0.45cm} \\therefore{} \\text{dim}(V) = 2 \\;\\; $ ($ \\because \\, $ Theorem 2-12)\n",
    "##### $ \\hspace{0.15cm} $ ② **[LATEX]**"
   ]
  },
  {
   "cell_type": "markdown",
   "metadata": {},
   "source": [
    "<b></b>"
   ]
  },
  {
   "cell_type": "markdown",
   "metadata": {},
   "source": [
    "> ## **랭크(Rank)**"
   ]
  },
  {
   "cell_type": "markdown",
   "metadata": {},
   "source": [
    "#### **(1) 정의** : 선형 시스템($ A\\textbf{x} = \\textbf{b} $)의 독립적인 방정식의 개수\n",
    "#### $ = $ 행렬 $ A $의 열 공간의 차원 $ = A $의 열 벡터 집합에서 선형 독립인 벡터의 개수\n",
    "#### $ = $ 선형 변환($ T(\\textbf{x}) = A\\textbf{x} $)의 치역(range)의 차원\n",
    "#### $ \\Rightarrow{} \\text{rank}(A) = \\text{dim}(\\text{col}(A)) = | \\mathcal{B}_{A} | \\;\\; \\text{ where } \\; \\mathcal{B}_{A} \\, \\text{ is basis of col}(A) $"
   ]
  },
  {
   "cell_type": "markdown",
   "metadata": {},
   "source": [
    "#### **(2) 예시** : \n",
    "##### $ \\hspace{0.15cm} $ ① 행렬 $ \\, A $ 의 랭크를 구하고자 하는 경우\n",
    "##### $ \\hspace{0.45cm} A = \\begin{bmatrix} 2&5&-3&-4&8 \\\\ 4&7&-4&-3&9 \\\\ 6&9&-5&2&4 \\\\ 0&-9&6&5&-6 \\end{bmatrix} $ ~ $ \\cdots{} $ ~ $ \\begin{bmatrix} \\textbf{2}&5&-3&-4&8 \\\\ 0&\\textbf{-3}&2&5&-7 \\\\ 0&0&0&\\textbf{4}&-6 \\\\ 0&0&0&0&0 \\end{bmatrix} = E_{p}E_{p-1} \\cdots E_{2}E_{1}A = B $\n",
    "##### $ \\hspace{0.45cm} \\{ \\begin{bmatrix} 2 \\\\ 4 \\\\ 6 \\\\ 0 \\end{bmatrix}, \\begin{bmatrix} 5 \\\\ 7 \\\\ 9 \\\\ -9 \\end{bmatrix}, \\begin{bmatrix} -4 \\\\ -3 \\\\ 2 \\\\ 5 \\end{bmatrix} \\} \\, \\text{ is basis of col} \\, (A). $ \n",
    "##### $ \\hspace{0.45cm} \\therefore{} \\text{rank}(A) = 3 $\n",
    "##### $ \\hspace{0.15cm} $ ② **[LATEX]**"
   ]
  },
  {
   "cell_type": "markdown",
   "metadata": {},
   "source": [
    "<b></b>"
   ]
  },
  {
   "cell_type": "markdown",
   "metadata": {},
   "source": [
    "> ## **영 차원(Nullity)**"
   ]
  },
  {
   "cell_type": "markdown",
   "metadata": {},
   "source": [
    "#### **(2) 정의** : 어떠한 동차 선형 시스템($ A\\textbf{x} = \\textbf{0} $)에서 해집합(solution set)의 개수\n",
    "#### $ = $ 행렬 $ A $에 의해 $ \\textbf{0} $으로 매핑되는 벡터들의 집합의 개수\n",
    "#### $ = $ 선형 변환($ T(\\textbf{x}) = A\\textbf{x} $)의 커널(kernel)의 차원\n",
    "#### $ \\Rightarrow{} \\text{nullity}(A) = \\text{dim}(\\text{Nul}(A)) = | \\{ \\textbf{x} \\; | \\; A\\textbf{x} = \\textbf{0} \\} | $"
   ]
  },
  {
   "cell_type": "markdown",
   "metadata": {},
   "source": [
    "#### **(2) 예시** :\n",
    "##### $ \\hspace{0.15cm} $ ① 어떠한 동차 선형 시스템 $ A\\textbf{x} = \\textbf{0} $에서 영 차원을 구하고자 하는 경우\n",
    "##### $ \\hspace{0.45cm} \\text{if } \\ A = \\begin{bmatrix} 2 & 5 & -3 & -4 & 8 \\\\ 4 & 7 & -4 & -3 & 9 \\\\ 6 & 9 & -5 & 2 & 4 \\\\ 0 & -9 & 6 & 5 & -6 \\end{bmatrix} $ \n",
    "##### $ \\hspace{0.6cm} \\begin{bmatrix} A & \\textbf{0} \\end{bmatrix} = \\begin{bmatrix} 2 & 5 & -3 & -4 & 8 & 0 \\\\ 4 & 7 & -4 & -3 & 9 & 0 \\\\ 6 & 9 & -5 & 2 & 4 & 0 \\\\ 0 & -9 & 6 & 5 & -6 & 0 \\end{bmatrix} \\; $ ~ $ \\; \\cdots{} \\; $ ~ $ \\; \\begin{bmatrix} 1 & 0 & \\frac{1}{6} & 0 & \\frac{17}{12} & 0 \\\\ 0 & 1 & -\\frac{2}{3} & 0 & -\\frac{1}{6} & 0 \\\\ 0 & 0 & 0 & 1 & -\\frac{3}{2} & 0 \\\\ 0 & 0 & 0 & 0 & 0 & 0 \\end{bmatrix} $\n",
    "##### $ \\hspace{0.6cm} \\Rightarrow{} \\{ \\begin{bmatrix} -\\frac{1}{6} \\\\ \\frac{2}{3} \\\\ \\textbf{1} \\\\ 0 \\\\ 0 \\end{bmatrix}, \\begin{bmatrix} -\\frac{17}{12} \\\\ \\frac{1}{6} \\\\ 0 \\\\ \\frac{3}{2} \\\\ \\textbf{1} \\end{bmatrix} \\} \\, \\text{ is basis of Nul}(A)  $ \n",
    "##### $ \\hspace{0.45cm} \\therefore{} \\text{nuliity}(A) = 2 $\n",
    "##### $ \\hspace{0.15cm} $ ② **[LATEX]**"
   ]
  },
  {
   "cell_type": "markdown",
   "metadata": {},
   "source": [
    "<b></b>"
   ]
  },
  {
   "cell_type": "markdown",
   "metadata": {},
   "source": [
    "> ## (Theorem 2-13) **The Rank-Nullity Theorem**"
   ]
  },
  {
   "cell_type": "markdown",
   "metadata": {},
   "source": [
    "#### 어떠한 $ n $개의 변수를 갖는 선형 시스템($ \\underset{m\\times{}n}{A}\\textbf{x} = \\textbf{b} $)가 존재할 때 아래가 성립한다."
   ]
  },
  {
   "cell_type": "markdown",
   "metadata": {},
   "source": [
    "#### **(1)** 행렬 $ A $의 랭크와 영 차원을 합하면 변수의 개수($ n $)가 된다.\n",
    "#### $ \\Rightarrow{} \\text{rank}(A) + \\text{nullity}(A) = n $"
   ]
  },
  {
   "cell_type": "markdown",
   "metadata": {},
   "source": [
    "#### **(2)** 행렬 $ A $의 랭크는 선형 시스템의 해 중 기본 변수의 개수, 영 차원은 자유변수의 개수가 된다."
   ]
  },
  {
   "cell_type": "markdown",
   "metadata": {},
   "source": [
    "<b></b>"
   ]
  },
  {
   "cell_type": "markdown",
   "metadata": {},
   "source": [
    "> ## (Theorem 2-14) **The Basis Theorem**"
   ]
  },
  {
   "cell_type": "markdown",
   "metadata": {},
   "source": [
    "#### 어떠한 부분공간 $ H $의 차원이 $ \\, p $일 때 아래가 성립한다."
   ]
  },
  {
   "cell_type": "markdown",
   "metadata": {},
   "source": [
    "#### **(1)** 부분공간 $ H $ 안에서 **선형 독립인 $ p $개의 벡터**를 갖는 집합 $ V $가 있으면 그 집합은 $ H $ 의 기저이다.\n",
    "#### $ \\Rightarrow{} V \\, \\text{ is basis of } \\, H \\;\\; \\text{ if } \\; \\text{dim}(V) = \\text{dim}(H) = p $"
   ]
  },
  {
   "cell_type": "markdown",
   "metadata": {},
   "source": [
    "#### **(2)** $ p $개의 벡터로 구성된 집합 $ V $이 부분공간 $ H $를 선형 생성(span)하다면 그 집합은 $ H $ 의 기저이다.\n",
    "#### $ \\Rightarrow{} V \\, \\text{ is basis of } \\, H \\;\\; \\text{ if } \\; H = \\text{span}(V) = \\text{span}(\\{ \\textbf{v}_{1}, \\textbf{v}_{2}, \\cdots{}, \\textbf{v}_{p} \\}) $"
   ]
  }
 ],
 "metadata": {
  "kernelspec": {
   "display_name": "Python 3",
   "language": "python",
   "name": "python3"
  },
  "language_info": {
   "codemirror_mode": {
    "name": "ipython",
    "version": 3
   },
   "file_extension": ".py",
   "mimetype": "text/x-python",
   "name": "python",
   "nbconvert_exporter": "python",
   "pygments_lexer": "ipython3",
   "version": "3.11.3"
  },
  "orig_nbformat": 4
 },
 "nbformat": 4,
 "nbformat_minor": 2
}
