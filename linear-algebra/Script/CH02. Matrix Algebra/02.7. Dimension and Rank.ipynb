{
 "cells": [
  {
   "attachments": {},
   "cell_type": "markdown",
   "metadata": {},
   "source": [
    "# CH02.7. **Dimension and Rank**"
   ]
  },
  {
   "cell_type": "markdown",
   "metadata": {},
   "source": [
    "> ## **Coordinate Systems**"
   ]
  },
  {
   "cell_type": "markdown",
   "metadata": {},
   "source": [
    "#### **(1) 정의** : 벡터 공간 내에서 벡터를 표현하는 방법\n",
    "#### = subspace $ \\; H \\; $ 안에 존재하는 각각의 vector는 basis vector의 선형 결합으로 **유일하게** 표현할 수 있음"
   ]
  },
  {
   "cell_type": "markdown",
   "metadata": {},
   "source": [
    "#### **(`WHY?`)** subspace $ \\; H $ 의 basis $ \\; \\mathcal{B} = \\{ \\textbf{b}_{1}, \\textbf{b}_{2}, \\cdots, \\textbf{b}_{n} \\} $이고 $ H $ 안에 있는 vector $ \\; \\textbf{x} $가 있을 때, $ \\; \\textbf{x} $ 가 유일하지 않다면\n",
    "#### $ \\textbf{x} = c_{1} \\textbf{b}_{1} + c_{2} \\textbf{b}_{2} + \\cdots + c_{n} \\textbf{b}_{n} \\; $ 혹은 $ \\textbf{x} = d_{1} \\textbf{b}_{1} + d_{2} \\textbf{b}_{2} + \\cdots + d_{n} \\textbf{b}_{n} $\n",
    "#### $ \\textbf{x} - \\textbf{x} = (c_{1}-d_{1}) \\textbf{b}_{1} + (c_{2}-d_{2}) \\textbf{b}_{2} + \\cdots + (c_{n}-d_{n}) \\textbf{b}_{n} = \\textbf{0} $\n",
    "#### $ \\mathcal{B} $ 는 linear independent이므로 **각각의 weight들은 0**이어야함\n",
    "#### $ (c_{i}-d_{i})=0 \\;\\; \\therefore c_{i}=d_{i} $ "
   ]
  },
  {
   "cell_type": "markdown",
   "metadata": {},
   "source": [
    "> ## **Coordinate Vectors**"
   ]
  },
  {
   "cell_type": "markdown",
   "metadata": {},
   "source": [
    "#### **(1) 정의** : Coordinate system에 의해 표현된 벡터\n",
    "#### $ [ \\textbf{x} ] _{\\mathcal{B}} = \\begin{bmatrix} c_{1} \\\\ c_{2} \\\\ \\cdots \\\\ c_{n} \\end{bmatrix} $"
   ]
  },
  {
   "cell_type": "markdown",
   "metadata": {},
   "source": [
    "#### **(2) 형태** :\n",
    "#### 아래와 같이 $ \\; \\textbf{v}_{1}, \\textbf{v}_{2}, \\textbf{x}$ 가 주어졌을 때,\n",
    "#### $ \\textbf{v}_{1} = \\begin{bmatrix} 3 \\\\ 6 \\\\ 2 \\end{bmatrix}, \\; \\textbf{v}_{2} = \\begin{bmatrix} -1 \\\\ 0 \\\\ 1 \\end{bmatrix}, \\; \\textbf{x} = \\begin{bmatrix} 3 \\\\ 12 \\\\ 7 \\end{bmatrix} $ \n",
    "#### $ \\mathcal{B}_{H} = \\{ \\textbf{v}_{1}, \\textbf{v}_{2} \\} \\;\\; and \\;\\; \\textbf{x} \\in H $ (subspace)\n",
    "#### $ c_{1} \\textbf{v}_{1} + c_{2} \\textbf{v}_{2} = \\textbf{x} $\n",
    "#### $ \\begin{bmatrix} \\textbf{v}_{1}&\\textbf{v}_{2}&\\textbf{x} \\end{bmatrix} = \\begin{bmatrix} 3&-1&3 \\\\ 6&0&12 \\\\ 2&1&7 \\end{bmatrix} $ ~ $ \\cdots $ ~ $ \\begin{bmatrix} 1&0&2 \\\\ 0&1&3 \\\\ 0&0&0 \\end{bmatrix} $\n",
    "#### $ \\therefore \\; [ \\textbf{x} ] _{\\mathcal{B}} = \\begin{bmatrix} 2 \\\\ 3 \\end{bmatrix} $\n",
    "<b></b>"
   ]
  },
  {
   "cell_type": "markdown",
   "metadata": {},
   "source": [
    "> ## **Dimension**"
   ]
  },
  {
   "cell_type": "markdown",
   "metadata": {},
   "source": [
    "#### **(1) 정의** : non-zero subspace $ \\; H $ 의 **basis 벡터 개수** = dim $ H $"
   ]
  },
  {
   "cell_type": "markdown",
   "metadata": {},
   "source": [
    "#### **(PLUS)** zero subspace $ \\{ \\textbf{0} \\} $ 의 dimension은 0 임(dim $ \\{ \\textbf{0} \\} $  = 0) "
   ]
  },
  {
   "cell_type": "markdown",
   "metadata": {},
   "source": [
    "#### **(2) 형태** : \n",
    "#### subspace of $ \\mathbb{R}^{n} \\; $인 벡터 공간 $ \\; H \\; $가 벡터 $ \\; \\textbf{v}_{1}, \\textbf{v}_{2}, \\textbf{v}_{3} $ 를 span할 때, $ \\; H $의 dimension을 구하고자 할 경우\n",
    "#### $ \\textbf{v}_{1} = \\begin{bmatrix} 2 \\\\ -8 \\\\ 6 \\end{bmatrix}, \\; \\textbf{v}_{2} = \\begin{bmatrix} 3 \\\\ -7 \\\\ -1 \\end{bmatrix}, \\; \\textbf{v}_{3} = \\begin{bmatrix} -1 \\\\ 6 \\\\ -7 \\end{bmatrix} $\n",
    "#### $ \\begin{bmatrix} 2&3&-1 \\\\ -8&-7&6 \\\\ 6&-1&-7 \\end{bmatrix} $ ~ $ \\cdots $ ~ $ \\begin{bmatrix} 2&3&-1 \\\\ 0&5&2 \\\\ 0&0&0 \\end{bmatrix} $\n",
    "#### $ \\therefore \\; $ dim $ A = 2 \\; $ ( $ \\because \\; $ Theorem 12)\n",
    "<b></b>"
   ]
  },
  {
   "cell_type": "markdown",
   "metadata": {},
   "source": [
    "> ## **Rank**"
   ]
  },
  {
   "cell_type": "markdown",
   "metadata": {},
   "source": [
    "#### **(1) 정의** : 행렬 $ \\; A $ 의 column space의 dimension(= **basis 벡터의 개수**) = rank $ A $"
   ]
  },
  {
   "cell_type": "markdown",
   "metadata": {},
   "source": [
    "#### **(2) 형태** : \n",
    "#### 아래 행렬 $ \\; A $의 rank를 구하고자 하는 경우\n",
    "#### $ A = \\begin{bmatrix} 2&5&-3&-4&8 \\\\ 4&7&-4&-3&9 \\\\ 6&9&-5&2&4 \\\\ 0&-9&6&5&-6 \\end{bmatrix} $ ~ $ \\begin{bmatrix} \\textbf{2}&5&-3&-4&8 \\\\ 0&\\textbf{-3}&2&5&-7 \\\\ 0&0&0&\\textbf{4}&-6 \\\\ 0&0&0&0&0 \\end{bmatrix} = E_{p}E_{p-1} \\cdots E_{2}E_{1}A $\n",
    "#### $ \\therefore \\{ \\begin{bmatrix} 2 \\\\ 0 \\\\ 0 \\\\ 0 \\end{bmatrix}, \\begin{bmatrix} 5 \\\\ -3 \\\\ 0 \\\\ 0 \\end{bmatrix}, \\begin{bmatrix} -4 \\\\ 5 \\\\ 4 \\\\ 0 \\end{bmatrix} \\} \\; $ is basis of col $ A = $ rank $ A $ \n",
    "<b></b>"
   ]
  },
  {
   "cell_type": "markdown",
   "metadata": {},
   "source": [
    "> ## (Theorem 13) **The Rank Theorem**"
   ]
  },
  {
   "cell_type": "markdown",
   "metadata": {},
   "source": [
    "#### 행렬 $ \\; A $ 가 $ \\; n $개의 열을 갖고 있을 때, dim Nul $ A $ + rank $ A $ = $ n $ 가 된다. \n",
    "#### 이 경우, rank $ A $ 는 선형 시스템에서 basic variable의 개수, dim Nul $ A $ 은 free variable의 개수를 의미한다. \n",
    "<b></b>"
   ]
  },
  {
   "cell_type": "markdown",
   "metadata": {},
   "source": [
    "> ## (Theorem 14) **The Basis Theorem**"
   ]
  },
  {
   "cell_type": "markdown",
   "metadata": {},
   "source": [
    "#### 집합 $ \\; H $ 이 p-차원의 부분 공간이라면(dimension이 p라면),\n",
    "#### **(1)** 어떠한 **선형 독립인 $ \\; H$ 안에 있는 p개의 벡터를 갖는 집합**이 있으면 그 집합은 $ \\; H $의 basis이다.\n",
    "#### **(2)** p개의 벡터 집합이 집합 $ \\; H $ 를 span하다면, 그 집합은 $ \\; H $의 basis이다.\n",
    "<b></b>"
   ]
  }
 ],
 "metadata": {
  "kernelspec": {
   "display_name": "Python 3",
   "language": "python",
   "name": "python3"
  },
  "language_info": {
   "codemirror_mode": {
    "name": "ipython",
    "version": 3
   },
   "file_extension": ".py",
   "mimetype": "text/x-python",
   "name": "python",
   "nbconvert_exporter": "python",
   "pygments_lexer": "ipython3",
   "version": "3.11.3"
  },
  "orig_nbformat": 4
 },
 "nbformat": 4,
 "nbformat_minor": 2
}
