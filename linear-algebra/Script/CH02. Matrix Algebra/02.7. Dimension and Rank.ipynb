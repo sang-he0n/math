{
 "cells": [
  {
   "attachments": {},
   "cell_type": "markdown",
   "metadata": {},
   "source": [
    "# CH02.7. **Dimension and Rank**"
   ]
  },
  {
   "cell_type": "markdown",
   "metadata": {},
   "source": [
    "> ## **좌표계(Coordinate Systems)**"
   ]
  },
  {
   "cell_type": "markdown",
   "metadata": {},
   "source": [
    "#### **(1) 정의** : 부분 공간 $ \\, \\mathbb{H} \\, $ 내 벡터를 **기저 벡터들의 선형결합을 이용하여 유일하게 표현**하는 방법"
   ]
  },
  {
   "cell_type": "markdown",
   "metadata": {},
   "source": [
    "#### **(`WHY?`)**\n",
    "#### $ \\text{if } \\, \\mathbb{H} = \\text{span}\\{ \\textbf{b}_{1}, \\textbf{b}_{2}, \\cdots{}, \\textbf{b}_{n} \\} = \\text{span}(\\mathcal{B}), \\;\\; \\textbf{x} \\in{} \\mathbb{H}, \\;\\; \\textbf{x} \\, \\text { is not unique}. $ \n",
    "#### $ \\textbf{x} = c_{1} \\textbf{b}_{1} + c_{2} \\textbf{b}_{2} + \\cdots{} + c_{n} \\textbf{b}_{n} \\;\\; \\text{ or } \\;\\; \\textbf{x} = d_{1} \\textbf{b}_{1} + d_{2} \\textbf{b}_{2} + \\cdots{} + d_{n} \\textbf{b}_{n} $\n",
    "#### $ \\textbf{x} - \\textbf{x} = (c_{1}-d_{1}) \\textbf{b}_{1} + (c_{2}-d_{2}) \\textbf{b}_{2} + \\cdots{} + (c_{n}-d_{n}) \\textbf{b}_{n} = \\textbf{0} $\n",
    "#### \n",
    "#### $ \\therefore{} (c_{i}-d_{i})=0, \\;\\; c_{i}=d_{i} \\;\\; $ ($ \\because{} \\mathcal{B} = \\{ \\textbf{b}_{1}, \\textbf{b}_{2}, \\cdots{}, \\textbf{b}_{n} \\} \\, \\text{ is linear independent}.$) "
   ]
  },
  {
   "cell_type": "markdown",
   "metadata": {},
   "source": [
    "<b></b>"
   ]
  },
  {
   "cell_type": "markdown",
   "metadata": {},
   "source": [
    "> ## **좌표 벡터(Coordinate Vectors)**"
   ]
  },
  {
   "cell_type": "markdown",
   "metadata": {},
   "source": [
    "#### **(1) 정의** : 좌표계(Coordinate system)에 의해 표현된 벡터\n",
    "#### $ \\Rightarrow{} \\begin{bmatrix} \\textbf{x} \\end{bmatrix}_{\\mathcal{B}} = \\begin{bmatrix} c_{1} \\\\ c_{2} \\\\ \\cdots \\\\ c_{n} \\end{bmatrix} $"
   ]
  },
  {
   "cell_type": "markdown",
   "metadata": {},
   "source": [
    "#### **(`PLUS`)** $ \\, \\begin{bmatrix} \\textbf{x} \\end{bmatrix}_{\\mathcal{B}} $ 를 $ \\; \\textbf{x} $ 의 $ \\, \\mathcal{B} $ - 좌표 벡터($ \\, \\mathcal{B} $ - vector of $ \\, \\textbf{x} $)라고도 정의함 "
   ]
  },
  {
   "cell_type": "markdown",
   "metadata": {},
   "source": [
    "#### **(2) 예시** :\n",
    "#### $ \\hspace{0.15cm} $ ① 두 기저 벡터와 부분 공간의 벡터가 주어졌을 때 좌표 벡터를 구하고자 하는 경우\n",
    "#### $ \\hspace{0.45cm} \\textbf{x} = \\begin{bmatrix} 3 \\\\ 12 \\\\ 7 \\end{bmatrix} \\in{} H, \\;\\; \\mathcal{B}_{H} = \\{ \\textbf{v}_{1}, \\textbf{v}_{2} \\} = \\{ \\begin{bmatrix} 3 \\\\ 6 \\\\ 2 \\end{bmatrix}, \\begin{bmatrix} -1 \\\\ 0 \\\\ 1 \\end{bmatrix} \\} $ \n",
    "#### $ \\hspace{0.45cm} c_{1} \\textbf{v}_{1} + c_{2} \\textbf{v}_{2} = \\textbf{x} \\rightarrow{} \\begin{bmatrix} \\textbf{v}_{1}&\\textbf{v}_{2}&\\textbf{x} \\end{bmatrix} = \\begin{bmatrix} 3&-1&3 \\\\ 6&0&12 \\\\ 2&1&7 \\end{bmatrix} $ ~ $ \\cdots $ ~ $ \\begin{bmatrix} 1&0&2 \\\\ 0&1&3 \\\\ 0&0&0 \\end{bmatrix} $\n",
    "#### $ \\hspace{0.45cm} \\therefore{} [ \\textbf{x} ] _{\\mathcal{B}} = \\begin{bmatrix} 2 \\\\ 3 \\end{bmatrix} $\n",
    "#### $ \\hspace{0.15cm} $ ② **[LATEX]**"
   ]
  },
  {
   "cell_type": "markdown",
   "metadata": {},
   "source": [
    "#### **(`PLUS`) 좌표 벡터의 선형성(linearity)** :\n",
    "#### $ \\Rightarrow{} \\begin{bmatrix} \\textbf{x} + \\textbf{y} \\end{bmatrix}_{\\mathcal{B}} = \\begin{bmatrix} \\textbf{x} \\end{bmatrix}_{\\mathcal{B}} + \\begin{bmatrix} \\textbf{y} \\end{bmatrix}_{\\mathcal{B}} $"
   ]
  },
  {
   "cell_type": "markdown",
   "metadata": {},
   "source": [
    "<b></b>"
   ]
  },
  {
   "cell_type": "markdown",
   "metadata": {},
   "source": [
    "> ## **부분 공간의 차원(Dimension of subspace)**"
   ]
  },
  {
   "cell_type": "markdown",
   "metadata": {},
   "source": [
    "#### **(1) 정의** : 비영 부분 공간(nonzero subspace)인 $ \\, H $ 의 **기저 벡터 개수** \n",
    "#### $ \\Rightarrow{} \\text{dim}(H) = | \\mathcal{B}_{H} | \\;\\; \\text{ where } \\, \\mathcal{B}_{H} \\, \\text{ is basis of } \\, H \\, \\text{ subspace}. $"
   ]
  },
  {
   "cell_type": "markdown",
   "metadata": {},
   "source": [
    "#### **(`PLUS`)** 영 부분 공간(zero subspace) $ \\, \\{ \\textbf{0} \\} $ 의 차원은 $ \\, 0 $ 임 $ \\rightarrow{} \\text{dim}(\\{ \\textbf{0} \\}) = 0 $"
   ]
  },
  {
   "cell_type": "markdown",
   "metadata": {},
   "source": [
    "#### **(2) 예시** : \n",
    "#### $ \\hspace{0.15cm} $ ① $ \\, \\mathbb{R}^{n} $ 의 부분 공간 $ \\, H = \\text{span}\\{ \\textbf{v}_{1}, \\textbf{v}_{2}, \\textbf{v}_{3} \\}$ 일 때 차원을 구하고자 하는 경우\n",
    "#### $ \\hspace{0.45cm} \\textbf{v}_{1} = \\begin{bmatrix} 2 \\\\ -8 \\\\ 6 \\end{bmatrix}, \\;\\; \\textbf{v}_{2} = \\begin{bmatrix} 3 \\\\ -7 \\\\ -1 \\end{bmatrix}, \\;\\; \\textbf{v}_{3} = \\begin{bmatrix} -1 \\\\ 6 \\\\ -7 \\end{bmatrix} $\n",
    "#### $ \\hspace{0.45cm} V = \\begin{bmatrix} 2&3&-1 \\\\ -8&-7&6 \\\\ 6&-1&-7 \\end{bmatrix} $ ~ $ \\cdots $ ~ $ \\begin{bmatrix} \\textbf{2}&3&-1 \\\\ 0&\\textbf{5}&2 \\\\ 0&0&0 \\end{bmatrix} $\n",
    "#### $ \\hspace{0.45cm} \\therefore{} \\text{dim}(V) = 2 \\;\\; $ ($ \\because \\, $ Theorem 2-12)\n",
    "#### $ \\hspace{0.15cm} $ ② 어떠한 동차 선형 시스템 $ \\, A\\textbf{x} = \\textbf{0} $ 에서 영공간의 차원을 구하고자 하는 경우\n",
    "#### $ \\hspace{0.45cm} \\begin{bmatrix} A & \\textbf{0} \\end{bmatrix} = \\begin{bmatrix} 2&5&-3&-4&8&0 \\\\ 4&7&-4&-3&9&0 \\\\ 6&9&-5&2&4&0 \\\\ 0&-9&6&5&-6&0 \\end{bmatrix} $ ~ $ \\cdots{} $ ~ $ \\begin{bmatrix} 1&0&\\frac{1}{6}&0&\\frac{17}{12}&0 \\\\ 0&1&-\\frac{2}{3}&0&-\\frac{1}{6}&0 \\\\ 0&0&0&1&-\\frac{3}{2}&0 \\\\ 0&0&0&0&0&0 \\end{bmatrix} $\n",
    "#### $ \\hspace{0.45cm} \\{ \\begin{bmatrix} -\\frac{1}{6} \\\\ \\frac{2}{3} \\\\ \\textbf{1} \\\\ 0 \\\\ 0 \\end{bmatrix}, \\begin{bmatrix} -\\frac{17}{12} \\\\ \\frac{1}{6} \\\\ 0 \\\\ \\frac{3}{2} \\\\ \\textbf{1} \\end{bmatrix} \\} \\, \\text{ is basis of dim Nul} \\, A. $ \n",
    "#### $ \\hspace{0.45cm} \\therefore{} \\text{dim}(\\text{Nul}A) = 2 $"
   ]
  },
  {
   "cell_type": "markdown",
   "metadata": {},
   "source": [
    "#### **(`PLUS`)** 자유변수에 따라 구성된 기저 벡터 집합은 무조건 **선형독립** 관계임"
   ]
  },
  {
   "cell_type": "markdown",
   "metadata": {},
   "source": [
    "<b></b>"
   ]
  },
  {
   "cell_type": "markdown",
   "metadata": {},
   "source": [
    "> ## **랭크(Rank)**"
   ]
  },
  {
   "cell_type": "markdown",
   "metadata": {},
   "source": [
    "#### **(1) 정의** : 행렬 $ \\, A $ 이 생성할 수 있는 선형독립인 열 벡터의 개수\n",
    "#### = 행렬 $ \\, A $ 의 열 공간(column space)의 차원(기저 벡터의 개수)\n",
    "#### $ \\Rightarrow{} \\text{rank}(A) = | \\mathcal{B}_{A} | \\;\\; $ where $ \\, \\mathcal{B}_{A} \\, $ : basis vector of $ \\, A \\, $ column space"
   ]
  },
  {
   "cell_type": "markdown",
   "metadata": {},
   "source": [
    "#### **(2) 형태** : \n",
    "#### $ \\hspace{0.15cm} $ ① 행렬 $ \\, A $ 의 랭크를 구하고자 하는 경우\n",
    "#### $ \\hspace{0.45cm} A = \\begin{bmatrix} 2&5&-3&-4&8 \\\\ 4&7&-4&-3&9 \\\\ 6&9&-5&2&4 \\\\ 0&-9&6&5&-6 \\end{bmatrix} $ ~ $ \\cdots{} $ ~ $ \\begin{bmatrix} \\textbf{2}&5&-3&-4&8 \\\\ 0&\\textbf{-3}&2&5&-7 \\\\ 0&0&0&\\textbf{4}&-6 \\\\ 0&0&0&0&0 \\end{bmatrix} = E_{p}E_{p-1} \\cdots E_{2}E_{1}A = B $\n",
    "#### $ \\hspace{0.45cm} \\{ \\begin{bmatrix} 2 \\\\ 4 \\\\ 6 \\\\ 0 \\end{bmatrix}, \\begin{bmatrix} 5 \\\\ 7 \\\\ 9 \\\\ -9 \\end{bmatrix}, \\begin{bmatrix} -4 \\\\ -3 \\\\ 2 \\\\ 5 \\end{bmatrix} \\} \\, \\text{ is basis of col} \\, A. $ \n",
    "#### $ \\hspace{0.45cm} \\therefore{} \\text{rank}(A) = 3 $"
   ]
  },
  {
   "cell_type": "markdown",
   "metadata": {},
   "source": [
    "#### **(`PLUS`)** $ \\, \\{ \\begin{bmatrix} 2 \\\\ 0 \\\\ 0 \\\\ 0 \\end{bmatrix}, \\begin{bmatrix} 5 \\\\ -3 \\\\ 0 \\\\ 0 \\end{bmatrix}, \\begin{bmatrix} -4 \\\\ 5 \\\\ 4 \\\\ 0 \\end{bmatrix} \\} \\, \\text{ is basis of col} \\, B, \\;\\; \\textbf{NOT } \\, A $"
   ]
  },
  {
   "cell_type": "markdown",
   "metadata": {},
   "source": [
    "#### $ \\hspace{0.15cm} $ ② **[LATEX]**"
   ]
  },
  {
   "cell_type": "markdown",
   "metadata": {},
   "source": [
    "<b></b>"
   ]
  },
  {
   "cell_type": "markdown",
   "metadata": {},
   "source": [
    "> ## (Theorem 2-13) **The Rank Theorem**"
   ]
  },
  {
   "cell_type": "markdown",
   "metadata": {},
   "source": [
    "#### 행렬 $ \\, A $ 가 $ \\, n $ 개의 열을 갖고 있을 때, $ \\text{dim}(\\text{Nul} \\, A) + \\text{rank}(A) = n $ 이 된다. \n",
    "#### 이 때 $ \\, \\text{rank}(A) $ 는 선형 시스템에서 기본 변수(basic variable)의 개수, $ \\, \\text{dim}(\\text{Nul} \\, A) $ 는 자유 변수(free variable)의 개수가 된다. "
   ]
  },
  {
   "cell_type": "markdown",
   "metadata": {},
   "source": [
    "<b></b>"
   ]
  },
  {
   "cell_type": "markdown",
   "metadata": {},
   "source": [
    "> ## (Theorem 2-14) **The Basis Theorem**"
   ]
  },
  {
   "cell_type": "markdown",
   "metadata": {},
   "source": [
    "#### $ \\mathbb{R}^{n} $ 의 부분 공간 $ \\, H $ 이 의 부분 공간의 차원이 $ \\, p $ 라고 가정할 때\n",
    "#### **(1)** $ \\, H $ 안에서 선형 독립인 $ \\, p $ 개의 벡터를 갖는 집합이 있으면 그 집합은 $ \\, H $ 의 기저이다.\n",
    "#### **(2)** $ \\, p $ 개의 벡터 집합이 집합 $ \\, H $ 를 선형 생성(span)하다면 그 집합은 $ \\, H $ 의 기저이다."
   ]
  }
 ],
 "metadata": {
  "kernelspec": {
   "display_name": "Python 3",
   "language": "python",
   "name": "python3"
  },
  "language_info": {
   "codemirror_mode": {
    "name": "ipython",
    "version": 3
   },
   "file_extension": ".py",
   "mimetype": "text/x-python",
   "name": "python",
   "nbconvert_exporter": "python",
   "pygments_lexer": "ipython3",
   "version": "3.11.3"
  },
  "orig_nbformat": 4
 },
 "nbformat": 4,
 "nbformat_minor": 2
}
