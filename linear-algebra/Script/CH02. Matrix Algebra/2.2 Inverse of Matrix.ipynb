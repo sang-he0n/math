{
 "cells": [
  {
   "attachments": {},
   "cell_type": "markdown",
   "metadata": {},
   "source": [
    "# CH2.2 **Inverse of Matrix**"
   ]
  },
  {
   "cell_type": "markdown",
   "metadata": {},
   "source": [
    "> ## **Invertible Matrix**"
   ]
  },
  {
   "cell_type": "markdown",
   "metadata": {},
   "source": [
    "#### **(1) 정의**\n",
    "#### $ n \\times n \\; $ 행렬 $ \\; A $ 가 invertible할 경우, 아래를 만족하는 행렬 $ \\; C \\; $ 존재\n",
    "#### $ CA = AC = I_{n} $"
   ]
  },
  {
   "cell_type": "markdown",
   "metadata": {},
   "source": [
    "#### **(PLUS)** invertible한 행렬을 **non singular matrix**라고 정의\n",
    "<b></b>"
   ]
  },
  {
   "cell_type": "markdown",
   "metadata": {},
   "source": [
    "> ## (Thorem 4)"
   ]
  },
  {
   "cell_type": "markdown",
   "metadata": {},
   "source": [
    "#### 행렬 $ \\; A = \\begin{bmatrix} a&b \\\\ c&d \\end{bmatrix} $가 존재하고, $ \\; ab - cd \\neq 0 \\; $ 일 때 행렬 $ \\; A $는 invertible하다. 그 역행렬은 아래와 같다.\n",
    "#### $ A^{-1} = {{1}\\over{ad-bc}} \\begin{bmatrix} d&-b \\\\ -c&d \\end{bmatrix} $\n",
    "#### 이 때 $ \\; A $의 행렬식(determinant)는 다음과 같다.\n",
    "#### $ detA = ad-bc $\n",
    "<b></b>"
   ]
  },
  {
   "cell_type": "markdown",
   "metadata": {},
   "source": [
    "> ## (Thorem 5)"
   ]
  },
  {
   "cell_type": "markdown",
   "metadata": {},
   "source": [
    "#### 행렬 $ \\; A $가 non singular matrix이라면(=invertible하다면), 해당 선형 시스템($ A\\textbf{x} = \\textbf{b} $)은 **unique solution**만을 가지고, 해는 다음과 같다.\n",
    "#### $ A\\textbf{x} = \\textbf{b}, \\;\\; \\textbf{x} = A^{-1}\\textbf{b} $\n",
    "<b></b>"
   ]
  },
  {
   "cell_type": "markdown",
   "metadata": {},
   "source": [
    "> ## (Thorem 6)"
   ]
  },
  {
   "cell_type": "markdown",
   "metadata": {},
   "source": [
    "#### 행렬 $ \\; A $가  invertible하다면, 아래의 성질이 성립한다.\n",
    "#### &nbsp;&nbsp; ① $ (A^{-1})^{-1} = A $\n",
    "#### &nbsp;&nbsp; ② $ (AB)^{-1} = B^{-1}A^{-1} $\n",
    "#### &nbsp;&nbsp; ③ $ (A^{T})^{-1} = (A^{-1})^{T} \\;\\; $ when $ \\; T \\; $ is transpose.\n",
    "<b></b>"
   ]
  },
  {
   "cell_type": "markdown",
   "metadata": {},
   "source": [
    "> ## **Elementry Matrix**"
   ]
  },
  {
   "cell_type": "markdown",
   "metadata": {},
   "source": [
    "#### **(1) 정의** : 단위 행렬에 **row opration**을 한 번 연산한 행렬"
   ]
  },
  {
   "cell_type": "markdown",
   "metadata": {},
   "source": [
    "#### **(2) 종류** \n",
    "#### &nbsp;&nbsp; ① **Interchanging** : 두 행을 서로 교환하는 행렬\n",
    "#### &nbsp;&nbsp;&nbsp;&nbsp;&nbsp;&nbsp; $ E_{interchanging} = \\begin{bmatrix} 0&\\textbf{1}&0 \\\\ \\textbf{1}&0&0 \\\\ 0&0&1 \\end{bmatrix} $ &nbsp;&nbsp;:&nbsp;&nbsp; $ row_{1} \\iff row_{2} $\n",
    "#### &nbsp;&nbsp; ② **Scaling** : 한 행의 각 성분(component;element)에 0이 아닌 상수를 곱하는 연산\n",
    "#### &nbsp;&nbsp;&nbsp;&nbsp;&nbsp;&nbsp; $ E_{scaling} = \\begin{bmatrix} \\textbf{5}&0&0 \\\\ 0&1&0 \\\\ 0&0&1 \\end{bmatrix} $ &nbsp;&nbsp;:&nbsp;&nbsp; $ 5 \\times row_{1} \\to row_{1} $\n",
    "#### &nbsp;&nbsp; ③ **Replacement** : 한 행과 다른 행간의 성분 별 더하는 연산\n",
    "#### &nbsp;&nbsp;&nbsp;&nbsp;&nbsp;&nbsp; $ E_{replacement} = \\begin{bmatrix} 1&0&0 \\\\ 0&1&0 \\\\ -4&0&1 \\end{bmatrix} $ &nbsp;&nbsp;:&nbsp;&nbsp; $ row_{3} - 4 \\times row_{1} \\to row_{3} $"
   ]
  },
  {
   "cell_type": "markdown",
   "metadata": {},
   "source": [
    "#### **(PLUS)** Row operation과의 관계\n",
    "#### **(1)** $ m \\times n \\; $ 행렬 $ \\; A $ 에 row operation을 수행한 것은 $ \\; m \\times m \\; $ **elementray matrix를 행렬 $ \\; A $에 행렬 곱연산한 것과 같음**\n",
    "#### $ A = \\begin{bmatrix} a&b \\\\ c&d \\end{bmatrix} $ ~ $ \\begin{bmatrix} a&b \\\\ 2c&2d \\end{bmatrix} = \\begin{bmatrix} 1&0 \\\\ 0&2 \\end{bmatrix} \\begin{bmatrix} a&b \\\\ c&d \\end{bmatrix} = E_{scaling}A $ &nbsp;&nbsp;:&nbsp;&nbsp; $ 2 \\times row_{2} $"
   ]
  },
  {
   "cell_type": "markdown",
   "metadata": {},
   "source": [
    "#### **(2)** 각각의 elementray matrix는 모두 **invertible**하고, $ \\; E^{-1} $은 row operation의 역연산과 같음\n",
    "#### &nbsp;&nbsp; ① **Interchanging** : 두 행을 서로 교환하는 행렬\n",
    "#### &nbsp;&nbsp;&nbsp;&nbsp;&nbsp;&nbsp; $ E_{interchanging} = \\begin{bmatrix} 0&\\textbf{1}&0 \\\\ \\textbf{1}&0&0 \\\\ 0&0&1 \\end{bmatrix} , \\; (E_{interchanging})^{-1} = \\begin{bmatrix} 0&\\textbf{1}&0 \\\\ \\textbf{1}&0&0 \\\\ 0&0&1 \\end{bmatrix} $\n",
    "#### &nbsp;&nbsp; ② **Scaling** : 한 행의 각 성분(component;element)에 0이 아닌 상수를 곱하는 연산\n",
    "#### &nbsp;&nbsp;&nbsp;&nbsp;&nbsp;&nbsp; $ E_{scaling} = \\begin{bmatrix} \\textbf{5}&0&0 \\\\ 0&1&0 \\\\ 0&0&1 \\end{bmatrix} , \\; (E_{scaling})^{-1} = \\begin{bmatrix} {1} \\over {5}&0&0 \\\\ 0&1&0 \\\\ 0&0&1 \\end{bmatrix} $\n",
    "#### &nbsp;&nbsp; ③ **Replacement** : 한 행과 다른 행간의 성분 별 더하는 연산\n",
    "#### &nbsp;&nbsp;&nbsp;&nbsp;&nbsp;&nbsp; $ E_{replacement} = \\begin{bmatrix} 1&0&0 \\\\ 0&1&0 \\\\ -4&0&1 \\end{bmatrix} , \\; (E_{replacement})^{-1} = \\begin{bmatrix} 1&0&0 \\\\ 0&1&0 \\\\ 4&0&1 \\end{bmatrix}$\n",
    "<b></b>"
   ]
  },
  {
   "cell_type": "markdown",
   "metadata": {},
   "source": [
    "> ## (Thorem 7)"
   ]
  },
  {
   "cell_type": "markdown",
   "metadata": {},
   "source": [
    "#### **(1)** $ n \\times n \\; $ 행렬 $ \\; A $ 가 invertible할 경우, 항등 행렬 $ I_{n} $ 과 **row equivalent** 하다."
   ]
  },
  {
   "cell_type": "markdown",
   "metadata": {},
   "source": [
    "#### **(WHY?) 정리 5**에 의거해 행렬 $ \\; A $ 가 invertible하면 해당 선형 방정식은 unique solution을 갖고, 행렬 $ \\; A $ 와 상수항을 합친 augmented matrix는 pivot position이 모든 행마다 존재하기 때문"
   ]
  },
  {
   "cell_type": "markdown",
   "metadata": {},
   "source": [
    "#### **(2)** $ n \\times n \\; $ 행렬 $ \\; A $ 가 invertible하고 row operation을 통해 $ \\; I_{n} $ 행렬로 만들 경우, 그 때 까지의 elementary matrices를 $ \\; I_{n} $ 행렬에 연산하면 $ \\; A^{-1} $이 된다.\n",
    "#### $ A $ ~ $ E_{1}A $ ~ $ E_{2}(E_{1}A) $ ~ $ \\cdots $ ~ $ E_{p}(E_{p-1} \\cdots E_{1}A) = I_{n} $\n",
    "#### $ E_{p}(E_{p-1} \\cdots E_{1}A)A^{-1} = I_{n}A^{-1} $\n",
    "#### $ E_{p}E_{p-1} \\cdots E_{1}(AA^{-1}) = A^{-1} $\n",
    "#### $ \\therefore A^{-1} = E_{p}E_{p-1} \\cdots E_{1} I_{n} $"
   ]
  },
  {
   "cell_type": "markdown",
   "metadata": {},
   "source": [
    "#### **(PLUS)** Algorithm for Finding $ \\; A^{-1} $ \n",
    "#### $ \\begin{bmatrix} A&I \\end{bmatrix} $ ~ $ \\begin{bmatrix} I&A^{-1} \\end{bmatrix} $\n",
    "#### or\n",
    "#### $ \\begin{bmatrix} A&I \\end{bmatrix} $ = $ \\begin{bmatrix} A&\\textbf{e}_{1}&\\cdots&\\textbf{e}_{2} \\end{bmatrix} $ ~ $ \\begin{bmatrix} I&A^{-1}\\textbf{e}_1&\\cdots&A^{-1}\\textbf{e}_{n} \\end{bmatrix} $\n",
    "<b></b>"
   ]
  }
 ],
 "metadata": {
  "kernelspec": {
   "display_name": "Python 3",
   "language": "python",
   "name": "python3"
  },
  "language_info": {
   "codemirror_mode": {
    "name": "ipython",
    "version": 3
   },
   "file_extension": ".py",
   "mimetype": "text/x-python",
   "name": "python",
   "nbconvert_exporter": "python",
   "pygments_lexer": "ipython3",
   "version": "3.11.3"
  },
  "orig_nbformat": 4
 },
 "nbformat": 4,
 "nbformat_minor": 2
}
