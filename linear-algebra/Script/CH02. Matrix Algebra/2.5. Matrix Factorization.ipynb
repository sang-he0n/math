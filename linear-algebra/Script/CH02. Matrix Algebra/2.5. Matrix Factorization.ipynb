{
 "cells": [
  {
   "attachments": {},
   "cell_type": "markdown",
   "metadata": {},
   "source": [
    "# CH2.5. **Matrix Factorization**"
   ]
  },
  {
   "cell_type": "markdown",
   "metadata": {},
   "source": [
    "> ## **Factorization**"
   ]
  },
  {
   "cell_type": "markdown",
   "metadata": {},
   "source": [
    "#### **(1) 정의** : 행렬을 두 개 이상의 행렬 곱으로 표현하는 연산(방식)"
   ]
  },
  {
   "cell_type": "markdown",
   "metadata": {},
   "source": [
    "#### **(2) 형태**\n",
    "#### $ A = BC $\n",
    "<b></b>"
   ]
  },
  {
   "cell_type": "markdown",
   "metadata": {},
   "source": [
    "> ## **LU Factorization**"
   ]
  },
  {
   "cell_type": "markdown",
   "metadata": {},
   "source": [
    "#### **(1) 정의** : 특정 행렬을 Lower triangular matrix, Upper triangular matrix(ehchelon form)로 분해하는 연산"
   ]
  },
  {
   "cell_type": "markdown",
   "metadata": {},
   "source": [
    "#### **(2) 형태**\n",
    "#### $ A = \\begin{bmatrix} 1&0&0&0 \\\\ *&1&0&0 \\\\ *&*&1&0 \\\\ *&*&*&1 \\end{bmatrix} \\begin{bmatrix} ■&*&*&* \\\\ 0&■&*&* \\\\ 0&0&■&* \\\\ 0&0&0&■ \\end{bmatrix} = LU, \\;\\; where \\;\\; * \\in \\{ \\mathbb{R}^{1} \\} \\;\\; and \\;\\; ■ \\; \\in \\{ \\mathbb{R^1} | \\mathbb{R^1} \\notni 0 \\} $"
   ]
  },
  {
   "cell_type": "markdown",
   "metadata": {},
   "source": [
    "#### **(PLUS)** 계산 편의성을 위해, 아래와 같이 L을 정의함 (그렇지 않으면 다양한 형태의 $ \\; LU $ 가 나옴)\n",
    "#### &nbsp;&nbsp; ① 행렬 $ \\; L $의 diagnoal term은 1임 ($ L \\; $ is a unit lower triangular matrix) \n",
    "#### &nbsp;&nbsp; ② 행렬 $ \\; A $는 row interchage 연산 없이 reduced echelon form 형태로 row equivalent함 ($ A \\; $ is without row interchanges)\n",
    "#### &nbsp;&nbsp; ③ 행렬 $ \\; A $는 row scaling 연산 없이 reduced echelon form 형태로 row equivalent함 ($ A \\; $ is without row scaling)"
   ]
  },
  {
   "cell_type": "markdown",
   "metadata": {},
   "source": [
    "#### **(3) 풀이 순서**\n",
    "#### 선형 방정식 $ \\; A\\textbf{x} = \\textbf{b} $가 존재하고, $ \\; A = LU $ 로 정의될 때 아래와 같이 풀이 가능\n",
    "#### $ A\\textbf{x} = \\begin{bmatrix} 3&-7&-2&2 \\\\ -3&5&1&0 \\\\ 6&-4&0&-5 \\\\ -9&5&-5&12 \\end{bmatrix} \\begin{bmatrix} x_{1} \\\\ x_{2} \\\\ x_{3} \\\\ x_{4} \\end{bmatrix} = \\textbf{b} = \\begin{bmatrix} -9 \\\\ 5 \\\\ 7 \\\\ 11 \\end{bmatrix} $\n",
    "#### &nbsp;&nbsp; ① $ A\\textbf{x} = LU\\textbf{x} = \\textbf{b} $이고 ,\n",
    "#### $ A\\textbf{x} = LU\\textbf{x} = \\begin{bmatrix} 1&0&0&0 \\\\ -1&1&0&0 \\\\ 2&-5&1&0 \\\\ -3&8&3&1 \\end{bmatrix} \\begin{bmatrix} 3&-7&-2&2 \\\\ 0&-2&-1&2 \\\\ 0&0&-1&1 \\\\ 0&0&0&-1 \\end{bmatrix} \\begin{bmatrix} x_{1} \\\\ x_{2} \\\\ x_{3} \\\\ x_{4} \\end{bmatrix} = \\begin{bmatrix} -9 \\\\ 5 \\\\ 7 \\\\ 11 \\end{bmatrix} $\n",
    "#### &nbsp;&nbsp; ② $ U\\textbf{x} = y $로 정의하여 풀이하면 $ \\; L\\textbf{y} = \\textbf{b} $로 풀이 가능\n",
    "#### $ \\begin{bmatrix} L & \\textbf{b} \\end{bmatrix} = \\begin{bmatrix} 1&0&0&0&-9 \\\\ -1&1&0&0&5 \\\\ 2&-5&1&0&7 \\\\ -3&8&3&1&11 \\end{bmatrix} $ ~ $ \\cdots $ ~ $ \\begin{bmatrix} 1&0&0&0&-9 \\\\ 0&1&0&0&-4 \\\\ 0&0&1&0&5 \\\\ 0&0&0&1&1 \\end{bmatrix} = \\begin{bmatrix} I&\\textbf{y} \\end{bmatrix} $\n",
    "#### &nbsp;&nbsp; ③ $ U, \\; y $에 대하여 알고 있어 $ \\; \\textbf{x} $에 대하여 풀이 가능\n",
    "#### $ \\begin{bmatrix} U & \\textbf{y} \\end{bmatrix} = \\begin{bmatrix} 3&-7&-2&2&-9 \\\\ 0&-2&-1&2&-4 \\\\ 0&0&-1&1&5 \\\\ 0&0&0&-1&1 \\end{bmatrix} $ ~ $ \\cdots $ ~ $ \\begin{bmatrix} 1&0&0&0&3 \\\\ 0&1&0&0&4 \\\\ 0&0&1&0&-6 \\\\ 0&0&0&1&-1 \\end{bmatrix} = \\begin{bmatrix} I&\\textbf{x} \\end{bmatrix} $\n",
    "#### $ \\therefore \\textbf{x} = \\begin{bmatrix} 3 \\\\ 4 \\\\ -6 \\\\ -1 \\end{bmatrix} $\n",
    "#### 이 과정에서 $ L, \\; U $는 row operation을 통해 쉽게 reduced echelon form으로 만들 수 있기에 연산이 간편해짐\n",
    "<b></b>"
   ]
  },
  {
   "cell_type": "markdown",
   "metadata": {},
   "source": [
    "> ## **LU Factorization Algorithm**"
   ]
  },
  {
   "cell_type": "markdown",
   "metadata": {},
   "source": [
    "#### **(1) 정의**\n",
    "#### &nbsp;&nbsp; ① 주어진 행렬 $ \\; A $에 대하여 행렬 $ \\; U $(=echelon form)를 도출하기 위해 row operation을 수행\n",
    "#### &nbsp;&nbsp; $ A $ ~ $ E_{1}A $ ~ $ \\cdots $ ~ $ ( E_{p} E_{p-1} \\cdots E_{1} ) A = U $ \n",
    "#### &nbsp;&nbsp; ② elementray matrix는 invertible하므로, 아래와 같이 이항하면 LU 구조로 변환됨\n",
    "#### &nbsp;&nbsp; $ ( E_{p} E_{p-1} \\cdots E_{1} )^{-1} ( E_{p} E_{p-1} \\cdots E_{1} ) A = ( E_{p} E_{p-1} \\cdots E_{1} )^{-1} U $ \n",
    "#### &nbsp;&nbsp; $ \\therefore A = ( E_{p} E_{p-1} \\cdots E_{1} )^{-1} U = LU $"
   ]
  },
  {
   "cell_type": "markdown",
   "metadata": {},
   "source": [
    "#### **(2) 형태** \n",
    "#### $ A = \\begin{bmatrix} 2&4&-1&5&-2 \\\\ -4&-5&3&-8&1 \\\\ 2&-5&-4&1&8 \\\\ -6&0&7&-3&1 \\end{bmatrix} $ \n",
    "#### ~ $ \\begin{bmatrix} 2&4&-1&5&-2 \\\\ 0&3&1&2&-3 \\\\ 0&-9&-3&-4&10 \\\\ 0&12&4&12&-5 \\end{bmatrix} $ &nbsp;&nbsp;:&nbsp;&nbsp; $ \\begin{array}{c} \\\\ row_{2} + 2 \\times row_{1} \\to row_{2} \\\\ row_{3} - 1 \\times row_{1} \\to row_{3} \\\\ row_{4} + 3 \\times row_{1} \\to row_{4} \\end{array}, \\; E_{1} = \\begin{bmatrix} 1&0&0&0 \\\\ 2&1&0&0 \\\\ -1&0&1&0 \\\\ 3&0&0&1 \\end{bmatrix} $\n",
    "#### ~ $ \\begin{bmatrix} 2&4&-1&5&-2 \\\\ 0&3&1&2&-3 \\\\ 0&0&0&2&1 \\\\ 0&0&0&4&7 \\end{bmatrix} $ &nbsp;&nbsp;&nbsp;&nbsp;&nbsp;&nbsp;&nbsp;&nbsp;&nbsp;:&nbsp;&nbsp; $ \\begin{array}{c} \\\\ \\\\ row_{3} + 3 \\times row_{2} \\to row_{3} \\\\ row_{4} - 4 \\times row_{2} \\to row_{4} \\end{array}, \\; E_{2} = \\begin{bmatrix} 1&0&0&0 \\\\ 0&1&0&0 \\\\ 0&3&1&0 \\\\ 0&-4&0&1 \\end{bmatrix} $\n",
    "#### ~ $ \\begin{bmatrix} 2&4&-1&5&-2 \\\\ 0&3&1&2&-3 \\\\ 0&0&0&2&1 \\\\ 0&0&0&0&5 \\end{bmatrix} $ &nbsp;&nbsp;&nbsp;&nbsp;&nbsp;&nbsp;&nbsp;&nbsp;&nbsp;:&nbsp;&nbsp; $ \\begin{array}{c} \\\\ \\\\ \\\\ row_{4} - 2 \\times row_{3} \\to row_{4} \\end{array}, \\; E_{3} = \\begin{bmatrix} 1&0&0&0 \\\\ 0&1&0&0 \\\\ 0&0&1&0 \\\\ 0&0&-2&1 \\end{bmatrix} $\n",
    "#### $ = U = E_{3}E_{2}E_{1}A $\n",
    "#### $ A = (E_{3}E_{2}E_{1})^{-1}U = LU $\n",
    "#### $ I_{4} = \\begin{bmatrix} 1&0&0&0 \\\\ 0&1&0&0 \\\\ 0&0&1&0 \\\\ 0&0&0&1 \\end{bmatrix} $ ~ $ \\begin{bmatrix} 1&0&0&0 \\\\ 0&1&0&0 \\\\ 0&0&1&0 \\\\ 0&0&2&1 \\end{bmatrix} $ ~ $ \\begin{bmatrix} 1&0&0&0 \\\\ 0&1&0&0 \\\\ 0&-3&1&0 \\\\ 0&4&2&1 \\end{bmatrix} $ ~ $ \\begin{bmatrix} 1&0&0&0 \\\\ -2&1&0&0 \\\\ 1&-3&1&0 \\\\ -3&4&2&1 \\end{bmatrix} = L $\n",
    "#### &nbsp;&nbsp;&nbsp;&nbsp;&nbsp;&nbsp;&nbsp;&nbsp;&nbsp;&nbsp;&nbsp;&nbsp;&nbsp;&nbsp;&nbsp;&nbsp;&nbsp;&nbsp;&nbsp;&nbsp;&nbsp;&nbsp;&nbsp;&nbsp;&nbsp;&nbsp;&nbsp;&nbsp;&nbsp;&nbsp;&nbsp;&nbsp;&nbsp;&nbsp;&nbsp;&nbsp;&nbsp;&nbsp;&nbsp;&nbsp;&nbsp; ~ &nbsp;&nbsp; $ {E_{3}}^{-1}I_{4} $ &nbsp;&nbsp;&nbsp;&nbsp;&nbsp;&nbsp;&nbsp;&nbsp;&nbsp;&nbsp;&nbsp;&nbsp;&nbsp; ~ &nbsp;&nbsp; $ {E_{2}}^{-1}{E_{3}}^{-1}I_{4} $ &nbsp;&nbsp;&nbsp;&nbsp;&nbsp; ~ &nbsp;&nbsp; $ {E_{1}}^{-1}{E_{2}}^{-1}{E_{3}}^{-1}I_{4} \\; = L $ \n",
    "#### $ \\therefore A = LU = \\begin{bmatrix} 1&0&0&0 \\\\ -2&1&0&0 \\\\ 1&-3&1&0 \\\\ -3&4&2&1 \\end{bmatrix} \\begin{bmatrix} 2&4&-1&5&-2 \\\\ 0&3&1&2&-3 \\\\ 0&0&0&2&1 \\\\ 0&0&0&0&5 \\end{bmatrix} $ "
   ]
  },
  {
   "cell_type": "markdown",
   "metadata": {},
   "source": [
    "#### **(PLUS) General case** : PLU Factorization (row interchange가 필요할 경우)\n",
    "#### 행렬 $ \\; A $가 아래와 같을 때, 이를 row reduction하면 다음과 같음\n",
    "#### $ A = \\begin{bmatrix} 0&0&1&-3&2 \\\\ 2&-1&4&2&1 \\\\ 4&-1&9&1&4 \\\\ 2&-1&5&-1&5 \\end{bmatrix} $ \n",
    "#### ~ $ \\begin{bmatrix} 2&-1&5&-1&5 \\\\ 2&-1&4&2&1 \\\\ 4&-1&9&1&4 \\\\ 0&0&1&-3&2 \\end{bmatrix} $ &nbsp;&nbsp;&nbsp;&nbsp;&nbsp;&nbsp;&nbsp;&nbsp;:&nbsp;&nbsp; $ \\begin{array}{c} row_{1} \\iff row_{4} \\\\ \\; \\\\ \\; \\\\ \\; \\end{array} \\;\\;\\;\\;\\;\\;\\;\\;\\;\\;\\;\\;\\; , \\; E_{1} = \\begin{bmatrix} 0&0&0&1 \\\\ 0&1&0&0 \\\\ 0&0&1&0 \\\\ 1&0&0&0 \\end{bmatrix} $\n",
    "#### ~ $ \\begin{bmatrix} 2&-1&5&-1&5 \\\\ 0&0&-1&3&-4 \\\\ 0&1&-1&3&-6 \\\\ 0&0&1&-3&2 \\end{bmatrix} $ &nbsp;&nbsp;:&nbsp;&nbsp; $ \\begin{array}{c} \\; \\\\ row_{2} - 1 \\times row_{1} \\to row_{2} \\\\ row_{3} - 2 \\times row_{1} \\to row_{3} \\\\ \\; \\end{array} , \\; E_{2} = \\begin{bmatrix} 1&0&0&0 \\\\ -1&1&0&0 \\\\ -2&0&1&0 \\\\ 0&0&0&1 \\end{bmatrix} $\n",
    "#### ~ $ \\begin{bmatrix} 2&-1&5&-1&5 \\\\ 0&1&-1&3&-6 \\\\ 0&0&-1&3&-4 \\\\ 0&0&1&-3&2 \\end{bmatrix} $ &nbsp;&nbsp;:&nbsp;&nbsp; $ \\begin{array}{c} \\; \\\\ row_{2} \\iff row_{3} \\\\ \\; \\\\ \\; \\end{array} \\;\\;\\;\\;\\;\\;\\;\\;\\;\\;\\;\\;\\; , \\; E_{3} = \\begin{bmatrix} 1&0&0&0 \\\\ 0&0&1&0 \\\\ 0&1&0&0 \\\\ 0&0&0&1 \\end{bmatrix} $\n",
    "#### ~ $ \\begin{bmatrix} 2&-1&5&-1&5 \\\\ 0&1&-1&3&-6 \\\\ 0&0&-1&3&-4 \\\\ 0&0&0&0&-2 \\end{bmatrix} $ &nbsp;&nbsp;:&nbsp;&nbsp; $ \\begin{array}{c} \\; \\\\ \\; \\\\ \\; \\\\ row_{4} + 1 \\times row_{3} \\to row_{4} \\end{array} , \\; E_{4} = \\begin{bmatrix} 1&0&0&0 \\\\ 0&1&0&0 \\\\ 0&0&1&0 \\\\ 0&0&1&1 \\end{bmatrix} $\n",
    "#### $ (E_{4}E_{3}E_{2}E_{1})A = U $\n",
    "#### $ A = (E_{4}E_{3}E_{2}E_{1})^{-1}U = \\begin{bmatrix} 0&0&-1&1 \\\\ 1&0&1&0 \\\\ 2&1&0&0 \\\\ 1&0&0&0 \\end{bmatrix} U \\neq LU $\n",
    "#### 이 때 row interchange 때문에 $ (E_{4}E_{3}E_{2}E_{1})^{-1} $는 unit lower triangular matrix가 아니게 되므로 row operation을 수행하여 unit lower triangular matrix로 변환\n",
    "#### $ (E_{4}E_{3}E_{2}E_{1})^{-1} = \\begin{bmatrix} 0&0&-1&1 \\\\ 1&0&1&0 \\\\ 2&1&0&0 \\\\ 1&0&0&0 \\end{bmatrix} $ \n",
    "#### ~ $ \\begin{bmatrix} 1&0&0&0 \\\\ 1&0&1&0 \\\\ 2&1&0&0 \\\\ 0&0&-1&1 \\end{bmatrix} $ &nbsp;&nbsp;:&nbsp;&nbsp; $ \\begin{array}{c} row_{1} \\iff row_{4} \\\\ \\; \\\\ \\; \\\\ \\; \\end{array} , \\; E_{5} = \\begin{bmatrix} 0&0&0&1 \\\\ 0&1&0&0 \\\\ 0&0&1&0 \\\\ 1&0&0&0 \\end{bmatrix} $\n",
    "#### ~ $ \\begin{bmatrix} 1&0&0&0 \\\\ 2&1&0&0 \\\\ 1&0&1&0 \\\\ 0&0&-1&1 \\end{bmatrix} $ &nbsp;&nbsp;:&nbsp;&nbsp; $ \\begin{array}{c} \\; \\\\ row_{2} \\iff row_{3} \\\\ \\; \\\\ \\; \\end{array} , \\; E_{6} = \\begin{bmatrix} 1&0&0&0 \\\\ 0&0&1&0 \\\\ 0&1&0&0 \\\\ 0&0&0&1 \\end{bmatrix} $\n",
    "#### $ E_{6}E_{5}(E_{4}E_{3}E_{2}E_{1})^{-1} = \\begin{bmatrix} 1&0&0&0 \\\\ 2&1&0&0 \\\\ 1&0&1&0 \\\\ 0&0&-1&1 \\end{bmatrix} = L $\n",
    "#### 그러나 $ \\; A = (E_{4}E_{3}E_{2}E_{1})^{-1}U $ 이므로, 양변에 $ E_{6}E_{5} $ 곱하여 처리\n",
    "#### $ E_{6}E_{5} A = E_{6}E_{5}(E_{4}E_{3}E_{2}E_{1})^{-1}U $\n",
    "#### $ \\therefore P A = L U $ "
   ]
  },
  {
   "cell_type": "markdown",
   "metadata": {},
   "source": [
    "#### **(PLUS)** 이때 행렬 $ \\; P $를 Permutation Matrix(치환행렬)으로 정의하며, 행렬 $ P $ 는 row reduction에 독립적이므로, 영향을 미치지 않음"
   ]
  },
  {
   "cell_type": "markdown",
   "metadata": {},
   "source": [
    "#### **(PLUS)** Numerical Note\n",
    "#### **[CONTENTS]**\n",
    "<b></b>"
   ]
  }
 ],
 "metadata": {
  "kernelspec": {
   "display_name": "Python 3",
   "language": "python",
   "name": "python3"
  },
  "language_info": {
   "codemirror_mode": {
    "name": "ipython",
    "version": 3
   },
   "file_extension": ".py",
   "mimetype": "text/x-python",
   "name": "python",
   "nbconvert_exporter": "python",
   "pygments_lexer": "ipython3",
   "version": "3.11.3"
  },
  "orig_nbformat": 4
 },
 "nbformat": 4,
 "nbformat_minor": 2
}
