{
 "cells": [
  {
   "attachments": {},
   "cell_type": "markdown",
   "metadata": {},
   "source": [
    "# CH02.4. **Partitioned Matices**"
   ]
  },
  {
   "cell_type": "markdown",
   "metadata": {},
   "source": [
    "> ## **분할 행렬(Partitioned Matrix; Block Matrix)**"
   ]
  },
  {
   "cell_type": "markdown",
   "metadata": {},
   "source": [
    "#### **(1) 정의** : 행렬을 특정 열과 행을 기준으로 나눈 부분 행렬\n",
    "#### $ \\Rightarrow{} \\underset{3\\times{}7}{A} = \\begin{bmatrix} \\begin{array}{ccc|ccc|c} a_{1,1}&a_{1,2}&a_{1,3}&a_{1,4}&a_{1,5}&a_{1,6}&a_{1,7} \\\\ a_{2,1}&a_{2,2}&a_{2,3}&a_{2,4}&a_{2,5}&a_{2,6}&a_{2,7} \\\\ \\hline{} a_{3,1}&a_{3,2}&a_{3,3}&a_{3,4}&a_{3,5}&a_{3,6}&a_{3,7} \\end{array} \\end{bmatrix} = \\begin{bmatrix} A_{11}&A_{12}&A_{13} \\\\ A_{21}&A_{21}&A_{23} \\end{bmatrix} $\n",
    "#### $ \\Rightarrow{} A_{11} = \\begin{bmatrix} a_{1,1}&a_{1,2}&a_{1,3} \\\\ a_{2,1}&a_{2,2}&a_{2,3} \\end{bmatrix}, \\;\\; A_{12} = \\begin{bmatrix} a_{1,4}&a_{1,5}&a_{1,6} \\\\ a_{2,4}&a_{2,5}&a_{2,6} \\end{bmatrix}, \\;\\; A_{13} = \\begin{bmatrix} a_{1,7} \\\\ a_{2,7} \\end{bmatrix} $\n",
    "#### $ \\hspace{0.45cm} A_{21} = \\begin{bmatrix} a_{3,1}&a_{3,2}&a_{3,3} \\end{bmatrix}, \\;\\; A_{22} = \\begin{bmatrix} a_{3,4}&a_{3,5}&a_{3,6} \\end{bmatrix}, \\;\\; A_{23} = \\begin{bmatrix} a_{3,7} \\end{bmatrix} $"
   ]
  },
  {
   "cell_type": "markdown",
   "metadata": {},
   "source": [
    "#### **(2) 연산 조건** : 연산하고자 하는 개별 분할 행렬의 크기가 일치해야함\n",
    "#### $ \\hspace{0.15cm} $ ① 행렬 합\n",
    "#### $ \\hspace{0.45cm} $ **[LATEX]**\n",
    "#### $ \\hspace{0.15cm} $ ② 행렬 곱\n",
    "#### $ \\hspace{0.45cm} A = \\begin{bmatrix} \\begin{array}{ccc|cc} 2&-3&1&0&4 \\\\ 1&5&-2&3&-1 \\\\ \\hline{} 0&-4&-2&7&1 \\end{array} \\end{bmatrix} = \\begin{bmatrix} A_{11}&A_{12} \\\\ A_{21}&A_{22} \\end{bmatrix}, \\; B =  \\begin{bmatrix} 6&4 \\\\ -2&1 \\\\ -3&7 \\\\ \\hline{} -1&3 \\\\ 5&2 \\end{bmatrix} = \\begin{bmatrix} B_{11} \\\\ B_{21} \\end{bmatrix} $\n",
    "#### $ \\hspace{0.45cm} \\therefore{} AB = \\begin{bmatrix} A_{11}&A_{12} \\\\ A_{21}&A_{22} \\end{bmatrix}\\begin{bmatrix} B_{11} \\\\ B_{21} \\end{bmatrix} = \\begin{bmatrix} A_{11}B_{11} + A_{12}B_{21} \\\\ A_{21}B_{11} + A_{22}B_{21} \\end{bmatrix} = \\begin{bmatrix} -5&4 \\\\ -6&2 \\\\ 2&1 \\end{bmatrix} $"
   ]
  },
  {
   "cell_type": "markdown",
   "metadata": {},
   "source": [
    "<b></b>"
   ]
  },
  {
   "cell_type": "markdown",
   "metadata": {},
   "source": [
    "> ## (Thorem 2-10) **Column-Row Expansion of $ \\, AB $**"
   ]
  },
  {
   "cell_type": "markdown",
   "metadata": {},
   "source": [
    "#### 행렬 $ \\, \\underset{m\\times{}n}{A} $ 와 $ \\, \\underset{n\\times{}p}{B} $ 가 존재할 때 아래와 같이 표현 가능하다.\n",
    "#### $ \\Rightarrow{} \\underset{m\\times{}p}{AB} = \\begin{bmatrix} \\textbf{a}_{1} & \\textbf{a}_{2} & \\cdots{} & \\textbf{a}_{n} \\end{bmatrix} \\begin{bmatrix} \\textbf{b}_{1}^{T} \\\\ \\textbf{b}_{2}^{T} \\\\ \\cdots{} \\\\ \\textbf{b}_{n}^{T} \\end{bmatrix} = \\underset{m\\times{}p}{\\textbf{a}_{1}\\textbf{b}_{1}^{T}} + \\textbf{a}_{2}\\textbf{b}_{2}^{T} + \\cdots{} + \\textbf{a}_{n}\\textbf{b}_{n}^{T} $ "
   ]
  },
  {
   "cell_type": "markdown",
   "metadata": {},
   "source": [
    "<b></b>"
   ]
  },
  {
   "cell_type": "markdown",
   "metadata": {},
   "source": [
    "> ## **상삼각 분할행렬의 역행렬(Inverse of Partitioned UT Matrix)**"
   ]
  },
  {
   "cell_type": "markdown",
   "metadata": {},
   "source": [
    "#### **(`PLUS`) 상삼각 행렬(Upper Triangle Matrix)** : 대각 성분(diagonal term) 아래에 있는 모든 성분이 $ \\, 0 $ 인 **정방 행렬**\n",
    "#### $ \\hspace{0.15cm} \\Rightarrow{} \\begin{bmatrix} a_{1,1} & a_{1,2} & \\cdots{} & a_{1,n} \\\\ 0 & a_{2,1} & \\cdots{} & a_{2,n} \\\\ \\vdots{} & \\vdots{} & \\ddots{} & \\vdots{} \\\\ \\cdots{} & \\cdots{} & \\cdots{} & a_{n,n} \\end{bmatrix} $"
   ]
  },
  {
   "cell_type": "markdown",
   "metadata": {},
   "source": [
    "#### **(1) 정의** : 어떠한 행렬 $ \\, A $ 각 상삼각 분할 행렬이며, 가역행렬일 경우 각 분할 행렬의 역행렬\n",
    "#### $ \\Rightarrow{} A = \\begin{bmatrix} A_{11}&A_{12} \\\\ 0&A_{22} \\end{bmatrix}, \\;\\; A^{-1} = \\begin{bmatrix} {A_{11}}^{-1} & -{A_{11}}^{-1}A_{12}{A_{22}}^{-1} \\\\ 0 & {A_{22}}^{-1}& \\end{bmatrix} $"
   ]
  },
  {
   "cell_type": "markdown",
   "metadata": {},
   "source": [
    "#### **(`WHY?`)**\n",
    "#### $ \\hspace{0.15cm} \\underset{n\\times{}n}{A} = \\begin{bmatrix} \\underset{p\\times{}p}{A_{11}}&A_{12} \\\\ 0&\\underset{q\\times{}q}{A_{22}} \\end{bmatrix}, \\;\\; \\underset{n\\times{}n}{A}^{-1} = B = \\begin{bmatrix} B_{11}&B_{12} \\\\ B_{21}&B_{22} \\end{bmatrix} \\;\\; \\text{ where } \\, n = p + q, \\;\\; A_{\\text{ij}} \\, \\text{ is invertible}. $\n",
    "#### $ \\hspace{0.15cm} AB = \\begin{bmatrix} A_{11}&A_{12} \\\\ 0&A_{22} \\end{bmatrix} \\begin{bmatrix} B_{11}&B_{12} \\\\ B_{21}&B_{22} \\end{bmatrix} = \\begin{bmatrix} A_{11}B_{11}+A_{12}B_{21}&A_{11}B_{12}+A_{12}B_{22} \\\\ A_{22}B_{21}&A_{22}B_{22} \\end{bmatrix} = \\begin{bmatrix} I_{p}&0 \\\\ 0&I_{q} \\end{bmatrix} $\n",
    "#### $ \\hspace{0.15cm} \\begin{cases} A_{11}B_{11} + A_{12}B_{21} &= I_{p} \\;\\; \\cdots{} ㉠ \\\\ A_{11}B_{12} + A_{12}B_{22} &= 0 \\;\\;\\; \\cdots{} ㉡ \\\\ A_{22}B_{21} &= 0 \\;\\;\\; \\cdots{} ㉢ \\\\ A_{22}B_{22} &= I_{q} \\;\\; \\cdots{} ㉣ \\end{cases} $ \n",
    "#### $ \\hspace{0.15cm} B_{21} = {A_{22}}^{-1}0 = 0 \\;\\; $ ($ \\because{} \\, $ ㉢)\n",
    "#### $ \\hspace{0.15cm} A_{11}B_{11} + A_{12}B_{21} = A_{11}B_{11} = I_{p}, \\;\\; B_{11} = {A_{11}}^{-1} \\;\\; $ ($ \\because{} \\, $ ㉠&㉢) \n",
    "#### $ \\hspace{0.15cm} B_{22} = {A_{22}}^{-1}I_{q} = {A_{22}}^{-1} \\;\\; $ ($ \\because{} \\,$ ㉣)\n",
    "#### $ \\hspace{0.15cm} A_{11}B_{12} + A_{12}B_{22} = A_{11}B_{12} + A_{12}{A_{22}}^{-1} = 0, A_{11}B_{12} = -A_{12}{A_{22}}^{-1}, \\;\\; B_{12} = -{A_{11}}^{-1}A_{12}{A_{22}}^{-1} \\;\\; $ ($ \\because{} \\, $ ㉡&㉣) \n",
    "#### $ \\hspace{0.15cm} \\therefore{} B = A^{-1} = \\begin{bmatrix} {A_{11}}^{-1} & -{A_{11}}^{-1}A_{12}{A_{22}}^{-1} \\\\ 0 & {A_{22}}^{-1}& \\end{bmatrix} $"
   ]
  }
 ],
 "metadata": {
  "kernelspec": {
   "display_name": "Python 3",
   "language": "python",
   "name": "python3"
  },
  "language_info": {
   "codemirror_mode": {
    "name": "ipython",
    "version": 3
   },
   "file_extension": ".py",
   "mimetype": "text/x-python",
   "name": "python",
   "nbconvert_exporter": "python",
   "pygments_lexer": "ipython3",
   "version": "3.11.3"
  },
  "orig_nbformat": 4
 },
 "nbformat": 4,
 "nbformat_minor": 2
}
