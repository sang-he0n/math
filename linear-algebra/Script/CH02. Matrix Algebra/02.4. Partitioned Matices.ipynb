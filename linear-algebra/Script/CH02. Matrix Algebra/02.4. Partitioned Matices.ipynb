{
 "cells": [
  {
   "attachments": {},
   "cell_type": "markdown",
   "metadata": {},
   "source": [
    "# CH02.4. **Partitioned Matices**"
   ]
  },
  {
   "cell_type": "markdown",
   "metadata": {},
   "source": [
    "> ## **분할 행렬(Partitioned Matrix; Block Matrix)**"
   ]
  },
  {
   "cell_type": "markdown",
   "metadata": {},
   "source": [
    "#### **(1) 정의** : 행렬을 특정 열과 행을 기준으로 나눈 부분 행렬\n",
    "#### $ \\Rightarrow{} \\underset{3\\times{}7}{A} = \\begin{bmatrix} \\begin{array}{ccc|ccc|c} 1&0&-3&5&-4&1&2 \\\\ -8&9&8&6&7&-1&3 \\\\ \\hline{} 0&-5&1&5&7&2&0 \\end{array} \\end{bmatrix} = \\begin{bmatrix} A_{11}&A_{12}&A_{13} \\\\ A_{21}&A_{21}&A_{23}  \\end{bmatrix} $\n",
    "#### $ \\hspace{0.45cm} A_{11} = \\begin{bmatrix} 1&0&-3 \\\\ -8&9&8 \\end{bmatrix}, \\;\\; A_{12} = \\begin{bmatrix} 5&-4&1 \\\\ 6&7&-1 \\end{bmatrix}, \\;\\; A_{13} = \\begin{bmatrix} 2 \\\\ 3 \\end{bmatrix} $\n",
    "#### $ \\hspace{0.45cm} A_{21} = \\begin{bmatrix} 0&-5&1 \\end{bmatrix}, \\;\\; A_{22} = \\begin{bmatrix} 5&7&2 \\end{bmatrix}, \\;\\; A_{23} = \\begin{bmatrix} 0 \\end{bmatrix} $"
   ]
  },
  {
   "cell_type": "markdown",
   "metadata": {},
   "source": [
    "#### **(2) 연산 조건** : 같은 크기(size)이면 연산 가능함\n",
    "#### $ \\hspace{0.15cm} $ ① 행렬 합\n",
    "#### $ \\hspace{0.45cm} $ **[LATEX]**\n",
    "#### $ \\hspace{0.15cm} $ ② 행렬 곱\n",
    "#### $ \\hspace{0.45cm} A = \\begin{bmatrix} \\begin{array}{ccc|cc} 2&-3&1&0&4 \\\\ 1&5&-2&3&-1 \\\\ \\hline{} 0&-4&-2&7&1 \\end{array} \\end{bmatrix} = \\begin{bmatrix} A_{11}&A_{12} \\\\ A_{21}&A_{22} \\end{bmatrix}, \\; B =  \\begin{bmatrix} 6&4 \\\\ -2&1 \\\\ -3&7 \\\\ \\hline{} -1&3 \\\\ 5&2 \\end{bmatrix} = \\begin{bmatrix} B_{11} \\\\ B_{21} \\end{bmatrix} $\n",
    "#### $ \\hspace{0.45cm} \\therefore{} AB = \\begin{bmatrix} A_{11}&A_{12} \\\\ A_{21}&A_{22} \\end{bmatrix}\\begin{bmatrix} B_{11} \\\\ B_{21} \\end{bmatrix} = \\begin{bmatrix} A_{11}B_{11} + A_{12}B_{21} \\\\ A_{21}B_{11} + A_{22}B_{21} \\end{bmatrix} = \\begin{bmatrix} -5&4 \\\\ -6&2 \\\\ 2&1 \\end{bmatrix} $"
   ]
  },
  {
   "cell_type": "markdown",
   "metadata": {},
   "source": [
    "<b></b>"
   ]
  },
  {
   "cell_type": "markdown",
   "metadata": {},
   "source": [
    "> ## (Thorem 2-10) **Column-Row Expansion of $ \\, AB $**"
   ]
  },
  {
   "cell_type": "markdown",
   "metadata": {},
   "source": [
    "#### $ m \\times n $ 행렬 $ \\, A $ 와 $ n \\times p $ 행렬 $ \\, B $ 가 존재할 때 아래와 같이 표현 가능하다.\n",
    "#### $ \\Rightarrow{} \\underset{m \\times{} p}{AB} = \\begin{bmatrix} \\text{col}_{1}(A)&\\text{col}_{2}(A)&\\cdots{}&\\text{col}_{n}(A) \\end{bmatrix} \\begin{bmatrix} \\text{row}_{1}(B) \\\\ \\text{row}_{2}(B) \\\\ \\cdots{} \\\\ \\text{row}_{n}(B) \\end{bmatrix} $\n",
    "#### $ \\hspace{1.1cm} = \\text{col}_{1}(A)\\text{row}_{1}(B) + \\text{col}_{2}(A)\\text{row}_{2}(B) + \\cdots{} + \\text{col}_{n}(A)\\text{row}_{n}(B) $ "
   ]
  },
  {
   "cell_type": "markdown",
   "metadata": {},
   "source": [
    "<b></b>"
   ]
  },
  {
   "cell_type": "markdown",
   "metadata": {},
   "source": [
    "> ## **분할행렬의 역행렬(Inverse of Partitioned Matrices)**"
   ]
  },
  {
   "cell_type": "markdown",
   "metadata": {},
   "source": [
    "#### **(1) 정의** :\n",
    "#### 아래와 같이 행렬 $ \\, A, B $가 존재하고, $ \\, A_{11} $ 행렬은 $ \\, p \\times p $, $ A_{22} $ 행렬은 $ \\, q \\times q \\, $ 크기며 가역 행렬일 경우, \n",
    "#### 또한 행렬 $ \\, B $를 행렬 $ \\, A $의 역행렬($ AB = I $)일 경우\n",
    "#### $ A = \\begin{bmatrix} A_{11}&A_{12} \\\\ 0&A_{22} \\end{bmatrix}, \\, B = \\begin{bmatrix} B_{11}&B_{12} \\\\ B_{21}&B_{22} \\end{bmatrix} $\n",
    "#### $ AB = \\begin{bmatrix} A_{11}&A_{12} \\\\ 0&A_{22} \\end{bmatrix} \\begin{bmatrix} B_{11}&B_{12} \\\\ B_{21}&B_{22} \\end{bmatrix} = \\begin{bmatrix} I_{p}&0 \\\\ 0&I_{q} \\end{bmatrix} $\n",
    "#### $ \\,\\,\\,\\,\\,\\,\\, = \\begin{bmatrix} A_{11}B_{11}+A_{12}B_{21}&A_{11}B_{12}+A_{12}B_{22} \\\\ A_{22}B_{21}&A_{22}B_{22} \\end{bmatrix} = \\begin{bmatrix} I_{p}&0 \\\\ 0&I_{q} \\end{bmatrix} $\n",
    "#### $ A_{11}B_{11} + A_{12}B_{21} = I_{p} \\,\\, \\cdots \\,\\, $ ㉠\n",
    "#### $ A_{11}B_{12} + A_{12}B_{22} = 0 \\,\\,\\, \\cdots \\,\\, $ ㉡\n",
    "#### $ \\,\\,\\,\\,\\,\\,\\,\\,\\,\\,\\,\\,\\,\\,\\, A_{22}B_{21} = 0 \\,\\,\\, \\cdots \\,\\, $ ㉢\n",
    "#### $ \\,\\,\\,\\,\\,\\,\\,\\,\\,\\,\\,\\,\\,\\,\\, A_{22}B_{22} = I_{q} \\,\\, \\cdots \\,\\, $ ㉣\n",
    "#### $ B_{21} = {A_{22}}^{-1}0 = 0 \\,\\, $ (㉢)\n",
    "#### $ A_{11}B_{11} + A_{12}B_{21} = A_{11}B_{11} + A_{12}0 = A_{11}B_{11} = I_{p}, \\, B_{11} = {A_{11}}^{-1} \\,\\, $ (㉠&㉢) \n",
    "#### $ B_{22} = {A_{22}}^{-1}I_{q} = {A_{22}}^{-1} \\,\\, $ (㉣)\n",
    "#### $ A_{11}B_{12} + A_{12}B_{22} = A_{11}B_{12} + A_{12}{A_{22}}^{-1} = 0, \\, A_{11}B_{12} = -A_{12}{A_{22}}^{-1}, \\, B_{12} = -{A_{11}}^{-1}A_{12}{A_{22}}^{-1} \\,\\, $ (㉡&㉣) \n",
    "#### $ \\therefore B = \\begin{bmatrix} 0&{A_{11}}^{-1} \\\\ {A_{22}}^{-1}&-{A_{11}}^{-1}A_{12}{A_{22}}^{-1} \\end{bmatrix} $"
   ]
  },
  {
   "cell_type": "markdown",
   "metadata": {},
   "source": [
    "#### **(`PLUS`)** 행렬 $ \\; A $를 block-upper trangle이라고 정의함"
   ]
  }
 ],
 "metadata": {
  "kernelspec": {
   "display_name": "Python 3",
   "language": "python",
   "name": "python3"
  },
  "language_info": {
   "codemirror_mode": {
    "name": "ipython",
    "version": 3
   },
   "file_extension": ".py",
   "mimetype": "text/x-python",
   "name": "python",
   "nbconvert_exporter": "python",
   "pygments_lexer": "ipython3",
   "version": "3.11.3"
  },
  "orig_nbformat": 4
 },
 "nbformat": 4,
 "nbformat_minor": 2
}
