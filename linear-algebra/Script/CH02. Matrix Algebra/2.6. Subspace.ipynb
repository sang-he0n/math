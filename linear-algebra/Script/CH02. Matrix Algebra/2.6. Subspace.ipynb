{
 "cells": [
  {
   "attachments": {},
   "cell_type": "markdown",
   "metadata": {},
   "source": [
    "# CH2.6. **Subspace**"
   ]
  },
  {
   "cell_type": "markdown",
   "metadata": {},
   "source": [
    "> ## **Subspace Of $ \\mathbb{R}^{n} $**"
   ]
  },
  {
   "cell_type": "markdown",
   "metadata": {
    "vscode": {
     "languageId": "plaintext"
    }
   },
   "source": [
    "#### **(1) 정의** : 아래의 연산(조건)이 성립하는 집합 $ \\; H $를 $ \\; \\mathbb{R}^{n}$ 의 **부분 공간**이라고 정의\n",
    "#### $ when \\;\\, \\{ \\textbf{u}, \\textbf{v} \\} \\subset \\mathbb{R}^n \\; (n \\geq 2)\\;\\, and \\;\\, a \\in \\mathbb{R}^1 $\n",
    "#### &nbsp;&nbsp; ① $ \\textbf{0} \\in H $\n",
    "#### &nbsp;&nbsp; ② $ \\{ \\textbf{u}, \\textbf{v} \\} \\subset H, \\;\\; \\textbf{u}+\\textbf{v} \\in H $ \n",
    "#### &nbsp;&nbsp; ③ $ \\textbf{u} \\in H, \\;\\; c\\textbf{u} \\in H $"
   ]
  },
  {
   "cell_type": "markdown",
   "metadata": {},
   "source": [
    "#### **(PLUS)** ②, ③번에 대하여 스칼라곱(scalar multipication)과 벡터합(vector addition)에 **닫혀있다(closed)고** 표현하고, 이는 선형 결합 연산에 대해 성립하는 것과 같음"
   ]
  },
  {
   "cell_type": "markdown",
   "metadata": {},
   "source": [
    "#### **(2) 판별 방법**\n",
    "#### 벡터 $ \\; \\textbf{v}_{1} $ 와 벡터 $ \\; \\textbf{v}_{2} $ 가 $ \\; \\mathbb{R}^{n} $ 안에 있고, 벡터 집합 $ \\; H = \\; span\\{ \\textbf{v}_{1}, \\; \\textbf{v}_{2} \\} $ 로 정의될 때, 벡터 집합 $ \\; H $ 는 $ \\; \\mathbb{R}^{n} $의 부분 공간인가?\n",
    "#### $ 0 \\textbf{v}_{1} + 0 \\textbf{v}_{2} \\in H, \\;\\; \\cdots \\;\\; $ ①\n",
    "#### if $ \\; \\textbf{u} = s_{1} \\textbf{v}_{1} + t_{1} \\textbf{v}_{2}, \\; \\textbf{v} = s_{2} \\textbf{v}_{1} + t_{2} \\textbf{v}_{2} $\n",
    "#### $ \\textbf{u} + \\textbf{v} = (s_{1}+t_{1}) \\textbf{v}_{1} + (s_{2}+t_{2}) \\textbf{v}_{2} \\in H, \\;\\; \\cdots \\;\\; $ ②\n",
    "#### $ c \\textbf{u} = c(s_{1} \\textbf{v}_{1} + t_{1} \\textbf{v}_{2}) = c s_{1} \\textbf{v}_{1} + c t_{1} \\textbf{v}_{2} \\in H \\;\\; \\cdots \\;\\; $ ③\n",
    "#### $ \\therefore $ 조건 ①, ②, ③ 모두 만족하므로 집합 $ \\; H $는 $ \\; \\mathbb{R}^{n} $의 부분집합임\n",
    "<b></b>"
   ]
  },
  {
   "cell_type": "markdown",
   "metadata": {},
   "source": [
    "> ## **Column Space**"
   ]
  },
  {
   "cell_type": "markdown",
   "metadata": {},
   "source": [
    "#### **(1) 정의** : 특정 행렬의 열 벡터를 선형 결합한 집합 = 열 벡터들이 생성하는 공간 = col $ A $"
   ]
  },
  {
   "cell_type": "markdown",
   "metadata": {},
   "source": [
    "#### **(2) 형태**\n",
    "#### $ A = \\begin{bmatrix} \\textbf{a}_{1}&\\textbf{a}_{2}&\\cdots&\\textbf{a}_{n} \\end{bmatrix} $\n",
    "#### col $ A = span \\{ \\textbf{a}_{1}, \\textbf{a}_{2}, \\cdots, \\textbf{a}_{n} \\}$"
   ]
  },
  {
   "cell_type": "markdown",
   "metadata": {},
   "source": [
    "#### **(PLUS)** \n",
    "#### Is $ \\; \\textbf{b} $ in $ \\; col A $ ? \n",
    "#### = Does the following augmented matrix have a solution ? (consistent) $ \\begin{bmatrix} \\textbf{a}_1,\\, \\textbf{a}_2, \\cdots, \\textbf{a}_{n}, \\textbf{b} \\end{bmatrix} $\n",
    "<b></b>"
   ]
  },
  {
   "cell_type": "markdown",
   "metadata": {},
   "source": [
    "> ## **Null Space**"
   ]
  },
  {
   "cell_type": "markdown",
   "metadata": {},
   "source": [
    "#### **(1) 정의** : 동차선형시스템(homogeneneous equation; $ \\; A\\textbf{x} = 0 $)에서 모든 해의 집합 = Nul $ A $"
   ]
  },
  {
   "cell_type": "markdown",
   "metadata": {},
   "source": [
    "#### **(2) 형태**\n",
    "#### 아래와 같은 동차선형체계가 존재할 때, null space는 다음과 같음\n",
    "#### $ \\begin{aligned} 3x_{1}+5x_{2}-4x_{3} &= 0 \\\\ -3x_{1}-2x_{2}+4x_{3} &= 0 \\\\ 6x_{1}+x_{2}-8x_{3} &= 0 \\end{aligned} \\;\\;\\; \\iff \\;\\;\\; A\\textbf{x} = \\begin{bmatrix} 3&5&-4 \\\\ -3&-2&4 \\\\ 6&1&-8 \\end{bmatrix} \\begin{bmatrix} x_{1} \\\\ x_{2} \\\\ x_{3} \\end{bmatrix} = \\begin{bmatrix} 0 \\\\ 0 \\\\ 0 \\end{bmatrix} $\n",
    "#### $ \\begin{bmatrix} 3&5&-4&0 \\\\ -3&-2&4&0 \\\\ 6&1&-8&0 \\end{bmatrix} $ ~ $ \\begin{bmatrix} 3&5&-4&0 \\\\ 0&3&0&0 \\\\ 0&-9&0&0 \\end{bmatrix} $ ~ $ \\begin{bmatrix} 3&5&-4&0 \\\\ 0&3&0&0 \\\\ 0&0&0&0 \\end{bmatrix} $ ~ $ \\begin{bmatrix} 3&5&-4&0 \\\\ 0&1&0&0 \\\\ 0&0&0&0 \\end{bmatrix} $ ~ $ \\begin{bmatrix} 3&0&-4&0 \\\\ 0&1&0&0 \\\\ 0&0&0&0 \\end{bmatrix} $ ~ $ \\begin{bmatrix} 1&0&-{{4}\\over{3}}&0 \\\\ 0&1&0&0 \\\\ 0&0&0&0 \\end{bmatrix} $\n",
    "#### $ \\therefore $ nul $ A = \\textbf{x} = \\begin{bmatrix} x_{1} \\\\ x_{2} \\\\ x_{3} \\end{bmatrix} = \\begin{bmatrix} {{4}\\over{3}}x_{3} \\\\ 0 \\\\ x_{3} \\end{bmatrix} = x_{3} \\textbf{v} = span \\{ \\textbf{v} \\},  \\;\\; where \\;\\; \\textbf{v} = \\begin{bmatrix} {{4}\\over{3}} \\\\ 0 \\\\ 1 \\end{bmatrix} $  "
   ]
  },
  {
   "cell_type": "markdown",
   "metadata": {},
   "source": [
    "#### **(PLUS)** column space는 행렬 형태에서 바로 구할 수 있으므로 직접적(명시적; explicitly)으로 정의되고, null space는 선형 시스템에서 해를 구해야하므로 간접적(암시적; explicity)으로 정의됨"
   ]
  },
  {
   "cell_type": "markdown",
   "metadata": {},
   "source": [
    "#### **(PLUS)** \n",
    "#### Is $ \\; \\textbf{u} \\; $ in Nul $ A $ ?\n",
    "#### = **[TEXT]**($ A\\textbf{u} = 0 $)\n",
    "<b></b>"
   ]
  },
  {
   "cell_type": "markdown",
   "metadata": {},
   "source": [
    "> ## (Theorem 11)"
   ]
  },
  {
   "cell_type": "markdown",
   "metadata": {},
   "source": [
    "#### $ m \\times n \\; $행렬 A의 null space는 아래의 연산이성립하므로, $ \\; \\mathbb{R}^{n} $ 의 subspace이다.\n",
    "#### $ A\\textbf{0} = \\textbf{0}, \\;\\; \\cdots \\;\\; $ ① \n",
    "#### if $ \\; A \\textbf{u} = 0, \\; A \\textbf{v} = 0 $\n",
    "#### $ A(\\textbf{u} + \\textbf{v}) = A\\textbf{u} + A\\textbf{v} = 0, \\;\\; \\cdots \\;\\; $ ②\n",
    "#### $ A(c\\textbf{u}) = cA\\textbf{u} = c(\\textbf{0}) = \\textbf{0} \\;\\; \\cdots \\;\\; $ ③\n",
    "#### $ \\therefore $ 조건 ①, ②, ③ 모두 만족하므로 집합 nul $ A $는 $ \\; \\mathbb{R}^{n} $의 부분집합임"
   ]
  },
  {
   "cell_type": "markdown",
   "metadata": {},
   "source": [
    "> ## **Basis for a Subspace**"
   ]
  },
  {
   "cell_type": "markdown",
   "metadata": {},
   "source": [
    "#### **(1) 정의** : \n",
    "#### 어떤 부분 공간 $ \\; H $ 를 **span하면서**, **선형 독립**인 벡터들로 이루어진 집합\n",
    "#### = 부분 공간 $ \\; H $ 를 span할 수 있는 **최소한**의 벡터 집합\n",
    "#### = $ \\mathcal{B} \\; $ of subspace $ \\; H $"
   ]
  },
  {
   "cell_type": "markdown",
   "metadata": {},
   "source": [
    "#### **(2) 형태**\n",
    "#### 행렬 $ \\; A $ 의 null space의 basis를 구하고자 할 경우\n",
    "#### $ A\\textbf{x} = \\begin{bmatrix} -3&6&-1&1&-7 \\\\ 1&-2&2&3&-1 \\\\ 2&-4&5&8&-4 \\end{bmatrix} \\begin{bmatrix} x_{1} \\\\ x_{2} \\\\ x_{3} \\\\ x_{4} \\\\ x_{5} \\end{bmatrix} = \\begin{bmatrix} 0 \\\\ 0 \\\\ 0 \\end{bmatrix} $\n",
    "#### $ \\begin{bmatrix} A & 0 \\end{bmatrix} $ ~ $ \\cdots $ ~ $ \\begin{bmatrix} 1&-2&0&-1&3&0 \\\\ 0&0&1&2&-2&0 \\\\ 0&0&0&0&0&0 \\end{bmatrix} \\;\\;\\; \\iff \\;\\;\\; \\begin{array}{ccccc} \\begin{aligned} x_{1}-2x_{2}+0x_{3}-1x_{4}+3x_{5} = 0 \\\\ 0x_{1}+0x_{2}+1x_{3}+2x_{4}-2x_{5} = 0 \\\\ 0 = 0 \\end{aligned} \\end{array} $\n",
    "#### nul $ A = \\textbf{x} = \\begin{bmatrix} x_{1} \\\\ x_{2} \\\\ x_{3} \\\\ x_{4} \\\\ x_{5} \\end{bmatrix} = \\begin{bmatrix} 2x_{2}+x_{4}-3x_{5} \\\\ x_{2} \\\\ -2{x_4}+2x_{5} \\\\ x_{4} \\\\ x_{5} \\end{bmatrix} = x_{2} \\begin{bmatrix} 2 \\\\ 1 \\\\ 0 \\\\ 0\\\\ 0 \\end{bmatrix} + x_{4} \\begin{bmatrix} 1 \\\\ 0 \\\\ -2 \\\\ 1 \\\\ 0 \\end{bmatrix} + x_{5} \\begin{bmatrix} -3 \\\\ 0 \\\\ 2 \\\\ 0 \\\\ 1 \\end{bmatrix} = span \\{ \\begin{bmatrix} 2 \\\\ 1 \\\\ 0 \\\\ 0\\\\ 0 \\end{bmatrix}, \\begin{bmatrix} 1 \\\\ 0 \\\\ -2 \\\\ 1 \\\\ 0 \\end{bmatrix}, \\begin{bmatrix} -3 \\\\ 0 \\\\ 2 \\\\ 0 \\\\ 1 \\end{bmatrix} \\} $\n",
    "#### $ \\therefore \\{ \\begin{bmatrix} 2 \\\\ 1 \\\\ 0 \\\\ 0\\\\ 0 \\end{bmatrix}, \\begin{bmatrix} 1 \\\\ 0 \\\\ -2 \\\\ 1 \\\\ 0 \\end{bmatrix}, \\begin{bmatrix} -3 \\\\ 0 \\\\ 2 \\\\ 0 \\\\ 1 \\end{bmatrix} \\} $ is basis of Nul $ A $"
   ]
  },
  {
   "cell_type": "markdown",
   "metadata": {},
   "source": [
    "#### **(PLUS)** 특정 subpace의 basis는 **유일하지 않음**"
   ]
  },
  {
   "cell_type": "markdown",
   "metadata": {},
   "source": [
    "#### **(PLUS) Standard Basis** : $ \\; n \\times n \\; $ 항등 행렬(identity matrix)에서 각각의 column vector 집합\n",
    "#### $ E_{n} = \\begin{bmatrix} 1&0&\\cdots&0 \\\\ 0&1&\\cdots&0 \\\\ \\cdots&\\cdots&\\cdots&\\cdots \\\\ 0&0&\\cdots&1 \\end{bmatrix}, \\; \\textbf{e}_{1} = \\begin{bmatrix} 1 \\\\ 0 \\\\ \\cdots \\\\ 0 \\end{bmatrix}, \\textbf{e}_{2} = \\begin{bmatrix} 0 \\\\ 1 \\\\ \\cdots \\\\ 0 \\end{bmatrix}, \\; \\cdots, \\; \\textbf{e}_{n} = \\begin{bmatrix} 0 \\\\ 0 \\\\ \\cdots \\\\ 1 \\end{bmatrix} $ \n",
    "#### $ \\{ \\textbf{e}_{1}, \\textbf{e}_{2}, \\cdots, \\textbf{e}_{n} \\} \\; $ is standard basis\n",
    "<b></b>"
   ]
  },
  {
   "cell_type": "markdown",
   "metadata": {},
   "source": [
    "> ## (Theorem 12)"
   ]
  },
  {
   "cell_type": "markdown",
   "metadata": {},
   "source": [
    "#### 어떤 행렬의 pivot columns은 그 행렬의 **basis of column space**이다.\n",
    "#### $ A = \\begin{bmatrix} 1&3&3&2&-9 \\\\ -2&-2&2&-8&2 \\\\ 2&3&0&7&1 \\\\ 3&4&-1&11&-8 \\end{bmatrix} $ ~ $ \\cdots $ ~ $ \\begin{bmatrix} \\textbf{1}&0&-3&5&0 \\\\ 0&\\textbf{1}&2&-1&0 \\\\ 0&0&0&0&\\textbf{1} \\\\ 0&0&0&0&0 \\end{bmatrix} = E_{p}E_{p-1} \\cdots E_{2}E_{1} A = B $\n",
    "#### $ \\therefore \\{ \\textbf{a}_{1}, \\textbf{a}_{2}, \\textbf{a}_{5} \\} \\; $ is basis of col $ A $\n",
    "#### **(PLUS)** $ \\{ \\textbf{b}_{1}, \\textbf{b}_{2}, \\textbf{b}_{5} \\} \\; $는 행렬 $ \\; B $의 column space의 basis임(**행렬 $ \\; A $ 의 column space basis가 아님**)\n",
    "<b></b>"
   ]
  }
 ],
 "metadata": {
  "kernelspec": {
   "display_name": "Python 3",
   "language": "python",
   "name": "python3"
  },
  "language_info": {
   "codemirror_mode": {
    "name": "ipython",
    "version": 3
   },
   "file_extension": ".py",
   "mimetype": "text/x-python",
   "name": "python",
   "nbconvert_exporter": "python",
   "pygments_lexer": "ipython3",
   "version": "3.11.3"
  },
  "orig_nbformat": 4
 },
 "nbformat": 4,
 "nbformat_minor": 2
}
