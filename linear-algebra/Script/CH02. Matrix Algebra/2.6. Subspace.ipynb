{
 "cells": [
  {
   "attachments": {},
   "cell_type": "markdown",
   "metadata": {},
   "source": [
    "# CH2.6 **Subspace**"
   ]
  },
  {
   "cell_type": "markdown",
   "metadata": {},
   "source": [
    "> ## **Subspace Of $ \\mathbb{R}^{n} $**"
   ]
  },
  {
   "cell_type": "markdown",
   "metadata": {
    "vscode": {
     "languageId": "plaintext"
    }
   },
   "source": [
    "#### **(1) 정의** : 아래의 연산(조건)이 성립하는 집합 $ \\; H $를 $ \\; \\mathbb{R}^{n}$ 의 **부분 집합**이라고 정의\n",
    "#### $ when \\;\\, \\{ \\textbf{u}, \\textbf{v} \\} \\subset \\mathbb{R}^n \\; (n \\geq 2)\\;\\, and \\;\\, a \\in \\mathbb{R}^1 $\n",
    "#### &nbsp;&nbsp; ① $ \\textbf{0} \\in H $\n",
    "#### &nbsp;&nbsp; ② $ \\{ \\textbf{u}, \\textbf{v} \\} \\subset H, \\;\\; \\textbf{u}+\\textbf{v} \\in H $ \n",
    "#### &nbsp;&nbsp; ③ $ \\textbf{u} \\in H, \\;\\; c\\textbf{u} \\in H $"
   ]
  },
  {
   "cell_type": "markdown",
   "metadata": {},
   "source": [
    "#### **(PLUS)** ②, ③번에 대하여 스칼라곱(scalar multipication)과 벡터합(vector addition)에 **닫혀있다(closed)고** 표현하고, 이는 선형 결합 연산에 대해 성립하는 것과 같음"
   ]
  },
  {
   "cell_type": "markdown",
   "metadata": {},
   "source": [
    "#### **(2) 판별 방법**\n",
    "#### 벡터 $ \\; \\textbf{v}_{1} $ 와 벡터 $ \\; \\textbf{v}_{2} $ 가 $ \\; \\mathbb{R}^{n} $ 안에 있고, 벡터 집합 $ \\; H = \\; span\\{ \\textbf{v}_{1}, \\; \\textbf{v}_{2} \\} $ 로 정의될 때, 벡터 집합 $ \\; H $ 는 $ \\; \\mathbb{R}^{n} $의 부분 공간인가?\n",
    "#### $ 0 \\textbf{v}_{1} + 0 \\textbf{v}_{2} \\in H, $\n",
    "#### $ \\textbf{u} = s_{1} \\textbf{v}_{1} + t_{1} \\textbf{v}_{2} $\n",
    "#### $ \\textbf{v} = s_{2} \\textbf{v}_{1} + t_{2} \\textbf{v}_{2} $\n",
    "#### $ \\textbf{u} + \\textbf{v} = (s_{1}+t_{1}) \\textbf{v}_{1} + (s_{2}+t_{2}) \\textbf{v}_{2} \\in H, $ \n",
    "#### $ c \\textbf{u} = c(s_{1} \\textbf{v}_{1} + t_{1} \\textbf{v}_{2}) = c s_{1} \\textbf{v}_{1} + c t_{1} \\textbf{v}_{2} \\in H $\n",
    "#### $ \\therefore $ 조건 ①, ②, ③ 모두 만족하므로 집합 $ \\; H $는 $ \\; \\mathbb{R}^{n} $의 부분집합임\n",
    "<b></b>"
   ]
  },
  {
   "cell_type": "markdown",
   "metadata": {},
   "source": [
    "> ## **Column Space**"
   ]
  },
  {
   "cell_type": "markdown",
   "metadata": {},
   "source": [
    "#### **(1) 정의** : 특정 행렬의 열 벡터를 선형 결합한 집합 = 열 벡터들이 생성하는 공간 = col $ A $"
   ]
  },
  {
   "cell_type": "markdown",
   "metadata": {},
   "source": [
    "#### **(2) 형태**\n",
    "#### $ A = \\begin{bmatrix} \\textbf{a}_{1}&\\textbf{a}_{2}&\\cdots&\\textbf{a}_{n} \\end{bmatrix} $\n",
    "#### col $ A = span \\{ \\textbf{a}_{1}, \\textbf{a}_{2}, \\cdots, \\textbf{a}_{n} \\}$"
   ]
  },
  {
   "cell_type": "markdown",
   "metadata": {},
   "source": [
    "#### **(PLUS)** \n",
    "#### Is $ \\; \\textbf{b} $ in $ \\; col A $ ? \n",
    "#### = Does the following augmented matrix have a solution ? (consistent) $ \\begin{bmatrix} \\textbf{a}_1,\\, \\textbf{a}_2, \\cdots, \\textbf{a}_{n}, \\textbf{b} \\end{bmatrix} $\n",
    "<b></b>"
   ]
  },
  {
   "cell_type": "markdown",
   "metadata": {},
   "source": [
    "> ## **Null Space**"
   ]
  },
  {
   "cell_type": "markdown",
   "metadata": {},
   "source": [
    "#### **(1) 정의** : 동차선형시스템(homogeneneous equation; $ \\; A\\textbf{x} = 0 $)에서 모든 해의 집합 = Nul $ A $"
   ]
  },
  {
   "cell_type": "markdown",
   "metadata": {},
   "source": [
    "#### **(2) 형태**\n",
    "#### **[LATEX]**"
   ]
  },
  {
   "cell_type": "markdown",
   "metadata": {},
   "source": [
    "#### **(PLUS)** \n",
    "<b></b>"
   ]
  },
  {
   "cell_type": "markdown",
   "metadata": {},
   "source": [
    "> ## (Theorem 11)"
   ]
  },
  {
   "cell_type": "markdown",
   "metadata": {},
   "source": [
    "#### **(1) 정의**"
   ]
  },
  {
   "cell_type": "markdown",
   "metadata": {},
   "source": [
    "#### **(2)**\n",
    "<b></b>"
   ]
  },
  {
   "cell_type": "markdown",
   "metadata": {},
   "source": [
    "> ## **Basis for a Subspace**"
   ]
  },
  {
   "cell_type": "markdown",
   "metadata": {},
   "source": [
    "#### **(1) 정의**"
   ]
  },
  {
   "cell_type": "markdown",
   "metadata": {},
   "source": [
    "#### **(2)**\n",
    "<b></b>"
   ]
  },
  {
   "cell_type": "markdown",
   "metadata": {},
   "source": [
    "> ## (Theorem 12)"
   ]
  },
  {
   "cell_type": "markdown",
   "metadata": {},
   "source": [
    "#### **(1) 정의**"
   ]
  },
  {
   "cell_type": "markdown",
   "metadata": {},
   "source": [
    "#### **(2)**\n",
    "<b></b>"
   ]
  }
 ],
 "metadata": {
  "kernelspec": {
   "display_name": "Python 3",
   "language": "python",
   "name": "python3"
  },
  "language_info": {
   "codemirror_mode": {
    "name": "ipython",
    "version": 3
   },
   "file_extension": ".py",
   "mimetype": "text/x-python",
   "name": "python",
   "nbconvert_exporter": "python",
   "pygments_lexer": "ipython3",
   "version": "3.11.3"
  },
  "orig_nbformat": 4
 },
 "nbformat": 4,
 "nbformat_minor": 2
}
