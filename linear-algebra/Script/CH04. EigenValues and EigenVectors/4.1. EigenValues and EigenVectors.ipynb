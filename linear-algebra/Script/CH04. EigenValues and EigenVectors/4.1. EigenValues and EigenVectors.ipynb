{
 "cells": [
  {
   "attachments": {},
   "cell_type": "markdown",
   "metadata": {},
   "source": [
    "# CH4.1. **Eigen Values and Eigen Vectors**"
   ]
  },
  {
   "cell_type": "markdown",
   "metadata": {},
   "source": [
    "> ## **Eigen vector**"
   ]
  },
  {
   "cell_type": "markdown",
   "metadata": {},
   "source": [
    "#### **(1) 정의** :\n",
    "#### 행렬 $ \\; A $ 와 벡터 $ \\; x $ 그리고 스칼라 $ \\; \\lambda $가 존재할 때, $ \\; A \\textbf{x} = \\lambda \\textbf{x} $ 를 만족하는 $ \\; \\textbf{0} $이 아닌 vector $ \\; \\textbf{x} $"
   ]
  },
  {
   "cell_type": "markdown",
   "metadata": {},
   "source": [
    "#### **(PLUS)** 이 때 $ \\; \\lambda $ 를 eigen value라고 정의함"
   ]
  },
  {
   "cell_type": "markdown",
   "metadata": {},
   "source": [
    "#### **(2) 형태** :\n",
    "#### $ A = \\begin{bmatrix} 1&6 \\\\ 5&2 \\end{bmatrix}, \\; \\textbf{u} = \\begin{bmatrix} 6 \\\\ -5 \\end{bmatrix}, \\; \\textbf{v} = \\begin{bmatrix} 3 \\\\ -2 \\end{bmatrix} $\n",
    "#### $ A\\textbf{u} = \\begin{bmatrix} 1&6 \\\\ 5&2 \\end{bmatrix} \\begin{bmatrix} 6 \\\\ -5 \\end{bmatrix} = \\begin{bmatrix} -24 \\\\ 20 \\end{bmatrix} = 4 \\begin{bmatrix} 6 \\\\ -5 \\end{bmatrix} $ \n",
    "#### $ A\\textbf{v} = \\begin{bmatrix} 1&6 \\\\ 5&2 \\end{bmatrix} \\begin{bmatrix} 3 \\\\ -2 \\end{bmatrix} = \\begin{bmatrix} -9 \\\\ 11 \\end{bmatrix} \\neq \\lambda \\begin{bmatrix} 3 \\\\ -2 \\end{bmatrix} $ \n",
    "#### $ \\therefore \\textbf{u} $ is a eigen vector.\n",
    "<b></b>"
   ]
  },
  {
   "cell_type": "markdown",
   "metadata": {},
   "source": [
    "> ## **Eigen space**"
   ]
  },
  {
   "cell_type": "markdown",
   "metadata": {},
   "source": [
    "#### **(1) 정의** : \n",
    "#### 행렬 $ \\; A $ 와 벡터 $ \\; x $ 그리고 스칼라 $ \\; \\lambda $가 $ \\; A $ 의 eigen value일 때, $ \\; (A-\\lambda{}I)\\textbf{x} = 0 $를 만족하는 null space(nul $ A $)"
   ]
  },
  {
   "cell_type": "markdown",
   "metadata": {},
   "source": [
    "#### **(PLUS)** $ \\; \\lambda $ 가 $ \\; A $ 의 eigen value이면 homogeneous equation $ (A-\\lambda{}I)\\textbf{x} = 0 $는 무조건 nontrivial soltuin을 갖게됨"
   ]
  },
  {
   "cell_type": "markdown",
   "metadata": {},
   "source": [
    "#### **(PLUS)** eigen space는 egien vector와 zero vector를 포함함"
   ]
  },
  {
   "cell_type": "markdown",
   "metadata": {},
   "source": [
    "#### **(2) 형태** :\n",
    "#### $ A = \\begin{bmatrix} 1&6 \\\\ 5&2 \\end{bmatrix}, \\; \\lambda = 7 $일 때, eigen space를 구하면\n",
    "#### $ (A-\\lambda{}I)\\textbf{x} = (A-7I)\\textbf{x} = \\begin{bmatrix} 1-7&6 \\\\ 5&2-7 \\end{bmatrix} \\begin{bmatrix} x_{1} \\\\ x_{2} \\end{bmatrix} = \\begin{bmatrix} -6&6 \\\\ 5&-5 \\end{bmatrix} \\begin{bmatrix} x_{1} \\\\ x_{2} \\end{bmatrix} = 0 $\n",
    "#### $ \\begin{bmatrix} (A-7I)&\\textbf{0} \\end{bmatrix} = \\begin{bmatrix} -6&6&0 \\\\ 5&-5&0 \\end{bmatrix} $ ~ $ \\cdots $ ~ $ \\begin{bmatrix} -1&1&0 \\\\ 0&0&0 \\end{bmatrix} $\n",
    "#### $ \\therefore $ nul $ (A-7I) = \\textbf{x} = \\begin{bmatrix} x_{1} \\\\ x_{2} \\end{bmatrix} = \\begin{bmatrix} x_{2} \\\\ x_{2} \\end{bmatrix} = x_{2} \\begin{bmatrix} 1 \\\\ 1 \\end{bmatrix} = span(\\begin{bmatrix} 1 \\\\ 1 \\end{bmatrix}) = $ eigen space\n",
    "<b></b>"
   ]
  },
  {
   "cell_type": "markdown",
   "metadata": {},
   "source": [
    "#### **(PLUS)** Multiplication by $ \\; A $\n",
    "#### **[CONTENTS]**\n",
    "<b></b>"
   ]
  },
  {
   "cell_type": "markdown",
   "metadata": {},
   "source": [
    "> ## (Theorem1)"
   ]
  },
  {
   "cell_type": "markdown",
   "metadata": {},
   "source": [
    "#### triangular matrix의 diagonal term(entry)는 eigen values이다. "
   ]
  },
  {
   "cell_type": "markdown",
   "metadata": {},
   "source": [
    "#### **(WHY?)**\n",
    "#### (ⅰ) $ \\; A $ 가 upper triangular matrix인 경우\n",
    "#### $ A = \\begin{bmatrix} a_{11}&a_{12}&a_{13} \\\\ 0&a_{22}&a_{23} \\\\ 0&0&a_{33} \\end{bmatrix} $일 때, $ (A-\\lambda{}I) = 0 $ 이므로\n",
    "#### $ (A-\\lambda{}I) = \\begin{bmatrix} a_{11}-\\lambda{}&a_{12}&a_{13} \\\\ 0&a_{22}-\\lambda{}&a_{23} \\\\ 0&0&a_{33}-\\lambda{} \\end{bmatrix} = \\begin{bmatrix} 0 \\\\ 0 \\\\ 0 \\end{bmatrix} $\n",
    "#### $ \\begin{bmatrix} (A-\\lambda{}I)&0 \\end{bmatrix} $ 의 solution set이 free variable을 포함해야 하므로 pivot positon이 0이 되어야함 \n",
    "#### $ a_{11}-\\lambda{} = 0 \\; $ or $ \\; a_{22}-\\lambda{} = 0 \\; $ or $ \\; a_{33}-\\lambda{} = 0 $\n",
    "#### $ \\therefore \\lambda{} = a_{11} \\; $ or $ \\lambda{} = a_{22} \\; $ or $ \\; \\lambda{} = a_{33} $\n",
    "#### (ⅱ) $ \\; A $ 가 lower triangular matrix인 경우\n",
    "#### **[CONTENTS]**"
   ]
  },
  {
   "cell_type": "markdown",
   "metadata": {},
   "source": [
    "#### **(PLUS)** 특정 행렬의 eigen value가 0이면 그 행렬은 not invertible임"
   ]
  },
  {
   "cell_type": "markdown",
   "metadata": {},
   "source": [
    "#### **(WHY?)**\n",
    "#### $ \\lambda{} = 0 $ 이면, $ (A-\\lambda{}I)\\textbf{x} = A\\textbf{x} = \\textbf{0} \\; $ 인 homogeneous equation이 되고\n",
    "\n",
    "<b></b>"
   ]
  },
  {
   "cell_type": "markdown",
   "metadata": {},
   "source": [
    "> ## (Theorem2)"
   ]
  },
  {
   "cell_type": "markdown",
   "metadata": {},
   "source": [
    "#### **[CONENTS]**\n",
    "<b></b>"
   ]
  }
 ],
 "metadata": {
  "kernelspec": {
   "display_name": "Python 3",
   "language": "python",
   "name": "python3"
  },
  "language_info": {
   "codemirror_mode": {
    "name": "ipython",
    "version": 3
   },
   "file_extension": ".py",
   "mimetype": "text/x-python",
   "name": "python",
   "nbconvert_exporter": "python",
   "pygments_lexer": "ipython3",
   "version": "3.11.3"
  },
  "orig_nbformat": 4
 },
 "nbformat": 4,
 "nbformat_minor": 2
}
