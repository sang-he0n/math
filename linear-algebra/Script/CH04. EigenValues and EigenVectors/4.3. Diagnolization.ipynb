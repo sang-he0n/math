{
 "cells": [
  {
   "attachments": {},
   "cell_type": "markdown",
   "metadata": {},
   "source": [
    "# CH4.3. **Diagnolization**"
   ]
  },
  {
   "cell_type": "markdown",
   "metadata": {},
   "source": [
    "> ## **Diagnolization**"
   ]
  },
  {
   "cell_type": "markdown",
   "metadata": {},
   "source": [
    "#### **(1) 정의** : \n",
    "#### $ n \\times n $ 행렬 $ \\; A, \\; P \\; $ 및 대각행렬 $ \\; D $ 가 존재하고 $ \\; P $가 invertible할 때\n",
    "#### $ \\; A = PDP^{-1} $\n",
    "#### 이 때 행렬 $ \\; A $ 를 diagobalizable하다고 정의함"
   ]
  },
  {
   "cell_type": "markdown",
   "metadata": {},
   "source": [
    "#### **(PLUS)** 대각행렬 $ \\; D $의 k제곱 행렬은 diagonal entry의 k제곱과 같음\n",
    "#### $ D = \\begin{bmatrix} 1&0 \\\\ 0&3 \\end{bmatrix} $\n",
    "#### $ D^{2} = \\begin{bmatrix} 1&0 \\\\ 0&3 \\end{bmatrix} \\begin{bmatrix} 1&0 \\\\ 0&3 \\end{bmatrix} = \\begin{bmatrix} 1^{2}&0 \\\\ 0&3^{2} \\end{bmatrix} $\n",
    "#### $ D^{2} = \\begin{bmatrix} 1&0 \\\\ 0&3 \\end{bmatrix} \\begin{bmatrix} 1^{2}&0 \\\\ 0&3^{2} \\end{bmatrix} = \\begin{bmatrix} 1^{3}&0 \\\\ 0&3^{3} \\end{bmatrix} $\n",
    "#### $ \\cdots $\n",
    "#### $ D^{k} = \\begin{bmatrix} 1^{k}&0 \\\\ 0&3^{k} \\end{bmatrix} $"
   ]
  },
  {
   "cell_type": "markdown",
   "metadata": {},
   "source": [
    "#### **(2) 형태**\n",
    "#### 아래와 같이 $ \\; A^{k} $를 구하고자 할 때\n",
    "#### $ A = \\begin{bmatrix} 7&2 \\\\-4&1 \\end{bmatrix}, \\; D = \\begin{bmatrix} 5&0 \\\\ 0&3 \\end{bmatrix}, \\; P = \\begin{bmatrix} 1&1 \\\\ -1&-2 \\end{bmatrix} $\n",
    "#### $ A = PDP^{-1} $\n",
    "#### $ A^{2} = PDP^{-1}PDP^{-1} = PDDP^{-1} = PD^{2}P^{-1} = \\begin{bmatrix} 1&1 \\\\ -1&-2 \\end{bmatrix} \\begin{bmatrix} 5^{2}&0 \\\\ 0&3^{2} \\end{bmatrix} \\begin{bmatrix} 2&1 \\\\-1&-1 \\end{bmatrix} $ \n",
    "#### $ \\cdots $\n",
    "#### $ \\therefore \\; A^{k} = \\begin{bmatrix} 1&1 \\\\ -1&-2 \\end{bmatrix} \\begin{bmatrix} 5^{k}&0 \\\\ 0&3^{k} \\end{bmatrix} \\begin{bmatrix} 2&1 \\\\-1&-1 \\end{bmatrix} = \\begin{bmatrix} 2\\cdot{}5^{k}-3^{k}&5^{k}&5^{k}-3^{k} \\\\ 3^{k}&2\\cdot{}3^{k}-2\\cdot{}5^{k}&2\\cdot{}3^{k}-5^{k} \\end{bmatrix} $\n",
    "<b></b>"
   ]
  },
  {
   "cell_type": "markdown",
   "metadata": {},
   "source": [
    "> ## (Thorem 4) **The Diagonalization Theorem**"
   ]
  },
  {
   "cell_type": "markdown",
   "metadata": {},
   "source": [
    "#### $ n \\times n \\; $ 행렬 $ \\; A $가 diagobalizable하면"
   ]
  },
  {
   "cell_type": "markdown",
   "metadata": {},
   "source": [
    "#### **(1)** 행렬 $ \\; A $ 는 $ \\; n $ 개의 **linearly independent** eigen vector를 가짐"
   ]
  },
  {
   "cell_type": "markdown",
   "metadata": {},
   "source": [
    "#### **(2)** 행렬 $ \\; P $ 는 $ n $ 개의 **linearly independent** eigen vector로 이루어져 있음"
   ]
  },
  {
   "cell_type": "markdown",
   "metadata": {},
   "source": [
    "#### **(3)** 행렬 $ \\; D$ 의 diagnoal entry(term)은 eigen value로 이루어져 있음"
   ]
  },
  {
   "cell_type": "markdown",
   "metadata": {},
   "source": [
    "#### **(WHY?)** \n",
    "#### $ n \\times n \\; $ 행렬 $ \\; A $ 가 대각행렬 $ \\; D, \\; P $ 에 의해서 diagonalizable하다고 할 때\n",
    "#### $ A = PDP^{-1} $\n",
    "#### $ AP = PDP^{-1}P = PD $\n",
    "#### $ AP = A \\begin{bmatrix} \\textbf{x}_{1}&\\textbf{x}_{2}&\\cdots{}&\\textbf{x}_{n} \\end{bmatrix} = \\begin{bmatrix} A\\textbf{x}_{1}&A\\textbf{x}_{2}&\\cdots{}&A\\textbf{x}_{n} \\end{bmatrix} $\n",
    "#### $ PD = P \\begin{bmatrix} a_{1}&0&\\cdots{}&0 \\\\ 0&a_{2}&\\cdots{}&0 \\\\ \\cdots{}&\\cdots{}&\\cdots{}&\\cdots{} \\\\ 0&0&0&a_{n} \\end{bmatrix} = \\begin{bmatrix} \\textbf{x}_{1}&\\textbf{x}_{2}&\\cdots{}&\\textbf{x}_{n} \\end{bmatrix} \\begin{bmatrix} a_{1}&0&\\cdots{}&0 \\\\ 0&a_{2}&\\cdots{}&0 \\\\ \\cdots{}&\\cdots{}&\\cdots{}&\\cdots{} \\\\ 0&0&0&a_{n} \\end{bmatrix} = \\begin{bmatrix} a_{1}\\textbf{x}_{1}&a_{2}\\textbf{x}_{2}&\\cdots{}&a_{n}\\textbf{x}_{n} \\end{bmatrix} $\n",
    "#### $ \\begin{bmatrix} A\\textbf{x}_{1}&A\\textbf{x}_{2}&\\cdots{}&A\\textbf{x}_{n} \\end{bmatrix} = \\begin{bmatrix} a_{1}\\textbf{x}_{1}&a_{2}\\textbf{x}_{2}&\\cdots{}&a_{n}\\textbf{x}_{n} \\end{bmatrix} $\n",
    "#### $ \\; A\\textbf{v}_{i} = a_{i}\\textbf{v}_{i} $\n",
    "#### $ \\therefore \\textbf{x} $ 는 행렬 $ \\; A $ 의 eigen vector이고, $ \\; a_{i} $ 는 eigen value($ \\lambda{} $)임\n",
    "<b></b>"
   ]
  },
  {
   "cell_type": "markdown",
   "metadata": {},
   "source": [
    "> ## **Diagonalizaing Matrices**"
   ]
  },
  {
   "cell_type": "markdown",
   "metadata": {},
   "source": [
    "#### **(1) 정의** : 특정 행렬을 diagonalization하는 방법"
   ]
  },
  {
   "cell_type": "markdown",
   "metadata": {},
   "source": [
    "#### **(2) 연산 순서** :\n",
    "#### **[CONTENTS]**\n",
    "<b></b>"
   ]
  },
  {
   "cell_type": "markdown",
   "metadata": {},
   "source": [
    "> ## (Thorem 5)"
   ]
  },
  {
   "cell_type": "markdown",
   "metadata": {},
   "source": [
    "#### **[CONTENTS]**\n",
    "<b></b>"
   ]
  },
  {
   "cell_type": "markdown",
   "metadata": {},
   "source": [
    "> ## (Thorem 6)"
   ]
  },
  {
   "cell_type": "markdown",
   "metadata": {},
   "source": [
    "#### **[CONTENTS]**\n",
    "<b></b>"
   ]
  }
 ],
 "metadata": {
  "kernelspec": {
   "display_name": "Python 3",
   "language": "python",
   "name": "python3"
  },
  "language_info": {
   "codemirror_mode": {
    "name": "ipython",
    "version": 3
   },
   "file_extension": ".py",
   "mimetype": "text/x-python",
   "name": "python",
   "nbconvert_exporter": "python",
   "pygments_lexer": "ipython3",
   "version": "3.11.3"
  },
  "orig_nbformat": 4
 },
 "nbformat": 4,
 "nbformat_minor": 2
}
