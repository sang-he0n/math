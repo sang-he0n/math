{
 "cells": [
  {
   "attachments": {},
   "cell_type": "markdown",
   "metadata": {},
   "source": [
    "# CH4.2. **The Characteristic Equations**"
   ]
  },
  {
   "cell_type": "markdown",
   "metadata": {},
   "source": [
    "> ## **The Characteristic Equation (특성 방정식)**"
   ]
  },
  {
   "cell_type": "markdown",
   "metadata": {},
   "source": [
    "#### **(1)** 정의 : \n",
    "#### $ n \\times n $ 행렬 $ \\; A $에 대하여 eigen value를 구하는 식\n",
    "#### det $ ( A - \\lambda{}I) = 0$ "
   ]
  },
  {
   "cell_type": "markdown",
   "metadata": {},
   "source": [
    "#### **(2) 형태**\n",
    "#### $ A = \\begin{bmatrix} 2&3 \\\\ 3&-6 \\end{bmatrix} $\n",
    "#### det $ (A-\\lambda{}I) = $ det $ \\begin{bmatrix} 2-\\lambda{}&3 \\\\ 3&-6-\\lambda{} \\end{bmatrix} $\n",
    "#### $ (2-\\lambda{})(-6-\\lambda{})-9 = 0 $ \n",
    "#### $ \\lambda{}^{2}-2\\lambda{}+6\\lambda{}-12-9 = 0 $ \n",
    "#### $ \\lambda{}^{2}+4\\lambda{}-21 = 0 $\n",
    "#### $ (\\lambda{}-3)(\\lambda{}+7) = 0 $\n",
    "#### $ \\therefore \\; \\lambda{} = 3 $ or $ \\lambda{} = - 7 $ "
   ]
  },
  {
   "cell_type": "markdown",
   "metadata": {},
   "source": [
    "#### **(PLUS) Multiplicity (중복도)**\n",
    "#### $ n \\times n $ 행렬 $ \\; A $에 대하여 동일한 eigen value가 반복되는 횟수\n",
    "#### $ A = \\begin{bmatrix} 5&-2&6&-1 \\\\ 0&3&-8&0 \\\\ 0&0&5&4 \\\\ 0&0&0&1 \\end{bmatrix} $\n",
    "#### $ (A-\\lambda{}I) = \\begin{bmatrix} 5-\\lambda{}&-2&6&-1 \\\\ 0&3-\\lambda{}&-8&0 \\\\ 0&0&5-\\lambda{}&4 \\\\ 0&0&0&1-\\lambda{} \\end{bmatrix} $\n",
    "#### det $ (A-\\lambda{}I) = (5-\\lambda{})^{2}(3-\\lambda{})(1-\\lambda{}) = 0 $ \n",
    "#### $ \\therefore \\; \\lambda{} = 5 $ or $ \\lambda{} = 3 $ or $ \\lambda{} = 1 $ \n",
    "#### 위 식은 차수가 4인 특성방정식(4-th degree characteristic polinomial equation)이고,\n",
    "#### eigen value 5의 multiplicity는 2이고, eigen value 3 그리고 eigen value 1의 multiplicity는 1임\n",
    "<b></b>"
   ]
  },
  {
   "cell_type": "markdown",
   "metadata": {},
   "source": [
    "> ## **Similarity Transformation**"
   ]
  },
  {
   "cell_type": "markdown",
   "metadata": {},
   "source": [
    "#### **(1)** 정의 : \n",
    "#### $ n \\times n $ 행렬 $ \\; A, \\; B, \\; P $가 존재하고 $ \\; P $가 invertible할 때\n",
    "#### $ \\; A = PBP^{-1} $\n",
    "#### 이 때 행렬 $ \\; A $ 와 $ \\; B $ 는 similar하다고 정의함\n",
    "<b></b>"
   ]
  },
  {
   "cell_type": "markdown",
   "metadata": {},
   "source": [
    "#### **(2) 형태** :\n",
    "#### **[LATEX]**\n",
    "<b></b>"
   ]
  },
  {
   "cell_type": "markdown",
   "metadata": {},
   "source": [
    "> ## (Thorem 3)"
   ]
  },
  {
   "cell_type": "markdown",
   "metadata": {},
   "source": [
    "#### 행렬 $ \\; A, \\; B $ 가 similar할 때, 두 행렬은 같은 characteristic polynomial equation과 같은 eigen value를 갖는다."
   ]
  },
  {
   "cell_type": "markdown",
   "metadata": {},
   "source": [
    "#### **(WHY?)**\n",
    "#### $ B = PAP^{-1}, \\; A = P^{-1}BP $ \n",
    "#### $ (B-\\lambda{}) = (1-\\lambda{})P^{-1}BP = PAP^{-1}P^{-1}BP - \\lambda{}PAP^{-1}P^{-1}BP = P^{-1}(AP-\\lambda{}P) = P^{-1}(A-\\lambda{}I)P $\n",
    "#### det $ (B-\\lambda{}) = $ det $ P^{-1}(A-\\lambda{}I)P = $ det $ P^{-1} $ det $ (A-\\lambda{}I) $ det $ P = $ det $ ( P P^{-1} ) $ det $ (A-\\lambda{}I) = $ det $ (A-\\lambda{}I) $ \n",
    "#### $ \\therefore \\; $ det $ (B-\\lambda{}) = $ det $ (A-\\lambda{}I) $ "
   ]
  },
  {
   "cell_type": "markdown",
   "metadata": {},
   "source": [
    "#### **(PLUS)** Numerical Note\n",
    "#### **[CONTENTS]**"
   ]
  },
  {
   "cell_type": "markdown",
   "metadata": {},
   "source": [
    "#### **(PLUS) QR Algorithm** \n",
    "#### **[CONTENTS]**\n",
    "<b></b>"
   ]
  }
 ],
 "metadata": {
  "kernelspec": {
   "display_name": "Python 3",
   "language": "python",
   "name": "python3"
  },
  "language_info": {
   "codemirror_mode": {
    "name": "ipython",
    "version": 3
   },
   "file_extension": ".py",
   "mimetype": "text/x-python",
   "name": "python",
   "nbconvert_exporter": "python",
   "pygments_lexer": "ipython3",
   "version": "3.11.3"
  },
  "orig_nbformat": 4
 },
 "nbformat": 4,
 "nbformat_minor": 2
}
