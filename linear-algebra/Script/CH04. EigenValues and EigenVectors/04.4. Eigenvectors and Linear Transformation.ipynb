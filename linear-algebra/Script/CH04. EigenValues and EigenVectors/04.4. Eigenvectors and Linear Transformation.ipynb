{
 "cells": [
  {
   "attachments": {},
   "cell_type": "markdown",
   "metadata": {},
   "source": [
    "# CH04.4. **Eigenvectors and Linear Transformation**"
   ]
  },
  {
   "cell_type": "markdown",
   "metadata": {},
   "source": [
    "> ## **선형 변환의 행렬 표현(Matrix Representation of Linear Transformation)**"
   ]
  },
  {
   "cell_type": "markdown",
   "metadata": {},
   "source": [
    "#### **(1) 정의** : $ \\textbf{x} $ 의 좌표 벡터 $ \\, \\begin{bmatrix} \\textbf{x} \\end{bmatrix}_{\\mathcal{B}} $ 와 선형 변환 $ \\, T(\\textbf{x}) $ 의 좌표 벡터 $ \\, \\begin{bmatrix} T(\\textbf{x}) \\end{bmatrix}_{\\mathcal{C}} $ 의 관계를 파악하는 행렬로 표현하는 방법\n",
    "#### $ \\Rightarrow{} \\begin{bmatrix} T(\\textbf{x}) \\end{bmatrix}_{\\mathcal{C}} = M \\begin{bmatrix} \\textbf{x} \\end{bmatrix}_{\\mathcal{B}} = \\begin{bmatrix} \\begin{bmatrix} T(\\textbf{b}_{1}) \\end{bmatrix}_{\\mathcal{C}} & \\begin{bmatrix} T(\\textbf{b}_{2}) \\end{bmatrix}_{\\mathcal{C}} & \\cdots{} & \\begin{bmatrix} T(\\textbf{b}_{n}) \\end{bmatrix}_{\\mathcal{C}} \\end{bmatrix} \\begin{bmatrix} \\textbf{x} \\end{bmatrix}_{\\mathcal{B}} $ \n",
    "#### $ \\hspace{0.5cm} \\text{ where } \\, T : V(\\text{vector space}) \\rightarrow{} W(\\text{vector space}) $\n",
    "#### $ \\hspace{0.5cm} \\text{ and } \\, \\mathcal{B} \\, \\text{ is basis of } \\, V, \\mathcal{C} \\, \\text{ is basis of } \\, W. $ "
   ]
  },
  {
   "cell_type": "markdown",
   "metadata": {},
   "source": [
    "#### **(`WHY?`)**\n",
    "#### $ \\textbf{x} = r_{1} \\textbf{b}_{1} + r_{2} \\textbf{b}_{2} + \\cdots{} + r_{n} \\textbf{b}_{n}, \\;\\; \\text{ where } \\, \\mathcal{B} = \\{ \\textbf{b}_{1}, \\textbf{b}_{2}, \\cdots{}, \\textbf{b}_{n} \\} \\, \\text{ is basis of } \\, V $\n",
    "#### $ T(\\textbf{x}) = T(r_{1} \\textbf{b}_{1} + r_{2} \\textbf{b}_{2} + \\cdots{} + r_{n} \\textbf{b}_{n}) = r_{1} T(\\textbf{b}_{1}) + r_{2} T(\\textbf{b}_{2}) + \\cdots{} + r_{n} T(\\textbf{b}_{n}) $\n",
    "#### $ \\begin{bmatrix} T(\\textbf{x}) \\end{bmatrix}_{\\mathcal{C}} = \\begin{bmatrix} r_{1} T(\\textbf{b})_{1} + r_{2} T(\\textbf{b})_{2} + \\cdots{} + r_{n} T(\\textbf{b})_{n} \\end{bmatrix}_{\\mathcal{C}} $ \n",
    "#### $ \\hspace{1.3cm} = r_{1} \\begin{bmatrix} T(\\textbf{b}_{1}) \\end{bmatrix}_{\\mathcal{C}} + r_{2} \\begin{bmatrix} T(\\textbf{b}_{2}) \\end{bmatrix}_{\\mathcal{C}} + \\cdots{} + r_{n} \\begin{bmatrix} T(\\textbf{b}_{n}) \\end{bmatrix}_{\\mathcal{C}} \\;\\; $ ($ \\because{} $)\n",
    "#### $ \\hspace{1.3cm} = \\begin{bmatrix} \\begin{bmatrix} T(\\textbf{b}_{1}) \\end{bmatrix}_{\\mathcal{C}} & \\begin{bmatrix} T(\\textbf{b}_{2}) \\end{bmatrix}_{\\mathcal{C}} & \\cdots{} & \\begin{bmatrix} T(\\textbf{b}_{n}) \\end{bmatrix}_{\\mathcal{C}} \\end{bmatrix} \\begin{bmatrix} r_{1} \\\\ r_{2} \\\\ \\cdots{} \\\\ r_{n} \\end{bmatrix} $\n",
    "#### $ \\hspace{1.3cm} = \\begin{bmatrix} \\begin{bmatrix} T(\\textbf{b}_{1}) \\end{bmatrix}_{\\mathcal{C}} & \\begin{bmatrix} T(\\textbf{b}_{2}) \\end{bmatrix}_{\\mathcal{C}} & \\cdots{} & \\begin{bmatrix} T(\\textbf{b}_{n}) \\end{bmatrix}_{\\mathcal{C}} \\end{bmatrix} \\begin{bmatrix} \\textbf{x} \\end{bmatrix}_\\mathcal{B} = M \\begin{bmatrix} \\textbf{x} \\end{bmatrix}_\\mathcal{B} $\n",
    "#### $ \\therefore{} M = \\begin{bmatrix} \\begin{bmatrix} T(\\textbf{b}_{1}) \\end{bmatrix}_{\\mathcal{C}} & \\begin{bmatrix} T(\\textbf{b}_{2}) \\end{bmatrix}_{\\mathcal{C}} & \\cdots{} & \\begin{bmatrix} T(\\textbf{b}_{n}) \\end{bmatrix}_{\\mathcal{C}} \\end{bmatrix} $"
   ]
  },
  {
   "cell_type": "markdown",
   "metadata": {},
   "source": [
    "#### **(`PLUS`)** 이 때 행렬 $ \\, M $ 을 표현 행렬(representation matrix for $ \\, T \\, $ relative to $ \\, \\mathcal{B} \\, $ and $ \\, \\mathcal{C} $) 라고 정의함 "
   ]
  },
  {
   "cell_type": "markdown",
   "metadata": {},
   "source": [
    "#### **(2) 선형변환과 좌표 벡터 간 관계** :\n",
    "#### **[GRAPH]**"
   ]
  },
  {
   "cell_type": "markdown",
   "metadata": {},
   "source": [
    "#### **(3) 예시**\n",
    "#### $ \\hspace{0.15cm} $ ① 선형 변환 $ \\, T : V \\rightarrow{} W $ 에 대하여 표현행렬 $ \\, M $ 을 구하고자 할 때\n",
    "#### $ \\hspace{0.45cm} \\cdot{} \\mathcal{B} = \\{ \\textbf{b}_{1}, \\textbf{b}_{2} \\}, \\;\\; V = \\text{span}\\{\\mathcal{B}\\} $\n",
    "#### $ \\hspace{0.45cm} \\cdot{} \\mathcal{C} =  \\{ \\textbf{c}_{1}, \\textbf{c}_{2}, \\textbf{c}_{3} \\}, \\;\\; W = \\text{span}\\{\\mathcal{C}\\} $\n",
    "#### $ \\hspace{0.45cm} \\cdot{} T(\\textbf{b}_{1}) = 3\\textbf{c}_{1}-2\\textbf{c}_{2}+5\\textbf{c}_{3}, \\;\\; T(\\textbf{b}_{2}) = 4\\textbf{c}_{1}+7\\textbf{c}_{2}-1\\textbf{c}_{3} $\n",
    "#### $ \\hspace{0.45cm} \\cdot{} \\begin{bmatrix} T(\\textbf{b}_{1}) \\end{bmatrix}_{\\mathcal{C}} = \\begin{bmatrix} 3 \\\\ -2 \\\\ +5 \\end{bmatrix}, \\, \\begin{bmatrix} T(\\textbf{b}_{2}) \\end{bmatrix}_{\\mathcal{C}} = \\begin{bmatrix} 4 \\\\ 7 \\\\ -1 \\end{bmatrix}$\n",
    "#### $ \\hspace{0.45cm} \\therefore{} M = \\begin{bmatrix} \\begin{bmatrix} T(\\textbf{b}_{1})_{\\mathcal{C}} \\end{bmatrix}&\\begin{bmatrix} T(\\textbf{b}_{2})_{\\mathcal{C}} \\end{bmatrix} \\end{bmatrix} = \\begin{bmatrix} 3&4 \\\\ -2&7 \\\\ 5&-1 \\end{bmatrix} $\n",
    "#### $ \\hspace{0.15cm} $ ② **[CONTENTS]**"
   ]
  },
  {
   "cell_type": "markdown",
   "metadata": {},
   "source": [
    "#### **(`PLUS`) 같은 벡터 공간으로 선형 변환할 경우의 벡터 표현** : \n",
    "#### $ M = \\begin{bmatrix} \\begin{bmatrix} T(\\textbf{b}_{1}) \\end{bmatrix}_{\\mathcal{C}} & \\begin{bmatrix} T(\\textbf{b}_{2}) \\end{bmatrix}_{\\mathcal{C}} & \\cdots{} & \\begin{bmatrix} T(\\textbf{b}_{n}) \\end{bmatrix}_{\\mathcal{C}} \\end{bmatrix} $\n",
    "#### $ \\hspace{0.5cm} = \\begin{bmatrix} \\begin{bmatrix} T(\\textbf{b}_{1}) \\end{bmatrix}_{\\mathcal{B}} & \\begin{bmatrix} T(\\textbf{b}_{2}) \\end{bmatrix}_{\\mathcal{B}} & \\cdots{} & \\begin{bmatrix} T(\\textbf{b}_{n}) \\end{bmatrix}_{\\mathcal{B}} \\end{bmatrix} \\;\\; $ ($\\because{} \\, \\mathcal{B}=\\mathcal{C}$) \n",
    "#### $ \\hspace{0.5cm} = \\begin{bmatrix} T \\end{bmatrix}_{\\mathcal{B}} $\n",
    "#### $ \\Rightarrow{} \\begin{bmatrix} T(\\textbf{x}) \\end{bmatrix}_{\\mathcal{B}} = M \\begin{bmatrix} \\textbf{x} \\end{bmatrix}_{\\mathcal{B}} = \\begin{bmatrix} T \\end{bmatrix}_{\\mathcal{B}} \\begin{bmatrix} \\textbf{x} \\end{bmatrix}_{\\mathcal{B}} $"
   ]
  },
  {
   "cell_type": "markdown",
   "metadata": {},
   "source": [
    "<b></b>"
   ]
  },
  {
   "cell_type": "markdown",
   "metadata": {},
   "source": [
    "> ## **__(Similarity of Matrix Representations)**"
   ]
  },
  {
   "cell_type": "markdown",
   "metadata": {},
   "source": [
    "#### **(1) 정의** : $ n \\times{} n \\, $ 행렬 $ \\, A, \\, C $ 가 유사(similar)하다면, 즉 $ A = PCP^{-1} $ 이라면 $ \\, \\mathcal{B} $ - marix는 행렬 $ \\, C $ 가 됨\n",
    "#### $ \\Rightarrow{} $"
   ]
  },
  {
   "cell_type": "markdown",
   "metadata": {},
   "source": [
    "#### **(`WHY?`)**\n",
    "#### $ \\textbf{x} = r_{1} \\textbf{b}_{1} + r_{2} \\textbf{b}_{2} + \\cdots{} + r_{n} = P \\begin{bmatrix} \\textbf{x} \\end{bmatrix}_{\\mathcal{B}} \\; (\\because P = \\begin{bmatrix} \\textbf{b}_{1}&\\textbf{b}_{2}&\\cdots{}&\\textbf{b}_{n} \\end{bmatrix}$ ; CH4.2. $ ) $\n",
    "#### $ M = \\begin{bmatrix} T(\\textbf{x}) \\end{bmatrix}_{\\mathcal{B}} = \\begin{bmatrix} \\begin{bmatrix} T(\\textbf{b}_{1}) \\end{bmatrix}_{\\mathcal{B}} & \\begin{bmatrix} T(\\textbf{b}_{2}) \\end{bmatrix}_{\\mathcal{B}} & \\cdots{} & \\begin{bmatrix} T(\\textbf{b}_{n}) \\end{bmatrix}_{\\mathcal{B}} \\end{bmatrix} $\n",
    "#### $ = \\begin{bmatrix} \\begin{bmatrix} A\\textbf{b}_{1} \\end{bmatrix}_{\\mathcal{B}}&\\begin{bmatrix} A\\textbf{b}_{2} \\end{bmatrix}_{\\mathcal{B}}&\\cdots{}&\\begin{bmatrix} A\\textbf{b}_{n} \\end{bmatrix}_{\\mathcal{B}} \\end{bmatrix} \\; (\\because{} \\; T(\\textbf{x}) = A\\textbf{x}) $\n",
    "#### $ = \\begin{bmatrix} P^{-1}A\\textbf{b}_{1}&P^{-1}A\\textbf{b}_{2}&\\cdots{}&P^{-1}A\\textbf{b}_{n}\\end{bmatrix} \\; (\\because{} \\; \\begin{bmatrix} \\textbf{x} \\end{bmatrix}_{\\mathcal{B}} = P^{-1}\\textbf{x}) $\n",
    "#### $ = P^{-1}A \\begin{bmatrix} \\textbf{b}_{1}&\\textbf{b}_{2}&\\cdots{}&\\textbf{b}_{n} \\end{bmatrix} = P^{-1}AP $\n",
    "#### $ \\therefore \\; M = P^{-1}AP = C $"
   ]
  },
  {
   "cell_type": "markdown",
   "metadata": {},
   "source": [
    "#### **(2) 예시** :\n",
    "#### $ 2 $ 차원에서 $ \\; 2 $ 차원으로 맵핑하는 $ \\; T : V \\rightarrow V $ 에 대하여 $ \\; \\mathcal{B} = \\{ \\textbf{b}_{1}, \\textbf{b}_{2} \\} $  이고\n",
    "#### $ A = \\begin{bmatrix} 4&-9 \\\\ 4&-8 \\end{bmatrix}, \\; \\mathcal{B} = \\{ \\textbf{b}_{1}, \\textbf{b}_{2} \\} = \\{ \\begin{bmatrix} 3 \\\\ 2 \\end{bmatrix}, \\begin{bmatrix} 2 \\\\ 1 \\end{bmatrix} \\} $ 일 때\n",
    "#### $ P = \\begin{bmatrix} \\textbf{b}_{1} & \\textbf{b}_{2} \\end{bmatrix} = \\begin{bmatrix} 3&2 \\\\ 2&1 \\end{bmatrix}, \\; P^{-1} = \\begin{bmatrix} -1&2 \\\\ 2&-3 \\end{bmatrix} $\n",
    "#### $ M = \\begin{bmatrix} T(\\textbf{x}) \\end{bmatrix}_{\\mathcal{B}} = \\begin{bmatrix} \\begin{bmatrix} T(\\textbf{b}_{1}) \\end{bmatrix}_{\\mathcal{B}} & \\begin{bmatrix} T(\\textbf{b}_{2}) \\end{bmatrix}_{\\mathcal{B}} \\end{bmatrix} $\n",
    "#### $ = \\begin{bmatrix} A\\begin{bmatrix} \\textbf{b}_{1} \\end{bmatrix}_{\\mathcal{B}}&A\\begin{bmatrix} \\textbf{b}_{2} \\end{bmatrix}_{\\mathcal{B}} \\end{bmatrix} $\n",
    "#### $ = \\begin{bmatrix} P^{-1}A\\textbf{b}_{1}&P^{-1}A\\textbf{b}_{2} \\end{bmatrix} $\n",
    "#### $ = P^{-1}A \\begin{bmatrix} \\textbf{b}_{1} & \\textbf{b}_{2} \\end{bmatrix} $\n",
    "#### $ = P^{-1}AP $\n",
    "#### $ = \\begin{bmatrix} -1&2 \\\\ 2&-3 \\end{bmatrix} \\begin{bmatrix} 4&-9 \\\\ 4&-8 \\end{bmatrix} \\begin{bmatrix} 3&2 \\\\ 2&1 \\end{bmatrix} $\n",
    "#### $ = \\begin{bmatrix} -2&1 \\\\ 0&-2 \\end{bmatrix} $"
   ]
  },
  {
   "cell_type": "markdown",
   "metadata": {},
   "source": [
    "<b></b>"
   ]
  },
  {
   "cell_type": "markdown",
   "metadata": {},
   "source": [
    "> ## **(Theorem 4-7) Diagonal Matrix Representaition**"
   ]
  },
  {
   "cell_type": "markdown",
   "metadata": {},
   "source": [
    "#### **[CONTENTS]**\n",
    "#### $ \\Rightarrow{} \\begin{bmatrix} T(\\textbf{x}) \\end{bmatrix}_{\\mathcal{B}} = D \\;\\; \\text{ where } \\, A = PDP^{-1} (\\text{diagonalizable}) $\n",
    "#### $ \\hspace{2.85cm} \\text{and } \\, T(\\textbf{x}) = A\\textbf{x} $"
   ]
  },
  {
   "cell_type": "markdown",
   "metadata": {},
   "source": [
    "#### **(`WHY?`)**\n",
    "#### $ \\textbf{x} = r_{1} \\textbf{b}_{1} + r_{2} \\textbf{b}_{2} + \\cdots{} + r_{n} \\textbf{b}_{n} = P\\begin{bmatrix}\\textbf{x}\\end{bmatrix}_{\\mathcal{B}}, \\;\\; \\text{ where } \\, \\mathcal{B} = \\{ \\textbf{b}_{1}, \\textbf{b}_{2}, \\cdots{}, \\textbf{b}_{n} \\} \\, \\text{ is basis for } \\, \\mathbb{R}^{n} $\n",
    "#### $ \\begin{bmatrix}\\textbf{x}\\end{bmatrix}_{\\mathcal{B}} = \\begin{bmatrix} r_{1} \\\\ r_{2} \\\\ \\vdots{} \\\\ r_{n} \\end{bmatrix} = P^{-1}\\textbf{x} \\;\\; $ ($ \\because{} \\, P^{-1} \\, \\text{ is invertible}. $)\n",
    "#### $ T(\\textbf{x}) = T(r_{1} \\textbf{b}_{1} + r_{2} \\textbf{b}_{2} + \\cdots{} + r_{n} \\textbf{b}_{n}) = r_{1} T(\\textbf{b}_{1}) + r_{2} T(\\textbf{b}_{2}) + \\cdots{} + r_{n} T(\\textbf{b}_{n}) $\n",
    "#### $ \\begin{bmatrix} T(\\textbf{x}) \\end{bmatrix}_{\\mathcal{B}} = $"
   ]
  }
 ],
 "metadata": {
  "kernelspec": {
   "display_name": "Python 3",
   "language": "python",
   "name": "python3"
  },
  "language_info": {
   "codemirror_mode": {
    "name": "ipython",
    "version": 3
   },
   "file_extension": ".py",
   "mimetype": "text/x-python",
   "name": "python",
   "nbconvert_exporter": "python",
   "pygments_lexer": "ipython3",
   "version": "3.11.3"
  },
  "orig_nbformat": 4
 },
 "nbformat": 4,
 "nbformat_minor": 2
}
