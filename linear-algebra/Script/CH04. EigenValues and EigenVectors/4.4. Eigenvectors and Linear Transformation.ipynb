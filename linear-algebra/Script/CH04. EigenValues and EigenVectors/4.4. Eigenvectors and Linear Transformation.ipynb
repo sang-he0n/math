{
 "cells": [
  {
   "attachments": {},
   "cell_type": "markdown",
   "metadata": {},
   "source": [
    "# CH4.4. **Eigenvectors and Linear Transformation**"
   ]
  },
  {
   "cell_type": "markdown",
   "metadata": {},
   "source": [
    "> ## **The matrix of a Linear Transformation about Coordinate Vetor**"
   ]
  },
  {
   "cell_type": "markdown",
   "metadata": {},
   "source": [
    "#### **(1) 정의** :\n",
    "#### $ n $ 차원에서 $ \\; m $ 차원으로 맵핑하는 $ \\; T : V \\rightarrow W $ 에 대하여 vector $ \\; \\textbf{x} $ 가 $ \\; V $ 안에 존재할 때,\n",
    "#### $ \\textbf{x} $ 의 coordinate vector $ \\; \\begin{bmatrix} \\textbf{x} \\end{bmatrix}_{\\mathcal{B}} $와 $ \\; T(\\textbf{x}) $ 의 coordinate vector $ \\; \\begin{bmatrix} T(\\textbf{x}) \\end{bmatrix}_{\\mathcal{C}} $의 관계를 파악하는 행렬 $ \\; M $"
   ]
  },
  {
   "cell_type": "markdown",
   "metadata": {},
   "source": [
    "#### **(2) 관계도**\n",
    "#### **[GRAPH]**"
   ]
  },
  {
   "cell_type": "markdown",
   "metadata": {},
   "source": [
    "#### **(WHY?)**\n",
    "#### vector space $ \\; V $ 의 baisis $ \\; \\mathcal{B} = \\{ \\textbf{b}_{1}, \\textbf{b}_{2}, \\cdots{}, \\textbf{b}_{n} \\} $ 라면 \n",
    "#### $ \\textbf{x} = r_{1} \\textbf{b}_{1} + r_{2} \\textbf{b}_{2} + \\cdots{} + r_{n} \\textbf{b}_{n} $ ( $ \\because{} $ CH 2.6. basis for subspace )\n",
    "#### $ T(\\textbf{x}) = T(r_{1} \\textbf{b}_{1} + r_{2} \\textbf{b}_{2} + \\cdots{} + r_{n} \\textbf{b}_{n}) = r_{1} T(\\textbf{b})_{1} + r_{2} T(\\textbf{b})_{2} + \\cdots{} + r_{n} T(\\textbf{b})_{n} $\n",
    "#### $ \\begin{bmatrix} T(\\textbf{x}) \\end{bmatrix}_{\\mathcal{C}} = \\begin{bmatrix} r_{1} T(\\textbf{b})_{1} + r_{2} T(\\textbf{b})_{2} + \\cdots{} + r_{n} T(\\textbf{b})_{n} \\end{bmatrix}_{\\mathcal{C}} = r_{1} \\begin{bmatrix} T(\\textbf{b}_{1}) \\end{bmatrix}_{\\mathcal{C}} + r_{2} \\begin{bmatrix} T(\\textbf{b}_{2}) \\end{bmatrix}_{\\mathcal{C}} + \\cdots{} + r_{n} \\begin{bmatrix} T(\\textbf{b}_{n}) \\end{bmatrix}_{\\mathcal{C}} $\n",
    "#### $ = \\begin{bmatrix} \\begin{bmatrix} T(\\textbf{b}_{1}) \\end{bmatrix}_{\\mathcal{C}} & \\begin{bmatrix} T(\\textbf{b}_{2}) \\end{bmatrix}_{\\mathcal{C}} & \\cdots{} & \\begin{bmatrix} T(\\textbf{b}_{n}) \\end{bmatrix}_{\\mathcal{C}} \\end{bmatrix} \\begin{bmatrix} r_{1} \\\\ r_{2} \\\\ \\cdots{} \\\\ r_{n} \\end{bmatrix} = \\begin{bmatrix} \\begin{bmatrix} T(\\textbf{b}_{1}) \\end{bmatrix}_{\\mathcal{C}} & \\begin{bmatrix} T(\\textbf{b}_{2}) \\end{bmatrix}_{\\mathcal{C}} & \\cdots{} & \\begin{bmatrix} T(\\textbf{b}_{n}) \\end{bmatrix}_{\\mathcal{C}} \\end{bmatrix} \\begin{bmatrix} \\textbf{x} \\end{bmatrix}_\\mathcal{B} = M \\begin{bmatrix} \\textbf{x} \\end{bmatrix}_\\mathcal{B} $\n",
    "#### $ \\therefore \\; M = \\begin{bmatrix} \\begin{bmatrix} T(\\textbf{b}_{1}) \\end{bmatrix}_{\\mathcal{C}} & \\begin{bmatrix} T(\\textbf{b}_{2}) \\end{bmatrix}_{\\mathcal{C}} & \\cdots{} & \\begin{bmatrix} T(\\textbf{b}_{n}) \\end{bmatrix}_{\\mathcal{C}} \\end{bmatrix} $"
   ]
  },
  {
   "cell_type": "markdown",
   "metadata": {},
   "source": [
    "#### **(PLUS)** 이 때 행렬 $ \\; M $ 을 matrix for $ \\; T $ relative to $ \\; \\mathcal{B} $ and $ \\; \\mathcal{C} \\; $ 라고 정의함 "
   ]
  },
  {
   "cell_type": "markdown",
   "metadata": {},
   "source": [
    "#### **(3) 형태**\n",
    "#### $ 2 $ 차원에서 $ \\; 3 $ 차원으로 맵핑하는 $ \\; T : V \\rightarrow W $ 에 대하여 $ \\; \\mathcal{B} = \\{ \\textbf{b}_{1}, \\textbf{b}_{2} \\}, \\; \\mathcal{C} =  \\{ \\textbf{c}_{1}, \\textbf{c}_{2}, \\textbf{c}_{3} \\} \\; $ 이고\n",
    "#### $ T(\\textbf{b}_{1}) = 3\\textbf{c}_{1}-2\\textbf{c}_{2}+5\\textbf{c}_{3}, \\; T(\\textbf{b}_{2}) = 4\\textbf{c}_{1}+7\\textbf{c}_{2}-1\\textbf{c}_{3} \\; $ 일 때\n",
    "#### $ \\begin{bmatrix} T(\\textbf{b}_{1}) \\end{bmatrix}_{\\mathcal{C}} = \\begin{bmatrix} 3 \\\\ -2 \\\\ +5 \\end{bmatrix}, \\; \\begin{bmatrix} T(\\textbf{b}_{2}) \\end{bmatrix}_{\\mathcal{C}} = \\begin{bmatrix} 4 \\\\ 7 \\\\ -1 \\end{bmatrix}$\n",
    "#### $ M = \\begin{bmatrix} \\begin{bmatrix} T(\\textbf{b}_{1})_{\\mathcal{C}} \\end{bmatrix}&\\begin{bmatrix} T(\\textbf{b}_{2})_{\\mathcal{C}} \\end{bmatrix} \\end{bmatrix} = \\begin{bmatrix} 3&4 \\\\ -2&7 \\\\ 5&-1 \\end{bmatrix} $\n",
    "<b></b>"
   ]
  },
  {
   "cell_type": "markdown",
   "metadata": {},
   "source": [
    "#### **(PLUS) Linear transformation from V into V** (same dimension)"
   ]
  },
  {
   "cell_type": "markdown",
   "metadata": {},
   "source": [
    "#### $ M = \\begin{bmatrix} \\begin{bmatrix} T(\\textbf{b}_{1}) \\end{bmatrix}_{\\mathcal{C}} & \\begin{bmatrix} T(\\textbf{b}_{2}) \\end{bmatrix}_{\\mathcal{C}} & \\cdots{} & \\begin{bmatrix} T(\\textbf{b}_{n}) \\end{bmatrix}_{\\mathcal{C}} \\end{bmatrix} $\n",
    "#### $ = \\begin{bmatrix} \\begin{bmatrix} T(\\textbf{b}_{1}) \\end{bmatrix}_{\\mathcal{B}} & \\begin{bmatrix} T(\\textbf{b}_{2}) \\end{bmatrix}_{\\mathcal{B}} & \\cdots{} & \\begin{bmatrix} T(\\textbf{b}_{n}) \\end{bmatrix}_{\\mathcal{B}} \\end{bmatrix} \\; (\\because \\mathcal{B}=\\mathcal{C})$\n",
    "#### $ = \\begin{bmatrix} T \\end{bmatrix}_{\\mathcal{B}} $"
   ]
  },
  {
   "cell_type": "markdown",
   "metadata": {},
   "source": [
    "#### **(PLUS)** 이 때 행렬 $ \\; M $ 을 $ \\; \\mathcal{B} $ - marix for $ \\; T $ 라고 정의함\n",
    "<b></b>"
   ]
  },
  {
   "cell_type": "markdown",
   "metadata": {},
   "source": [
    "> ## **(Theorem 7) Diagonal Matrix Representaition**"
   ]
  },
  {
   "cell_type": "markdown",
   "metadata": {},
   "source": [
    "#### $ n \\times n \\; $ 행렬 $ \\; A $ 가 diagonalization이 가능하고 $ ( A = PDP^{-1} ) $, $ \\; P $ 가 $ \\; \\mathbb{R}^{n} \\; $ space의 basis $ \\; \\mathcal{B} = \\{ \\textbf{b}_{1}, \\textbf{b}_{2}, \\cdots{}, \\textbf{b}_{n} \\} $ 로 구성될 경우\n",
    "#### 행렬 $ \\; D $ 는 $ \\; \\mathcal{B} $ - matrix for $ \\; T (\\textbf{x} \\longmapsto A\\textbf{x} ; \\mathbb{R}^{n} \\rightarrow \\mathbb{R}^{n} ) $ 이다."
   ]
  },
  {
   "cell_type": "markdown",
   "metadata": {},
   "source": [
    "#### **(WHY?)**\n",
    "#### $ M = \\begin{bmatrix} \\begin{bmatrix} T(\\textbf{b}_{1}) \\end{bmatrix}_{\\mathcal{C}} & \\begin{bmatrix} T(\\textbf{b}_{2}) \\end{bmatrix}_{\\mathcal{C}} & \\cdots{} & \\begin{bmatrix} T(\\textbf{b}_{n}) \\end{bmatrix}_{\\mathcal{C}} \\end{bmatrix} $\n",
    "#### $ \\textbf{x} = r_{1} \\textbf{b}_{1} + r_{2} \\textbf{b}_{2} + \\cdots{} + r_{n} = P \\begin{bmatrix} \\textbf{x} \\end{bmatrix}_{\\mathcal{B}} \\; (\\because P = \\begin{bmatrix} \\textbf{b}_{1}&\\textbf{b}_{2}&\\cdots{}&\\textbf{b}_{n} \\end{bmatrix})$ \n",
    "#### $ \\begin{bmatrix} T(\\textbf{x}) \\end{bmatrix}_{\\mathcal{B}} = \\begin{bmatrix} \\begin{bmatrix} A\\textbf{b}_{1} \\end{bmatrix}_{\\mathcal{B}}&\\begin{bmatrix} A\\textbf{b}_{2} \\end{bmatrix}_{\\mathcal{B}}&\\cdots{}&\\begin{bmatrix} A\\textbf{b}_{n} \\end{bmatrix}_{\\mathcal{B}} \\end{bmatrix} $\n",
    "#### $ = \\begin{bmatrix} P^{-1}A\\textbf{b}_{1}&P^{-1}A\\textbf{b}_{2}&\\cdots{}&P^{-1}A\\textbf{b}_{n}\\end{bmatrix} \\; (\\because{} \\; \\begin{bmatrix} \\textbf{x} \\end{bmatrix}_{\\mathcal{B}} = P^{-1}\\textbf{x}) $\n",
    "#### $ = P^{-1}A \\begin{bmatrix} \\textbf{b}_{1}&\\textbf{b}_{2}&\\cdots{}&\\textbf{b}_{n} \\end{bmatrix} = P^{-1}AP $\n",
    "#### $ \\therefore \\; M = P^{-1}AP = D $\n",
    "<b></b>"
   ]
  },
  {
   "cell_type": "markdown",
   "metadata": {},
   "source": [
    "> ## **Similarity of Matrix Representations**"
   ]
  },
  {
   "cell_type": "markdown",
   "metadata": {},
   "source": [
    "#### **[CONTENTS]**\n",
    "<b></b>"
   ]
  }
 ],
 "metadata": {
  "kernelspec": {
   "display_name": "Python 3",
   "language": "python",
   "name": "python3"
  },
  "language_info": {
   "codemirror_mode": {
    "name": "ipython",
    "version": 3
   },
   "file_extension": ".py",
   "mimetype": "text/x-python",
   "name": "python",
   "nbconvert_exporter": "python",
   "pygments_lexer": "ipython3",
   "version": "3.11.3"
  },
  "orig_nbformat": 4
 },
 "nbformat": 4,
 "nbformat_minor": 2
}
