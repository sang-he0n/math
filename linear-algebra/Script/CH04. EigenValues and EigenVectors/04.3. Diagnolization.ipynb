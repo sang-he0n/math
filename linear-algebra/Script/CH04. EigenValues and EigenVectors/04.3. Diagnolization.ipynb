{
 "cells": [
  {
   "attachments": {},
   "cell_type": "markdown",
   "metadata": {},
   "source": [
    "# CH04.3. **Diagnolization**"
   ]
  },
  {
   "cell_type": "markdown",
   "metadata": {},
   "source": [
    "> ## **대각화(Diagnolization)**"
   ]
  },
  {
   "cell_type": "markdown",
   "metadata": {},
   "source": [
    "#### **(1) 정의** : 정방 행렬 $ \\, A, \\, P, \\, P^{-1} $ 와 대각 행렬 $ \\, D $ 가 존재할 때 아래를 만족하는 행렬 $ \\, A,\\, D $ 사이의 관계\n",
    "#### $ \\Rightarrow{} A = PDP^{-1} $"
   ]
  },
  {
   "cell_type": "markdown",
   "metadata": {},
   "source": [
    "#### **(`PLUS`)** 대각 행렬 $ \\, D $ 의 $ \\, k $ 제곱 행렬은 대각 성분(diagonal entry)의 $ \\, k $ 제곱과 같음\n",
    "#### $ D = \\begin{bmatrix} 1&0 \\\\ 0&3 \\end{bmatrix}, \\;\\; D^{2} = \\begin{bmatrix} 1&0 \\\\ 0&3 \\end{bmatrix} \\begin{bmatrix} 1&0 \\\\ 0&3 \\end{bmatrix} = \\begin{bmatrix} 1^{2}&0 \\\\ 0&3^{2} \\end{bmatrix}, \\;\\; \\cdots{} $\n",
    "#### $ \\Rightarrow{} D^{k} = \\begin{bmatrix} 1^{k}&0 \\\\ 0&3^{k} \\end{bmatrix} $"
   ]
  },
  {
   "cell_type": "markdown",
   "metadata": {},
   "source": [
    "#### **(2) 예시** :\n",
    "#### $ \\hspace{0.15cm} $ ① 정방 행렬 $ \\, A^{k} $ 를 구하고자 할 때\n",
    "#### $ \\hspace{0.45cm} A = \\begin{bmatrix} 7&2 \\\\-4&1 \\end{bmatrix}, \\, D = \\begin{bmatrix} 5&0 \\\\ 0&3 \\end{bmatrix}, \\, P = \\begin{bmatrix} 1&1 \\\\ -1&-2 \\end{bmatrix} $\n",
    "#### $ \\hspace{0.45cm} A = PDP^{-1} $\n",
    "#### $ \\hspace{0.45cm} A^{2} = PDP^{-1}PDP^{-1} = PDDP^{-1} = PD^{2}P^{-1} = \\begin{bmatrix} 1&1 \\\\ -1&-2 \\end{bmatrix} \\begin{bmatrix} 5^{2}&0 \\\\ 0&3^{2} \\end{bmatrix} \\begin{bmatrix} 2&1 \\\\-1&-1 \\end{bmatrix} $ \n",
    "#### $ \\hspace{0.45cm} \\cdots{} $\n",
    "#### $ \\hspace{0.45cm} \\therefore{} A^{k} = \\begin{bmatrix} 1&1 \\\\ -1&-2 \\end{bmatrix} \\begin{bmatrix} 5^{k}&0 \\\\ 0&3^{k} \\end{bmatrix} \\begin{bmatrix} 2&1 \\\\-1&-1 \\end{bmatrix} = \\begin{bmatrix} 2\\cdot{}5^{k}-3^{k}&5^{k}&5^{k}-3^{k} \\\\ 3^{k}&2\\cdot{}3^{k}-2\\cdot{}5^{k}&2\\cdot{}3^{k}-5^{k} \\end{bmatrix} $\n",
    "#### $ \\hspace{0.15cm} $ ② **[CONTENTS]** "
   ]
  },
  {
   "cell_type": "markdown",
   "metadata": {},
   "source": [
    "<b></b>"
   ]
  },
  {
   "cell_type": "markdown",
   "metadata": {},
   "source": [
    "> ## (Thorem 4-4) **The Diagonalization Theorem**"
   ]
  },
  {
   "cell_type": "markdown",
   "metadata": {},
   "source": [
    "#### 정방 행렬 $ \\, A $ 가 대각화 가능(diagobalizable)하면, $ \\, A = PDP^{-1} $ 라면\n",
    "#### **(1)** 행렬 $ \\, A $ 는 $ \\, n $ 개의 선형 독립(linearly independent)인 고유 벡터 집합을 갖는다.\n",
    "#### **(2)** 행렬 $ \\, P $ 의 열벡터는 $ A $ 의 선형 독립인 고유 벡터로 이루어져 있다.\n",
    "#### **(3)** 행렬 $ \\, D $ 의 대각 성분(diagnoal entry)은 $ \\, A $ 의 고유값(eigen value)으로 이루어져 있다"
   ]
  },
  {
   "cell_type": "markdown",
   "metadata": {},
   "source": [
    "#### **(`WHY?`)** \n",
    "#### $ n \\times{} n \\, $ 행렬 $ \\, A $ 가 대각행렬 $ \\, D, \\, P $ 에 의해서 대각화 가능(diagonalizable)하다고 할 때\n",
    "#### $ A = PDP^{-1}, \\;\\; AP = PDP^{-1}P = PD $\n",
    "#### $ AP = A \\begin{bmatrix} \\textbf{p}_{1}&\\textbf{p}_{2}&\\cdots{}&\\textbf{p}_{n} \\end{bmatrix} = \\begin{bmatrix} A\\textbf{p}_{1}&A\\textbf{p}_{2}&\\cdots{}&A\\textbf{p}_{n} \\end{bmatrix} $\n",
    "#### $ PD = P \\begin{bmatrix} d_{1,1}&0&\\cdots{}&0 \\\\ 0&d_{2,2}&\\cdots{}&0 \\\\ \\cdots{}&\\cdots{}&\\cdots{}&\\cdots{} \\\\ 0&0&0&d_{n,n} \\end{bmatrix} = \\begin{bmatrix} \\textbf{p}_{1}&\\textbf{p}_{2}&\\cdots{}&\\textbf{p}_{n} \\end{bmatrix} \\begin{bmatrix} d_{1,1}&0&\\cdots{}&0 \\\\ 0&d_{2,2}&\\cdots{}&0 \\\\ \\cdots{}&\\cdots{}&\\cdots{}&\\cdots{} \\\\ 0&0&0&d_{n,n} \\end{bmatrix} $\n",
    "#### $ \\hspace{0.75cm} = \\begin{bmatrix} d_{1,1}\\textbf{p}_{1}&d_{2,2}\\textbf{p}_{2}&\\cdots{}&d_{n,n}\\textbf{p}_{n} \\end{bmatrix} $\n",
    "#### $ \\begin{bmatrix} A\\textbf{p}_{1}&A\\textbf{p}_{2}&\\cdots{}&A\\textbf{p}_{n} \\end{bmatrix} = \\begin{bmatrix} d_{1,1}\\textbf{p}_{1}&d_{2,2}\\textbf{p}_{2}&\\cdots{}&d_{n,n}\\textbf{p}_{n} \\end{bmatrix} $\n",
    "#### $ \\, A\\textbf{p}_{i} = d_{i,i}\\textbf{p}_{i} $\n",
    "#### $ \\therefore{} \\textbf{p} \\, \\text{ is eigen vector of } \\, A, \\;\\; d_{i,i} \\, \\text{ is eigen value}(\\lambda{}) \\, \\text{ of } \\, A. $"
   ]
  },
  {
   "cell_type": "markdown",
   "metadata": {},
   "source": [
    "#### **(`PLUS`)** 단 고유값(egien value)은 **유일하지 않음**"
   ]
  },
  {
   "cell_type": "markdown",
   "metadata": {},
   "source": [
    "#### **(`PLUS`) 대각화 가능의 의미** :\n",
    "#### $ \\cdot{} n\\times{} n \\, $ 행렬 $ \\, A = PDP^{-1} $ 로 표현 가능함\n",
    "#### $ \\cdot{} $ 행렬 $ \\, P $ 의 열 벡터들은 $ \\, \\mathbb{R}^{n} $ 차원을 **선형 생성(span)하며, 기저(basis)임**"
   ]
  },
  {
   "cell_type": "markdown",
   "metadata": {},
   "source": [
    "<b></b>"
   ]
  },
  {
   "cell_type": "markdown",
   "metadata": {},
   "source": [
    "> ## **행렬 대각화(Diagonalizaing Matrices)**"
   ]
  },
  {
   "cell_type": "markdown",
   "metadata": {},
   "source": [
    "#### **(1) 정의** : 특정 행렬을 대각화(diagonalization)하는 방법"
   ]
  },
  {
   "cell_type": "markdown",
   "metadata": {},
   "source": [
    "#### **(2) 판별(연산) 방법** : \n",
    "#### $ \\hspace{0.15cm} $ ① $ n \\times{} n \\, $ 행렬 $ \\, A $ 가 존재할 때, 특성방정식을 통해 고유값을 구함\n",
    "#### $ \\hspace{0.45cm} \\cdot{} A = \\begin{bmatrix} 1&3&3 \\\\ -3&-5&-3 \\\\ 3&3&1 \\end{bmatrix}, \\;\\; (A-\\lambda{}I) = \\begin{bmatrix} 1-\\lambda{}&3&3 \\\\ -3&-5-\\lambda{}&-3 \\\\ 3&3&1-\\lambda{} \\end{bmatrix} $ \n",
    "#### $ \\hspace{0.45cm} \\cdot{} \\det{}((A-\\lambda{}I)) = \\det{}(\\begin{bmatrix} 1-\\lambda{}&3&3 \\\\ -3&-5-\\lambda{}&-3 \\\\ 3&3&1-\\lambda{} \\end{bmatrix}) $\n",
    "#### $ \\hspace{2.875cm} = \\det{}(\\begin{bmatrix} 1-\\lambda{}&3&3 \\\\ -3&-5-\\lambda{}&-3 \\\\ 0&-2-\\lambda{}&-2-\\lambda{} \\end{bmatrix}) \\;\\; $ ($ \\because{} \\, $ Theorem 3-3)\n",
    "#### $ \\hspace{2.875cm} = a_{3,1} \\cdot{} C_{3,1} + a_{3,2} \\cdot{} C_{3,2} + a_{3,3} \\cdot{} C_{3,3} $\n",
    "#### $ \\hspace{2.875cm} = 0 \\cdot{} \\det{}(A_{3,1}) - a_{3,2} \\cdot{} \\det{}(A_{3,2}) + a_{3,3} \\cdot{} \\det{}(A_{3,3}) $\n",
    "#### $ \\hspace{2.875cm} = - (-2-\\lambda{}) \\cdot{} \\det{}(\\begin{bmatrix} 1-\\lambda{}&3 \\\\ -3&-3 \\end{bmatrix}) + (-2-\\lambda{}) \\cdot{} \\det{}(\\begin{bmatrix} 1-\\lambda{}&3 \\\\ -3&-5-\\lambda{} \\end{bmatrix}) $\n",
    "#### $ \\hspace{2.875cm} = -(-2-\\lambda{})(3\\lambda{}+6) + (-2-\\lambda{})(\\lambda{}^{2}+4\\lambda{}+4) $\n",
    "#### $ \\hspace{2.875cm} = -(-2-\\lambda{})(-\\lambda{}^{2}-\\lambda{}+2) $\n",
    "#### $ \\hspace{2.875cm} = -(\\lambda{}-1)(\\lambda{}+2)^{2} = 0 $\n",
    "#### $ \\hspace{0.45cm} \\Rightarrow{} \\lambda{} = 1 (\\text{multiplicity} = 1 ) \\, \\text{ or } \\, \\lambda{} = -2(\\text{multiplicity} = 2 ) $\n",
    "#### $ \\hspace{0.15cm} $ ② 행렬 $ \\, A $ 의 고유값에 대응되는 고유 공간을 찾음\n",
    "#### $ \\hspace{0.45cm} \\cdot{} \\lambda{} = 1, \\;\\; (A - \\lambda{}I) = (A - I) = \\begin{bmatrix} 0&3&3 \\\\ -3&-6&-3 \\\\ 3&3&0 \\end{bmatrix} $ \n",
    "#### $ \\hspace{0.6cm} \\begin{bmatrix} A-I&0 \\end{bmatrix} = \\begin{bmatrix} 0&3&3&0 \\\\ -3&-6&-3&0 \\\\ 3&3&0&0 \\end{bmatrix} $ ~ $ \\begin{bmatrix} 1&0&-1&0 \\\\ 0&1&1&0 \\\\0&0&0&0 \\end{bmatrix} $\n",
    "#### $ \\hspace{0.6cm} \\text{Nul}(A-I) = \\textbf{x} = x_{3} \\begin{bmatrix} 1 \\\\ -1 \\\\ 1 \\end{bmatrix} = \\text{span} \\{ \\begin{bmatrix} 1 \\\\ -1 \\\\ 1 \\end{bmatrix} \\} $\n",
    "#### $ \\hspace{0.45cm} \\cdot{} \\lambda{} = -2, \\;\\; (A - \\lambda{}I) = (A + 2I) = \\begin{bmatrix} 3&3&3 \\\\ -3&-3&-3 \\\\ 3&3&3 \\end{bmatrix} $\n",
    "#### $ \\hspace{0.6cm} \\begin{bmatrix} A+2I&0 \\end{bmatrix} = \\begin{bmatrix} 3&3&3&0 \\\\ -3&-3&-3&0 \\\\ 3&3&3&0 \\end{bmatrix} $ ~ $ \\cdots{} $ ~ $ \\begin{bmatrix} 1&1&1&0 \\\\ 0&0&0&0 \\\\0&0&0&0 \\end{bmatrix} $\n",
    "#### $ \\hspace{0.6cm} \\text{Nul}(A+2I) = \\textbf{x} = x_{2} \\begin{bmatrix} -1 \\\\ 1 \\\\ 0 \\end{bmatrix} + x_{3} \\begin{bmatrix} -1 \\\\ 0 \\\\ 1 \\end{bmatrix} = \\text{span} \\{ \\begin{bmatrix} -1 \\\\ 1 \\\\ 0 \\end{bmatrix}, \\begin{bmatrix} -1 \\\\ 0 \\\\ 1 \\end{bmatrix} \\} $\n",
    "#### $ \\hspace{0.45cm} \\cdot{} \\text{Nul}(A-\\lambda{}I) = \\begin{cases} \\text{span} \\{ \\begin{bmatrix} 1 \\\\ -1 \\\\ 1 \\end{bmatrix} \\}, \\;\\;\\;\\;\\;\\;\\;\\;\\;\\;\\;\\;\\; \\lambda{} = 1 \\\\ \\\\  \\text{span} \\{ \\begin{bmatrix} -1 \\\\ 1 \\\\ 0 \\end{bmatrix}, \\begin{bmatrix} -1 \\\\ 0 \\\\ 1 \\end{bmatrix} \\}, \\;\\; \\lambda{} = - 2 \\end{cases} $\n",
    "#### $ \\hspace{0.45cm} \\therefore{} \\text{eigen vector set} = \\{ \\begin{bmatrix} 1 \\\\ -1 \\\\ 1 \\end{bmatrix}, \\begin{bmatrix} -1 \\\\ 1 \\\\ 0 \\end{bmatrix}, \\begin{bmatrix} -1 \\\\ 0 \\\\ 1 \\end{bmatrix}\\} $\n",
    "#### $ \\hspace{0.15cm} $ ③ 고유 벡터의 개수가 $ \\, n $ 개 이상이라면 대각화가 가능하나, 이하라면 **대각화가 불가함**\n",
    "#### $ \\hspace{0.15cm} $ ④ 고유값과 고유벡터를 이용하여 행렬 $ \\, P, \\, D $ 를 정의함\n",
    "#### $ \\hspace{0.45cm} \\cdot{} P = \\begin{bmatrix} 1&-1&-1 \\\\ -1&1&0 \\\\ 1&0&1 \\end{bmatrix} $\n",
    "#### $ \\hspace{0.45cm} \\cdot{} D = \\begin{bmatrix} 1&0&0 \\\\ 0&-2&0 \\\\ 0&0&-2 \\end{bmatrix} $\n",
    "#### $ \\hspace{0.45cm} \\therefore{} A = \\begin{bmatrix} 1&-1&-1 \\\\ -1&1&0 \\\\ 1&0&1 \\end{bmatrix} \\begin{bmatrix} 1&0&0 \\\\ 0&-2&0 \\\\ 0&0&-2 \\end{bmatrix} \\begin{bmatrix} 1&-1&-1 \\\\ -1&1&0 \\\\ 1&0&1 \\end{bmatrix}^{-1} = A = PDP^{-1} $"
   ]
  },
  {
   "cell_type": "markdown",
   "metadata": {},
   "source": [
    "#### **(`PLUS`)** 행렬 $ \\, P $ 에서 고유 벡터의 열 위치(순서)는 대각 행렬 $ \\, D $ 의 대각 성분, 고유값과 대응되게 정의해야함"
   ]
  },
  {
   "cell_type": "markdown",
   "metadata": {},
   "source": [
    "<b></b>"
   ]
  },
  {
   "cell_type": "markdown",
   "metadata": {},
   "source": [
    "> ## (Thorem 4-5) **Condition for Diagonalizability**"
   ]
  },
  {
   "cell_type": "markdown",
   "metadata": {},
   "source": [
    "#### $ n \\times{} n \\, $ 행렬이 $ \\, n $ 개의 유일한 고유값을 가진다면, 그 행렬은 대각화 가능(diagonalizable)하다."
   ]
  },
  {
   "cell_type": "markdown",
   "metadata": {},
   "source": [
    "<b></b>"
   ]
  },
  {
   "cell_type": "markdown",
   "metadata": {},
   "source": [
    "> ## (Thorem 4-6) **Eigenvalue Diagonalization Theorem**"
   ]
  },
  {
   "cell_type": "markdown",
   "metadata": {},
   "source": [
    "#### $ n \\times{} n \\, $ 행렬 $ \\, A $ 가 $ \\, p $ 개의 유일한 고유값(eigen value)를 가질경우 아래가 성립한다.\n",
    "#### **(1)** 고유값에 대응되는 고유 공간(eigen space)의 차원(dimension)은 그 공간을 구성하는 고유값의 중복도(multiplicity)보다 같거나 작다. \n",
    "#### $ \\Rightarrow{} \\text{dim}(\\text{Nul}(A-\\lambda{}_{k}I)) \\leq{} \\text{multiplicity of } \\, \\lambda{}_{k}, \\;\\; \\text{ where } \\, 1\\leq{}k\\leq{}p $"
   ]
  },
  {
   "cell_type": "markdown",
   "metadata": {},
   "source": [
    "#### **(`PLUS`)** 고유값에 대응되는 고유 공간의 차원은 **선형 독립인 고유벡터들의 최대 개수를 의미**함"
   ]
  },
  {
   "cell_type": "markdown",
   "metadata": {},
   "source": [
    "#### **(2)** 개별 고유 공간의 차원의 합이 $ \\, n $ 이라면, 행렬 $ \\, A $ 는 대각화 가능(diagonalizable)하다.\n",
    "#### $ \\Rightarrow{} A \\, \\text{ is diagonalizable}. \\;\\; $ (필요충분조건) $\\text{ if and only if } \\, \\displaystyle\\sum^{p}_{i=1} \\text{dim}(\\text{Nul}(A-\\lambda{}_{i}I)) = n $"
   ]
  },
  {
   "cell_type": "markdown",
   "metadata": {},
   "source": [
    "#### **(`PLUS`)** 고유공간의 차원이 해당 고유값의 중복도와 정확히 일치할 때만 발생함"
   ]
  }
 ],
 "metadata": {
  "kernelspec": {
   "display_name": "Python 3",
   "language": "python",
   "name": "python3"
  },
  "language_info": {
   "codemirror_mode": {
    "name": "ipython",
    "version": 3
   },
   "file_extension": ".py",
   "mimetype": "text/x-python",
   "name": "python",
   "nbconvert_exporter": "python",
   "pygments_lexer": "ipython3",
   "version": "3.11.3"
  },
  "orig_nbformat": 4
 },
 "nbformat": 4,
 "nbformat_minor": 2
}
