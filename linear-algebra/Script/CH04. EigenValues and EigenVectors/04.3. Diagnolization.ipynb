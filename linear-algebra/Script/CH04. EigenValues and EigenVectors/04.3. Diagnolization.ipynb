{
 "cells": [
  {
   "attachments": {},
   "cell_type": "markdown",
   "metadata": {},
   "source": [
    "# CH4.3. **Diagnolization**"
   ]
  },
  {
   "cell_type": "markdown",
   "metadata": {},
   "source": [
    "> ## **Diagnolization**"
   ]
  },
  {
   "cell_type": "markdown",
   "metadata": {},
   "source": [
    "#### **(1) 정의** : \n",
    "#### $ n \\times n $ 행렬 $ \\; A, \\; P \\; $ 및 대각행렬 $ \\; D $ 가 존재하고 $ \\; P $가 invertible할 때\n",
    "#### $ \\; A = PDP^{-1} $\n",
    "#### 이 때 행렬 $ \\; A $ 를 diagobalizable하다고 정의함"
   ]
  },
  {
   "cell_type": "markdown",
   "metadata": {},
   "source": [
    "#### **(PLUS)** 대각행렬 $ \\; D $의 k제곱 행렬은 diagonal entry의 k제곱과 같음\n",
    "#### $ D = \\begin{bmatrix} 1&0 \\\\ 0&3 \\end{bmatrix} $\n",
    "#### $ D^{2} = \\begin{bmatrix} 1&0 \\\\ 0&3 \\end{bmatrix} \\begin{bmatrix} 1&0 \\\\ 0&3 \\end{bmatrix} = \\begin{bmatrix} 1^{2}&0 \\\\ 0&3^{2} \\end{bmatrix} $\n",
    "#### $ D^{2} = \\begin{bmatrix} 1&0 \\\\ 0&3 \\end{bmatrix} \\begin{bmatrix} 1^{2}&0 \\\\ 0&3^{2} \\end{bmatrix} = \\begin{bmatrix} 1^{3}&0 \\\\ 0&3^{3} \\end{bmatrix} $\n",
    "#### $ \\cdots $\n",
    "#### $ D^{k} = \\begin{bmatrix} 1^{k}&0 \\\\ 0&3^{k} \\end{bmatrix} $"
   ]
  },
  {
   "cell_type": "markdown",
   "metadata": {},
   "source": [
    "#### **(2) 형태**\n",
    "#### 아래와 같이 $ \\; A^{k} $를 구하고자 할 때\n",
    "#### $ A = \\begin{bmatrix} 7&2 \\\\-4&1 \\end{bmatrix}, \\; D = \\begin{bmatrix} 5&0 \\\\ 0&3 \\end{bmatrix}, \\; P = \\begin{bmatrix} 1&1 \\\\ -1&-2 \\end{bmatrix} $\n",
    "#### $ A = PDP^{-1} $\n",
    "#### $ A^{2} = PDP^{-1}PDP^{-1} = PDDP^{-1} = PD^{2}P^{-1} = \\begin{bmatrix} 1&1 \\\\ -1&-2 \\end{bmatrix} \\begin{bmatrix} 5^{2}&0 \\\\ 0&3^{2} \\end{bmatrix} \\begin{bmatrix} 2&1 \\\\-1&-1 \\end{bmatrix} $ \n",
    "#### $ \\cdots $\n",
    "#### $ \\therefore \\; A^{k} = \\begin{bmatrix} 1&1 \\\\ -1&-2 \\end{bmatrix} \\begin{bmatrix} 5^{k}&0 \\\\ 0&3^{k} \\end{bmatrix} \\begin{bmatrix} 2&1 \\\\-1&-1 \\end{bmatrix} = \\begin{bmatrix} 2\\cdot{}5^{k}-3^{k}&5^{k}&5^{k}-3^{k} \\\\ 3^{k}&2\\cdot{}3^{k}-2\\cdot{}5^{k}&2\\cdot{}3^{k}-5^{k} \\end{bmatrix} $\n",
    "<b></b>"
   ]
  },
  {
   "cell_type": "markdown",
   "metadata": {},
   "source": [
    "> ## (Thorem 4) **The Diagonalization Theorem**"
   ]
  },
  {
   "cell_type": "markdown",
   "metadata": {},
   "source": [
    "#### $ n \\times n \\; $ 행렬 $ \\; A $가 diagobalizable하면\n",
    "#### **(1)** 행렬 $ \\; A $ 는 $ \\; n $ 개의 **linearly independent** eigen vector를 가진다.\n",
    "#### **(2)** 행렬 $ \\; P $ 는 $ n $ 개의 **linearly independent** eigen vector로 이루어져 있다.\n",
    "#### **(3)** 행렬 $ \\; D$ 의 diagnoal entry(term)은 eigen value로 이루어져 있다"
   ]
  },
  {
   "cell_type": "markdown",
   "metadata": {},
   "source": [
    "#### **(WHY?)** \n",
    "#### $ n \\times n \\; $ 행렬 $ \\; A $ 가 대각행렬 $ \\; D, \\; P $ 에 의해서 diagonalizable하다고 할 때\n",
    "#### $ A = PDP^{-1} $\n",
    "#### $ AP = PDP^{-1}P = PD $\n",
    "#### $ AP = A \\begin{bmatrix} \\textbf{x}_{1}&\\textbf{x}_{2}&\\cdots{}&\\textbf{x}_{n} \\end{bmatrix} = \\begin{bmatrix} A\\textbf{x}_{1}&A\\textbf{x}_{2}&\\cdots{}&A\\textbf{x}_{n} \\end{bmatrix} $\n",
    "#### $ PD = P \\begin{bmatrix} a_{1}&0&\\cdots{}&0 \\\\ 0&a_{2}&\\cdots{}&0 \\\\ \\cdots{}&\\cdots{}&\\cdots{}&\\cdots{} \\\\ 0&0&0&a_{n} \\end{bmatrix} = \\begin{bmatrix} \\textbf{x}_{1}&\\textbf{x}_{2}&\\cdots{}&\\textbf{x}_{n} \\end{bmatrix} \\begin{bmatrix} a_{1}&0&\\cdots{}&0 \\\\ 0&a_{2}&\\cdots{}&0 \\\\ \\cdots{}&\\cdots{}&\\cdots{}&\\cdots{} \\\\ 0&0&0&a_{n} \\end{bmatrix} = \\begin{bmatrix} a_{1}\\textbf{x}_{1}&a_{2}\\textbf{x}_{2}&\\cdots{}&a_{n}\\textbf{x}_{n} \\end{bmatrix} $\n",
    "#### $ \\begin{bmatrix} A\\textbf{x}_{1}&A\\textbf{x}_{2}&\\cdots{}&A\\textbf{x}_{n} \\end{bmatrix} = \\begin{bmatrix} a_{1}\\textbf{x}_{1}&a_{2}\\textbf{x}_{2}&\\cdots{}&a_{n}\\textbf{x}_{n} \\end{bmatrix} $\n",
    "#### $ \\; A\\textbf{v}_{i} = a_{i}\\textbf{v}_{i} $\n",
    "#### $ \\therefore \\textbf{x} $ 는 행렬 $ \\; A $ 의 eigen vector이고, $ \\; a_{i} $ 는 eigen value($ \\lambda{} $)임"
   ]
  },
  {
   "cell_type": "markdown",
   "metadata": {},
   "source": [
    "#### **(PLUS)** 단, egien value는 **유일하지 않음**\n",
    "<b></b>"
   ]
  },
  {
   "cell_type": "markdown",
   "metadata": {},
   "source": [
    "> ## **Diagonalizaing Matrices**"
   ]
  },
  {
   "cell_type": "markdown",
   "metadata": {},
   "source": [
    "#### **(1) 정의** : 특정 행렬을 diagonalization하는 방법"
   ]
  },
  {
   "cell_type": "markdown",
   "metadata": {},
   "source": [
    "#### **(2) 연산 순서** : $ n \\times n \\; $ 행렬 $ \\; A $가 diagobalizable하고자 핧 때\n",
    "#### $ A = \\begin{bmatrix} 1&3&3 \\\\ -3&-5&-3 \\\\ 3&3&1 \\end{bmatrix} $\n",
    "#### &nbsp;&nbsp; ① 행렬 $ \\; A $ 의 characterristic Equation을 이용해 eigen value를 찾음 \n",
    "#### &nbsp;&nbsp; det $ (A - \\lambda{}I) = 0 = $ det $ E_{p}E_{p-1}\\cdots{}E_{2}E_{1}(A - \\lambda{}I) $\n",
    "#### &nbsp;&nbsp; det $ \\begin{bmatrix} 1-\\lambda{}&3&3 \\\\ -3&-5-\\lambda{}&-3 \\\\ 3&3&1-\\lambda{} \\end{bmatrix} $ ~ det $ \\begin{bmatrix} 1-\\lambda{}&3&3 \\\\ -3&-5-\\lambda{}&-3 \\\\ 0&-2-\\lambda{}&-2-\\lambda{} \\end{bmatrix} $ (row replacement)\n",
    "#### &nbsp;&nbsp; $ = -(-2-\\lambda{}) $ det $ \\begin{bmatrix} 1-\\lambda{}&3 \\\\ -3&-3 \\end{bmatrix} + (-2-\\lambda{}) $ det $ \\begin{bmatrix} 1-\\lambda{}&3 \\\\-3&-5-\\lambda{} \\end{bmatrix} $ (cofactor expansion)\n",
    "#### &nbsp;&nbsp; $ = -(-2-\\lambda{})(3\\lambda{}+6) + (-2-\\lambda{})(\\lambda{}^{2}+4\\lambda{}+4) $\n",
    "#### &nbsp;&nbsp; $ = -(-2-\\lambda{})(-\\lambda{}^{2}-\\lambda{}+2) $\n",
    "#### &nbsp;&nbsp; $ = -(\\lambda{}-1)(\\lambda{}+2)^{2} = 0 $\n",
    "#### &nbsp;&nbsp; $ \\lambda{} = 1 $ (multiplicity $ = 1 $ ) or $ \\lambda{} = -2 $ (multiplicity $ = 2 $ )\n",
    "#### &nbsp;&nbsp; ② 행렬 $ \\; A $ 의 eigen space(nul $ (A - \\lambda{}I) $)를 찾아 eigen vector를 구함\n",
    "#### &nbsp;&nbsp; (ⅰ) $ \\lambda{} = 1, \\; A - \\lambda{}I = \\begin{bmatrix} 0&3&3 \\\\ -3&-6&-3 \\\\ 3&3&0 \\end{bmatrix} $ \n",
    "#### &nbsp;&nbsp; $ \\begin{bmatrix} A-\\lambda{}I&0 \\end{bmatrix} = \\begin{bmatrix} 0&3&3&0 \\\\ -3&-6&-3&0 \\\\ 3&3&0&0 \\end{bmatrix} $ ~ $ \\begin{bmatrix} 1&0&-1&0 \\\\ 0&1&1&0 \\\\0&0&0&0 \\end{bmatrix} $\n",
    "#### &nbsp;&nbsp; nul $ (A-\\lambda{}I) = \\textbf{x} = x_{3} \\begin{bmatrix} 1 \\\\ -1 \\\\ 1 \\end{bmatrix} = span \\{ \\begin{bmatrix} 1 \\\\ -1 \\\\ 1 \\end{bmatrix} \\} $\n",
    "#### &nbsp;&nbsp; (ⅱ) $ \\lambda{} = 2, \\; A - \\lambda{}I = \\begin{bmatrix} 3&3&3 \\\\ -3&-3&-3 \\\\ 3&3&3 \\end{bmatrix} $\n",
    "#### &nbsp;&nbsp; $ \\begin{bmatrix} A-\\lambda{}I&0 \\end{bmatrix} = \\begin{bmatrix} 3&3&3&0 \\\\ -3&-3&-3&0 \\\\ 3&3&3&0 \\end{bmatrix} $ ~ $ \\begin{bmatrix} 1&1&1&0 \\\\ 0&0&0&0 \\\\0&0&0&0 \\end{bmatrix} $\n",
    "#### &nbsp;&nbsp; nul $ (A-\\lambda{}I) = \\textbf{x} = x_{2} \\begin{bmatrix} -1 \\\\ 1 \\\\ 0 \\end{bmatrix} + x_{3} \\begin{bmatrix} -1 \\\\ 0 \\\\ 1 \\end{bmatrix} = span \\{ \\begin{bmatrix} -1 \\\\ 1 \\\\ 0 \\end{bmatrix}, \\begin{bmatrix} -1 \\\\ 0 \\\\ 1 \\end{bmatrix} \\} $\n",
    "#### &nbsp;&nbsp; eigen value set $ = \\{ \\begin{bmatrix} 1 \\\\ -1 \\\\ 1 \\end{bmatrix}, \\begin{bmatrix} -1 \\\\ 1 \\\\ 0 \\end{bmatrix}, \\begin{bmatrix} -1 \\\\ 0 \\\\ 1 \\end{bmatrix} \\} $\n",
    "#### &nbsp;&nbsp; **(PLUS)** 이 때 eigen vector 개수가 $ \\; n $ 개 이하라면 diagonalization이 불가함 \n",
    "#### &nbsp;&nbsp; ③ eigen vector로 행렬 $ \\; P $ 를 정의함\n",
    "#### &nbsp;&nbsp; $ P = \\begin{bmatrix} 1&-1&-1 \\\\ -1&1&0 \\\\ 1&0&1 \\end{bmatrix} $\n",
    "#### &nbsp;&nbsp; ④ eigen value로 대각행렬 $ \\; D $를 정의함\n",
    "#### &nbsp;&nbsp; $ D = \\begin{bmatrix} 1&0&0 \\\\ 0&-2&0 \\\\ 0&0&-2 \\end{bmatrix} $\n",
    "#### &nbsp;&nbsp; $ \\therefore \\; A = PDP^{-1} = \\begin{bmatrix} 1&-1&-1 \\\\ -1&1&0 \\\\ 1&0&1 \\end{bmatrix} \\begin{bmatrix} 1&0&0 \\\\ 0&-2&0 \\\\ 0&0&-2 \\end{bmatrix} \\begin{bmatrix} 1&-1&-1 \\\\ -1&1&0 \\\\ 1&0&1 \\end{bmatrix}^{-1} $ \n",
    "#### &nbsp;&nbsp; **(PLUS)** 행렬 $ \\; P $ 에서 eigen vector의 순서(위치)는 대각행렬 $ \\; D $ 의 diagonal entry(eigen value)가 대응되게 정의해야함\n",
    "<b></b>"
   ]
  },
  {
   "cell_type": "markdown",
   "metadata": {},
   "source": [
    "> ## (Thorem 5)"
   ]
  },
  {
   "cell_type": "markdown",
   "metadata": {},
   "source": [
    "#### 특정한 $ n \\times n \\; $ 행렬이 $ \\; n $ 개의 eigen value를 갖는다면, 그 행렬은 diagonalizable하다.\n",
    "<b></b>"
   ]
  },
  {
   "cell_type": "markdown",
   "metadata": {},
   "source": [
    "> ## (Thorem 6)"
   ]
  },
  {
   "cell_type": "markdown",
   "metadata": {},
   "source": [
    "#### $ n \\times n \\; $ 행렬 $ \\; A $가 $ \\; p $ 개의 유일한 eigen value를 가질경우\n",
    "#### **(1)** eigen space의 dimension은 eigen space를 구성하는 eigen value의 multiplicity보다 같거나 작다.\n",
    "#### = eigen value에 대응되는 eigen vector 개수는 그 eigen value의 multiplicity보다 같거나 작다.\n",
    "#### **(2)** 개별 eigen space의 dimension 합이 $ \\; n $이라면, 행렬 $ \\; A $ 는 diagonalizable하다.\n",
    "<b></b>"
   ]
  }
 ],
 "metadata": {
  "kernelspec": {
   "display_name": "Python 3",
   "language": "python",
   "name": "python3"
  },
  "language_info": {
   "codemirror_mode": {
    "name": "ipython",
    "version": 3
   },
   "file_extension": ".py",
   "mimetype": "text/x-python",
   "name": "python",
   "nbconvert_exporter": "python",
   "pygments_lexer": "ipython3",
   "version": "3.11.3"
  },
  "orig_nbformat": 4
 },
 "nbformat": 4,
 "nbformat_minor": 2
}
