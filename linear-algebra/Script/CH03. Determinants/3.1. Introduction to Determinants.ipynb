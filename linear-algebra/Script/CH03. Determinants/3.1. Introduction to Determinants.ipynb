{
 "cells": [
  {
   "attachments": {},
   "cell_type": "markdown",
   "metadata": {},
   "source": [
    "# CH3.1. **Introduction to Determinants**"
   ]
  },
  {
   "cell_type": "markdown",
   "metadata": {},
   "source": [
    "> ## **Determinants (행렬식)**"
   ]
  },
  {
   "cell_type": "markdown",
   "metadata": {},
   "source": [
    "#### **(1) 정의** : 2차원 이상의 $ \\; n \\times n $ 정방 행렬 $ \\; A = \\begin{bmatrix} a_{ij} \\end{bmatrix} $ 가 존재할 때 행렬 $ \\; A $의 determinant(=det $ A $)는 다음과 같음\n",
    "#### &nbsp;&nbsp;&nbsp;&nbsp;&nbsp;&nbsp;&nbsp;&nbsp;&nbsp;&nbsp;&nbsp;&nbsp;&nbsp;&nbsp;&nbsp;&nbsp; det $ A = a_{11} $ det $ A_{11} - a_{12} $ det $ A_{12} + \\cdots + (-1)^{(1+n)} a_{nn} $ det $ A_{1n} = \\displaystyle\\sum_{j=1}^n (-1)^{(1+j)} a_{1j} $ det $ A_{1j} $\n",
    "#### &nbsp;&nbsp;&nbsp;&nbsp;&nbsp;&nbsp;&nbsp;&nbsp;&nbsp;&nbsp;&nbsp;&nbsp;&nbsp;&nbsp;&nbsp;&nbsp; 단, det $ A_{1j} $ 는 행렬 $ \\; A $에서 **1행 j열을 제외한** 부분 행렬의 determinant"
   ]
  },
  {
   "cell_type": "markdown",
   "metadata": {},
   "source": [
    "#### **(2) 형태**\n",
    "#### $ A = \\begin{bmatrix} 1&5&0 \\\\ 2&4&-1 \\\\ 0&-2&0 \\end{bmatrix} $\n",
    "#### det $ A = a_{11} $ det $ A_{11} - a_{12} $ det $ A_{12} + a_{13} $ det $ A_{13} $\n",
    "#### &nbsp;&nbsp;&nbsp;&nbsp;&nbsp;&nbsp;&nbsp;&nbsp;&nbsp;&nbsp; $ = 1 $ det $ \\begin{bmatrix} 4&-1 \\\\ -2&0 \\end{bmatrix} - 5 $ det $ \\begin{bmatrix} 2&-1 \\\\ 0&0 \\end{bmatrix} + 0 $ det $ \\begin{bmatrix} 2&4 \\\\ 0&-2 \\end{bmatrix} $  \n",
    "#### &nbsp;&nbsp;&nbsp;&nbsp;&nbsp;&nbsp;&nbsp;&nbsp;&nbsp;&nbsp; $ = 1 \\times (0-2) - 5 \\times (0-0) + 0 \\times (-4-0) = -2 $"
   ]
  },
  {
   "cell_type": "markdown",
   "metadata": {},
   "source": [
    "#### **(3) 성질** : $ \\; n \\times n $ 행렬 $ \\; A $ 가 존재할 때\n",
    "#### &nbsp;&nbsp; ① det $ A $ 가 non-zero이면 invertible함 (=$ \\; A $의 역행렬이 존재함)\n",
    "#### &nbsp;&nbsp; ② det $ A $ 가 non-zero이면 행렬 $ \\; A $ 의 모든 열에 pivot이 존재함 "
   ]
  },
  {
   "cell_type": "markdown",
   "metadata": {},
   "source": [
    "#### **(PLUS) 2차원 행렬의 determinant**\n",
    "#### $ A = \\begin{bmatrix} a_{11}&a_{12} \\\\ a_{21}&a_{22} \\end{bmatrix} $\n",
    "#### det $ A = \\displaystyle\\sum_{j=1}^n (-1)^{(1+j)} a_{1j} $ det $ A_{1j} = (-1)^{(1+1)} a_{11} $ det $ A_{11} + (-1)^{(1+2)} a_{12} $ det $ A_{12} = a_{11}a_{22}-a_{12}a_{21} $\n",
    "<b></b>"
   ]
  },
  {
   "cell_type": "markdown",
   "metadata": {},
   "source": [
    "> ## **Cofactors (여인수)**"
   ]
  },
  {
   "cell_type": "markdown",
   "metadata": {},
   "source": [
    "#### **(1) 정의** : 2차원 이상의 $ \\; n \\times n $ 정방 행렬 $ \\; A = \\begin{bmatrix} a_{ij} \\end{bmatrix} $ 가 존재할 때 행렬 $ \\; A $의 i행 j열 cofactor는 다음과 같음 \n",
    "#### &nbsp;&nbsp;&nbsp;&nbsp;&nbsp;&nbsp;&nbsp;&nbsp;&nbsp;&nbsp;&nbsp;&nbsp;&nbsp;&nbsp;&nbsp;&nbsp; $ C_{ij} = (-1)^{(i+j)} $ det $ A_{ij} $"
   ]
  },
  {
   "cell_type": "markdown",
   "metadata": {},
   "source": [
    "#### **(PLUS)** cofactor를 이용하여 행렬 $ \\; A $ 의 determinant는 아래와 같이 정의할 수 있고, 이를 cofactor expansion(여인수 전개)라고 함\n",
    "#### det $ A = a_{11} C_{11} + a_{12} C_{12} + \\cdots + a_{1n} C_{1n} $\n",
    "<b></b>"
   ]
  },
  {
   "cell_type": "markdown",
   "metadata": {},
   "source": [
    "> ## (Thorem 1)"
   ]
  },
  {
   "cell_type": "markdown",
   "metadata": {},
   "source": [
    "#### cofactor를 이용하면 임의의 행과 열로 determinant를 정의할 수 있다.\n",
    "#### $ A = \\begin{bmatrix} 1&5&0 \\\\ 2&4&-1 \\\\ 0&-2&0 \\end{bmatrix} $\n",
    "#### det $ A = a_{31} $ det $ A_{31} - a_{32} $ det $ A_{32} + a_{33} $ det $ A_{33} $\n",
    "#### &nbsp;&nbsp;&nbsp;&nbsp;&nbsp;&nbsp;&nbsp;&nbsp;&nbsp;&nbsp; $ = 0 $ det $ \\begin{bmatrix} 5&0 \\\\ 4&-1 \\end{bmatrix} + 2 $ det $ \\begin{bmatrix} 1&0 \\\\ 2&-1 \\end{bmatrix} + 0 $ det $ \\begin{bmatrix} 1&5 \\\\ 2&4 \\end{bmatrix} = -2 $  \n",
    "#### &nbsp;&nbsp;&nbsp;&nbsp;&nbsp;&nbsp;&nbsp;&nbsp;&nbsp;&nbsp; $ = a_{11} $ det $ A_{11} - a_{12} $ det $ A_{12} + a_{13} $ det $ A_{13} = -2 $\n",
    "<b></b>"
   ]
  },
  {
   "cell_type": "markdown",
   "metadata": {},
   "source": [
    "> ## (Thorem 2)"
   ]
  },
  {
   "cell_type": "markdown",
   "metadata": {},
   "source": [
    "#### 삼각 행렬(triangular matrix)의 determinant는 diagonal term을 곱한 것과 같다.\n",
    "#### $ A = \\begin{bmatrix} 1&2&3 \\\\ 0&4&0 \\\\ 0&0&1 \\end{bmatrix} $\n",
    "#### det $ A = 1 $ det $ \\begin{bmatrix} 4&0 \\\\ 0&1 \\end{bmatrix} - 2 $ det $ \\begin{bmatrix} 0&0 \\\\ 0&1 \\end{bmatrix} + 3 $ det $ \\begin{bmatrix} 0&4 \\\\ 0&0 \\end{bmatrix} = 4 = 1 \\times 4 \\times 1= 4 $"
   ]
  },
  {
   "cell_type": "markdown",
   "metadata": {},
   "source": [
    "#### **(PLUS)** Numerical Note\n",
    "#### **[CONTENTS]**\n",
    "<b></b>"
   ]
  }
 ],
 "metadata": {
  "kernelspec": {
   "display_name": "Python 3",
   "language": "python",
   "name": "python3"
  },
  "language_info": {
   "codemirror_mode": {
    "name": "ipython",
    "version": 3
   },
   "file_extension": ".py",
   "mimetype": "text/x-python",
   "name": "python",
   "nbconvert_exporter": "python",
   "pygments_lexer": "ipython3",
   "version": "3.11.3"
  },
  "orig_nbformat": 4
 },
 "nbformat": 4,
 "nbformat_minor": 2
}
