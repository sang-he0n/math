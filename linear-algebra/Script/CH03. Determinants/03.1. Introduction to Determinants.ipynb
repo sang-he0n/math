{
 "cells": [
  {
   "attachments": {},
   "cell_type": "markdown",
   "metadata": {},
   "source": [
    "# CH3.1. **Introduction to Determinants**"
   ]
  },
  {
   "cell_type": "markdown",
   "metadata": {},
   "source": [
    "> ## **행렬식(Determinants)**"
   ]
  },
  {
   "cell_type": "markdown",
   "metadata": {},
   "source": [
    "#### **(1) 정의** : $ \\mathbb{R}^{2} $ 이상의 정방행렬 $ \\, A $ 가 가역행렬(invertible matrix)인지 판별하는 값\n",
    "#### $ \\Rightarrow{} \\det{}(\\underset{n\\times{}n}{A}) = a_{1,1} \\cdot{} \\det{}(A_{11}) - a_{1,2} \\cdot{} \\det{}(A_{12}) + \\cdots{} + (-1)^{(1+n)} \\cdot{} a_{1,n} \\cdot{} \\det{}(A_{1n}) $\n",
    "#### $ \\hspace{1.935cm} = a_{2,1} \\cdot{} \\det{}(A_{21}) - a_{2,2} \\cdot{} \\det{}(A_{22}) + \\cdots{} + (-1)^{(1+n)} \\cdot{} a_{2,n} \\cdot{} \\det{}(A_{2n}) $\n",
    "#### $ \\hspace{1.935cm} = \\cdots{} $\n",
    "#### $ \\hspace{1.935cm} = a_{n,1} \\cdot{} \\det{}(A_{n1}) - a_{n,2} \\cdot{} \\det{}(A_{n2}) + \\cdots{} + (-1)^{(1+n)} \\cdot{} a_{n,n} \\cdot{} \\det{}(A_{nn}) $\n",
    "#### $ \\hspace{1.935cm} = \\displaystyle\\sum^{n}_{k=1} (-1)^{(i+k)} \\cdot{} a_{i,k} \\cdot{} \\det{}(A_{ik}) $\n",
    "#### $ \\hspace{1.935cm} = a_{1,1} \\cdot{} \\det{}(A_{11}) - a_{2,1} \\cdot{} \\det{}(A_{21}) + \\cdots{} + (-1)^{(n+1)} \\cdot{} a_{n,1} \\cdot{} \\det{}(A_{n1}) $\n",
    "#### $ \\hspace{1.935cm} = \\cdots{} $\n",
    "#### $ \\hspace{1.935cm} = \\displaystyle\\sum^{n}_{i=1} (-1)^{(i+k)} \\cdot{} a_{i,k} \\cdot{} \\det{}(A_{ik}) $\n",
    "#### $ \\hspace{0.15cm} $ where $ \\, \\det{}(A_{ik}) \\, $ : $ \\, i $ 행 $ \\, j $ 열을 제외한 부분행렬(submatrix)의 행렬식"
   ]
  },
  {
   "cell_type": "markdown",
   "metadata": {},
   "source": [
    "#### **(`PLUS`)** 행렬식은 임의의 행과 열에 대하여 전개할 수 있음 (Theorem 3-1)"
   ]
  },
  {
   "cell_type": "markdown",
   "metadata": {},
   "source": [
    "#### **(2) 성질** : \n",
    "#### $ \\hspace{0.15cm} $ ① $ \\, \\det{}(A) $ 가 $ \\, 0 $ 이 아니면 가역적(invertible)임, 즉 $ \\, A^{-1} $ 존재함\n",
    "#### $ \\hspace{0.15cm} $ ② $ \\, \\det{}(A) $ 가 $ \\, 0 $ 이 아니면 행렬 $ \\, A $ 의 모든 열에 피봇(pivot)이 존재함 "
   ]
  },
  {
   "cell_type": "markdown",
   "metadata": {},
   "source": [
    "#### **(3) 예시** :\n",
    "#### $ \\hspace{0.15cm} $ ① $ \\, 3 \\times{} 3 \\, $ 행렬의 행렬식을 구하고자 할 때\n",
    "#### $ \\hspace{0.45cm} \\cdot{} A = \\begin{bmatrix} 1&5&0 \\\\ 2&4&-1 \\\\ 0&-2&0 \\end{bmatrix} $\n",
    "#### $ \\hspace{0.45cm} \\therefore{} \\det{}(A) = a_{11} \\det{}(A_{11}) - a_{12} \\det{}(A_{12}) + a_{13} \\det{}(A_{13}) $ \n",
    "#### $ \\hspace{2.025cm} = 1 \\cdot{} \\det{}(\\begin{bmatrix} 4&-1 \\\\ -2&0 \\end{bmatrix}) - 5 \\cdot{} \\det{}(\\begin{bmatrix} 2&-1 \\\\ 0&0 \\end{bmatrix}) + 0 \\cdot{} \\det{}(\\begin{bmatrix} 2&4 \\\\ 0&-2 \\end{bmatrix}) $  \n",
    "#### $ \\hspace{2.025cm} = 1 \\times{} (0-2) - 5 \\times{} (0-0) + 0 \\times{} (-4-0) = -2 $\n",
    "#### $ \\hspace{0.15cm} $ ② $ \\, 2 \\times{} 2 \\, $ 행렬의 행렬식을 구하고자 할 때\n",
    "#### $ \\hspace{0.45cm} \\cdot{} A = \\begin{bmatrix} a_{11}&a_{12} \\\\ a_{21}&a_{22} \\end{bmatrix} $\n",
    "#### $ \\hspace{0.45cm} \\therefore{} \\det{}(A) = \\displaystyle\\sum_{j=1}^{n} (-1)^{(1+j)} a_{1j} \\det{}(A_{1j}) = (-1)^{(1+1)} a_{11} \\det{}(A_{11}) + (-1)^{(1+2)} a_{12} \\det{}(A_{12}) $\n",
    "#### $ \\hspace{2.025cm} = a_{11}a_{22} - a_{12}a_{21} $"
   ]
  },
  {
   "cell_type": "markdown",
   "metadata": {},
   "source": [
    "<b></b>"
   ]
  },
  {
   "cell_type": "markdown",
   "metadata": {},
   "source": [
    "> ## **여인수(Cofactors)**"
   ]
  },
  {
   "cell_type": "markdown",
   "metadata": {},
   "source": [
    "#### **(1) 정의** : \n",
    "#### 2차원 이상의 $ \\; n \\times n $ 정방 행렬 $ \\; A = \\begin{bmatrix} a_{ij} \\end{bmatrix} $ 가 존재할 때 행렬 $ \\; A $의 i행 j열 cofactor는 다음과 같음 \n",
    "#### $ C_{ij} = (-1)^{(i+j)} $ det $ A_{ij} $"
   ]
  },
  {
   "cell_type": "markdown",
   "metadata": {},
   "source": [
    "<b></b>"
   ]
  },
  {
   "cell_type": "markdown",
   "metadata": {},
   "source": [
    "> ## (Thorem 3-2) **Determinant of triangular matrix**"
   ]
  },
  {
   "cell_type": "markdown",
   "metadata": {},
   "source": [
    "#### 삼각 행렬(triangular matrix)의 determinant는 diagonal term을 곱한 것과 같다.\n",
    "#### $ A = \\begin{bmatrix} 1&2&3 \\\\ 0&4&0 \\\\ 0&0&1 \\end{bmatrix} $\n",
    "#### det $ A = 1 $ det $ \\begin{bmatrix} 4&0 \\\\ 0&1 \\end{bmatrix} - 2 $ det $ \\begin{bmatrix} 0&0 \\\\ 0&1 \\end{bmatrix} + 3 $ det $ \\begin{bmatrix} 0&4 \\\\ 0&0 \\end{bmatrix} = 4 = 1 \\times 4 \\times 1= 4 $"
   ]
  },
  {
   "cell_type": "markdown",
   "metadata": {},
   "source": [
    "#### **(PLUS)** Numerical Note\n",
    "#### **[CONTENTS]**\n",
    "<b></b>"
   ]
  }
 ],
 "metadata": {
  "kernelspec": {
   "display_name": "Python 3",
   "language": "python",
   "name": "python3"
  },
  "language_info": {
   "codemirror_mode": {
    "name": "ipython",
    "version": 3
   },
   "file_extension": ".py",
   "mimetype": "text/x-python",
   "name": "python",
   "nbconvert_exporter": "python",
   "pygments_lexer": "ipython3",
   "version": "3.11.3"
  },
  "orig_nbformat": 4
 },
 "nbformat": 4,
 "nbformat_minor": 2
}
