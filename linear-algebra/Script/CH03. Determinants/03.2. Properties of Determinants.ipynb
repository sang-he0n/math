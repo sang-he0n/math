{
 "cells": [
  {
   "attachments": {},
   "cell_type": "markdown",
   "metadata": {},
   "source": [
    "# CH03.2. **Properties of Determinants**"
   ]
  },
  {
   "cell_type": "markdown",
   "metadata": {},
   "source": [
    "> ## (Thorem 3-3) **Effect of Elementray Row Operations**"
   ]
  },
  {
   "cell_type": "markdown",
   "metadata": {},
   "source": [
    "#### $ n \\times{} n \\, $ 크기의 정방 행렬 $ \\, A $ 가 존재하고 $ \\, E_{i} $ 는 기본 행렬(elemntary matrix)일 때 아래의 식이 성립한다.\n",
    "#### $ \\hspace{0.15cm} $ ① $ \\det{}(E_{\\text{interchange}}) \\det{}(A) = - \\det{}(A) $\n",
    "#### $ \\hspace{0.15cm} $ ② $ \\det{}(E_{\\text{replacement}}) \\det{}(A) = \\det{}(A) $\n",
    "#### $ \\hspace{0.15cm} $ ③ $ \\det{}(E_{\\text{scaling};k}) \\det{}(A) = k \\det{}(A) $"
   ]
  },
  {
   "cell_type": "markdown",
   "metadata": {},
   "source": [
    "#### **(`PLUS`)** 이를 이용하여 행렬 $ \\; A $ 를 row reduction을 이용해 echelon-form으로 만들어 편하게 determinant를 구할 수 있음"
   ]
  },
  {
   "cell_type": "markdown",
   "metadata": {},
   "source": [
    "#### **(`PLUS`) 계산 복잡도** :\n",
    "#### **[CONTENTS]**"
   ]
  },
  {
   "cell_type": "markdown",
   "metadata": {},
   "source": [
    "<b></b>"
   ]
  },
  {
   "cell_type": "markdown",
   "metadata": {},
   "source": [
    "> ## (Thorem 3-5) **Transpose Property**"
   ]
  },
  {
   "cell_type": "markdown",
   "metadata": {},
   "source": [
    "#### $ n \\times n \\, $ 정방 행렬 $ \\, A $ 의 행렬식(determinant)은 $ \\, A^{T} $ 의 행렬식과 동일하다.\n",
    "#### $ \\Rightarrow{} \\det{}(A^{T}) = \\det{}(A) $"
   ]
  },
  {
   "cell_type": "markdown",
   "metadata": {},
   "source": [
    "<b></b>"
   ]
  },
  {
   "cell_type": "markdown",
   "metadata": {},
   "source": [
    "> ## (Thorem 3-6) **Multiplicative Property**"
   ]
  },
  {
   "cell_type": "markdown",
   "metadata": {},
   "source": [
    "#### $ n \\times n \\, $ 정방 행렬 $ \\, A,\\, B $ 가 존재할 때 각 행렬의 행렬식이 행렬의 곱셈 후의 행렬식과 동일하다.\n",
    "#### $ \\Rightarrow{} \\det{}(AB) = \\det{}(A) \\det{}(B) $ "
   ]
  },
  {
   "cell_type": "markdown",
   "metadata": {},
   "source": [
    "#### **(`PLUS`)** 일반적으로 덧셈에 대해서는 성립하지 않음 \n",
    "#### $ \\Rightarrow{} \\det{}(A + B) \\neq{} \\det{}(A)+ \\det{}(B) $"
   ]
  }
 ],
 "metadata": {
  "kernelspec": {
   "display_name": "Python 3",
   "language": "python",
   "name": "python3"
  },
  "language_info": {
   "codemirror_mode": {
    "name": "ipython",
    "version": 3
   },
   "file_extension": ".py",
   "mimetype": "text/x-python",
   "name": "python",
   "nbconvert_exporter": "python",
   "pygments_lexer": "ipython3",
   "version": "3.11.3"
  },
  "orig_nbformat": 4
 },
 "nbformat": 4,
 "nbformat_minor": 2
}
