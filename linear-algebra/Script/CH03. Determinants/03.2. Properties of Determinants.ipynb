{
 "cells": [
  {
   "attachments": {},
   "cell_type": "markdown",
   "metadata": {},
   "source": [
    "# CH3.2. **Properties of Determinants**"
   ]
  },
  {
   "cell_type": "markdown",
   "metadata": {},
   "source": [
    "> ## (Thorem 3) **Effect of Elementray Row Operations**"
   ]
  },
  {
   "cell_type": "markdown",
   "metadata": {},
   "source": [
    "#### $ \\; n \\times n $ 정방 행렬 $ \\; A $ 가 존재하고 $ E_{i} $ 는 row operation을 통해 만들어진 $ \\; n \\times n $ 기본 행렬(elemantry matrix)이라면\n",
    "#### &nbsp;&nbsp; ① $ E_{replacement} \\times $ det $ A = $ det $ B = $ det $ A $\n",
    "#### &nbsp;&nbsp; ② $ E_{interchange} \\times $ det $ A = $ det $ B = - $ det $ A $\n",
    "#### &nbsp;&nbsp; ③ $ E_{scaling;\\textbf{k}} \\times $ det $ A = $ det $ B = k $ det $ A $"
   ]
  },
  {
   "cell_type": "markdown",
   "metadata": {},
   "source": [
    "#### **(PLUS)** 이를 이용하여 행렬 $ \\; A $ 를 row reduction을 이용해 echelon-form으로 만들어 편하게 determinant를 구할 수 있음"
   ]
  },
  {
   "cell_type": "markdown",
   "metadata": {},
   "source": [
    "#### **(PLUS)** Numerical Note\n",
    "#### **[CONTENTS]**\n",
    "<b></b>"
   ]
  },
  {
   "cell_type": "markdown",
   "metadata": {},
   "source": [
    "> ## (Thorem 4) "
   ]
  },
  {
   "cell_type": "markdown",
   "metadata": {},
   "source": [
    "#### $ \\; n \\times n $ 정방 행렬 $ \\; A $ 의 determinant가 $ 0 $ 면, not invertible하다.\n",
    "<b></b>"
   ]
  },
  {
   "cell_type": "markdown",
   "metadata": {},
   "source": [
    "> ## (Thorem 5)"
   ]
  },
  {
   "cell_type": "markdown",
   "metadata": {},
   "source": [
    "#### $ \\; n \\times n $ 정방 행렬 $ \\; A $ 의 determinant는 $ \\; A^{T} $ 의 determinant와 동일하다.\n",
    "<b></b>"
   ]
  },
  {
   "cell_type": "markdown",
   "metadata": {},
   "source": [
    "> ## (Thorem 6) **Multiplicative Property**"
   ]
  },
  {
   "cell_type": "markdown",
   "metadata": {},
   "source": [
    "#### $ \\; n \\times n $ 정방 행렬 $ \\; A, \\; B $ 가 존재할 때 det $ AB = ( $ det $ A )( $ det $ B ) \\; $ 이 성립한다.\n",
    "#### 단 **일반적으로** det $ (A + B) \\neq ( $ det $ A )+( $ det $ B ) \\; $"
   ]
  },
  {
   "cell_type": "markdown",
   "metadata": {},
   "source": [
    "#### **(WHY?)**\n",
    "#### &nbsp;&nbsp; ① 행렬 $ \\; A $ 가 invertible할 경우  \n",
    "#### &nbsp;&nbsp; det $ A  = 0, \\; $ det $ AB = 0 $\n",
    "#### &nbsp;&nbsp; $ \\therefore $ det $ A $ det $ B = $ det $ AB $ \n",
    "#### &nbsp;&nbsp; ② 행렬 $ \\; A $ 가 not invertible할 경우  \n",
    "#### &nbsp;&nbsp; $ A = E_{p}E_{p-1} \\cdots E_{2}E_{1}I_{n} = E_{p}E_{p-1} \\cdots E_{2}E_{1} \\; $ ( $ \\because \\; $ CH2.2. Theorem 7 )\n",
    "#### &nbsp;&nbsp; det $ AB = $ det $ ( E_{p}E_{p-1} \\cdots E_{2}E_{1} B ) = $ det $ ( E_{p} ) $ det $ ( E_{p-1} ) \\cdots $ det $ ( B ) $ \n",
    "#### &nbsp;&nbsp;&nbsp;&nbsp;&nbsp;&nbsp;&nbsp;&nbsp;&nbsp;&nbsp;&nbsp;&nbsp;&nbsp;&nbsp;&nbsp;&nbsp;&nbsp; $ = $ det $ ( E_{p}E_{p-1} \\cdots E_{2}E_{1} ) $ det $ B $ ( $ \\because \\; $ CH3.1. PLUS )\n",
    "#### &nbsp;&nbsp; $ \\therefore $ det $ AB = $ det $ A $ det $ B $ \n",
    "<b></b>"
   ]
  }
 ],
 "metadata": {
  "kernelspec": {
   "display_name": "Python 3",
   "language": "python",
   "name": "python3"
  },
  "language_info": {
   "codemirror_mode": {
    "name": "ipython",
    "version": 3
   },
   "file_extension": ".py",
   "mimetype": "text/x-python",
   "name": "python",
   "nbconvert_exporter": "python",
   "pygments_lexer": "ipython3",
   "version": "3.11.3"
  },
  "orig_nbformat": 4
 },
 "nbformat": 4,
 "nbformat_minor": 2
}
