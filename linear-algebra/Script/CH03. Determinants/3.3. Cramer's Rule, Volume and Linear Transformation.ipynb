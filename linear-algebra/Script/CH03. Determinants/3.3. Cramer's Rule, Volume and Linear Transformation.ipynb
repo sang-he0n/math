{
 "cells": [
  {
   "attachments": {},
   "cell_type": "markdown",
   "metadata": {},
   "source": [
    "# CH3.3. **Cramer's Rule, Volume and Linear Transformation**"
   ]
  },
  {
   "cell_type": "markdown",
   "metadata": {},
   "source": [
    "> ## **Cramer's Rule**"
   ]
  },
  {
   "cell_type": "markdown",
   "metadata": {},
   "source": [
    "#### **(1) 정의** : \n",
    "#### $ \\; n \\times n $ 정방 행렬 $ \\; A $ 에서 $ \\; i $ 번째 열을 b로 **치환**한 행렬을 아래와 같이 표기할 때, \n",
    "#### $ A_{i}(\\textbf{b}) = \\begin{bmatrix} \\textbf{a}_{1}&\\textbf{a}_{2}& \\cdots & \\textbf{a}_{i-1}&\\textbf{b}&\\textbf{a}_{i+1}& \\cdots & \\textbf{a}_{n} \\end{bmatrix} $\n",
    "#### 선형방정식 $ A \\textbf{x} = \\textbf{b} $ 의 $ \\; i $ 번 째 solution set의 성분 $ \\; x_{i} $ 는 다음과 같이 정의된다. \n",
    "#### $ x_{i} = {{detA_{i}{(\\textbf{b})}\\over{detA}}}, \\; i=1, 2, \\cdots, n $"
   ]
  },
  {
   "cell_type": "markdown",
   "metadata": {},
   "source": [
    "#### **(PLUS)** Cramer's rule은 행렬의 size가 커질수록 계산이 비효율적임"
   ]
  },
  {
   "cell_type": "markdown",
   "metadata": {},
   "source": [
    "#### **(WHY?)**\n",
    "#### $ A I_{i}(\\textbf{x}) = A \\begin{bmatrix} \\textbf{e}_{1}&\\cdots{}&\\textbf{e}_{i-1}&\\textbf{x}&\\textbf{e}_{i-1}&\\cdots{}&\\textbf{e}_{n} \\end{bmatrix} $\n",
    "#### $ = \\begin{bmatrix} A\\textbf{e}_{1}&\\cdots{}&A\\textbf{e}_{i-1}&A\\textbf{x}&A\\textbf{e}_{i-1}&\\cdots{}&A\\textbf{e}_{n} \\end{bmatrix} $\n",
    "#### $ = \\begin{bmatrix} \\textbf{a}_{1}&\\cdots{}&\\textbf{a}_{i-1}&A\\textbf{x}&\\textbf{a}_{i+1}&\\cdots{}&\\textbf{a}_{n} \\end{bmatrix} $\n",
    "#### $ = A_{i}(\\textbf{b}) $\n",
    "#### det $ A I_{i}(\\textbf{x}) = $ det $ A \\times{} $ det $ I_{i}(\\textbf{x}) = $ det $ A_{i}(\\textbf{b}) $\n",
    "#### det $ A $ det $ I_{i}(\\textbf{x}) = $ det $ A \\times{} x_{i} = $ det $ A_{i}(\\textbf{b}) \\; $ ( $ \\because $ Thoerem 2)\n",
    "#### $ \\therefore x_{i} = {{detA_{i}{(\\textbf{b})}\\over{detA}}} $\n",
    "<b></b>"
   ]
  },
  {
   "cell_type": "markdown",
   "metadata": {},
   "source": [
    "> ## (Theorem 7) **An Inverse Formular**"
   ]
  },
  {
   "cell_type": "markdown",
   "metadata": {},
   "source": [
    "#### Cramer's rule을 이용하여 inverse matrix를 아래와 같이 명시적으로 정의할 수 있다.\n",
    "#### $ A^{-1} = {{1}\\over{detA}}\\begin{bmatrix} C_{11}&C_{21}&\\cdots{}&C_{n1} \\\\ C_{12}&C_{22}&\\cdots{}&C_{n1} \\\\ \\cdots{}&\\cdots{}&\\cdots{}&\\cdots{} \\\\ C_{1n}&C_{2n}&\\cdots{}&C_{nn} \\end{bmatrix} = {{1}\\over{detA}} \\begin{bmatrix} C_{11}&C_{12}&\\cdots{}&C_{1n} \\\\ C_{21}&C_{22}&\\cdots{}&C_{2n} \\\\ \\cdots{}&\\cdots{}&\\cdots{}&\\cdots{} \\\\ C_{n1}&C_{n2}&\\cdots{}&C_{nn} \\end{bmatrix}^{T} = {{1}\\over{det(A)}} $ adj $ A $"
   ]
  },
  {
   "cell_type": "markdown",
   "metadata": {},
   "source": [
    "#### **(PLUS)** 이 때 cofactor로 이루어진 행렬을 Adjugate of $ \\; A $ 라고 부르며, adj $ A $ 라고 표기함"
   ]
  },
  {
   "cell_type": "markdown",
   "metadata": {},
   "source": [
    "#### **(WHY?)**\n",
    "#### if $ \\; A\\textbf{x} = \\textbf{e}_{j} $ , $ \\; \\textbf{x} = A^{-1}\\textbf{e}_{j} $\n",
    "#### 이 때 $ \\; \\textbf{x} $ 는 $ \\; A^{-1} $ 의 j번째 열의 벡터고, $ \\; x_{i} $ 는 $ \\; A^{-1} $ 의 i행 j열의 성분(entry)이므로 Cramer's rule을 이용하여\n",
    "#### $ x_{i} = {{detA_{i}{(\\textbf{e}_{j})}\\over{detA}}} = {{C_{\\textbf{ji}}\\over{detA}}} \\; $ ( $ \\because $ j번째 행에 대하여 cofactor expansion)\n",
    "#### 이를 행렬 $ A^{-1} $의 모든 entry에 적용하면 위의 식 성립\n",
    "<b></b>"
   ]
  },
  {
   "cell_type": "markdown",
   "metadata": {},
   "source": [
    "> ## **Determinants as Area or Volume**"
   ]
  },
  {
   "cell_type": "markdown",
   "metadata": {},
   "source": [
    "#### **(1) 정의** : \n",
    "#### **[CONTENTS]**"
   ]
  },
  {
   "cell_type": "markdown",
   "metadata": {},
   "source": [
    "#### **(2)**\n",
    "#### **[CONTENTS]**\n",
    "<b></b>"
   ]
  },
  {
   "cell_type": "markdown",
   "metadata": {},
   "source": [
    "> ## (Theorem 8)"
   ]
  },
  {
   "cell_type": "markdown",
   "metadata": {},
   "source": [
    "#### **[CONTENTS]**\n",
    "<b></b>"
   ]
  },
  {
   "cell_type": "markdown",
   "metadata": {},
   "source": [
    "> ## (Theorem 9) **Linear Transformation**"
   ]
  },
  {
   "cell_type": "markdown",
   "metadata": {},
   "source": [
    "#### **[CONTENTS]**\n",
    "<b></b>"
   ]
  }
 ],
 "metadata": {
  "kernelspec": {
   "display_name": "Python 3",
   "language": "python",
   "name": "python3"
  },
  "language_info": {
   "codemirror_mode": {
    "name": "ipython",
    "version": 3
   },
   "file_extension": ".py",
   "mimetype": "text/x-python",
   "name": "python",
   "nbconvert_exporter": "python",
   "pygments_lexer": "ipython3",
   "version": "3.11.3"
  },
  "orig_nbformat": 4
 },
 "nbformat": 4,
 "nbformat_minor": 2
}
