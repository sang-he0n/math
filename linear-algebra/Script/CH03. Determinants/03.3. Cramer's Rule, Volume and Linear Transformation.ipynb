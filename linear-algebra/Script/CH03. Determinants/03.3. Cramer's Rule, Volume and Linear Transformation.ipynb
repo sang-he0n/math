{
 "cells": [
  {
   "attachments": {},
   "cell_type": "markdown",
   "metadata": {},
   "source": [
    "# CH03.3. **Cramer's Rule, Volume and Linear Transformation**"
   ]
  },
  {
   "cell_type": "markdown",
   "metadata": {},
   "source": [
    "> ## **크래머 공식(Cramer's Rule)**"
   ]
  },
  {
   "cell_type": "markdown",
   "metadata": {},
   "source": [
    "#### **(1) 정의** : 행렬식을 이용하여 변수 $ \\, x_{i} $ 의 해를 구하는 방법\n",
    "#### $ \\Rightarrow{} x_{i} = \\frac{\\det{}(A(\\textbf{b}))}{\\det{}(A)}, \\;\\;\\ $ where $ \\, A_{i}(\\textbf{b}) = \\begin{bmatrix} \\textbf{a}_{1} & \\cdots{} & \\textbf{a}_{i-1} & \\textbf{b} & \\textbf{a}_{i+1} & \\cdots{} & \\textbf{a}_{n} \\end{bmatrix} $"
   ]
  },
  {
   "cell_type": "markdown",
   "metadata": {},
   "source": [
    "#### **(`PLUS`)** Cramer's rule은 행렬의 크기(size)가 커질수록 계산이 비효율적임"
   ]
  },
  {
   "cell_type": "markdown",
   "metadata": {},
   "source": [
    "#### **(`WHY?`)**\n",
    "#### $ A I_{i}(\\textbf{x}) = A \\begin{bmatrix} \\textbf{e}_{1}&\\cdots{}&\\textbf{e}_{i-1}&\\textbf{x}&\\textbf{e}_{i-1}&\\cdots{}&\\textbf{e}_{n} \\end{bmatrix} $\n",
    "#### $ \\hspace{1.15cm} = \\begin{bmatrix} A\\textbf{e}_{1}&\\cdots{}&A\\textbf{e}_{i-1}&A\\textbf{x}&A\\textbf{e}_{i-1}&\\cdots{}&A\\textbf{e}_{n} \\end{bmatrix} $\n",
    "#### $ \\hspace{1.15cm}= \\begin{bmatrix} \\textbf{a}_{1}&\\cdots{}&\\textbf{a}_{i-1}&A\\textbf{x}&\\textbf{a}_{i+1}&\\cdots{}&\\textbf{a}_{n} \\end{bmatrix} $\n",
    "#### $ \\hspace{1.15cm} = A_{i}(\\textbf{b}) $\n",
    "#### $ \\det{}(A I_{i}(\\textbf{x})) = \\det{}(A) \\times{} \\det{}(I_{i}(\\textbf{x})) = \\det{}(A) \\times{} x_{i} = \\det{}(A_{i}(\\textbf{b})) \\;\\; $ ($ \\because{} \\, $ Thoerem 3-2)\n",
    "#### $ \\therefore{} x_{i} = \\frac{\\det{}(A(\\textbf{b}))}{\\det{}(A)} \\;\\; $ (Theorem 3-7)"
   ]
  },
  {
   "cell_type": "markdown",
   "metadata": {},
   "source": [
    "#### **(2) 예시** : \n",
    "#### $ \\hspace{0.15cm} $ ① 어떠한 선형시스템의 해를 크래머 공식을 이용하여 구하고자 할 때\n",
    "#### $ \\hspace{0.45cm} \\begin{cases} 3x_{1} - 2x_{2} &= 6 \\\\ -5x_{1} + 4x_{2} &= 8 \\end{cases} \\; \\rightarrow{} \\; A\\textbf{x} = \\textbf{b} \\; \\rightarrow{} \\; \\begin{bmatrix} 3 & -2 \\\\ -5 & 4 \\end{bmatrix} \\begin{bmatrix} x_{1} \\\\ x_{2} \\end{bmatrix} = \\begin{bmatrix} 6 \\\\ 8 \\end{bmatrix} $\n",
    "#### $ \\hspace{0.45cm} A = \\begin{bmatrix} 3 & -2 \\\\ -5 & 4 \\end{bmatrix}, \\;\\; \\det{}(A) = 2 $\n",
    "#### $ \\hspace{0.45cm} A_{1}(\\textbf{b}) = \\begin{bmatrix} 6&-2 \\\\ 8&4 \\end{bmatrix}, \\;\\; \\det{}(A_{1}(\\textbf{b})) = 40 $ \n",
    "#### $ \\hspace{0.45cm} A_{2}(\\textbf{b}) = \\begin{bmatrix} 3&6 \\\\ -5&8 \\end{bmatrix}, \\;\\; \\det{}(A_{2}(\\textbf{b})) = 54 $ \n",
    "#### $ \\hspace{0.45cm} \\therefore{} x_{1} = \\frac{\\det{}(A_{1}(\\textbf{b}))}{\\det{}(A)} = \\frac{40}{2} = 20, \\;\\; x_{2} = \\frac{\\det{}(A_{2}(\\textbf{b}))}{\\det{}(A)} = \\frac{54}{2} = 27 $ \n",
    "#### $ \\hspace{0.15cm} $ ② **[CONTENTS]**"
   ]
  },
  {
   "cell_type": "markdown",
   "metadata": {},
   "source": [
    "<b></b>"
   ]
  },
  {
   "cell_type": "markdown",
   "metadata": {},
   "source": [
    "> ## (Theorem 3-8) **an Inverse Formular**"
   ]
  },
  {
   "cell_type": "markdown",
   "metadata": {},
   "source": [
    "#### 크래머 공식을 이용하여 역 행렬을 아래와 같이 정의할 수 있다.\n",
    "#### $ \\Rightarrow{} A^{-1} = \\frac{1}{\\det{}(A)}\\begin{bmatrix} C_{1,1}&C_{2,1}&\\cdots{}&C_{n,1} \\\\ C_{1,2}&C_{2,2}&\\cdots{}&C_{n,1} \\\\ \\vdots{}&\\vdots{}&\\ddots{}&\\vdots{} \\\\ C_{1,n}&C_{2,n}&\\cdots{}&C_{n,n} \\end{bmatrix} = {{1}\\over{\\det{}(A)}} \\begin{bmatrix} C_{1,1}&C_{1,2}&\\cdots{}&C_{1,n} \\\\ C_{2,1}&C_{2,2}&\\cdots{}&C_{2,n} \\\\ \\vdots{}&\\vdots{}&\\ddots{}&\\vdots{} \\\\ C_{n,1}&C_{n,2}&\\cdots{}&C_{n,n} \\end{bmatrix}^{T} = {{1}\\over{det(A)}} \\cdot{} \\text{adj}(A) $"
   ]
  },
  {
   "cell_type": "markdown",
   "metadata": {},
   "source": [
    "#### **(`PLUS`)** 이 때 여인수(cofactor)로 이루어진 행렬을 수반행렬(Adjugate matrix of $ \\, A $) 라고 부르며, $ \\, \\text{adj}(A) $ 라고 표기"
   ]
  },
  {
   "cell_type": "markdown",
   "metadata": {},
   "source": [
    "#### **(`WHY?`)**\n",
    "#### if $ \\, A\\textbf{x} = \\textbf{e}_{j}, \\;\\; \\textbf{x} = A^{-1}\\textbf{e}_{j} = \\textbf{a}^{-1}_{j} $\n",
    "#### $ (i$-$j) \\, $ entry of $ \\, A^{-1} $ $ = a^{-1}_{i,j} = \\frac{\\det{}(A_{i}(\\textbf{e}_{j}))}{\\det{}(A)} = \\frac{\\bf{C_{j,i}}}{\\det{}(A)} \\;\\; $ ($ \\textbf{NOT} \\,\\, C_{i,j} $)\n",
    "#### $ \\Rightarrow{} A^{-1} = \\begin{bmatrix} a^{-1}_{1,1}&a^{-1}_{1,2}&\\cdots{}&a^{-1}_{1,n} \\\\ a^{-1}_{2,1}&a^{-1}_{2,2}&\\cdots{}&a^{-1}_{2,n} \\\\ \\vdots{}&\\vdots{}&\\ddots{}&\\vdots{} \\\\ a^{-1}_{n,1}&a^{-1}_{n,2}&\\cdots{}&a^{-1}_{n,n} \\end{bmatrix} = \\frac{1}{\\det{}(A)}\\begin{bmatrix} C_{11}&C_{21}&\\cdots{}&C_{n1} \\\\ C_{12}&C_{22}&\\cdots{}&C_{n1} \\\\ \\vdots{}&\\vdots{}&\\ddots{}&\\vdots{} \\\\ C_{1n}&C_{2n}&\\cdots{}&C_{nn} \\end{bmatrix} $"
   ]
  },
  {
   "cell_type": "markdown",
   "metadata": {},
   "source": [
    "<b></b>"
   ]
  },
  {
   "cell_type": "markdown",
   "metadata": {},
   "source": [
    "> ## **행렬식을 이용한 넓이와 부피(Determinants as Area or Volume)**"
   ]
  },
  {
   "cell_type": "markdown",
   "metadata": {},
   "source": [
    "#### **(1) 넓이(area)** : $ \\mathbb{R}^{2} $ 차원 벡터 공간에서 벡터 $ \\, \\textbf{v}_{1},\\, \\textbf{v}_{2} $ 가 형성하는 평행사변형의 넓이는 행렬식을 이용해 계산\n",
    "#### $ \\Rightarrow{} S = | \\det{}(\\begin{bmatrix} \\textbf{v}_{1} & \\textbf{v}_{2} \\end{bmatrix}) | = | \\det{}(\\begin{bmatrix} v_{1,1}&v_{1,2} \\\\ v_{2,1}&v_{2,2} \\end{bmatrix}) | $"
   ]
  },
  {
   "cell_type": "markdown",
   "metadata": {},
   "source": [
    "#### **(`WHY?`)** (3-9)\n",
    "#### **[GRAPH]**\n",
    "#### $ A = \\begin{bmatrix} \\textbf{v}_{1} & \\textbf{v}_{2} \\end{bmatrix} $ ~ $ \\begin{bmatrix} \\textbf{v}_{1}^{*} & \\textbf{v}_{2}^{*} \\end{bmatrix} $\n",
    "#### $ S = | \\det{}(\\begin{bmatrix} \\textbf{v}_{1} & \\textbf{v}_{2} \\end{bmatrix}) | = | \\det{}(\\begin{bmatrix} \\textbf{v}_{1}^{*} & \\textbf{v}_{2}^{*} \\end{bmatrix}) | $ "
   ]
  },
  {
   "cell_type": "markdown",
   "metadata": {},
   "source": [
    "#### **(2) 부피(volume)** : $ \\mathbb{R}^{3} $ 차원 벡터 공간에서 벡터 $ \\, \\textbf{v}_{1},\\, \\textbf{v}_{2},\\, \\textbf{v}_{3} $ 가 형성하는 평행육면체의 부피는 행렬식을 이용해 계산\n",
    "#### $ \\Rightarrow{} V = | \\det{}(\\begin{bmatrix} \\textbf{v}_{1} & \\textbf{v}_{2} & \\textbf{v}_{3} \\end{bmatrix}) | = | \\det{}(\\begin{bmatrix} v_{1,1}&v_{1,2}&v_{1,3} \\\\ v_{2,1}&v_{2,2}&v_{2,3} \\\\ v_{3,1}&v_{3,2}&v_{3,3} \\end{bmatrix}) | $"
   ]
  },
  {
   "cell_type": "markdown",
   "metadata": {},
   "source": [
    "<b></b>"
   ]
  },
  {
   "cell_type": "markdown",
   "metadata": {},
   "source": [
    "> ## (Theorem 3-10) **Geometric Scaling by Determinants**"
   ]
  },
  {
   "cell_type": "markdown",
   "metadata": {},
   "source": [
    "#### **[CONTENTS]**\n",
    "<b></b>"
   ]
  }
 ],
 "metadata": {
  "kernelspec": {
   "display_name": "Python 3",
   "language": "python",
   "name": "python3"
  },
  "language_info": {
   "codemirror_mode": {
    "name": "ipython",
    "version": 3
   },
   "file_extension": ".py",
   "mimetype": "text/x-python",
   "name": "python",
   "nbconvert_exporter": "python",
   "pygments_lexer": "ipython3",
   "version": "3.11.3"
  },
  "orig_nbformat": 4
 },
 "nbformat": 4,
 "nbformat_minor": 2
}
