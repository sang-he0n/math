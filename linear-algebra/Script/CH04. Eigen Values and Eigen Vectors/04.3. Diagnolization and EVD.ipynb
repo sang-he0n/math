{
 "cells": [
  {
   "attachments": {},
   "cell_type": "markdown",
   "metadata": {},
   "source": [
    "# CH04.3. **Diagnolization and Eigen Value Decomposition**"
   ]
  },
  {
   "cell_type": "markdown",
   "metadata": {},
   "source": [
    "> ## **대각 행렬(Diagonal Matrix)**"
   ]
  },
  {
   "cell_type": "markdown",
   "metadata": {},
   "source": [
    "#### **(1) 정의** : 주대각선 상에 위치한 원소가 아닌 나머지가 $ \\, 0 $ 인 행렬\n",
    "#### $ \\Rightarrow{} D = \\begin{bmatrix} d_{1,1} & 0 & \\cdots{} & 0 \\\\ 0 & d_{2,2} & \\cdots{} & 0 \\\\ \\vdots{} & \\vdots{} & \\ddots{} & \\vdots{} \\\\ 0 & 0 & \\cdots{} & d_{n,n} \\end{bmatrix} $"
   ]
  },
  {
   "cell_type": "markdown",
   "metadata": {},
   "source": [
    "##### **(2) 성질** : \n",
    "##### $ \\hspace{0.15cm} $ ① 대각 행렬의 $ \\, k $ 제곱은 각 대각 원소를 $ \\, k $ 제곱한 대각행렬과 같음\n",
    "##### $ \\hspace{0.45cm} \\Rightarrow{} D^{k} = \\begin{bmatrix} 1^{k}&0 \\\\ 0&3^{k} \\end{bmatrix} $\n",
    "##### $ \\hspace{0.15cm} $ ② 대각 행렬과 어떠한 정방 행렬을 곱할 경우 컬럼 단위 스케일링의 효과가 있음\n",
    "##### $ \\hspace{0.45cm} \\Rightarrow{} XD = \\begin{bmatrix} x_{1} & x_{2} \\\\ x_{3} & x_{4} \\end{bmatrix} \\begin{bmatrix} 1 & 0 \\\\ 0 & 3 \\end{bmatrix} = \\begin{bmatrix} x_{1} & 3x_{2} \\\\ x_{3} & 3x_{4} \\end{bmatrix} $ \n",
    "##### $ \\hspace{0.15cm} $ ③ 어떠한 정방 행렬과 대각 행렬을 곱할 경우 행 단위 스케일링의 효과가 있음\n",
    "##### $ \\hspace{0.45cm} \\Rightarrow{} DX = \\begin{bmatrix} 1 & 0 \\\\ 0 & 3 \\end{bmatrix} \\begin{bmatrix} x_{1} & x_{2} \\\\ x_{3} & x_{4} \\end{bmatrix} = \\begin{bmatrix} x_{1} & x_{2} \\\\ 3x_{3} & 3x_{4} \\end{bmatrix} $ \n",
    "##### $ \\hspace{0.15cm} $ ④ 대각 행렬의 역행렬은 각 대각 원소의 역수로 이루어짐\n",
    "##### $ \\hspace{0.45cm} \\Rightarrow{} D^{-1} = \\begin{bmatrix} 1 & 0 \\\\ 0 & \\frac{1}{3} \\end{bmatrix} $ "
   ]
  },
  {
   "cell_type": "markdown",
   "metadata": {},
   "source": [
    "<b></b>"
   ]
  },
  {
   "cell_type": "markdown",
   "metadata": {},
   "source": [
    "> ## **대각화(Diagnolization)**"
   ]
  },
  {
   "cell_type": "markdown",
   "metadata": {},
   "source": [
    "#### **(1) 정의** : 어떠한 정방 행렬 $ \\, A \\, $ 및 가역 행렬 $ \\, P $ 와 대각 행렬 $ \\, D $ 가 존재할 때 아래를 만족하는 $ \\, A  $ 의 형태\n",
    "#### $ \\Rightarrow{} A = PDP^{-1} \\;\\; \\text{ where } \\, D \\, \\text{ is diagonal matrix} \\; \\text{ and } \\, P \\, \\text{ is invertible}. $"
   ]
  },
  {
   "cell_type": "markdown",
   "metadata": {},
   "source": [
    "#### **(2) 예시** :\n",
    "##### $ \\hspace{0.15cm} $ ① 정방 행렬 $ \\, A^{k} $ 를 구하고자 할 때\n",
    "##### $ \\hspace{0.45cm} \\cdot{} A = \\begin{bmatrix} 7&2 \\\\-4&1 \\end{bmatrix}, \\, D = \\begin{bmatrix} 5&0 \\\\ 0&3 \\end{bmatrix}, \\, P = \\begin{bmatrix} 1&1 \\\\ -1&-2 \\end{bmatrix}, \\;\\; A = PDP^{-1} $\n",
    "##### $ \\hspace{0.45cm} \\cdot{} A^{2} = PDP^{-1}PDP^{-1} = PDDP^{-1} = PD^{2}P^{-1} = \\begin{bmatrix} 1&1 \\\\ -1&-2 \\end{bmatrix} \\begin{bmatrix} 5^{2}&0 \\\\ 0&3^{2} \\end{bmatrix} \\begin{bmatrix} 2&1 \\\\-1&-1 \\end{bmatrix} $ \n",
    "##### $ \\hspace{0.6cm} \\cdots{} $\n",
    "##### $ \\hspace{0.45cm} \\therefore{} A^{k} = \\begin{bmatrix} 1&1 \\\\ -1&-2 \\end{bmatrix} \\begin{bmatrix} 5^{k}&0 \\\\ 0&3^{k} \\end{bmatrix} \\begin{bmatrix} 2&1 \\\\-1&-1 \\end{bmatrix} = \\begin{bmatrix} 2\\cdot{}5^{k}-3^{k}&5^{k}&5^{k}-3^{k} \\\\ 3^{k}&2\\cdot{}3^{k}-2\\cdot{}5^{k}&2\\cdot{}3^{k}-5^{k} \\end{bmatrix} $\n",
    "##### $ \\hspace{0.15cm} $ ② **[CONTENTS]** "
   ]
  },
  {
   "cell_type": "markdown",
   "metadata": {},
   "source": [
    "<b></b>"
   ]
  },
  {
   "cell_type": "markdown",
   "metadata": {},
   "source": [
    "> ## (Thorem 4-4) **The Diagonalization Theorem**"
   ]
  },
  {
   "cell_type": "markdown",
   "metadata": {},
   "source": [
    "#### 어떠한 정방 행렬 $ \\, \\underset{n\\times{}n}{A} $ 가 대각화 가능(diagonalizable;$ \\, A = PDP^{-1} $)하면, 아래의 성질이 성립한다.\n",
    "#### **(1)** 행렬 $ \\, A $ 는 $ \\, n $ 개의 선형 독립(linearly independent)인 고유 벡터 집합을 갖는다.\n",
    "#### **(2)** 행렬 $ \\, D $ 의 대각 성분(diagnoal entry)은 $ \\, A $ 의 고유값(eigen value)으로 이루어져 있다.\n",
    "#### **(3)** 행렬 $ \\, P $ 의 열벡터 집합은 $ \\, A $ 의 **선형 독립**인 고유 벡터로 이루어져 있다.\n",
    "#### $ \\Rightarrow{} $ 정방 행렬 $ \\, A $ 를 대각화를 수행한다면, **고유값 분해(eigen value decomposition)를 수행한 것과 동일**하다."
   ]
  },
  {
   "cell_type": "markdown",
   "metadata": {},
   "source": [
    "##### **(`WHY?`)** \n",
    "##### $ \\hspace{0.15cm} \\text{if } \\, A = PDP^{-1}. $\n",
    "##### $ \\hspace{0.3cm} AP = PDP^{-1}P = PD $\n",
    "##### $ \\hspace{0.3cm} AP = A \\begin{bmatrix} \\textbf{p}_{1}&\\textbf{p}_{2}&\\cdots{}&\\textbf{p}_{n} \\end{bmatrix} = \\begin{bmatrix} A\\textbf{p}_{1}&A\\textbf{p}_{2}&\\cdots{}&A\\textbf{p}_{n} \\end{bmatrix} $\n",
    "##### $ \\hspace{0.3cm} PD = P \\begin{bmatrix} d_{1,1}&0&\\cdots{}&0 \\\\ 0&d_{2,2}&\\cdots{}&0 \\\\ \\cdots{}&\\cdots{}&\\cdots{}&\\cdots{} \\\\ 0&0&0&d_{n,n} \\end{bmatrix} = \\begin{bmatrix} \\textbf{p}_{1}&\\textbf{p}_{2}&\\cdots{}&\\textbf{p}_{n} \\end{bmatrix} \\begin{bmatrix} d_{1,1}&0&\\cdots{}&0 \\\\ 0&d_{2,2}&\\cdots{}&0 \\\\ \\cdots{}&\\cdots{}&\\cdots{}&\\cdots{} \\\\ 0&0&0&d_{n,n} \\end{bmatrix} $\n",
    "##### $ \\hspace{1cm} = \\begin{bmatrix} d_{1,1}\\textbf{p}_{1}&d_{2,2}\\textbf{p}_{2}&\\cdots{}&d_{n,n}\\textbf{p}_{n} \\end{bmatrix} $\n",
    "##### $ \\hspace{0.3cm} \\begin{bmatrix} A\\textbf{p}_{1}&A\\textbf{p}_{2}&\\cdots{}&A\\textbf{p}_{n} \\end{bmatrix} = \\begin{bmatrix} d_{1,1}\\textbf{p}_{1}&d_{2,2}\\textbf{p}_{2}&\\cdots{}&d_{n,n}\\textbf{p}_{n} \\end{bmatrix} $\n",
    "##### $ \\hspace{0.3cm} A\\textbf{p}_{i} = d_{i,i}\\textbf{p}_{i} $\n",
    "##### $ \\hspace{0.15cm} \\therefore{} \\textbf{p} \\, \\text{ is eigen vector of } \\, A, \\;\\; d_{i,i} \\, \\text{ is eigen value}(\\lambda{}) \\, \\text{ of } \\, A. $"
   ]
  },
  {
   "cell_type": "markdown",
   "metadata": {},
   "source": [
    "##### **(`PLUS`)** 단 고유값은 **유일하지 않음**(중복 존재 가능)"
   ]
  },
  {
   "cell_type": "markdown",
   "metadata": {},
   "source": [
    "<b></b>"
   ]
  },
  {
   "cell_type": "markdown",
   "metadata": {},
   "source": [
    "> ## **고유값 분해(Eigen Value Decomposition;EVD)**"
   ]
  },
  {
   "cell_type": "markdown",
   "metadata": {},
   "source": [
    "#### **(1) 정의** : 어떠한 정방 행렬 $ \\, \\underset{n\\times{}n}{A} $ 을 **대각화가 가능할경우**, 이를 고유값과 고유벡터의 형태로 표현하는 연산\n",
    "#### $ \\Rightarrow{} A = V\\Lambda{}V^{-1} \\;\\; \\text{ where } \\, \\Lambda{} = \\begin{bmatrix} \\lambda{}_{1} & 0 & \\cdots{} & 0 \\\\ 0 & \\lambda{}_{2} & \\cdots{} & 0 \\\\ \\vdots{} & \\vdots{} & \\ddots{} & \\vdots{} \\\\ 0 & 0 & \\cdots{} & \\lambda{}_{n} \\end{bmatrix} \\; \\text{ and } \\, V \\, \\text{ is matrix of eigen vector}. $"
   ]
  },
  {
   "cell_type": "markdown",
   "metadata": {},
   "source": [
    "#### **(2) 판별(연산) 방법** : \n",
    "##### $ \\hspace{0.15cm} $ ① 정방 행렬 $ \\, \\underset{n\\times{}n}{A} $ 가 존재할 때, 특성방정식을 통해 고유값을 구함\n",
    "##### $ \\hspace{0.55cm} A = \\begin{bmatrix} 1 & 3 & 3 \\\\ -3 & -5 & -3 \\\\ 3 & 3 & 1 \\end{bmatrix}, \\;\\; (A-\\lambda{}I) = \\begin{bmatrix} 1-\\lambda{} & 3 & 3 \\\\ -3 & -5-\\lambda{} & -3 \\\\ 3 & 3 & 1-\\lambda{} \\end{bmatrix} $ \n",
    "##### $ \\hspace{0.55cm} \\det{}((A-\\lambda{}I)) = \\det{}(\\begin{bmatrix} 1-\\lambda{} & 3 & 3 \\\\ -3 & -5-\\lambda{} & -3 \\\\ 3 & 3 & 1-\\lambda{} \\end{bmatrix}) $\n",
    "##### $ \\hspace{2.875cm} = \\det{}(\\begin{bmatrix} 1-\\lambda{} & 3 & 3 \\\\ -3 & -5-\\lambda{} & -3 \\\\ 0 & -2-\\lambda{} & -2-\\lambda{} \\end{bmatrix}) \\;\\; $ ($ \\because{} \\, $ Theorem 3-3)\n",
    "##### $ \\hspace{2.875cm} = a_{3,1} C_{3,1} + a_{3,2} C_{3,2} + a_{3,3} C_{3,3} $\n",
    "##### $ \\hspace{2.875cm} = 0 \\det{}(A_{3,1}) - a_{3,2} \\det{}(A_{3,2}) + a_{3,3} \\det{}(A_{3,3}) $\n",
    "##### $ \\hspace{2.875cm} = - (-2-\\lambda{}) \\det{}(\\begin{bmatrix} 1-\\lambda{} & 3 \\\\ -3 & -3 \\end{bmatrix}) + (-2-\\lambda{}) \\det{}(\\begin{bmatrix} 1-\\lambda{} & 3 \\\\ -3 & -5-\\lambda{} \\end{bmatrix}) $\n",
    "##### $ \\hspace{2.875cm} = -(-2-\\lambda{})(3\\lambda{}+6) + (-2-\\lambda{})(\\lambda{}^{2}+4\\lambda{}+4) $\n",
    "##### $ \\hspace{2.875cm} = -(-2-\\lambda{})(-\\lambda{}^{2}-\\lambda{}+2) $\n",
    "##### $ \\hspace{2.875cm} = -(\\lambda{}-1)(\\lambda{}+2)^{2} = 0 $\n",
    "##### $ \\hspace{0.55cm} \\Rightarrow{} \\lambda{} = 1 (\\text{multiplicity} = 1) \\, \\text{ or } \\, \\lambda{} = -2(\\text{multiplicity} = 2) $\n",
    "##### $ \\hspace{0.15cm} $ ② 행렬 $ \\, A $ 의 고유값에 대응되는 고유 공간을 찾음\n",
    "##### $ \\hspace{0.55cm} \\text{if } \\, \\lambda{} = 1, \\;\\; A - \\lambda{}I = A - I = \\begin{bmatrix} 0 & 3 & 3 \\\\ -3 & -6 & -3 \\\\ 3 & 3 & 0 \\end{bmatrix} $ \n",
    "##### $ \\hspace{0.55cm} \\begin{bmatrix} A-I & 0 \\end{bmatrix} = \\begin{bmatrix} 0 & 3 & 3 & 0 \\\\ -3 & -6 & -3 & 0 \\\\ 3 & 3 & 0 & 0 \\end{bmatrix} $ ~ $ \\begin{bmatrix} 1 & 0 & -1 & 0 \\\\ 0 & 1 & 1 & 0 \\\\0 & 0 & 0 & 0 \\end{bmatrix} $\n",
    "##### $ \\hspace{0.55cm} \\textbf{x} = x_{3} \\begin{bmatrix} 1 \\\\ -1 \\\\ 1 \\end{bmatrix}, \\;\\; \\text{Nul}(A-I) = \\text{span} \\{ \\begin{bmatrix} 1 \\\\ -1 \\\\ 1 \\end{bmatrix} \\} $\n",
    "##### $ \\hspace{0.55cm} \\text{if } \\, \\lambda{} = -2, \\;\\; A - \\lambda{}I = A + 2I = \\begin{bmatrix} 3 & 3 & 3 \\\\ -3 & -3 & -3 \\\\ 3 & 3 & 3 \\end{bmatrix} $\n",
    "##### $ \\hspace{0.55cm} \\begin{bmatrix} A+2I & 0 \\end{bmatrix} = \\begin{bmatrix} 3 & 3 & 3 & 0 \\\\ -3 & -3 & -3 & 0 \\\\ 3 & 3 & 3 & 0 \\end{bmatrix} $ ~ $ \\cdots{} $ ~ $ \\begin{bmatrix} 1 & 1 & 1 & 0 \\\\ 0 & 0 & 0 & 0 \\\\0 & 0 & 0 & 0 \\end{bmatrix} $\n",
    "##### $ \\hspace{0.55cm} \\textbf{x} = x_{2} \\begin{bmatrix} -1 \\\\ 1 \\\\ 0 \\end{bmatrix} + x_{3} \\begin{bmatrix} -1 \\\\ 0 \\\\ 1 \\end{bmatrix}, \\;\\; \\text{Nul}(A+2I) = \\text{span} \\{ \\begin{bmatrix} -1 \\\\ 1 \\\\ 0 \\end{bmatrix}, \\begin{bmatrix} -1 \\\\ 0 \\\\ 1 \\end{bmatrix} \\} $\n",
    "##### $ \\hspace{0.55cm} \\text{Nul}(A-\\lambda{}I) = \\begin{cases} \\text{span} \\{ \\begin{bmatrix} 1 \\\\ -1 \\\\ 1 \\end{bmatrix} \\} \\;\\;\\;\\;\\;\\;\\;\\;\\;\\;\\;\\;\\;\\, \\text{if } \\, \\lambda{} = 1 \\\\ \\\\ \\text{span} \\{ \\begin{bmatrix} -1 \\\\ 1 \\\\ 0 \\end{bmatrix}, \\begin{bmatrix} -1 \\\\ 0 \\\\ 1 \\end{bmatrix} \\} \\;\\; \\text{if } \\, \\lambda{} = - 2 \\end{cases} $\n",
    "##### $ \\hspace{0.55cm} \\therefore{} \\text{eigen vector set} = \\{ \\begin{bmatrix} 1 \\\\ -1 \\\\ 1 \\end{bmatrix}, \\begin{bmatrix} -1 \\\\ 1 \\\\ 0 \\end{bmatrix}, \\begin{bmatrix} -1 \\\\ 0 \\\\ 1 \\end{bmatrix}\\} $\n",
    "##### $ \\hspace{0.15cm} $ ③ 고유 벡터의 개수가 $ \\, n $ 개 이상이라면 대각화가 가능하나, 이하라면 **대각화가 불가함**\n",
    "##### $ \\hspace{0.15cm} $ ④ 고유값과 고유벡터를 이용하여 행렬 $ \\, V, \\, \\Lambda{} $ 를 정의함\n",
    "##### $ \\hspace{0.55cm} V = \\begin{bmatrix} 1 & -1 & -1 \\\\ -1 & 1 & 0 \\\\ 1 & 0 & 1 \\end{bmatrix} $\n",
    "##### $ \\hspace{0.55cm} \\Lambda{} = \\begin{bmatrix} 1 & 0 & 0 \\\\ 0 & -2 & 0 \\\\ 0 & 0 & -2 \\end{bmatrix} $\n",
    "##### $ \\hspace{0.55cm} \\therefore{} A = \\begin{bmatrix} 1 & -1 & -1 \\\\ -1 & 1 & 0 \\\\ 1 & 0 & 1 \\end{bmatrix} \\begin{bmatrix} 1 & 0 & 0 \\\\ 0 & -2 & 0 \\\\ 0 & 0 & -2 \\end{bmatrix} \\begin{bmatrix} 1 & -1 & -1 \\\\ -1 & 1 & 0 \\\\ 1 & 0 & 1 \\end{bmatrix}^{-1} = V\\Lambda{}V^{-1} $"
   ]
  },
  {
   "cell_type": "markdown",
   "metadata": {},
   "source": [
    "##### **(`PLUS`)** 행렬 $ \\, V $ 에서 고유 벡터의 열 위치(순서)는 대각 행렬 $ \\, \\Lambda{} $ 의 대각 성분, 고유값과 대응되게 정의해야함"
   ]
  },
  {
   "cell_type": "markdown",
   "metadata": {},
   "source": [
    "#### **(3) 예시** :\n",
    "##### $ \\hspace{0.15cm} $ ① **[LATEX]**\n",
    "##### $ \\hspace{0.15cm} $ ② **[LATEX]**"
   ]
  },
  {
   "cell_type": "markdown",
   "metadata": {},
   "source": [
    "<b></b>"
   ]
  },
  {
   "cell_type": "markdown",
   "metadata": {},
   "source": [
    "> ## (Thorem 4-5) **Condition for Diagonalizability**"
   ]
  },
  {
   "cell_type": "markdown",
   "metadata": {},
   "source": [
    "#### 어떠한 $ n \\times{} n \\, $ 행렬이 $ \\, n $ 개의 유일한 고유값을 가진다면, 그 행렬은 대각화 가능(diagonalizable)하다. $ = $ 고유값 분해가 가능하다."
   ]
  },
  {
   "cell_type": "markdown",
   "metadata": {},
   "source": [
    "<b></b>"
   ]
  },
  {
   "cell_type": "markdown",
   "metadata": {},
   "source": [
    "> ## (Thorem 4-6) **Eigenvalue Diagonalization Theorem**"
   ]
  },
  {
   "cell_type": "markdown",
   "metadata": {},
   "source": [
    "#### 정방 행렬 $ \\, \\underset{n\\times{}n}{A} $ 가 $ \\, p $ 개의 유일한 고유값(eigen value)를 가질경우 아래가 성립한다.\n",
    "#### **(1)** 고유값에 대응되는 고유 공간의 차원은 그 공간을 구성하는 고유값의 중복도(multiplicity)보다 같거나 작다. \n",
    "#### $ \\Rightarrow{} \\underbrace{\\text{dim}(\\text{Nul}(A-\\lambda{}_{k}I))}_{\\text{기하적(geometric) 중복도}} \\leq{} \\underbrace{\\text{multiplicity of } \\, \\lambda{}_{k}}_{\\text{대수적(algebraic) 중복도}}, \\;\\; \\text{ for } \\, 1\\leq{}k\\leq{}p $"
   ]
  },
  {
   "cell_type": "markdown",
   "metadata": {},
   "source": [
    "##### **(`PLUS`)** 고유값에 대응되는 고유 공간의 차원은 **선형 독립인 고유벡터들의 최대 개수를 의미**함"
   ]
  },
  {
   "cell_type": "markdown",
   "metadata": {},
   "source": [
    "#### **(2)** 개별 고유 공간의 차원의 합이 $ \\, n $ 이라면, 행렬 $ \\, A $ 는 대각화 가능(diagonalizable)하다.\n",
    "#### $ \\Rightarrow{} A \\, \\text{ is diagonalizable}. $\n",
    "#### $ \\Leftrightarrow{} \\displaystyle\\sum^{p}_{k=1} \\text{dim}(\\text{Nul}(A-\\lambda{}_{k}I)) = n $\n",
    "##### $ \\Leftrightarrow{} \\text{dim}(\\text{Nul}(A-\\lambda{}_{k}I)) = \\text{multiplicity of } \\, \\lambda{}_{k}, \\;\\; \\text{ for } \\, 1\\leq{}k\\leq{}p $"
   ]
  },
  {
   "cell_type": "markdown",
   "metadata": {},
   "source": [
    "<b></b>"
   ]
  },
  {
   "cell_type": "markdown",
   "metadata": {},
   "source": [
    "> ## **조르당 표준형(Jordan canonical form**)"
   ]
  },
  {
   "cell_type": "markdown",
   "metadata": {},
   "source": [
    "#### **(1) 정의** : 정방 행렬이 대각화가 불가능할 때 그 행렬과 유사(similar)하고 대각 행렬에 가장 가까운 분할 행렬(partitioned matrix)\n",
    "#### $ \\Rightarrow{} \\, A = PJP^{-1} \\;\\; \\text{ where } \\, J = \\begin{bmatrix} J_{1}&0&\\cdots{}&0 \\\\ 0&J_{2}&\\cdots{}&0 \\\\ \\vdots{}&\\vdots{}&\\ddots{}&\\vdots{} \\\\ 0&0&\\cdots{}&J_{n} \\end{bmatrix}, \\;\\; J_{i} = \\begin{bmatrix} \\lambda{i}&1&\\cdots{}&0&0 \\\\ 0&\\lambda{}_{i}&\\cdots{}&0&0 \\\\ \\vdots{}&\\vdots{}&\\ddots{}&\\vdots{}&\\vdots{} \\\\ 0&0&\\cdots{}&\\lambda{}_{i}&1 \\\\ 0&0&\\cdots{}&0&\\lambda{}_{i} \\end{bmatrix} $"
   ]
  },
  {
   "cell_type": "markdown",
   "metadata": {},
   "source": [
    "#### **(2) 연산 방법** :\n",
    "##### $ \\hspace{0.15cm} $ ① $ 2 \\times{} 2 \\, $ 행렬 $ \\, A $ 가 존재할 때, 특성방정식을 통해 고유값을 구함\n",
    "##### $ \\hspace{0.45cm} \\cdot{} A = \\begin{bmatrix} 4&-9 \\\\ 4&-8 \\end{bmatrix} $\n",
    "##### $ \\hspace{0.45cm} \\cdot{} \\det{}(A-\\lambda{}) = 0 = (4-\\lambda{})(-8-\\lambda{}) +36 = \\lambda{}^{2} + 8 \\lambda{} - 4\\lambda{} -32 + 36 = \\lambda{}^{2} + 4\\lambda{} + 4 $\n",
    "##### $ \\hspace{0.45cm} \\Rightarrow{} \\lambda{} = - 2 (\\text{multiplicity}=2) $\n",
    "##### $ \\hspace{0.15cm} $ ② 행렬 $ \\, A $ 의 고유값에 대응되는 고유 공간을 찾음\n",
    "##### $ \\hspace{0.45cm} \\cdot{} \\begin{bmatrix} (A+2I) & \\textbf{0} \\end{bmatrix} = \\begin{bmatrix} 6&-9&0 \\\\ 4&-6&0 \\end{bmatrix} $ ~ $ \\cdots{} $ ~ $ \\begin{bmatrix} 1&-\\frac{3}{2}&0 \\\\ 0&0&0 \\end{bmatrix} $ \n",
    "##### $ \\hspace{0.6cm} \\textbf{x} = x_{2} \\begin{bmatrix} \\frac{3}{2} \\\\ 1 \\end{bmatrix}, \\;\\; \\text{Nul}(A-\\lambda{}I) = \\text{span}\\{ \\begin{bmatrix} \\frac{3}{2} \\\\ 1 \\end{bmatrix} \\}, \\;\\; \\dim{}(\\text{Nul}(A-\\lambda{}I)) = 1 \\;\\; $ ($ \\because{} \\, $ span 안에 생성 벡터가 $ \\, 1 $ 개)\n",
    "##### $ \\hspace{0.15cm} $ ③ 고유 벡터의 개수가 $ \\, 1 $ 개라서 **대각화가 불가함**\n",
    "##### $ \\hspace{0.15cm} $ ④ **일반화 고유 벡터 $ \\, \\textbf{v} $ 를 찾음**\n",
    "##### $ \\hspace{0.45cm} \\cdot{} (A+2I) \\textbf{v} = \\textbf{x} = x_{2} \\begin{bmatrix} \\frac{3}{2} \\\\ 1 \\end{bmatrix} = \\begin{bmatrix} 3 \\\\ 2 \\end{bmatrix}, \\;\\; \\text{ where } \\, x_{2} = 2 $ (편한 거 아무거나 괜찮음) \n",
    "##### $ \\hspace{0.45cm} \\cdot{} \\begin{bmatrix} (A+2I) & \\textbf{x} \\end{bmatrix} = \\begin{bmatrix} 6&-9&3 \\\\ 4&-6&2 \\end{bmatrix} $ ~ $ \\cdots{} $ ~ $ \\begin{bmatrix} \\end{bmatrix} $ **[LATEX]**"
   ]
  },
  {
   "cell_type": "markdown",
   "metadata": {},
   "source": [
    "#### **(3) 예시** :\n",
    "##### $ \\hspace{0.15cm} $ ① **[LATEX]**\n",
    "##### $ \\hspace{0.15cm} $ ② **[LATEX]**"
   ]
  }
 ],
 "metadata": {
  "kernelspec": {
   "display_name": "Python 3",
   "language": "python",
   "name": "python3"
  },
  "language_info": {
   "codemirror_mode": {
    "name": "ipython",
    "version": 3
   },
   "file_extension": ".py",
   "mimetype": "text/x-python",
   "name": "python",
   "nbconvert_exporter": "python",
   "pygments_lexer": "ipython3",
   "version": "3.11.3"
  },
  "orig_nbformat": 4
 },
 "nbformat": 4,
 "nbformat_minor": 2
}
