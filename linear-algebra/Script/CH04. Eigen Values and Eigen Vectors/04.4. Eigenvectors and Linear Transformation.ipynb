{
 "cells": [
  {
   "attachments": {},
   "cell_type": "markdown",
   "metadata": {},
   "source": [
    "# CH04.4. **Eigenvectors and Linear Transformation**"
   ]
  },
  {
   "cell_type": "markdown",
   "metadata": {},
   "source": [
    "> ## **선형 변환의 행렬 표현(Matrix Representation of Linear Transformation)**"
   ]
  },
  {
   "cell_type": "markdown",
   "metadata": {},
   "source": [
    "#### **(1) 정의** : $ \\textbf{x} $ 의 좌표 벡터 $ \\, \\begin{bmatrix} \\textbf{x} \\end{bmatrix}_{\\mathcal{B}} $ 와 선형 변환 $ \\, T(\\textbf{x}) $ 의 좌표 벡터 $ \\, \\begin{bmatrix} T(\\textbf{x}) \\end{bmatrix}_{\\mathcal{C}} $ 의 관계를 파악하는 행렬로 표현하는 방법\n",
    "#### $ \\Rightarrow{} \\begin{bmatrix} T(\\textbf{x}) \\end{bmatrix}_{\\mathcal{C}} = M \\begin{bmatrix} \\textbf{x} \\end{bmatrix}_{\\mathcal{B}} = \\begin{bmatrix} \\begin{bmatrix} T(\\textbf{b}_{1}) \\end{bmatrix}_{\\mathcal{C}} & \\begin{bmatrix} T(\\textbf{b}_{2}) \\end{bmatrix}_{\\mathcal{C}} & \\cdots{} & \\begin{bmatrix} T(\\textbf{b}_{n}) \\end{bmatrix}_{\\mathcal{C}} \\end{bmatrix} \\begin{bmatrix} \\textbf{x} \\end{bmatrix}_{\\mathcal{B}} $ \n",
    "#### $ \\hspace{0.5cm} \\text{ where } \\, T : \\mathbb{V}(\\text{vector space}) \\rightarrow{} \\mathbb{W}(\\text{vector space}) $\n",
    "#### $ \\hspace{0.5cm} \\text{ and } \\, \\mathcal{B} \\, \\text{ is basis for } \\, \\mathbb{V}, \\;\\; \\mathcal{C} \\, \\text{ is basis for } \\, \\mathbb{W}. $ "
   ]
  },
  {
   "cell_type": "markdown",
   "metadata": {},
   "source": [
    "#### **(`WHY?`)**\n",
    "#### $ \\textbf{x} = r_{1} \\textbf{b}_{1} + r_{2} \\textbf{b}_{2} + \\cdots{} + r_{n} \\textbf{b}_{n}, \\;\\; \\text{ where } \\, \\mathcal{B} = \\{ \\textbf{b}_{1}, \\textbf{b}_{2}, \\cdots{}, \\textbf{b}_{n} \\} \\, \\text{ is basis for } \\, \\mathbb{V} $\n",
    "#### $ T(\\textbf{x}) = T(r_{1} \\textbf{b}_{1} + r_{2} \\textbf{b}_{2} + \\cdots{} + r_{n} \\textbf{b}_{n}) = r_{1} T(\\textbf{b}_{1}) + r_{2} T(\\textbf{b}_{2}) + \\cdots{} + r_{n} T(\\textbf{b}_{n}) $\n",
    "#### $ \\begin{bmatrix} T(\\textbf{x}) \\end{bmatrix}_{\\mathcal{C}} = \\begin{bmatrix} r_{1} T(\\textbf{b})_{1} + r_{2} T(\\textbf{b})_{2} + \\cdots{} + r_{n} T(\\textbf{b})_{n} \\end{bmatrix}_{\\mathcal{C}} $ \n",
    "#### $ \\hspace{1.3cm} = r_{1} \\begin{bmatrix} T(\\textbf{b}_{1}) \\end{bmatrix}_{\\mathcal{C}} + r_{2} \\begin{bmatrix} T(\\textbf{b}_{2}) \\end{bmatrix}_{\\mathcal{C}} + \\cdots{} + r_{n} \\begin{bmatrix} T(\\textbf{b}_{n}) \\end{bmatrix}_{\\mathcal{C}} \\;\\; $ ($ \\because{} \\, $ 좌표 벡터는 선형성을 만족)\n",
    "#### $ \\hspace{1.3cm} = \\begin{bmatrix} \\begin{bmatrix} T(\\textbf{b}_{1}) \\end{bmatrix}_{\\mathcal{C}} & \\begin{bmatrix} T(\\textbf{b}_{2}) \\end{bmatrix}_{\\mathcal{C}} & \\cdots{} & \\begin{bmatrix} T(\\textbf{b}_{n}) \\end{bmatrix}_{\\mathcal{C}} \\end{bmatrix} \\begin{bmatrix} r_{1} \\\\ r_{2} \\\\ \\cdots{} \\\\ r_{n} \\end{bmatrix} $\n",
    "#### $ \\hspace{1.3cm} = \\begin{bmatrix} \\begin{bmatrix} T(\\textbf{b}_{1}) \\end{bmatrix}_{\\mathcal{C}} & \\begin{bmatrix} T(\\textbf{b}_{2}) \\end{bmatrix}_{\\mathcal{C}} & \\cdots{} & \\begin{bmatrix} T(\\textbf{b}_{n}) \\end{bmatrix}_{\\mathcal{C}} \\end{bmatrix} \\begin{bmatrix} \\textbf{x} \\end{bmatrix}_\\mathcal{B} $\n",
    "#### $ \\hspace{1.3cm} = M \\begin{bmatrix} \\textbf{x} \\end{bmatrix}_\\mathcal{B} $\n",
    "#### $ \\therefore{} M = \\begin{bmatrix} \\begin{bmatrix} T(\\textbf{b}_{1}) \\end{bmatrix}_{\\mathcal{C}} & \\begin{bmatrix} T(\\textbf{b}_{2}) \\end{bmatrix}_{\\mathcal{C}} & \\cdots{} & \\begin{bmatrix} T(\\textbf{b}_{n}) \\end{bmatrix}_{\\mathcal{C}} \\end{bmatrix} $"
   ]
  },
  {
   "cell_type": "markdown",
   "metadata": {},
   "source": [
    "#### **(`PLUS`)** 이 때 행렬 $ \\, M $ 을 표현 행렬(representation matrix for $ \\, T \\, $ relative to $ \\, \\mathcal{B} \\, $ and $ \\, \\mathcal{C} $) 라고 정의함 "
   ]
  },
  {
   "cell_type": "markdown",
   "metadata": {},
   "source": [
    "#### **(2) 기하학적 해석** :\n",
    "<img src=\"../../img/04.4. Eigenvectors and Linear Transformation (1).png\" width=\"40%\" height=\"40%\"/></img>"
   ]
  },
  {
   "cell_type": "markdown",
   "metadata": {},
   "source": [
    "#### **(3) 선형변환과 좌표 벡터 간 관계** :\n",
    "#### $ \\begin{CD} \\textbf{x} @>A>> T(\\textbf{x}) \\\\ @VVV @AAA \\\\ \\begin{bmatrix} \\textbf{x} \\end{bmatrix}_{\\mathcal{B}} @>M>> \\begin{bmatrix} T(\\textbf{x}) \\end{bmatrix}_{\\mathcal{C}} \\end{CD} $ "
   ]
  },
  {
   "cell_type": "markdown",
   "metadata": {},
   "source": [
    "#### **(4) 예시**\n",
    "#### $ \\hspace{0.15cm} $ ① 선형 변환 $ \\, T : \\mathbb{V} \\rightarrow{} \\mathbb{W} $ 에 대하여 표현행렬 $ \\, M $ 을 구하고자 할 때\n",
    "#### $ \\hspace{0.45cm} \\cdot{} \\mathcal{B} = \\{ \\textbf{b}_{1}, \\textbf{b}_{2} \\}, \\;\\; \\mathbb{V} = \\text{span}\\{\\mathcal{B}\\} $\n",
    "#### $ \\hspace{0.45cm} \\cdot{} \\mathcal{C} =  \\{ \\textbf{c}_{1}, \\textbf{c}_{2}, \\textbf{c}_{3} \\}, \\;\\; \\mathbb{W} = \\text{span}\\{\\mathcal{C}\\} $\n",
    "#### $ \\hspace{0.45cm} \\cdot{} T(\\textbf{b}_{1}) = 3\\textbf{c}_{1}-2\\textbf{c}_{2}+5\\textbf{c}_{3}, \\;\\; T(\\textbf{b}_{2}) = 4\\textbf{c}_{1}+7\\textbf{c}_{2}-1\\textbf{c}_{3} $\n",
    "#### $ \\hspace{0.45cm} \\cdot{} \\begin{bmatrix} T(\\textbf{b}_{1}) \\end{bmatrix}_{\\mathcal{C}} = \\begin{bmatrix} 3 \\\\ -2 \\\\ +5 \\end{bmatrix}, \\, \\begin{bmatrix} T(\\textbf{b}_{2}) \\end{bmatrix}_{\\mathcal{C}} = \\begin{bmatrix} 4 \\\\ 7 \\\\ -1 \\end{bmatrix}$\n",
    "#### $ \\hspace{0.45cm} \\therefore{} M = \\begin{bmatrix} \\begin{bmatrix} T(\\textbf{b}_{1})_{\\mathcal{C}} \\end{bmatrix}&\\begin{bmatrix} T(\\textbf{b}_{2})_{\\mathcal{C}} \\end{bmatrix} \\end{bmatrix} = \\begin{bmatrix} 3&4 \\\\ -2&7 \\\\ 5&-1 \\end{bmatrix} $\n",
    "#### $ \\hspace{0.15cm} $ ② **[CONTENTS]**"
   ]
  },
  {
   "cell_type": "markdown",
   "metadata": {},
   "source": [
    "#### **(`PLUS`) 같은 벡터 공간으로 선형 변환할 경우의 벡터 표현** : \n",
    "#### $ \\hspace{0.15cm} M = \\begin{bmatrix} \\begin{bmatrix} T(\\textbf{b}_{1}) \\end{bmatrix}_{\\mathcal{C}} & \\begin{bmatrix} T(\\textbf{b}_{2}) \\end{bmatrix}_{\\mathcal{C}} & \\cdots{} & \\begin{bmatrix} T(\\textbf{b}_{n}) \\end{bmatrix}_{\\mathcal{C}} \\end{bmatrix} $\n",
    "#### $ \\hspace{0.625cm} = \\begin{bmatrix} \\begin{bmatrix} T(\\textbf{b}_{1}) \\end{bmatrix}_{\\mathcal{B}} & \\begin{bmatrix} T(\\textbf{b}_{2}) \\end{bmatrix}_{\\mathcal{B}} & \\cdots{} & \\begin{bmatrix} T(\\textbf{b}_{n}) \\end{bmatrix}_{\\mathcal{B}} \\end{bmatrix} \\;\\; $ ($\\because{} \\, \\mathcal{B}=\\mathcal{C}$) \n",
    "#### $ \\hspace{0.625cm} = \\begin{bmatrix} T \\end{bmatrix}_{\\mathcal{B}} $\n",
    "#### $ \\hspace{0.15cm} \\Rightarrow{} \\begin{bmatrix} T(\\textbf{x}) \\end{bmatrix}_{\\mathcal{B}} = M \\begin{bmatrix} \\textbf{x} \\end{bmatrix}_{\\mathcal{B}} = \\begin{bmatrix} T \\end{bmatrix}_{\\mathcal{B}} \\begin{bmatrix} \\textbf{x} \\end{bmatrix}_{\\mathcal{B}} $"
   ]
  },
  {
   "cell_type": "markdown",
   "metadata": {},
   "source": [
    "<b></b>"
   ]
  },
  {
   "cell_type": "markdown",
   "metadata": {},
   "source": [
    "> ## **(Theorem 4-7) Diagonal Matrix Representaition**"
   ]
  },
  {
   "cell_type": "markdown",
   "metadata": {},
   "source": [
    "#### 어떠한 정방 행렬 $ \\, A $ 가 대각화가능하고, 그 행렬을 이용하여 선형변환할 경우 행렬 표현 $ \\, M $ 은 대각행렬이 된다.\n",
    "#### $ \\Rightarrow{} M = \\begin{bmatrix} T \\end{bmatrix}_{\\mathcal{B}} = D \\;\\; \\text{ where } \\, T(\\textbf{x}) = A\\textbf{x} : \\mathbb{R}^{n}\\ \\rightarrow{} \\mathbb{R}^{n} $\n",
    "#### $ \\hspace{3.1cm} \\text{and } \\, A = PDP^{-1} \\, (\\text{diagonalizable}) $\n",
    "#### $ \\hspace{3.1cm} \\text{and } \\, P = \\begin{bmatrix} \\textbf{b}_{1}, \\textbf{b}_{2}, \\cdots{}, \\textbf{b}_{n} \\end{bmatrix}, \\;\\; \\mathcal{B} = \\{ \\textbf{b}_{1}, \\textbf{b}_{2}, \\cdots{}, \\textbf{b}_{n} \\} \\, \\text{ is basis for } \\, \\mathbb{R}^{n} $"
   ]
  },
  {
   "cell_type": "markdown",
   "metadata": {},
   "source": [
    "#### **(`WHY?`)**\n",
    "#### $ \\textbf{x} = r_{1} \\textbf{b}_{1} + r_{2} \\textbf{b}_{2} + \\cdots{} + r_{n} \\textbf{b}_{n} = P \\begin{bmatrix} r_{1} \\\\ r_{2} \\\\ \\vdots{} \\\\ r_{n} \\end{bmatrix} = P\\begin{bmatrix}\\textbf{x}\\end{bmatrix}_{\\mathcal{B}} $\n",
    "#### $ \\begin{bmatrix}\\textbf{x}\\end{bmatrix}_{\\mathcal{B}} = P^{-1}\\textbf{x} $\n",
    "#### $ \\therefore{} \\begin{bmatrix} T \\end{bmatrix}_{\\mathcal{B}} = \\begin{bmatrix} \\begin{bmatrix} T(\\textbf{b}_{1}) \\end{bmatrix}_{\\mathcal{B}} & \\begin{bmatrix} T(\\textbf{b}_{2}) \\end{bmatrix}_{\\mathcal{B}} & \\cdots{} & \\begin{bmatrix} T(\\textbf{b}_{n}) \\end{bmatrix}_{\\mathcal{B}} \\end{bmatrix} $ \n",
    "#### $ \\hspace{1.2cm} = \\begin{bmatrix} \\begin{bmatrix} A\\textbf{b}_{1} \\end{bmatrix}_{\\mathcal{B}} & \\begin{bmatrix} A\\textbf{b}_{2} \\end{bmatrix}_{\\mathcal{B}} & \\cdots{} & \\begin{bmatrix} A\\textbf{b}_{n} \\end{bmatrix}_{\\mathcal{B}} \\end{bmatrix} $\n",
    "#### $ \\hspace{1.2cm} = \\begin{bmatrix} P^{-1}A\\textbf{b}_{1} & P^{-1}A\\textbf{b}_{2} & \\cdots{} & P^{-1}A\\textbf{b}_{n} \\end{bmatrix} \\;\\; $ ($ \\because{} \\, \\begin{bmatrix}\\textbf{x}\\end{bmatrix}_{\\mathcal{B}} = P^{-1}\\textbf{x} $)\n",
    "#### $ \\hspace{1.2cm} = P^{-1}A \\begin{bmatrix} \\textbf{b}_{1} & \\cdots{} & \\textbf{b}_{n} \\end{bmatrix} $\n",
    "#### $ \\hspace{1.2cm} = P^{-1}AP = D $ \n",
    "#### $ \\Rightarrow{} \\begin{bmatrix} T(\\textbf{x}) \\end{bmatrix}_{\\mathcal{B}} = \\begin{bmatrix} T \\end{bmatrix}_{\\mathcal{B}} \\begin{bmatrix}\\textbf{x}\\end{bmatrix}_{\\mathcal{B}} = D \\begin{bmatrix}\\textbf{x}\\end{bmatrix}_{\\mathcal{B}} \\;\\; $ ($ \\because{} \\, T : \\mathbb{R}^{n} \\rightarrow{} \\mathbb{R}^{n} $)"
   ]
  },
  {
   "cell_type": "markdown",
   "metadata": {},
   "source": [
    "#### **(`PLUS`)** 이 때 행렬 $ \\, D $ 는 주어진 변환 $ \\, A $ 가 기저 $ \\, \\mathcal{B} $ 에서 어떻게 작용하는지를 나타내는 행렬을 의미하며, 이를 $ \\, \\mathcal{B} $ 행렬이라고 함"
   ]
  },
  {
   "cell_type": "markdown",
   "metadata": {},
   "source": [
    "#### **(`PLUS`) 선형변환과 좌표 벡터 간 관계** :\n",
    "#### $ \\begin{CD} \\textbf{x} @>A>> T(\\textbf{x}) \\\\ @VP^{-1}VV @AAPA \\\\ \\textbf{u} @>D>> D\\textbf{u} \\end{CD} $ "
   ]
  },
  {
   "cell_type": "markdown",
   "metadata": {},
   "source": [
    "#### **(`PLUS`)** 행렬이 대각화불가능하여 조르당 표준형($ A = PCP^{-1} $)으로 변환해야 한다면 행렬 $ \\, C $ 는 $ \\, \\mathcal{B} $ 행렬임"
   ]
  }
 ],
 "metadata": {
  "kernelspec": {
   "display_name": "Python 3",
   "language": "python",
   "name": "python3"
  },
  "language_info": {
   "codemirror_mode": {
    "name": "ipython",
    "version": 3
   },
   "file_extension": ".py",
   "mimetype": "text/x-python",
   "name": "python",
   "nbconvert_exporter": "python",
   "pygments_lexer": "ipython3",
   "version": "3.11.3"
  },
  "orig_nbformat": 4
 },
 "nbformat": 4,
 "nbformat_minor": 2
}
