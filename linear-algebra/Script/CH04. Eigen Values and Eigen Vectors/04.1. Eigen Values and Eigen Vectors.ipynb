{
 "cells": [
  {
   "attachments": {},
   "cell_type": "markdown",
   "metadata": {},
   "source": [
    "# CH04.1. **Eigen Values and Eigen Vectors**"
   ]
  },
  {
   "cell_type": "markdown",
   "metadata": {},
   "source": [
    "> ## **고유값과 고유벡터(Eigen Value and Vector)**"
   ]
  },
  {
   "cell_type": "markdown",
   "metadata": {},
   "source": [
    "#### **(1) 고유 벡터(eigen Vector)** : $ A \\textbf{x} = \\lambda{} \\textbf{x} $ 를 만족하는 **영벡터(zero vector)가 아닌** 벡터 $ \\, \\textbf{x} $"
   ]
  },
  {
   "cell_type": "markdown",
   "metadata": {},
   "source": [
    "#### **(2) 고유값(eigen Value)** : $ A \\textbf{x} = \\lambda{} \\textbf{x} $ 를 만족하는 스칼라 $ \\, \\lambda{} $"
   ]
  },
  {
   "cell_type": "markdown",
   "metadata": {},
   "source": [
    "#### **(3) 기하학적 해석** :\n",
    "#### **[GRAPH]**"
   ]
  },
  {
   "cell_type": "markdown",
   "metadata": {},
   "source": [
    "#### **(4) 예시** :\n",
    "#### $ \\hspace{0.15cm} $ ① 행렬 $ \\, A $ 에 대하여 벡터 $ \\, \\textbf{u} $ 가 고유벡터인지 확인하고자 할 경우\n",
    "#### $ \\hspace{0.45cm} \\cdot{} A = \\begin{bmatrix} 1&6 \\\\ 5&2 \\end{bmatrix}, \\;\\; \\textbf{u} = \\begin{bmatrix} 6 \\\\ -5 \\end{bmatrix} $\n",
    "#### $ \\hspace{0.45cm} \\cdot{} A\\textbf{u} = \\begin{bmatrix} 1&6 \\\\ 5&2 \\end{bmatrix} \\begin{bmatrix} 6 \\\\ -5 \\end{bmatrix} = \\begin{bmatrix} -24 \\\\ 20 \\end{bmatrix} = 4 \\begin{bmatrix} 6 \\\\ -5 \\end{bmatrix} = 4 \\textbf{u} $ \n",
    "#### $ \\hspace{0.45cm} \\therefore{} \\textbf{u} \\, \\text{ is a eigen vector}, \\, \\lambda{} = 4. $ \n",
    "#### $ \\hspace{0.15cm} $ ② 행렬 $ \\, A $ 에 대하여 벡터 $ \\, \\textbf{v} $ 가 고유벡터인지 확인하고자 할 경우\n",
    "#### $ \\hspace{0.45cm} \\cdot{} A = \\begin{bmatrix} 1&6 \\\\ 5&2 \\end{bmatrix}, \\;\\; \\textbf{v} = \\begin{bmatrix} 3 \\\\ -2 \\end{bmatrix} $\n",
    "#### $ \\hspace{0.45cm} \\cdot{} A\\textbf{v} = \\begin{bmatrix} 1&6 \\\\ 5&2 \\end{bmatrix} \\begin{bmatrix} 3 \\\\ -2 \\end{bmatrix} = \\begin{bmatrix} -9 \\\\ 11 \\end{bmatrix} \\neq{} \\lambda{} \\begin{bmatrix} 3 \\\\ -2 \\end{bmatrix} = \\lambda{} \\textbf{v} $ \n",
    "#### $ \\hspace{0.45cm} \\therefore{} \\textbf{v} \\, \\text{ is not a eigen vector}. $ "
   ]
  },
  {
   "cell_type": "markdown",
   "metadata": {},
   "source": [
    "#### **(`PLUS`)** 고유값과 고유벡터를 구하는 과정을 고유값 분해(eigen-value decomposition)이라고 함"
   ]
  },
  {
   "cell_type": "markdown",
   "metadata": {},
   "source": [
    "<b></b>"
   ]
  },
  {
   "cell_type": "markdown",
   "metadata": {},
   "source": [
    "> ## **고유 공간(Eigen space)**"
   ]
  },
  {
   "cell_type": "markdown",
   "metadata": {},
   "source": [
    "#### **(1) 정의** : $ \\, (A-\\lambda{}I)\\textbf{x} = \\textbf{0} $ 를 만족하는 영공간(null space)\n",
    "#### $ \\Rightarrow{} \\text{Nul}(A-\\lambda{}I) = \\{ \\textbf{x} \\; | \\; (A-\\lambda{}I)\\textbf{x} = \\textbf{0} \\} $"
   ]
  },
  {
   "cell_type": "markdown",
   "metadata": {},
   "source": [
    "#### **(`PLUS`)** 고유 공간은 고유 벡터(egien vector)와 영 벡터(zero vector)를 포함함"
   ]
  },
  {
   "cell_type": "markdown",
   "metadata": {},
   "source": [
    "#### **(2) 존재 조건** : 동차 선형 시스템 $ \\, (\\textbf{A} - \\lambda{})\\textbf{x} = \\textbf{0} $ 에서 비자명해(nontrivial soltion)가 존재\n",
    "#### = $ \\begin{bmatrix} (\\textbf{A}-\\lambda{})&0 \\end{bmatrix} $ 에서 자유 변수(free variable)가 존재"
   ]
  },
  {
   "cell_type": "markdown",
   "metadata": {},
   "source": [
    "#### **(3) 예시** :\n",
    "#### $ \\hspace{0.15cm} $ ① 행렬 $ \\, A $ 의 고유값이 $ \\, 7 $ 일 때 이에 맞는 고유 공간을 찾고자할 경우\n",
    "#### $ \\hspace{0.45cm} \\cdot{} A = \\begin{bmatrix} 1&6 \\\\ 5&2 \\end{bmatrix}, \\;\\; \\lambda{} = 7 $\n",
    "#### $ \\hspace{0.45cm} \\cdot{} (A-7I)\\textbf{x} = \\textbf{0} \\rightarrow{} \\begin{bmatrix} -6&6 \\\\ 5&-5 \\end{bmatrix}\\begin{bmatrix} x_{1} \\\\ x_{2} \\end{bmatrix} = \\begin{bmatrix} 0 \\\\ 0 \\end{bmatrix} $\n",
    "#### $ \\hspace{0.6cm} \\begin{bmatrix} -6&6&0 \\\\ 5&-5&0 \\end{bmatrix} $ ~ $ \\cdots{} $ ~ $ \\begin{bmatrix} 1&-1&0 \\\\ 0&0&0 \\end{bmatrix} $\n",
    "#### $ \\hspace{0.45cm} \\textbf{x} = x_{2} \\begin{bmatrix} 1 \\\\ 1 \\end{bmatrix} $ \n",
    "#### $ \\hspace{0.45cm} \\therefore{} \\text{Nul}(A-7I) = \\text{span}\\{ \\begin{bmatrix} 1 \\\\ 1 \\end{bmatrix} \\} $\n",
    "#### $ \\hspace{0.15cm} $ ② **[CONTENTS]** "
   ]
  },
  {
   "cell_type": "markdown",
   "metadata": {},
   "source": [
    "#### **(`PLUS`)** 고유값과 고유벡터는 $ \\, 1 : n \\, $ 관계임"
   ]
  },
  {
   "cell_type": "markdown",
   "metadata": {},
   "source": [
    "<b></b>"
   ]
  },
  {
   "cell_type": "markdown",
   "metadata": {},
   "source": [
    "> ## (Theorem 4-1) **Eigenvalue for Triangular Matrix**"
   ]
  },
  {
   "cell_type": "markdown",
   "metadata": {},
   "source": [
    "#### 삼각 행렬(triangular matrix)의 대각 성분(diagonal term)는 고유 값(eigen values)이다. "
   ]
  },
  {
   "cell_type": "markdown",
   "metadata": {},
   "source": [
    "#### **(`WHY?`)**\n",
    "#### $ \\hspace{0.15cm} $ ① $ \\, A $ 가 상삼각 행렬(upper triangular matrix)인 경우\n",
    "#### $ \\hspace{0.45cm} A = \\begin{bmatrix} a_{11}&a_{12}&a_{13} \\\\ 0&a_{22}&a_{23} \\\\ 0&0&a_{33} \\end{bmatrix} $\n",
    "#### $ \\hspace{0.45cm} (A-\\lambda{}I) \\textbf{x} = \\textbf{0} \\rightarrow{} \\begin{bmatrix} (A-\\lambda{}I)&\\textbf{0} \\end{bmatrix} = \\begin{bmatrix} a_{11}-\\lambda{}&a_{12}&a_{13}&0 \\\\ 0&a_{22}-\\lambda{}&a_{23}&0 \\\\ 0&0&a_{33}-\\lambda{}&0 \\end{bmatrix} $\n",
    "#### $ \\hspace{0.45cm} a_{11}-\\lambda{} = 0 \\, \\text{ or } \\, a_{22}-\\lambda{} = 0 \\, \\text{ or } \\, a_{33}-\\lambda{} = 0 \\;\\; $ ($ \\because{} \\, $ 자유변수가 존재해야함)\n",
    "#### $ \\hspace{0.15cm} $ ② $ \\, A $ 가 하삼각 행렬(lower triangular matrix)인 경우\n",
    "#### $ \\hspace{0.45cm} A^{T} = \\begin{bmatrix} a_{11}&0&0 \\\\ a_{12}&a_{22}&0 \\\\ a_{13}&a_{23}&a_{33} \\end{bmatrix} $ \n",
    "#### $ \\hspace{0.45cm} (A^{T}-\\lambda{}I) \\textbf{x} = \\textbf{0} \\rightarrow{} \\begin{bmatrix} (A^{T}-\\lambda{}I)&\\textbf{0} \\end{bmatrix} = \\begin{bmatrix} a_{11}-\\lambda{}&0&0&0 \\\\ a_{12}&a_{22}-\\lambda{}&0&0 \\\\ a_{13}&a_{23}&a_{33}-\\lambda{}&0 \\end{bmatrix} $\n",
    "#### $ \\hspace{0.45cm} $ ~ $ \\cdots{} $ ~ $ \\begin{bmatrix} a_{11}&0&0&0 \\\\ 0&(a_{11}-\\lambda{})(a_{22}-\\lambda{})&0&0 \\\\ 0&0&(a_{11}-\\lambda{})^{3}(a_{22}-\\lambda{})^{2}(a_{33}-\\lambda{})&0\\end{bmatrix} $\n",
    "#### $ \\hspace{0.45cm} a_{11}-\\lambda{} = 0 \\, \\text{ or } \\, a_{22}-\\lambda{} = 0 \\, \\text{ or } \\, a_{33}-\\lambda{} = 0 $\n",
    "#### $ \\hspace{0.45cm} \\therefore{} \\, \\lambda{} = a_{11} \\, \\text{ or } \\lambda{} = a_{22} \\, \\text{ or } \\, \\lambda{} = a_{33} $"
   ]
  },
  {
   "cell_type": "markdown",
   "metadata": {},
   "source": [
    "#### **(`PLUS`)** 행렬의 고유값(eigen value)이 $ \\, 0 $ 이면 그 행렬은 비가역적임(not invertible)"
   ]
  },
  {
   "cell_type": "markdown",
   "metadata": {},
   "source": [
    "#### **(`WHY?`)**\n",
    "#### $ \\hspace{0.15cm} \\text{if } \\, \\lambda{} = 0, \\;\\; A \\, \\text{is invertible}. $\n",
    "#### $ \\hspace{0.30cm} (A-\\lambda{}I)\\textbf{x} = A\\textbf{x} = \\textbf{0} $ \n",
    "#### $ \\hspace{0.30cm} A^{-1} A \\textbf{x} = A^{-1} \\textbf{0} $\n",
    "#### $ \\hspace{0.15cm} \\therefore{} \\textbf{x} = 0 $ \n",
    "#### $ \\hspace{0.15cm} \\Rightarrow{} \\textbf{x} $ 는 고유벡터, $ \\, \\textbf{x} = \\textbf{0} $ 인 것은 모순, 즉 고유값이 $ \\, 0 $ 이면 그 행렬은 비가역적임"
   ]
  },
  {
   "cell_type": "markdown",
   "metadata": {},
   "source": [
    "<b></b>"
   ]
  },
  {
   "cell_type": "markdown",
   "metadata": {},
   "source": [
    "> ## (Theorem 4-2) **Linear Independence of Eigenvectors**"
   ]
  },
  {
   "cell_type": "markdown",
   "metadata": {},
   "source": [
    "#### **서로 다른** $ \\, n $ 개의 고유값으로 대응되는 고유 벡터 집합 $ \\, \\{ \\textbf{v}_{1}, \\textbf{v}_{2}, \\cdots{}, \\textbf{v}_{n} \\} $ 은 선형 독립(linear independent) 관계이다."
   ]
  },
  {
   "cell_type": "markdown",
   "metadata": {},
   "source": [
    "#### **(`WHY?`)** \n",
    "#### $ \\hspace{0.15cm} \\{ \\textbf{v}_{1}, \\textbf{v}_{2}, \\cdots{}, \\textbf{v}_{p}, \\cdots{}, \\textbf{v}_{n} \\} $ 가 선형 종속(linear dependent)일 때\n",
    "#### $ \\hspace{0.15cm} c_{1}\\textbf{v}_{1} + \\cdots{} + c_{p}\\textbf{v}_{p-1} = \\textbf{v}_{p} \\;\\; \\cdots{} $ ⓐ\n",
    "#### $ \\hspace{0.15cm} A(c_{1}\\textbf{v}_{1} + \\cdots{} + c_{p}\\textbf{v}_{p-1}) = A \\textbf{v}_{p} $\n",
    "#### $ \\hspace{0.15cm} c_{1}A\\textbf{v}_{1} + \\cdots{} + c_{n}A\\textbf{v}_{n} = A \\textbf{v}_{p} $ \n",
    "#### $ \\hspace{0.15cm} c_{1}\\lambda{}_{1}\\textbf{v}_{1} + \\cdots{} + c_{n}\\lambda{}_{n}\\textbf{v}_{n} = \\lambda{}_{p} \\textbf{v}_{p} \\;\\; \\cdots{} $ ⓑ $ \\;\\; $ ($ \\because{} \\, A\\textbf{v}_{i} = \\lambda{}_{i} \\textbf{v}_{i} $)\n",
    "#### $ \\hspace{0.15cm} \\lambda{}_{p}(c_{1}\\textbf{v}_{1} + \\cdots{} + c_{p}\\textbf{v}_{p-1}) = \\lambda{}_{p} \\textbf{v}_{p} $\n",
    "#### $ \\hspace{0.15cm} c_{1}\\lambda{}_{p}\\textbf{v}_{1} + \\cdots{} + c_{n}\\lambda{}_{p}\\textbf{v}_{n} = \\lambda{}_{p} \\textbf{v}_{p} \\;\\; \\cdots{} $ ⓒ \n",
    "#### $ \\hspace{0.15cm} c_{1}(\\lambda{}_{1}-\\lambda{}_{p})\\textbf{v}_{1} + \\cdots{} + c_{n}(\\lambda{}_{n}-\\lambda{}_{p})\\textbf{v}_{n} = \\textbf{0} \\;\\; \\cdots{} $ ⓑ $ - $ ⓒ\n",
    "#### $ \\hspace{0.15cm} \\therefore{} c_{i} = 0 \\;\\; $ for all $ \\, i $ \n",
    "#### $ \\hspace{0.15cm} \\Rightarrow{} \\{ \\textbf{v}_{1}, \\textbf{v}_{2}, \\cdots{}, \\textbf{v}_{p}, \\cdots{}, \\textbf{v}_{n} \\} $ 가 선형 종속 관계가 되므로 모순, 즉 선형 독립 관계임"
   ]
  }
 ],
 "metadata": {
  "kernelspec": {
   "display_name": "Python 3",
   "language": "python",
   "name": "python3"
  },
  "language_info": {
   "codemirror_mode": {
    "name": "ipython",
    "version": 3
   },
   "file_extension": ".py",
   "mimetype": "text/x-python",
   "name": "python",
   "nbconvert_exporter": "python",
   "pygments_lexer": "ipython3",
   "version": "3.11.3"
  },
  "orig_nbformat": 4
 },
 "nbformat": 4,
 "nbformat_minor": 2
}
