{
 "cells": [
  {
   "attachments": {},
   "cell_type": "markdown",
   "metadata": {},
   "source": [
    "# CH05.1. **Joint Discrete Random Variables**"
   ]
  },
  {
   "cell_type": "markdown",
   "metadata": {},
   "source": [
    "> ## **결합확률변수(Joint Random Variable)**"
   ]
  },
  {
   "cell_type": "markdown",
   "metadata": {
    "vscode": {
     "languageId": "plaintext"
    }
   },
   "source": [
    "#### **(1) 정의** : 표본 공간의 결과를 $ \\; 2 $ 개 이상의 확률변수로 매핑한 함수\n",
    "#### = a function that maps the outcomes of a sample space to two or more random variables.\n",
    "#### $ \\Rightarrow{} (X,\\; Y,\\; \\cdots{}) : S \\rightarrow{} \\mathbb{R}^{n} $"
   ]
  },
  {
   "cell_type": "markdown",
   "metadata": {},
   "source": [
    "#### **(2) 종류와 형식** : \n",
    "#### $ \\hspace{0.15cm} $ ① 이산결합확률변수(Discrete Random Variable) \n",
    "#### **[GRPAH]**\n",
    "#### $ \\hspace{0.15cm} $ ② 연속결합확률변수(Continuous Random Variable)\n",
    "#### **[GRPAH]**"
   ]
  },
  {
   "cell_type": "markdown",
   "metadata": {},
   "source": [
    "#### **(3) 예시** : \n",
    "#### $ \\hspace{0.15cm} $ ① **[CONTENTS]**\n",
    "#### $ \\hspace{0.15cm} $ ② **[CONTENTS]**"
   ]
  },
  {
   "cell_type": "markdown",
   "metadata": {},
   "source": [
    "<b></b>"
   ]
  },
  {
   "cell_type": "markdown",
   "metadata": {},
   "source": [
    "> ## **결합확률질량함수(Joint Probability Mass Function)**"
   ]
  },
  {
   "cell_type": "markdown",
   "metadata": {},
   "source": [
    "#### **(1) 정의** : **[CONTENTS]**\n",
    "#### = **[CONTENTS]**\n",
    "#### $ \\Rightarrow{} P_{XY}(x,\\; y) = P(X=x,\\; Y=y) $"
   ]
  },
  {
   "cell_type": "markdown",
   "metadata": {},
   "source": [
    "#### **(2) 표현 방식** : \n",
    "#### **[GRPAH]**"
   ]
  },
  {
   "cell_type": "markdown",
   "metadata": {},
   "source": [
    "#### **(3) 성질** :\n",
    "#### $ \\hspace{0.15cm} $ ① $ 0 \\leq{} P(X=x, Y=y) \\leq{} 1 \\;\\; $ for all $ \\; x $\n",
    "#### $ \\hspace{0.15cm} $ ② $ \\displaystyle\\sum_{x\\in{}X(S)} P(X=x) = 1 $\n",
    "#### $ \\hspace{0.15cm} $ ③ 어떠한 부분집합 $ \\; A \\subset{} X(S) $ 을 만족할 때, $ \\; P(X\\in{}A) = \\displaystyle\\sum_{x\\in{}A}P(X=x) $\n",
    "#### $ \\hspace{0.15cm} $ ④ 어떠한 부분집합 $ \\; A \\subset{} \\mathbb{R} $ 을 만족할 때, $ \\; P(X\\in{}A) = \\displaystyle\\sum_{x\\in{}(A\\cap{}X(S))}P(X=x) $"
   ]
  },
  {
   "cell_type": "markdown",
   "metadata": {},
   "source": [
    "#### **(4) 주변확률질량함수(Marginal PMF)** : \n",
    "#### 결합확률질량함수에서 **하나의 확률변수에 대해** 다른 확률변수 관계없이 정의하는 함수\n",
    "#### $ \\hspace{0.15cm} $ ① 확률변수 $ \\; X $ 의 확률질량함수\n",
    "#### $ \\hspace{0.6cm} P(X=x) = \\displaystyle\\sum_{y_{i} \\in Y(S)} P(X=x,\\; Y=y_{i}) $ "
   ]
  },
  {
   "cell_type": "markdown",
   "metadata": {},
   "source": [
    "#### **(WHY?)** Theorem 1-9. 전체 확률의 법칙(Law of Total Probability)\n",
    "#### **[GRAPH]**"
   ]
  },
  {
   "cell_type": "markdown",
   "metadata": {},
   "source": [
    "#### $ \\hspace{0.15cm} $ ② 확률변수 $ \\; Y $ 의 확률질량함수\n",
    "#### $ \\hspace{0.6cm} P(Y=y) = \\displaystyle\\sum_{x_{i} \\in X(S)} P(X=x_{i},\\; Y=y) $ "
   ]
  },
  {
   "cell_type": "markdown",
   "metadata": {},
   "source": [
    "#### **(5) 예시** :\n",
    "#### $ \\hspace{0.15cm} $ ① **[CONTENTS]**\n",
    "#### $ \\hspace{0.15cm} $ ② **[CONTENTS]**"
   ]
  },
  {
   "cell_type": "markdown",
   "metadata": {},
   "source": [
    "<b></b>"
   ]
  },
  {
   "cell_type": "markdown",
   "metadata": {},
   "source": [
    "> ## **결합누적확률분포함수(Joint Cumulative Distribution Function)**"
   ]
  },
  {
   "cell_type": "markdown",
   "metadata": {},
   "source": [
    "#### **(1) 정의** : **[CONTENTS]**\n",
    "#### = **[CONTENTS]**\n",
    "#### $ \\Rightarrow{} F_{XY}(x,\\; y) = F(X=x,\\; Y=y) = P(X\\leq{}x,\\; Y\\leq{}y) $"
   ]
  },
  {
   "cell_type": "markdown",
   "metadata": {},
   "source": [
    "#### **(2) 성질** :\n",
    "#### $ \\hspace{0.15cm} $ ① **[LATEX]**\n",
    "#### $ \\hspace{0.15cm} $ ② **[LATEX]**\n",
    "#### $ \\hspace{0.15cm} $ ③ **[LATEX]**\n",
    "#### $ \\hspace{0.15cm} $ ④ **[LATEX]**"
   ]
  },
  {
   "cell_type": "markdown",
   "metadata": {},
   "source": [
    "#### **(3) 주변 누적분포함수(Marginal CDF)** : \n",
    "#### **[CONTENTS]**\n",
    "#### $ \\hspace{0.15cm} $ ① 확률변수 $ \\; X $ 의 누적분포함수\n",
    "#### $ \\hspace{0.6cm} = $ **[LATEX]**\n",
    "#### $ \\hspace{0.15cm} $ ② 확률변수 $ \\; Y $ 의 누적분포함수\n",
    "#### $ \\hspace{0.6cm} = $ **[LATEX]**"
   ]
  },
  {
   "cell_type": "markdown",
   "metadata": {},
   "source": [
    "#### **(4) 예시** :\n",
    "#### $ \\hspace{0.15cm} $ ① **[CONTENTS]**\n",
    "#### $ \\hspace{0.15cm} $ ② **[CONTENTS]**"
   ]
  },
  {
   "cell_type": "markdown",
   "metadata": {},
   "source": [
    "<b></b>"
   ]
  },
  {
   "cell_type": "markdown",
   "metadata": {},
   "source": [
    "> ## **조건부확률(Conditioning and Independence)**"
   ]
  },
  {
   "cell_type": "markdown",
   "metadata": {},
   "source": [
    "#### **(1) 정의** : **[CONTENTS]**\n",
    "#### = **[CONTENTS]**\n",
    "#### $ \\Rightarrow{} $ **[LATEX]**"
   ]
  },
  {
   "cell_type": "markdown",
   "metadata": {},
   "source": [
    "<b></b>"
   ]
  },
  {
   "cell_type": "markdown",
   "metadata": {},
   "source": [
    "> ## **결합확률변수의 합성함수(Composite Functions of Random Variables)**"
   ]
  },
  {
   "cell_type": "markdown",
   "metadata": {},
   "source": [
    "#### **(1) 정의** : **[CONTENTS]**\n",
    "#### = **[CONTENTS]**\n",
    "#### $ \\Rightarrow{} $ **[LATEX]**"
   ]
  },
  {
   "cell_type": "markdown",
   "metadata": {},
   "source": [
    "<b></b>"
   ]
  },
  {
   "cell_type": "markdown",
   "metadata": {},
   "source": [
    "> ## **조건부 기대값과 분산(Conditional Expectation and Variance)**"
   ]
  },
  {
   "cell_type": "markdown",
   "metadata": {},
   "source": [
    "#### **(1) 정의** : **[CONTENTS]**\n",
    "#### = **[CONTENTS]**\n",
    "#### $ \\Rightarrow{} $ **[LATEX]**"
   ]
  }
 ],
 "metadata": {
  "kernelspec": {
   "display_name": "Python 3",
   "language": "python",
   "name": "python3"
  },
  "language_info": {
   "codemirror_mode": {
    "name": "ipython",
    "version": 3
   },
   "file_extension": ".py",
   "mimetype": "text/x-python",
   "name": "python",
   "nbconvert_exporter": "python",
   "pygments_lexer": "ipython3",
   "version": "3.8.18"
  },
  "orig_nbformat": 4
 },
 "nbformat": 4,
 "nbformat_minor": 2
}
