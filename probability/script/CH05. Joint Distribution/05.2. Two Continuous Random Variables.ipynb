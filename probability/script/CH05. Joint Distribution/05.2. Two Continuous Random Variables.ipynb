{
 "cells": [
  {
   "attachments": {},
   "cell_type": "markdown",
   "metadata": {},
   "source": [
    "# CH05.1. **Two Continous Random Variables**"
   ]
  },
  {
   "cell_type": "markdown",
   "metadata": {},
   "source": [
    "> ## **결합확률밀도함수(Joint Probability Density Function; Joint PDF)**"
   ]
  },
  {
   "cell_type": "markdown",
   "metadata": {},
   "source": [
    "#### **(1) 정의** : 결합연속확률변수를 **확률의 밀도**와 대응시킨 함수 \n",
    "#### = **[CONTENTS]**\n",
    "#### $ \\Rightarrow{} f(x,\\;y) $ "
   ]
  },
  {
   "cell_type": "markdown",
   "metadata": {},
   "source": [
    "#### **(2) 표현 방식** : \n",
    "<img src=\"../../png/05.2. Joint Continuous Random Variables (1).png\" width=\"50%\" height=\"50%\"></img>"
   ]
  },
  {
   "cell_type": "markdown",
   "metadata": {},
   "source": [
    "#### **(PLUS) 확률의 기하학적 이해** :\n",
    "#### **[CONTENTS]**"
   ]
  },
  {
   "cell_type": "markdown",
   "metadata": {},
   "source": [
    "#### **(3) 성질** :\n",
    "#### $ \\hspace{0.15cm} $ ① $ 0 \\leq{} P(X=x, Y=y) \\leq{} 1 \\;\\; $ for all $ \\; x,\\; y $\n",
    "#### $ \\hspace{0.15cm} $ ② $ \\displaystyle\\int^{\\infty{}}_{-\\infty{}} \\displaystyle\\int^{\\infty{}}_{-\\infty{}} f(X=x,\\; Y=y) \\text{dx}\\text{dy} = \\displaystyle\\int{} \\displaystyle\\int_{(X,\\;Y)(S)} f(X=x,\\; Y=y) \\text{dx}\\text{dy} = 1 $"
   ]
  },
  {
   "cell_type": "markdown",
   "metadata": {},
   "source": [
    "#### **(4) 주변확률밀도함수(Marginal PMF)** : \n",
    "#### 결합확률밀도함수에서 **하나의 확률변수에 대해** 다른 확률변수 관계없이 정의하는 함수\n",
    "#### $ \\hspace{0.15cm} $ ① 확률변수 $ \\; X $ 의 확률밀도함수\n",
    "#### $ \\hspace{0.6cm} = $ **[LATEX]**\n",
    "#### $ \\hspace{0.15cm} $ ② 확률변수 $ \\; Y $ 의 확률질량함수\n",
    "#### $ \\hspace{0.6cm} = $ **[LATEX]**"
   ]
  },
  {
   "cell_type": "markdown",
   "metadata": {},
   "source": [
    "#### **(4) 예제** :\n",
    "#### $ \\hspace{0.15cm} $ ①"
   ]
  },
  {
   "cell_type": "markdown",
   "metadata": {},
   "source": [
    "<b></b>"
   ]
  },
  {
   "cell_type": "markdown",
   "metadata": {},
   "source": [
    "> ## **결합 누적밀도함수(Joint Cumulative Density Function; Joint CDF)**"
   ]
  },
  {
   "cell_type": "markdown",
   "metadata": {},
   "source": [
    "#### **[CONTENTS]**"
   ]
  },
  {
   "cell_type": "markdown",
   "metadata": {},
   "source": [
    "<b></b>"
   ]
  },
  {
   "cell_type": "markdown",
   "metadata": {},
   "source": [
    "> ## **조건부 확률밀도함수(Conditional Probability Density Function)**"
   ]
  },
  {
   "cell_type": "markdown",
   "metadata": {},
   "source": [
    "#### **[CONTENTS]**"
   ]
  }
 ],
 "metadata": {
  "kernelspec": {
   "display_name": "Python 3",
   "language": "python",
   "name": "python3"
  },
  "language_info": {
   "codemirror_mode": {
    "name": "ipython",
    "version": 3
   },
   "file_extension": ".py",
   "mimetype": "text/x-python",
   "name": "python",
   "nbconvert_exporter": "python",
   "pygments_lexer": "ipython3",
   "version": "3.8.12"
  },
  "orig_nbformat": 4
 },
 "nbformat": 4,
 "nbformat_minor": 2
}
