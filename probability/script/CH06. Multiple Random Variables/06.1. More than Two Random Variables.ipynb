{
 "cells": [
  {
   "attachments": {},
   "cell_type": "markdown",
   "metadata": {},
   "source": [
    "# CH06.1. **More than Two Random Variables**"
   ]
  },
  {
   "cell_type": "markdown",
   "metadata": {},
   "source": [
    "> ## **결합분포의 확장(Extension of Joint RV)**"
   ]
  },
  {
   "cell_type": "markdown",
   "metadata": {
    "vscode": {
     "languageId": "plaintext"
    }
   },
   "source": [
    "#### **(1) $ \\; n $ 개 확률변수에 대한 결합분포의 정의** :\n",
    "#### $ \\hspace{0.15cm} $ ① 이산결합확률변수\n",
    "#### $ \\hspace{0.6cm} P_{X_{1}X_{2}\\cdots{}X_{n}}(x_{1},\\;x_{2},\\;\\cdots{},\\;x_{n}) = P(X_{1}=x_{1},\\;X_{2}=x_{2},\\;\\cdots{},X_{n}=x_{n}) $ \n",
    "#### $ \\hspace{0.15cm} $ ② 결합누적분포함수\n",
    "#### $ \\hspace{0.6cm} F_{X_{1}X_{2}\\cdots{}X_{n}}(x_{1},\\;x_{2},\\;\\cdots{},\\;x_{n}) = F(X_{1}=x_{1},\\;X_{2}=x_{2},\\;\\cdots{},X_{n}=x_{n}) $ \n",
    "#### $ \\hspace{4.675cm} = P(X_{1}\\leq{}x_{1},\\;X_{2}\\leq{}x_{2},\\;\\cdots{},X_{n}\\leq{}x_{n}) $\n",
    "#### $ \\hspace{0.15cm} $ ③ 연속결합확률변수\n",
    "#### $ \\hspace{0.6cm} f_{X_{1}X_{2}\\cdots{}X_{n}}(x_{1},\\;x_{2},\\;\\cdots{},\\;x_{n}) = f(X_{1}=x_{1},\\; X_{2}=x_{2},\\; \\cdots{},\\; X_{n}=x_{n}) $\n",
    "#### $ \\hspace{4.675cm} = \\frac{\\partial{}^{n}}{\\partial{}x_{1} \\partial{}x_{2} \\cdots{} \\partial{}x_{n}} F(X_{1}=x_{1},\\; X_{2}=x_{2},\\;\\cdots{},\\; X_{n}=x_{n}) $ "
   ]
  },
  {
   "cell_type": "markdown",
   "metadata": {},
   "source": [
    "#### **(2) $ \\; n $ 개 확률변수에 대한 주변 결합분포의 정의** :\n",
    "#### $ \\hspace{0.15cm} $ ① 주변 이산결합확률변수\n",
    "#### $ \\hspace{0.6cm} P_{X_{1}}(x_{1}) = P(X_{1}=x_{1}) = \\displaystyle\\sum_{x_{2}\\in{}R_{2}}\\displaystyle\\sum_{x_{3}\\in{}R_{3}}\\cdots{}\\displaystyle\\sum_{x_{n}\\in{}R_{n}} P(X_{1}=x_{1},\\; X_{2}=X_{2},\\; \\cdots{},\\; X_{n}=x_{n}) $ \n",
    "#### $ \\hspace{0.15cm} $ ② 주변 결합누적분포함수\n",
    "#### $ \\hspace{0.6cm} F_{X_{1}}(x_{1}) = P(X\\leq{}x_{1}) = \\displaystyle\\sum_{x_{2}\\leq{}\\infty{}}\\displaystyle\\sum_{x_{3}\\leq{}\\infty{}}\\cdots{}\\displaystyle\\sum_{x_{n}\\leq{}\\infty{}} P(X_{1}\\leq{}x_{1},\\;X_{2}\\leq{}x_{2},\\;\\cdots{},X_{n}\\leq{}x_{n}) $ \n",
    "#### $ \\hspace{0.15cm} $ ③ 주변 연속결합확률변수\n",
    "#### $ \\hspace{0.6cm} f_{X_{1}}(x_{1}) = f(X_{1}=x_{1}) = \\displaystyle\\int^{\\infty{}}_{-\\infty{}}\\displaystyle\\int^{\\infty{}}_{-\\infty{}}\\cdots{}\\displaystyle\\int^{\\infty{}}_{-\\infty{}} f(X_{1}=x_{1},\\; X_{2}=x_{2},\\; \\cdots{},\\; X_{n}=x_{n}) \\text{dx}_{2}\\text{dx}_{3} \\cdots{} \\text{dx}_{n} $"
   ]
  },
  {
   "cell_type": "markdown",
   "metadata": {},
   "source": [
    "#### **(3) $ \\; n $ 개 확률변수에 대한 독립 관계의 정의** :\n",
    "#### $ \\hspace{0.15cm} $ ① 이산결합확률변수\n",
    "#### $ \\hspace{0.6cm} P(X_{1}=x_{1},\\;X_{2}=x_{2},\\;\\cdots{},X_{n}=x_{n}) = P(X_{1}=x_{1})P(X_{2}=x_{2})\\cdots{}P(X_{n}=x_{n}), \\;\\; $ for all $ \\; (x_{1},\\;\\cdots{},\\;x_{n}) \\in{} \\mathbb{R}^{n} $\n",
    "#### $ \\hspace{0.15cm} $ ② 결합누적분포함수\n",
    "#### $ \\hspace{0.6cm} F(X_{1}=x_{1},\\;X_{2}=x_{2},\\;\\cdots{},X_{n}=x_{n}) = F(X_{1}=x_{1})F(X_{2}=x_{2})\\cdots{}F(X_{n}=x_{n}), \\;\\; $ for all $ \\; (x_{1},\\;\\cdots{},\\;x_{n}) \\in{} \\mathbb{R}^{n} $\n",
    "#### $ \\hspace{0.15cm} $ ③ 연속결합확률변수\n",
    "#### $ \\hspace{0.6cm} f(X_{1}=x_{1},\\; X_{2}=x_{2},\\; \\cdots{},\\; X_{n}=x_{n}) = f(X_{1}=x_{1})f(X_{2}=x_{2})\\cdots{}f(X_{n}=x_{n}), \\;\\; $ for all $ \\; (x_{1},\\;\\cdots{},\\;x_{n}) \\in{} \\mathbb{R}^{n} $"
   ]
  },
  {
   "cell_type": "markdown",
   "metadata": {},
   "source": [
    "#### **(PLUS)** 위 독립 관계가 만족하면 쌍 독립(pairwise independent) 관계도 만족함"
   ]
  },
  {
   "cell_type": "markdown",
   "metadata": {},
   "source": [
    "#### **(PLUS)** 확률변수 $ \\; X_{1},\\; X_{2},\\; \\cdots{},\\; X_{n} $ 가 독립관계라면 아래 식을 만족함\n",
    "#### $ E(X_{1}X_{2}\\cdots{}X_{n}) = E(X_{1})E(X_{2})\\cdots{}E(X_{n}) $\n",
    "#### 단, **역은 성립하지 않음!**"
   ]
  },
  {
   "cell_type": "markdown",
   "metadata": {},
   "source": [
    "<b></b>"
   ]
  },
  {
   "cell_type": "markdown",
   "metadata": {},
   "source": [
    "> ## **독립항등분포(Independent and Identical Distribution ; IID)**"
   ]
  },
  {
   "cell_type": "markdown",
   "metadata": {},
   "source": [
    "#### **(1) 정의** : 확률변수 $ \\; X_{1},\\; X_{2},\\; \\cdots{},\\; X_{n} $ 가 독립관계이고, 모두 같은 주변 분포(marginal Distribution)를 갖는 관계\n",
    "#### = A relationship where the random variables $ \\; X_{1},\\; X_{2},\\; \\cdots{},\\; X_{n} \\; $ are independent and share the same marginal distribution\n",
    "#### $ \\Rightarrow{} F(X_{1}=x_{1}) = F(X_{2}=x_{2}) = \\cdots{} = F(X_{n}=x_{n}) $ \n",
    "#### $ \\Leftrightarrow{} P(X_{1}=x_{1}) = P(X_{2}=x_{2}) = \\cdots{} = P(X_{n}=x_{n}), \\;\\; $ if $ \\; X_{i} \\; $ is discrete Random variable\n",
    "#### $ \\Leftrightarrow{} f(X_{1}=x_{1}) = f(X_{2}=x_{2}) = \\cdots{} = f(X_{n}=x_{n}), \\;\\; $ if $ \\; X_{i} \\; $ is continuous Random variable"
   ]
  },
  {
   "cell_type": "markdown",
   "metadata": {},
   "source": [
    "<b></b>"
   ]
  },
  {
   "cell_type": "markdown",
   "metadata": {},
   "source": [
    "> ## **적률생성함수(Moment Generating Functions)**"
   ]
  },
  {
   "cell_type": "markdown",
   "metadata": {},
   "source": [
    "#### **(1) 정의** : **[CONTENTS]**\n",
    "#### = **[CONTENTS]**\n",
    "#### $ \\Rightarrow{} $ **[LATEX]**"
   ]
  },
  {
   "cell_type": "markdown",
   "metadata": {},
   "source": [
    "<b></b>"
   ]
  },
  {
   "cell_type": "markdown",
   "metadata": {},
   "source": [
    "> ## **(Characteristic Functions)**"
   ]
  },
  {
   "cell_type": "markdown",
   "metadata": {},
   "source": [
    "#### **(1) 정의** : **[CONTENTS]**\n",
    "#### = **[CONTENTS]**\n",
    "#### $ \\Rightarrow{} $ **[LATEX]**"
   ]
  },
  {
   "cell_type": "markdown",
   "metadata": {},
   "source": [
    "<b></b>"
   ]
  },
  {
   "cell_type": "markdown",
   "metadata": {},
   "source": [
    "> ## **(Probability Generating Functions)**"
   ]
  },
  {
   "cell_type": "markdown",
   "metadata": {},
   "source": [
    "#### **(1) 정의** : **[CONTENTS]**\n",
    "#### = **[CONTENTS]**\n",
    "#### $ \\Rightarrow{} $ **[LATEX]**"
   ]
  }
 ],
 "metadata": {
  "kernelspec": {
   "display_name": "Python 3",
   "language": "python",
   "name": "python3"
  },
  "language_info": {
   "codemirror_mode": {
    "name": "ipython",
    "version": 3
   },
   "file_extension": ".py",
   "mimetype": "text/x-python",
   "name": "python",
   "nbconvert_exporter": "python",
   "pygments_lexer": "ipython3",
   "version": "3.8.12"
  },
  "orig_nbformat": 4
 },
 "nbformat": 4,
 "nbformat_minor": 2
}
