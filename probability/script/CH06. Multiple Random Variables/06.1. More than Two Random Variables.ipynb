{
 "cells": [
  {
   "attachments": {},
   "cell_type": "markdown",
   "metadata": {},
   "source": [
    "# CH06.1. **More than Two Random Variables**"
   ]
  },
  {
   "cell_type": "markdown",
   "metadata": {},
   "source": [
    "> ## **결합분포의 확장()**"
   ]
  },
  {
   "cell_type": "markdown",
   "metadata": {
    "vscode": {
     "languageId": "plaintext"
    }
   },
   "source": [
    "#### **(1) $ \\; n $ 개 확률변수에 대한 결합분포의 정의** :\n",
    "#### $ \\hspace{0.15cm} $ ① 이산결합확률변수\n",
    "#### $ \\hspace{0.6cm} P_{X_{1}X_{2}\\cdots{}X_{n}}(x_{1},\\;x_{2},\\;\\cdots{},\\;x_{n}) = P(X_{1}=x_{1},\\;X_{2}=x_{2},\\;\\cdots{},X_{n}=x_{n}) $ \n",
    "#### $ \\hspace{0.15cm} $ ② 결합누적분포함수\n",
    "#### $ \\hspace{0.6cm} F_{X_{1}X_{2}\\cdots{}X_{n}}(x_{1},\\;x_{2},\\;\\cdots{},\\;x_{n}) = F(X_{1}\\leq{}x_{1},\\;X_{2}\\leq{}x_{2},\\;\\cdots{},X_{n}\\leq{}x_{n}) $ \n",
    "#### $ \\hspace{0.15cm} $ ③ 연속결합확률변수\n",
    "#### $ \\hspace{0.6cm} f_{X_{1}X_{2}\\cdots{}X_{n}}(x_{1},\\;x_{2},\\;\\cdots{},\\;x_{n}) = f(X_{1}=x_{1},\\; X_{2}=x_{2},\\; \\cdots{},\\; X_{n}=x_{n}) $\n",
    "#### $ \\hspace{4.675cm} = \\frac{\\partial{}^{n}}{\\partial{}x_{1} \\partial{}x_{2} \\cdots{} \\partial{}x_{n}} F(X_{1}=x_{1},\\; X_{2}=x_{2},\\;\\cdots{},\\; X_{n}=x_{n}) $ "
   ]
  },
  {
   "cell_type": "markdown",
   "metadata": {},
   "source": [
    "#### **(2) $ \\; n $ 개 확률변수에 대한 주변 결합분포의 정의**"
   ]
  },
  {
   "cell_type": "markdown",
   "metadata": {},
   "source": [
    "<b></b>"
   ]
  },
  {
   "cell_type": "markdown",
   "metadata": {},
   "source": [
    "> ## **(Independence)**"
   ]
  },
  {
   "cell_type": "markdown",
   "metadata": {},
   "source": [
    "#### **(1) 정의** : **[CONTENTS]** 확률변수의 $ \\; N $ 개까지의 확장\n",
    "#### = **[CONTENTS]**\n",
    "#### $ \\Rightarrow{} $ **[LATEX]**"
   ]
  },
  {
   "cell_type": "markdown",
   "metadata": {},
   "source": [
    "<b></b>"
   ]
  },
  {
   "cell_type": "markdown",
   "metadata": {},
   "source": [
    "> ## **(IID)**"
   ]
  },
  {
   "cell_type": "markdown",
   "metadata": {},
   "source": [
    "#### **(1) 정의** : **[CONTENTS]**\n",
    "#### = **[CONTENTS]**\n",
    "#### $ \\Rightarrow{} $ **[LATEX]**"
   ]
  },
  {
   "cell_type": "markdown",
   "metadata": {},
   "source": [
    "<b></b>"
   ]
  },
  {
   "cell_type": "markdown",
   "metadata": {},
   "source": [
    "> ## **적률생성함수(Moment Generating Functions)**"
   ]
  },
  {
   "cell_type": "markdown",
   "metadata": {},
   "source": [
    "#### **(1) 정의** : **[CONTENTS]**\n",
    "#### = **[CONTENTS]**\n",
    "#### $ \\Rightarrow{} $ **[LATEX]**"
   ]
  },
  {
   "cell_type": "markdown",
   "metadata": {},
   "source": [
    "<b></b>"
   ]
  },
  {
   "cell_type": "markdown",
   "metadata": {},
   "source": [
    "> ## **(Characteristic Functions)**"
   ]
  },
  {
   "cell_type": "markdown",
   "metadata": {},
   "source": [
    "#### **(1) 정의** : **[CONTENTS]**\n",
    "#### = **[CONTENTS]**\n",
    "#### $ \\Rightarrow{} $ **[LATEX]**"
   ]
  },
  {
   "cell_type": "markdown",
   "metadata": {},
   "source": [
    "<b></b>"
   ]
  },
  {
   "cell_type": "markdown",
   "metadata": {},
   "source": [
    "> ## **(Probability Generating Functions)**"
   ]
  },
  {
   "cell_type": "markdown",
   "metadata": {},
   "source": [
    "#### **(1) 정의** : **[CONTENTS]**\n",
    "#### = **[CONTENTS]**\n",
    "#### $ \\Rightarrow{} $ **[LATEX]**"
   ]
  }
 ],
 "metadata": {
  "kernelspec": {
   "display_name": "Python 3",
   "language": "python",
   "name": "python3"
  },
  "language_info": {
   "codemirror_mode": {
    "name": "ipython",
    "version": 3
   },
   "file_extension": ".py",
   "mimetype": "text/x-python",
   "name": "python",
   "nbconvert_exporter": "python",
   "pygments_lexer": "ipython3",
   "version": "3.8.12"
  },
  "orig_nbformat": 4
 },
 "nbformat": 4,
 "nbformat_minor": 2
}
