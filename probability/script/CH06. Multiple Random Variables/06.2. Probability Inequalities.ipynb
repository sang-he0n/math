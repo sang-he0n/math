{
 "cells": [
  {
   "attachments": {},
   "cell_type": "markdown",
   "metadata": {},
   "source": [
    "# CH06.2. **Probability Inequalities**"
   ]
  },
  {
   "cell_type": "markdown",
   "metadata": {},
   "source": [
    "> ## **확률 부등식(Probability Inequalities)**"
   ]
  },
  {
   "cell_type": "markdown",
   "metadata": {},
   "source": [
    "#### **(1) 정의** : 확률변수가 특정 조건을 만족할 때 그 확률에 대한 최소, 최대 한계\n",
    "#### = The minimum and maximum limits of the probability when a random variable meets certain conditions\n",
    "#### = 확률변수에 대한 정보가 제한적일 때 확률을 포괄적으로 정의하는 방법 \n",
    "#### $ \\Rightarrow{} P(X\\in{}A) \\leq{} a \\, $ or $ \\, P(X\\in{}A) \\geq{} a \\;\\; $ where $ \\, a \\in{} \\mathbb{R} $"
   ]
  },
  {
   "cell_type": "markdown",
   "metadata": {},
   "source": [
    "<b></b>"
   ]
  },
  {
   "cell_type": "markdown",
   "metadata": {},
   "source": [
    "> ## **합집합 경계(Union Bounds; Boole's Inequality)**"
   ]
  },
  {
   "cell_type": "markdown",
   "metadata": {},
   "source": [
    "#### **(1) 정의** : 어떠한 사건 $ \\, A_{1},\\, A_{2},\\, \\cdots{},\\, A_{n} $ 에 대하여 각 사건의 합집합의 확률의 상한\n",
    "#### = **[CONTENTS]**\n",
    "#### $ \\Rightarrow{} P(\\displaystyle\\cup^{n}_{i=1}A_{i}) \\leq{} \\displaystyle\\sum^{n}_{i=1} P(A_{i}) $"
   ]
  },
  {
   "cell_type": "markdown",
   "metadata": {},
   "source": [
    "#### **(WHY?)** Theorem 1-5. 포함배제의 원리\n",
    "#### $ P(\\displaystyle\\cup^{n}_{i=1}A_{i}) = \\overbrace{\\sum{}^{n}_{i=1}P(A_{i})}^{\\text{over count}} - \\overbrace{\\displaystyle\\sum_{(i,\\,k):i<k} P(A_{i}\\cap{}A_{k})}^{\\text{under count}} + \\overbrace{\\displaystyle\\sum_{(i,\\,k,\\;m):i<k<m}P(A_{i}\\cap{}A_{k}\\cap{}A_{m})}^{\\text{over count}} + \\cdots{} + \\overbrace{(-1)^{n+1}P(\\displaystyle\\cap^{n}_{i=1} A_{i})}^{\\text{correction}} $"
   ]
  },
  {
   "cell_type": "markdown",
   "metadata": {},
   "source": [
    "#### **(PLUS) 본페로니 부등식(Bonferroni's inequality)** :\n",
    "#### 어떠한 사건 $ \\, A_{1},\\, A_{2},\\, \\cdots{},\\, A_{n} $ 에 대하여\n",
    "#### $ P(\\displaystyle\\cup^{n}_{i=1}A_{i}) \\leq{} \\sum{}^{n}_{i=1}P(A_{i}) $\n",
    "#### $ P(\\displaystyle\\cup^{n}_{i=1}A_{i}) \\geq{} \\sum{}^{n}_{i=1}P(A_{i}) - \\displaystyle\\sum_{(i,\\,k):i<k} P(A_{i}\\cap{}A_{k}) $\n",
    "#### $ P(\\displaystyle\\cup^{n}_{i=1}A_{i}) \\leq{} \\sum{}^{n}_{i=1}P(A_{i}) - \\displaystyle\\sum_{(i,\\,k):i<k} P(A_{i}\\cap{}A_{k}) + \\displaystyle\\sum_{(i,\\,k,\\;m):i<k<m}P(A_{i}\\cap{}A_{k}\\cap{}A_{m}) $\n",
    "#### $ \\cdots{} $ "
   ]
  },
  {
   "cell_type": "markdown",
   "metadata": {},
   "source": [
    "<b></b>"
   ]
  },
  {
   "cell_type": "markdown",
   "metadata": {},
   "source": [
    "> ## **마르코브 부등식(Markov Inequalities)**"
   ]
  },
  {
   "cell_type": "markdown",
   "metadata": {},
   "source": [
    "#### **(1) 정의** : 비음수 확률변수에 대하여 기대값을 통해 확률변수가 특정 값을 취할 확률의 상한\n",
    "#### = **[CONTENTS]**\n",
    "#### $ \\Rightarrow{} P(X\\geq{}a) \\leq{} \\frac{E(X)}{a}, \\;\\; $ where $ \\, X \\geq{} 0 \\, $ and $ \\, a > 0 $ "
   ]
  },
  {
   "cell_type": "markdown",
   "metadata": {},
   "source": [
    "#### **(WHY?)**\n",
    "#### $ \\hspace{0.15cm} \\cdot{} \\, $ 이산확률변수의 경우\n",
    "#### $ \\hspace{0.35cm} E(X) = $ **[LATEX]**\n",
    "#### $ \\hspace{0.15cm} \\cdot{} \\, $ 연속확률변수의 경우\n",
    "#### $ \\hspace{0.35cm} E(X) = \\displaystyle\\int^{\\infty{}}_{0} x f(X=x) \\text{dx} = \\displaystyle\\int^{\\infty{}}_{a} x f(X=x) \\text{dx} + \\displaystyle\\int^{a}_{0} x f(X=x) \\text{dx} $\n",
    "#### $ \\hspace{1.3cm} \\geq{} \\displaystyle\\int^{\\infty{}}_{a} x f(X=x) \\text{dx} \\geq{} \\displaystyle\\int^{\\infty{}}_{a} a f(X=x) \\text{dx} \\;\\; $ ($ \\because{} \\, x > a$)\n",
    "#### $ \\hspace{1.3cm} \\geq{} \\displaystyle\\int^{\\infty{}}_{a} a f(X=x) \\text{dx} = a P(X\\geq{}a) $\n",
    "#### $ \\hspace{0.35cm} \\therefore{} \\frac{E(X)}{a} \\geq{} P(X\\geq{}a) $ "
   ]
  },
  {
   "cell_type": "markdown",
   "metadata": {},
   "source": [
    "#### **(2) 해석** : 확률변수가 특정 값 $ \\, a $ 이상이 될 확률은 기대값을 $ \\, a $ 로 나눈 값 이하임\n",
    "#### = 만약 확률변수의 기대값이 작다면, 확률변수의 값이 클 확률은 낮음\n",
    "#### $ \\approx{} $ 확률변수의 값이 기대값보다 현저히 큰 값($ a $)이 되는 경우는 그렇게 자주 발생하지 않음"
   ]
  },
  {
   "cell_type": "markdown",
   "metadata": {},
   "source": [
    "#### **(3) 예시** :\n",
    "#### $ \\hspace{0.15cm} $ ① 직장 내 월급 수령 상위 $ \\, 10 \\% $ 가 평균(expected value)보다 12배 이상 벌 수 있는가?\n",
    "#### $ \\hspace{0.6cm} \\cdot{} \\, X \\, $ : 직장인의 수령 월급\n",
    "#### $ \\hspace{0.6cm} \\therefore{} \\, P(X\\geq{}12E(X)) \\leq{} \\frac{E(X)}{12E(X)} = \\frac{1}{12} \\approx{} 8 \\% \\neq{} 10 \\% $\n",
    "#### $ \\hspace{0.15cm} $ ② **[CONTENTS]**"
   ]
  },
  {
   "cell_type": "markdown",
   "metadata": {},
   "source": [
    "<b></b>"
   ]
  },
  {
   "cell_type": "markdown",
   "metadata": {},
   "source": [
    "> ## **체비쇼프 부등식(Chebskyshev Inequalities)**"
   ]
  },
  {
   "cell_type": "markdown",
   "metadata": {},
   "source": [
    "#### **(1) 정의** : 어떠한 확률변수에 대하여 기대값과 분산을 통해 확률변수의 기대값이 특정 값을 벗어날 확률의 상한\n",
    "#### = **[CONTENTS]**\n",
    "#### $ \\Rightarrow{} P(|X-E(X)| \\geq{} a) \\leq{} \\frac{\\text{var}(X)}{a^{2}}, \\;\\; $ where $ \\, a > 0 $ "
   ]
  },
  {
   "cell_type": "markdown",
   "metadata": {},
   "source": [
    "#### **(WHY?)**\n",
    "#### $ Y = (X - E(X))^{2}, \\;\\; $ where $ \\, X \\, $ is non-negative RV\n",
    "#### $ P(Y\\geq{}a^{2}) \\leq{} \\frac{E(Y)}{a^{2}} $\n",
    "#### $ P((X-E(X))^{2}\\geq{}a^{2}) \\leq{} \\frac{E((X-E(X))^{2})}{a^{2}} = \\frac{\\text{var}(X)}{a^{2}} $\n",
    "#### $ P((X-E(X))\\geq{}a) \\;\\; \\text{or} \\;\\; P((X-E(X))\\leq{}-a) \\leq{} \\frac{\\text{var}(X)}{a^{2}} $\n",
    "#### $ \\therefore{} \\, P(|X-E(X)| \\geq{} a) \\leq{} \\frac{\\text{var}(X)}{a^{2}} $"
   ]
  },
  {
   "cell_type": "markdown",
   "metadata": {},
   "source": [
    "#### **(2) 해석** : 확률변수의 값이 기대값으로부터 적어도 $ \\, a $ 만큼 떨어진 값이 나타탈 확률은 분산을 $ \\, a^{2} $ 으로 나눈 값 이하 임\n",
    "#### = 확률변수의 값이 그 기대값으로부터 적어도 $ \\, a $ 만큼 떨어질 확률은 확률변수의 분산에 의해 상한이 결정됨"
   ]
  },
  {
   "cell_type": "markdown",
   "metadata": {},
   "source": [
    "#### **(PLUS) 확률변수 값과 기대값 간의 거리 관계**\n",
    "#### $ P(|X-E(X)|\\geq{} r \\cdot{} \\text{std}(X)) \\leq{} \\frac{\\text{var}(X)}{(r\\cdot{}\\text{std}(X))^{2}} = \\frac{1}{r^{2}}, \\;\\; $ where $ \\, a = r \\cdot{} \\text{std}(X), \\;\\; r > 0 $\n",
    "#### $ P(|X-E(X)| < r \\cdot{} \\text{std}(X)) = 1 - P(|X-E(X)|\\geq{} r \\cdot{} \\text{std}(X)) \\geq{} 1 - \\frac{1}{r^{2}} $\n",
    "#### if $ \\, r = 1, \\; \\hspace{0.15cm} P(|X-E(X)| < \\text{std}(X)) \\geq{} 0 \\;\\; $ (not useful)\n",
    "#### if $ \\, r = 2, \\; \\hspace{0.15cm} P(|X-E(X)| < \\text{std}(X)) \\geq{} 0.75 \\;\\; \\rightarrow{} \\; X $ 가 $ \\, E(X) $ 부터 $ \\, 2 \\cdot{} \\text{std}(X) \\, $ 안에 있을 확률이 $ \\, 75 \\% $ \n",
    "#### if $ \\, r = 3, \\; \\hspace{0.15cm} P(|X-E(X)| < \\text{std}(X)) \\geq{} 0.8889 \\;\\; \\rightarrow{} $\n",
    "#### if $ \\, r = 4, \\; \\hspace{0.15cm} P(|X-E(X)| < \\text{std}(X)) \\geq{} 0.9375 \\;\\; \\rightarrow{} $\n",
    "#### $ \\cdots{} $\n",
    "#### $ \\Rightarrow{} $ 확률변수의 값이 그 기대값으로부터 **표준편차**의 배수($ r $)로 떨어져 나가는 경우는 상대적으로 드뭄"
   ]
  },
  {
   "cell_type": "markdown",
   "metadata": {},
   "source": [
    "#### **(3) 예시** :\n",
    "#### $ \\hspace{0.15cm} $ ① **[CONTENTS]**\n",
    "#### $ \\hspace{0.15cm} $ ② **[CONTENTS]**"
   ]
  },
  {
   "cell_type": "markdown",
   "metadata": {},
   "source": [
    "<b></b>"
   ]
  },
  {
   "cell_type": "markdown",
   "metadata": {},
   "source": [
    "> ## **체르노프 경계(Chernoff Bounds)**"
   ]
  },
  {
   "cell_type": "markdown",
   "metadata": {},
   "source": [
    "#### **(1) 정의** : **[CONTENTS]**\n",
    "#### = **[CONTENTS]**\n",
    "#### $ \\Rightarrow{} $ **[LATEX]**"
   ]
  },
  {
   "cell_type": "markdown",
   "metadata": {},
   "source": [
    "#### **(2) 해석** : **[CONTETNS]**"
   ]
  },
  {
   "cell_type": "markdown",
   "metadata": {},
   "source": [
    "#### **(3) 예시** :\n",
    "#### $ \\hspace{0.15cm} $ ① **[CONTENTS]**"
   ]
  },
  {
   "cell_type": "markdown",
   "metadata": {},
   "source": [
    "<b></b>"
   ]
  },
  {
   "cell_type": "markdown",
   "metadata": {},
   "source": [
    "> ## **(Cauchy-schwarz Inequalities)**"
   ]
  },
  {
   "cell_type": "markdown",
   "metadata": {},
   "source": [
    "#### **(1) 정의** : **[CONTENTS]**\n",
    "#### = **[CONTENTS]**\n",
    "#### $ \\Rightarrow{} $ **[LATEX]**"
   ]
  },
  {
   "cell_type": "markdown",
   "metadata": {},
   "source": [
    "#### **(2) 해석** : **[CONTETNS]**"
   ]
  },
  {
   "cell_type": "markdown",
   "metadata": {},
   "source": [
    "#### **(3) 예시** :\n",
    "#### $ \\hspace{0.15cm} $ ① **[CONTENTS]**"
   ]
  },
  {
   "cell_type": "markdown",
   "metadata": {},
   "source": [
    "<b></b>"
   ]
  },
  {
   "cell_type": "markdown",
   "metadata": {},
   "source": [
    "> ## **(Jensen's Inequality)**"
   ]
  },
  {
   "cell_type": "markdown",
   "metadata": {},
   "source": [
    "#### **(1) 정의** : **[CONTENTS]**\n",
    "#### = **[CONTENTS]**\n",
    "#### $ \\Rightarrow{} $ **[LATEX]**"
   ]
  },
  {
   "cell_type": "markdown",
   "metadata": {},
   "source": [
    "#### **(2) 해석** : **[CONTETNS]**"
   ]
  },
  {
   "cell_type": "markdown",
   "metadata": {},
   "source": [
    "#### **(3) 예시** :\n",
    "#### $ \\hspace{0.15cm} $ ① **[CONTENTS]**"
   ]
  },
  {
   "cell_type": "markdown",
   "metadata": {},
   "source": [
    "<b></b>"
   ]
  },
  {
   "cell_type": "markdown",
   "metadata": {},
   "source": [
    "> ## **확률경계 간 관계(Relationships of Probability Bounds)**"
   ]
  }
 ],
 "metadata": {
  "kernelspec": {
   "display_name": "Python 3",
   "language": "python",
   "name": "python3"
  },
  "language_info": {
   "codemirror_mode": {
    "name": "ipython",
    "version": 3
   },
   "file_extension": ".py",
   "mimetype": "text/x-python",
   "name": "python",
   "nbconvert_exporter": "python",
   "pygments_lexer": "ipython3",
   "version": "3.8.12"
  },
  "orig_nbformat": 4
 },
 "nbformat": 4,
 "nbformat_minor": 2
}
