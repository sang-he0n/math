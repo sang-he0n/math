{
 "cells": [
  {
   "attachments": {},
   "cell_type": "markdown",
   "metadata": {},
   "source": [
    "# CH06.2. **Probability Inequalities**"
   ]
  },
  {
   "cell_type": "markdown",
   "metadata": {},
   "source": [
    "> ## **확률 부등식(Probability Inequalities)**"
   ]
  },
  {
   "cell_type": "markdown",
   "metadata": {},
   "source": [
    "#### **(1) 정의** : 확률변수가 특정 조건을 만족할 때 그 확률에 대한 최소, 최대 한계\n",
    "#### = **[CONTENTS]**\n",
    "#### = 확률변수에 대한 정보가 제한적일 때 확률을 포괄적으로 정의하는 방법 \n",
    "#### $ \\Rightarrow{} P(X\\in{}A) \\leq{} a \\, $ or $ \\, P(X\\in{}A) \\geq{} a \\;\\; $ where $ \\, a \\in{} \\mathbb{R} $"
   ]
  },
  {
   "cell_type": "markdown",
   "metadata": {},
   "source": [
    "<b></b>"
   ]
  },
  {
   "cell_type": "markdown",
   "metadata": {},
   "source": [
    "> ## **합집합 경계(Union Bounds)**"
   ]
  },
  {
   "cell_type": "markdown",
   "metadata": {},
   "source": [
    "#### **(1) 정의** : **[CONTENTS]**\n",
    "#### = **[CONTENTS]**\n",
    "#### $ \\Rightarrow{} P(\\displaystyle\\cup^{n}_{i=1}A_{i}) \\leq{} \\displaystyle\\sum^{n}_{i=1} P(A_{i}) $"
   ]
  },
  {
   "cell_type": "markdown",
   "metadata": {},
   "source": [
    "#### **(WHY?)** Theorem 1-5. 포함배제의 원리\n",
    "#### $ P(\\displaystyle\\cup^{n}_{i=1}A_{i}) = \\overbrace{\\sum{}^{n}_{i=1}P(A_{i})}^{\\text{over count}} - \\overbrace{\\displaystyle\\sum_{(i,\\,k):i<k} P(A_{i}\\cap{}A_{k})}^{\\text{under count}} + \\overbrace{\\displaystyle\\sum_{(i,\\,k,\\;m):i<k<m}P(A_{i}\\cap{}A_{k}\\cap{}A_{m})}^{\\text{over count}} + \\cdots{} + \\overbrace{(-1)^{n+1}P(\\displaystyle\\cap^{n}_{i=1} A_{i})}^{\\text{correction}} $"
   ]
  },
  {
   "cell_type": "markdown",
   "metadata": {},
   "source": [
    "#### **(PLUS) 본페로니 부등식(Bonferroni's inequality)** :\n",
    "#### 어떠한 사건 $ \\, A_{1},\\, A_{2},\\, \\cdots{},\\, A_{n} $ 에 대하여\n",
    "#### $ P(\\displaystyle\\cup^{n}_{i=1}A_{i}) \\leq{} \\sum{}^{n}_{i=1}P(A_{i}) $\n",
    "#### $ P(\\displaystyle\\cup^{n}_{i=1}A_{i}) \\geq{} \\sum{}^{n}_{i=1}P(A_{i}) - \\displaystyle\\sum_{(i,\\,k):i<k} P(A_{i}\\cap{}A_{k}) $\n",
    "#### $ P(\\displaystyle\\cup^{n}_{i=1}A_{i}) \\leq{} \\sum{}^{n}_{i=1}P(A_{i}) - \\displaystyle\\sum_{(i,\\,k):i<k} P(A_{i}\\cap{}A_{k}) + \\displaystyle\\sum_{(i,\\,k,\\;m):i<k<m}P(A_{i}\\cap{}A_{k}\\cap{}A_{m}) $\n",
    "#### $ \\cdots{} $ "
   ]
  },
  {
   "cell_type": "markdown",
   "metadata": {},
   "source": [
    "<b></b>"
   ]
  },
  {
   "cell_type": "markdown",
   "metadata": {},
   "source": [
    "> ## **마르코브 부등식(Markov Inequalities)**"
   ]
  },
  {
   "cell_type": "markdown",
   "metadata": {},
   "source": [
    "#### **(1) 정의** : 비음수 확률변수에 대하여 기대값을 통해 확률변수가 특정 값을 취할 확률의 상한\n",
    "#### = **[CONTENTS]**\n",
    "#### $ \\Rightarrow{} P(X\\geq{}a) \\leq{} \\frac{E(X)}{a}, \\;\\; $ where $ \\, X \\geq{} 0 \\, $ and $ \\, a > 0 $ "
   ]
  },
  {
   "cell_type": "markdown",
   "metadata": {},
   "source": [
    "#### **(WHY?)**\n",
    "#### $ \\hspace{0.15cm} \\cdot{} \\, $ 이산확률변수의 경우\n",
    "#### $ \\hspace{0.35cm} E(X) = $ **[LATEX]**\n",
    "#### $ \\hspace{0.15cm} \\cdot{} \\, $ 연속확률변수의 경우\n",
    "#### $ \\hspace{0.35cm} E(X) = $ **[LATEX]**"
   ]
  },
  {
   "cell_type": "markdown",
   "metadata": {},
   "source": [
    "#### **(2) 해석** : **[CONTETNS]**"
   ]
  },
  {
   "cell_type": "markdown",
   "metadata": {},
   "source": [
    "#### **(3) 예시** :\n",
    "#### $ \\hspace{0.15cm} $ ① **[CONTENTS]**"
   ]
  },
  {
   "cell_type": "markdown",
   "metadata": {},
   "source": [
    "<b></b>"
   ]
  },
  {
   "cell_type": "markdown",
   "metadata": {},
   "source": [
    "> ## **체비쇼프 부등식(Chebskyshev Inequalities)**"
   ]
  },
  {
   "cell_type": "markdown",
   "metadata": {},
   "source": [
    "#### **(1) 정의** : 어떠한 확률변수에 대하여 기대값과 분산을 통해 확률변수의 기대값이 특정 값을 벗어날 확률의 상한\n",
    "#### = **[CONTENTS]**\n",
    "#### $ \\Rightarrow{} P(|X-E(X)| \\geq{} a) \\leq{} \\frac{\\text{var}(X)}{a^{2}}, \\;\\; $ where $ \\, a > 0 $ "
   ]
  },
  {
   "cell_type": "markdown",
   "metadata": {},
   "source": [
    "#### **(2) 해석** : **[CONTETNS]**"
   ]
  },
  {
   "cell_type": "markdown",
   "metadata": {},
   "source": [
    "#### **(3) 예시** :\n",
    "#### $ \\hspace{0.15cm} $ ① **[CONTENTS]**"
   ]
  },
  {
   "cell_type": "markdown",
   "metadata": {},
   "source": [
    "<b></b>"
   ]
  },
  {
   "cell_type": "markdown",
   "metadata": {},
   "source": [
    "> ## **체르노프 경계(Chernoff Bounds)**"
   ]
  },
  {
   "cell_type": "markdown",
   "metadata": {},
   "source": [
    "#### **(1) 정의** : **[CONTENTS]**\n",
    "#### = **[CONTENTS]**\n",
    "#### $ \\Rightarrow{} $ **[LATEX]**"
   ]
  },
  {
   "cell_type": "markdown",
   "metadata": {},
   "source": [
    "#### **(2) 해석** : **[CONTETNS]**"
   ]
  },
  {
   "cell_type": "markdown",
   "metadata": {},
   "source": [
    "#### **(3) 예시** :\n",
    "#### $ \\hspace{0.15cm} $ ① **[CONTENTS]**"
   ]
  },
  {
   "cell_type": "markdown",
   "metadata": {},
   "source": [
    "<b></b>"
   ]
  },
  {
   "cell_type": "markdown",
   "metadata": {},
   "source": [
    "> ## **(Cauchy-schwarz Inequalities)**"
   ]
  },
  {
   "cell_type": "markdown",
   "metadata": {},
   "source": [
    "#### **(1) 정의** : **[CONTENTS]**\n",
    "#### = **[CONTENTS]**\n",
    "#### $ \\Rightarrow{} $ **[LATEX]**"
   ]
  },
  {
   "cell_type": "markdown",
   "metadata": {},
   "source": [
    "#### **(2) 해석** : **[CONTETNS]**"
   ]
  },
  {
   "cell_type": "markdown",
   "metadata": {},
   "source": [
    "#### **(3) 예시** :\n",
    "#### $ \\hspace{0.15cm} $ ① **[CONTENTS]**"
   ]
  },
  {
   "cell_type": "markdown",
   "metadata": {},
   "source": [
    "<b></b>"
   ]
  },
  {
   "cell_type": "markdown",
   "metadata": {},
   "source": [
    "> ## **(Jensen's Inequality)**"
   ]
  },
  {
   "cell_type": "markdown",
   "metadata": {},
   "source": [
    "#### **(1) 정의** : **[CONTENTS]**\n",
    "#### = **[CONTENTS]**\n",
    "#### $ \\Rightarrow{} $ **[LATEX]**"
   ]
  },
  {
   "cell_type": "markdown",
   "metadata": {},
   "source": [
    "#### **(2) 해석** : **[CONTETNS]**"
   ]
  },
  {
   "cell_type": "markdown",
   "metadata": {},
   "source": [
    "#### **(3) 예시** :\n",
    "#### $ \\hspace{0.15cm} $ ① **[CONTENTS]**"
   ]
  },
  {
   "cell_type": "markdown",
   "metadata": {},
   "source": [
    "<b></b>"
   ]
  },
  {
   "cell_type": "markdown",
   "metadata": {},
   "source": [
    "> ## **확률경계 간 관계(Relationships of Probability Bounds)**"
   ]
  }
 ],
 "metadata": {
  "kernelspec": {
   "display_name": "Python 3",
   "language": "python",
   "name": "python3"
  },
  "language_info": {
   "codemirror_mode": {
    "name": "ipython",
    "version": 3
   },
   "file_extension": ".py",
   "mimetype": "text/x-python",
   "name": "python",
   "nbconvert_exporter": "python",
   "pygments_lexer": "ipython3",
   "version": "3.8.12"
  },
  "orig_nbformat": 4
 },
 "nbformat": 4,
 "nbformat_minor": 2
}
