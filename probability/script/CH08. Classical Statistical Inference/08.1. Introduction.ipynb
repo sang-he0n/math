{
 "cells": [
  {
   "attachments": {},
   "cell_type": "markdown",
   "metadata": {},
   "source": [
    "# CH08.1. **Introduction**"
   ]
  },
  {
   "cell_type": "markdown",
   "metadata": {},
   "source": [
    "> ## **통계적 추론(Statistical Inference)**"
   ]
  },
  {
   "cell_type": "markdown",
   "metadata": {},
   "source": [
    "#### **(1) 정의** : 데이터의 무작위적 변동성으로부터 신뢰성있는 결론을 도출하는 방법들\n",
    "#### = methods that deal with drawing confidencial conclusions from data that are prone to random variation"
   ]
  },
  {
   "cell_type": "markdown",
   "metadata": {},
   "source": [
    "#### **(2) 종류** :\n",
    "#### $ \\hspace{0.15cm} $ ① 빈도주의적 추정 : 모집단에서 반복적으로 샘플링을 수행했을 때 관측될 수 있는 장기적 빈도를 기반으로 추정\n",
    "#### $ \\hspace{0.15cm} $ ② 베이지안 추정 : 사전 지식과 새로운 데이터를 결합하여 추정"
   ]
  },
  {
   "cell_type": "markdown",
   "metadata": {},
   "source": [
    "<b></b>"
   ]
  },
  {
   "cell_type": "markdown",
   "metadata": {},
   "source": [
    "> ## **모집단(Population)**"
   ]
  },
  {
   "cell_type": "markdown",
   "metadata": {},
   "source": [
    "#### **(1) 정의** : 관심 있는 정보를 얻고자 하는 요소들의 **전체 집합**\n",
    "#### = a total collections of elements from which we are intested in obtaining information"
   ]
  },
  {
   "cell_type": "markdown",
   "metadata": {},
   "source": [
    "<b></b>"
   ]
  },
  {
   "cell_type": "markdown",
   "metadata": {},
   "source": [
    "> ## **무작위 표본(Random Sample)**"
   ]
  },
  {
   "cell_type": "markdown",
   "metadata": {},
   "source": [
    "#### **(2) 무작위 표본(Random Sample)** : 모집단의 각 요소들이 동등발생결과로(동일한 확률로) 선택한 부분집합\n",
    "#### = a subset of a population where each element is equally likely to be chosen\n",
    "#### = 모집단 $ \\, Y $ 으로부터 그 분포를 따르며 i.i.d인 확률변수 $ X_{1},\\, X_{2},\\, \\cdots{},\\, X_{n} $ 의 부분집합\n",
    "#### $ \\Rightarrow{} F_{X_{1}}(x) = F_{X_{2}}(x) = \\cdots{} = F_{X_{n}}(x) = F_{Y}(x) \\;\\; $ where $ \\, X_{i} \\sim{} \\text{i.i.d} $"
   ]
  },
  {
   "cell_type": "markdown",
   "metadata": {},
   "source": [
    "#### **(2) 예시** :\n",
    "#### $ \\hspace{0.15cm} $ ① 총 $ A,\\, B,\\, C $ 의 후보자 중 $ A $ 의 지지율를 통계적 추론을 통해 도출하고자하는 경우\n",
    "#### $ \\hspace{0.45cm} \\cdot{} \\, \\theta{} $ : 어떤 후보자의 지지율\n",
    "#### $ \\hspace{0.45cm} \\cdot{} \\, S = \\{ A, \\cdots{} \\} $ : 후보자를 뽑을 수 있는   \n",
    "#### $ \\hspace{0.45cm} \\cdot{} \\, X_{i} $ : $ \\, i $ 번째 유권자\n",
    "#### $ \\hspace{0.45cm} \\therefore{} \\frac{1}{n} \\cdot{} \\displaystyle\\sum^{n}_{i=1}X_{i} \\xrightarrow{\\text{추정}} \\mu{} $\n",
    "#### $ \\hspace{0.15cm} $ ② 한국인의 평균 키(cm)를 통계적 추론을 통해 도출하는 과정\n",
    "#### $ \\hspace{0.45cm} \\cdot{} \\, \\mu{} $ : 모든 한국인의 키의 평균\n",
    "#### $ \\hspace{0.45cm} \\cdot{} \\, S = \\{ 0, 0.1, \\cdots{}, 1, \\cdots{}, 170, \\cdots{} \\} $ : 키의 범위 \n",
    "#### $ \\hspace{0.45cm} \\cdot{} \\, X_{i} $ : $ \\, i $ 번째 한국인의 키\n",
    "#### $ \\hspace{0.45cm} \\therefore{} \\frac{1}{n} \\cdot{} \\displaystyle\\sum^{n}_{i=1}X_{i} \\xrightarrow{\\text{추정}} \\mu{} $"
   ]
  },
  {
   "cell_type": "markdown",
   "metadata": {},
   "source": [
    "<b></b>"
   ]
  },
  {
   "cell_type": "markdown",
   "metadata": {},
   "source": [
    "> ## **표본추출(Sampling)**"
   ]
  },
  {
   "cell_type": "markdown",
   "metadata": {},
   "source": [
    "#### **(1) 정의** : **[CONTENTS]**\n",
    "#### = **[CONTENTS]**"
   ]
  },
  {
   "cell_type": "markdown",
   "metadata": {},
   "source": [
    "#### **(2) 조건** : \n",
    "#### $ \\hspace{0.15cm} $ ① **[CONTENTS]**\n",
    "#### $ \\hspace{0.15cm} $ ② **[CONTENTS]**"
   ]
  },
  {
   "cell_type": "markdown",
   "metadata": {},
   "source": [
    "#### **(3) 종류** : \n",
    "#### $ \\hspace{0.15cm} $ ① **[CONTENTS]**\n",
    "#### $ \\hspace{0.15cm} $ ② **[CONTENTS]**"
   ]
  },
  {
   "cell_type": "markdown",
   "metadata": {},
   "source": [
    "<b></b>"
   ]
  },
  {
   "cell_type": "markdown",
   "metadata": {},
   "source": [
    "<b></b>"
   ]
  }
 ],
 "metadata": {
  "kernelspec": {
   "display_name": "Python 3",
   "language": "python",
   "name": "python3"
  },
  "language_info": {
   "codemirror_mode": {
    "name": "ipython",
    "version": 3
   },
   "file_extension": ".py",
   "mimetype": "text/x-python",
   "name": "python",
   "nbconvert_exporter": "python",
   "pygments_lexer": "ipython3",
   "version": "3.8.12"
  },
  "orig_nbformat": 4
 },
 "nbformat": 4,
 "nbformat_minor": 2
}
