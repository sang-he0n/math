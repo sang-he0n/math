{
 "cells": [
  {
   "attachments": {},
   "cell_type": "markdown",
   "metadata": {},
   "source": [
    "# 04.2. **Continuous Distributions**"
   ]
  },
  {
   "cell_type": "markdown",
   "metadata": {},
   "source": [
    "> ## **연속균등분포(Uniform Distribution)**"
   ]
  },
  {
   "cell_type": "markdown",
   "metadata": {},
   "source": [
    "#### **(1) 정의** : 특정한 구간 $ \\; [a,\\; b] $ 에서 가능한 모든 결과가 같은(일정한) 확률을 가지는 분포 \n",
    "#### = a distribution where all outcomes are equally likely within a specific interval $ \\; [a,\\; b] $\n",
    "#### $ \\Rightarrow{} f(X=x) = \\begin{cases} \\frac{1}{b-a}, \\;\\; a \\leq{} x \\leq{} b \\\\ 0, \\;\\;\\;\\;\\;\\; x < a \\;\\; \\text{or} \\;\\; x > b \\end{cases} $\n",
    "#### **[GRPAH]**"
   ]
  },
  {
   "cell_type": "markdown",
   "metadata": {},
   "source": [
    "#### **(PLUS)** 이 때 확률변수 $ \\; X $ 는 **특정 범위 내 모든 값이 균등하게 나타날 때 그 범위**로 정의되며, \n",
    "#### 그 구간을 모수로 하는 분포를 따름\n",
    "#### $ \\Rightarrow{} X \\sim{} \\text{Uniform}(a,\\; b) $"
   ]
  },
  {
   "cell_type": "markdown",
   "metadata": {},
   "source": [
    "#### **(PLUS) 누적분포함수** :\n",
    "#### $ \\Rightarrow{} F(X=x) = \\begin{cases} 0, \\;\\;\\;\\;\\;\\; x < a \\;\\; \\text{or} \\;\\; x > b \\\\ \\frac{x-a}{b-a}, \\;\\; a \\leq{} x \\leq{} b \\\\ 1, \\;\\;\\;\\;\\;\\; x > b \\end{cases} $ "
   ]
  },
  {
   "cell_type": "markdown",
   "metadata": {},
   "source": [
    "#### **(2) 분포의 평균** : \n",
    "#### $ E(X) = \\displaystyle\\int^{b}_{a} x f(X=x) \\text{dx} = \\displaystyle\\int^{b}_{a} x (\\frac{1}{b-a}) \\text{dx} $\n",
    "#### $ \\hspace{0.95cm} = \\frac{1}{b-a} \\begin{bmatrix} \\frac{1}{2}x^{2} \\end{bmatrix}^{b}_{a} = \\frac{b^{2}-a^{2}}{2(b-a)} = \\frac{b+a}{2} $"
   ]
  },
  {
   "cell_type": "markdown",
   "metadata": {},
   "source": [
    "#### **(3) 분포의 분산** :\n",
    "#### $ \\text{var}(X) = \\underbrace{E(X^{2})}_{\\text{㉠}} - E(X)^{2} = \\frac{a^{2}+ab+b^{2}}{3(b-a)} - \\frac{b+a}{2} = \\frac{(b-a)^{2}}{12}$ \n",
    "#### $ \\because{} \\; ㉠ = \\displaystyle\\int^{b}_{a} x^{2} (\\frac{1}{b-a}) \\text{dx} = \\frac{1}{b-a} \\begin{bmatrix} \\frac{1}{3}x^{3} \\end{bmatrix}^{b}_{a} = \\frac{b^{3}-a^{3}}{3(b-a)} $\n",
    "#### $ \\hspace{0.8cm} = \\frac{(b-a)(a^{2}+ab+b^{2})}{3(b-a)} $ "
   ]
  },
  {
   "cell_type": "markdown",
   "metadata": {},
   "source": [
    "#### **(4) 예시** : \n",
    "#### $ \\hspace{0.15cm} $ ① 어떤 파견 직원이 $ \\; 2 $ 시에부터 $ \\; 5 $ 시에 회사에 도착하고, 이를 정의한 확률변수 $ \\; X $가 연속균등분포를 따를 때\n",
    "#### $ \\hspace{0.6cm} X \\; $ : 어떤 파견 직원이 회사에 도착할 시간\n",
    "#### $ \\hspace{0.6cm} X \\sim{} \\text{Uniform}(2,\\; 5), \\;\\; E(X) = \\frac{5+2}{2} = \\frac{7}{2}, \\;\\; \\text{var}(X) = \\frac{(5-2)^{2}}{12} = \\frac{3}{4} $\n",
    "#### $ \\hspace{0.6cm} f(X=x) = \\begin{cases} \\frac{1}{5-2}, \\;\\; 2 \\leq{} x \\leq{} 5 \\\\ 0, \\;\\;\\;\\;\\;\\; x < 2 \\;\\; \\text{or} \\;\\; x > 5 \\end{cases} $ "
   ]
  },
  {
   "cell_type": "markdown",
   "metadata": {},
   "source": [
    "#### **(PLUS)** 이 때 $ \\; 4 $ 시 이후에 도착할 확률은? \n",
    "#### $ \\hspace{0.6cm} P(X \\geq{} 4) = F(X=5) - F(X=4) = \\frac{(5-2)}{3} - \\frac{(4-2)}{3} = \\frac{1}{3} $"
   ]
  },
  {
   "cell_type": "markdown",
   "metadata": {},
   "source": [
    "#### $ \\hspace{0.15cm} $ ② **[CONTENTS]**"
   ]
  },
  {
   "cell_type": "markdown",
   "metadata": {},
   "source": [
    "<b></b>"
   ]
  },
  {
   "cell_type": "markdown",
   "metadata": {},
   "source": [
    "> ## **지수분포(Exponential Distribution)**"
   ]
  },
  {
   "cell_type": "markdown",
   "metadata": {},
   "source": [
    "#### **(1) 정의** : 어떠한 구간(시간/공간)에서 사건이 발생하는 빈도를 정의하는 확률변수가 따르는 분포\n",
    "#### = a distribution that defines the frequency of events occurring within a specific interval (time/space)\n",
    "#### $ \\Rightarrow{} f(X=x) = \\begin{cases} \\lambda{}e^{-\\lambda{}x} = \\frac{\\lambda{}}{e^{\\lambda{}x}}, \\;\\; x \\geq{} 0 \\\\ 0, \\;\\;\\;\\;\\;\\;\\;\\;\\;\\;\\;\\;\\;\\;\\;\\;\\;\\; x < 0 \\end{cases} \\;\\; $ with $ \\; \\lambda{} > 0 $\n",
    "#### **[GRPAH]**"
   ]
  },
  {
   "cell_type": "markdown",
   "metadata": {},
   "source": [
    "#### **(PLUS)** 이 때 확률변수 $ \\; X $ 는 **어떠한 사건이 발생할 빈도 혹은 간격**으로 정의되며, \n",
    "#### 사건의 단위 구간동안의 발생률 $ \\; \\lambda{} $을 모수로 하는 분포를 따름\n",
    "#### $ \\Rightarrow{} X \\sim{} \\text{Exponential}(\\lambda{}) $"
   ]
  },
  {
   "cell_type": "markdown",
   "metadata": {},
   "source": [
    "#### **(PLUS) 누적분포함수** :\n",
    "#### $ \\Rightarrow{} F(X=x) = \\begin{cases} \\displaystyle\\int^{x}_{0} \\lambda{}e^{-\\lambda{}u} \\text{du} = 1 - e^{-\\lambda{}x}, \\;\\; x \\geq{} 0 \\\\ 0, \\;\\;\\;\\;\\;\\;\\;\\;\\;\\;\\;\\;\\;\\;\\;\\;\\;\\;\\;\\;\\;\\;\\;\\;\\;\\;\\;\\;\\;\\;\\;\\;\\;\\;\\;\\;\\; x < 0 \\end{cases} $ "
   ]
  },
  {
   "cell_type": "markdown",
   "metadata": {},
   "source": [
    "#### **(PLUS) 지수함수 $ e^{g(x)} $ 의 미분과 적분**\n",
    "#### $ \\hspace{0.15cm} \\cdot{} $ 미분 : $ \\frac{\\text{d}}{\\text{dx}}e^{g(x)} = g'(x) e^{g(x)} \\;\\; $ ($ \\because{} \\; \\frac{\\text{d}}{\\text{dx}}e^{x} = e^{x} $)\n",
    "#### $ \\hspace{0.15cm} \\cdot{} $ 적분 : $ \\displaystyle\\int{}e^{g(x)}\\text{dx} = \\frac{1}{g'(x)} e^{g(x)} + C \\;\\; $ ($ \\because{} \\; \\displaystyle\\int{}e^{x}\\text{dx} = e^{x} + C $)  "
   ]
  },
  {
   "cell_type": "markdown",
   "metadata": {},
   "source": [
    "#### **(2) 분포의 평균** : \n",
    "#### $ E(X) = \\displaystyle\\int^{\\infty{}}_{0} x f(X=x) \\text{dx} = \\displaystyle\\int^{\\infty{}}_{0} x \\lambda{}e^{-\\lambda{}x} \\text{dx} $\n",
    "#### $ \\hspace{0.95cm} = \\begin{bmatrix} x \\cdot{} -\\frac{\\lambda{}}{\\lambda{}} e^{-\\lambda{}x} \\end{bmatrix}^{\\infty{}}_{0} - \\displaystyle\\int^{\\infty{}}_{0} (-\\frac{\\lambda{}}{\\lambda{}} e^{-\\lambda{}x}) \\text{dx} = \\begin{bmatrix} - x e^{-\\lambda{}x} \\end{bmatrix}^{\\infty{}}_{0} + \\displaystyle\\int^{\\infty{}}_{0} e^{-\\lambda{}x} \\text{dx} $\n",
    "#### $ \\hspace{0.95cm} = \\begin{bmatrix} - x e^{-\\lambda{}x} \\end{bmatrix}^{\\infty{}}_{0} + \\begin{bmatrix} -\\frac{1}{\\lambda{}} e^{-\\lambda{}x} \\end{bmatrix}^{\\infty{}}_{0} $\n",
    "#### $ \\hspace{0.95cm} = (\\displaystyle\\lim_{x\\rightarrow{}\\infty{}}\\frac{x}{e^{\\lambda{}{}x}} - 0 ) -\\frac{1}{\\lambda{}}(\\displaystyle\\lim_{x\\rightarrow{}\\infty{}}\\frac{1}{e^{\\lambda{}{}x}} - 1) = (0 - 0) - \\frac{1}{\\lambda{}}(0 - 1 )$\n",
    "#### $ \\hspace{0.95cm} = \\frac{1}{\\lambda{}} $"
   ]
  },
  {
   "cell_type": "markdown",
   "metadata": {},
   "source": [
    "#### **(PLUS) 부분적분법 정의** :\n",
    "#### $ \\displaystyle\\int^{b}_{a} f(x)g(x) \\text{dx} = \\begin{bmatrix} f(x) \\displaystyle\\int{} g(x) \\text{dx} \\end{bmatrix}^{b}_{a} - \\displaystyle\\int^{b}_{a} f'(x) (\\displaystyle\\int{} g(x) \\text{dx}) \\text{dx} $"
   ]
  },
  {
   "cell_type": "markdown",
   "metadata": {},
   "source": [
    "#### **(WHY?)**\n",
    "#### $ \\frac{\\text{d}}{\\text{dx}} \\{ f(x)k(x) \\} = f'(x)k(x) + f(x)k'(x) \\;\\; $ ($ \\because{} \\; $ 곱의 미분법)\n",
    "#### $ \\displaystyle\\int{} (\\frac{\\text{d}}{\\text{dx}} \\{ f(x)k(x) \\}) \\text{dx} = \\displaystyle\\int{} (f'(x)k(x) + f(x)k'(x)) \\text{dx} $\n",
    "#### $ f(x)k(x) = \\displaystyle\\int{} f'(x)k(x) \\text{dx} + \\displaystyle\\int{} f(x)k'(x) \\text{dx} $\n",
    "#### $ \\displaystyle\\int{} f(x)k'(x) \\text{dx} = f(x)k(x) - \\displaystyle\\int{} f'(x)k(x) \\text{dx} $\n",
    "#### $ \\displaystyle\\int{} f(x)g(x) \\text{dx} = f(x) \\displaystyle\\int{} g(x) \\text{dx} - \\displaystyle\\int{} f'(x) (\\displaystyle\\int{} g(x) \\text{dx}) \\text{dx} \\;\\;\\;\\; $ where $ \\; g(x) = k'(x) = \\frac{\\text{d}}{\\text{dx}} k(x) $"
   ]
  },
  {
   "cell_type": "markdown",
   "metadata": {},
   "source": [
    "#### **(3) 분포의 분산** :\n",
    "#### $ \\text{var}(X) = \\underbrace{E(X^{2})}_{\\text{㉠}} - E(X)^{2} = \\frac{2}{\\lambda{}^{2}} - \\frac{1}{\\lambda{}^{2}} = \\frac{1}{\\lambda{}^{2}} $ \n",
    "#### $ \\because{} \\; ㉠ = \\displaystyle\\int^{\\infty{}}_{0} x^{2} \\lambda{}e^{-\\lambda{}x} \\text{dx} = \\begin{bmatrix} -x^{2} e^{-\\lambda{}x} \\end{bmatrix}^{\\infty{}}_{0} + \\displaystyle\\int^{\\infty{}}_{0} 2 x e^{-\\lambda{}x} \\text{dx} $\n",
    "#### $ \\hspace{0.8cm} = \\begin{bmatrix} -x^{2} e^{-\\lambda{}x} \\end{bmatrix}^{\\infty{}}_{0} - 2 \\{ \\begin{bmatrix} -\\frac{1}{\\lambda{}} x e^{-\\lambda{}x} \\end{bmatrix}^{\\infty{}}_{0} - \\displaystyle\\int^{\\infty{}}_{0} (-\\frac{1}{\\lambda{}}e^{-\\lambda{}x}) \\text{dx} \\} $\n",
    "#### $ \\hspace{0.8cm} = (0 - 0) - 2 \\{ (0 - 0) - \\frac{1}{\\lambda{}} \\begin{bmatrix} -\\frac{1}{\\lambda{}}e^{-\\lambda{}x} \\end{bmatrix}^{\\infty{}}_{0} \\} $\n",
    "#### $ \\hspace{0.8cm} = - 2 \\begin{bmatrix} - \\frac{1}{\\lambda{}} (0 - \\frac{1}{\\lambda{}}) \\end{bmatrix} = \\frac{2}{\\lambda{}^{2}} $"
   ]
  },
  {
   "cell_type": "markdown",
   "metadata": {},
   "source": [
    "#### **(4) 분포의 성질**\n",
    "#### $ \\hspace{0.15cm} $ ① 무기억성질(memoryless) : 이전 구간의 확률이 다음 구간의 확률에 영향을 미치지 않음\n",
    "#### $ \\hspace{0.6cm} P(X > s+t | X > t ) = P(X > s) $"
   ]
  },
  {
   "cell_type": "markdown",
   "metadata": {},
   "source": [
    "#### **(WHY?)**"
   ]
  },
  {
   "cell_type": "markdown",
   "metadata": {},
   "source": [
    "#### **(5) 예시** : \n",
    "#### $ \\hspace{0.15cm} $ ① 어떠한 브랜드의 배터리 수명의 평균이 $ \\; 20,000 $ km 이고, 이를 정의한 확률변수 $ \\; X $ 가 지수분포를 따를 때\n",
    "#### $ \\hspace{0.15cm} $ ②"
   ]
  },
  {
   "cell_type": "markdown",
   "metadata": {},
   "source": [
    "<b></b>"
   ]
  },
  {
   "cell_type": "markdown",
   "metadata": {},
   "source": [
    "> ## **표준정규분포(Standard Normal Distribution)**"
   ]
  },
  {
   "cell_type": "markdown",
   "metadata": {},
   "source": [
    "#### **(1) 정의** : 평균이 $ \\; 0 $ 이고 분산이 $ \\; 1 $ 이며 **대칭적인 종모양을 갖는** 확률변수가 따르는 분포\n",
    "#### = a distribution followed by a random variable with mean of $ \\; 0 \\; $ and deviation of $ \\; 1 $\n",
    "#### $ \\Rightarrow{} f(X=x) = \\begin{cases} \\frac{1}{\\sqrt{2\\pi{}}}e^{-\\frac{x^{2}}{2}}, \\;\\; x \\in{} X(S) \\\\ 0, \\;\\;\\;\\;\\;\\;\\;\\;\\;\\;\\;\\; x \\not\\in{} X(S) \\end{cases} $\n",
    "#### **[GRPAH]**"
   ]
  },
  {
   "cell_type": "markdown",
   "metadata": {},
   "source": [
    "#### **(PLUS)** 이 때 확률변수 $ \\; X $ 는 **평균이 $ \\; 0 $ , 분산이 $ \\; 1 $ 인 모든 값들이 종모양의 곡선**으로 정의되며, \n",
    "#### 확률 변수 $ \\; X $ 의 평균과 분산을 모수로 하는 분포를 따름\n",
    "#### $ \\Rightarrow{} X \\sim{} \\text{N}(\\text{E}(X) = 0,\\; \\text{var}(X) = 1) $"
   ]
  },
  {
   "cell_type": "markdown",
   "metadata": {},
   "source": [
    "#### **(PLUS) 누적분포함수** :\n",
    "#### $ \\Rightarrow{} F(X=x) = \\varPhi{}(X=x) = \\begin{cases} \\displaystyle\\int^{x}_{0} \\frac{1}{\\sqrt{2\\pi{}}}e^{-\\frac{u^{2}}{2}} \\text{du}, \\;\\; x \\geq{} 0 \\\\ 0, \\;\\;\\;\\;\\;\\;\\;\\;\\;\\;\\;\\;\\;\\;\\;\\;\\;\\;\\;\\;\\;\\;\\;\\;\\; x < 0 \\end{cases} $ "
   ]
  },
  {
   "cell_type": "markdown",
   "metadata": {},
   "source": [
    "#### **(PLUS)** 표준정규분포의 누적분포함수는 elementry function으로 표현이 안되지만, 통계학에서 자주 쓰여 **표준정규분포표**를 통해 값을 근사함"
   ]
  },
  {
   "cell_type": "markdown",
   "metadata": {},
   "source": [
    "#### **(2) 분포의 평균** : \n",
    "#### $ E(X) = \\displaystyle\\int^{\\infty{}}_{-\\infty{}} x f(X=x) \\text{dx} = \\displaystyle\\int^{\\infty{}}_{-\\infty{}} x \\frac{1}{\\sqrt{2\\pi{}}}e^{-\\frac{x^{2}}{2}} \\text{dx} $\n",
    "#### $ \\hspace{0.95cm} = \\frac{1}{\\sqrt{2\\pi{}}}(-\\displaystyle\\int^{\\infty{}}_{0} x e^{-\\frac{x^{2}}{2}} \\text{dx} + \\displaystyle\\int^{\\infty{}}_{0} x e^{-\\frac{x^{2}}{2}} \\text{dx}) \\;\\; $ ($ \\because{} \\; x $ 가 곱해졌고 자연상수 지수가  $ \\; x^{2} $ 이므로 기함수;odd function)\n",
    "#### $ \\hspace{0.95cm} = \\frac{1}{\\sqrt{2\\pi{}}}(-\\displaystyle\\int^{\\infty{}}_{0} e^{-u} \\text{du} + \\displaystyle\\int^{\\infty{}}_{0} e^{-u} \\text{du}) \\;\\; $ where $ \\; u = \\frac{x^{2}}{2},\\; \\frac{\\text{du}}{\\text{dx}} = x, \\;\\text{du} = x\\text{dx} $  \n",
    "#### $ \\hspace{0.95cm} = \\frac{1}{\\sqrt{2\\pi{}}}(\\begin{bmatrix} e^{-u} \\end{bmatrix}^{\\infty{}}_{0} - \\begin{bmatrix} e^{-u} \\end{bmatrix}^{\\infty{}}_{0}) $\n",
    "#### $ \\hspace{0.95cm} = \\frac{1}{\\sqrt{2\\pi{}}}(0 - 0) = 0 $"
   ]
  },
  {
   "cell_type": "markdown",
   "metadata": {},
   "source": [
    "#### **(3) 분포의 분산** :\n",
    "#### $ \\text{var}(X) = \\underbrace{E(X^{2})}_{\\text{㉠}} - E(X)^{2} = $ \n",
    "#### $ \\because{} \\; ㉠ = \\displaystyle\\int^{\\infty{}}_{-\\infty{}} x^{2} \\frac{1}{\\sqrt{2\\pi{}}}e^{-\\frac{x^{2}}{2}} \\text{dx} $ \n",
    "#### $ \\hspace{0.8cm} = 2 \\displaystyle\\int^{\\infty{}}_{0} x^{2} \\frac{1}{\\sqrt{2\\pi{}}}e^{-\\frac{x^{2}}{2}} \\text{dx} \\;\\; $ ($ \\because{} \\; x^{2} $ 이 곱해졌고 자연상수 지수가  $ \\; x^{2} $ 이므로 우함수;even function)\n",
    "#### $ \\hspace{0.8cm} = \\frac{2}{\\sqrt{2\\pi{}}} \\displaystyle\\int^{\\infty{}}_{0} x \\cdot{} e^{-\\frac{x^{2}}{2}} \\cdot{} x \\text{dx} $\n",
    "#### $ \\hspace{0.8cm} = \\frac{2}{\\sqrt{2\\pi{}}} \\displaystyle\\int^{\\infty{}}_{0} \\sqrt{2u} e^{-u} \\text{du} \\;\\; $ where $ \\; u = \\frac{x^{2}}{2},\\; \\text{du} = x\\text{dx} $ \n",
    "#### $ \\hspace{0.8cm} = \\frac{2}{\\sqrt{\\pi{}}} \\displaystyle\\int^{\\infty{}}_{0} u^{\\frac{1}{2}} e^{-u} \\text{du} $\n",
    "#### $ \\hspace{0.8cm} = \\frac{2}{\\sqrt{\\pi{}}} (\\begin{bmatrix} u^{\\frac{1}{2}} \\cdot{} (-1) \\cdot{} e^{-\\lambda{}} \\end{bmatrix}^{\\infty{}}_{0} - \\displaystyle\\int^{\\infty{}}_{0} \\frac{1}{2}u^{-\\frac{1}{2}}e^{-u} \\text{du}) $\n",
    "#### $ \\hspace{0.8cm} = $ **[LATEX]**\n",
    "#### $ \\hspace{0.8cm} = \\frac{2}{\\sqrt{\\pi{}}} \\cdot{} \\frac{\\sqrt{\\pi{}}}{2} = 1 $"
   ]
  },
  {
   "cell_type": "markdown",
   "metadata": {},
   "source": [
    "#### **(4) 분포의 성질**\n",
    "#### $ \\hspace{0.15cm} $ ① 대칭성 : **[CONTENTS]**\n",
    "#### $ \\hspace{0.15cm} $ ② 종모양 형태 : **[CONTENTS]**"
   ]
  },
  {
   "cell_type": "markdown",
   "metadata": {},
   "source": [
    "#### **(5) 예시** : \n",
    "#### $ \\hspace{0.15cm} $ ① **[CONTENTS]**\n",
    "#### $ \\hspace{0.15cm} $ ② **[CONTENTS]**"
   ]
  },
  {
   "cell_type": "markdown",
   "metadata": {},
   "source": [
    "<b></b>"
   ]
  },
  {
   "cell_type": "markdown",
   "metadata": {},
   "source": [
    "> ## **정규분포(Normal Distribution; Gaussian)**"
   ]
  },
  {
   "cell_type": "markdown",
   "metadata": {},
   "source": [
    "#### **(1) 정의** : **[CONTENTS]**\n",
    "#### = **[CONTENTS]**\n",
    "#### $ \\Rightarrow{} f(X=x) = \\begin{cases} \\frac{1}{\\sqrt{2\\cdot{}\\pi{}\\cdot{}\\text{std(X)}}}e^{-\\frac{(x-E(X))^{2}}{2\\cdot{}\\text{var}(X)}}, \\;\\; x \\in{} X(S) \\\\ 0, \\;\\;\\;\\;\\;\\;\\;\\;\\;\\;\\;\\;\\;\\;\\;\\; x \\not\\in{} X(S) \\end{cases} $\n",
    "#### **[GRPAH]**"
   ]
  },
  {
   "cell_type": "markdown",
   "metadata": {},
   "source": [
    "#### **(2) 분포의 평균** : \n",
    "#### $ E(X) = \\displaystyle\\int^{\\infty{}}_{-\\infty{}} x f(X=x) \\text{dx} = $"
   ]
  },
  {
   "cell_type": "markdown",
   "metadata": {},
   "source": [
    "#### **(3) 분포의 분산** :\n",
    "#### $ \\text{var}(X) = \\underbrace{E(X^{2})}_{\\text{㉠}} - E(X)^{2} = $ \n",
    "#### $ \\because{} \\; ㉠ = $ **[LATEX]** "
   ]
  },
  {
   "cell_type": "markdown",
   "metadata": {},
   "source": [
    "#### **(5) 예시** : \n",
    "#### $ \\hspace{0.15cm} $ ① **[CONTENTS]**\n",
    "#### $ \\hspace{0.15cm} $ ② **[CONTENTS]**"
   ]
  },
  {
   "cell_type": "markdown",
   "metadata": {},
   "source": [
    "<b></b>"
   ]
  },
  {
   "cell_type": "markdown",
   "metadata": {},
   "source": [
    "> ## **감마분포(Gamma Distribution)**"
   ]
  },
  {
   "cell_type": "markdown",
   "metadata": {},
   "source": [
    "#### **(1) 정의** : **[CONTENTS]**\n",
    "#### = **[CONTENTS]**\n",
    "#### $ \\Rightarrow{} f(X=x) = \\begin{cases} f(X=x), \\;\\; x \\in{} X(S) \\\\ 0, \\;\\;\\;\\;\\;\\;\\;\\;\\;\\;\\;\\;\\;\\;\\;\\; x \\not\\in{} X(S) \\end{cases} $\n",
    "#### **[GRPAH]**"
   ]
  },
  {
   "cell_type": "markdown",
   "metadata": {},
   "source": [
    "#### **(2) 분포의 평균** : \n",
    "#### $ E(X) = \\displaystyle\\int^{\\infty{}}_{-\\infty{}} x f(X=x) \\text{dx} = $"
   ]
  },
  {
   "cell_type": "markdown",
   "metadata": {},
   "source": [
    "#### **(3) 분포의 분산** :\n",
    "#### $ \\text{var}(X) = \\underbrace{E(X^{2})}_{\\text{㉠}} - E(X)^{2} = $ "
   ]
  },
  {
   "cell_type": "markdown",
   "metadata": {},
   "source": [
    "#### **(4) 예시** : \n",
    "#### $ \\hspace{0.15cm} $ ①\n",
    "#### $ \\hspace{0.15cm} $ ②"
   ]
  }
 ],
 "metadata": {
  "kernelspec": {
   "display_name": "Python 3",
   "language": "python",
   "name": "python3"
  },
  "language_info": {
   "codemirror_mode": {
    "name": "ipython",
    "version": 3
   },
   "file_extension": ".py",
   "mimetype": "text/x-python",
   "name": "python",
   "nbconvert_exporter": "python",
   "pygments_lexer": "ipython3",
   "version": "3.8.12"
  },
  "orig_nbformat": 4
 },
 "nbformat": 4,
 "nbformat_minor": 2
}
