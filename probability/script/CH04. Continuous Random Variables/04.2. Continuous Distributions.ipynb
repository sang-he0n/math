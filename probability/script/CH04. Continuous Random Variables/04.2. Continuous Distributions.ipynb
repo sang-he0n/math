{
 "cells": [
  {
   "attachments": {},
   "cell_type": "markdown",
   "metadata": {},
   "source": [
    "# 04.2. **Continuous Distributions**"
   ]
  },
  {
   "cell_type": "markdown",
   "metadata": {},
   "source": [
    "> ## **연속균등분포(Uniform Distribution)**"
   ]
  },
  {
   "cell_type": "markdown",
   "metadata": {},
   "source": [
    "#### **(1) 정의** : 특정한 구간 $ \\; [a,\\; b] $ 에서 가능한 모든 결과가 같은(일정한) 확률을 가지는 분포 \n",
    "#### = A distribution where all outcomes are equally likely within a specific interval $ \\; [a,\\; b] $\n",
    "#### $ \\Rightarrow{} f(X=x) = \\begin{cases} \\frac{1}{b-a}, \\;\\; a \\leq{} x \\leq{} b \\\\ 0, \\;\\;\\;\\;\\;\\; x < a \\;\\; \\text{or} \\;\\; x > b \\end{cases} $\n",
    "#### **[GRPAH]**"
   ]
  },
  {
   "cell_type": "markdown",
   "metadata": {},
   "source": [
    "#### **(PLUS) 분포의 누적분포함수** :\n",
    "#### $ \\Rightarrow{} F(X=x) = \\begin{cases} 0, \\;\\;\\;\\;\\;\\; x < a \\;\\; \\text{or} \\;\\; x > b \\\\ \\frac{x-a}{b-a}, \\;\\; a \\leq{} x \\leq{} b \\\\ 1, \\;\\;\\;\\;\\;\\; x > b \\end{cases} $ "
   ]
  },
  {
   "cell_type": "markdown",
   "metadata": {},
   "source": [
    "#### **(PLUS)** 이 때 확률변수 $ \\; X $ 는 **특정 범위 내 모든 값이 균등하게 나타날 때 그 범위**로 정의되며, \n",
    "#### 그 구간을 모수로 하는 분포를 따름\n",
    "#### $ \\Rightarrow{} X \\sim{} \\text{Uniform}(a,\\; b) $"
   ]
  },
  {
   "cell_type": "markdown",
   "metadata": {},
   "source": [
    "#### **(2) 분포의 평균** : \n",
    "#### $ E(X) = \\displaystyle\\int^{b}_{a} x f(X=x) \\text{dx} = \\displaystyle\\int^{b}_{a} (\\frac{1}{b-a}) x \\text{dx} = \\frac{1}{b-a} \\begin{bmatrix} \\frac{1}{2}x^{2} \\end{bmatrix}^{b}_{a} = \\frac{b^{2}-a^{2}}{2(b-a)} = \\frac{b+a}{2} $"
   ]
  },
  {
   "cell_type": "markdown",
   "metadata": {},
   "source": [
    "#### **(3) 분포의 분산** :\n",
    "#### $ \\text{var}(X) = \\underbrace{E(X^{2})}_{\\text{㉠}} - E(X)^{2} = \\frac{a^{2}+ab+b^{2}}{3(b-a)} - \\frac{b+a}{2} = \\frac{(b-a)^{2}}{12}$ \n",
    "#### $ \\because{} \\; ㉠ = \\displaystyle\\int^{b}_{a} x^{2} (\\frac{1}{b-a}) \\text{dx} = \\frac{1}{b-a} \\begin{bmatrix} \\frac{1}{3}x^{3} \\end{bmatrix}^{b}_{a} = \\frac{b^{3}-a^{3}}{3(b-a)} $\n",
    "#### $ \\hspace{0.85cm} = \\frac{(b-a)(a^{2}+ab+b^{2})}{3(b-a)} $ "
   ]
  },
  {
   "cell_type": "markdown",
   "metadata": {},
   "source": [
    "#### **(4) 예시** : \n",
    "#### $ \\hspace{0.15cm} $ ① 어떤 파견 직원이 $ \\; 2 $ 시에부터 $ \\; 5 $ 시에 회사에 도착하고, 그 확률이 연속균등분포를 따른다고 할 때\n",
    "#### $ \\hspace{0.6cm} X \\sim{} \\text{Uniform}(2,\\; 5), \\;\\; E(X) = \\frac{5+2}{2} = \\frac{7}{2}, \\;\\; \\text{var}(X) = \\frac{(5-2)^{2}}{12} = \\frac{3}{4} $\n",
    "#### $ \\hspace{0.6cm} f(X=x) = \\begin{cases} \\frac{1}{5-2}, \\;\\; 2 \\leq{} x \\leq{} 5 \\\\ 0, \\;\\;\\;\\;\\;\\; x < 2 \\;\\; \\text{or} \\;\\; x > 5 \\end{cases} $ "
   ]
  },
  {
   "cell_type": "markdown",
   "metadata": {},
   "source": [
    "#### **(PLUS)** 이 때 $ \\; 4 $ 시 이후에 도착할 확률은? \n",
    "#### $ \\hspace{0.6cm} P(X \\geq{} 4) = F(X=5) - F(X=4) = \\frac{(5-2)}{3} - \\frac{(4-2)}{3} = \\frac{1}{3} $"
   ]
  },
  {
   "cell_type": "markdown",
   "metadata": {},
   "source": [
    "#### $ \\hspace{0.15cm} $ ② **[CONTENTS]**"
   ]
  },
  {
   "cell_type": "markdown",
   "metadata": {},
   "source": [
    "<b></b>"
   ]
  },
  {
   "cell_type": "markdown",
   "metadata": {},
   "source": [
    "> ## **지수분포(Exponential Distribution)**"
   ]
  },
  {
   "cell_type": "markdown",
   "metadata": {},
   "source": [
    "#### **(1) 정의** : **[CONTENTS]**\n",
    "#### = **[CONTENTS]**\n",
    "#### $ \\Rightarrow{} f(X=x) = \\begin{cases} \\lambda{}e^{-\\lambda{}x} = \\frac{\\lambda{}}{e^{\\lambda{}x}}, \\;\\; x \\geq{} 0 \\\\ 0, \\;\\;\\;\\;\\;\\;\\;\\;\\;\\;\\;\\;\\;\\;\\;\\;\\;\\; x < 0 \\end{cases} \\;\\; $ with $ \\; \\lambda{} > 0 $\n",
    "#### **[GRPAH]**"
   ]
  },
  {
   "cell_type": "markdown",
   "metadata": {},
   "source": [
    "#### **(PLUS) 분포의 누적분포함수** :\n",
    "#### $ \\Rightarrow{} F(X=x) = \\begin{cases} \\displaystyle\\int^{\\infty{}}_{0} \\lambda{}e^{-\\lambda{}x} = \\begin{bmatrix} \\end{bmatrix}^{\\infty{}}_{0}, \\;\\;\\;\\;\\;\\; x \\geq{} 0 \\\\ 0, \\;\\;\\;\\;\\;\\; x < 0 \\end{cases} $ "
   ]
  },
  {
   "cell_type": "markdown",
   "metadata": {},
   "source": [
    "#### **(2) 분포의 평균** : \n",
    "#### $ E(X) = \\displaystyle\\int^{\\infty{}}_{-\\infty{}} x f(X=x) \\text{dx} = $"
   ]
  },
  {
   "cell_type": "markdown",
   "metadata": {},
   "source": [
    "#### **(3) 분포의 분산** :\n",
    "#### $ \\text{var}(X) = \\underbrace{E(X^{2})}_{\\text{㉠}} - E(X)^{2} = $ "
   ]
  },
  {
   "cell_type": "markdown",
   "metadata": {},
   "source": [
    "#### **(4) 예시** : \n",
    "#### $ \\hspace{0.15cm} $ ①\n",
    "#### $ \\hspace{0.15cm} $ ②"
   ]
  },
  {
   "cell_type": "markdown",
   "metadata": {},
   "source": [
    "<b></b>"
   ]
  },
  {
   "cell_type": "markdown",
   "metadata": {},
   "source": [
    "> ## **정규분포(Normal Distribution)**"
   ]
  },
  {
   "cell_type": "markdown",
   "metadata": {},
   "source": [
    "#### **(1) 정의** : **[CONTENTS]**\n",
    "#### = **[CONTENTS]**\n",
    "#### $ \\Rightarrow{} f(X=x) = \\begin{cases} f(X=x), \\;\\; x \\in{} X(S) \\\\ 0, \\;\\;\\;\\;\\;\\;\\;\\;\\;\\;\\;\\;\\;\\;\\;\\; x \\not\\in{} X(S) \\end{cases} $\n",
    "#### **[GRPAH]**"
   ]
  },
  {
   "cell_type": "markdown",
   "metadata": {},
   "source": [
    "#### **(2) 분포의 평균** : \n",
    "#### $ E(X) = \\displaystyle\\int^{\\infty{}}_{-\\infty{}} x f(X=x) \\text{dx} = $"
   ]
  },
  {
   "cell_type": "markdown",
   "metadata": {},
   "source": [
    "#### **(3) 분포의 분산** :\n",
    "#### $ \\text{var}(X) = \\underbrace{E(X^{2})}_{\\text{㉠}} - E(X)^{2} = $ "
   ]
  },
  {
   "cell_type": "markdown",
   "metadata": {},
   "source": [
    "#### **(4) 예시** : \n",
    "#### $ \\hspace{0.15cm} $ ①\n",
    "#### $ \\hspace{0.15cm} $ ②"
   ]
  },
  {
   "cell_type": "markdown",
   "metadata": {},
   "source": [
    "<b></b>"
   ]
  },
  {
   "cell_type": "markdown",
   "metadata": {},
   "source": [
    "> ## **감마분포(Gamma Distribution)**"
   ]
  },
  {
   "cell_type": "markdown",
   "metadata": {},
   "source": [
    "#### **(1) 정의** : **[CONTENTS]**\n",
    "#### = **[CONTENTS]**\n",
    "#### $ \\Rightarrow{} f(X=x) = \\begin{cases} f(X=x), \\;\\; x \\in{} X(S) \\\\ 0, \\;\\;\\;\\;\\;\\;\\;\\;\\;\\;\\;\\;\\;\\;\\;\\; x \\not\\in{} X(S) \\end{cases} $\n",
    "#### **[GRPAH]**"
   ]
  },
  {
   "cell_type": "markdown",
   "metadata": {},
   "source": [
    "#### **(2) 분포의 평균** : \n",
    "#### $ E(X) = \\displaystyle\\int^{\\infty{}}_{-\\infty{}} x f(X=x) \\text{dx} = $"
   ]
  },
  {
   "cell_type": "markdown",
   "metadata": {},
   "source": [
    "#### **(3) 분포의 분산** :\n",
    "#### $ \\text{var}(X) = \\underbrace{E(X^{2})}_{\\text{㉠}} - E(X)^{2} = $ "
   ]
  },
  {
   "cell_type": "markdown",
   "metadata": {},
   "source": [
    "#### **(4) 예시** : \n",
    "#### $ \\hspace{0.15cm} $ ①\n",
    "#### $ \\hspace{0.15cm} $ ②"
   ]
  }
 ],
 "metadata": {
  "kernelspec": {
   "display_name": "Python 3",
   "language": "python",
   "name": "python3"
  },
  "language_info": {
   "codemirror_mode": {
    "name": "ipython",
    "version": 3
   },
   "file_extension": ".py",
   "mimetype": "text/x-python",
   "name": "python",
   "nbconvert_exporter": "python",
   "pygments_lexer": "ipython3",
   "version": "3.8.12"
  },
  "orig_nbformat": 4
 },
 "nbformat": 4,
 "nbformat_minor": 2
}
