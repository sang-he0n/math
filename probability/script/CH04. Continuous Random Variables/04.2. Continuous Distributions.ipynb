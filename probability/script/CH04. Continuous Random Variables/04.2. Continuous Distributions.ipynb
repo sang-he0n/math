{
 "cells": [
  {
   "attachments": {},
   "cell_type": "markdown",
   "metadata": {},
   "source": [
    "# 04.2. **Continuous Distributions**"
   ]
  },
  {
   "cell_type": "markdown",
   "metadata": {},
   "source": [
    "> ## **연속균등분포(Uniform Distribution)**"
   ]
  },
  {
   "cell_type": "markdown",
   "metadata": {},
   "source": [
    "#### **(1) 정의** : **[CONTENTS]**\n",
    "#### = **[CONTENTS]**\n",
    "#### $ \\Rightarrow{} f(X=x) = \\begin{cases} f(X=x), \\;\\; x \\in{} X(S) \\\\ 0, \\;\\;\\;\\;\\;\\;\\;\\;\\;\\;\\;\\;\\;\\;\\;\\; x \\not\\in{} X(S) \\end{cases} $\n",
    "#### **[GRPAH]**"
   ]
  },
  {
   "cell_type": "markdown",
   "metadata": {},
   "source": [
    "#### **(2) 분포의 평균** : \n",
    "#### $ E(X) = \\displaystyle\\int^{\\infty{}}_{-\\infty{}} x f(X=x) \\text{dx} = $"
   ]
  },
  {
   "cell_type": "markdown",
   "metadata": {},
   "source": [
    "#### **(3) 분포의 분산** :\n",
    "#### $ \\text{var}(X) = \\underbrace{E(X^{2})}_{\\text{㉠}} - E(X)^{2} = $ "
   ]
  },
  {
   "cell_type": "markdown",
   "metadata": {},
   "source": [
    "#### **(4) 예시** : \n",
    "#### $ \\hspace{0.15cm} $ ①\n",
    "#### $ \\hspace{0.15cm} $ ②"
   ]
  },
  {
   "cell_type": "markdown",
   "metadata": {},
   "source": [
    "<b></b>"
   ]
  },
  {
   "cell_type": "markdown",
   "metadata": {},
   "source": [
    "> ## **지수분포(Exponential Distribution)**"
   ]
  },
  {
   "cell_type": "markdown",
   "metadata": {},
   "source": [
    "<b></b>"
   ]
  },
  {
   "cell_type": "markdown",
   "metadata": {},
   "source": [
    "#### **(1) 정의** : **[CONTENTS]**\n",
    "#### = **[CONTENTS]**\n",
    "#### $ \\Rightarrow{} f(X=x) = \\begin{cases} f(X=x), \\;\\; x \\in{} X(S) \\\\ 0, \\;\\;\\;\\;\\;\\;\\;\\;\\;\\;\\;\\;\\;\\;\\;\\; x \\not\\in{} X(S) \\end{cases} $\n",
    "#### **[GRPAH]**"
   ]
  },
  {
   "cell_type": "markdown",
   "metadata": {},
   "source": [
    "#### **(2) 분포의 평균** : \n",
    "#### $ E(X) = \\displaystyle\\int^{\\infty{}}_{-\\infty{}} x f(X=x) \\text{dx} = $"
   ]
  },
  {
   "cell_type": "markdown",
   "metadata": {},
   "source": [
    "#### **(3) 분포의 분산** :\n",
    "#### $ \\text{var}(X) = \\underbrace{E(X^{2})}_{\\text{㉠}} - E(X)^{2} = $ "
   ]
  },
  {
   "cell_type": "markdown",
   "metadata": {},
   "source": [
    "#### **(4) 예시** : \n",
    "#### $ \\hspace{0.15cm} $ ①\n",
    "#### $ \\hspace{0.15cm} $ ②"
   ]
  },
  {
   "cell_type": "markdown",
   "metadata": {},
   "source": [
    "<b></b>"
   ]
  },
  {
   "cell_type": "markdown",
   "metadata": {},
   "source": [
    "> ## **정규분포(Normal Distribution)**"
   ]
  },
  {
   "cell_type": "markdown",
   "metadata": {},
   "source": [
    "#### **(1) 정의** : **[CONTENTS]**\n",
    "#### = **[CONTENTS]**\n",
    "#### $ \\Rightarrow{} f(X=x) = \\begin{cases} f(X=x), \\;\\; x \\in{} X(S) \\\\ 0, \\;\\;\\;\\;\\;\\;\\;\\;\\;\\;\\;\\;\\;\\;\\;\\; x \\not\\in{} X(S) \\end{cases} $\n",
    "#### **[GRPAH]**"
   ]
  },
  {
   "cell_type": "markdown",
   "metadata": {},
   "source": [
    "#### **(2) 분포의 평균** : \n",
    "#### $ E(X) = \\displaystyle\\int^{\\infty{}}_{-\\infty{}} x f(X=x) \\text{dx} = $"
   ]
  },
  {
   "cell_type": "markdown",
   "metadata": {},
   "source": [
    "#### **(3) 분포의 분산** :\n",
    "#### $ \\text{var}(X) = \\underbrace{E(X^{2})}_{\\text{㉠}} - E(X)^{2} = $ "
   ]
  },
  {
   "cell_type": "markdown",
   "metadata": {},
   "source": [
    "#### **(4) 예시** : \n",
    "#### $ \\hspace{0.15cm} $ ①\n",
    "#### $ \\hspace{0.15cm} $ ②"
   ]
  },
  {
   "cell_type": "markdown",
   "metadata": {},
   "source": [
    "<b></b>"
   ]
  },
  {
   "cell_type": "markdown",
   "metadata": {},
   "source": [
    "> ## **감마분포(Gamma Distribution)**"
   ]
  },
  {
   "cell_type": "markdown",
   "metadata": {},
   "source": [
    "#### **(1) 정의** : **[CONTENTS]**\n",
    "#### = **[CONTENTS]**\n",
    "#### $ \\Rightarrow{} f(X=x) = \\begin{cases} f(X=x), \\;\\; x \\in{} X(S) \\\\ 0, \\;\\;\\;\\;\\;\\;\\;\\;\\;\\;\\;\\;\\;\\;\\;\\; x \\not\\in{} X(S) \\end{cases} $\n",
    "#### **[GRPAH]**"
   ]
  },
  {
   "cell_type": "markdown",
   "metadata": {},
   "source": [
    "#### **(2) 분포의 평균** : \n",
    "#### $ E(X) = \\displaystyle\\int^{\\infty{}}_{-\\infty{}} x f(X=x) \\text{dx} = $"
   ]
  },
  {
   "cell_type": "markdown",
   "metadata": {},
   "source": [
    "#### **(3) 분포의 분산** :\n",
    "#### $ \\text{var}(X) = \\underbrace{E(X^{2})}_{\\text{㉠}} - E(X)^{2} = $ "
   ]
  },
  {
   "cell_type": "markdown",
   "metadata": {},
   "source": [
    "#### **(4) 예시** : \n",
    "#### $ \\hspace{0.15cm} $ ①\n",
    "#### $ \\hspace{0.15cm} $ ②"
   ]
  }
 ],
 "metadata": {
  "kernelspec": {
   "display_name": "Python 3",
   "language": "python",
   "name": "python3"
  },
  "language_info": {
   "codemirror_mode": {
    "name": "ipython",
    "version": 3
   },
   "file_extension": ".py",
   "mimetype": "text/x-python",
   "name": "python",
   "nbconvert_exporter": "python",
   "pygments_lexer": "ipython3",
   "version": "3.8.12"
  },
  "orig_nbformat": 4
 },
 "nbformat": 4,
 "nbformat_minor": 2
}
