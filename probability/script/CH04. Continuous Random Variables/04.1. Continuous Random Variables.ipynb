{
 "cells": [
  {
   "attachments": {},
   "cell_type": "markdown",
   "metadata": {},
   "source": [
    "# 04.1. **Continuous Random Variables**"
   ]
  },
  {
   "cell_type": "markdown",
   "metadata": {},
   "source": [
    "> ## **연속확률변수(Continuous Random Variable)**"
   ]
  },
  {
   "cell_type": "markdown",
   "metadata": {},
   "source": [
    "#### **(1) 정의** : 표본공간과 치역이 **불가산** 집합인 확률 변수\n",
    "#### = a random variable if its range and sample space are uncountable\n",
    "#### $ \\Rightarrow{} X : S \\rightarrow{} \\mathbb{R} \\;\\; $ where $ \\; S \\; $ and $ \\; X(S) \\; $ is uncountable"
   ]
  },
  {
   "cell_type": "markdown",
   "metadata": {},
   "source": [
    "#### **(2) 표현 방식** : \n",
    "#### $ \\hspace{0.15cm} $ ① 사건의 표현\n",
    "#### $ \\hspace{0.45cm} $ 어떠한 실수 공간에서 구간 $ \\; [a,\\; b] $ 를 고르는 사건 $ A $ 에 대하여 이를 확률변수 $ \\; X $ 로 표현하면\n",
    "#### $ \\hspace{0.6cm} A = \\{ X \\in{} [a,\\; b] \\} $\n",
    "#### **[GRAPH]**\n",
    "#### $ \\hspace{0.6cm} \\{ X=a \\} $\n",
    "#### $ \\hspace{0.6cm} \\begin{rcases} \\cdots{} \\end{rcases} \\; \\infty{} \\text{개} $\n",
    "#### $ \\hspace{0.6cm} \\{ X=a+0.1 \\} $\n",
    "#### $ \\hspace{0.6cm} \\begin{rcases} \\cdots{} \\end{rcases} \\; \\infty{} \\text{개} $\n",
    "#### $ \\hspace{0.6cm} \\{ X=a+0.01 \\} $\n",
    "#### $ \\hspace{0.6cm} \\begin{rcases} \\cdots{} \\end{rcases} \\; \\infty{} \\text{개} $\n",
    "#### $ \\hspace{0.6cm} A = \\{ X = a \\} \\cup{} \\cdots{} \\cup{} \\{ X = a+0.1 \\} \\cup{} \\cdots{} \\cup{} \\{ X = a+0.01 \\} \\cup{} \\cdots{} $ \n",
    "#### $ \\hspace{0.95cm} = \\{ X \\in \\{ a,\\; \\cdots{},\\; a+0.1,\\; \\cdots{},\\; a+0.001, \\; \\cdots{} \\} \\} $\n",
    "#### **(PLUS)** 실제로 실수 공간은 불가산 집합이기 때문에, 요소를 나열할 수 없음"
   ]
  },
  {
   "cell_type": "markdown",
   "metadata": {},
   "source": [
    "#### $ \\hspace{0.15cm} $ ② 확률의 표현\n",
    "#### $ \\hspace{0.6cm} P(X=a) = 0 $\n",
    "#### $ \\hspace{0.6cm} \\cdots{} $ \n",
    "#### $ \\hspace{0.6cm} P(X=a+0.1) = 0 $\n",
    "#### $ \\hspace{0.6cm} \\cdots{} $ \n",
    "#### $ \\hspace{0.6cm} P(X=a+0.001) = 0 $ \n",
    "#### $ \\hspace{0.6cm} \\cdots{} $ \n",
    "#### $ \\hspace{0.6cm} P(X=x|x\\in{}A) = 0 $"
   ]
  },
  {
   "cell_type": "markdown",
   "metadata": {},
   "source": [
    "#### **(WHY?)** 무수히 많은(가산할 수 없는) 실수 공간에서 특정 점의 확률은 $ \\; P(X=x) \\approx{} \\displaystyle\\lim_{|A| \\rightarrow{} \\infty{}} \\frac{1}{|A|} = \\frac{1}{\\infty{}} = 0 $"
   ]
  },
  {
   "cell_type": "markdown",
   "metadata": {},
   "source": [
    "#### $ \\hspace{0.15cm} $ ③ 구간(누적) 확률의 표현\n",
    "#### $ \\hspace{0.6cm} P(a\\leq{}X\\leq{}a+h) = F(X=a+h) = \\frac{h}{b-a} \\;\\; $ where $ \\; a \\leq{} h \\leq{} b $"
   ]
  },
  {
   "cell_type": "markdown",
   "metadata": {},
   "source": [
    "<b></b>"
   ]
  },
  {
   "cell_type": "markdown",
   "metadata": {},
   "source": [
    "> ## **확률밀도함수(Probability Density Function)**"
   ]
  },
  {
   "cell_type": "markdown",
   "metadata": {},
   "source": [
    "#### **(1) 정의** : 연속확률변수를 **확률의 밀도**와 대응시킨 함수 \n",
    "#### = a function that maps a continuous random variable to its probability density\n",
    "#### $ \\Rightarrow{} f(X=x) = \\displaystyle\\lim_{h\\rightarrow{}\\infty{}}\\frac{P(x \\leq{} X \\leq{} x+h)}{h} = \\displaystyle\\lim_{h\\rightarrow{}\\infty{}}\\frac{F(X=x+h)-F(X)}{h} $ \n",
    "#### $ \\hspace{2.03cm} = \\frac{\\text{d}}{\\text{dx}} F(X=x) = F'(X=x) \\;\\; $ (단, $ \\; f(X) $ 는 $ \\; x $ 에 대해 미분가능)"
   ]
  },
  {
   "cell_type": "markdown",
   "metadata": {},
   "source": [
    "#### **(2) 표현 방식** : \n",
    "#### **[GRAPH]**"
   ]
  },
  {
   "cell_type": "markdown",
   "metadata": {},
   "source": [
    "#### **(3) 성질** :\n",
    "#### $ \\hspace{0.15cm} $ ① $ f(X=x) \\geq{} 0 \\;\\; $ for all $ \\; x $\n",
    "#### $ \\hspace{0.15cm} $ ② $ \\displaystyle\\int^{\\infty{}}_{-\\infty{}} f(X=x) \\text{dx} = 1 $\n",
    "#### $ \\hspace{0.15cm} $ ③ $ P(a \\leq{} X \\leq{} b) = P(a < X < b) = F(X=b) - F(X=a) = \\displaystyle\\int^{b}_{a}f(X=x)\\text{dx} $\n",
    "#### $ \\hspace{0.15cm} $ ④ 집합 $ \\; A $에 대하여 $ P(X\\in{}A) = \\displaystyle\\int_{x\\in{}A}f(X=x)\\text{dx} $"
   ]
  },
  {
   "cell_type": "markdown",
   "metadata": {},
   "source": [
    "#### **(3) 예시** : \n",
    "#### $ \\hspace{0.15cm} $ ① 연속확률변수 $ \\; X $ 에 대하여 아래와 같이 확률밀도함수가 정의될 때\n",
    "#### $ \\hspace{0.6cm} f(X=x) = \\begin{cases} \\frac{3}{14}(x^{2}-x), \\;\\; 1 < x < 3 \\\\ 0, \\;\\;\\;\\;\\;\\;\\;\\;\\;\\;\\;\\;\\;\\;\\;\\; x > 3 \\;\\; \\text{or} \\;\\; x < 1 \\end{cases} $"
   ]
  },
  {
   "cell_type": "markdown",
   "metadata": {},
   "source": [
    "<b></b>"
   ]
  },
  {
   "cell_type": "markdown",
   "metadata": {},
   "source": [
    "> ## **연속확률변수의 기댓값(Expected Value of Discrete Random Variable)**"
   ]
  },
  {
   "cell_type": "markdown",
   "metadata": {},
   "source": [
    "#### **(1) 정의** : 실험이나 과정이 무한히 반복할 때 얻을 수 있는 연속확률변수의 예상되는 값\n",
    "#### = a expected value of a continuous random variable from an infinitely repeated experiment\n",
    "#### $ \\Rightarrow{} E[X] = E(X) = \\mu{} = \\displaystyle\\int^{\\infty{}}_{-\\infty{}} x f(X=x) \\text{dx} $"
   ]
  },
  {
   "cell_type": "markdown",
   "metadata": {},
   "source": [
    "#### **(2) 성질** (Theorem 3-4. 기대값의 선형성) :\n",
    "#### $ \\hspace{0.15cm} $ ① $ E(aX+b) = aE(X) + b $\n",
    "#### $ \\hspace{0.15cm} $ ② $ E(X_{1}+X_{2}+\\cdots{}+X_{n}) = E(X_{1}) + E(X_{2}) + \\cdots{} + E(X_{n}) $\n",
    "#### $ \\hspace{0.15cm} $ ③ 연속확률변수 $ \\; Y $ 가 확률변수 $ X $의 관계로 표현될 때, $ \\; E(Y) = E(Y(X)) = \\displaystyle\\int^{\\infty{}}_{-\\infty{}} Y(X_{i}) f(X=x) \\text{dx} $"
   ]
  },
  {
   "cell_type": "markdown",
   "metadata": {},
   "source": [
    "<b></b>"
   ]
  },
  {
   "cell_type": "markdown",
   "metadata": {},
   "source": [
    "> ## **연속확률변수의 분산(Variance of Continuous Random Variable)**"
   ]
  },
  {
   "cell_type": "markdown",
   "metadata": {},
   "source": [
    "#### **(1) 정의** : 기댓값으로부터 얼마나 떨어져 있는지를 측정한 값(지표)\n",
    "#### = a measure of how far discrete random variables are from the expected value\n",
    "#### $ \\Rightarrow{} \\text{var}(X) = E[(X-E(X))^{2}] =  \\displaystyle\\int^{\\infty{}}_{-\\infty{}} (x-E(X))^{2} f(X=x) \\text{dx} $\n",
    "#### $ \\hspace{1.65cm} = E[X^{2} - 2E(X)\\cdot{}X + E(X)^{2}] $\n",
    "#### $ \\hspace{1.65cm} = E[X^{2}] - 2E[X\\cdot{}E(X)] + E[E(X)^{2}] $\n",
    "#### $ \\hspace{1.65cm} = E[X^{2}] - 2E(X)E[X] + E(X)^{2} \\;\\; $ ($ \\because{} \\; E(X) \\; $ is constant)\n",
    "#### $ \\hspace{1.65cm} = E[X^{2}] - 2E(X)^{2} + E(X)^{2} $\n",
    "#### $ \\hspace{1.65cm} = E[X^{2}] - E(X)^{2} $"
   ]
  },
  {
   "cell_type": "markdown",
   "metadata": {},
   "source": [
    "#### **(PLUS)** 표준편차는 제곱에 따른 단위 왜곡이 일어나기 때문에, 이를 보정한($ \\sqrt{} $를 취한) 값임\n",
    "#### $ \\Rightarrow{} \\text{std}(X) = \\sqrt{\\text{var}(X)} = \\sqrt{E[(X-E(X))^{2}]} $"
   ]
  },
  {
   "cell_type": "markdown",
   "metadata": {},
   "source": [
    "#### **(2) 성질** :\n",
    "#### $ \\hspace{0.15cm} $ ① $ \\text{var}(aX+b) = a^{2}\\text{var}(X) $\n",
    "#### $ \\hspace{0.15cm} $ ② **독립적인** 연속확률변수 $ \\; X_{i} \\;\\; (i=1,\\;2,\\;\\cdots{},\\,n)$ 에 대하여, \n",
    "#### $ \\hspace{0.6cm} \\text{var}(X_{1}+X_{2}+\\cdots{}+X_{n}) = \\text{var}(X_{1}) + \\text{var}(X_{2}) + \\cdots{} + \\text{var}(X_{n}) $"
   ]
  },
  {
   "cell_type": "markdown",
   "metadata": {},
   "source": [
    "<b></b>"
   ]
  }
 ],
 "metadata": {
  "kernelspec": {
   "display_name": "Python 3",
   "language": "python",
   "name": "python3"
  },
  "language_info": {
   "codemirror_mode": {
    "name": "ipython",
    "version": 3
   },
   "file_extension": ".py",
   "mimetype": "text/x-python",
   "name": "python",
   "nbconvert_exporter": "python",
   "pygments_lexer": "ipython3",
   "version": "3.8.18"
  },
  "orig_nbformat": 4
 },
 "nbformat": 4,
 "nbformat_minor": 2
}
