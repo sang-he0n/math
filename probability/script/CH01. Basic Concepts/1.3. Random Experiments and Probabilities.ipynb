{
 "cells": [
  {
   "attachments": {},
   "cell_type": "markdown",
   "metadata": {},
   "source": [
    "# CH01.3. **Random Experiments and Probabilities**"
   ]
  },
  {
   "attachments": {},
   "cell_type": "markdown",
   "metadata": {},
   "source": [
    "> ## **무작위 실험(Random Expreriments)**"
   ]
  },
  {
   "cell_type": "markdown",
   "metadata": {},
   "source": [
    "#### **(1) 정의** : 결과를 확실하게 예측할 수 없는 실험\n",
    "#### = Process whose outcomes we cannot predict with certainty"
   ]
  },
  {
   "cell_type": "markdown",
   "metadata": {},
   "source": [
    "#### **(PLUS)** 무작위 실험으로 부터 나올 수 있는 모든 결과를 모은 집합을 표본 공간(sample space)라고 정의함"
   ]
  },
  {
   "cell_type": "markdown",
   "metadata": {},
   "source": [
    "#### **(2) 예시** : \n",
    "#### &nbsp;&nbsp; ① 동전 던지기\n",
    "#### &nbsp;&nbsp;&nbsp;&nbsp;&nbsp;&nbsp; $ \\cdot{} $ 실험 결과 : head(H), tail(T)\n",
    "#### &nbsp;&nbsp;&nbsp;&nbsp;&nbsp;&nbsp; $ \\cdot{} $ 표본 공간 : $ S = \\{ \\text{H},\\; \\text{T} \\} $"
   ]
  },
  {
   "cell_type": "markdown",
   "metadata": {},
   "source": [
    "#### &nbsp;&nbsp; ② 주사위 던지기\n",
    "#### &nbsp;&nbsp;&nbsp;&nbsp;&nbsp;&nbsp; $ \\cdot{} $ 실험 결과 : ⚀(1), ⚁(2), ⚂(3), ⚃(4), ⚄(5), ⚅(6)\n",
    "#### &nbsp;&nbsp;&nbsp;&nbsp;&nbsp;&nbsp; $ \\cdot{} $ 표본 공간 : $ S = \\{ 1,\\; 2,\\; 3,\\; 4,\\; 5,\\; 6 \\} $"
   ]
  },
  {
   "cell_type": "markdown",
   "metadata": {},
   "source": [
    "<b></b>"
   ]
  },
  {
   "cell_type": "markdown",
   "metadata": {},
   "source": [
    "> ## **사건(event)**"
   ]
  },
  {
   "cell_type": "markdown",
   "metadata": {},
   "source": [
    "#### **(PLUS)** 두 번 연속 던질 경우의 표본 공간\n",
    "#### &nbsp;&nbsp;&nbsp;&nbsp;&nbsp;&nbsp; $ \\cdot{} $ 실험 결과 : (H, H), (H, T), (T, H), (T, T)\n",
    "#### &nbsp;&nbsp;&nbsp;&nbsp;&nbsp;&nbsp; $ \\cdot{} $ 표본 공간 : $ S = \\{ (\\text{H},\\; \\text{H}),\\; (\\text{H},\\; \\text{T}),\\; (\\text{T},\\; \\text{H}),\\; (\\text{T},\\; \\text{T}) \\} $"
   ]
  }
 ],
 "metadata": {
  "kernelspec": {
   "display_name": "Python 3",
   "language": "python",
   "name": "python3"
  },
  "language_info": {
   "codemirror_mode": {
    "name": "ipython",
    "version": 3
   },
   "file_extension": ".py",
   "mimetype": "text/x-python",
   "name": "python",
   "nbconvert_exporter": "python",
   "pygments_lexer": "ipython3",
   "version": "3.8.12"
  },
  "orig_nbformat": 4
 },
 "nbformat": 4,
 "nbformat_minor": 2
}
