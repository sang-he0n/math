{
 "cells": [
  {
   "attachments": {},
   "cell_type": "markdown",
   "metadata": {},
   "source": [
    "# CH01.3. **Random Experiments and Probabilities**"
   ]
  },
  {
   "attachments": {},
   "cell_type": "markdown",
   "metadata": {},
   "source": [
    "> ## **무작위 실험(Random Expreriments)**"
   ]
  },
  {
   "cell_type": "markdown",
   "metadata": {},
   "source": [
    "#### **(1) 정의** : 결과를 확실하게 예측할 수 없는 실험\n",
    "#### = Process whose outcomes we cannot predict with certainty"
   ]
  },
  {
   "cell_type": "markdown",
   "metadata": {},
   "source": [
    "#### **(PLUS)** 이 때 확률적 결과를 가져오는 실험의 단위를 시행(시도; Trial)이라고 정의함"
   ]
  },
  {
   "cell_type": "markdown",
   "metadata": {},
   "source": [
    "#### **(2) 예시** : \n",
    "#### &nbsp;&nbsp; ① 동전 1회 던지기 실험 결과 $ \\; \\rightarrow{} \\; $ head(H), tail(T)\n",
    "#### &nbsp;&nbsp; ② 주사위 1회 던지기 실험 결과 $ \\; \\rightarrow{} \\; $ ⚀(1), ⚁(2), ⚂(3), ⚃(4), ⚄(5), ⚅(6)"
   ]
  },
  {
   "cell_type": "markdown",
   "metadata": {},
   "source": [
    "<b></b>"
   ]
  },
  {
   "cell_type": "markdown",
   "metadata": {},
   "source": [
    "> ## **표본 공간(Sample Space)**"
   ]
  },
  {
   "cell_type": "markdown",
   "metadata": {},
   "source": [
    "#### **(1) 정의** : 무작위 실험으로 부터 나올 수 있는 모든 결과를 모은 집합 $ \\; \\rightarrow{} \\; S,\\; \\Omega{} $\n",
    "#### = a set of all possible outcomes that experiment"
   ]
  },
  {
   "cell_type": "markdown",
   "metadata": {},
   "source": [
    "#### **(2) 예시** :\n",
    "#### &nbsp;&nbsp; ① 주사위 1회 던지기 $ \\; \\rightarrow{} \\; $ a set $ S = \\{ ⚀,\\; ⚁,\\; ⚂,\\; ⚃,\\; ⚄,\\; ⚅ \\} = \\{ 1,\\; 2,\\; 3,\\; 4,\\; 5,\\; 6 \\} $\n",
    "#### &nbsp;&nbsp; ② 동전 1회 던지기 $ \\; \\rightarrow{} \\; $ a set $ S = \\{ \\text{H},\\; \\text{T} \\} $"
   ]
  },
  {
   "cell_type": "markdown",
   "metadata": {},
   "source": [
    "<b></b>"
   ]
  },
  {
   "cell_type": "markdown",
   "metadata": {},
   "source": [
    "> ## **사건(Event)**"
   ]
  },
  {
   "cell_type": "markdown",
   "metadata": {},
   "source": [
    "#### **(1) 정의** : 표본 공간의 부분 집합\n",
    "#### = subset of the sample space"
   ]
  },
  {
   "cell_type": "markdown",
   "metadata": {},
   "source": [
    "#### **(2) 예시** : \n",
    "#### &nbsp;&nbsp; ① 동전을 2회 연속 던질 경우의 표본 공간\n",
    "#### &nbsp;&nbsp;&nbsp;&nbsp;&nbsp;&nbsp; $ \\cdot{} $ 실험 결과 : (H, H), (H, T), (T, H), (T, T)\n",
    "#### &nbsp;&nbsp;&nbsp;&nbsp;&nbsp;&nbsp; $ \\cdot{} $ 표본 공간 : $ S = \\{ (\\text{H},\\; \\text{H}),\\; (\\text{H},\\; \\text{T}),\\; (\\text{T},\\; \\text{H}),\\; (\\text{T},\\; \\text{T}) \\} $\n",
    "#### &nbsp;&nbsp; ② **[CONTENTS]**"
   ]
  },
  {
   "cell_type": "markdown",
   "metadata": {},
   "source": [
    "<b></b>"
   ]
  },
  {
   "cell_type": "markdown",
   "metadata": {},
   "source": [
    "> ## **확률(Probability)**"
   ]
  },
  {
   "cell_type": "markdown",
   "metadata": {},
   "source": [
    "#### **(1) 정의** : 어떠한 실험(사건)이 발생할 수 있는 가능성  $ \\; \\rightarrow{} \\; P(A) $\n",
    "#### = The probability of an event occurring"
   ]
  },
  {
   "cell_type": "markdown",
   "metadata": {},
   "source": [
    "#### **(2) 공리**\n",
    "#### &nbsp;&nbsp; ① 어떠한 사건에 대하여 확률은 0보다 큼 $ ; \\; 0 \\leq{} P(A) $\n",
    "#### &nbsp;&nbsp; ② 표본 공간의 확률은 $ 1 $임 $ ; \\; P(S) = 1 $\n",
    "#### &nbsp;&nbsp; ③ 사건 $ A_{1},\\; A_{2},\\; \\cdots{} $ 가 서로소(disjoint) 관계의 사건이라면 그 합집합은 개별 확률의 합임 ; \n",
    "#### &nbsp;&nbsp;&nbsp;&nbsp;&nbsp;&nbsp; $ P(\\cup{}_{i=1}A_{i}) = P(A_{1}) + P(A_{2}) + \\cdots{} $"
   ]
  },
  {
   "cell_type": "markdown",
   "metadata": {},
   "source": [
    "#### **(3) 표기법**\n",
    "#### &nbsp;&nbsp; ① $ P(A\\cup{}B) = P(A \\; \\text{or} \\; B) $\n",
    "#### &nbsp;&nbsp; ② $ P(A\\cap{}B) = P(A \\; \\text{and} \\; B) = P(A ,\\; B) $"
   ]
  },
  {
   "cell_type": "markdown",
   "metadata": {},
   "source": [
    "#### **(4) 연산**\n",
    "#### &nbsp;&nbsp; ① $ P(A^{c}) = 1 - P(A) $\n",
    "#### &nbsp;&nbsp; ② $ P(\\empty{}) = 0 $ \n",
    "#### &nbsp;&nbsp; ③ $ P(A-B) = P(A\\cap{}B^{c}) = P(A) - P(A\\cap{}B) $\n",
    "#### &nbsp;&nbsp; ④ $ P(A\\cup{}B) = P(A) + P(B) - P(A\\cap{}B) $ ( $ \\because{} $ CH01.3. Inclusion-exclusion principle)"
   ]
  },
  {
   "cell_type": "markdown",
   "metadata": {},
   "source": [
    "<b></b>"
   ]
  },
  {
   "cell_type": "markdown",
   "metadata": {},
   "source": [
    "> ## **이산확률모형(Discrete Probability Model)**"
   ]
  },
  {
   "cell_type": "markdown",
   "metadata": {},
   "source": [
    "#### **(1) 정의** : 표본 공간이 가산 집합이며, **[CONTENTS]**\n",
    "#### = **[CONTENTS]**"
   ]
  },
  {
   "cell_type": "markdown",
   "metadata": {},
   "source": [
    "#### **(2) 예시** :\n",
    "#### &nbsp;&nbsp; ① 주사위 1회 던지기 $ \\; \\rightarrow{} \\; $ S = \\{ 1,\\; 2,\\; 3,\\; 4,\\; 5,\\; 6 \\} $\n",
    "#### &nbsp;&nbsp; ② 동전 1회 던지기 $ \\; \\rightarrow{} \\; S = \\{ \\text{H},\\; \\text{T} \\} $"
   ]
  },
  {
   "cell_type": "markdown",
   "metadata": {},
   "source": [
    "#### **(3) 사건의 확률** :\n",
    "#### &nbsp;&nbsp; $ S = \\{ s_{1},\\; s_{2},\\; s_{3},\\; s_{4},\\; s_{5},\\; s_{6}\\} $\n",
    "#### &nbsp;&nbsp; $ A = \\{ s_{1},\\; s_{2},\\; s_{3} \\} = \\{ s_{1} \\} \\cup{} \\{ s_{2} \\} \\cup{} \\{ s_{3} \\} $\n",
    "#### &nbsp;&nbsp; $ P(A) = P( \\{ s_{1} \\} ) + P( \\{ s_{2} \\} ) + P( \\{ s_{3} \\} ) $\n",
    "#### &nbsp;&nbsp; $ \\therefore{} P(A) = \\cup{}_{i=1}^{3} {s_{i}} = \\sum{}_{i=1}^{3}P(\\{ s_{i} \\} ) $"
   ]
  },
  {
   "cell_type": "markdown",
   "metadata": {},
   "source": [
    "#### **(PLUS) 유한 표본 공간에서 동등발생결과(Equally-Likely Outcome)**\n",
    "#### 개별사건(원소사건)의 확률이 모두 동일할 때 동등발생결과라고 정의함"
   ]
  },
  {
   "cell_type": "markdown",
   "metadata": {},
   "source": [
    "#### **(PLUS)**\n",
    "#### 동등발생결과일 때 가산 집합에서 사건의 확률 : $ P(A) = {{|A|}\\over{|S|}} $"
   ]
  },
  {
   "cell_type": "markdown",
   "metadata": {},
   "source": [
    "<b></b>"
   ]
  },
  {
   "cell_type": "markdown",
   "metadata": {},
   "source": [
    "> ## **연속확률모형(Continuos Probability Model)**"
   ]
  },
  {
   "cell_type": "markdown",
   "metadata": {},
   "source": [
    "#### **(1) 정의** : 표본 공간이 불가산 집합이며, **[CONTENTS]**\n",
    "#### = **[CONTENTS]**"
   ]
  },
  {
   "cell_type": "markdown",
   "metadata": {},
   "source": [
    "#### **(2) 예시** :\n",
    "#### &nbsp;&nbsp; ① 바퀴를 회전시켰을 때 회전한 **각도** $ \\; \\rightarrow{} \\; S = \\{ \\theta{} | \\; 0 \\leq{} \\theta{} < 2\\pi{} \\} = [0, 2\\pi{}) \\; $ (inteval)\n",
    "#### &nbsp;&nbsp; **[GRAPH]**\n",
    "#### &nbsp;&nbsp; ② 30분 간격의 버스를 기다리는 **시간** $ \\; \\rightarrow{} \\; S = \\{ t | \\; 0 \\leq{} t < \\inf{} \\} = [0, \\inf{}) \\; $ (inteval)"
   ]
  },
  {
   "cell_type": "markdown",
   "metadata": {},
   "source": [
    "#### **(3) 사건의 확률** :\n",
    "#### &nbsp;&nbsp; $ S = \\{ \\theta{} | \\; 0 \\leq{} \\theta{} < 2\\pi{} \\} $\n",
    "#### &nbsp;&nbsp; $ P(\\{ {{\\pi{}}\\over{2}} \\}) = 0 $"
   ]
  },
  {
   "cell_type": "markdown",
   "metadata": {},
   "source": [
    "#### **(WHY?)**"
   ]
  },
  {
   "cell_type": "markdown",
   "metadata": {},
   "source": [
    "#### &nbsp;&nbsp; $ T = \\{ \\theta{} | \\; {{\\pi{}}\\over{2}} \\leq{} \\theta{} < 2\\pi{} \\} = [{{\\pi{}}\\over{2}},\\; \\pi{})$\n",
    "#### &nbsp;&nbsp; $ P(T) = \\{ \\theta{} | \\; {{\\pi{}}\\over{2}} \\leq{} \\theta{} < 2\\pi{} \\} = {{1}\\over{4}} $\n",
    "#### &nbsp;&nbsp; **[GRAPH]**"
   ]
  },
  {
   "cell_type": "markdown",
   "metadata": {},
   "source": [
    "<b></b>"
   ]
  }
 ],
 "metadata": {
  "kernelspec": {
   "display_name": "Python 3",
   "language": "python",
   "name": "python3"
  },
  "language_info": {
   "codemirror_mode": {
    "name": "ipython",
    "version": 3
   },
   "file_extension": ".py",
   "mimetype": "text/x-python",
   "name": "python",
   "nbconvert_exporter": "python",
   "pygments_lexer": "ipython3",
   "version": "3.8.12"
  },
  "orig_nbformat": 4
 },
 "nbformat": 4,
 "nbformat_minor": 2
}
