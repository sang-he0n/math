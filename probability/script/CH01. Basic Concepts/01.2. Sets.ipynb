{
 "cells": [
  {
   "attachments": {},
   "cell_type": "markdown",
   "metadata": {},
   "source": [
    "# CH01.2. **Sets**"
   ]
  },
  {
   "attachments": {},
   "cell_type": "markdown",
   "metadata": {},
   "source": [
    "> ## **집합(Set)**"
   ]
  },
  {
   "cell_type": "markdown",
   "metadata": {},
   "source": [
    "#### **(1) 정의** : 어떤 아이템, 객체 혹은 **요소**(원소)들의 모음\n",
    "#### = a collection of things (items, objects or **elements**)"
   ]
  },
  {
   "attachments": {},
   "cell_type": "markdown",
   "metadata": {},
   "source": [
    "#### **(2) 예시** :\n",
    "#### &nbsp;&nbsp; ① a set $ A = \\{ 😀,\\; 😡 \\} $\n",
    "#### &nbsp;&nbsp; ② a set $ B  = \\{ 1,\\; 2,\\; 3,\\; 4 \\} $"
   ]
  },
  {
   "cell_type": "markdown",
   "metadata": {},
   "source": [
    "#### **(PLUS)** 집합 간 요소에는 순서(order)가 존재하지 않음"
   ]
  },
  {
   "cell_type": "markdown",
   "metadata": {},
   "source": [
    "#### **(3) 포함 관계** :\n",
    "#### &nbsp;&nbsp; 집합 $ A = \\{ 😀,\\; 😡 \\} $ 와 집합 $ B = \\{ 😀,\\; 😡,\\; 🥹 \\} $ 가 존재할 때, \n",
    "#### &nbsp;&nbsp; ① 요소 😀가 집합 $ A $ 에 속한다. $ \\; → \\; 😀 \\in A $\n",
    "#### &nbsp;&nbsp; ② 요소 😭가 집합 $ A $ 에 속하지 않는다. $ \\; → \\; 😭 \\notin A $"
   ]
  },
  {
   "cell_type": "markdown",
   "metadata": {},
   "source": [
    "<b></b>"
   ]
  },
  {
   "cell_type": "markdown",
   "metadata": {},
   "source": [
    "> ## **부분집합(Subset)**"
   ]
  },
  {
   "cell_type": "markdown",
   "metadata": {},
   "source": [
    "#### **(1) 정의** : 집합 $ A $ 와 $ \\; B $ 가 있을 때 $ A $ 의 모든 요소가 $ \\; B $ 에도 모두 존재한다면, $ A $ 는 $ B $ 의 부분집합임\n",
    "#### = Set $ A \\; $ is a subset of set $ B \\; $ if every element of $ \\; A $ is also an element of $ \\; B $"
   ]
  },
  {
   "cell_type": "markdown",
   "metadata": {},
   "source": [
    "#### **(2) 포함관계** :\n",
    "#### &nbsp;&nbsp; 집합 $ A = \\{ 😀,\\; 😡 \\} $ 와 집합 $ B = \\{ 😀,\\; 😡,\\; 🥹 \\} $ 가 존재할 때, \n",
    "#### &nbsp;&nbsp; ① 집합 $ A $ 는 집합 $ B $의 부분집합이다. $ \\; → \\; A \\subset B $ \n",
    "#### &nbsp;&nbsp; ② 집합 $ B $ 는 집합 $ A $의 부분집합이 아니다. $ \\; → \\; B \\not\\subset A $ "
   ]
  },
  {
   "cell_type": "markdown",
   "metadata": {},
   "source": [
    "#### **(PLUS)** 이 때 집합 $ B $ 를 집합 $ A $의 초집합(Superset)이라고 정의함"
   ]
  },
  {
   "cell_type": "markdown",
   "metadata": {},
   "source": [
    "#### **(PLUS)** 만약 두 집합이 같다면, 두 집합은 동치(equivalent)하다고 하고, 수식 $ \\; = $ 을 사용"
   ]
  },
  {
   "cell_type": "markdown",
   "metadata": {},
   "source": [
    "<b></b>"
   ]
  },
  {
   "cell_type": "markdown",
   "metadata": {},
   "source": [
    "> ## **공집합(Empty set; Null set)**"
   ]
  },
  {
   "cell_type": "markdown",
   "metadata": {},
   "source": [
    "#### **(1) 정의** : 요소를 하나도 갖고 있지 않는 집합\n",
    "#### = a set that contains no elements"
   ]
  },
  {
   "cell_type": "markdown",
   "metadata": {},
   "source": [
    "#### **(2) 형태** :\n",
    "#### $ \\emptyset{} = \\{ \\} $"
   ]
  },
  {
   "cell_type": "markdown",
   "metadata": {},
   "source": [
    "<b></b>"
   ]
  },
  {
   "cell_type": "markdown",
   "metadata": {},
   "source": [
    "> ## **벤 다이어그램(Venn Diagram)**"
   ]
  },
  {
   "cell_type": "markdown",
   "metadata": {},
   "source": [
    "#### **(1) 정의** : 두 개 이상 집합 간의 논리적 관계를 표현하는 시각적 도구"
   ]
  },
  {
   "cell_type": "markdown",
   "metadata": {},
   "source": [
    "#### **(2) 예시** :\n",
    "#### &nbsp;&nbsp; ① $ A \\subset S $ \n",
    "#### **[GRAPH]**\n",
    "#### &nbsp;&nbsp; ② $ A \\subset B $ \n",
    "#### **[GRAPH]**"
   ]
  },
  {
   "cell_type": "markdown",
   "metadata": {},
   "source": [
    "<b></b>"
   ]
  },
  {
   "cell_type": "markdown",
   "metadata": {},
   "source": [
    "> ## **집합 연산(Set Opearation)**"
   ]
  },
  {
   "cell_type": "markdown",
   "metadata": {},
   "source": [
    "#### **(1) 합집합(Union)** : 두 집합의 모든 원소를 포함하는 집합 $ \\; → \\; A \\cup{} B $ \n",
    "#### $ A = \\{ 1,\\; 2,\\; 3 \\} \\; B = \\{ 1,\\; 4,\\; 5 \\}, \\; A \\cup{} B = \\{ 1,\\; 2,\\; 3,\\; 4, \\; 5 \\} $\n",
    "#### **[GRAPH]**"
   ]
  },
  {
   "cell_type": "markdown",
   "metadata": {},
   "source": [
    "#### **(PLUS)** $ A_{1} \\cup{} A_{2} \\cup{} A_{3} \\cup{} A_{4} \\cdots{} \\cup A_{n} = \\cup{}_{i=1}^{n} A_{i} $"
   ]
  },
  {
   "cell_type": "markdown",
   "metadata": {},
   "source": [
    "#### **(2) 교집합(Intersection)** : 두 집합의 공통 요소를 포함하는 집합 $ \\; → \\; A \\cap{} B $\n",
    "#### $ A = \\{ 1,\\; 2,\\; 3 \\} \\; B = \\{ 1,\\; 4,\\; 5 \\}, \\; A \\cap{} B = \\{ 1 \\} $\n",
    "#### **[GRAPH]**"
   ]
  },
  {
   "cell_type": "markdown",
   "metadata": {},
   "source": [
    "#### **(PLUS)** $ A_{1} \\cap{} A_{2} \\cap{} A_{3} \\cap{} A_{4} \\cdots{} \\cap A_{n} = \\cap{}_{i=1}^{n} A_{i} $"
   ]
  },
  {
   "cell_type": "markdown",
   "metadata": {},
   "source": [
    "#### **(3) 여집합(Complement)** : 전체 집합 중 특정 집합의 요소를 제외한 집합 $ \\; → \\; A^{c} $\n",
    "#### $ S = \\{ 1,\\; 2,\\; 3,\\; 4,\\; 5 \\} \\; A = \\{ 1,\\; 2,\\; 3 \\}, \\; A^{c} = \\{ 4,\\; 5 \\} $\n",
    "#### **[GRAPH]**"
   ]
  },
  {
   "cell_type": "markdown",
   "metadata": {},
   "source": [
    "#### **(4) 차집합(Subtraction ; Difference)** : 한 집합에서 다른 집합의 요소를 제외한 집합 $ A - B = A \\cap{} B^{c} $\n",
    "#### $ A = \\{ 1,\\; 2,\\; 3 \\} \\; B = \\{ 1,\\; 4,\\; 5 \\}, \\; A \\cap{} B = \\{ 2,\\; 3 \\} $\n",
    "#### **[GRAPH]**"
   ]
  },
  {
   "cell_type": "markdown",
   "metadata": {},
   "source": [
    "#### **(5) 서로소 집합(Disjoint)** : 두 집합이 공통된 요소를 갖지 않을 때의 관계 $ A \\cap{} B = \\empty{} $\n",
    "#### $ A = \\{ 1,\\; 2,\\; 3 \\} \\; B = \\{ 6,\\; 8 \\}, \\; A \\cap{} B = \\empty{} $\n",
    "#### **[GRAPH]**"
   ]
  },
  {
   "cell_type": "markdown",
   "metadata": {},
   "source": [
    "<b></b>"
   ]
  },
  {
   "cell_type": "markdown",
   "metadata": {},
   "source": [
    "> ## **분할(Partition)**"
   ]
  },
  {
   "cell_type": "markdown",
   "metadata": {},
   "source": [
    "#### **(1) 정의** : 특정 집합을 여러 개의 **공집합이 아니고, 합집합은 그 특정 집합이 되는** 부분 집합\n",
    "#### = a collection of nonempty sets $ A_{1},\\; A_{2},\\; \\cdots{} \\; $ is a partition of a set $ A $ if they are disjoint and their union is $ \\; A $\n",
    "#### **[GRAPH]**"
   ]
  },
  {
   "cell_type": "markdown",
   "metadata": {},
   "source": [
    "<b></b>"
   ]
  },
  {
   "cell_type": "markdown",
   "metadata": {},
   "source": [
    "> ## **(Theorem)** 드 모르간의 법칙(De Morgan's Law)"
   ]
  },
  {
   "cell_type": "markdown",
   "metadata": {},
   "source": [
    "#### 논리 연산에서 논리합(OR)은 논리곱(AND)과 부정기호(NOT)로, 논리곱은 논리합과 부정기호로 표현할 수 있다.\n",
    "#### &nbsp;&nbsp; ① $ ( \\cup{}_{i=1}^{n} A_{i} )^{c} = \\cap{}_{i=1}^{n} A_{i}^{c} $\n",
    "#### **[GRAPH]**\n",
    "#### &nbsp;&nbsp; ② $ ( \\cap{}_{i=1}^{n} A_{i} )^{c} = \\cup{}_{i=1}^{n} A_{i}^{c} $\n",
    "#### **[GRAPH]**"
   ]
  },
  {
   "cell_type": "markdown",
   "metadata": {},
   "source": [
    "<b></b>"
   ]
  },
  {
   "cell_type": "markdown",
   "metadata": {},
   "source": [
    "> ## **(Theorem)** 분배 법칙(Distributive Law)"
   ]
  },
  {
   "cell_type": "markdown",
   "metadata": {},
   "source": [
    "#### 특정 집합 $ \\; A,\\; B,\\; C $ 가 존재할 때 아래의 식이 성립한다.\n",
    "#### &nbsp;&nbsp; ① $ A \\cap{} ( B \\cup{} C ) = ( A \\cap{} B ) \\cup{} ( A \\cap{} C ) $\n",
    "#### &nbsp;&nbsp; ② $ A \\cup{} ( B \\cap{} C ) = ( A \\cup{} B ) \\cap{} ( A \\cup{} C ) $"
   ]
  },
  {
   "cell_type": "markdown",
   "metadata": {},
   "source": [
    "<b></b>"
   ]
  },
  {
   "cell_type": "markdown",
   "metadata": {},
   "source": [
    "> ## **곱집합(Product Set)**"
   ]
  },
  {
   "cell_type": "markdown",
   "metadata": {},
   "source": [
    "#### **(1) 정의** : 두 개 이상의 집합에서 요소를 하나씩 뽑아 만든 모든 순서쌍의 집합\n",
    "#### = two sets $ \\; A \\; $ and $ \\; B \\; $ is the set containing ordered paris from $ \\; A \\; $ and $ \\; B \\; $"
   ]
  },
  {
   "cell_type": "markdown",
   "metadata": {},
   "source": [
    "#### **(2) 예시 :**\n",
    "#### &nbsp;&nbsp; ① 집합 $ A = \\{ 1,\\; 2 \\},\\; $ 집합 $ B = \\{ a,\\; b,\\; c \\} $ 가 존재할 때, $ A \\times{} B = \\{ (1,a),\\; (1,b),\\; (1,c),\\; (2,a),\\; (2,b),\\; (2,c) \\} $\n",
    "#### &nbsp;&nbsp; ② $ \\mathbb{R} \\times{} \\mathbb{R} = \\{ (x,\\; y) | x \\in \\mathbb{R},\\; y \\in \\mathbb{R} \\} = \\mathbb{R}^{2} $ (space)"
   ]
  },
  {
   "cell_type": "markdown",
   "metadata": {},
   "source": [
    "<b></b>"
   ]
  },
  {
   "cell_type": "markdown",
   "metadata": {},
   "source": [
    "> ## **가산 집합(Countable set)**"
   ]
  },
  {
   "cell_type": "markdown",
   "metadata": {},
   "source": [
    "#### **(1) 정의** : 집합의 요소들을 자연수와 1대1 대응(mapping)할 수 있는 집합"
   ]
  },
  {
   "cell_type": "markdown",
   "metadata": {},
   "source": [
    "#### **(PLUS)** 집합의 요소들을 자연수와 1대1 대응(mapping)할 수 없는 경우, 불가산 집합(Uncountable set)이라고 정의함"
   ]
  },
  {
   "cell_type": "markdown",
   "metadata": {},
   "source": [
    "#### **(3) 예시** :\n",
    "#### &nbsp;&nbsp; ① 유한 집합(finite set)\n",
    "#### &nbsp;&nbsp; $ A = \\{ 1,\\; 2 \\},\\; B = \\{ a,\\; b,\\; c \\} $ \n",
    "#### &nbsp;&nbsp; ② 무한 집합(inifinite)이고 가산할 수 있는(countable) 집합\n",
    "#### &nbsp;&nbsp; $ \\mathbb{N} = {}$(자연수) $ = \\{ 1,\\; 2,\\; \\cdots{} \\} $, $ \\; \\mathbb{Z} $(정수) $ = \\{ \\cdots{},\\; -1,\\; 0,\\; 1,\\; \\cdots{} \\} $, $ \\; \\mathbb{Q} $ (유리수) $ = \\{ p/q | p \\in{} \\mathbb{Z},\\; q \\in{} \\mathbb{N} \\} $\n",
    "#### &nbsp;&nbsp; ③ 무한 집합(inifinite)이고 가산할 수 없는(uncountable) 집합\n",
    "#### &nbsp;&nbsp; $ \\mathbb{R} $ (실수) $ = \\{ \\cdots{},\\; -0.001,\\; 0,\\; 1.01,\\; \\cdots{} \\} $"
   ]
  },
  {
   "cell_type": "markdown",
   "metadata": {},
   "source": [
    "#### **(WHY?)** 유리수 집합이 가산 집합인 이유\n",
    "#### **[CONTENTS]**"
   ]
  },
  {
   "cell_type": "markdown",
   "metadata": {},
   "source": [
    "<b></b>"
   ]
  },
  {
   "cell_type": "markdown",
   "metadata": {},
   "source": [
    "> ## **(Theorem)** 가산 집합과 부분 집합 간의 관계"
   ]
  },
  {
   "cell_type": "markdown",
   "metadata": {},
   "source": [
    "#### **(1)** 가산 집합의 부분 집합은 가산 집합이다.\n",
    "#### = Any subset of a countable set is countable."
   ]
  },
  {
   "cell_type": "markdown",
   "metadata": {},
   "source": [
    "#### **(2)** 불가산 집합의 구간(부분 집합)은 불가산 집합이다.\n",
    "#### = Any subset as an interval on the real line is uncountable."
   ]
  },
  {
   "cell_type": "markdown",
   "metadata": {},
   "source": [
    "#### **(3)** 불가산 집합의 초집합은 불가산 집합이다.\n",
    "#### = Any superset of an uncountable is uncountable"
   ]
  },
  {
   "cell_type": "markdown",
   "metadata": {},
   "source": [
    "<b></b>"
   ]
  },
  {
   "cell_type": "markdown",
   "metadata": {},
   "source": [
    "> ## **(Theorem)** 가산 집합과 집합 연산 간의 관계"
   ]
  },
  {
   "cell_type": "markdown",
   "metadata": {},
   "source": [
    "#### **(1)** 집합 $ A_{1}, \\; A_{2}, \\; \\cdots{} $ 가 가산 집합이면, 이 집합들의 합집합도 가산 집합이다.\n",
    "#### = If $ A_{1}, \\; A_{2}, \\; \\cdots{} $ is a list of countable set, the the set $ \\cup{}_{i}A_{i} \\; $ is also countable."
   ]
  },
  {
   "cell_type": "markdown",
   "metadata": {},
   "source": [
    "#### **(2)** 두 집합이 가산 집합이면, 두 집합의 곱집합도 가산 집합이다.\n",
    "#### = If $ A \\; $ and $ \\; B \\; $ are countable, then $ A \\times{} B $ is also countable."
   ]
  },
  {
   "cell_type": "markdown",
   "metadata": {},
   "source": [
    "<b></b>"
   ]
  },
  {
   "cell_type": "markdown",
   "metadata": {},
   "source": [
    "> ## **집합의 크기(Cardinality)**"
   ]
  },
  {
   "cell_type": "markdown",
   "metadata": {},
   "source": [
    "#### **(1) 정의** : 집합의 요소의 개수(사이즈) $ \\; → \\; | A | $\n",
    "#### = a set that contains no elements"
   ]
  },
  {
   "cell_type": "markdown",
   "metadata": {},
   "source": [
    "#### **(2) 예시** :\n",
    "#### &nbsp;&nbsp; ① 유한 집합(finite set)\n",
    "#### &nbsp;&nbsp; $ A = \\{ 1,\\; 2 \\},\\; B = \\{ a,\\; b,\\; c \\} $ \n",
    "#### &nbsp;&nbsp; ② 무한 집합(inifinite)이고 가산할 수 있는(countable) 집합\n",
    "#### &nbsp;&nbsp; $ |\\mathbb{N}| = |\\mathbb{Z}| = |\\mathbb{Q}| = \\aleph{} $\n",
    "#### &nbsp;&nbsp; ③ 무한 집합(inifinite)이고 가산할 수 없는(uncountable) 집합\n",
    "#### &nbsp;&nbsp; $ |\\mathbb{R}| = 2^{\\aleph{}} $"
   ]
  },
  {
   "cell_type": "markdown",
   "metadata": {},
   "source": [
    "#### **(PLUS)** 집합론에서 $ \\aleph{} $ 는 가장 작은 무한수를 의미함"
   ]
  },
  {
   "cell_type": "markdown",
   "metadata": {},
   "source": [
    "<b></b>"
   ]
  },
  {
   "cell_type": "markdown",
   "metadata": {},
   "source": [
    "> ## **(Theorem)** 포함배제의 원리(Inclusion-exclusion principle)"
   ]
  },
  {
   "cell_type": "markdown",
   "metadata": {},
   "source": [
    "#### 유한 집합에서 여러 개의 합집합의 크기를 구할 때 아래와 같다.\n",
    "#### $ | \\cup{}_{i=1}^{n} A_{i} | = \\sum{}_{i=1}^{n}|A_{i}| - \\sum{}_{i<j}^{n}|A_{i}\\cap{}A_{j}| + \\sum_{i<j<k}^{n}|A_{i}\\cap{}A_{j}\\cap{}A_{k}| - \\cdots{} + (-1)^{n+1}|\\cap{}_{i=1}^{n}A_{i}| $"
   ]
  },
  {
   "cell_type": "markdown",
   "metadata": {},
   "source": [
    "<b></b>"
   ]
  }
 ],
 "metadata": {
  "kernelspec": {
   "display_name": "Python 3",
   "language": "python",
   "name": "python3"
  },
  "language_info": {
   "codemirror_mode": {
    "name": "ipython",
    "version": 3
   },
   "file_extension": ".py",
   "mimetype": "text/x-python",
   "name": "python",
   "nbconvert_exporter": "python",
   "pygments_lexer": "ipython3",
   "version": "3.8.18"
  },
  "orig_nbformat": 4
 },
 "nbformat": 4,
 "nbformat_minor": 2
}
