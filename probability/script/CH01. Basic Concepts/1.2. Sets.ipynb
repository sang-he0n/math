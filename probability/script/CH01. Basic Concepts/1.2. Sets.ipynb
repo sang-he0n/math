{
 "cells": [
  {
   "attachments": {},
   "cell_type": "markdown",
   "metadata": {},
   "source": [
    "# CH01.1. **Introduction**"
   ]
  },
  {
   "attachments": {},
   "cell_type": "markdown",
   "metadata": {},
   "source": [
    "> ## **집합(Set)**"
   ]
  },
  {
   "cell_type": "markdown",
   "metadata": {},
   "source": [
    "#### **(1) 정의** : 어떤 아이템, 객체 혹은 **요소**(원소)들의 모음\n",
    "#### = a collection of things (items, objects or **elements**)"
   ]
  },
  {
   "attachments": {},
   "cell_type": "markdown",
   "metadata": {},
   "source": [
    "#### **(2) 예시** :\n",
    "#### &nbsp;&nbsp; ① a set $ A = \\{ 😀,\\; 😡 \\} $\n",
    "#### &nbsp;&nbsp; ② a set $ B  = \\{ 1,\\; 2,\\; 3,\\; 4 \\} $"
   ]
  },
  {
   "cell_type": "markdown",
   "metadata": {},
   "source": [
    "#### **(PLUS)** 집합 간 요소에는 순서(order)가 존재하지 않음"
   ]
  },
  {
   "cell_type": "markdown",
   "metadata": {},
   "source": [
    "#### **(3) 포함 관계** :\n",
    "#### &nbsp;&nbsp; 집합 $ A = \\{ 😀,\\; 😡 \\} $ 와 집합 $ B = \\{ 😀,\\; 😡,\\; 🥹 \\} $ 가 존재할 때, \n",
    "#### &nbsp;&nbsp; ① 요소 😀가 집합 $ A $ 에 속한다. $ \\; → \\; 😀 \\in A $\n",
    "#### &nbsp;&nbsp; ② 요소 😭가 집합 $ A $ 에 속하지 않는다. $ \\; → \\; 😭 \\notin A $"
   ]
  },
  {
   "cell_type": "markdown",
   "metadata": {},
   "source": [
    "<b></b>"
   ]
  },
  {
   "cell_type": "markdown",
   "metadata": {},
   "source": [
    "> ## **부분집합(Subset)**"
   ]
  },
  {
   "cell_type": "markdown",
   "metadata": {},
   "source": [
    "#### **(1) 정의** : 집합 $ A $ 와 $ \\; B $ 가 있을 때 $ A $ 의 모든 요소가 $ \\; B $ 에도 모두 존재한다면, $ A $ 는 $ B $ 의 부분집합임\n",
    "#### = Set $ A \\; $ is a subset of set $ B \\; $ if every element of $ \\; A $ is also an element of $ \\; B $"
   ]
  },
  {
   "cell_type": "markdown",
   "metadata": {},
   "source": [
    "#### **(2) 예시(포함관계)** :\n",
    "#### &nbsp;&nbsp; 집합 $ A = \\{ 😀,\\; 😡 \\} $ 와 집합 $ B = \\{ 😀,\\; 😡,\\; 🥹 \\} $ 가 존재할 때, \n",
    "#### &nbsp;&nbsp; ① 집합 $ A $ 는 집합 $ B $의 부분집합이다. $ \\; → \\; A \\subset B $ \n",
    "#### &nbsp;&nbsp; ② 집합 $ B $ 는 집합 $ A $의 부분집합이 아니다. $ \\; → \\; B \\not\\subset A $ "
   ]
  },
  {
   "cell_type": "markdown",
   "metadata": {},
   "source": [
    "#### **(PLUS)** 이 때 집합 $ B $ 를 집합 $ A $의 초집합(Superset)이라고 정의함"
   ]
  },
  {
   "cell_type": "markdown",
   "metadata": {},
   "source": [
    "#### **(PLUS)** 만약 두 집합이 같다면, 두 집합은 동치(equivalent)하다고 하고, 수식 $ \\; = $ 을 사용"
   ]
  },
  {
   "cell_type": "markdown",
   "metadata": {},
   "source": [
    "<b></b>"
   ]
  },
  {
   "cell_type": "markdown",
   "metadata": {},
   "source": [
    "> ## **공집합(Empty set; Null set)**"
   ]
  },
  {
   "cell_type": "markdown",
   "metadata": {},
   "source": [
    "#### **(1) 정의** : 요소를 하나도 갖고 있지 않는 집합\n",
    "#### = a set that contains no elements"
   ]
  },
  {
   "cell_type": "markdown",
   "metadata": {},
   "source": [
    "#### **(2) 형태** :\n",
    "#### $ \\emptyset{} = \\{ \\} $"
   ]
  },
  {
   "cell_type": "markdown",
   "metadata": {},
   "source": [
    "<b></b>"
   ]
  },
  {
   "cell_type": "markdown",
   "metadata": {},
   "source": [
    "> ## **표본 공간(Sample Space)**"
   ]
  },
  {
   "cell_type": "markdown",
   "metadata": {},
   "source": [
    "#### **(1) 정의** : 가능한 모든 표본(고려 요소)들을 포함하는 집합 \n",
    "#### = the set of all elements under consideration"
   ]
  },
  {
   "cell_type": "markdown",
   "metadata": {},
   "source": [
    "#### **(PLUS)** 표본 공간은 기호로 $ \\; S,\\; \\Omega{} $ 를 사용함"
   ]
  },
  {
   "cell_type": "markdown",
   "metadata": {},
   "source": [
    "#### **(2) 예시** :\n",
    "#### &nbsp;&nbsp; ① 주사위 던지기 $ \\; → \\; $ a set $ S = \\{ ⚀,\\; ⚁,\\; ⚂,\\; ⚃,\\; ⚄,\\; ⚅ \\} = \\{ 1,\\; 2,\\; 3,\\; 4,\\; 5,\\; 6 \\} $\n",
    "#### &nbsp;&nbsp; ② 동전 던지기 $ \\; → \\; $ a set $ S = \\{ \\text{H},\\; \\text{T} \\} $"
   ]
  },
  {
   "cell_type": "markdown",
   "metadata": {},
   "source": [
    "<b></b>"
   ]
  },
  {
   "cell_type": "markdown",
   "metadata": {},
   "source": [
    "> ## **벤 다이어그램(Venn Diagram)**"
   ]
  },
  {
   "cell_type": "markdown",
   "metadata": {},
   "source": [
    "#### **(1) 정의** : 두 개 이상 집합 간의 논리적 관계를 표현하는 시각적 도구"
   ]
  },
  {
   "cell_type": "markdown",
   "metadata": {},
   "source": [
    "#### **(2) 예시** :\n",
    "#### &nbsp;&nbsp; ① $ A \\subset S $ \n",
    "#### **[GRAPH]**\n",
    "#### &nbsp;&nbsp; ① $ A \\subset B $ \n",
    "#### **[GRAPH]**"
   ]
  },
  {
   "cell_type": "markdown",
   "metadata": {},
   "source": [
    "<b></b>"
   ]
  },
  {
   "cell_type": "markdown",
   "metadata": {},
   "source": [
    "> ## **집합 연산(Set Opearation)**"
   ]
  },
  {
   "cell_type": "markdown",
   "metadata": {},
   "source": [
    "#### **(1) 합집합(Union)** : $ A \\cup{} B $ \n",
    "#### CONTENTS"
   ]
  },
  {
   "cell_type": "markdown",
   "metadata": {},
   "source": [
    "#### **(PLUS)** $ A_{1} \\cup{} A_{2} \\cup{} A_{3} \\cup{} A_{4} \\cdots{} \\cup A_{n} = \\cup{}_{i=1}^{n} A_{i} $"
   ]
  },
  {
   "cell_type": "markdown",
   "metadata": {},
   "source": [
    "#### **(2) 교집합(Intersection)** : $ A \\cap{} B $\n",
    "#### CONTENTS"
   ]
  },
  {
   "cell_type": "markdown",
   "metadata": {},
   "source": [
    "#### **(PLUS)** $ A_{1} \\cap{} A_{2} \\cap{} A_{3} \\cap{} A_{4} \\cdots{} \\cap A_{n} = \\cap{}_{i=1}^{n} A_{i} $"
   ]
  },
  {
   "cell_type": "markdown",
   "metadata": {},
   "source": [
    "#### **(3) 여집합(Complement)** : $ A^{c} $\n",
    "#### CONTENTS"
   ]
  },
  {
   "cell_type": "markdown",
   "metadata": {},
   "source": [
    "#### **(4) 차집합(Subtraction ; Difference)** : $ A - B = A \\cap{} B^{c} $\n",
    "#### CONTENTS"
   ]
  },
  {
   "cell_type": "markdown",
   "metadata": {},
   "source": [
    "#### **(5) 서로소 집합(Disjoint)** : $ A \\cap{} B = \\empty{} $\n",
    "#### CONTENTS"
   ]
  },
  {
   "cell_type": "markdown",
   "metadata": {},
   "source": [
    "<b></b>"
   ]
  },
  {
   "cell_type": "markdown",
   "metadata": {},
   "source": [
    "> ## **분할(Partition)**"
   ]
  },
  {
   "cell_type": "markdown",
   "metadata": {},
   "source": [
    "#### **(1) 정의** : CONTENTS"
   ]
  },
  {
   "cell_type": "markdown",
   "metadata": {},
   "source": [
    "<b></b>"
   ]
  },
  {
   "cell_type": "markdown",
   "metadata": {},
   "source": [
    "> ## **(Theorem 1)** 드 모르간의 법칙(De Morgan's Law)"
   ]
  },
  {
   "cell_type": "markdown",
   "metadata": {},
   "source": [
    "#### CONTENTS"
   ]
  },
  {
   "cell_type": "markdown",
   "metadata": {},
   "source": [
    "<b></b>"
   ]
  },
  {
   "cell_type": "markdown",
   "metadata": {},
   "source": [
    "> ## **(Theorem 2)** 분배 법칙(Distributive Law)"
   ]
  },
  {
   "cell_type": "markdown",
   "metadata": {},
   "source": [
    "#### CONTENTS"
   ]
  },
  {
   "cell_type": "markdown",
   "metadata": {},
   "source": [
    "<b></b>"
   ]
  },
  {
   "cell_type": "markdown",
   "metadata": {},
   "source": [
    "> ## **곱집합(Product Set)**"
   ]
  },
  {
   "cell_type": "markdown",
   "metadata": {},
   "source": [
    "#### **(1) 정의** : CONTENTS"
   ]
  },
  {
   "cell_type": "markdown",
   "metadata": {},
   "source": [
    "#### **(2) 예시 :**\n",
    "#### CONTENTS"
   ]
  },
  {
   "cell_type": "markdown",
   "metadata": {},
   "source": [
    "<b></b>"
   ]
  },
  {
   "cell_type": "markdown",
   "metadata": {},
   "source": [
    "> ## **집합의 크기(Cardinality)**"
   ]
  },
  {
   "cell_type": "markdown",
   "metadata": {},
   "source": [
    "#### **(1) 정의** : 집합의 요소의 개수(사이즈)\n",
    "#### = a set that contains no elements"
   ]
  },
  {
   "cell_type": "markdown",
   "metadata": {},
   "source": [
    "#### CONTENTS"
   ]
  }
 ],
 "metadata": {
  "kernelspec": {
   "display_name": "Python 3",
   "language": "python",
   "name": "python3"
  },
  "language_info": {
   "codemirror_mode": {
    "name": "ipython",
    "version": 3
   },
   "file_extension": ".py",
   "mimetype": "text/x-python",
   "name": "python",
   "nbconvert_exporter": "python",
   "pygments_lexer": "ipython3",
   "version": "3.8.18"
  },
  "orig_nbformat": 4
 },
 "nbformat": 4,
 "nbformat_minor": 2
}
