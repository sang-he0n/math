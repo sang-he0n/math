{
 "cells": [
  {
   "attachments": {},
   "cell_type": "markdown",
   "metadata": {},
   "source": [
    "# CH07.1. **Limit Theorem**"
   ]
  },
  {
   "cell_type": "markdown",
   "metadata": {},
   "source": [
    "> ## **약한 큰 수의 법칙(Weak Law of Large Number; WLLN)**"
   ]
  },
  {
   "cell_type": "markdown",
   "metadata": {},
   "source": [
    "#### **(1) 정의** : \n",
    "#### 독립항등분포(i.i.d)인 확률변수 $ \\, X_{1},\\, X_{2},\\, \\cdots{},\\, X_{n} $ 의 (산술)평균은 $ \\, n $ 이 증가할수록 $ \\, E(X_{i}) = \\mu{} $ 에 수렴할 확률이 증가함\n",
    "#### = **[CONTENTS]**\n",
    "#### $ \\Rightarrow{} \\displaystyle\\lim_{n\\rightarrow{}\\infty{}}P(|\\frac{1}{n}\\displaystyle\\sum^{n}_{i=1}X_{i}-\\mu{}|\\geq{}\\epsilon{}) = 0 \\;\\; $ for any $ \\, \\epsilon{} > 0 \\, $ and $ \\, \\mu{} < \\infty{} $ \n",
    "#### $ \\Leftrightarrow{} \\displaystyle\\lim_{n\\rightarrow{}\\infty{}}P(|\\bar{X}_{n}-\\mu{}|\\geq{}\\epsilon{}) = 0 \\;\\; $ for any $ \\, \\epsilon{} > 0 \\, $ and $ \\, \\mu{} < \\infty{} $ \n",
    "#### **[GRAPH]**"
   ]
  },
  {
   "cell_type": "markdown",
   "metadata": {},
   "source": [
    "#### **(PLUS) $ \\bar{X}_{n} $ 의 정의** : \n",
    "#### 독립항등분포(i.i.d)인 확률변수 $ \\, X_{1},\\, X_{2},\\, \\cdots{},\\, X_{n} $ 의 평균한 **확률변수**\n",
    "#### $ \\bar{X}_{n} = \\frac{X_{1}+X_{2}+\\cdots{}+X_{n}}{n} = \\frac{1}{n} \\displaystyle\\sum^{n}_{i=1}X_{i} \\;\\; $ where $ \\, i = 1,\\, 2,\\, \\cdots{},\\, n $ "
   ]
  },
  {
   "cell_type": "markdown",
   "metadata": {},
   "source": [
    "#### **(PLUS) $ \\bar{X}_{n} $ 의 기대값과 분산** : \n",
    "#### $ \\hspace{0.15cm} \\cdot{} E(\\bar{X}_{n}) = E(\\frac{X_{1}+X_{2}+\\cdots{}+X_{n}}{n}) = \\frac{E(X_{1})+E(X_{2})+\\cdots{}+E(X_{n})}{n} = \\mu{} $\n",
    "#### $ \\hspace{0.15cm} \\cdot{} \\text{var}(\\bar{X}_{n}) = \\text{var}(\\frac{X_{1}+X_{2}+\\cdots{}+X_{n}}{n}) = \\frac{1}{n^{2}} \\text{var}(X_{1}+X_{2}+\\cdots{}+X_{n}) $\n",
    "#### $ \\hspace{1.59cm} = \\frac{1}{n^{2}} (\\text{var}(X_{1})+\\text{var}(X_{2})+\\cdots{}+\\text{var}(X_{n})) \\;\\; $ ($ \\because{} \\, $ independent) \n",
    "#### $ \\hspace{1.59cm} = \\frac{1}{n} \\text{var}(X_{i}) $"
   ]
  },
  {
   "cell_type": "markdown",
   "metadata": {},
   "source": [
    "#### **(WHY?)** \n",
    "#### $ \\text{var}(X_{i}) $ 가 특정 값일때 ($ = \\text{var}(X_{i}) < \\infty{}  = \\text{var}(X_{i}) \\, $ is finite)\n",
    "#### $ P(|\\frac{1}{n}\\displaystyle\\sum^{n}_{i=1}X_{i}-\\mu{}|\\geq{}\\epsilon{}) \\leq{} \\frac{\\text{var}(X_{i})}{\\epsilon{}^{2}} \\;\\; $ ($ \\because{} \\, $ chevyshev's inequality)\n",
    "#### $ \\displaystyle\\lim{}_{n\\rightarrow{}\\infty{}} P(|\\frac{1}{n}\\displaystyle\\sum^{n}_{i=1}X_{i}-\\mu{}|\\geq{}\\epsilon{}) \\leq{} \\displaystyle\\lim{}_{n\\rightarrow{}\\infty{}} \\frac{\\text{var}(X_{i})}{\\epsilon{}^{2}} $\n",
    "#### $ \\therefore{} \\, \\displaystyle\\lim{}_{n\\rightarrow{}\\infty{}} P(|\\frac{1}{n}\\displaystyle\\sum^{n}_{i=1}X_{i}-\\mu{}|\\geq{}\\epsilon{}) = 0 $"
   ]
  },
  {
   "cell_type": "markdown",
   "metadata": {},
   "source": [
    "#### **(PLUS) 확률 수렴의 표기법** :\n",
    "#### $ \\bar{X}_{n} \\xrightarrow{\\text{p}} \\mu{} $"
   ]
  },
  {
   "cell_type": "markdown",
   "metadata": {},
   "source": [
    "<b></b>"
   ]
  },
  {
   "cell_type": "markdown",
   "metadata": {},
   "source": [
    "> ## **중심극한정리(Central Limit Theorem; CLT)**"
   ]
  },
  {
   "cell_type": "markdown",
   "metadata": {},
   "source": [
    "#### **(1) 정의** : \n",
    "#### 독립항등분포(i.i.d)인 확률변수 $ \\bar{X}_{n} $ 는 $ \\, n $ 이 증가할수록 그 분포가 표준 정규분포에 근사함\n",
    "#### = **[CONTENTS]**\n",
    "#### $ \\Rightarrow{} \\displaystyle\\lim_{n\\rightarrow{}\\infty{}}P(Z_{n}\\leq{}x) = \\varPhi(x) \\;\\; $ where $ \\, Z_{n} = \\frac{\\bar{X}_{n} - \\mu{}}{\\frac{\\text{std}(X_{i})}{\\sqrt{n}}} = \\frac{\\sum{}^{n}_{i=1}X_{i} - n\\mu{}}{\\sqrt{n}\\cdot{}\\text{std}(X_{i})}, \\;\\; X_{i} \\sim{} \\text{i.i.d}, \\;\\; \\text{var}(X_{i}) < \\infty{} $\n",
    "#### **[GRAPH]** "
   ]
  },
  {
   "cell_type": "markdown",
   "metadata": {},
   "source": [
    "#### **(WHY?)**\n",
    "#### $ Z_{n} =\\frac{\\sum{}^{n}_{i=1}X_{i} - n\\mu{}}{\\sqrt{n}\\cdot{}\\text{std}(X_{i})} = \\frac{X_{1}+X_{2}+\\cdots{}+X_{n} - n\\mu{}}{\\sqrt{n}\\cdot{}\\text{std}(X_{i})} = \\frac{Y_{1}+Y_{2}+\\cdots{}+Y_{n}}{\\sqrt{n}} \\;\\; $ where $ Y = \\frac{X_{i}-\\mu{}}{\\text{std}(X_{i})} $\n",
    "#### $ M_{Z_{n}}(s) = E(e^{sZ_{n}}) = E(e^{s\\cdot{}\\frac{Y_{1}+Y_{2}+\\cdots{}+Y_{n}}{\\sqrt{n}}}) = E(e^{s\\cdot{}\\frac{Y_{1}}{\\sqrt{n}}}e^{s\\cdot{}\\frac{Y_{2}}{\\sqrt{n}}}\\cdots{}e^{s\\cdot{}\\frac{Y_{n}}{\\sqrt{n}}}) $\n",
    "#### $ \\hspace{1.175cm} = E(e^{s\\cdot{}\\frac{Y_{1}}{\\sqrt{n}}})E(e^{s\\cdot{}\\frac{Y_{2}}{\\sqrt{n}}})\\cdots{}E(e^{s\\cdot{}\\frac{Y_{n}}{\\sqrt{n}}}) = M_{Y_{1}}(\\frac{s}{\\sqrt{n}})M_{Y_{2}}(\\frac{s}{\\sqrt{n}})\\cdots{}M_{Y_{n}}(\\frac{s}{\\sqrt{n}}) $ \n",
    "#### $ \\hspace{1.175cm} = [M_{Y_{i}}(\\frac{s}{\\sqrt{n}})]^{n} \\;\\; $ ($ \\because{} \\, $ i.i.d)\n",
    "#### $ \\displaystyle\\lim_{n\\rightarrow{}\\infty{}} M_{Z_{n}}(s) = \\displaystyle\\lim_{n\\rightarrow{}\\infty{}} [M_{Y_{i}}(\\frac{s}{\\sqrt{n}})]^{n} $ \n",
    "#### $ \\displaystyle\\lim_{n\\rightarrow{}\\infty{}} \\log{}_{e}(M_{Z_{n}}(s)) = \\displaystyle\\lim_{n\\rightarrow{}\\infty{}} \\log{}_{e}([M_{Y_{i}}(\\frac{s}{\\sqrt{n}})]^{n}) = \\displaystyle\\lim_{n\\rightarrow{}\\infty{}} n \\cdot{} \\log{}_{e}(M_{Y_{i}}(\\frac{s}{\\sqrt{n}})) $ \n",
    "#### $ \\hspace{2.8125cm} = \\displaystyle\\lim_{n\\rightarrow{}\\infty{}} \\frac{\\log{}_{e}(M_{Y_{i}}(\\frac{s}{\\sqrt{n}}))}{\\frac{1}{n}} = \\displaystyle\\lim_{t\\rightarrow{}0} \\frac{\\log{}_{e}(M_{Y_{i}}(ts))}{t^{2}} \\;\\; $ where $ \\, t = \\frac{1}{\\sqrt{n}} $\n",
    "#### $ \\hspace{2.8125cm} = \\displaystyle\\lim_{t\\rightarrow{}0} \\frac{\\frac{M'_{Y_{i}}(ts) \\cdot{} s}{M_{Y_{i}}(ts)}}{2t} = \\displaystyle\\lim_{t\\rightarrow{}0} \\frac{ s \\cdot{} M'_{Y_{i}}(ts)}{2t \\cdot{} M_{Y_{i}}(ts)} \\;\\; $ ($ \\because{} \\, $ L'hopital's rule)\n",
    "#### $ \\hspace{2.8125cm} = \\displaystyle\\lim_{t\\rightarrow{}0} \\frac{ s \\cdot{} s \\cdot{} M''_{Y_{i}}(ts)}{2 \\cdot{} M_{Y_{i}}(ts) + 2t \\cdot{} s \\cdot{} M'_{Y_{i}}(ts)} \\;\\; $ ($ \\because{} \\, $ L'hopital's rule)\n",
    "#### $ \\hspace{2.8125cm} = \\frac{s^{2}}{2} \\;\\; $ ($ \\because{} \\, M'_{Y_{i}}(s) E(Y_{i}) = 0, \\;\\; M'_{Y_{i}}(s) = E(Y_{i}^{2}) = \\text{var}(Y_{i}) - E(Y_{i}) = 1 $) \n",
    "#### $ \\displaystyle\\lim_{n\\rightarrow{}\\infty{}} M_{Z_{n}}(s) = \\displaystyle\\lim_{n\\rightarrow{}\\infty{}} e^{\\log{}_{e}(M_{Z_{n}}(s))} = e^{\\frac{s^{2}}{2}} $\n",
    "#### $ \\therefore{} \\displaystyle\\lim_{n\\rightarrow{}\\infty{}} e^{\\log{}_{e} = (M_{Z_{n}}(s))} = M_{Z}(s) \\;\\; $ where $ \\, Z \\sim{} N(0, 1) $"
   ]
  },
  {
   "cell_type": "markdown",
   "metadata": {},
   "source": [
    "#### **(PLUS)** 모든 분포에 대하여 중심극한정리가 수렴하려면 특성함수(characteristic function)로 증명해야하나 생략"
   ]
  },
  {
   "cell_type": "markdown",
   "metadata": {},
   "source": [
    "#### **(PLUS)** 일반적으로 $ \\, n > 30 \\, $ 에서부터 중심극한정리가 적용됨"
   ]
  },
  {
   "cell_type": "markdown",
   "metadata": {},
   "source": [
    "#### **(3) 예시** :\n",
    "#### $ \\hspace{0.15cm} $ ① **[CONTENTS]**\n",
    "#### $ \\hspace{0.15cm} $ ② **[CONTENTS]**"
   ]
  },
  {
   "cell_type": "markdown",
   "metadata": {},
   "source": [
    "#### **(PLUS) 분포 수렴의 표기법** :\n",
    "#### $ Z_{n} \\xrightarrow{\\text{d}} Z $"
   ]
  }
 ],
 "metadata": {
  "kernelspec": {
   "display_name": "Python 3",
   "language": "python",
   "name": "python3"
  },
  "language_info": {
   "codemirror_mode": {
    "name": "ipython",
    "version": 3
   },
   "file_extension": ".py",
   "mimetype": "text/x-python",
   "name": "python",
   "nbconvert_exporter": "python",
   "pygments_lexer": "ipython3",
   "version": "3.8.12"
  },
  "orig_nbformat": 4
 },
 "nbformat": 4,
 "nbformat_minor": 2
}
