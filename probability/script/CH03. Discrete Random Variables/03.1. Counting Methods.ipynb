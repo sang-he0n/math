{
 "cells": [
  {
   "attachments": {},
   "cell_type": "markdown",
   "metadata": {},
   "source": [
    "# CH03.1. **Discrete Random Variables**"
   ]
  },
  {
   "cell_type": "markdown",
   "metadata": {},
   "source": [
    "> ## **함수(Funtion)**"
   ]
  },
  {
   "cell_type": "markdown",
   "metadata": {},
   "source": [
    "#### **(1) 정의** : 특정 집합에서 다른 집합으로의 대응 관계를 나타내는 개념 $ f : A \\rightarrow{} B $"
   ]
  },
  {
   "cell_type": "markdown",
   "metadata": {},
   "source": [
    "#### **(2) 형태** : \n",
    "<img src=\"../../png/03.1. Counting Methods (1).png\" width=\"30%\" height=\"30%\"></img>\n",
    "#### &nbsp;&nbsp; ① 정의역(domain) : 함수에서 입력값(input)이 취할 수 있는 집합\n",
    "#### &nbsp;&nbsp; ② 공변역(codomain) : 함수에서 출력값(output)이 취할 수 있는 **전체 집합**\n",
    "#### &nbsp;&nbsp; ③ 치역(range) : 입력값이 함수를 통한 출력값과 대응되는 집합 $ = f(A) $"
   ]
  },
  {
   "cell_type": "markdown",
   "metadata": {},
   "source": [
    "#### **(PLUS)** 하나의 입력값은 2개의 산출값을 가질 수 없음"
   ]
  },
  {
   "cell_type": "markdown",
   "metadata": {},
   "source": [
    "<b></b>"
   ]
  }
 ],
 "metadata": {
  "kernelspec": {
   "display_name": "Python 3",
   "language": "python",
   "name": "python3"
  },
  "language_info": {
   "codemirror_mode": {
    "name": "ipython",
    "version": 3
   },
   "file_extension": ".py",
   "mimetype": "text/x-python",
   "name": "python",
   "nbconvert_exporter": "python",
   "pygments_lexer": "ipython3",
   "version": "3.8.18"
  },
  "orig_nbformat": 4
 },
 "nbformat": 4,
 "nbformat_minor": 2
}
