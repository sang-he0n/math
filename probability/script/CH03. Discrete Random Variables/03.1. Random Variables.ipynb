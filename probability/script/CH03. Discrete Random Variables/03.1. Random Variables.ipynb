{
 "cells": [
  {
   "attachments": {},
   "cell_type": "markdown",
   "metadata": {},
   "source": [
    "# CH03.1. **Random Variables**"
   ]
  },
  {
   "cell_type": "markdown",
   "metadata": {},
   "source": [
    "> ## **함수(Funtion)**"
   ]
  },
  {
   "cell_type": "markdown",
   "metadata": {},
   "source": [
    "#### **(1) 정의** : 특정 집합에서 다른 집합으로의 대응 관계를 나타내는 개념\n",
    "#### = **[CONTENTS]**\n",
    "#### $ \\Rightarrow{} f : A \\rightarrow{} B $"
   ]
  },
  {
   "cell_type": "markdown",
   "metadata": {},
   "source": [
    "#### **(2) 형식** : \n",
    "<img src=\"../../png/03.1. Counting Methods (1).png\" width=\"30%\" height=\"30%\"></img>\n",
    "#### &nbsp;&nbsp; ① 정의역(domain) : 함수에서 입력값(input)이 취할 수 있는 집합\n",
    "#### &nbsp;&nbsp; ② 공변역(codomain) : 함수에서 출력값(output)이 취할 수 있는 **전체 집합**\n",
    "#### &nbsp;&nbsp; ③ 치역(range) : 입력값이 함수를 통한 출력값과 대응되는 집합 $ = f(A) = f( \\{ x|x\\in{}A \\} ) $"
   ]
  },
  {
   "cell_type": "markdown",
   "metadata": {},
   "source": [
    "#### **(PLUS)** 하나의 입력값은 2개 이상의 산출값을 가질 수 없음"
   ]
  },
  {
   "cell_type": "markdown",
   "metadata": {},
   "source": [
    "<b></b>"
   ]
  },
  {
   "cell_type": "markdown",
   "metadata": {},
   "source": [
    "> ## **확률 변수(Random Variable)**"
   ]
  },
  {
   "cell_type": "markdown",
   "metadata": {},
   "source": [
    "#### **(1) 정의** : 표본공간에서 실수로 대응되는 함수\n",
    "#### = a function from the discrete sample space to the real numbers \n",
    "#### $ \\Rightarrow X : S \\rightarrow{} \\mathbb{R} $"
   ]
  },
  {
   "cell_type": "markdown",
   "metadata": {},
   "source": [
    "#### **(PLUS) 확률 변수의 치역** : \n",
    "#### 학률 변수 $ \\; X $ 의 치역은 $ \\; X $ 가 가질 수 있는 모든 값의 집합 $ = X(S) $ "
   ]
  },
  {
   "cell_type": "markdown",
   "metadata": {},
   "source": [
    "#### **(2) 종류** : \n",
    "#### &nbsp;&nbsp; ① 이산확률변수(Discrete Random Variable)\n",
    "#### &nbsp;&nbsp; ② 연속확률변수(Continuous Random Variable)"
   ]
  },
  {
   "cell_type": "markdown",
   "metadata": {},
   "source": [
    "#### **(3) 예시** : \n",
    "#### &nbsp;&nbsp; ① 주사위를 $ \\; 2 $ 번 굴렸을 때 나올 수 있는 모든 결과를 $ \\; S $, $ \\; X $ 를 주사위 눈의 합이면\n",
    "#### &nbsp;&nbsp;&nbsp;&nbsp;&nbsp;&nbsp; $ S = \\{ (1,1),\\; (1,2),\\; (1,3),\\; \\cdots{},\\; (6,6) \\} $\n",
    "#### &nbsp;&nbsp;&nbsp;&nbsp;&nbsp;&nbsp; $ X : \\;\\;\\;\\;\\; 2, \\;\\;\\;\\;\\;\\;\\;\\; 3, \\;\\;\\;\\;\\;\\;\\;\\;\\; 4,\\; \\;\\; \\cdots{}, \\;\\;\\; 12 $\n",
    "#### &nbsp;&nbsp;&nbsp;&nbsp;&nbsp;&nbsp; $ X \\in{} \\{ 2,\\; 3,\\; ,\\; \\cdots{},\\; 12 \\} $\n",
    "#### &nbsp;&nbsp;&nbsp;&nbsp;&nbsp;&nbsp; $ \\therefore{} \\; X(S) = \\{ 2,\\; 3,\\; ,\\; \\cdots{},\\; 12 \\} \\;\\; $ ($ X \\; $ is countable finite set) \n",
    "#### &nbsp;&nbsp; ② 동전을 앞면이 나올때까지 던졌을 때 $ \\; i $ 번째에서 앞면이 나올 경우를 $ \\; Y $ 라고 한다면\n",
    "#### &nbsp;&nbsp;&nbsp;&nbsp;&nbsp;&nbsp; $ S = \\{ H,\\; (T,H),\\; (T,T,H),\\; \\cdots{} \\} $\n",
    "#### &nbsp;&nbsp;&nbsp;&nbsp;&nbsp;&nbsp; $ Y \\in{} \\{ 1,\\; 2,\\; 3,\\; 4,\\; 5,\\; \\cdots{} \\} $ \n",
    "#### &nbsp;&nbsp;&nbsp;&nbsp;&nbsp;&nbsp; $ \\therefore{} \\; Y(S) = \\{ 1,\\; 2,\\; 3,\\; 4,\\; 5,\\; \\cdots{} \\} \\;\\; $ ($ Y \\; $ is countable infinite set)\n",
    "#### &nbsp;&nbsp; ③ 현재 시점부터 운석이 지구에 충돌까지 걸리는 시간(초)을 $ \\; T $ 라고 할 때\n",
    "#### &nbsp;&nbsp;&nbsp;&nbsp;&nbsp;&nbsp; $ S = \\{ 0,\\; 0.1,\\; 0.001,\\; \\cdots{} \\} $ \n",
    "#### &nbsp;&nbsp;&nbsp;&nbsp;&nbsp;&nbsp; $ T \\in{} [ 0,\\; \\inf{} ) $ \n",
    "#### &nbsp;&nbsp;&nbsp;&nbsp;&nbsp;&nbsp; $ \\therefore{} \\; T(S) = [ 0,\\; \\inf{} ) \\;\\; $ ($ T \\; $ is uncountable infinite set)"
   ]
  },
  {
   "cell_type": "markdown",
   "metadata": {},
   "source": [
    "<b></b>"
   ]
  },
  {
   "cell_type": "markdown",
   "metadata": {},
   "source": [
    "> ## **독립 확률 변수(Independent Random Variable)**"
   ]
  },
  {
   "cell_type": "markdown",
   "metadata": {},
   "source": [
    "#### **(1) 정의** : **[CONTENTS]**\n",
    "#### = **[CONTENTS]**"
   ]
  },
  {
   "cell_type": "markdown",
   "metadata": {},
   "source": [
    "<b></b>"
   ]
  },
  {
   "cell_type": "markdown",
   "metadata": {},
   "source": [
    "<b></b>"
   ]
  },
  {
   "cell_type": "markdown",
   "metadata": {},
   "source": [
    "<b></b>"
   ]
  }
 ],
 "metadata": {
  "kernelspec": {
   "display_name": "Python 3",
   "language": "python",
   "name": "python3"
  },
  "language_info": {
   "codemirror_mode": {
    "name": "ipython",
    "version": 3
   },
   "file_extension": ".py",
   "mimetype": "text/x-python",
   "name": "python",
   "nbconvert_exporter": "python",
   "pygments_lexer": "ipython3",
   "version": "3.8.18"
  },
  "orig_nbformat": 4
 },
 "nbformat": 4,
 "nbformat_minor": 2
}
