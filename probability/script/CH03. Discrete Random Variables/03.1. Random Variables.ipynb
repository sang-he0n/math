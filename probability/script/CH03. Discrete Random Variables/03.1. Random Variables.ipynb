{
 "cells": [
  {
   "attachments": {},
   "cell_type": "markdown",
   "metadata": {},
   "source": [
    "# CH03.1. **Random Variables**"
   ]
  },
  {
   "cell_type": "markdown",
   "metadata": {},
   "source": [
    "> ## **함수(Funtion)**"
   ]
  },
  {
   "cell_type": "markdown",
   "metadata": {},
   "source": [
    "#### **(1) 정의** : 특정 집합에서 다른 집합으로의 대응 관계를 나타내는 개념\n",
    "#### = a concept that represents the correspondence from one set to another\n",
    "#### $ \\Rightarrow{} f : A \\rightarrow{} B $"
   ]
  },
  {
   "cell_type": "markdown",
   "metadata": {},
   "source": [
    "#### **(2) 형식** : \n",
    "<img src=\"../../png/03.1. Random Variables (1).png\" width=\"30%\" height=\"30%\"></img>\n",
    "#### $ \\hspace{0.15cm} $ ① 정의역(domain) : 함수에서 입력값(input)이 취할 수 있는 집합\n",
    "#### $ \\hspace{0.15cm} $ ② 공변역(codomain) : 함수에서 출력값(output)이 취할 수 있는 **전체 집합**\n",
    "#### $ \\hspace{0.15cm} $ ③ 치역(range) : 입력값이 함수를 통한 출력값과 대응되는 집합 $ = R_{X}(x)= f(A) = f( \\{ x|x\\in{}A \\} ) $"
   ]
  },
  {
   "cell_type": "markdown",
   "metadata": {},
   "source": [
    "#### **(PLUS)** 하나의 입력값은 2개 이상의 산출값을 가질 수 없음"
   ]
  },
  {
   "cell_type": "markdown",
   "metadata": {},
   "source": [
    "<b></b>"
   ]
  },
  {
   "cell_type": "markdown",
   "metadata": {},
   "source": [
    "> ## **확률변수(Random Variable)**"
   ]
  },
  {
   "cell_type": "markdown",
   "metadata": {},
   "source": [
    "#### **(1) 정의** : 표본공간의 결과들을 특정한 규칙에 의해 실수로 대응되는 함수\n",
    "#### = a function from the sample space to the real number according to a certain rule\n",
    "#### $ \\Rightarrow X : S \\rightarrow{} \\mathbb{R} $"
   ]
  },
  {
   "cell_type": "markdown",
   "metadata": {},
   "source": [
    "#### **(2) 종류와 형식** : \n",
    "#### $ \\hspace{0.15cm} $ ① 이산확률변수(Discrete Random Variable)\n",
    "<img src=\"../../png/03.1. Random Variables (2).png\" width=\"30%\" height=\"30%\"></img>"
   ]
  },
  {
   "cell_type": "markdown",
   "metadata": {},
   "source": [
    "#### ※ $ x_{1} = X(s_{1}) $"
   ]
  },
  {
   "cell_type": "markdown",
   "metadata": {},
   "source": [
    "#### $ \\hspace{0.15cm} $ ② 연속확률변수(Continuous Random Variable)\n",
    "<img src=\"../../png/03.1. Random Variables (3).png\" width=\"30%\" height=\"30%\"></img>"
   ]
  },
  {
   "cell_type": "markdown",
   "metadata": {},
   "source": [
    "#### **(PLUS) 확률 변수의 치역(range)** : \n",
    "#### 학률 변수 $ \\; X $ 의 치역은 $ \\; X $ 가 가질 수 있는 모든 값의 집합 $ = X(S) $ "
   ]
  },
  {
   "cell_type": "markdown",
   "metadata": {},
   "source": [
    "#### **(3) 예시** : \n",
    "#### $ \\hspace{0.15cm} $ ① 주사위를 $ \\; 2 $ 번 굴렸을 때 나올 수 있는 모든 결과를 $ \\; S $, 확률변수 $ \\; X $ 를 주사위 눈의 합이면\n",
    "#### $ \\hspace{0.6cm} S = \\{ (1,1),\\; (1,2),\\; (1,3),\\; \\cdots{},\\; (6,6) \\} $\n",
    "#### $ \\hspace{0.6cm} X = \\{ X(1,1),\\; X(1,2),\\; X(1,3),\\; \\cdots{},\\; X(6,6) \\} = \\{ 2,\\; 3,\\; 4,\\; \\cdots{},\\; 12 \\} $\n",
    "#### $ \\hspace{0.6cm} X \\in{} \\{ 2,\\; 3,\\; \\cdots{},\\; 12 \\} $\n",
    "#### $ \\hspace{0.6cm} \\therefore{} \\; X(S) = \\{ 2,\\; 3,\\; \\cdots{},\\; 12 \\} \\;\\; $ ($ X \\; $ is a countable finite set $ \\rightarrow{} $ discrete random variable) \n",
    "#### $ \\hspace{0.15cm} $ ② 동전을 앞면이 나올때까지 던졌을 때 $ \\; i $ 번째에서 앞면이 나올 경우를 확률변수$ \\; Y $ 라고 한다면\n",
    "#### $ \\hspace{0.6cm} S = \\{ H,\\; (T,H),\\; (T,T,H),\\; \\cdots{} \\} $\n",
    "#### $ \\hspace{0.6cm} Y = \\{ X(H),\\; X(TH),\\; X(TTH),\\; \\cdots{} \\} = \\{ 1,\\; 2,\\; 3,\\; \\cdots{} \\} $\n",
    "#### $ \\hspace{0.6cm} Y \\in{} \\{ 1,\\; 2,\\; 3,\\; 4,\\; 5,\\; \\cdots{} \\} $ \n",
    "#### $ \\hspace{0.6cm} \\therefore{} \\; Y(S) = \\{ 1,\\; 2,\\; 3,\\; 4,\\; 5,\\; \\cdots{} \\} \\;\\; $ ($ Y \\; $ is a countable infinite set $ \\rightarrow{} $ discrete random variable)\n",
    "#### $ \\hspace{0.15cm} $ ③ 현재 시점부터 운석이 지구에 충돌까지 걸리는 시간(초)을 확률변수 $ \\; T $ 라고 할 때\n",
    "#### $ \\hspace{0.6cm} S = \\{ 0,\\; 0.1,\\; 0.001,\\; \\cdots{} \\} $ \n",
    "#### $ \\hspace{0.6cm} T \\in{} [ 0,\\; \\inf{} ) $ \n",
    "#### $ \\hspace{0.6cm} \\therefore{} \\; T(S) = [ 0,\\; \\inf{} ) \\;\\; $ ($ T \\; $ is a uncountable infinite set $ \\rightarrow{} $ continuous random variable)"
   ]
  }
 ],
 "metadata": {
  "kernelspec": {
   "display_name": "Python 3",
   "language": "python",
   "name": "python3"
  },
  "language_info": {
   "codemirror_mode": {
    "name": "ipython",
    "version": 3
   },
   "file_extension": ".py",
   "mimetype": "text/x-python",
   "name": "python",
   "nbconvert_exporter": "python",
   "pygments_lexer": "ipython3",
   "version": "3.8.18"
  },
  "orig_nbformat": 4
 },
 "nbformat": 4,
 "nbformat_minor": 2
}
