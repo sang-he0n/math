{
 "cells": [
  {
   "attachments": {},
   "cell_type": "markdown",
   "metadata": {},
   "source": [
    "# CH03.2. **Discrete Random Variables**"
   ]
  },
  {
   "cell_type": "markdown",
   "metadata": {},
   "source": [
    "> ## **이산확률변수(Discrete Random Variable)**"
   ]
  },
  {
   "cell_type": "markdown",
   "metadata": {},
   "source": [
    "#### **(1) 정의** : 표본공간과 치역이 가산 집합인 확률 변수\n",
    "#### = a random variable if its range and sample space are countable\n",
    "#### $ \\Rightarrow{} X : S \\rightarrow{} \\mathbb{R} \\;\\; $ where $ \\; S \\; $ and $ \\; X(S) \\; $ is countable"
   ]
  },
  {
   "cell_type": "markdown",
   "metadata": {},
   "source": [
    "#### **(2) 사건의 표현** : \n",
    "#### 어떠한 가산 사건 $ A = \\{ s_{1},\\; s_{2},\\; \\cdots{},\\; s_{5} \\} $ 을 확률변수 $ \\; X $ 로 표현하면\n",
    "<img src=\"../../png/03.2. Discrete Random Variables (1).png\" width=\"25%\" height=\"25%\"></img>\n",
    "#### $ \\hspace{0.6cm} \\{ X=x_{1} \\} = \\{s_{1},\\; s_{2} \\} $\n",
    "#### $ \\hspace{0.6cm} \\{ X=x_{2} \\} = \\{s_{3} \\} $\n",
    "#### $ \\hspace{0.6cm} \\{ X=x_{3} \\} = \\{s_{4},\\; s_{5} \\} $\n",
    "#### $ \\hspace{0.6cm} A = \\{ X = x_{1} \\} \\cup{} \\{ X = x_{2} \\} \\cup{} \\{ X = x_{3} \\} = \\{ X \\in \\{ x_{1},\\; x_{2},\\; x_{3} \\} \\} = X(S) $"
   ]
  },
  {
   "cell_type": "markdown",
   "metadata": {},
   "source": [
    "#### **(PLUS)** $ \\; i \\neq{} k $일 때 $ \\; \\{ X = x_{i} \\} $ 와 $ \\; \\{ X = x_{k} \\} $ 는 서로소(disjoint) 관계임"
   ]
  },
  {
   "cell_type": "markdown",
   "metadata": {},
   "source": [
    "<b></b>"
   ]
  },
  {
   "cell_type": "markdown",
   "metadata": {},
   "source": [
    "> ## **이산확률변수의 독립(Independence of Discrete Random Variable)**"
   ]
  },
  {
   "cell_type": "markdown",
   "metadata": {},
   "source": [
    "#### **(1) 정의** : 한 개의 확률변수들이 다른 확률변수들과 영향을 미치지 않는 관계\n",
    "#### = a relationship where one or more random variables do not influence each other\n",
    "#### $ \\Rightarrow{} P(\\{X_{1}=x_{1}\\}\\cap{}\\{X_{2}=x_{2}\\}) = P(X_{1}=x_{1})P(X_{2}=x_{2}) $\n",
    "#### $ \\Leftrightarrow{} P(\\{X_{1}=x_{1}\\}|\\{X_{2}=x_{2}\\}) = P(X_{1}=x_{1}) $\n",
    "#### $ \\Leftrightarrow{} P(\\{X_{2}=x_{2}\\}|\\{X_{1}=x_{1}\\}) = P(X_{2}=x_{2}) $"
   ]
  },
  {
   "cell_type": "markdown",
   "metadata": {},
   "source": [
    "#### **(2) 예시** : \n",
    "#### $ \\hspace{0.15cm} $ ① 동전을 $ \\; 4 $ 번 던졌을 때 동전이 앞면(HEAD)이 나올 확률을 $ P(H) = 0.5 $ 라고 할 경우\n",
    "#### $ \\hspace{0.6cm} X \\; $ : $ 1,\\; 2 $ 번 째 시행 중 앞면이 나온 횟수, $ \\; X(S) = \\{ 0,\\; 1,\\; 2 \\} $\n",
    "#### $ \\hspace{0.6cm} Y \\; $ : $ 3,\\; 4 $ 번 째 시행 중 앞면이 나온 횟수, $ \\; Y(S) = \\{ 0,\\; 1,\\; 2 \\} $\n",
    "#### $ \\hspace{0.6cm} P({X=0}\\cap{}{Y=0}) = P(TTTT) = {{1}\\over{16}} = P(X=0)P(Y=0) = {{1}\\over{4}} \\times{} {{1}\\over{4}} $\n",
    "#### $ \\hspace{0.6cm} P({X=0}\\cap{}{Y=1}) = P(\\{HHTH,\\; HHHT\\}) = {{2}\\over{16}} = P(X=0)P(Y=1) = {{1}\\over{4}} \\times{} {{2}\\over{4}} $\n",
    "#### $ \\hspace{0.6cm} \\cdots{} $\n",
    "#### $ \\hspace{0.6cm} P({X=2}\\cap{}{Y=2}) = P(\\{HHHH\\}) = {{1}\\over{16}} = P(X=2)P(Y=2) = {{1}\\over{4}} \\times{} {{1}\\over{4}} $"
   ]
  },
  {
   "cell_type": "markdown",
   "metadata": {},
   "source": [
    "<b></b>"
   ]
  },
  {
   "cell_type": "markdown",
   "metadata": {},
   "source": [
    "> ## (Theorem 3-1) **독립 이산확률변수의 부분집합**"
   ]
  },
  {
   "cell_type": "markdown",
   "metadata": {},
   "source": [
    "#### 두 이산확률변수 $ \\; X,\\; Y $ 가 독립 관계일 때 아래의 수식이 성립한다.\n",
    "#### $ P(\\{X\\in{}A\\}\\cap{}\\{Y\\in{}B\\}) = P(\\{X\\in{}A\\})P(\\{Y\\in{}B\\}), \\;\\; $ for all sets $ \\; A  \\; $ and $ \\; B $"
   ]
  },
  {
   "cell_type": "markdown",
   "metadata": {},
   "source": [
    "#### **(WHY?)**\n",
    "#### **[LATEX]**"
   ]
  },
  {
   "cell_type": "markdown",
   "metadata": {},
   "source": [
    "#### **(PLUS) $ \\; n $ 개 이상의 확률변수들이 독립 관계일 때 성질** :\n",
    "#### $ P(\\{X_{1}=x_{1}\\}\\cap{}\\{X_{2}=x_{2}\\}\\cap{}\\cdots{}\\cap{}\\{X_{n}=x_{n}\\}) = P(X_{1}=x_{1})P(X_{2}=x_{2})\\cdots{}P(X_{n}=x_{n}) $"
   ]
  },
  {
   "cell_type": "markdown",
   "metadata": {},
   "source": [
    "<b></b>"
   ]
  },
  {
   "cell_type": "markdown",
   "metadata": {},
   "source": [
    "> ## **확률질량함수(Probability Mass Function)**"
   ]
  },
  {
   "cell_type": "markdown",
   "metadata": {},
   "source": [
    "#### **(1) 정의** : 이산확률변수를 확률값과 대응시킨 함수\n",
    "#### = a function mapping a discrete random variable to its probability values\n",
    "#### $ \\Rightarrow{} P_{X}(x) = P(X=x), \\; x \\in{} X(S) $"
   ]
  },
  {
   "cell_type": "markdown",
   "metadata": {},
   "source": [
    "#### **(PLUS)** 편의상 이산확률변수의 전체 정의역(domain; $  \\mathbb{R} $)을 기준으로 확률질량함수를 정의하기도 함\n",
    "#### $ \\Rightarrow{} P(X=x) = \\begin{cases} P(X=x), \\;\\; x \\in{} X(S) \\\\ 0,\\;\\;\\;\\;\\;\\;\\;\\;\\;\\;\\;\\;\\;\\;\\;\\; x \\not\\in{} X(S) \\end{cases}$"
   ]
  },
  {
   "cell_type": "markdown",
   "metadata": {},
   "source": [
    "#### **(2) 확률의 표현** : \n",
    "#### 어떠한 가산 사건 $ A = \\{ s_{1},\\; s_{2},\\; \\cdots{},\\; s_{5} \\} $ 을 확률변수 $ \\; X $ 로 표현하면\n",
    "<img src=\"../../png/03.2. Discrete Random Variables (2).png\" width=\"40%\" height=\"40%\"></img>\n",
    "#### $ \\hspace{0.15cm} $ ① 점(point) 확률의 표현\n",
    "#### $ \\hspace{0.6cm} P(X=x_{1}) = P(\\{ X=x_{1} \\}) = P(\\{s_{1},\\; s_{2} \\}) $\n",
    "#### $ \\hspace{0.6cm} P(X=x_{2}) = P(\\{ X=x_{2} \\}) = P(\\{s_{3} \\}) $\n",
    "#### $ \\hspace{0.6cm} P(X=x_{3}) = P(\\{ X=x_{3} \\}) = P(\\{s_{4},\\; s_{5} \\}) $"
   ]
  },
  {
   "cell_type": "markdown",
   "metadata": {},
   "source": [
    "#### **(3) 성질** :\n",
    "#### $ \\hspace{0.15cm} $ ① $ \\; 0 \\leq{} P(X=x) \\leq{} 1 \\;\\; $ for all $ \\; x $\n",
    "#### $ \\hspace{0.15cm} $ ② $ \\; \\displaystyle\\sum_{x\\in{}X(S)} P(X=x) = 1 $\n",
    "#### $ \\hspace{0.15cm} $ ③ 어떠한 부분집합 $ \\; A \\subset{} X(S) $ 을 만족할 때, $ \\; P(X\\in{}A) = \\displaystyle\\sum_{x\\in{}A}P(X=x) $\n",
    "#### $ \\hspace{0.15cm} $ ④ 어떠한 부분집합 $ \\; A \\subset{} \\mathbb{R} $ 을 만족할 때, $ \\; P(X\\in{}A) = \\displaystyle\\sum_{x\\in{}(A\\cap{}X(S))}P(X=x) $"
   ]
  },
  {
   "cell_type": "markdown",
   "metadata": {},
   "source": [
    "#### **(4) 예시** : \n",
    "#### $ \\hspace{0.15cm} $ ① 공평한 동전을 $ \\; 2 $ 번 던졌을 때 나오는 표본 공간 $ \\; S $ 와 앞면이 나오는 개수를 확률 변수 $ X $ 라고 정의한다면\n",
    "#### $ \\hspace{0.6cm} S = \\{ \\text{HH},\\; \\text{HT},\\; \\text{TH},\\; \\text{TT} \\} $\n",
    "#### $ \\hspace{0.6cm} X = \\{ 0,\\; 1,\\; 2 \\} $\n",
    "#### $ \\hspace{0.6cm} P_{X}(x) = P(X=x), \\; x \\in{} \\{ 0,\\; 1,\\; 2 \\} = X(S) $\n",
    "#### $ \\hspace{1.625cm} = \\begin{cases} P(X=0) = P(\\{HH\\}) = {{1}\\over{4}}, \\;\\;\\;\\;\\;\\;\\;\\;\\;\\; x = 0 \\\\ P(X=1) = P(\\{HT,\\; TH\\}) = {{2}\\over{4}},\\;\\; x = 1 \\\\ P(X=2) = P(\\{TT\\}) = {{1}\\over{4}}, \\;\\;\\;\\;\\;\\;\\;\\;\\;\\;\\;\\; x=2 \\\\ 0, \\;\\;\\;\\;\\;\\;\\;\\;\\;\\;\\;\\;\\;\\;\\;\\;\\;\\;\\;\\;\\;\\;\\;\\;\\;\\;\\;\\;\\;\\;\\;\\;\\;\\;\\;\\;\\;\\;\\;\\;\\;\\;\\;\\;\\;\\;\\;\\;\\;\\;\\; x \\not\\in{} \\{ 0,\\; 1,\\; 2 \\} \\end{cases} $\n",
    "<img src=\"../../png/03.2. Discrete Random Variables (3).png\" width=\"40%\" height=\"40%\"></img>"
   ]
  },
  {
   "cell_type": "markdown",
   "metadata": {},
   "source": [
    "#### **(PLUS)** $ P(0 \\leq{} X \\leq{} 1 ) = P(X=1) + P(X=2) = {{1}\\over{4}} + {{2}\\over{4}} = {{3}\\over{4}}$"
   ]
  },
  {
   "cell_type": "markdown",
   "metadata": {},
   "source": [
    "<b></b>"
   ]
  },
  {
   "cell_type": "markdown",
   "metadata": {},
   "source": [
    "> ## **누적분포함수(Cumulative Distribution Function)**"
   ]
  },
  {
   "cell_type": "markdown",
   "metadata": {},
   "source": [
    "#### **(1) 정의** : 확률변수의 값이 특정 값 **이하**일 확률을 나타내는 함수\n",
    "#### = a function giving the probability a random variable is less than or equal to a value\n",
    "#### $ \\Rightarrow{} F(X=x) = P(X\\leq{}x) = \\displaystyle\\sum_{i \\leq{} x} P(X=i) $"
   ]
  },
  {
   "cell_type": "markdown",
   "metadata": {},
   "source": [
    "#### **(2) 성질** :\n",
    "#### $ \\hspace{0.15cm} $ ① $ \\displaystyle\\lim_{x \\rightarrow{} \\infty{}} F(X=x) = 1 $\n",
    "#### $ \\hspace{0.15cm} $ ② $ \\displaystyle\\lim_{x \\rightarrow{} -\\infty{}} F(X=x) = 0 $\n",
    "#### $ \\hspace{0.15cm} $ ③ $ \\; P(a\\leq{}X\\leq{}b) = \\displaystyle\\sum_{a\\leq{}x\\leq{}b}P(X=x) $\n",
    "#### $ \\hspace{2.83cm} = F(X=b) - F(X=a) $ \n",
    "#### $ \\hspace{0.15cm} $ ④ $ \\; F(x < a) = F(X=a) - P(X=a) $"
   ]
  },
  {
   "cell_type": "markdown",
   "metadata": {},
   "source": [
    "#### **(3) 예시** : \n",
    "#### $ \\hspace{0.15cm} $ ① 공평한 동전을 $ \\; 2 $ 번 던졌을 때 나오는 표본 공간 $ \\; S $ 와 앞면이 나오는 개수를 확률 변수 $ X $ 라고 정의한다면\n",
    "#### $ \\hspace{0.6cm} P(X=x) = \\begin{cases} {{1}\\over{4}}, \\;\\; x = 0 \\\\ {{2}\\over{4}},\\;\\; x = 1 \\\\ {{1}\\over{4}}, \\;\\; x=2 \\\\ 0, \\;\\; x \\not\\in{} \\{ 0,\\; 1,\\; 2 \\} \\end{cases} $\n",
    "#### $ \\hspace{0.6cm} F(X=x) = \\begin{cases} 0, \\;\\; x < 0 \\\\ {{1}\\over{4}}, \\;\\; 0 \\leq{} x < 1 \\\\ {{3}\\over{4}}, \\;\\; 1 \\leq{} x < 2 \\\\ 1, \\;\\; x \\geq{} 2 \\end{cases} $\n",
    "<img src=\"../../png/03.2. Discrete Random Variables (4).png\" width=\"40%\" height=\"40%\"></img>"
   ]
  },
  {
   "cell_type": "markdown",
   "metadata": {},
   "source": [
    "<b></b>"
   ]
  },
  {
   "cell_type": "markdown",
   "metadata": {},
   "source": [
    "> ## **이산확률변수의 기댓값(Expected Value of Discrete Random Variable)**"
   ]
  },
  {
   "cell_type": "markdown",
   "metadata": {},
   "source": [
    "#### **(1) 정의** : 실험이나 과정이 무한히 반복할 때 얻을 수 있는 이산확률변수의 예상되는 값\n",
    "#### = a expected value of a discrete random variable from an infinitely repeated experiment\n",
    "#### $ \\Rightarrow{} E[X] = E(X) = \\mu{} = \\displaystyle\\sum_{x_{i}\\in{}X(S)} x_{i} \\times{} P(X=x_{i}) $"
   ]
  },
  {
   "cell_type": "markdown",
   "metadata": {},
   "source": [
    "#### **(2) 성질** (Theorem 3-4. 기대값의 선형성) :\n",
    "#### $ \\hspace{0.15cm} $ ① $ E(aX+b) = aE(X) + b $\n",
    "#### $ \\hspace{0.15cm} $ ② $ E(X_{1}+X_{2}+\\cdots{}+X_{n}) = E(X_{1}) + E(X_{2}) + \\cdots{} + E(X_{n}) $"
   ]
  },
  {
   "cell_type": "markdown",
   "metadata": {},
   "source": [
    "#### **(WHY?)** CH05.2. 이산결합확률변수의 합성함수 참고"
   ]
  },
  {
   "cell_type": "markdown",
   "metadata": {},
   "source": [
    "<b></b>"
   ]
  },
  {
   "cell_type": "markdown",
   "metadata": {},
   "source": [
    "> ## **이산확률변수의 분산(Variance of Discrete Random Variable)**"
   ]
  },
  {
   "cell_type": "markdown",
   "metadata": {},
   "source": [
    "#### **(1) 정의** : 기대값으로부터 얼마나 떨어져 있는지를 측정한 값(지표)\n",
    "#### = a measure of how far discrete random variables are from the expected value\n",
    "#### $ \\Rightarrow{} \\text{var}(X) = E[(X-E(X))^{2}] $\n",
    "#### $ \\hspace{1.65cm} = E[X^{2} - 2E(X)\\cdot{}X + E(X)^{2}] $\n",
    "#### $ \\hspace{1.65cm} = E[X^{2}] - 2E[X\\cdot{}E(X)] + E[E(X)^{2}] $\n",
    "#### $ \\hspace{1.65cm} = E[X^{2}] - 2E(X)E[X] + E(X)^{2} \\;\\; $ ($ \\because{} \\; E(X) \\; $ is constant)\n",
    "#### $ \\hspace{1.65cm} = E[X^{2}] - 2E(X)^{2} + E(X)^{2} $\n",
    "#### $ \\hspace{1.65cm} = E[X^{2}] - E(X)^{2} $"
   ]
  },
  {
   "cell_type": "markdown",
   "metadata": {},
   "source": [
    "#### **(PLUS)** 표준편차는 제곱에 따른 단위 왜곡이 일어나기 때문에, 이를 보정한($ \\sqrt{} $를 취한) 값임\n",
    "#### $ \\Rightarrow{} \\text{std}(X) = \\sqrt{\\text{var}(X)} = \\sqrt{E[(X-E(X))^{2}]} $"
   ]
  },
  {
   "cell_type": "markdown",
   "metadata": {},
   "source": [
    "#### **(2) 성질** :\n",
    "#### $ \\hspace{0.15cm} $ ① $ \\text{var}(aX+b) = a^{2}\\text{var}(X) $\n",
    "#### $ \\hspace{0.15cm} $ ② **독립적인** 이산확률변수 $ \\; X_{i} \\;\\; (i=1,\\;2,\\;\\cdots{},\\,n)$ 에 대하여, \n",
    "#### $ \\hspace{0.6cm} \\text{var}(X_{1}+X_{2}+\\cdots{}+X_{n}) = \\text{var}(X_{1}) + \\text{var}(X_{2}) + \\cdots{} + \\text{var}(X_{n}) $"
   ]
  },
  {
   "cell_type": "markdown",
   "metadata": {},
   "source": [
    "#### **(WHY?)** CH05.4. Covariance 참고"
   ]
  },
  {
   "cell_type": "markdown",
   "metadata": {},
   "source": [
    "#### **(PLUS)** 분산은 선형성(linearlity)을 만족하지 않음"
   ]
  },
  {
   "cell_type": "markdown",
   "metadata": {},
   "source": [
    "<b></b>"
   ]
  },
  {
   "cell_type": "markdown",
   "metadata": {},
   "source": [
    "> ## **이산확률변수의 합성함수(Composite Function of Discrete Random Variable)**"
   ]
  },
  {
   "cell_type": "markdown",
   "metadata": {},
   "source": [
    "#### **(1) 정의** : 이산확률변수를 다른 실수 공간으로 대응시킨 **확률 변수**\n",
    "#### = a discrete random variable mapped to another real space\n",
    "#### $ \\Rightarrow{} Z = g \\circ{} X = g(X) : S \\rightarrow{} \\mathbb{R} $\n",
    "<img src=\"../../png/03.2. Discrete Random Variables (5).png\" width=\"40%\" height=\"40%\"></img>\n",
    "#### $ \\hspace{0.6cm} \\{ Y=y_{1} \\} = \\{ x_{1},\\; x_{2} \\} = \\{s_{1},\\; s_{2},\\; s_{3} \\} $\n",
    "#### $ \\hspace{0.6cm} \\{ Y=y_{2} \\} = \\{ x_{3} \\} = \\{s_{4},\\; s_{5} \\} $\n"
   ]
  },
  {
   "cell_type": "markdown",
   "metadata": {},
   "source": [
    "#### **(2) 합성함수의 확률** :\n",
    "#### $ P(Y=y_{k}) = P(f(X)=y_{k}) $\n",
    "#### $ \\hspace{1.65cm} = \\displaystyle\\sum_{x_{i}:f(X) = y_{k} } P(X=x_{i}) $"
   ]
  },
  {
   "cell_type": "markdown",
   "metadata": {},
   "source": [
    "#### **(3) 합성함수의 기댓값 (무의식적 통계학자의 법칙;LOTUS)** :\n",
    "#### 이산확률변수 $ \\; Y $ 가 이산확률변수 $ X $의 관계로 표현될 때\n",
    "#### $ E(Y) = E(g(X)) = \\displaystyle\\sum_{x_{i}\\in{}X(S)} g(X_{i})P(X=x_{i}) $"
   ]
  },
  {
   "cell_type": "markdown",
   "metadata": {},
   "source": [
    "#### **(4) 합성함수의 분산 (무의식적 통계학자의 법칙;LOTUS)** :\n",
    "#### 이산확률변수 $ \\; Y $ 가 이산확률변수 $ X $의 관계로 표현될 때\n",
    "#### $ \\text{var}(Y) = E[(Y-E(Y))^{2}] = E(Y^{2}) - (E(Y))^{2} $"
   ]
  }
 ],
 "metadata": {
  "kernelspec": {
   "display_name": "Python 3",
   "language": "python",
   "name": "python3"
  },
  "language_info": {
   "codemirror_mode": {
    "name": "ipython",
    "version": 3
   },
   "file_extension": ".py",
   "mimetype": "text/x-python",
   "name": "python",
   "nbconvert_exporter": "python",
   "pygments_lexer": "ipython3",
   "version": "3.8.18"
  },
  "orig_nbformat": 4
 },
 "nbformat": 4,
 "nbformat_minor": 2
}
