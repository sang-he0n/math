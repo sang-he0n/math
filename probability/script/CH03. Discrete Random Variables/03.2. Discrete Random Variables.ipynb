{
 "cells": [
  {
   "attachments": {},
   "cell_type": "markdown",
   "metadata": {},
   "source": [
    "# CH03.2. **Discrete Random Variables**"
   ]
  },
  {
   "cell_type": "markdown",
   "metadata": {},
   "source": [
    "> ## **이산확률변수(Discrete Random Variable)**"
   ]
  },
  {
   "cell_type": "markdown",
   "metadata": {},
   "source": [
    "#### **(1) 정의** : 표본공간과 치역이 가산 집합인 확률 변수\n",
    "#### = a random variable if its range and sample space are countable\n",
    "#### $  X : S \\rightarrow{} \\mathbb{R} \\;\\; $ where $ \\; S \\; $ and $ \\; X(S) \\; $ is countable"
   ]
  },
  {
   "cell_type": "markdown",
   "metadata": {},
   "source": [
    "#### **(2) 표현 방식** : \n",
    "#### &nbsp;&nbsp; ① 사건의 표현\n",
    "#### &nbsp;&nbsp; 어떠한 가산 사건 $ A = \\{ a_{1},\\; a_{2},\\; a_{3},\\; \\cdots{},\\; a_{n} \\} $ 을 확률변수 $ \\; X $ 로 표현하면\n",
    "#### &nbsp;&nbsp; $ A = \\{ X = x_{k} \\} = \\{ s \\in{} S | X(s) = x_{k} \\} $\n",
    "<img src=\"../../png/03.2. Discrete Random Variables (1).png\" width=\"25%\" height=\"25%\"></img>\n",
    "#### &nbsp;&nbsp; $ \\{ X=x_{1} \\} = \\{s_{1},\\; s_{2} \\} $\n",
    "#### &nbsp;&nbsp; $ \\{ X=x_{2} \\} = \\{s_{3} \\} $\n",
    "#### &nbsp;&nbsp; $ \\{ X=x_{3} \\} = \\{s_{4},\\; s_{5} \\} $\n",
    "#### &nbsp;&nbsp; $ A = \\{ X = x_{1} \\} \\cup{} \\{ X = x_{2} \\} \\cup{} \\{ X = x_{3} \\} = \\{ X \\in \\{ x_{1},\\; x_{2},\\; x_{3} \\} \\} $"
   ]
  },
  {
   "cell_type": "markdown",
   "metadata": {},
   "source": [
    "#### **(PLUS)** $ \\{ X = x_{1} \\} $ 와 $ \\; \\{ X = x_{1} \\} $ 는 서로소(disjoint) 관계임"
   ]
  },
  {
   "cell_type": "markdown",
   "metadata": {},
   "source": [
    "#### &nbsp;&nbsp; ② 확률의 표현\n",
    "#### &nbsp;&nbsp; $ P(X=x_{1}) = P(\\{ X=x_{1} \\}) = P(\\{s_{1},\\; s_{2} \\}) $\n",
    "#### &nbsp;&nbsp; $ P(X=x_{2}) = P(\\{ X=x_{2} \\}) = P(\\{s_{3} \\}) $\n",
    "#### &nbsp;&nbsp; $ P(X=x_{3}) = P(\\{ X=x_{3} \\}) = P(\\{s_{4},\\; s_{5} \\}) $"
   ]
  },
  {
   "cell_type": "markdown",
   "metadata": {},
   "source": [
    "<b></b>"
   ]
  },
  {
   "cell_type": "markdown",
   "metadata": {},
   "source": [
    "> ## **확률질량함수(Probability Mass Function)**"
   ]
  },
  {
   "cell_type": "markdown",
   "metadata": {},
   "source": [
    "#### **(1) 정의** : 이산확률변수를 확률값과 대응시킨 함수\n",
    "#### = **[CONTENTS]**\n",
    "#### $ \\rightarrow{} P_{X}(x) = P(X=x), \\; x \\in{} X(S) $"
   ]
  },
  {
   "cell_type": "markdown",
   "metadata": {},
   "source": [
    "#### **(PLUS)** 편의상 이산확률변수의 전체 정의역(domain; $  \\mathbb{R} $)을 기준으로 확률질량함수를 정의하기도 함\n",
    "#### $ P(X=x) = \\begin{cases} P(X=x), \\;\\; x \\in{} X(S) \\\\ 0,\\;\\;\\;\\;\\;\\;\\;\\;\\;\\;\\;\\;\\;\\;\\;\\; x \\not\\in{} X(S) \\end{cases}$"
   ]
  },
  {
   "cell_type": "markdown",
   "metadata": {},
   "source": [
    "#### **(2) 표현 방식** : \n",
    "<img src=\"../../png/03.2. Discrete Random Variables (2).png\" width=\"40%\" height=\"40%\"></img>"
   ]
  },
  {
   "cell_type": "markdown",
   "metadata": {},
   "source": [
    "#### **(3) 성질** :\n",
    "#### &nbsp;&nbsp; ① $ 0 \\leq{} P(X=x) \\leq{} 1 \\; $ for all $ \\; x $\n",
    "#### &nbsp;&nbsp; ② $ \\sum{}_{x\\in{}X(S)} P(X=x) = 1 $\n",
    "#### &nbsp;&nbsp; ③ 어떠한 부분집합 $ \\; A \\subset{} X(S) $ 을 만족할 때, $ \\; P(X\\in{}A) = \\sum{}_{x\\in{}A}P(X=x) $\n",
    "#### &nbsp;&nbsp; ④ 어떠한 부분집합 $ \\; A \\subset{} \\mathbb{R} $ 을 만족할 때, $ \\; P(X\\in{}A) = \\sum{}_{x\\in{}(A\\cap{}X(S))}P(X=x) $"
   ]
  },
  {
   "cell_type": "markdown",
   "metadata": {},
   "source": [
    "#### **(4) 예시** : \n",
    "#### &nbsp;&nbsp; ① 공평한 동전을 $ \\; 2 $ 번 던졌을 때 나오는 표본 공간 $ \\; S $ 와 앞면이 나오는 개수를 확률 변수 $ X $ 라고 정의한다면\n",
    "#### &nbsp;&nbsp; $ S = \\{ \\text{HH},\\; \\text{HT},\\; \\text{TH},\\; \\text{TT} \\} $\n",
    "#### &nbsp;&nbsp; $ X = \\{ 0,\\; 1,\\; 2 \\} $\n",
    "#### &nbsp;&nbsp; $ P_{X}(x) = P(X=x), \\; x \\in{} \\{ 0,\\; 1,\\; 2 \\} = X(S) $\n",
    "#### &nbsp;&nbsp;&nbsp;&nbsp;&nbsp;&nbsp;&nbsp;&nbsp;&nbsp;&nbsp;&nbsp;&nbsp;&nbsp;&nbsp;&nbsp; $ = \\begin{cases} P(X=0) = P(\\{HH\\}) = {{1}\\over{4}}, \\;\\;\\;\\;\\;\\;\\;\\;\\;\\; x = 0 \\\\ P(X=1) = P(\\{HT,\\; TH\\}) = {{2}\\over{4}},\\;\\; x = 1 \\\\ P(X=2) = P(\\{TT\\}) = {{1}\\over{4}}, \\;\\;\\;\\;\\;\\;\\;\\;\\;\\;\\;\\; x=2 \\\\ 0, \\;\\;\\;\\;\\;\\;\\;\\;\\;\\;\\;\\;\\;\\;\\;\\;\\;\\;\\;\\;\\;\\;\\;\\;\\;\\;\\;\\;\\;\\;\\;\\;\\;\\;\\;\\;\\;\\;\\;\\;\\;\\;\\;\\;\\;\\;\\;\\;　 x \\not\\in{} \\{ 0,\\; 1,\\; 2 \\} \\end{cases} $\n",
    "<img src=\"../../png/03.2. Discrete Random Variables (3).png\" width=\"40%\" height=\"40%\"></img>"
   ]
  },
  {
   "cell_type": "markdown",
   "metadata": {},
   "source": [
    "#### **(PLUS)** $ P(0 \\leq{} X \\leq{} 1 ) = P(X=1) + P(X=2) $"
   ]
  },
  {
   "cell_type": "markdown",
   "metadata": {},
   "source": [
    "<b></b>"
   ]
  },
  {
   "cell_type": "markdown",
   "metadata": {},
   "source": [
    "> ## **이산확률 변수의 독립(Independence of Random Variable)**"
   ]
  },
  {
   "cell_type": "markdown",
   "metadata": {},
   "source": [
    "#### **(1) 정의** : 한 개의 확률변수들이 다른 확률변수들과 영향을 미치지 않는 관계\n",
    "#### = a relationship where one or more random variables do not influence each other\n",
    "#### $ \\Rightarrow{} P(\\{X_{1}=x_{1}\\}\\cap{}\\{X_{2}=x_{2}\\}) = P(X_{1}=x_{1})P(X_{2}=x_{2}) $\n",
    "#### $ \\Rightarrow{} P(\\{X_{1}=x_{1}\\}|\\{X_{2}=x_{2}\\}) = P(X_{1}=x_{1}) $\n",
    "#### $ \\Rightarrow{} P(\\{X_{2}=x_{2}\\}|\\{X_{1}=x_{1}\\}) = P(X_{2}=x_{2}) $"
   ]
  },
  {
   "cell_type": "markdown",
   "metadata": {},
   "source": [
    "#### **(PLUS) $ \\; n $ 개 이상의 확률변수들이 독립 관계일 때 성질** :\n",
    "#### $ P(\\{X_{1}=x_{1}\\}\\cap{}\\{X_{2}=x_{2}\\}\\cap{}\\cdots{}\\cap{}\\{X_{n}=x_{n}\\}) = P(X_{1}=x_{1})P(X_{2}=x_{2})\\cdots{}P(X_{n}=x_{n}) $"
   ]
  },
  {
   "cell_type": "markdown",
   "metadata": {},
   "source": [
    "#### **(2) 예시** : \n",
    "#### &nbsp;&nbsp; ① 동전을 $ \\; 4 $ 번 던졌을 때 동전이 앞면(HEAD)이 나올 확률을 $ P(H) = 0.5 $ 라고 할 경우\n",
    "#### &nbsp;&nbsp;&nbsp;&nbsp;&nbsp;&nbsp; $ X \\; $ : $ 1,\\; 2 $ 번 째 시행 중 앞면이 나온 횟수, $ \\; X(S) = \\{ 0,\\; 1,\\; 2 \\} $\n",
    "#### &nbsp;&nbsp;&nbsp;&nbsp;&nbsp;&nbsp; $ Y \\; $ : $ 3,\\; 4 $ 번 째 시행 중 앞면이 나온 횟수, $ \\; Y(S) = \\{ 0,\\; 1,\\; 2 \\} $\n",
    "#### &nbsp;&nbsp;&nbsp;&nbsp;&nbsp;&nbsp; $ P({X=0}\\cap{}{Y=0}) = P(X=0)P(Y=0) = {{1}\\over{16}} $\n",
    "#### &nbsp;&nbsp;&nbsp;&nbsp;&nbsp;&nbsp; $ P({X=0}\\cap{}{Y=1}) = P(X=0)P(Y=1) = {{2}\\over{16}} $\n",
    "#### &nbsp;&nbsp;&nbsp;&nbsp;&nbsp;&nbsp; $ \\cdots{} $\n",
    "#### &nbsp;&nbsp;&nbsp;&nbsp;&nbsp;&nbsp; $ P({X=2}\\cap{}{Y=2}) = P(X=2)P(Y=2) = {{1}\\over{16}} $"
   ]
  },
  {
   "cell_type": "markdown",
   "metadata": {},
   "source": [
    "<b></b>"
   ]
  },
  {
   "cell_type": "markdown",
   "metadata": {},
   "source": [
    "> ## (Theorem 3-1)"
   ]
  },
  {
   "cell_type": "markdown",
   "metadata": {},
   "source": [
    "#### **[CONTENTS]**"
   ]
  },
  {
   "cell_type": "markdown",
   "metadata": {},
   "source": [
    "<b></b>"
   ]
  },
  {
   "cell_type": "markdown",
   "metadata": {},
   "source": [
    "<b></b>"
   ]
  },
  {
   "cell_type": "markdown",
   "metadata": {},
   "source": [
    "<b></b>"
   ]
  }
 ],
 "metadata": {
  "kernelspec": {
   "display_name": "Python 3",
   "language": "python",
   "name": "python3"
  },
  "language_info": {
   "codemirror_mode": {
    "name": "ipython",
    "version": 3
   },
   "file_extension": ".py",
   "mimetype": "text/x-python",
   "name": "python",
   "nbconvert_exporter": "python",
   "pygments_lexer": "ipython3",
   "version": "3.8.18"
  },
  "orig_nbformat": 4
 },
 "nbformat": 4,
 "nbformat_minor": 2
}
