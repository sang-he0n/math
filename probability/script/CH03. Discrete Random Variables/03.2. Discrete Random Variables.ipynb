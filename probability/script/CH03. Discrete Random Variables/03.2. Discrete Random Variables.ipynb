{
 "cells": [
  {
   "attachments": {},
   "cell_type": "markdown",
   "metadata": {},
   "source": [
    "# CH03.2. **Discrete Random Variables**"
   ]
  },
  {
   "cell_type": "markdown",
   "metadata": {},
   "source": [
    "> ## **이산확률변수(Discrete Random Variable)**"
   ]
  },
  {
   "cell_type": "markdown",
   "metadata": {},
   "source": [
    "#### **(1) 정의** : 표본공간과 치역이 가산 집합인 확률 변수\n",
    "#### = a random variable if its range and sample space are countable\n",
    "#### $  X : S \\rightarrow{} \\mathbb{R} \\;\\; $ where $ S \\; $ and $ \\; X(S) $ is countable"
   ]
  },
  {
   "cell_type": "markdown",
   "metadata": {},
   "source": [
    "#### **(2) 표현 방식** : \n",
    "#### &nbsp;&nbsp; 어떠한 가산 사건 $ A = \\{ a_{1},\\; a_{2},\\; a_{3},\\; \\cdots{},\\; a_{n} \\} $ 을 확률변수 $ \\; X $ 로 표현하면\n",
    "#### &nbsp;&nbsp; $ A = \\{ X = x_{k} \\} = \\{ s \\in{} S | X(s) = x_{k} \\} $\n",
    "<img src=\"../../png/03.1. Counting Methods (2).png\" width=\"25%\" height=\"25%\"></img>"
   ]
  },
  {
   "cell_type": "markdown",
   "metadata": {},
   "source": [
    "<b></b>"
   ]
  },
  {
   "cell_type": "markdown",
   "metadata": {},
   "source": [
    "> ## **확률질량함수(Probability Mass Function)**"
   ]
  },
  {
   "cell_type": "markdown",
   "metadata": {},
   "source": [
    "#### **(1) 정의** : 이산확률변수를 확률값과 대응시킨 함수\n",
    "#### = **[CONTENTS]**\n",
    "#### $ \\rightarrow{} P_{X}(x) = P(X=x), \\; x \\in{} X(S) $"
   ]
  },
  {
   "cell_type": "markdown",
   "metadata": {},
   "source": [
    "#### **(2) 표현 방식** : \n",
    "#### **[GRAPH]**"
   ]
  },
  {
   "cell_type": "markdown",
   "metadata": {},
   "source": [
    "#### **(3) 성질** :\n",
    "#### &nbsp;&nbsp; ① $ 0 \\leq{} P(X=x) \\leq{} 1 \\; $ for all $ \\; x $\n",
    "#### &nbsp;&nbsp; ② $ \\sum{}_{x\\in{}X(S)} P(X=x) = 1 $\n",
    "#### &nbsp;&nbsp; ③ 어떠한 부분집합 $ \\; A \\subset{} X(S) $ 을 만족할 때, $ \\; P(X\\in{}A) = \\sum{}_{x\\in{}A}P(X=x) $\n",
    "#### &nbsp;&nbsp; ④ 어떠한 부분집합 $ \\; A \\subset{} \\mathbb{R} $ 을 만족할 때, $ \\; P(X\\in{}A) = \\sum{}_{x\\in{}(A\\cap{}X(S))}P(X=x) $"
   ]
  },
  {
   "cell_type": "markdown",
   "metadata": {},
   "source": [
    "#### **(4) 예시** : "
   ]
  },
  {
   "cell_type": "markdown",
   "metadata": {},
   "source": [
    "<b></b>"
   ]
  },
  {
   "cell_type": "markdown",
   "metadata": {},
   "source": [
    "<b></b>"
   ]
  }
 ],
 "metadata": {
  "kernelspec": {
   "display_name": "Python 3",
   "language": "python",
   "name": "python3"
  },
  "language_info": {
   "codemirror_mode": {
    "name": "ipython",
    "version": 3
   },
   "file_extension": ".py",
   "mimetype": "text/x-python",
   "name": "python",
   "nbconvert_exporter": "python",
   "pygments_lexer": "ipython3",
   "version": "3.8.18"
  },
  "orig_nbformat": 4
 },
 "nbformat": 4,
 "nbformat_minor": 2
}
