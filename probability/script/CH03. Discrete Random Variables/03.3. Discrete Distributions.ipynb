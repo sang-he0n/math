{
 "cells": [
  {
   "attachments": {},
   "cell_type": "markdown",
   "metadata": {},
   "source": [
    "# CH03.3. **Discrete Distributions**"
   ]
  },
  {
   "cell_type": "markdown",
   "metadata": {},
   "source": [
    "> ## **베르누이 분포(Bernoulli Distribution)**"
   ]
  },
  {
   "cell_type": "markdown",
   "metadata": {},
   "source": [
    "#### **(1) 정의** : $ \\; 1 $ 회 시행하는 실험이 $ \\; 2 $ 가지 결과만 발생할 때 특정 결과가 나올 확률이 $ \\; p $ 인 확률변수가 따르는 분포\n",
    "#### = **[CONTENS]**\n",
    "#### $ \\Rightarrow{} P(X=x) = \\begin{cases} p, \\;\\;\\;\\;\\;\\;\\; x = 1 \\\\ 1-p,\\; x = 0 \\\\ 0, \\;\\;\\;\\;\\;\\;\\; x \\not\\in{} \\{0,\\; 1\\} \\end{cases} $\n",
    "<img src=\"../../png/03.3. Discrete Distributions (1).png\" width=\"40%\" height=\"40%\"></img>"
   ]
  },
  {
   "cell_type": "markdown",
   "metadata": {},
   "source": [
    "#### **(PLUS)** 이 때 확률 변수 $ \\; X $ 는 **특정 결과를 구분한 값**(성공/실패)로 정의되며 베르누이 분포를 따른다고 함\n",
    "#### $ \\Rightarrow{} X \\sim{} \\text{Bernoulli}(p) $"
   ]
  },
  {
   "cell_type": "markdown",
   "metadata": {},
   "source": [
    "#### **(2) 예시** : \n",
    "#### &nbsp;&nbsp; ① 불공평한 동전 $ \\; 1 $ 회 던졌을 때, 확률변수 $ \\; X $ 는 앞면이 나온 경우를 $ \\; 1 $ 이라고 정의하면 \n",
    "#### &nbsp;&nbsp;&nbsp;&nbsp;&nbsp;&nbsp; (단, 앞면이 확률을 $ \\; p $ 라고 정의함)\n",
    "#### &nbsp;&nbsp; $ S = \\{ \\text{H},\\; \\text{T} \\} $\n",
    "#### &nbsp;&nbsp; $ X = \\{ 1,\\; 0 \\} $\n",
    "#### &nbsp;&nbsp; $ P(X=x) = \\begin{cases} p, \\;\\;\\;\\;\\;\\;\\; x = 1 = \\{ H \\} \\\\ 1-p,\\; x = 0 = \\{ T \\} \\\\ 0, \\;\\;\\;\\;\\;\\;\\; x \\not\\in{} \\{0,\\; 1\\} = \\{ H,\\; T \\} \\end{cases} $\n",
    "#### &nbsp;&nbsp; ② 불공평한 주사위 $ \\; 1 $ 회 던졌을 때, 확률변수 $ \\; Y $ 는 $ \\; 3 $ 이하의 눈이 나온 경우를 $ \\; 1 $이라고 정의하면\n",
    "#### &nbsp;&nbsp;&nbsp;&nbsp;&nbsp;&nbsp; (단, $ \\; 3 $ 이하의 눈이 나올 확률을 $ \\; p $ 라고 정의함)\n",
    "#### &nbsp;&nbsp; $ S = \\{ \\text{1},\\; \\text{2},\\; \\text{3},\\; \\text{4},\\; \\text{5},\\; \\text{6} \\} $\n",
    "#### &nbsp;&nbsp; $ Y = \\{ 1,\\; 1,\\; 1,\\; 0,\\; 0,\\; 0 \\} = \\{ 1,\\; 0 \\} $\n",
    "#### &nbsp;&nbsp; $ P(Y=y) = \\begin{cases} p, \\;\\;\\;\\;\\;\\;\\; y = 1 = \\{ 1,\\; 2,\\; 3 \\} \\\\ 1-p,\\; y = 0 = \\{ 4,\\; 5,\\; 6 \\} \\\\ 0, \\;\\;\\;\\;\\;\\;\\; y \\not\\in{} \\{ 0,\\; 1 \\} = \\{ 1,\\; 2,\\; 3,\\; 4,\\; 5,\\; 6\\} \\end{cases} $"
   ]
  },
  {
   "cell_type": "markdown",
   "metadata": {},
   "source": [
    "<b></b>"
   ]
  },
  {
   "cell_type": "markdown",
   "metadata": {},
   "source": [
    "> ## **이항 분포(Binomial Distribution)**"
   ]
  },
  {
   "cell_type": "markdown",
   "metadata": {},
   "source": [
    "#### **(1) 정의** : $ \\; n $ 회 시행하는 실험이 $ \\; 2 $ 가지 결과만 발생할 때 특정 결과가 나올 확률이 $ \\; p $ 인 확률변수가 따르는 분포\n",
    "#### = **[CONTENS]**\n",
    "#### $ \\Rightarrow{} P(X=x) = \\begin{cases} C^{n}_{x} p^{x} (1-p)^{n-p}, \\;\\; x \\in{} \\{0,\\; 1,\\; \\cdots{},\\; n \\} \\\\ 0, \\;\\;\\;\\;\\;\\;\\;\\;\\;\\;\\;\\;\\;\\;\\;\\;\\;\\;\\;\\;\\;\\;\\;\\; x \\not\\in{} \\{0,\\; 1,\\; \\cdots{},\\; n \\} \\end{cases} $\n",
    "#### **[GRAPH]**"
   ]
  },
  {
   "cell_type": "markdown",
   "metadata": {},
   "source": [
    "#### **(PLUS)** 이 때 확률 변수 $ \\; X $ 는 $ \\; n $ 회 시행 중 **특정 결과가 관측된 횟수**로 정의되며, 이항 분포를 따른다고 함\n",
    "#### $ \\Rightarrow{} X \\sim{} \\text{Binomial}(n,\\; p) $"
   ]
  },
  {
   "cell_type": "markdown",
   "metadata": {},
   "source": [
    "#### **(2) 예시** : \n",
    "#### &nbsp;&nbsp; ① 4지선다 객관식 $ \\; 5 $ 개의 문항이 있는 시험에서 문제를 찍는다고 가정할 때, 확률변수 $ \\; X $ 를 찍어서 맞춘 횟수라고 하면\n",
    "#### &nbsp;&nbsp;&nbsp;&nbsp;&nbsp;&nbsp; (단, 찍는다는 행위는 무작위적이고 독립적임)\n",
    "#### &nbsp;&nbsp; $ S = \\{ \\text{TTTTT},\\; \\text{TTTTF},\\; \\cdots{},\\; \\text{FFFFF} \\} \\;\\; $ (※ $ \\; T $ : 맞춤, $ \\; F $ : 틀림)\n",
    "#### &nbsp;&nbsp; $ X = \\{ 5,\\; 4,\\; \\cdots{},\\; 0 \\} = \\{ 0,\\; 1,\\; 2,\\; 3,\\; 4,\\; 5 \\} $\n",
    "#### &nbsp;&nbsp; $ P(X=x) = \\begin{cases} C^{10}_{x} ({{1}\\over{4}})^{x}({{3}\\over{4}})^{10-x}, \\;\\; x \\in \\{ 0,\\; 1,\\; 2,\\; 3,\\; 4,\\; 5 \\} \\\\ 0, \\;\\;\\;\\;\\;\\;\\;\\;\\;\\;\\;\\;\\;\\;\\;\\;\\;\\;\\;\\;\\;\\;\\; x \\not\\in{} \\{ 0,\\; 1,\\; 2,\\; 3,\\; 4,\\; 5 \\} \\end{cases} \\;\\; $($ \\because{} p = {{1}\\over{4}} $)\n",
    "#### &nbsp;&nbsp; ② 공평한 주사위를 $ \\; 4 $ 번 던졌을 때, 확률 변수 $ \\; Y $ 를 주사위 눈 $ \\; 6 $ 이 나온 횟수라고 하면\n",
    "#### &nbsp;&nbsp; $ S = \\{ (1,1,1,1),\\; (1,1,1,2),\\; \\cdots{},\\; (6,6,6,6) \\} \\;\\; $\n",
    "#### &nbsp;&nbsp; $ Y = \\{ 0,\\; 0,\\; \\cdots{},\\; 4 \\} = \\{ 0,\\; 1,\\; 2,\\; 3,\\; 4 \\} $\n",
    "#### &nbsp;&nbsp; $ P(Y=y) = \\begin{cases} C^{4}_{y} ({{1}\\over{6}})^{y}({{5}\\over{6}})^{4-y}, \\;\\; x \\in \\{ 0,\\; 1,\\; 2,\\; 3,\\; 4 \\} \\\\ 0, \\;\\;\\;\\;\\;\\;\\;\\;\\;\\;\\;\\;\\;\\;\\;\\;\\;\\;\\;\\;\\; y \\not\\in{} \\{ 0,\\; 1,\\; 2,\\; 3,\\; 4 \\} \\end{cases} \\;\\; $($ \\because{} p = {{1}\\over{6}} $)"
   ]
  },
  {
   "cell_type": "markdown",
   "metadata": {},
   "source": [
    "<b></b>"
   ]
  },
  {
   "cell_type": "markdown",
   "metadata": {},
   "source": [
    "> ## (Theorem 3-2) **베르누이 분포와 이항 분포의 관계**"
   ]
  },
  {
   "cell_type": "markdown",
   "metadata": {},
   "source": [
    "#### 확률 변수 $ \\; X_{1},\\; X_{2},\\; \\cdots{},\\; X_{n} $ 이 특정 결과의 확률 $ \\; p $ 를 모수로 삼는 독립적인 베르누이 확률변수라면, \n",
    "#### 확률 변수 $ X = X_{1},\\; X_{2},\\; \\cdots{},\\; X_{n} $ 은 시행 횟수 $ \\; n $, 특정 결과의 확률 $ \\; p $ 를 모수로 삼는 이항 분포를 따른다.\n",
    "#### $ \\Rightarrow{} \\; X_{i} \\sim{} \\text{Bernoulli}(p) \\;\\; $ ($ i = 1,\\; 2,\\; \\cdots{},\\; n $) $ \\; \\rightarrow{} \\; X_{1} + X_{2} + \\cdots{} X_{n} = X \\sim{} \\text{Binomial}(n,\\; p) $ "
   ]
  },
  {
   "cell_type": "markdown",
   "metadata": {},
   "source": [
    "#### &nbsp;&nbsp; **(ex)** 확률 변수 $ X \\sim{} \\text{Binomial}(n,\\; p) $ 이고, $ Y \\sim{} \\text{Binomial}(m,\\; p) $ 일 때 확률 변수 $ Z = X + Y $ 의 확률밀도함수는\n",
    "#### &nbsp;&nbsp; $ X = \\sum{}^{n}_{i=1} X_{i}, \\;\\; X_{i} \\sim{} \\text{Bernoulli}(p) $\n",
    "#### &nbsp;&nbsp; $ Y = \\sum{}^{m}_{k=1} Y_{k}, \\;\\; Y_{k} \\sim{} \\text{Bernoulli}(p) $\n",
    "#### &nbsp;&nbsp; $ Z = X + Y = \\sum{}^{n}_{i=1} X_{i} + \\sum{}^{m}_{k=1} Y_{k}, \\;\\; Z \\sim{} \\text{Binomial}(m+n,\\; p) $ \n",
    "#### &nbsp;&nbsp; $ P(Z=z) = \\begin{cases} C^{m+n}_{z} (p)^{z}(1-p)^{m+n-z}, \\;\\; z \\in{} \\{ 0,\\; 1,\\; \\cdots{},\\; m+n \\} \\\\ 0, \\;\\;\\;\\;\\;\\;\\;\\;\\;\\;\\;\\;\\;\\;\\;\\;\\;\\;\\;\\;\\;\\;\\;\\;\\;\\;\\;\\;\\;\\;\\;\\;\\;\\;\\; z \\not\\in{} \\{ 0,\\; 1,\\; \\cdots{},\\; m+n \\} \\end{cases} $"
   ]
  },
  {
   "cell_type": "markdown",
   "metadata": {},
   "source": [
    "<b></b>"
   ]
  },
  {
   "cell_type": "markdown",
   "metadata": {},
   "source": [
    "> ## **기하 분포(Geometric Distribution)**"
   ]
  },
  {
   "cell_type": "markdown",
   "metadata": {},
   "source": [
    "#### **(1) 정의** : 실험에서 성공확률이 $ \\; p $ 인 베르누이 시행에서 특정 결과가 $ \\; 1 $ 회 나올 때까지 시행할 때, 그 확률 변수가 따르는 분포\n",
    "#### = **[CONTENS]**\n",
    "#### $ \\Rightarrow{} P(X=x) = \\begin{cases} (1-p)^{x-1}p, \\;\\; x = \\{ 1,\\; 2,\\; \\cdots{} \\} \\\\ 0, \\;\\;\\;\\;\\;\\;\\;\\;\\;\\;\\;\\;\\;\\;\\;\\;\\;\\; x \\not\\in{} \\{ 1,\\; 2,\\; \\cdots{} \\} \\end{cases} $\n",
    "<img src=\"../../png/03.3. Discrete Distributions (2).png\" width=\"40%\" height=\"40%\"></img>"
   ]
  },
  {
   "cell_type": "markdown",
   "metadata": {},
   "source": [
    "#### **(PLUS)** 이 때 확률 변수 $ \\; X $ 는 **특정 결과가 $ \\; 1 $ 회 나올 때까지 시행하는 횟수**로 정의되며, 기하 분포를 따른다고 함\n",
    "#### $ \\Rightarrow{} X \\sim{} \\text{Geometric}(p) $"
   ]
  },
  {
   "cell_type": "markdown",
   "metadata": {},
   "source": [
    "#### **(2) 예시** : \n",
    "#### &nbsp;&nbsp; ① 공평한 주사위를 던져 $ \\; 6 $ 이 나오면 이기는 게임을 할 때, 확률 변수 $ \\; Y $ 는 이길 때 까지 계속 던진 횟수라면\n",
    "#### &nbsp;&nbsp; $ S = \\{ \\text{1},\\; \\text{2},\\; \\cdots{},\\; \\text{6},\\; \\text{(1,1)},\\; \\text{(1,2)},\\; \\cdots{} \\} $\n",
    "#### &nbsp;&nbsp; $ X = \\{ 1,\\; 2, \\cdots{} \\} $\n",
    "#### &nbsp;&nbsp; $ P(X=x) = ({{5}\\over{6}})^{x-1}({{1}\\over{6}}), \\;\\; x \\in{} \\{ 1,\\; 2,\\; \\cdots{} \\} $"
   ]
  },
  {
   "cell_type": "markdown",
   "metadata": {},
   "source": [
    "#### **(PLUS)** 이 때 $ \\; 3 $ 번 던져 이길 확률은 ? \n",
    "### $ P(Y \\leq{} 3) = P(Y=1) + P(Y=2) + P(Y=3) = ({{1}\\over{6}}) + ({{5}\\over{6}})({{1}\\over{6}}) + ({{1}\\over{6}})^{2}({{1}\\over{6}}) \\doteqdot{} 0.42 $"
   ]
  },
  {
   "cell_type": "markdown",
   "metadata": {},
   "source": [
    "<b></b>"
   ]
  },
  {
   "cell_type": "markdown",
   "metadata": {},
   "source": [
    "> ## **음이항 분포(Pascal Distribution; Negative Binomial Distribution)**"
   ]
  },
  {
   "cell_type": "markdown",
   "metadata": {},
   "source": [
    "#### **(1) 정의** : 실험에서 성공확률이 $ \\; p $ 인 베르누이 시행에서 특정 결과가 $ \\; n $ 회 나올 때까지 시행할 때, 그 확률 변수가 따르는 분포\n",
    "#### = **[CONTENS]**\n",
    "#### $ \\Rightarrow{} P(X=x) = \\begin{cases} C^{x-1}_{n-1}(1-p)^{x-n}(p)^{n}, \\;\\; x = \\{ n,\\; n+1,\\; \\cdots{} \\} \\\\ 0, \\;\\;\\;\\;\\;\\;\\;\\;\\;\\;\\;\\;\\;\\;\\;\\;\\;\\;\\;\\;\\;\\;\\;\\;\\;\\;\\;\\;\\;\\; x \\not\\in{} \\{ n,\\; n+1,\\; \\cdots{} \\} \\end{cases} $"
   ]
  },
  {
   "cell_type": "markdown",
   "metadata": {},
   "source": [
    "#### **(WHY?)**  \n",
    "#### 불공평한 동전을 던져 $ \\; n $ 개의 앞면이 나올 때 까지 시행할 때, 확률 변수를 $ \\; X $ 시행한 횟수라고 한다면, \n",
    "#### (단, $ P(H) = p $)\n",
    "#### $ S = \\{ (H_{1}H_{2}\\cdots{}H_{n-1}H_{n}),\\; (T_{1}H_{1}H_{2}\\cdots{}H_{n-1}H_{n}),\\; (H_{1}T_{1}H_{2}\\cdots{}H_{n-1}H_{n}),\\;  \\cdots{} \\} $\n",
    "#### $ X = \\{ n,\\; n+1,\\; n+1,\\; \\cdots{} \\} = \\{ n+1,\\; n+2,\\; n+3,\\; \\cdots{} \\} $\n",
    "#### if $ \\; X = n $ \n",
    "#### &nbsp;&nbsp; $ (H_{1}H_{2}\\cdots{}H_{n-1}H_{n}) = (H_{1}H_{2}\\cdots{}H_{n-1})(H_{n}) $ \n",
    "#### if $ \\; X = n+1 $ \n",
    "#### &nbsp;&nbsp; $ (T_{1}H_{1}H_{2}\\cdots{}H_{n-1}H_{n}) = (T_{1}H_{1}H_{2}\\cdots{}H_{n-1})(H_{n}) $ \n",
    "#### &nbsp;&nbsp; $ (H_{1}T_{1}H_{2}\\cdots{}H_{n-1}H_{n}) = (H_{1}T_{1}H_{2}\\cdots{}H_{n-1})(H_{n}) $\n",
    "#### &nbsp;&nbsp; $ \\cdots{} $\n",
    "#### &nbsp;&nbsp; $ (H_{1}H_{2}\\cdots{}H_{n-1}T_{1}H_{n}) = (H_{1}H_{2}\\cdots{}H_{n-1}T_{1})(H_{n}) $"
   ]
  },
  {
   "cell_type": "markdown",
   "metadata": {},
   "source": [
    "#### **(PLUS)** 이 때 확률 변수 $ \\; X $ 는 **특정 결과가 $ \\; n $ 회 나올 때까지 시행하는 횟수**로 정의되며, 기하 분포를 따른다고 함\n",
    "#### $ \\Rightarrow{} X \\sim{} \\text{Pascal}(n,\\; p) $"
   ]
  },
  {
   "cell_type": "markdown",
   "metadata": {},
   "source": [
    "#### **(2) 예시** : "
   ]
  },
  {
   "cell_type": "markdown",
   "metadata": {},
   "source": [
    "<b></b>"
   ]
  },
  {
   "cell_type": "markdown",
   "metadata": {},
   "source": [
    "> ## **초기하 분포(Geometric Distribution)**"
   ]
  },
  {
   "cell_type": "markdown",
   "metadata": {},
   "source": [
    "#### **(1) 정의** :"
   ]
  },
  {
   "cell_type": "markdown",
   "metadata": {},
   "source": [
    "#### **(2) 예시** : "
   ]
  },
  {
   "cell_type": "markdown",
   "metadata": {},
   "source": [
    "<b></b>"
   ]
  },
  {
   "cell_type": "markdown",
   "metadata": {},
   "source": [
    "> ## **포아송 분포(Poisson Distribution)**"
   ]
  },
  {
   "cell_type": "markdown",
   "metadata": {},
   "source": [
    "#### **(1) 정의** :"
   ]
  },
  {
   "cell_type": "markdown",
   "metadata": {},
   "source": [
    "#### **(2) 예시** : "
   ]
  }
 ],
 "metadata": {
  "kernelspec": {
   "display_name": "Python 3",
   "language": "python",
   "name": "python3"
  },
  "language_info": {
   "codemirror_mode": {
    "name": "ipython",
    "version": 3
   },
   "file_extension": ".py",
   "mimetype": "text/x-python",
   "name": "python",
   "nbconvert_exporter": "python",
   "pygments_lexer": "ipython3",
   "version": "3.8.18"
  },
  "orig_nbformat": 4
 },
 "nbformat": 4,
 "nbformat_minor": 2
}
