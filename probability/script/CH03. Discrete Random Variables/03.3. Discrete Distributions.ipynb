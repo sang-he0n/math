{
 "cells": [
  {
   "attachments": {},
   "cell_type": "markdown",
   "metadata": {},
   "source": [
    "# CH03.3. **Discrete Distributions**"
   ]
  },
  {
   "cell_type": "markdown",
   "metadata": {},
   "source": [
    "> ## **베르누이 분포(Bernoulli Distribution)**"
   ]
  },
  {
   "cell_type": "markdown",
   "metadata": {},
   "source": [
    "#### **(1) 정의** : $ \\; 1 $ 회 시행하는 실험이 $ \\; 2 $ 가지 결과(성공/실패)만 발생할 때 특정 결과가 나올 확률이 $ \\; p $ 인 확률변수가 따르는 분포\n",
    "#### = **[CONTENS]**\n",
    "#### $ \\Rightarrow{} P(X=x) = \\begin{cases} p, \\;\\;\\;\\;\\;\\;\\; x = 1 \\\\ 1-p,\\; x = 0 \\\\ 0, \\;\\;\\;\\;\\;\\;\\; x \\not\\in{} \\{0,\\; 1\\} \\end{cases} $\n",
    "<img src=\"../../png/03.3. Discrete Distributions (1).png\" width=\"40%\" height=\"40%\"></img>"
   ]
  },
  {
   "cell_type": "markdown",
   "metadata": {},
   "source": [
    "#### **(PLUS)** 이 때 확률 변수 $ \\; X $ 는 **$ \\; 2 $개의 결과**로 정의되며, 특정 결과의 확률 $ \\; p $ 를 모수(parameter)로 하는 베르누이 분포를 따름\n",
    "#### $ \\Rightarrow{} X \\sim{} \\text{Bernoulli}(p) $"
   ]
  },
  {
   "cell_type": "markdown",
   "metadata": {},
   "source": [
    "#### **(2) 분포의 평균** :"
   ]
  },
  {
   "cell_type": "markdown",
   "metadata": {},
   "source": [
    "#### **(3) 분포의 분산** :"
   ]
  },
  {
   "cell_type": "markdown",
   "metadata": {},
   "source": [
    "#### **(4) 예시** : \n",
    "#### &nbsp;&nbsp; ① 불공평한 동전 $ \\; 1 $ 회 던졌을 때, 확률변수 $ \\; X $ 는 앞면이 나온 경우를 $ \\; 1 $ 이라고 정의하면 \n",
    "#### &nbsp;&nbsp;&nbsp;&nbsp;&nbsp;&nbsp; (단, 앞면이 확률을 $ \\; 30\\% $ 라고 정의함)\n",
    "#### &nbsp;&nbsp; $ S = \\{ \\text{H},\\; \\text{T} \\} $\n",
    "#### &nbsp;&nbsp; $ X = \\{ 1,\\; 0 \\} \\sim{} \\text{Bernoulli}(p=0.3) $\n",
    "#### &nbsp;&nbsp; $ P(X=x) = \\begin{cases} 0.3, \\;\\;\\;\\;\\;\\;\\; x = 1 = \\{ H \\} \\\\ 0.7, \\;\\;\\;\\;\\;\\;\\; x = 0 = \\{ T \\} \\\\ 0, \\;\\;\\;\\;\\;\\;\\;\\;\\;\\; x \\not\\in{} \\{0,\\; 1\\} = \\{ H,\\; T \\} \\end{cases} $\n",
    "#### &nbsp;&nbsp; ② 불공평한 주사위 $ \\; 1 $ 회 던졌을 때, 확률변수 $ \\; Y $ 는 $ \\; 3 $ 이하의 눈이 나온 경우를 $ \\; 1 $이라고 정의하면\n",
    "#### &nbsp;&nbsp;&nbsp;&nbsp;&nbsp;&nbsp; (단, $ \\; 3 $ 이하의 눈이 나올 확률을 $ \\; 60\\% $ 라고 정의함)\n",
    "#### &nbsp;&nbsp; $ S = \\{ \\text{1},\\; \\text{2},\\; \\text{3},\\; \\text{4},\\; \\text{5},\\; \\text{6} \\} $\n",
    "#### &nbsp;&nbsp; $ Y = \\{ 1,\\; 1,\\; 1,\\; 0,\\; 0,\\; 0 \\} = \\{ 1,\\; 0 \\} \\sim{} \\text{Bernoulli}(p=0.6) $\n",
    "#### &nbsp;&nbsp; $ P(Y=y) = \\begin{cases} 0.6, \\;\\;\\;\\;\\;\\;\\; y = 1 = \\{ 1,\\; 2,\\; 3 \\} \\\\ 0.4, \\;\\;\\;\\;\\;\\;\\; y = 0 = \\{ 4,\\; 5,\\; 6 \\} \\\\ 0, \\;\\;\\;\\;\\;\\;\\;\\;\\;\\; y \\not\\in{} \\{ 0,\\; 1 \\} = \\{ 1,\\; 2,\\; 3,\\; 4,\\; 5,\\; 6\\} \\end{cases} $"
   ]
  },
  {
   "cell_type": "markdown",
   "metadata": {},
   "source": [
    "<b></b>"
   ]
  },
  {
   "cell_type": "markdown",
   "metadata": {},
   "source": [
    "> ## **이항 분포(Binomial Distribution)**"
   ]
  },
  {
   "cell_type": "markdown",
   "metadata": {},
   "source": [
    "#### **(1) 정의** : $ \\; n $ 회 시행하는 실험이 $ \\; 2 $ 가지 결과만 발생할 때 특정 결과가 나올 확률이 $ \\; p $ 인 확률변수가 따르는 분포\n",
    "#### = **[CONTENS]**\n",
    "#### $ \\Rightarrow{} P(X=x) = \\begin{cases} C^{n}_{x} p^{x} (1-p)^{n-p}, \\;\\; x \\in{} \\{0,\\; 1,\\; \\cdots{},\\; n \\} \\\\ 0, \\;\\;\\;\\;\\;\\;\\;\\;\\;\\;\\;\\;\\;\\;\\;\\;\\;\\;\\;\\;\\;\\;\\;\\; x \\not\\in{} \\{0,\\; 1,\\; \\cdots{},\\; n \\} \\end{cases} $\n",
    "#### **[GRAPH]**"
   ]
  },
  {
   "cell_type": "markdown",
   "metadata": {},
   "source": [
    "#### **(PLUS)** 이 때 확률 변수 $ \\; X $ 는 **$ \\; n $ 회 시행 중 특정 결과가 관측된 횟수**로 정의되며, \n",
    "#### 시행 횟수 $ \\; n $ 과 특정 결과의 확률 $ \\; p $ 를 모수로 하는 이항 분포를 따름\n",
    "#### $ \\Rightarrow{} X \\sim{} \\text{Binomial}(n,\\; p) $"
   ]
  },
  {
   "cell_type": "markdown",
   "metadata": {},
   "source": [
    "#### **(2) 분포의 평균** :"
   ]
  },
  {
   "cell_type": "markdown",
   "metadata": {},
   "source": [
    "#### **(3) 분포의 분산** :"
   ]
  },
  {
   "cell_type": "markdown",
   "metadata": {},
   "source": [
    "#### **(4) 예시** : \n",
    "#### &nbsp;&nbsp; ① 4지선다 객관식 $ \\; 5 $ 개의 문항이 있는 시험에서 문제를 찍는다고 가정할 때, 확률변수 $ \\; X $ 를 찍어서 맞춘 횟수라고 하면\n",
    "#### &nbsp;&nbsp;&nbsp;&nbsp;&nbsp;&nbsp; (단, 찍는다는 행위는 무작위적이고 독립적임)\n",
    "#### &nbsp;&nbsp; $ S = \\{ \\text{TTTTT},\\; \\text{TTTTF},\\; \\cdots{},\\; \\text{FFFFF} \\} \\;\\; $ (※ $ \\; T $ : 맞춤, $ \\; F $ : 틀림)\n",
    "#### &nbsp;&nbsp; $ X = \\{ 5,\\; 4,\\; \\cdots{},\\; 0 \\} = \\{ 0,\\; 1,\\; 2,\\; 3,\\; 4,\\; 5 \\} \\sim{} \\text{Binomial}(n=5,\\; p={{1}\\over{4}}) $\n",
    "#### &nbsp;&nbsp; $ P(X=x) = \\begin{cases} C^{10}_{x} ({{1}\\over{4}})^{x}({{3}\\over{4}})^{10-x}, \\;\\; x \\in \\{ 0,\\; 1,\\; 2,\\; 3,\\; 4,\\; 5 \\} \\\\ 0, \\;\\;\\;\\;\\;\\;\\;\\;\\;\\;\\;\\;\\;\\;\\;\\;\\;\\;\\;\\;\\;\\;\\; x \\not\\in{} \\{ 0,\\; 1,\\; 2,\\; 3,\\; 4,\\; 5 \\} \\end{cases} $\n",
    "#### &nbsp;&nbsp; ② 공평한 주사위를 $ \\; 4 $ 번 던졌을 때, 확률 변수 $ \\; Y $ 를 주사위 눈 $ \\; 6 $ 이 나온 횟수라고 하면\n",
    "#### &nbsp;&nbsp; $ S = \\{ (1,1,1,1),\\; (1,1,1,2),\\; \\cdots{},\\; (6,6,6,6) \\} \\;\\; $\n",
    "#### &nbsp;&nbsp; $ Y = \\{ 0,\\; 0,\\; \\cdots{},\\; 4 \\} = \\{ 0,\\; 1,\\; 2,\\; 3,\\; 4 \\} \\sim{} \\text{Binomial}(n=4,\\; p={{1}\\over{6}}) $\n",
    "#### &nbsp;&nbsp; $ P(Y=y) = \\begin{cases} C^{4}_{y} ({{1}\\over{6}})^{y}({{5}\\over{6}})^{4-y}, \\;\\; x \\in \\{ 0,\\; 1,\\; 2,\\; 3,\\; 4 \\} \\\\ 0, \\;\\;\\;\\;\\;\\;\\;\\;\\;\\;\\;\\;\\;\\;\\;\\;\\;\\;\\;\\;\\; y \\not\\in{} \\{ 0,\\; 1,\\; 2,\\; 3,\\; 4 \\} \\end{cases} \\;\\; $($ \\because{} p = {{1}\\over{6}} $)"
   ]
  },
  {
   "cell_type": "markdown",
   "metadata": {},
   "source": [
    "<b></b>"
   ]
  },
  {
   "cell_type": "markdown",
   "metadata": {},
   "source": [
    "> ## **베르누이 분포와 이항 분포의 관계**"
   ]
  },
  {
   "cell_type": "markdown",
   "metadata": {},
   "source": [
    "#### 확률 변수 $ \\; X_{1},\\; X_{2},\\; \\cdots{},\\; X_{n} $ 이 특정 결과의 확률 $ \\; p $ 를 모수로 삼는 독립적인 베르누이 확률변수라면, \n",
    "#### 확률 변수 $ X = X_{1},\\; X_{2},\\; \\cdots{},\\; X_{n} $ 은 시행 횟수 $ \\; n $, 특정 결과의 확률 $ \\; p $ 를 모수로 삼는 이항 분포를 따른다.\n",
    "#### $ \\Rightarrow{} \\; X_{i} \\sim{} \\text{Bernoulli}(p) \\;\\; $ ($ i = 1,\\; 2,\\; \\cdots{},\\; n $) $ \\; \\rightarrow{} \\; X_{1} + X_{2} + \\cdots{} + X_{n} = X \\sim{} \\text{Binomial}(n,\\; p) $ "
   ]
  },
  {
   "cell_type": "markdown",
   "metadata": {},
   "source": [
    "#### **[GRAPH]**"
   ]
  },
  {
   "cell_type": "markdown",
   "metadata": {},
   "source": [
    "#### &nbsp;&nbsp; **(ex)** 확률 변수 $ X \\sim{} \\text{Binomial}(n,\\; p) $ 이고, $ Y \\sim{} \\text{Binomial}(m,\\; p) $ 일 때 확률 변수 $ Z = X + Y $ 의 확률밀도함수는\n",
    "#### &nbsp;&nbsp; $ X = \\sum{}^{n}_{i=1} X_{i}, \\;\\; X_{i} \\sim{} \\text{Bernoulli}(p) $\n",
    "#### &nbsp;&nbsp; $ Y = \\sum{}^{m}_{k=1} Y_{k}, \\;\\; Y_{k} \\sim{} \\text{Bernoulli}(p) $\n",
    "#### &nbsp;&nbsp; $ Z = X + Y = \\sum{}^{n}_{i=1} X_{i} + \\sum{}^{m}_{k=1} Y_{k}, \\;\\; Z \\sim{} \\text{Binomial}(m+n,\\; p) $ \n",
    "#### &nbsp;&nbsp; $ P(Z=z) = \\begin{cases} C^{m+n}_{z} (p)^{z}(1-p)^{m+n-z}, \\;\\; z \\in{} \\{ 0,\\; 1,\\; \\cdots{},\\; m+n \\} \\\\ 0, \\;\\;\\;\\;\\;\\;\\;\\;\\;\\;\\;\\;\\;\\;\\;\\;\\;\\;\\;\\;\\;\\;\\;\\;\\;\\;\\;\\;\\;\\;\\;\\;\\;\\;\\; z \\not\\in{} \\{ 0,\\; 1,\\; \\cdots{},\\; m+n \\} \\end{cases} $"
   ]
  },
  {
   "cell_type": "markdown",
   "metadata": {},
   "source": [
    "<b></b>"
   ]
  },
  {
   "cell_type": "markdown",
   "metadata": {},
   "source": [
    "> ## **기하 분포(Geometric Distribution)**"
   ]
  },
  {
   "cell_type": "markdown",
   "metadata": {},
   "source": [
    "#### **(1) 정의** : 실험에서 성공확률이 $ \\; p $ 인 베르누이 시행에서 특정 결과가 $ \\; 1 $ 회 나올 때까지 시행할 때, 그 확률 변수가 따르는 분포\n",
    "#### = **[CONTENS]**\n",
    "#### $ \\Rightarrow{} P(X=x) = \\begin{cases} (1-p)^{x-1}p, \\;\\; x = \\{ 1,\\; 2,\\; \\cdots{} \\} \\\\ 0, \\;\\;\\;\\;\\;\\;\\;\\;\\;\\;\\;\\;\\;\\;\\;\\;\\;\\; x \\not\\in{} \\{ 1,\\; 2,\\; \\cdots{} \\} \\end{cases} $\n",
    "<img src=\"../../png/03.3. Discrete Distributions (2).png\" width=\"40%\" height=\"40%\"></img>"
   ]
  },
  {
   "cell_type": "markdown",
   "metadata": {},
   "source": [
    "#### **(PLUS)** 이 때 확률 변수 $ \\; X $ 는 **특정 결과가 $ \\; 1 $ 회 나올 때까지 시행하는 횟수**로 정의되며, \n",
    "#### 특정 결과의 확률 $ \\; p $ 를 모수로 하는 기하 분포를 따름\n",
    "#### $ \\Rightarrow{} X \\sim{} \\text{Geometric}(p) $"
   ]
  },
  {
   "cell_type": "markdown",
   "metadata": {},
   "source": [
    "#### **(2) 분포의 평균** :"
   ]
  },
  {
   "cell_type": "markdown",
   "metadata": {},
   "source": [
    "#### **(3) 분포의 분산** :"
   ]
  },
  {
   "cell_type": "markdown",
   "metadata": {},
   "source": [
    "#### **(4) 예시** : \n",
    "#### &nbsp;&nbsp; ① 공평한 주사위를 던져 $ \\; 6 $ 이 나오면 이기는 게임을 할 때, 확률 변수 $ \\; Y $ 는 이길 때 까지 계속 던진 횟수라면\n",
    "#### &nbsp;&nbsp; $ S = \\{ \\text{1},\\; \\text{2},\\; \\cdots{},\\; \\text{6},\\; \\text{(1,1)},\\; \\text{(1,2)},\\; \\cdots{} \\} $\n",
    "#### &nbsp;&nbsp; $ X = \\{ 1,\\; 2, \\cdots{} \\} \\sim{} \\text{Geometric}(p={{1}\\over{6}}) $\n",
    "#### &nbsp;&nbsp; $ P(X=x) = ({{5}\\over{6}})^{x-1}({{1}\\over{6}}), \\;\\; x \\in{} \\{ 1,\\; 2,\\; \\cdots{} \\} $"
   ]
  },
  {
   "cell_type": "markdown",
   "metadata": {},
   "source": [
    "#### **(PLUS)** 이 때 $ \\; 3 $ 번 던져 이길 확률은? \n",
    "### $ P(Y \\leq{} 3) = P(Y=1) + P(Y=2) + P(Y=3) = ({{1}\\over{6}}) + ({{5}\\over{6}})({{1}\\over{6}}) + ({{1}\\over{6}})^{2}({{1}\\over{6}}) \\doteqdot{} 0.42 $"
   ]
  },
  {
   "cell_type": "markdown",
   "metadata": {},
   "source": [
    "<b></b>"
   ]
  },
  {
   "cell_type": "markdown",
   "metadata": {},
   "source": [
    "> ## **파스칼 분포(Pascal Distribution; Negative Binomial Distribution)**"
   ]
  },
  {
   "cell_type": "markdown",
   "metadata": {},
   "source": [
    "#### **(1) 정의** : 실험에서 성공확률이 $ \\; p $ 인 베르누이 시행에서 특정 결과가 $ \\; n $ 회 나올 때까지 시행할 때, 그 확률 변수가 따르는 분포\n",
    "#### = **[CONTENS]**\n",
    "#### $ \\Rightarrow{} P(X=x) = \\begin{cases} C^{x-1}_{n-1}(1-p)^{x-n}(p)^{n}, \\;\\; x = \\{ n,\\; n+1,\\; \\cdots{} \\} \\\\ 0, \\;\\;\\;\\;\\;\\;\\;\\;\\;\\;\\;\\;\\;\\;\\;\\;\\;\\;\\;\\;\\;\\;\\;\\;\\;\\;\\;\\;\\;\\; x \\not\\in{} \\{ n,\\; n+1,\\; \\cdots{} \\} \\end{cases} $\n",
    "#### **[GRAPH]**"
   ]
  },
  {
   "cell_type": "markdown",
   "metadata": {},
   "source": [
    "#### **(WHY?)**  \n",
    "#### 불공평한 동전을 던져 $ \\; n $ 개의 앞면이 나올 때 까지 시행할 때, 확률 변수를 $ \\; X $ 시행한 횟수라고 한다면, \n",
    "#### (단, $ \\; P(H) = p $)\n",
    "#### $ S = \\{ (H_{1}H_{2}\\cdots{}H_{n-1}H_{n}),\\; (T_{1}H_{1}H_{2}\\cdots{}H_{n-1}H_{n}),\\; (H_{1}T_{1}H_{2}\\cdots{}H_{n-1}H_{n}),\\;  \\cdots{} \\} $\n",
    "#### $ X = \\{ n,\\; n+1,\\; n+1,\\; \\cdots{} \\} = \\{ n+1,\\; n+2,\\; n+3,\\; \\cdots{} \\} $\n",
    "#### if $ \\; X = n $ \n",
    "#### &nbsp;&nbsp; $ (H_{1}H_{2}\\cdots{}H_{n-1}H_{n}) = (H_{1}H_{2}\\cdots{}H_{n-1})(H_{n}) = (㉠) \\times{} (㉡) $\n",
    "#### &nbsp;&nbsp; $ ㉠ \\; $ : $ \\; n-1 $ 개 시행 중 앞면이 $ \\; n-1 $ 개 나올 경우의 수 $ = C^{n-1}_{n-1} $ \n",
    "#### &nbsp;&nbsp; $ ㉡ \\; $ : $ \\; 1 $ 개 시행 중 앞면이 $ \\; 1 $ 개 나올 경우의 수 $ = 1 $ \n",
    "#### if $ \\; X = n+1 $ \n",
    "#### &nbsp;&nbsp; $ \\begin{rcases} (T_{1}H_{1}H_{2}\\cdots{}H_{n-1}H_{n}) = (T_{1}H_{1}H_{2}\\cdots{}H_{n-1})(H_{n}) \\;\\; \\\\ (H_{1}T_{1}H_{2}\\cdots{}H_{n-1}H_{n}) = (H_{1}T_{1}H_{2}\\cdots{}H_{n-1})(H_{n}) \\;\\; \\\\ \\cdots{} \\;\\; \\\\ (H_{1}H_{2}\\cdots{}H_{n-1}T_{1}H_{n}) = (H_{1}H_{2}\\cdots{}H_{n-1}T_{1})(H_{n}) \\;\\; \\end{rcases} = (㉠) \\times{} (㉡) $\n",
    "#### &nbsp;&nbsp; $ ㉠ \\; $ : $ \\; n $ 개 시행 중 앞면이 $ \\; n-1 $ 개 나올 경우의 수 $ = C^{n-1}_{n} $ \n",
    "#### &nbsp;&nbsp; $ ㉡ \\; $ : $ \\; 1 $ 개 시행 중 앞면이 $ \\; 1 $ 개 나올 경우의 수 $ = 1 $ \n",
    "#### $ \\cdots{} $\n",
    "#### if $ \\; X = x $\n",
    "#### $ P(㉠) = C^{x-1}_{n-1}(1-p)^{x-n}(p)^{n-1} \\;\\; $ ($ \\because{} \\; $ Binomial Formula)\n",
    "#### $ P(㉡) = 1 \\times{} p $  \n",
    "#### $ \\therefore{} \\; P(X=x) = P(㉠)P(㉡) = C^{x-1}_{n-1}(1-p)^{x-n}(p)^{n-1} \\times{} (p) = C^{x-1}_{n-1}(1-p)^{x-n}(p)^{n} $"
   ]
  },
  {
   "cell_type": "markdown",
   "metadata": {},
   "source": [
    "#### **(PLUS)** 이 때 확률 변수 $ \\; X $ 는 **특정 결과가 $ \\; n $ 회 나올 때까지 시행하는 횟수**로 정의되며, \n",
    "#### 특정 결과가 나오는 횟수 $ \\; n $ 과 특정 결과의 확률 $ \\; p $ 를 모수로 하는 파스칼 분포를 따름\n",
    "#### $ \\Rightarrow{} X \\sim{} \\text{Pascal}(n,\\; p) $"
   ]
  },
  {
   "cell_type": "markdown",
   "metadata": {},
   "source": [
    "#### **(2) 분포의 평균** :"
   ]
  },
  {
   "cell_type": "markdown",
   "metadata": {},
   "source": [
    "#### **(3) 분포의 분산** :"
   ]
  },
  {
   "cell_type": "markdown",
   "metadata": {},
   "source": [
    "#### **(4) 예시** : \n",
    "#### &nbsp;&nbsp; ① 전구 공장에서 상품의 불량률이 $ \\; 10 % $ 일 때, 확률 변수 $ \\; X $ 를 양품 $ \\; 10 $ 개를 고를 때까지 검사하는 횟수라고 할 때\n",
    "#### &nbsp;&nbsp; $ S = \\{ (T_{1}\\cdots{}T_{10}),\\; (F_{1}T_{1}\\cdots{}T_{10}),\\; \\cdots{} \\} \\;\\; $ (※ $ \\; T $ : 양품, $ \\; F $ : 불량품)\n",
    "#### &nbsp;&nbsp; $ X = \\{ 10,\\; 11,\\; \\cdots{} \\} \\sim{} \\text{Pascal}(n=10,\\; p=0.9) $\n",
    "#### &nbsp;&nbsp; $ P(X=x) = C^{x-1}_{10}(0.9)^{10}(0.1)^{x-10} $ "
   ]
  },
  {
   "cell_type": "markdown",
   "metadata": {},
   "source": [
    "#### **(PLUS)** 이 때 $ \\; 15 $ 번 이하의 검사에서 양품을 모두 고를 확률은?\n",
    "### $ P(X \\leq{} 15) = \\sum{}^{15}_{i=1}P(X=i) \\doteqdot{} 0.72 $ "
   ]
  },
  {
   "cell_type": "markdown",
   "metadata": {},
   "source": [
    "<b></b>"
   ]
  },
  {
   "cell_type": "markdown",
   "metadata": {},
   "source": [
    "> ## **기하 분포와 파스칼 분포의 관계**"
   ]
  },
  {
   "cell_type": "markdown",
   "metadata": {},
   "source": [
    "#### 확률 변수 $ \\; X_{1},\\; X_{2},\\; \\cdots{},\\; X_{n} $ 이 특정 결과의 확률 $ \\; p $ 를 모수로 삼는 **독립적인** 기하 확률변수라면, \n",
    "#### 확률 변수 $ X = X_{1},\\; X_{2},\\; \\cdots{},\\; X_{n} $ 은 시행 횟수 $ \\; n $, 특정 결과의 확률 $ \\; p $ 를 모수로 삼는 파스칼 분포를 따른다.\n",
    "#### $ \\Rightarrow{} \\; X_{i} \\sim{} \\text{Geometric}(p) \\;\\; $ ($ i = 1,\\; 2,\\; \\cdots{},\\; n $) $ \\; \\rightarrow{} \\; X_{1} + X_{2} + \\cdots{} + X_{n} = X \\sim{} \\text{Pascal}(n,\\; p) $ \n",
    "#### **[GRPAH]**"
   ]
  },
  {
   "cell_type": "markdown",
   "metadata": {},
   "source": [
    "<b></b>"
   ]
  },
  {
   "cell_type": "markdown",
   "metadata": {},
   "source": [
    "> ## **초기하 분포(Geometric Distribution)**"
   ]
  },
  {
   "cell_type": "markdown",
   "metadata": {},
   "source": [
    "#### **(1) 정의** : 개수가 $ \\; N $ 인 다른 두 요소를 갖는 집단에서 표본 $ \\; n $ 개를 **비복원 추출**할 때 특정 요소 $ \\; k $ 개를 뽑는 확률 변수가 따르는 분포\n",
    "#### = **[CONTENS]**\n",
    "#### $ \\Rightarrow{} P(X=x) = \\begin{cases} {{C^{k}_{x}C^{n-k}_{n-x}}\\over{C^{N}_{n}}}, \\;\\; x \\in{} \\{ x \\in{} \\mathbb{Z} \\; | \\; \\text{max}(0,\\; n-N+k) \\leq{} x \\leq{} \\text{min}(n,\\; k) \\} \\\\ 0, \\;\\;\\;\\;\\;\\;\\;\\;\\;\\; x \\not\\in{} \\{ x \\in{} \\mathbb{Z} \\; | \\; \\text{max}(0,\\; n-N+k) \\leq{} x \\leq{} \\text{min}(n,\\; k) \\} \\end{cases} $\n",
    "#### **[GRAPH]**"
   ]
  },
  {
   "cell_type": "markdown",
   "metadata": {},
   "source": [
    "#### **(WHY?)**"
   ]
  },
  {
   "cell_type": "markdown",
   "metadata": {},
   "source": [
    "#### **(PLUS)** 이 때 확률 변수 $ \\; X $ 는 전체 $ \\; N $ 개 중 $ \\; n $ 개의 표본 중 **특정 그룹을 $ \\; k $ 개를 뽑는 경우의 수**로 정의되며, \n",
    "#### 전체 집단의 개수 $ \\; N $ 과 특정 그룹의 개수 $ \\; k $, 표본 추출한 개수 $ \\; n $ 을 모수로 하는 초기하 분포를 따름\n",
    "#### $ \\Rightarrow{} X \\sim{} \\text{Hypergeometric}(N, k,\\; n) $"
   ]
  },
  {
   "cell_type": "markdown",
   "metadata": {},
   "source": [
    "#### **(2) 분포의 평균** :"
   ]
  },
  {
   "cell_type": "markdown",
   "metadata": {},
   "source": [
    "#### **(3) 분포의 분산** :"
   ]
  },
  {
   "cell_type": "markdown",
   "metadata": {},
   "source": [
    "#### **(4) 예시** : \n",
    "#### &nbsp;&nbsp; ① 총 $ \\; 100 $ 개의 다이아몬드 중 $ \\; 10 $ 개가 가품이고 $ \\; 20 $ 개를 뽑을 때, 확률 변수 $ \\; X $ 를 가품을 뽑는 개수(경우의 수)라고 한다면\n",
    "#### &nbsp;&nbsp; $ S = \\{ (F_{1}\\cdots{}F_{20}),\\; (T_{1}\\cdots{}F_{19}),\\; \\cdots{} \\} \\;\\; $ (※ $ \\; T $ : 진품, $ \\; F $ : 가품)\n",
    "#### &nbsp;&nbsp; $ X = \\{ 0,\\; 1,\\; \\cdots{} \\} \\sim{} \\text{Hypergeometric}(N=100,\\; k=10,\\; n=20) $\n",
    "#### &nbsp;&nbsp; $ P(X=x) = {{C^{10}_{x}C^{90}_{20-x}}\\over{C^{100}_{20}}} $ "
   ]
  },
  {
   "cell_type": "markdown",
   "metadata": {},
   "source": [
    "#### **(PLUS)** 이 때 $ \\; 2 $ 개가 가품일 확률은?\n",
    "#### &nbsp;&nbsp; $ P(X=2) = {{C^{10}_{2}C^{90}_{18}}\\over{C^{100}_{20}}} \\doteqdot{} 0.32 $ "
   ]
  },
  {
   "cell_type": "markdown",
   "metadata": {},
   "source": [
    "<b></b>"
   ]
  },
  {
   "cell_type": "markdown",
   "metadata": {},
   "source": [
    "> ## **베르누이 분포와 초기하 분포의 관계**"
   ]
  },
  {
   "cell_type": "markdown",
   "metadata": {},
   "source": [
    "#### 확률 변수 $ \\; X_{1},\\; X_{2},\\; \\cdots{},\\; X_{n} $ 이 특정 집단(결과)의 확률 $ \\; p $ 를 모수로 삼는 **종속적인** 베르누이 확률변수라면, \n",
    "#### 확률 변수 $ X = X_{1},\\; X_{2},\\; \\cdots{},\\; X_{n} $ 은 시행 횟수 $ \\; n $, 특정 집단의 개수 $ \\; k $ 특정 집단의 확률 $ \\; p $ 를 모수로 삼는 초기하 분포를 따른다.\n",
    "#### $ \\Rightarrow{} \\; X_{i} \\sim{} \\text{Bernoulli}(p) \\;\\; $ ($ i = 1,\\; 2,\\; \\cdots{},\\; n $) $ \\; \\rightarrow{} \\; X_{1} + X_{2} + \\cdots{} + X_{n} = X \\sim{} \\text{Hypergeometric}(N,\\; k,\\; n) $ "
   ]
  },
  {
   "cell_type": "markdown",
   "metadata": {},
   "source": [
    "#### **(PLUS)** 이 때 확률 $ \\; p $ 는 전체 집단 중 특정 결과의 빈도를 의미하며, 초기하분포는 베르누이 시행의 조건부 확률로 이루어진다고 볼 수 있다."
   ]
  },
  {
   "cell_type": "markdown",
   "metadata": {},
   "source": [
    "<b></b>"
   ]
  },
  {
   "cell_type": "markdown",
   "metadata": {},
   "source": [
    "> ## **포아송 분포(Poisson Distribution)**"
   ]
  },
  {
   "cell_type": "markdown",
   "metadata": {},
   "source": [
    "#### **(1) 정의** : 특정 구간(시간/공간)동안 **독립적이고 일정하게** 발생한 사건의 빈도(횟수)인 확률변수가 따르는 분포\n",
    "#### = **[CONTENTS]**\n",
    "#### $ \\Rightarrow{} P(X=x) = \\begin{cases} {{e^{-\\lambda{}}\\lambda{}^{x}}\\over{x!}}, \\;\\; x \\in{} \\{ 0,\\; 1,\\; \\cdots{} \\} \\\\ 0, \\;\\;\\;\\;\\;\\;\\;\\; x \\not\\in{} \\{ 0,\\; 1,\\; \\cdots{} \\} \\end{cases} $\n",
    "#### ※ $ \\lambda{} $ : 사건 발생의 **평균** 빈도 $ \\times{} $ 특정구간 $ = $ 특정 구간에서 발생한 이벤트의 평균 빈도\n",
    "#### **[GRPAH]**"
   ]
  },
  {
   "cell_type": "markdown",
   "metadata": {},
   "source": [
    "#### **(PLUS)** \n",
    "#### 이 때 확률 변수 $ \\; X $ 는 **특정 구간에서 발생한 사건의 개수**로 정의되며,\n",
    "#### 특정 구간에서 발생한 이벤트의 평균 빈도 $ \\; \\lambda{} $ 를 모수로 하는 포아송 분포를 따름\n",
    "#### $ \\Rightarrow{} X \\sim{} \\text{Poisson}(\\lambda{}) $"
   ]
  },
  {
   "cell_type": "markdown",
   "metadata": {},
   "source": [
    "#### **(2) 분포의 평균** :"
   ]
  },
  {
   "cell_type": "markdown",
   "metadata": {},
   "source": [
    "#### **(3) 분포의 분산** :"
   ]
  },
  {
   "cell_type": "markdown",
   "metadata": {},
   "source": [
    "#### **(4) 예시** : \n",
    "#### &nbsp;&nbsp; ① 어떤 방사능 입자가 $ \\; 1 $ 초에 $ 5.5 $ 개 알파 입자를 방출할 때, 확률변수 $ \\; X $ 를 초당 알파 파티클이 발생할 개수라고 한다면,\n",
    "#### &nbsp;&nbsp; $ S = \\{ 0,\\; 1,\\; 1.3,\\; 2,\\; 2,\\; \\cdots{} \\} $\n",
    "#### &nbsp;&nbsp; $ X = \\{ 0,\\; 1,\\; 1.3,\\; 2,\\; 2,\\; \\cdots{} \\} \\sim{} \\text{Poisson}(\\lambda{}=5.5\\times{}1=5.5) $\n",
    "#### &nbsp;&nbsp; $ P(X=x) = {{e^{-(5.5)}(5.5)^{x}}\\over{x!}} $"
   ]
  },
  {
   "cell_type": "markdown",
   "metadata": {},
   "source": [
    "#### **(PLUS)** 만약 $ \\; 1 $ 초에 $ \\; 10 $ 개의 알파 입자를 방출할 확률은?\n",
    "#### $ P(X=10) = {{e^{-(5.5)}(5.5)^{10}}\\over{10!}} \\doteqdot{} 0.028 $"
   ]
  },
  {
   "cell_type": "markdown",
   "metadata": {},
   "source": [
    "#### &nbsp;&nbsp; ② 삼겹살 집의 하루 평균 방문자 수가 $ \\; 3.5 $ 명일 때, 확률변수 $ \\; Y $ 를 $ \\; 3 $ 일 간 방문자 수라고 한다면,\n",
    "#### &nbsp;&nbsp; $ S = \\{ 0,\\; 1,\\; 2,\\; \\cdots{} \\} $\n",
    "#### &nbsp;&nbsp; $ X = \\{ 0,\\; 1,\\; 2,\\; \\cdots{} \\} \\sim{} \\text{Poisson}(\\lambda{}=3.5\\times{}3=10.5) $\n",
    "#### &nbsp;&nbsp; $ P(X=x) = {{e^{-(10.5)}(10.5)^{x}}\\over{x!}} $"
   ]
  },
  {
   "cell_type": "markdown",
   "metadata": {},
   "source": [
    "<b></b>"
   ]
  },
  {
   "cell_type": "markdown",
   "metadata": {},
   "source": [
    "> ## **포아송 분포와 이항 분포의 관계**"
   ]
  },
  {
   "cell_type": "markdown",
   "metadata": {},
   "source": [
    "#### 확률 변수 $ \\; X $ 가 $ \\; n $ 회 시행하고 특정 결과가 나올 확률인 $ \\; p $ 인 이항 분포를 따를 때,\n",
    "#### 포아송 분포는 $ \\; n $ 이 무한대($ \\infty{} $)로 가는 경우를 근사한 모델이다. \n",
    "#### $ \\Rightarrow{} \\; \\displaystyle\\lim_{n \\rightarrow{} \\infty{}} X \\sim{} \\text{Binomial}(n,\\; p={{\\lambda{}}\\over{n}}) \\; \\approx{} \\; Y \\sim{} \\text{Poisson}(\\lambda{}) $"
   ]
  },
  {
   "cell_type": "markdown",
   "metadata": {},
   "source": [
    "#### **(WHY?)**\n",
    "#### $ P(X=x) = C^{n}_{x}(p)^{x}(1-p)^{n-x} = C^{n}_{x}({{\\lambda{}}\\over{n}})^{x}(1-{{\\lambda{}}\\over{n}})^{n-x} = {{n!}\\over{x!(n-x)!}}({{\\lambda{}}\\over{n}})^{x}(1-{{\\lambda{}}\\over{n}})^{n-x} $\n",
    "#### $ \\displaystyle\\lim_{n \\rightarrow{} \\infty{}} P(X=x) = \\displaystyle\\lim_{n \\rightarrow{} \\infty{}} {{n!}\\over{x!(n-x)!}}({{\\lambda{}}\\over{n}})^{x}(1-{{\\lambda{}}\\over{n}})^{n-x} = {{\\lambda{}^{x}}\\over{x!}} \\displaystyle\\lim_{n \\rightarrow{} \\infty{}} [{{n!}\\over{(n-x)!}}({{1}\\over{n}})^{x}][(1-{{\\lambda{}}\\over{n}})^{n-x}] = \\displaystyle\\lim_{n \\rightarrow{} \\infty{}}[㉠][㉡]$\n",
    "#### &nbsp;&nbsp;&nbsp;&nbsp;&nbsp;&nbsp;&nbsp;&nbsp;&nbsp;&nbsp;&nbsp;&nbsp;&nbsp;&nbsp;&nbsp;&nbsp;&nbsp;&nbsp;&nbsp;&nbsp;&nbsp;&nbsp;&nbsp;&nbsp;&nbsp;&nbsp;&nbsp;&nbsp; $ = \\displaystyle\\lim_{n \\rightarrow{} \\infty{}} {{(n)(n-1)\\cdots{}(n-x+1)}\\over{n^{x}}}(1-{{\\lambda{}}\\over{n}})^{n-x} $"
   ]
  }
 ],
 "metadata": {
  "kernelspec": {
   "display_name": "Python 3",
   "language": "python",
   "name": "python3"
  },
  "language_info": {
   "codemirror_mode": {
    "name": "ipython",
    "version": 3
   },
   "file_extension": ".py",
   "mimetype": "text/x-python",
   "name": "python",
   "nbconvert_exporter": "python",
   "pygments_lexer": "ipython3",
   "version": "3.8.18"
  },
  "orig_nbformat": 4
 },
 "nbformat": 4,
 "nbformat_minor": 2
}
