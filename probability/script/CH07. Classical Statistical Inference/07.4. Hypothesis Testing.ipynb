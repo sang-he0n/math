{
 "cells": [
  {
   "attachments": {},
   "cell_type": "markdown",
   "metadata": {},
   "source": [
    "# CH07.4. **Hypothesis Testing**"
   ]
  },
  {
   "cell_type": "markdown",
   "metadata": {},
   "source": [
    "> ## **가설(Hypothesis)**"
   ]
  },
  {
   "cell_type": "markdown",
   "metadata": {},
   "source": [
    "#### **(1) 정의** : 관찰된 데이터를 통해 검증하고자 하는 주장\n",
    "#### = **[CONTENTS]**"
   ]
  },
  {
   "cell_type": "markdown",
   "metadata": {},
   "source": [
    "#### **(2) 종류** :\n",
    "#### $ \\hspace{0.15cm} $ ① 귀무가설($ H_{0} $) : 실험 또는 연구에서 아무런 변화나 차이, 효과가 없다는 가설\n",
    "#### $ \\hspace{0.15cm} $ ② 대립가설($ H_{1} $) : 연구자가 실제로 증명하고자 하는 가설"
   ]
  },
  {
   "cell_type": "markdown",
   "metadata": {},
   "source": [
    "#### **(3) 예시** : \n",
    "#### $ \\hspace{0.15cm} $ ① 한국인의 평균 키(cm)가 $ \\, 173 $ cm 가 아님을 검정하고자하는 경우\n",
    "#### $ \\hspace{0.45cm} \\cdot{} H_{0} \\, : \\mu{} = 173 $\n",
    "#### $ \\hspace{0.45cm} \\cdot{} H_{1} \\, : \\mu \\neq{} 173 $\n",
    "#### $ \\hspace{0.15cm} $ ② **[CONTENTS]**"
   ]
  },
  {
   "cell_type": "markdown",
   "metadata": {},
   "source": [
    "<b></b>"
   ]
  },
  {
   "cell_type": "markdown",
   "metadata": {},
   "source": [
    "> ## **가설 검정과 오류(Hypothesis Testing and Error)**"
   ]
  },
  {
   "cell_type": "markdown",
   "metadata": {},
   "source": [
    "#### **(1) 정의** : 관찰된 데이터를 통해 귀무가설($ H_{0} $)가 타당한지 여부를 통계적으로 평가하는 과정\n",
    "#### = 귀무가설이 참임을 가정하에 관측된 데이터가 귀무가설을 지지하는지에 대하여 검정\n",
    "#### = **[CONTENTS]**"
   ]
  },
  {
   "cell_type": "markdown",
   "metadata": {},
   "source": [
    "#### **(2) 검정 오류의 종류** : \n",
    "#### $ \\hspace{0.15cm} $ ① 1종오류(type 1 error) : \n",
    "#### $ \\hspace{0.45cm} $ 귀무가설($ H_{0} $)이 **실제로 참일 때 잘못 기각**하는 오류\n",
    "#### $ \\hspace{0.55cm} \\Rightarrow{} P(\\text{type 1 error}) = P(\\text{reject } \\, H_{0} \\; \\text{when } \\, H_{0} \\; \\text{is True}) = \\alpha{} $"
   ]
  },
  {
   "cell_type": "markdown",
   "metadata": {},
   "source": [
    "#### **(`PLUS`)** 이 때 $ \\, \\alpha{} $ 를 유의수준(significance level)이라고 정의함"
   ]
  },
  {
   "cell_type": "markdown",
   "metadata": {},
   "source": [
    "#### $ \\hspace{0.15cm} $ ② 2종오류(type 2 error)\n",
    "#### $ \\hspace{0.55cm} \\Rightarrow{} P(\\text{type 1 error}) = P(\\text{accept } \\, H_{0} \\; \\text{when } \\, H_{0} \\; \\text{is False}) = \\beta{} $"
   ]
  },
  {
   "cell_type": "markdown",
   "metadata": {},
   "source": [
    "<b></b>"
   ]
  },
  {
   "cell_type": "markdown",
   "metadata": {},
   "source": [
    "> ## **p값(P-values)**"
   ]
  },
  {
   "cell_type": "markdown",
   "metadata": {},
   "source": [
    "#### **(1) 정의** : 귀무가설($ H_{0} $)을 기각하게 되는 가장 낮은 유의수준 \n",
    "#### = **[CONTENTS]**"
   ]
  },
  {
   "cell_type": "markdown",
   "metadata": {},
   "source": [
    "<b></b>"
   ]
  },
  {
   "cell_type": "markdown",
   "metadata": {},
   "source": [
    "> ## **가설 채택 (Hypothesis Acceptance)**"
   ]
  },
  {
   "cell_type": "markdown",
   "metadata": {},
   "source": [
    "<b></b>"
   ]
  },
  {
   "cell_type": "markdown",
   "metadata": {},
   "source": [
    "> ## **평균 양측 검정(Two-sided test for Mean)**"
   ]
  },
  {
   "cell_type": "markdown",
   "metadata": {},
   "source": [
    "#### **(1) 정의** : **[CONTENTS]**\n",
    "#### = **[CONTENTS]**"
   ]
  },
  {
   "cell_type": "markdown",
   "metadata": {},
   "source": [
    "<b></b>"
   ]
  },
  {
   "cell_type": "markdown",
   "metadata": {},
   "source": [
    "> ## **평균 단측 검정(One-sided test for Mean)**"
   ]
  },
  {
   "cell_type": "markdown",
   "metadata": {},
   "source": [
    "#### **(1) 정의** : **[CONTENTS]**\n",
    "#### = **[CONTENTS]**"
   ]
  },
  {
   "cell_type": "markdown",
   "metadata": {},
   "source": [
    "<b></b>"
   ]
  }
 ],
 "metadata": {
  "kernelspec": {
   "display_name": "Python 3",
   "language": "python",
   "name": "python3"
  },
  "language_info": {
   "codemirror_mode": {
    "name": "ipython",
    "version": 3
   },
   "file_extension": ".py",
   "mimetype": "text/x-python",
   "name": "python",
   "nbconvert_exporter": "python",
   "pygments_lexer": "ipython3",
   "version": "3.8.12"
  },
  "orig_nbformat": 4
 },
 "nbformat": 4,
 "nbformat_minor": 2
}
