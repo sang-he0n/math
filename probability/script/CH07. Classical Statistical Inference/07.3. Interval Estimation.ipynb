{
 "cells": [
  {
   "attachments": {},
   "cell_type": "markdown",
   "metadata": {},
   "source": [
    "# CH07.3. **Interval Estimation**"
   ]
  },
  {
   "cell_type": "markdown",
   "metadata": {},
   "source": [
    "> ## **구간 추정량(Interval Estimatior)**"
   ]
  },
  {
   "cell_type": "markdown",
   "metadata": {},
   "source": [
    "#### **(1) 정의** : 무작위 표본 $ \\, X_{1},\\, X_{2},\\, \\cdots{},\\, X_{n} $ 은 모수 $ \\, \\theta{} $ 를 갖는 분포에서 추출됐을 때, \n",
    "#### = **[CONTENTS]**\n",
    "#### $ \\Rightarrow{} P(\\hat{\\Theta}_{l} \\leq{} \\theta{} \\leq{} \\hat{\\Theta}_{l}) \\geq{} 1 - \\alpha{} \\;\\; $ for every possible value of $ \\, \\theta{} $ \n",
    "#### $ \\hspace{4.4cm} $ where $ \\, \\hat{\\Theta{}}_{lower} = h(X_{1},\\, X_{2},\\, \\cdots{},\\, X_{n}),\\, \\hat{\\Theta{}}_{upper} = h(X_{1},\\, X_{2},\\, \\cdots{},\\, X_{n}) $"
   ]
  }
 ],
 "metadata": {
  "kernelspec": {
   "display_name": "Python 3",
   "language": "python",
   "name": "python3"
  },
  "language_info": {
   "codemirror_mode": {
    "name": "ipython",
    "version": 3
   },
   "file_extension": ".py",
   "mimetype": "text/x-python",
   "name": "python",
   "nbconvert_exporter": "python",
   "pygments_lexer": "ipython3",
   "version": "3.8.12"
  },
  "orig_nbformat": 4
 },
 "nbformat": 4,
 "nbformat_minor": 2
}
