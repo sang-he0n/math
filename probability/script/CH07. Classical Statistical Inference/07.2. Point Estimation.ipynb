{
 "cells": [
  {
   "attachments": {},
   "cell_type": "markdown",
   "metadata": {},
   "source": [
    "# CH07.2. **Point Estimation**"
   ]
  },
  {
   "cell_type": "markdown",
   "metadata": {},
   "source": [
    "> ## **점 추정량(Point Estimatior)**"
   ]
  },
  {
   "cell_type": "markdown",
   "metadata": {},
   "source": [
    "#### **(1) 정의** : 표본을 통해 모수를 **단일 값으로 추정**하기 위한 통계적 방법(함수)\n",
    "#### = **[CONTENTS]**\n",
    "#### $ \\Rightarrow{} \\hat{\\Theta{}_{n}} = h(X_{1},\\, X_{2},\\, \\cdots{},\\, X_{n})$"
   ]
  },
  {
   "cell_type": "markdown",
   "metadata": {},
   "source": [
    "#### **(`PLUS`)** 예를 들어 모평균을 계산할 때는 $ \\, \\bar{X_{n}} = \\frac{X_{1}+X_{2}+\\cdots{}+X_{n}}{n} \\, $ or $ \\frac{\\text{MIN}(X_{i})+\\text{MAX}(X_{i})}{2} \\, $ 등 다양한 추정량 존재 가능"
   ]
  },
  {
   "cell_type": "markdown",
   "metadata": {},
   "source": [
    "#### **(2) 예시** :\n",
    "#### $ \\hspace{0.15cm} $ ① 한국인의 평균 키(cm)를 점 추정으로 도출하고자하는 경우\n",
    "#### $ \\hspace{0.45cm} \\cdot{} \\, \\mu{} $ : 모든 한국인의 키의 평균\n",
    "#### $ \\hspace{0.45cm} \\cdot{} \\, S = \\{ 0, 0.1, \\cdots{}, 1, \\cdots{}, 170, \\cdots{} \\} $ : 키의 범위 \n",
    "#### $ \\hspace{0.45cm} \\cdot{} \\, X_{i} $ : $ \\, i $ 번째 한국인의 키\n",
    "#### $ \\hspace{0.45cm} \\cdot{} \\, n = 20 $ : 표본 추출 수 \n",
    "#### $ \\hspace{0.45cm} \\cdot{} \\, x_{i} = \\{159.1,\\, 152.1,\\, 164.4,\\, 166.6,\\, \\cdots{},\\, 190.2 \\} $ : 실제 수집한 데이터\n",
    "#### $ \\hspace{0.45cm} \\cdot{} \\hat{\\Theta{}_{n}} = \\begin{cases} 167.3, \\;\\; \\hat{\\mu{}} = \\frac{\\sum^{n}_{i=1}x_{i}}{20}= \\bar{x_{n}} \\\\ 174.6, \\;\\; \\hat{\\mu{}} = \\frac{\\text{MIN}(x_{i})+\\text{MAX}(x_{i})}{2} \\\\ \\cdots{} \\end{cases} $\n",
    "#### $ \\hspace{0.45cm} \\therefore{} \\, $ 어떤 추정량을 선택해야하는 지 모름 "
   ]
  },
  {
   "cell_type": "markdown",
   "metadata": {},
   "source": [
    "<b></b>"
   ]
  },
  {
   "cell_type": "markdown",
   "metadata": {},
   "source": [
    "> ## **추정량 평가(Evaluating Estimators)**"
   ]
  },
  {
   "cell_type": "markdown",
   "metadata": {},
   "source": [
    "#### **(1) 정의** :  점 추정량이 얼마나 좋은지를 결정하는 과정\n",
    "#### = **[CONTENTS]**"
   ]
  },
  {
   "cell_type": "markdown",
   "metadata": {},
   "source": [
    "#### **(2) 측정 지표와 방식** : \n",
    "#### $ \\hspace{0.15cm} $ ① 편향(Bias) : 추정량의 기대값이 모수와 동일한지를 측정하는 지표\n",
    "#### $ \\hspace{0.45cm} \\cdot{} B(\\hat{\\Theta{}}) = E(\\hat{\\Theta{}}) - \\theta{} = E(\\hat{\\Theta{}} - \\theta{}) $\n",
    "#### $ \\hspace{0.15cm} $ ② 평균제곱오차(Mean Squared Error) : 추정량과 모수 간 차이를 제곱 평균함으로써 추정량의 변동성과 편향을 모두 고려한 지표\n",
    "#### $ \\hspace{0.45cm} \\cdot{} \\text{MSE}(\\hat{\\Theta{}}) = E[(\\hat{\\Theta{}} - \\theta{})^{2}] $\n",
    "#### $ \\hspace{1.95cm} = \\text{var}(\\hat{\\Theta{}}-\\theta{}) + E(\\hat{\\Theta{}}-\\theta{})^{2} \\;\\; $ ($ \\because{} \\text{var}(X) = E(X^{2}) - E(X) $)\n",
    "#### $ \\hspace{1.95cm} = \\text{var}(\\hat{\\Theta{}}) + E(\\hat{\\Theta{}}-\\theta{})^{2} \\;\\; $ ($ \\because{} \\text{var}(aX+b) = a^{2} \\cdot{} \\text{var}(X) $)\n",
    "#### $ \\hspace{1.95cm} = \\text{var}(\\hat{\\Theta{}}) + B(\\hat{\\Theta{}})^{2} $"
   ]
  },
  {
   "cell_type": "markdown",
   "metadata": {},
   "source": [
    "#### **(3) 평가 지표** :\n",
    "#### $ \\hspace{0.15cm} $ ① 불편성(Unbiasedness) : 편향이 $ \\, 0 $ 일 때, 즉 추정량의 기대값과 모수가 동일할 때의 성질\n",
    "#### $ \\hspace{0.15cm} $ ② 일치성(Consistency) : 표본 크기가 증가함에 따라 추정량이 모수와 점점 더 가까워지는 성질\n",
    "#### $ \\hspace{3.25cm} \\displaystyle\\lim_{n\\rightarrow{}\\infty{}} P(|\\hat{\\Theta{}_{n}}-\\theta{}|\\geq{}\\epsilon) = 0 \\;\\; $ where $ \\, \\epsilon{} > 0 \\, $ and $ \\, n \\, $ : sample size"
   ]
  },
  {
   "cell_type": "markdown",
   "metadata": {},
   "source": [
    "#### **(`PLUS`) 일치성과 MSE의 관계** : $ \\displaystyle\\lim_{n\\rightarrow{}\\infty{}} \\, \\text{MSE}(\\hat{\\Theta{}}_{n}) = 0 $ 일 때 그 추정량은 일치성을 가짐, 단 역은 성립하지 않음"
   ]
  },
  {
   "cell_type": "markdown",
   "metadata": {},
   "source": [
    "#### $ \\hspace{0.15cm} $ ③ 효율성(efficiency) : 동일한 표본 크기에 대해, 여러 추정량 중 가장 작은 분산을 가지는 성질\n",
    "#### $ \\hspace{0.15cm} $ ④ 충분성(sufficiency) : 추정량이 표본 데이터로부터 모수에 대해 가능한 모든 정보를 포착한다는 성질"
   ]
  },
  {
   "cell_type": "markdown",
   "metadata": {},
   "source": [
    "#### **(`PLUS`)** 상기 평가 지표를 모두 만족하며, MSE가 작은 추정량일수록 **상대적으로** 좋은 추정량이라고 할 수 있음"
   ]
  },
  {
   "cell_type": "markdown",
   "metadata": {},
   "source": [
    "<b></b>"
   ]
  },
  {
   "cell_type": "markdown",
   "metadata": {},
   "source": [
    "> ## **표본 평균(Sample Mean; Good Point Estimators for Mean)**"
   ]
  },
  {
   "cell_type": "markdown",
   "metadata": {},
   "source": [
    "#### **(1) 정의** : 점 추정량 평가지표를 모두 만족하는 평균 추정량\n",
    "#### = **[CONTENTS]**\n",
    "#### $ \\Rightarrow{} \\hat{\\Theta}_{n} = \\bar{X}_{n} = \\frac{X_{1}+X_{2}+\\cdots{}+X_{n}}{n} = \\frac{1}{n} \\displaystyle\\sum^{n}_{i=1}X_{i} \\;\\; $ where $ \\, X_{i} \\sim{} \\text{i.i.d} $"
   ]
  },
  {
   "cell_type": "markdown",
   "metadata": {},
   "source": [
    "#### **(2) 증명** :\n",
    "#### $ \\hspace{0.15cm} $ ① 불편성\n",
    "#### $ \\hspace{0.45cm} \\cdot{} E(\\hat{\\Theta{}}_{n}) = E(\\bar{X_{n}})= E(\\frac{X_{1}+X_{2}+\\cdots{}+X_{n}}{n}) = \\frac{n \\cdot{} \\theta{}}{n} = \\theta{} \\;\\; $ ($ \\because{} E(X_{i}) = \\theta{} $)\n",
    "#### $ \\hspace{0.45cm} \\Rightarrow{}{} B(\\hat{\\Theta{}_{n}}) = \\theta{} - \\theta{} = 0 $"
   ]
  },
  {
   "cell_type": "markdown",
   "metadata": {},
   "source": [
    "#### **(`PLUS`)** 만약 표본 중 하나만 골라서 모평균을 추정하고자 할 때도 불편성은 만족함\n",
    "#### $ \\hspace{0.45cm} \\cdot{} E(\\hat{\\odot{}}_{n}) = E(X_{i}) = \\theta{}, \\;\\; B(\\hat{\\odot{}_{n}}) = \\theta{} - \\theta{} = 0 $"
   ]
  },
  {
   "cell_type": "markdown",
   "metadata": {},
   "source": [
    "#### $ \\hspace{0.15cm} $ ② 일치성\n",
    "#### $ \\hspace{0.45cm} \\cdot{} \\text{MSE}(\\hat{\\Theta{}}_{n}) = \\text{var}(\\hat{\\Theta{}}_{n}) + B(\\hat{\\Theta{}}_{n})^{2} = \\text{var}(\\hat{\\Theta{}}_{n}) = \\text{var}(\\frac{X_{1}+X_{2}+\\cdots{}+X_{n}}{n}) = \\frac{n^{2} \\cdot{} \\sigma{}}{n} = \\frac{\\sigma{}}{n} \\;\\; $ ($ \\because{} \\, X_{i} \\sim{} \\text{i.i.d} $)\n",
    "#### $ \\hspace{0.45cm} \\Rightarrow{} \\displaystyle\\lim_{n\\rightarrow{}\\infty{}} \\, \\text{MSE}(\\hat{\\Theta{}}_{n}) = 0 $\n",
    "#### $ \\hspace{0.15cm} $ ③ 효율성\n",
    "#### $ \\hspace{0.45cm} \\text{var}(\\hat{\\Theta{}}_{n}) = \\frac{\\sigma{}}{n}, \\;\\; \\text{var}(\\hat{\\odot{}}_{n}) = \\text{var}(X_{i}) = \\sigma{} $ \n",
    "#### $ \\hspace{0.45cm} \\Rightarrow{}{} \\text{var}(\\hat{\\Theta{}}_{n}) < \\text{var}(\\hat{\\odot{}}_{n}) $\n",
    "#### $ \\therefore{} \\, \\hat{\\Theta{}_{n}} = \\bar{X_{n}} \\, $ is good estimator than $ \\, \\hat{\\odot{}}_{n} = X_{i} $"
   ]
  },
  {
   "cell_type": "markdown",
   "metadata": {},
   "source": [
    "<b></b>"
   ]
  },
  {
   "cell_type": "markdown",
   "metadata": {},
   "source": [
    "> ## **표본 분산(Sample Variance;Good Point Estimators for Variance)**"
   ]
  },
  {
   "cell_type": "markdown",
   "metadata": {
    "vscode": {
     "languageId": "plaintext"
    }
   },
   "source": [
    "#### **(1) 정의** : 점 추정량 평가지표를 모두 만족하는 분산 추정량\n",
    "#### = **[CONTENTS]**\n",
    "#### $ \\Rightarrow{} S^{2} = \\frac{1}{n-1} \\displaystyle\\sum^{n}_{i=1}(X_{i}-\\bar{x})^{2} = \\frac{1}{n-1} (\\displaystyle\\sum^{n}_{i=1}X_{i}^{2} - 2 \\bar{x} \\displaystyle\\sum^{n}_{i=1} X_{i} + \\displaystyle\\sum^{n}_{i=1} \\bar{x}^{2}) $\n",
    "#### $ \\hspace{0.875cm} = \\frac{1}{n-1} (\\displaystyle\\sum^{n}_{i=1}X_{i}^{2} - 2 \\bar{x} \\displaystyle\\sum^{n}_{i=1} X_{i} + n \\cdot{} \\bar{x}^{2}) = \\frac{1}{n-1} (\\displaystyle\\sum^{n}_{i=1}X_{i}^{2} - 2 n \\bar{x} + n \\cdot{} \\bar{x}^{2}) \\;\\; $ ($ \\because{} \\displaystyle\\sum^{n}_{i=1} X_{i} = n \\cdot{} \\bar{x} $) \n",
    "#### $ \\hspace{0.875cm} = \\frac{1}{n-1} [\\displaystyle\\sum^{n}_{i=1}X_{i}^{2} - n \\cdot{} \\bar{x}^{2}] \\;\\; $ where $ \\, \\bar{x} \\, $ : 표본평균의 **추정치(Estimation)**"
   ]
  },
  {
   "cell_type": "markdown",
   "metadata": {},
   "source": [
    "#### **(2) 증명** :\n",
    "#### $ \\hspace{0.15cm} $ ① 불편성\n",
    "#### $ \\hspace{0.6cm} E(\\hat{\\Theta{}}_{n}) = E(\\bar{S_{n}})= E(\\frac{1}{n-1} [\\displaystyle\\sum^{n}_{i=1}X_{i}^{2} - n \\cdot{} \\bar{x}^{2}]) = \\cdots{} = \\sigma{}^{2} $\n",
    "#### $ \\hspace{0.6cm} \\Rightarrow{}{} B(\\hat{\\Theta{}_{n}}) = \\sigma{}^{2} - \\sigma{}^{2} = 0 $"
   ]
  },
  {
   "cell_type": "markdown",
   "metadata": {},
   "source": [
    "#### **(`PLUS`)** 표본 분산의 정의에 분모가 $ \\, n-1 $ 인 이유\n",
    "#### $ \\bar{S}^{2} = \\frac{1}{n} [\\displaystyle\\sum^{n}_{i=1}X_{i}^{2} - n \\cdot{} \\bar{x}^{2}] $\n",
    "#### $ E(\\bar{S}^{2}) = E(\\frac{1}{n} (\\displaystyle\\sum^{n}_{i=1}X_{i}^{2} - n \\cdot{} \\bar{x})) = \\frac{1}{n} [ E(\\displaystyle\\sum^{n}_{i=1}X_{i}^{2} - n \\cdot{} \\bar{x}) ] = \\frac{1}{n} [ E(\\displaystyle\\sum^{n}_{i=1}X_{i}^{2}) -n \\cdot{} E(\\bar{x}) ] $\n",
    "#### $ \\hspace{1.05cm} = \\frac{1}{n} [ E(\\displaystyle\\sum^{n}_{i=1}X_{i}^{2}) -n \\cdot{} E(\\bar{x}) ] = \\frac{1}{n} [ n \\cdot{} E(X_{i}^{2}) -n \\cdot{} E(\\bar{x}) ] $\n",
    "#### $ \\hspace{1.05cm} = \\frac{1}{n} [ n \\cdot{} (\\sigma{}^{2} + \\mu{}^{2}) -n \\cdot{} E(\\bar{x}) ] \\;\\; $ ($ \\because{} \\, E(X_{i}^{2}) = \\text{var}(X_{i}) + E(X_{i})^{2} = \\sigma{}^{2} + \\mu{}^{2} $)\n",
    "#### $ \\hspace{1.05cm} = \\frac{1}{n} [ n \\cdot{} (\\sigma{}^{2} + \\mu{}^{2}) -n \\cdot{} (\\frac{\\sigma{}^{2}}{n} + \\mu{}^{2}) ] \\;\\; $ ($ \\because{} \\, E(\\bar{x}) = \\text{var}(X_{i}) + E(X_{i})^{2} = \\frac{\\sigma{}^{2}}{n} + \\mu{}^{2} $)\n",
    "#### $ \\hspace{1.05cm} = \\frac{n-1}{n} \\cdot{} \\sigma{}^{2} $ "
   ]
  },
  {
   "cell_type": "markdown",
   "metadata": {},
   "source": [
    "#### **(`PLUS`)** 만약 $ \\, \\bar{x} $ 대신 $ \\, \\mu{} $ 로 대입한다면, 위 추정량은 불편추정량이됨"
   ]
  },
  {
   "cell_type": "markdown",
   "metadata": {},
   "source": [
    "#### $ \\hspace{0.15cm} $ ② 일치성\n",
    "#### $ \\hspace{0.45cm} \\cdot{} \\text{MSE}(\\hat{\\Theta{}}_{n}) = \\text{var}(\\hat{\\Theta{}}_{n}) + B(\\hat{\\Theta{}}_{n})^{2} = \\text{var}(\\hat{\\Theta{}}_{n}) = \\text{var}(\\frac{X_{1}+X_{2}+\\cdots{}+X_{n}}{n}) = \\frac{n^{2} \\cdot{} \\sigma{}}{n} = \\frac{\\sigma{}}{n} \\;\\; $ ($ \\because{} \\, X_{i} \\sim{} \\text{i.i.d} $)\n",
    "#### $ \\hspace{0.45cm} \\Rightarrow{} \\displaystyle\\lim_{n\\rightarrow{}\\infty{}} \\, \\text{MSE}(\\hat{\\Theta{}}_{n}) = 0 $"
   ]
  },
  {
   "cell_type": "markdown",
   "metadata": {},
   "source": [
    "<b></b>"
   ]
  },
  {
   "cell_type": "markdown",
   "metadata": {},
   "source": [
    "> ## **최대 우도 추정법(Maximum Likelyhood Estimation;MLE)**"
   ]
  },
  {
   "cell_type": "markdown",
   "metadata": {},
   "source": [
    "#### **(1) 정의** : **[CONTENTS]**\n",
    "#### = **[CONTENTS]**"
   ]
  },
  {
   "cell_type": "markdown",
   "metadata": {},
   "source": [
    "<b></b>"
   ]
  }
 ],
 "metadata": {
  "kernelspec": {
   "display_name": "Python 3",
   "language": "python",
   "name": "python3"
  },
  "language_info": {
   "codemirror_mode": {
    "name": "ipython",
    "version": 3
   },
   "file_extension": ".py",
   "mimetype": "text/x-python",
   "name": "python",
   "nbconvert_exporter": "python",
   "pygments_lexer": "ipython3",
   "version": "3.8.12"
  },
  "orig_nbformat": 4
 },
 "nbformat": 4,
 "nbformat_minor": 2
}
