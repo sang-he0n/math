{
 "cells": [
  {
   "attachments": {},
   "cell_type": "markdown",
   "metadata": {},
   "source": [
    "# CH07.5. **Linear Regression**"
   ]
  },
  {
   "cell_type": "markdown",
   "metadata": {},
   "source": [
    "> ## **선형 회귀 모형(Linear Regression Model)**"
   ]
  },
  {
   "cell_type": "markdown",
   "metadata": {},
   "source": [
    "#### **(1) 정의** : 변수들간 선형적 관계 및 연관성을 추정하는 통계적으로 정의된 모형\n",
    "#### = **[CONTENTS]**\n",
    "#### ※ 모형(model) : 어떠한 현실의 현상이나 데이터를 수학적으로 정리된 관계\n",
    "#### $ \\Rightarrow{} Y_{i} = \\beta{}_{0} + \\beta{}_{1} x_{1, i} + \\beta{}_{2} x_{2, i} + \\cdots{} + \\beta{}_{k} x_{k, i} + \\epsilon{} \\;\\; $ where $ \\, Y_{i} \\sim{} \\text{i.i.d.}, \\;\\; i \\, $ : sample index\n",
    "#### **[GRAPH]**"
   ]
  },
  {
   "cell_type": "markdown",
   "metadata": {},
   "source": [
    "#### **(2) 구성** : \n",
    "#### $ \\hspace{0.15cm} $ ① 종속변수(dependent variable; $ \\, Y_{i} $) : 선형모형이 예측하고자 하는 **확률변수**\n",
    "#### $ \\hspace{0.15cm} $ ② 독립변수(independent variable; $ \\, x_{i} $) : 종속변수의 값을 예측하기 위해 입력되는 $ \\, i $ 번째 **관측값** (확률변수의 실현)\n",
    "#### $ \\hspace{0.15cm} $ ③ 회귀계수(regression coefficient; $ \\, \\beta{}_{i} $ ) : $ \\, i $ 번째 독립변수의 영향력을 정의하는 **모수(parameter)**\n",
    "#### $ \\hspace{0.15cm} $ ④ 오차항(error term; $ \\, \\epsilon{} $) : 독립변수만으로 설명할 수 없는 종속변수의 변동성을 정의하는 **확률변수**"
   ]
  },
  {
   "cell_type": "markdown",
   "metadata": {},
   "source": [
    "#### **(`PLUS`)** 오차항은 평균이 0, 분산이 $ \\, \\sigma{}^{2} $ 인 정규분포를 따름 $ \\, \\Rightarrow{} \\epsilon{} \\sim{} N(0,\\,\\sigma{}^{2}) $"
   ]
  },
  {
   "cell_type": "markdown",
   "metadata": {},
   "source": [
    "#### **(3) 종속변수 $ \\, Y_{i} $의 기대값** :\n",
    "#### $ E(Y_{i}) = E(\\beta{}_{0} + \\beta{}_{1} x_{1, i} + \\beta{}_{2} x_{2, i} + \\cdots{} + + \\beta{}_{k} x_{k, i} + \\epsilon{}) $ \n",
    "#### $ \\hspace{1cm} = E(\\beta{}_{0}) + E(\\beta{}_{1} x_{1, i}) + E(\\beta{}_{2} x_{2, i}) + \\cdots{} + E(\\beta{}_{k} x_{k, i}) + E(\\epsilon{}) $\n",
    "#### $ \\hspace{1cm} = E(\\beta{}_{0}) + E(\\beta{}_{1} x_{1, i}) + E(\\beta{}_{2} x_{2, i}) + \\cdots{} + E(\\beta{}_{k} x_{k, i}) $"
   ]
  },
  {
   "cell_type": "markdown",
   "metadata": {},
   "source": [
    "#### **(4) 종속변수 $ \\, Y_{i} $의 분산** :\n",
    "#### $ \\text{var}(Y_{i}) = \\text{var}(\\beta{}_{0} + \\beta{}_{1} x_{1, i} + \\beta{}_{2} x_{2, i} + \\cdots{} + + \\beta{}_{k} x_{k, i} + \\epsilon{}) $ \n",
    "#### $ \\hspace{1.2125cm} = \\text{var}(\\epsilon) \\;\\; $ ($ \\because{} \\beta{}_{j} \\, $ : constant)\n",
    "#### $ \\hspace{1.2125cm} = \\sigma{}^{2} $"
   ]
  },
  {
   "cell_type": "markdown",
   "metadata": {},
   "source": [
    "#### **(`PLUS`)** $ \\; Y_{i} \\sim{} N(E(\\beta{}_{0}) + \\displaystyle\\sum^{k}_{j=1}E(\\beta{}_{j} x_{j, i}),\\, \\sigma{}^{2}) $"
   ]
  },
  {
   "cell_type": "markdown",
   "metadata": {},
   "source": [
    "#### **(`PLUS`) 모분산 $ \\, \\sigma{}^{2} \\, $ 추정량** : \n",
    "#### $ S^{2} = \\frac{\\sum{}^{n}_{i=1}(Y_{i}-\\bar{Y})}{n-2} $"
   ]
  },
  {
   "cell_type": "markdown",
   "metadata": {},
   "source": [
    "#### **(5) 선형회귀모형의 종류** : \n",
    "#### $ \\hspace{0.15cm} $ ① 단순 선형 회귀 : 독립변수가 $ \\, 1 $ 개일 때 종속변수와의 관계를 추정하는 회귀 분석 방법\n",
    "#### $ \\hspace{0.15cm} $ ② 다중 선형 회귀 : 독립변수가 $ \\, 2 $ 개 이상일 때 종속변수와의 관계를 추정하는 회귀 분석 방법"
   ]
  },
  {
   "cell_type": "markdown",
   "metadata": {},
   "source": [
    "#### **(`PLUS`)** 독립변수와 종속변수 간 선형 관계를 포기할 경우, 로지스틱회귀, 회귀스플라인 등으로 분석할 수 있음"
   ]
  },
  {
   "cell_type": "markdown",
   "metadata": {},
   "source": [
    "<b></b>"
   ]
  },
  {
   "cell_type": "markdown",
   "metadata": {},
   "source": [
    "> ## **최소제곱법(Methods of Least Squared)**"
   ]
  },
  {
   "cell_type": "markdown",
   "metadata": {},
   "source": [
    "#### **(1) 정의** : 선형회귀모형에서 **종속변수가 실현된 관측값과 모델 예측값의 차이인 잔차($ e_{i} $)의 제곱합을 최소화**하여 모수인 회귀계수를 **추정**하는 방법\n",
    "#### = **[CONTENTS]**\n",
    "#### $ \\Rightarrow{} \\displaystyle\\min_{\\Beta{}_{0}, \\Beta{}_{1}, \\cdots{}, \\Beta{}_{k}} \\displaystyle\\sum^{n}_{i=1} (e_{i})^{2} = \\displaystyle\\min_{\\Beta{}_{0}, \\Beta{}_{1}, \\cdots{}, \\Beta{}_{k}} \\displaystyle\\sum^{n}_{i=1} (y_{i} - \\hat{y}_{i}){2} = \\displaystyle\\min_{\\Beta{}_{0}, \\Beta{}_{1}, \\cdots{}, \\Beta{}_{k}} \\displaystyle\\sum^{n}_{i=1} (y_{i} - (\\Beta{}_{0} + \\Beta{}_{1} x_{1,i} + \\cdots{} + \\Beta{}_{k} x_{k,i}))^{2} $"
   ]
  },
  {
   "cell_type": "markdown",
   "metadata": {},
   "source": [
    "#### **(2) 추정량** : \n",
    "#### $ \\hspace{0.15cm} $ ① 절편 : $ \\, \\Beta{}_{0} = \\bar{Y} - \\displaystyle\\sum^{k}_{j=1} \\Beta{}_{j} \\bar{x}_{j} $\n",
    "#### $ \\hspace{0.15cm} $ ② 기울기 : $ \\Beta{}_{j} = \\frac{\\sum{}^{n}_{i=1}(x_{i}-\\bar{x})(Y_{i}-\\bar{Y})}{\\sum{}^{n}_{i=1}(x_{i}-\\bar{x})^{2}} \\;\\; $ where $ \\, j \\geq{} 1 $ "
   ]
  },
  {
   "cell_type": "markdown",
   "metadata": {},
   "source": [
    "#### **(`PLUS`)** $ \\, \\bar{Y} $ 는 확률변수임"
   ]
  },
  {
   "cell_type": "markdown",
   "metadata": {},
   "source": [
    "#### **(3) 추정량의 기대값** :\n",
    "#### $ \\hspace{0.15cm} $ ① 절편 : $ \\, E(\\Beta{}_{0}) = \\beta{}_{1} $\n",
    "#### $ \\hspace{0.15cm} $ ② 기울기 : $ \\, E(\\Beta{}_{j}) = \\beta{}_{j} $"
   ]
  },
  {
   "cell_type": "markdown",
   "metadata": {},
   "source": [
    "#### **(3) 추정량의 분산** :\n",
    "#### $ \\hspace{0.15cm} $ ① 절편 : $ \\, \\text{var}(\\Beta{}_{0}) = $ **[LATEX]**\n",
    "#### $ \\hspace{0.15cm} $ ② 기울기 : $ \\, \\text{var}(\\Beta{}_{j}) = $ **[LATEX]**"
   ]
  },
  {
   "cell_type": "markdown",
   "metadata": {},
   "source": [
    "#### **(4) 추정치** : \n",
    "#### $ \\hspace{0.15cm} $ ① 절편 : $ \\, \\hat{\\beta{}_{0}} = \\bar{y} - \\displaystyle\\sum^{k}_{j=1} \\hat{\\beta{}}_{j} \\bar{x}_{j} $\n",
    "#### $ \\hspace{0.15cm} $ ② 기울기 : $ \\, \\hat{\\beta{}_{j}} = \\frac{\\sum{}^{n}_{i=1}(x_{i}-\\bar{x})(y_{i}-\\bar{y})}{\\sum{}^{n}_{i=1}(x_{i}-\\bar{x})^{2}} \\;\\; $ where $ \\, j \\geq{} 1 $ "
   ]
  },
  {
   "cell_type": "markdown",
   "metadata": {},
   "source": [
    "<b></b>"
   ]
  },
  {
   "cell_type": "markdown",
   "metadata": {},
   "source": [
    "> ## **(Inferences About the Slope)**"
   ]
  },
  {
   "cell_type": "markdown",
   "metadata": {},
   "source": [
    "<b></b>"
   ]
  },
  {
   "cell_type": "markdown",
   "metadata": {},
   "source": [
    "> ## **(CI and Prediction Interval)**"
   ]
  }
 ],
 "metadata": {
  "kernelspec": {
   "display_name": "Python 3",
   "language": "python",
   "name": "python3"
  },
  "language_info": {
   "codemirror_mode": {
    "name": "ipython",
    "version": 3
   },
   "file_extension": ".py",
   "mimetype": "text/x-python",
   "name": "python",
   "nbconvert_exporter": "python",
   "pygments_lexer": "ipython3",
   "version": "3.8.12"
  },
  "orig_nbformat": 4
 },
 "nbformat": 4,
 "nbformat_minor": 2
}
