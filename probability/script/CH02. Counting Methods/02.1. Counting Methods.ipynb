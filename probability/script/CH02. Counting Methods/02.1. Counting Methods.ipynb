{
 "cells": [
  {
   "attachments": {},
   "cell_type": "markdown",
   "metadata": {},
   "source": [
    "# CH02.1. **Counting Methods**"
   ]
  },
  {
   "cell_type": "markdown",
   "metadata": {},
   "source": [
    "> ## **(Theorem)** 곱의 원리(Multiplication principle)"
   ]
  },
  {
   "cell_type": "markdown",
   "metadata": {},
   "source": [
    "#### $ \\; r $ 개의 실험(시행)이 있을 때 $ \\; k $ 번 째 실험에서 $ n_{k} $ 개의 가능한 결과가 있는 경우 가능한 전체 결과는 아래와 같다.\n",
    "#### $ |S| = n_{1} \\times{} n_{2} \\times{} \\cdots{} \\times{} n_{r} $"
   ]
  },
  {
   "cell_type": "markdown",
   "metadata": {},
   "source": [
    "#### **(WHY?)**\n",
    "#### **[가지치기]**"
   ]
  },
  {
   "cell_type": "markdown",
   "metadata": {},
   "source": [
    "<b></b>"
   ]
  },
  {
   "cell_type": "markdown",
   "metadata": {},
   "source": [
    "> ## **표본 추출(Sampling)**"
   ]
  },
  {
   "cell_type": "markdown",
   "metadata": {},
   "source": [
    "#### **(1) 정의** : 특정 집합에서 요소(원소)를 하나 혹은 그 이상 선택하는 행위\n",
    "#### = choosing an element or elements from set"
   ]
  },
  {
   "cell_type": "markdown",
   "metadata": {},
   "source": [
    "#### **(2) 추출 방법에 따른 분류** :\n",
    "#### &nbsp;&nbsp; ① 복원 추출(sampling with replacement) : 동일한 요소 **반복** 추출\n",
    "#### &nbsp;&nbsp; ② 비복원 추출(sampling without replacement) : 동일한 요소 **비반복** 추출"
   ]
  },
  {
   "cell_type": "markdown",
   "metadata": {},
   "source": [
    "#### **(3) 순서에 따른 분류** : \n",
    "#### &nbsp;&nbsp; ① _(ordered sampling) : 추출 순서를 **고려한** 표본 추출\n",
    "#### &nbsp;&nbsp; ② _(unordered sampling) : 추출 순서를 **무시한** 표본 추출"
   ]
  },
  {
   "cell_type": "markdown",
   "metadata": {},
   "source": [
    "<b></b>"
   ]
  },
  {
   "cell_type": "markdown",
   "metadata": {},
   "source": [
    "> ## **순열(Ordered sampling without replacement; Permutation)**"
   ]
  },
  {
   "cell_type": "markdown",
   "metadata": {},
   "source": [
    "#### **(1) 정의** : 집합의 요소 $ \\; n $ 개 중 $ \\; k $ 개를 순서에 상관있고, 중복을 허용하지 않고 추출하는 방법\n",
    "#### = Ways to choose $ \\; k $ elements out of $ \\; n $ elements in a set with order and no replacement(repetition)\n",
    "#### $ \\rightarrow{} \\; P^{n}_{k} = P(n,\\; k) = P_{n, k} = _{n}P_{k} = {{n!}\\over{(n-k)!}} $ "
   ]
  },
  {
   "cell_type": "markdown",
   "metadata": {},
   "source": [
    "#### **(WHY?)** \n",
    "#### $ n $ 개의 집합 $ \\; A $ 에서 $ \\; k $ 개의 요소를 추출하는 사건 $ \\; B $의 원소의 개수를 구하고자 할 경우\n",
    "#### $ A = \\{ a_{1},\\; a_{2},\\; \\cdots{},\\; a_{n} \\},\\; |A| = n $ \n",
    "#### $ B = \\{ s_{1},\\; s_{2},\\; \\cdots{},\\; s_{k} \\} $\n",
    "#### $ s_{1} \\; $ : $ \\; n $ possible samples\n",
    "#### &nbsp;&nbsp; $ s_{1} \\in \\; \\{ a_{1},\\; a_{2},\\; \\cdots{},\\; a_{n} \\} $\n",
    "#### $ s_{2} \\; $ : $ \\; (n-1) $ posibble samples\n",
    "#### &nbsp;&nbsp; if $ \\; s_{1} = a_{1},\\; s_{2} \\in{} \\{ a_{2},\\; a_{3},\\; \\cdots{},\\; a_{n} \\} $\n",
    "#### &nbsp;&nbsp; if $ \\; s_{1} = a_{2},\\; s_{2} \\in{} \\{ a_{1},\\; a_{3},\\; \\cdots{},\\; a_{n} \\} $\n",
    "#### &nbsp;&nbsp; $ \\cdots{} $\n",
    "#### $ s_{3} \\; $ : $ \\; (n-2) $ posibble samples\n",
    "#### &nbsp;&nbsp; if $ \\; s_{1} = 1 \\; $ and $ \\; s_{2} = 2,\\; s_{3} \\in{} \\{ a_{3},\\; \\cdots{},\\; a_{n} \\} $\n",
    "#### &nbsp;&nbsp; if $ \\; s_{1} = 1 \\; $ and $ \\; s_{3} = 3,\\; s_{3} \\in{} \\{ a_{2},\\; \\cdots{},\\; a_{n} \\} $\n",
    "#### &nbsp;&nbsp; $ \\cdots{} $\n",
    "#### $ \\cdots{} $\n",
    "#### $ s_{k} \\; $ : $ \\; (n-k) $ posibble samples\n",
    "#### $ \\therefore{} \\; |B| = P(n,\\; k) = n \\times{} (n-1) \\times{} \\cdots{} (n-k) = {{n \\times{} (n-1) \\times{} \\cdots{} (n-k) \\times{} (n-k+1) \\times{}(n-k+2) \\times{} \\cdots{} \\times{} 1}\\over{(n-k+1) \\times{}(n-k+2) \\times{} \\cdots{} \\times{} 1}} = {{n!}\\over{(n-k)!}}$"
   ]
  },
  {
   "cell_type": "markdown",
   "metadata": {},
   "source": [
    "#### **(PLUS)** 특수한 경우\n",
    "#### &nbsp;&nbsp; ① $ P_{n}^{n} = n! $\n",
    "#### &nbsp;&nbsp; ② $ P_{0}^{n} = 1 $\n",
    "#### &nbsp;&nbsp; ③ if $ \\; k > n $, $ \\; P_{k}^{n} = 0 $"
   ]
  },
  {
   "cell_type": "markdown",
   "metadata": {},
   "source": [
    "#### **(2) 예시** :\n",
    "#### &nbsp;&nbsp; 어떠한 집단에 인원 $ \\; 3 $ 명이 있는데, 그 $ \\; 10 $ 명이 모두 생일이 다를 확률 ? (윤달은 없다고 가정)\n",
    "#### &nbsp;&nbsp; $ S = \\{ (0101,\\; 0102,\\; \\cdots{},\\; 1231) \\}, \\; |S| = 365^{10} $\n",
    "#### &nbsp;&nbsp; $ A = \\{ a_{1}, a_{2}, a_{3} \\} $, $ \\; a_{n} \\; $ : $ \\; n $ 번째 인원의 생일\n",
    "#### &nbsp;&nbsp; $ a_{1} \\; $ : $ \\; 365 $ possible samples\n",
    "#### &nbsp;&nbsp; $ a_{2} \\; $ : $ \\; 364 $ posibble samples\n",
    "#### &nbsp;&nbsp; $ \\cdots{} $\n",
    "#### &nbsp;&nbsp; $ a_{10} \\; $ : $ \\; 356 $ possible samples\n",
    "#### &nbsp;&nbsp; $ |A| = P(365,\\; 10) = {{365!}\\over{355!}} = 365\\times{}364\\times{}\\cdots{}\\times{}356 $\n",
    "#### &nbsp;&nbsp; $ P(A) = {{P(365,\\; 10)}\\over{365^{10}}} \\doteqdot{} 88\\% $"
   ]
  },
  {
   "cell_type": "markdown",
   "metadata": {},
   "source": [
    "<b></b>"
   ]
  },
  {
   "cell_type": "markdown",
   "metadata": {},
   "source": [
    "> ## **중복 순열(Ordered sampling with replacement; Permutation)**"
   ]
  },
  {
   "cell_type": "markdown",
   "metadata": {},
   "source": [
    "#### **(1) 정의** : 집합의 요소 $ \\; n $ 개 중 $ \\; k $ 개를 순서에 상관있고, 중복을 허용하여 추출하는 방법\n",
    "#### = Ways to choose $ \\; k $ elements out of $ \\; n $ elements in a set with order and replacement(repetition)\n",
    "#### $ \\rightarrow{} \\; \\Pi{}^{n}_{k} = \\Pi{}(n,\\; k) = \\Pi{}_{n, k} = _{n}\\Pi{}_{k} = n^{k} $ "
   ]
  },
  {
   "cell_type": "markdown",
   "metadata": {},
   "source": [
    "#### **(2) 예시** :\n",
    "#### &nbsp;&nbsp; 집합 $ \\; S = \\{ 1, 2, 3, 4, 5 \\} $ 에서 $ \\; 3 $ 개의 요소를 **중복을 허용**하여 짝수를 뽑을 확률 ?\n",
    "#### &nbsp;&nbsp; $ A = \\{ a_{1}, a_{2}, a_{3} \\} $, $ \\; a_{n} \\; $ : $ \\; n $ 번째 짝수 요소\n",
    "#### &nbsp;&nbsp; $ s_{1} \\; $ : $ \\; 2 $ possible samples, $ \\; s_{1} \\in{} \\{ 2, 4 \\} $\n",
    "#### &nbsp;&nbsp; $ s_{2} \\; $ : $ \\; 2 $ possible samples, $ \\; s_{2} \\in{} \\{ 2, 4 \\} $\n",
    "#### &nbsp;&nbsp; $ s_{3} \\; $ : $ \\; 2 $ possible samples, $ \\; s_{3} \\in{} \\{ 2, 4 \\}$\n",
    "#### &nbsp;&nbsp; $ |B| = 2 \\times{} 2 \\times{} 2 = 2^{3} = 8 $\n",
    "#### &nbsp;&nbsp; $ P(A) = {{2^{3}}\\over{5^{3}}} = {{8}\\over{125}} \\doteqdot{} 6.4\\% $"
   ]
  },
  {
   "cell_type": "markdown",
   "metadata": {},
   "source": [
    "<b></b>"
   ]
  },
  {
   "cell_type": "markdown",
   "metadata": {},
   "source": [
    "> ## **조합(unordered sampling without replacement; Combination)**"
   ]
  },
  {
   "cell_type": "markdown",
   "metadata": {},
   "source": [
    "#### **(1) 정의** : 집합의 요소 $ \\; n $ 개 중 $ \\; k $ 개를 순서에 상관없이, 중복을 허용하지 않고 추출하는 방법\n",
    "#### = Ways to choose $ \\; k $ elements out of $ \\; n $ elements in a set with unorder and no replacement(repetition)\n",
    "#### $ \\rightarrow{} \\; C^{n}_{k} = C(n,\\; k) = C_{n, k} = _{n}C_{k} = {{n!}\\over{k!(n-k)!}} $ "
   ]
  },
  {
   "cell_type": "markdown",
   "metadata": {},
   "source": [
    "#### **(2) 예시** :\n",
    "#### &nbsp;&nbsp; _"
   ]
  },
  {
   "cell_type": "markdown",
   "metadata": {},
   "source": [
    "<b></b>"
   ]
  },
  {
   "cell_type": "markdown",
   "metadata": {},
   "source": [
    "> ## **중복조합(unordered sampling with replacement; Combination)**"
   ]
  },
  {
   "cell_type": "markdown",
   "metadata": {},
   "source": [
    "#### **(1) 정의** : 집합의 요소 $ \\; n $ 개 중 $ \\; k $ 개를 순서에 상관없이, 중복을 허용하고 추출하는 방법\n",
    "#### = Ways to choose $ \\; k $ elements out of $ \\; n $ elements in a set with unorder and replacement(repetition)\n",
    "#### $ \\rightarrow{} \\; H^{n}_{k} = H(n,\\; k) = H_{n, k} = _{n}H_{k} = C(n+k-1,\\; k) = {{(n+k-1)!}\\over{k!(n+1)!}} $ "
   ]
  },
  {
   "cell_type": "markdown",
   "metadata": {},
   "source": [
    "#### **(2) 예시** :\n",
    "#### &nbsp;&nbsp; _"
   ]
  }
 ],
 "metadata": {
  "kernelspec": {
   "display_name": "Python 3",
   "language": "python",
   "name": "python3"
  },
  "language_info": {
   "codemirror_mode": {
    "name": "ipython",
    "version": 3
   },
   "file_extension": ".py",
   "mimetype": "text/x-python",
   "name": "python",
   "nbconvert_exporter": "python",
   "pygments_lexer": "ipython3",
   "version": "3.8.18"
  },
  "orig_nbformat": 4
 },
 "nbformat": 4,
 "nbformat_minor": 2
}
