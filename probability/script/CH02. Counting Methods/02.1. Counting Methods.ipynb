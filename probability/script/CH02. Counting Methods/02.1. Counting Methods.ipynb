{
 "cells": [
  {
   "attachments": {},
   "cell_type": "markdown",
   "metadata": {},
   "source": [
    "# CH02.1. **Counting Methods**"
   ]
  },
  {
   "cell_type": "markdown",
   "metadata": {},
   "source": [
    "> ## **(Theorem)** 곱의 원리(Multiplication principle)"
   ]
  },
  {
   "cell_type": "markdown",
   "metadata": {},
   "source": [
    "#### $ \\; r $ 개의 실험(시행)이 있을 때 $ \\; k $ 번 째 실험에서 $ n_{k} $ 개의 가능한 결과가 있는 경우 가능한 전체 결과는 아래와 같다.\n",
    "#### $ |S| = n_{1} \\times{} n_{2} \\times{} \\cdots{} \\times{} n_{r} $"
   ]
  },
  {
   "cell_type": "markdown",
   "metadata": {},
   "source": [
    "<b></b>"
   ]
  },
  {
   "cell_type": "markdown",
   "metadata": {},
   "source": [
    "> ## **표본 추출(Sampling)**"
   ]
  },
  {
   "cell_type": "markdown",
   "metadata": {},
   "source": [
    "#### **(1) 정의** : 특정 집합에서 요소(원소)를 하나 혹은 그 이상 선택하는 행위\n",
    "#### = choosing an element or elements from set"
   ]
  },
  {
   "cell_type": "markdown",
   "metadata": {},
   "source": [
    "#### **(2) 추출 방법에 따른 분류** :\n",
    "#### &nbsp;&nbsp; ① 복원 추출(sampling with replacement) : 동일한 요소 **반복** 추출\n",
    "#### &nbsp;&nbsp; ② 비복원 추출(sampling without replacement) : 동일한 요소 **비반복** 추출"
   ]
  },
  {
   "cell_type": "markdown",
   "metadata": {},
   "source": [
    "#### **(3) 순서에 따른 분류** : \n",
    "#### &nbsp;&nbsp; ① _(ordered sampling) : 추출 순서를 **고려한** 표본 추출\n",
    "#### &nbsp;&nbsp; ② _(unordered sampling) : 추출 순서를 **무시한** 표본 추출"
   ]
  },
  {
   "cell_type": "markdown",
   "metadata": {},
   "source": [
    "<b></b>"
   ]
  },
  {
   "cell_type": "markdown",
   "metadata": {},
   "source": [
    "> ## **순열(Ordered sampling without replacement; Permutation)**"
   ]
  },
  {
   "cell_type": "markdown",
   "metadata": {},
   "source": [
    "#### **(1) 정의** : 집합의 요소 $ \\; n $ 개 중 $ \\; k $ 개를 순서에 상관있고, 중복을 허용하지 않고 추출하는 방법\n",
    "#### = Ways to choose $ \\; k $ elements out of $ \\; n $ elements in a set with order and no replacement(repetition)\n",
    "#### $ \\rightarrow{} \\; P^{n}_{k} = P(n,\\; k) = P_{n, k} = _{n}P_{k} = {{n!}\\over{(n-k)!}} $ "
   ]
  },
  {
   "cell_type": "markdown",
   "metadata": {},
   "source": [
    "#### **(PLUS)** 특수한 경우\n",
    "#### &nbsp;&nbsp; ① $ P_{n}^{n} = n! $\n",
    "#### &nbsp;&nbsp; ② $ P_{0}^{n} = 1 $\n",
    "#### &nbsp;&nbsp; ③ if $ \\; k > n $, $ \\; P_{k}^{n} = 0 $"
   ]
  },
  {
   "cell_type": "markdown",
   "metadata": {},
   "source": [
    "#### **(2) 예시** :\n",
    "#### &nbsp;&nbsp; ① _\n",
    "#### &nbsp;&nbsp; ② _"
   ]
  },
  {
   "cell_type": "markdown",
   "metadata": {},
   "source": [
    "<b></b>"
   ]
  },
  {
   "cell_type": "markdown",
   "metadata": {},
   "source": [
    "> ## **중복 순열(Ordered sampling with replacement; Permutation)**"
   ]
  },
  {
   "cell_type": "markdown",
   "metadata": {},
   "source": [
    "#### **(1) 정의** : 집합의 요소 $ \\; n $ 개 중 $ \\; k $ 개를 순서에 상관있고, 중복을 허용하여 추출하는 방법\n",
    "#### = Ways to choose $ \\; k $ elements out of $ \\; n $ elements in a set with order and replacement(repetition)"
   ]
  },
  {
   "cell_type": "markdown",
   "metadata": {},
   "source": [
    "#### **(2) 예시** :\n",
    "#### &nbsp;&nbsp; ① _\n",
    "#### &nbsp;&nbsp; ② _"
   ]
  },
  {
   "cell_type": "markdown",
   "metadata": {},
   "source": [
    "<b></b>"
   ]
  },
  {
   "cell_type": "markdown",
   "metadata": {},
   "source": [
    "> ## **조합(unordered sampling without replacement; Combination)**"
   ]
  },
  {
   "cell_type": "markdown",
   "metadata": {},
   "source": [
    "#### **(1) 정의** : 집합의 요소 $ \\; n $ 개 중 $ \\; k $ 개를 순서에 상관없이, 중복을 허용하지 않고 추출하는 방법\n",
    "#### = Ways to choose $ \\; k $ elements out of $ \\; n $ elements in a set with unorder and no replacement(repetition)"
   ]
  },
  {
   "cell_type": "markdown",
   "metadata": {},
   "source": [
    "#### **(2) 예시** :\n",
    "#### &nbsp;&nbsp; ① _\n",
    "#### &nbsp;&nbsp; ② _"
   ]
  },
  {
   "cell_type": "markdown",
   "metadata": {},
   "source": [
    "<b></b>"
   ]
  },
  {
   "cell_type": "markdown",
   "metadata": {},
   "source": [
    "> ## **중복조합(unordered sampling with replacement; Combination)**"
   ]
  },
  {
   "cell_type": "markdown",
   "metadata": {},
   "source": [
    "#### **(1) 정의** : 집합의 요소 $ \\; n $ 개 중 $ \\; k $ 개를 순서에 상관없이, 중복을 허용하고 추출하는 방법\n",
    "#### = Ways to choose $ \\; k $ elements out of $ \\; n $ elements in a set with unorder and replacement(repetition)"
   ]
  },
  {
   "cell_type": "markdown",
   "metadata": {},
   "source": [
    "#### **(2) 예시** :\n",
    "#### &nbsp;&nbsp; ① _\n",
    "#### &nbsp;&nbsp; ② _"
   ]
  }
 ],
 "metadata": {
  "kernelspec": {
   "display_name": "Python 3",
   "language": "python",
   "name": "python3"
  },
  "language_info": {
   "codemirror_mode": {
    "name": "ipython",
    "version": 3
   },
   "file_extension": ".py",
   "mimetype": "text/x-python",
   "name": "python",
   "nbconvert_exporter": "python",
   "pygments_lexer": "ipython3",
   "version": "3.8.18"
  },
  "orig_nbformat": 4
 },
 "nbformat": 4,
 "nbformat_minor": 2
}
