{
 "cells": [
  {
   "attachments": {},
   "cell_type": "markdown",
   "metadata": {},
   "source": [
    "# CH05.1. **More than Two Random Variables**"
   ]
  },
  {
   "cell_type": "markdown",
   "metadata": {},
   "source": [
    "> ## **결합분포의 확장(Extension of Joint RV)**"
   ]
  },
  {
   "cell_type": "markdown",
   "metadata": {
    "vscode": {
     "languageId": "plaintext"
    }
   },
   "source": [
    "#### **(1) $ \\, n $ 개 확률변수에 대한 결합분포의 정의** :\n",
    "#### $ \\hspace{0.15cm} $ ① 이산결합확률변수\n",
    "#### $ \\hspace{0.6cm} P_{X_{1}X_{2}\\cdots{}X_{n}}(x_{1},\\,x_{2},\\,\\cdots{},\\,x_{n}) = P(X_{1}=x_{1},\\,X_{2}=x_{2},\\,\\cdots{},\\, X_{n}=x_{n}) $ \n",
    "#### $ \\hspace{0.15cm} $ ② 결합누적분포함수\n",
    "#### $ \\hspace{0.6cm} F_{X_{1}X_{2}\\cdots{}X_{n}}(x_{1},\\,x_{2},\\,\\cdots{},\\,x_{n}) = F(X_{1}=x_{1},\\,X_{2}=x_{2},\\,\\cdots{},\\, X_{n}=x_{n}) $ \n",
    "#### $ \\hspace{4.675cm} = P(X_{1}\\leq{}x_{1},\\,X_{2}\\leq{}x_{2},\\,\\cdots{},X_{n}\\leq{}x_{n}) $\n",
    "#### $ \\hspace{0.15cm} $ ③ 연속결합확률변수\n",
    "#### $ \\hspace{0.6cm} f_{X_{1}X_{2}\\cdots{}X_{n}}(x_{1},\\,x_{2},\\,\\cdots{},\\,x_{n}) = f(X_{1}=x_{1},\\, X_{2}=x_{2},\\, \\cdots{},\\, X_{n}=x_{n}) $\n",
    "#### $ \\hspace{4.675cm} = \\frac{\\partial{}^{n}}{\\partial{}x_{1} \\partial{}x_{2} \\cdots{} \\partial{}x_{n}} F(X_{1}=x_{1},\\, X_{2}=x_{2},\\,\\cdots{},\\, X_{n}=x_{n}) $ "
   ]
  },
  {
   "cell_type": "markdown",
   "metadata": {},
   "source": [
    "#### **(2) $ \\, n $ 개 확률변수에 대한 주변 결합분포의 정의** :\n",
    "#### $ \\hspace{0.15cm} $ ① 주변 이산결합확률변수\n",
    "#### $ \\hspace{0.6cm} P_{X_{1}}(x_{1}) = P(X_{1}=x_{1}) = \\displaystyle\\sum_{x_{2}\\in{}R_{2}}\\displaystyle\\sum_{x_{3}\\in{}R_{3}}\\cdots{}\\displaystyle\\sum_{x_{n}\\in{}R_{n}} P(X_{1}=x_{1},\\, X_{2}=X_{2},\\, \\cdots{},\\, X_{n}=x_{n}) $ \n",
    "#### $ \\hspace{0.15cm} $ ② 주변 결합누적분포함수\n",
    "#### $ \\hspace{0.6cm} F_{X_{1}}(x_{1}) = P(X\\leq{}x_{1}) = \\displaystyle\\sum_{x_{2}\\leq{}\\infty{}}\\displaystyle\\sum_{x_{3}\\leq{}\\infty{}}\\cdots{}\\displaystyle\\sum_{x_{n}\\leq{}\\infty{}} P(X_{1}\\leq{}x_{1},\\,X_{2}\\leq{}x_{2},\\,\\cdots{},X_{n}\\leq{}x_{n}) $ \n",
    "#### $ \\hspace{0.15cm} $ ③ 주변 연속결합확률변수\n",
    "#### $ \\hspace{0.6cm} f_{X_{1}}(x_{1}) = f(X_{1}=x_{1}) = \\displaystyle\\int^{\\infty{}}_{-\\infty{}}\\displaystyle\\int^{\\infty{}}_{-\\infty{}}\\cdots{}\\displaystyle\\int^{\\infty{}}_{-\\infty{}} f(X_{1}=x_{1},\\, X_{2}=x_{2},\\, \\cdots{},\\, X_{n}=x_{n}) \\text{dx}_{2}\\text{dx}_{3} \\cdots{} \\text{dx}_{n} $"
   ]
  },
  {
   "cell_type": "markdown",
   "metadata": {},
   "source": [
    "#### **(3) $ \\, n $ 개 확률변수에 대한 독립 관계의 정의** :\n",
    "#### $ \\hspace{0.15cm} $ ① 이산결합확률변수\n",
    "#### $ \\hspace{0.6cm} P(X_{1}=x_{1},\\,X_{2}=x_{2},\\,\\cdots{},X_{n}=x_{n}) = P(X_{1}=x_{1})P(X_{2}=x_{2})\\cdots{}P(X_{n}=x_{n}), \\,\\, $ for all $ \\, (x_{1},\\,\\cdots{},\\,x_{n}) \\in{} \\mathbb{R}^{n} $\n",
    "#### $ \\hspace{0.15cm} $ ② 결합누적분포함수\n",
    "#### $ \\hspace{0.6cm} F(X_{1}=x_{1},\\,X_{2}=x_{2},\\,\\cdots{},X_{n}=x_{n}) = F(X_{1}=x_{1})F(X_{2}=x_{2})\\cdots{}F(X_{n}=x_{n}), \\,\\, $ for all $ \\, (x_{1},\\,\\cdots{},\\,x_{n}) \\in{} \\mathbb{R}^{n} $\n",
    "#### $ \\hspace{0.15cm} $ ③ 연속결합확률변수\n",
    "#### $ \\hspace{0.6cm} f(X_{1}=x_{1},\\, X_{2}=x_{2},\\, \\cdots{},\\, X_{n}=x_{n}) = f(X_{1}=x_{1})f(X_{2}=x_{2})\\cdots{}f(X_{n}=x_{n}), \\,\\, $ for all $ \\, (x_{1},\\,\\cdots{},\\,x_{n}) \\in{} \\mathbb{R}^{n} $"
   ]
  },
  {
   "cell_type": "markdown",
   "metadata": {},
   "source": [
    "#### **(`PLUS`)** 위 독립 관계가 만족하면 쌍 독립(pairwise independent) 관계도 만족함"
   ]
  },
  {
   "cell_type": "markdown",
   "metadata": {},
   "source": [
    "#### **(`PLUS`)** 확률변수 $ \\, X_{1},\\, X_{2},\\, \\cdots{},\\, X_{n} $ 가 독립 관계라면 아래 식을 만족함\n",
    "#### $ E(X_{1}X_{2}\\cdots{}X_{n}) = E(X_{1})E(X_{2})\\cdots{}E(X_{n}) $\n",
    "#### 단, **역은 성립하지 않음!**"
   ]
  },
  {
   "cell_type": "markdown",
   "metadata": {},
   "source": [
    "<b></b>"
   ]
  },
  {
   "cell_type": "markdown",
   "metadata": {},
   "source": [
    "> ## **독립항등분포(Independent and Identical Distribution ; I.I.D)**"
   ]
  },
  {
   "cell_type": "markdown",
   "metadata": {},
   "source": [
    "#### **(1) 정의** : 확률변수 $ \\, X_{1},\\, X_{2},\\, \\cdots{},\\, X_{n} $ 가 독립 관계이고, 모두 같은 주변 분포(marginal Distribution)를 갖는 관계\n",
    "#### = A relationship where the random variables $ \\, X_{1},\\, X_{2},\\, \\cdots{},\\, X_{n} \\, $ are independent and share the same marginal distribution\n",
    "#### $ \\Rightarrow{} F(X_{1}=x_{1}) = F(X_{2}=x_{2}) = \\cdots{} = F(X_{n}=x_{n}) $ \n",
    "#### $ \\Leftrightarrow{} P(X_{1}=x_{1}) = P(X_{2}=x_{2}) = \\cdots{} = P(X_{n}=x_{n}), \\,\\, $ if $ \\, X_{i} \\, $ is discrete Random variable\n",
    "#### $ \\Leftrightarrow{} f(X_{1}=x_{1}) = f(X_{2}=x_{2}) = \\cdots{} = f(X_{n}=x_{n}), \\,\\, $ if $ \\, X_{i} \\, $ is continuous Random variable"
   ]
  },
  {
   "cell_type": "markdown",
   "metadata": {},
   "source": [
    "#### **(`PLUS`)** 개별 확률변수는 독립 관계이므로 $ \\; E(X_{1}X_{2}\\cdots{}X_{n}) = E(X_{1})^{n} $"
   ]
  },
  {
   "cell_type": "markdown",
   "metadata": {},
   "source": [
    "<b></b>"
   ]
  },
  {
   "cell_type": "markdown",
   "metadata": {},
   "source": [
    "> ## **적률(Moment)**"
   ]
  },
  {
   "cell_type": "markdown",
   "metadata": {},
   "source": [
    "#### **(1) 정의** : 확률변수의 $ \\, n $ 차 기대값\n",
    "#### = $ n $ -th moment of a random variable\n",
    "#### $ \\Rightarrow{} E(X^{n}) $"
   ]
  },
  {
   "cell_type": "markdown",
   "metadata": {},
   "source": [
    "#### **(`PLUS`) $ \\; n $ 차 중심적률($ n $ -th central moment)의 정의** : 확률변수 기대값의 $ \\; n $ 차 기대값\n",
    "#### $ \\Rightarrow{} E((X-E(X))^{n}) $"
   ]
  },
  {
   "cell_type": "markdown",
   "metadata": {},
   "source": [
    "#### **(`PLUS`)** \n",
    "#### $ \\hspace{0.15cm} \\cdot{} \\, 1 $ 차 적률 : $ \\, E(X) \\rightarrow{} $ 기대값\n",
    "#### $ \\hspace{0.15cm} \\cdot{} \\, 2 $ 차 중심적률 : $ \\, E((X-E(X))^{2}) \\, \\rightarrow{} $ 분산"
   ]
  },
  {
   "cell_type": "markdown",
   "metadata": {},
   "source": [
    "<b></b>"
   ]
  },
  {
   "cell_type": "markdown",
   "metadata": {},
   "source": [
    "> ## (Theorem 5-1) **적률의 존재성(Existence of Moments)**"
   ]
  },
  {
   "cell_type": "markdown",
   "metadata": {},
   "source": [
    "#### $ k $ 차 적률이 존재하고 가산일 때, $ \\, 0 $ 보다 크고 $ \\, k $ 보다 낮은 $ \\, i $ 차 적률 역시 존재한다. \n",
    "#### $ E(X^{k}) < \\infty{} \\, \\implies{} \\, E(X^{l}) < \\infty{} \\;\\; $ where $ \\; 0 \\leq{} l < k $"
   ]
  },
  {
   "cell_type": "markdown",
   "metadata": {},
   "source": [
    "<b></b>"
   ]
  },
  {
   "cell_type": "markdown",
   "metadata": {},
   "source": [
    "> ## **적률생성함수(Moment Generating Functions; MGF)**"
   ]
  },
  {
   "cell_type": "markdown",
   "metadata": {},
   "source": [
    "#### **(1) 정의** : 확률변수의 모든 적률을 도출할 수 있는 함수 \n",
    "#### = a function that can derive all the moments of a random variable\n",
    "#### = 확률변수의 분포를 특징짓는 함수\n",
    "#### $ \\Rightarrow{} M_{X}(s) = E(e^{sX}), \\;\\; $ for all $ \\, s \\in{} (-s_{0},\\, s_{0}) \\, $ and $ \\, s_{0} \\, $ is positive constant"
   ]
  },
  {
   "cell_type": "markdown",
   "metadata": {},
   "source": [
    "#### **(`WHY?`)**\n",
    "#### $ e^{x} = 1 + x + \\frac{x^{2}}{2!} + \\cdots{} = \\displaystyle\\sum^{\\infty{}}_{k=0} \\frac{x^{k}}{k!} \\;\\; $ ($ e^{x} $ 의 테일러 전개)\n",
    "#### $ e^{sX} = \\displaystyle\\sum^{\\infty{}}_{k=0} \\frac{(sX)^{k}}{k!} = \\displaystyle\\sum^{\\infty{}}_{k=0} \\frac{s^{k}X^{k}}{k!} $\n",
    "#### $ E(e^{sX}) = E(\\displaystyle\\sum^{\\infty{}}_{k=0} \\frac{s^{k}X^{k}}{k!}) = \\displaystyle\\sum^{\\infty{}}_{k=0} \\frac{s^{k}}{k!} E(X^{k}) $\n",
    "#### $ \\hspace{1.175cm} = E(1) + sE(X) + \\frac{s^{2}}{2!} E(X^{2}) + \\frac{s^{3}}{3!} E(X^{3}) +\\cdots{} = M_{X}(s) $\n",
    "#### $ M_{X}(0) = E(1) = 1 $\n",
    "#### $ \\frac{\\text{d}}{\\text{ds}} M_{X}(s) = M'_{X}(s) = E(X) + \\frac{2s}{2!}E(X^{2}) + \\frac{3s^{2}}{3!}E(X^{3}) + \\cdots{} $ \n",
    "#### $ M'_{X}(0) = E(X) $\n",
    "#### $ M''_{X}(s) = \\frac{2}{2!}E(X^{2}) + \\frac{3\\cdot{}2\\cdot{}s}{3!}E(X^{3}) + \\cdots{} $\n",
    "#### $ M''_{X}(0) = E(X^{2}) $\n",
    "#### $ \\cdots{} $\n",
    "#### $ M^{(k)}_{X}(0) = E(X^{k}) $\n",
    "#### $ \\Rightarrow{} $ MGF를 $ \\, n $ 차 미분하면 확률변수의 $ \\, n $ 차 기대값이 나옴"
   ]
  },
  {
   "cell_type": "markdown",
   "metadata": {},
   "source": [
    "#### **(2) 확률변수 별 계산** : LOTUS($ g(x) = e^{sx} $)를 이용하여 계산\n",
    "#### $ \\hspace{0.15cm} $ ① 이산확률변수\n",
    "#### $ \\hspace{0.6cm} M_{X}(s) = \\displaystyle\\sum_{x_{i}\\in{}X(S)} e^{sx}P_{X}(x_{i}) $\n",
    "#### $ \\hspace{0.15cm} $ ② 연속확률변수\n",
    "#### $ \\hspace{0.6cm} M_{X}(s) = \\displaystyle\\int^{\\infty{}}_{-\\infty{}} e^{sx}f_{X}(x) \\text{dx} $"
   ]
  },
  {
   "cell_type": "markdown",
   "metadata": {},
   "source": [
    "<b></b>"
   ]
  },
  {
   "cell_type": "markdown",
   "metadata": {},
   "source": [
    "> ## (Theorem 6-2) **적률생성함수의 유일성(Uniqueness of MGF)**"
   ]
  },
  {
   "cell_type": "markdown",
   "metadata": {},
   "source": [
    "#### 두 확률변수의 적률생성함수가 같을 경우, 두 확률변수는 같은 분포를 갖는다. 명제의 역도 성립한다.\n",
    "#### $ M_{X}(s) = M_{Y}(s), \\;\\; $ for all $ s \\in{} (-s_{0},\\, s_{0}) \\, \\iff{} \\, X \\stackrel{\\text{distribution}}{=} Y $"
   ]
  },
  {
   "cell_type": "markdown",
   "metadata": {},
   "source": [
    "<b></b>"
   ]
  },
  {
   "cell_type": "markdown",
   "metadata": {},
   "source": [
    "> ## **확률변수들의 합(Sum of Random Variables)**"
   ]
  },
  {
   "cell_type": "markdown",
   "metadata": {},
   "source": [
    "#### **(1) 정의** : **[CONTENTS]**"
   ]
  },
  {
   "cell_type": "markdown",
   "metadata": {},
   "source": [
    "#### **(2) 기대값** : **[CONTENTS]**\n",
    "#### $ E(Y) = E(X_{1}+X_{2}+\\cdots{}+X_{n}) = E(X_{1}) + E(X_{2}) + \\cdots{} + E(X_{n}) \\;\\; $ ($ \\because{} \\; $ 기대값의 선형성)"
   ]
  },
  {
   "cell_type": "markdown",
   "metadata": {},
   "source": [
    "#### **(3) 분산** : **[CONTENTS]**\n",
    "#### $ \\text{var}(Y) = \\text{var}(X_{1}) + \\text{var}(X_{2} + \\cdots{} + X_{n}) + 2\\text{cov}(X_{1},\\; X_{2}+\\cdots{}+x_{n}) $ \n",
    "#### $ \\hspace{1.15cm} = \\text{var}(X_{1}) + \\text{var}(X_{2}) + \\text{var}(X_{3} + \\cdots{} + X_{n}) + 2\\text{cov}(X_{1},\\; X_{2}+\\cdots{}+x_{n}) + 2\\text{cov}(X_{2},\\; X_{3}+\\cdots{}+X_{n}) $ \n",
    "#### $ \\hspace{1.15cm} = \\text{var}(X_{1}) + \\cdots{} + \\text{var}(X_{n}) + 2\\text{cov}(X_{1},\\; X_{2}+\\cdots{}+x_{n}) + \\cdots{} + 2\\text{cov}(X_{n-1},\\; X_{n}) $\n",
    "#### $ \\hspace{1.15cm} = \\displaystyle\\sum^{n}_{i=1}\\text{var}(X_{i}) + 2 \\displaystyle\\sum_{i<k}\\text{cov}(X_{i},\\; X_{k}) $\n",
    "#### $ \\hspace{1.15cm} = \\displaystyle\\sum^{n}_{i=1}\\text{var}(X_{i}) + 2 C^{n}_{2} \\text{cov}(X_{i},\\; X_{k}) $"
   ]
  },
  {
   "cell_type": "markdown",
   "metadata": {},
   "source": [
    "#### **(`PLUS`) 독립 관계일 경우** :\n",
    "#### $ \\text{var}(Y) = \\displaystyle\\sum^{n}_{i=1}\\text{var}(X_{i}) $"
   ]
  },
  {
   "cell_type": "markdown",
   "metadata": {},
   "source": [
    "#### **(4) 적률생성함수** :\n",
    "#### $ M_{Y}(s) = E(e^{sY}) = E(e^{s(X_{1}+X_{2}+\\cdots{}+X_{n})}) = E(e^{sX_{1}}e^{sX_{2}}\\cdots{}e^{sX_{n}}) $"
   ]
  },
  {
   "cell_type": "markdown",
   "metadata": {},
   "source": [
    "#### **(`PLUS`) 독립 관계일 경우** :\n",
    "#### $ M_{Y}(s) = E(e^{sY}) = E(e^{s(X_{1}+X_{2}+\\cdots{}+X_{n})}) = E(e^{sX_{1}}e^{sX_{2}}\\cdots{}e^{sX_{n}}) = E(e^{sX_{1}})E(e^{sX_{2}})\\cdots{}E(e^{sX_{n}}) $\n",
    "#### $ \\hspace{1.1cm} = M_{X_{1}}(s)M_{X_{2}}(s)\\cdots{}M_{X_{n}}(s) $"
   ]
  },
  {
   "cell_type": "markdown",
   "metadata": {},
   "source": [
    "#### **(`PLUS`) 독립항등분포(i.i.d)일 경우** :\n",
    "#### $ M_{Y}(s) = E(e^{sY}) = E(e^{s(X_{1}+X_{2}+\\cdots{}+X_{n})}) = E(e^{sX_{1}}e^{sX_{2}}\\cdots{}e^{sX_{n}}) = E(e^{sX_{1}})E(e^{sX_{2}})\\cdots{}E(e^{sX_{n}}) $\n",
    "#### $ \\hspace{1.1cm} = M_{X_{1}}(s)M_{X_{2}}(s)\\cdots{}M_{X_{n}}(s) $\n",
    "#### $ \\hspace{1.1cm} = (M_{X_{i}}(s))^{n} $"
   ]
  },
  {
   "cell_type": "markdown",
   "metadata": {},
   "source": [
    "<b></b>"
   ]
  },
  {
   "cell_type": "markdown",
   "metadata": {},
   "source": [
    "> ## **특성함수(Characteristic Function;CF)**"
   ]
  },
  {
   "cell_type": "markdown",
   "metadata": {},
   "source": [
    "#### **(1) 정의** : 적률생성함수가 수렴하지않을 때 분포의 특성을 **정의할 수 있는** 함수\n",
    "#### = a  function defining distribution traits when the MGF diverges\n",
    "#### $ \\Rightarrow{} \\Omega{}_{X}(w) = E(e^{iwX}) \\;\\; $ where $ \\, i = \\sqrt{-1} $"
   ]
  },
  {
   "cell_type": "markdown",
   "metadata": {},
   "source": [
    "#### **(2) 적률생성함수와의 관계** :\n",
    "#### $ M_{X}(0) = \\Omega{}_{X}(0) = 1 $\n",
    "#### $ M'_{X}(0) = E(X), \\;\\; \\Omega{}'_{X}(0) = iE(X) $\n",
    "#### $ M''_{X}(0) = E(X^{2}), \\;\\; \\Omega{}''_{X}(0) = iE(X^{2}) $\n",
    "#### $ \\cdots{} $\n",
    "#### $ M^{(k)}_{X}(0) = E(X^{k}), \\;\\; \\Omega^{(k)}_{X}(0) = i^{k}E(X^{k}) $"
   ]
  },
  {
   "cell_type": "markdown",
   "metadata": {},
   "source": [
    "<b></b>"
   ]
  },
  {
   "cell_type": "markdown",
   "metadata": {},
   "source": [
    "> ## (Theorem 6-5) **특성함수의 유일성(Uniqueness of CF)**"
   ]
  },
  {
   "cell_type": "markdown",
   "metadata": {},
   "source": [
    "#### 두 확률변수의 특성함수가 같을 경우, 두 확률변수는 같은 분포를 갖는다. 명제의 역도 성립한다.\n",
    "#### $ \\Omega_{X}(w) = \\Omega_{Y}(w) \\, \\iff{} \\, X \\stackrel{\\text{distribution}}{=} Y $"
   ]
  },
  {
   "cell_type": "markdown",
   "metadata": {},
   "source": [
    "<b></b>"
   ]
  },
  {
   "cell_type": "markdown",
   "metadata": {},
   "source": [
    "> ## **확률생성함수(Probability Generating Functions;PGF)**"
   ]
  },
  {
   "cell_type": "markdown",
   "metadata": {},
   "source": [
    "#### **(1) 정의** : 비음수 정수의 범위(range)를 갖는 이산확률변수의 확률을 생성하는 함수\n",
    "#### = a function generating probabilities for non-negative integer-valued discrete random variables\n",
    "#### = 비음수 정수의 범위를 갖는 이산확률변수의 분포를 특징짓는 함수\n",
    "#### $ \\Rightarrow{} G_{X}(s) = E(s^{X}), \\;\\; $ for all $ \\, s \\in{} \\mathbb{R} \\, $ and $ \\, R_{X} = \\{ 0,\\; 1,\\; 2,\\; \\cdots{} \\} $"
   ]
  },
  {
   "cell_type": "markdown",
   "metadata": {},
   "source": [
    "#### **(`WHY?`)**\n",
    "#### $ G_{X}(s) = \\displaystyle\\sum_{x_{i}\\in{}R_{X}} s^{x_{i}}P_{X}(x_{i}) = s^{0}P_{X}(0) + s^{1}P_{X}(1) + s^{3}P_{X}(3) + \\cdots{} $\n",
    "#### $ \\hspace{1.115cm} = P_{X}(0) + sP_{X}(1) + s^{2}P_{X}(2) + s^{3}P_{X}(3) + \\cdots{} $\n",
    "#### $ G_{X}(0) = P_{X}(0) $ \n",
    "#### $ \\frac{\\text{d}}{\\text{ds}} G_{X}(s) = G'_{X}(s) = P_{X}(1) + 2sP_{X}(2) + 3s^{2}P_{X}(3) + \\cdots{} = \\displaystyle\\sum^{\\infty{}}_{n=0} n s^{n-1} P_{X}(n) $\n",
    "#### $ G'_{X}(0) = P_{X}(1) $\n",
    "#### $ G''_{X}(s) = 2P_{X}(2) + 3\\cdot{}2\\cdot{}s P_{X}(3) + \\cdots{} $\n",
    "#### $ G''_{X}(0) = 2P_{X}(2) $\n",
    "#### $ \\cdots{} $\n",
    "#### $ G^{(k)}_{X}(s) = \\displaystyle\\sum^{\\infty{}}_{n=k} \\frac{n!}{(n-k)!} s^{n-k} P_{X}(n) $\n",
    "#### $ G^{(k)}_{X}(0) = k!P_{X}(k) $\n",
    "#### $ G^{(k)}_{X}(1) = \\displaystyle\\sum^{\\infty{}}_{n=k} \\frac{n!}{(n-k)!} P_{X}(n) = \\displaystyle\\sum^{\\infty{}}_{\\mathbf{n=0}} \\frac{n!}{(n-k)!} P_{X}(n) $\n",
    "#### $ \\hspace{1.175cm} = \\displaystyle\\sum^{\\infty{}}_{n=0} n(n-1)\\cdots{}(n-k+1) P_{X}(n) $\n",
    "#### $ \\hspace{1.175cm} = \\displaystyle\\sum^{\\infty{}}_{x=0} x(x-1)\\cdots{}(x-k+1) P_{X}(x), \\;\\; $ where $ \\, n = x $\n",
    "#### $ \\hspace{1.175cm} = E(X(X-1)(X-2)\\cdots{}(X-K+1)) $"
   ]
  },
  {
   "cell_type": "markdown",
   "metadata": {},
   "source": [
    "#### **(`PLUS`) 독립 관계일 때** : \n",
    "#### 확률변수 $ \\, X_{1},\\, X_{2},\\; \\cdots{},\\, X_{n} $ 이 독립관계라면 $ \\, Y = X_{1} + X_{2} + \\cdots{} + X_{n} $ 일 때\n",
    "#### $ G_{Y}(s) = G_{X_{1}}(s)G_{X_{2}}(s)\\cdots{}G_{X_{n}}(s) $"
   ]
  }
 ],
 "metadata": {
  "kernelspec": {
   "display_name": "Python 3",
   "language": "python",
   "name": "python3"
  },
  "language_info": {
   "codemirror_mode": {
    "name": "ipython",
    "version": 3
   },
   "file_extension": ".py",
   "mimetype": "text/x-python",
   "name": "python",
   "nbconvert_exporter": "python",
   "pygments_lexer": "ipython3",
   "version": "3.8.12"
  },
  "orig_nbformat": 4
 },
 "nbformat": 4,
 "nbformat_minor": 2
}
