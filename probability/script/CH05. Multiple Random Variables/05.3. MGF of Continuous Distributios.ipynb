{
 "cells": [
  {
   "attachments": {},
   "cell_type": "markdown",
   "metadata": {},
   "source": [
    "# CH05.3. **MGF of Continuous Distributions**"
   ]
  },
  {
   "cell_type": "markdown",
   "metadata": {},
   "source": [
    "> ## **연속분포의 적률생성함수(MGF of Continuous Distribution)**"
   ]
  },
  {
   "cell_type": "markdown",
   "metadata": {},
   "source": [
    "#### **(1) 연속균등분포** :\n",
    "#### $ X \\sim{} \\text{Uniform}(a,\\, b) $\n",
    "#### $ f_{X}(x) = \\begin{cases} \\frac{1}{b-a}, \\;\\; a\\leq{}x\\leq{}b \\\\ 0, \\;\\;\\;\\;\\;\\; \\text{otherwise.} \\end{cases} $\n",
    "#### $ M_{X}(s) = \\displaystyle\\int^{\\infty{}}_{-\\infty{}} e^{sx}f_{X}(x) \\text{dx} = \\displaystyle\\int^{b}_{a} e^{sx}\\frac{1}{b-a} \\text{dx} = \\begin{bmatrix} \\frac{e^{sx}}{s(b-a)} \\end{bmatrix}^{b}_{a} = \\frac{e^{sb}-e^{sa}}{s(b-a)} $\n",
    "#### **[GRPAH]**\n",
    "#### $ \\therefore{} \\, M_{X}(s) = \\begin{cases} \\frac{e^{sb}-e^{sa}}{s(b-a)}, \\;\\;\\;\\;\\;\\;\\;\\;\\;\\; s\\neq{}0 \\\\ E(e^{0x}) = 1, \\;\\; s = 0 \\end{cases} $"
   ]
  },
  {
   "cell_type": "markdown",
   "metadata": {},
   "source": [
    "#### **(PLUS) 기대값과 분산** :\n",
    "#### $ \\hspace{0.15cm} \\cdot{} \\, E(X) = M'_{X}(0) = \\displaystyle\\lim_{s\\rightarrow{}0} \\frac{e^{sb}(sb-1)-e^{sa}(sa-1)}{s^{2}(b-a)}, \\;\\; $ ($ \\because{} \\, \\frac{f'(x)}{g'(x)} = \\frac{f(x)'g(x)-f(x)g'(x)}{g(x)^{2}}$)\n",
    "#### $ \\hspace{1.275cm} = \\frac{a+b}{2} $\n",
    "#### $ \\hspace{0.15cm} $ ※ 단 원래는 미분 정의($ \\, \\displaystyle\\lim_{s\\rightarrow{}0} \\frac{M_X{0+s}-M_X{0}}{s} $)로 전개해야함\n",
    "#### $ \\hspace{0.15cm} \\cdot{} \\, M''_{X}(0) = $ **[LATEX]** $ \\, \\rightarrow{} \\, \\text{var}(X) = E(X^{2}) - E(X)^{2} = $ **[LATEX]**"
   ]
  },
  {
   "cell_type": "markdown",
   "metadata": {},
   "source": [
    "#### **(2) 지수 분포** :\n",
    "#### $ X \\sim{} \\text{Exponential}(\\lambda{}) $\n",
    "#### $ f(x) = \\begin{cases} \\lambda{}e^{-\\lambda{}x}, \\;\\; x \\geq{} 0 \\\\ 0, \\;\\;\\;\\;\\;\\;\\;\\;\\; \\text{otherwise.} \\end{cases} $\n",
    "#### $ M_{X}(s) = \\displaystyle\\int^{\\infty{}}_{-\\infty{}} e^{sx}f_{X}(x) \\text{dx} = \\displaystyle\\int^{\\infty{}}_{0} e^{sx} \\lambda{} e^{-\\lambda{}x} \\text{dx} = \\displaystyle\\int^{\\infty{}}_{0} \\lambda{} e^{-(\\lambda{}-s)x} \\text{dx} $\n",
    "#### $ \\hspace{1.115cm} = \\begin{bmatrix} - \\frac{\\lambda{}}{(\\lambda{}-s)} e^{-(\\lambda{}-s)x} \\end{bmatrix}^{\\infty{}}_{0}, \\;\\; $ for $ \\, s < \\lambda{} $\n",
    "#### $ \\hspace{1.115cm} = - \\frac{\\lambda{}}{(\\lambda{}-s)}(0 - 1) = \\frac{\\lambda{}}{\\lambda{}-s}, \\;\\; $ for $ \\, s < \\lambda{} $\n",
    "#### $ \\therefore{} \\, M_{X}(s) = \\begin{cases} \\frac{\\lambda{}}{\\lambda{}-s}, \\;\\;\\;\\;\\;\\;\\;\\;\\;\\;\\;\\;\\;\\;\\;  s < \\lambda{} \\\\ \\text{undefined}, \\;\\;\\;\\;\\; s \\geq{} \\lambda{} \\end{cases} $ \n",
    "#### **[GRPAH]**"
   ]
  },
  {
   "cell_type": "markdown",
   "metadata": {},
   "source": [
    "#### **(PLUS) 기대값과 분산** :\n",
    "#### $ \\hspace{0.15cm} \\cdot{} \\, E(X) = M'_{X}(0) = $ **[LATEX]**\n",
    "#### $ \\hspace{0.15cm} \\cdot{} \\, M''_{X}(0) = $ **[LATEX]** $ \\, \\rightarrow{} \\, \\text{var}(X) = E(X^{2}) - E(X)^{2} = $ **[LATEX]**"
   ]
  },
  {
   "cell_type": "markdown",
   "metadata": {},
   "source": [
    "#### **(3) 감마 분포** :\n",
    "#### **[LATEX]**\n",
    "#### **[GRPAH]**"
   ]
  },
  {
   "cell_type": "markdown",
   "metadata": {},
   "source": [
    "#### **(PLUS) 기대값과 분산** :\n",
    "#### $ \\hspace{0.15cm} \\cdot{} \\, E(X) = M'_{X}(0) = $ **[LATEX]**\n",
    "#### $ \\hspace{0.15cm} \\cdot{} \\, M''_{X}(0) = $ **[LATEX]** $ \\, \\rightarrow{} \\, \\text{var}(X) = E(X^{2}) - E(X)^{2} = $ **[LATEX]**"
   ]
  },
  {
   "cell_type": "markdown",
   "metadata": {},
   "source": [
    "#### **(4) 표준 정규분포** :\n",
    "#### $ Z \\sim{} N(0,\\, 1) $\n",
    "#### $ f(Z=z) = \\frac{1}{\\sqrt{2\\pi{}}}e^{-\\frac{z^{2}}{2}}, \\;\\; -\\infty{} \\leq{} z \\leq{} \\infty{} $\n",
    "#### $ M_{Z}(s) = \\displaystyle\\int^{\\infty{}}_{-\\infty{}} e^{sz}f_{Z}(x) \\text{dx} = \\displaystyle\\int^{\\infty{}}_{-\\infty{}} e^{sz}\\frac{1}{\\sqrt{2\\pi{}}}e^{-\\frac{z^{2}}{2}} \\text{dx} $\n",
    "#### $ \\hspace{1.115cm} = \\displaystyle\\int^{\\infty{}}_{-\\infty{}} \\frac{1}{2\\pi{}} e^{sz-\\frac{z^{2}}{2}} \\text{dx} = \\displaystyle\\int^{\\infty{}}_{-\\infty{}} \\frac{1}{2\\pi{}} e^{sz-\\frac{z^{2}}{2}-\\frac{1}{2}s^{2}+\\frac{1}{2}s^{2}} \\text{dx} $\n",
    "#### $ \\hspace{1.115cm} = \\displaystyle\\int^{\\infty{}}_{-\\infty{}} \\frac{1}{2\\pi{}} e^{-\\frac{(z-s)^{2}}{2}+\\frac{1}{2}s^{2}} \\text{dx} = e^{\\frac{1}{2}s^{2}} \\underbrace{\\displaystyle\\int^{\\infty{}}_{-\\infty{}} \\frac{1}{2\\pi{}} e^{-\\frac{(z-s)^{2}}{2}} \\text{dx}}_{\\text{㉠}} $\n",
    "#### $ \\hspace{1.115cm} = e^{\\frac{1}{2}s^{2}} \\cdot{} 1 \\;\\; $ ($ \\because{} \\, ㉠ \\, : \\, Z \\sim{} N(s,\\; 1) $ )\n",
    "#### $ \\therefore{} \\, M_{X}(s) = e^{\\frac{1}{2}s^{2}}, \\;\\; $ for all $ \\, s \\in{} \\mathbb{R} $\n",
    "#### **[GRPAH]**"
   ]
  },
  {
   "cell_type": "markdown",
   "metadata": {},
   "source": [
    "#### **(PLUS) 기대값과 분산** :\n",
    "#### $ \\hspace{0.15cm} \\cdot{} \\, E(X) = M'_{X}(0) = $ **[LATEX]**\n",
    "#### $ \\hspace{0.15cm} \\cdot{} \\, M''_{X}(0) = $ **[LATEX]** $ \\, \\rightarrow{} \\, \\text{var}(X) = E(X^{2}) - E(X)^{2} = $ **[LATEX]**"
   ]
  },
  {
   "cell_type": "markdown",
   "metadata": {},
   "source": [
    "#### **(5) 정규분포** :\n",
    "#### $ \\sigma{} Z + \\mu{} = X \\sim{} N(\\mu{},\\, \\sigma{}) $\n",
    "#### $ M_{X}(s) = E(e^{sX}) = E(e^{s(\\mu{}Z+\\sigma{})}) = E(e^{\\mu{}s}e^{\\sigma{}sZ}) = e^{\\mu{}s} E(e^{\\sigma{}sZ}) $ \n",
    "#### $ \\hspace{1.115cm} = e^{\\mu{}s} M_{Z}(\\sigma{}s) = e^{\\mu{}s} e^{\\sigma^{2}\\frac{1}{2}s^{2}} = e^{\\mu{}s+\\sigma{}^{2}\\frac{1}{2}s^{2}} $\n",
    "#### $ \\therefore{} \\, M_{X}(s) = e^{\\mu{}s+\\sigma{}^{2}\\frac{1}{2}s^{2}}, \\;\\; $ for all $ \\, s \\in{} \\mathbb{R} $"
   ]
  },
  {
   "cell_type": "markdown",
   "metadata": {},
   "source": [
    "#### **(PLUS) 기대값과 분산** :\n",
    "#### $ \\hspace{0.15cm} \\cdot{} \\, E(X) = M'_{X}(0) = $ **[LATEX]**\n",
    "#### $ \\hspace{0.15cm} \\cdot{} \\, M''_{X}(0) = $ **[LATEX]** $ \\, \\rightarrow{} \\, \\text{var}(X) = E(X^{2}) - E(X)^{2} = $ **[LATEX]**"
   ]
  },
  {
   "cell_type": "markdown",
   "metadata": {},
   "source": [
    "#### **(PLUS)** 정규분포의 생성 (Theorem 6-4)\n",
    "#### $ n $ 개의 확률변수 $ X_{1} \\sim{} \\text{N}(\\mu{}_{X_{1}}, \\sigma{}_{X_{1}}) $ , 확률변수 $ X_{2} \\sim{} \\text{N}(\\mu{}_{X_{2}}, \\sigma{}_{X_{2}}) $, $ \\cdots{} $ 가 **독립 관계**일 때 \n",
    "#### $ X_{1} + X_{2} + \\cdots{} \\sim{} \\text{N}(\\mu{}_{X}+\\mu{}_{X_{2}}+\\cdots{},\\; \\sigma{}_{X_{1}}+\\sigma{}_{X_{2}}+\\cdots{}) $\n",
    "#### $ \\Rightarrow{} \\displaystyle\\sum^{n}_{i=1} X_{i} \\sim{} \\text{N}(\\displaystyle\\sum^{n}_{i=1} \\mu{}_{X_{i}},\\, \\displaystyle\\sum^{n}_{i=1} \\sigma{}_{X_{i}}) $"
   ]
  },
  {
   "cell_type": "markdown",
   "metadata": {},
   "source": [
    "#### **(PLUS) 선형결합의 독립 관계일 경우** :\n",
    "#### $ X_{i} \\sim{} \\text{N}(\\mu{}_{X_{i}},\\; ) \\rightarrow{} X = c_{1} X_{1} + c_{2} X_{2} + \\cdots{} + c_{n} X_{n} $"
   ]
  }
 ],
 "metadata": {
  "kernelspec": {
   "display_name": "Python 3",
   "language": "python",
   "name": "python3"
  },
  "language_info": {
   "codemirror_mode": {
    "name": "ipython",
    "version": 3
   },
   "file_extension": ".py",
   "mimetype": "text/x-python",
   "name": "python",
   "nbconvert_exporter": "python",
   "pygments_lexer": "ipython3",
   "version": "3.8.12"
  },
  "orig_nbformat": 4
 },
 "nbformat": 4,
 "nbformat_minor": 2
}
