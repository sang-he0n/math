{
 "cells": [
  {
   "attachments": {},
   "cell_type": "markdown",
   "metadata": {},
   "source": [
    "# CH05.2. **MGF of Discrete Distributions**"
   ]
  },
  {
   "cell_type": "markdown",
   "metadata": {},
   "source": [
    "> ## **이산분포의 적률생성함수(MGF of Discrete Distribution)**"
   ]
  },
  {
   "cell_type": "markdown",
   "metadata": {},
   "source": [
    "#### **(1) 베르누이 분포** :\n",
    "#### $ X \\sim{} \\text{Bernoulli}(p) $\n",
    "#### $ P_{X}(x) = \\begin{cases} p, \\;\\;\\;\\;\\;\\;\\;\\; x=1 \\\\ 1-p , \\;\\; x=0 \\\\ 0 , \\;\\;\\;\\;\\;\\;\\;\\; \\text{otherwise.} \\end{cases} $\n",
    "#### $ \\Rightarrow{} \\, M_{X}(s) = \\displaystyle\\sum_{x_{i}\\in{}X(S)} e^{sx}P_{X}(x_{i}) = e^{s0}(1-p) + e^{s1}p = (1-p) + pe^{s}, \\;\\; $ all $ \\, s \\in{} \\mathbb{R} $\n",
    "#### **[GRPAH]**"
   ]
  },
  {
   "cell_type": "markdown",
   "metadata": {},
   "source": [
    "#### **(PLUS) 기대값과 분산** :\n",
    "#### $ \\hspace{0.15cm} \\cdot{} \\, E(X) = M'_{X}(0) = p \\cdot{} 1 = p $ \n",
    "#### $ \\hspace{0.15cm} \\cdot{} \\, M''_{X}(0) = p \\cdot{} 1 = p = E(X^{2}) \\, \\rightarrow{} \\, \\text{var}(X) = E(X^{2}) - E(X)^{2} = p - p^{2} = (1-p)p $ "
   ]
  },
  {
   "cell_type": "markdown",
   "metadata": {},
   "source": [
    "#### **(2) 이항 분포** :\n",
    "#### $ X \\sim{} \\text{Binomial}(n,\\, p) $\n",
    "#### $ \\Rightarrow{}  X_{i} \\sim{} \\text{Bernoulli}(p) \\;\\; $ ($ i = 1,\\; 2,\\; \\cdots{},\\; n $) $ \\; \\rightarrow{} $ **(independent)** $ \\, X_{1} + X_{2} + \\cdots{} + X_{n} = X \\sim{} \\text{Binomial}(n,\\; p) \\;\\; $ \n",
    "#### $ M_{X}(s) = ((1-p)+pe^{s})^{n} $\n",
    "#### **[GRPAH]**"
   ]
  },
  {
   "cell_type": "markdown",
   "metadata": {},
   "source": [
    "#### **(PLUS) 기대값과 분산** :\n",
    "#### $ \\hspace{0.15cm} \\cdot{} \\, E(X) = M'_{X}(0) = $ **[LATEX]**\n",
    "#### $ \\hspace{0.15cm} \\cdot{} \\, M''_{X}(0) = $ **[LATEX]** $ \\, \\rightarrow{} \\, \\text{var}(X) = E(X^{2}) - E(X)^{2} = $ **[LATEX]**"
   ]
  },
  {
   "cell_type": "markdown",
   "metadata": {},
   "source": [
    "#### **(3) 기하 분포** :\n",
    "#### **[LATEX]**\n",
    "#### **[GRPAH]**"
   ]
  },
  {
   "cell_type": "markdown",
   "metadata": {},
   "source": [
    "#### **(PLUS) 기대값과 분산** :\n",
    "#### $ \\hspace{0.15cm} \\cdot{} \\, E(X) = M'_{X}(0) = $ **[LATEX]**\n",
    "#### $ \\hspace{0.15cm} \\cdot{} \\, M''_{X}(0) = $ **[LATEX]** $ \\, \\rightarrow{} \\, \\text{var}(X) = E(X^{2}) - E(X)^{2} = $ **[LATEX]**"
   ]
  },
  {
   "cell_type": "markdown",
   "metadata": {},
   "source": [
    "#### **(4) 파스칼 분포** :\n",
    "#### **[LATEX]**\n",
    "#### **[GRPAH]**"
   ]
  },
  {
   "cell_type": "markdown",
   "metadata": {},
   "source": [
    "#### **(PLUS) 기대값과 분산** :\n",
    "#### $ \\hspace{0.15cm} \\cdot{} \\, E(X) = M'_{X}(0) = $ **[LATEX]**\n",
    "#### $ \\hspace{0.15cm} \\cdot{} \\, M''_{X}(0) = $ **[LATEX]** $ \\, \\rightarrow{} \\, \\text{var}(X) = E(X^{2}) - E(X)^{2} = $ **[LATEX]**"
   ]
  },
  {
   "cell_type": "markdown",
   "metadata": {},
   "source": [
    "#### **(5) 초기하 분포** :\n",
    "#### **[LATEX]**\n",
    "#### **[GRPAH]**"
   ]
  },
  {
   "cell_type": "markdown",
   "metadata": {},
   "source": [
    "#### **(PLUS) 기대값과 분산** :\n",
    "#### $ \\hspace{0.15cm} \\cdot{} \\, E(X) = M'_{X}(0) = $ **[LATEX]**\n",
    "#### $ \\hspace{0.15cm} \\cdot{} \\, M''_{X}(0) = $ **[LATEX]** $ \\, \\rightarrow{} \\, \\text{var}(X) = E(X^{2}) - E(X)^{2} = $ **[LATEX]**"
   ]
  },
  {
   "cell_type": "markdown",
   "metadata": {},
   "source": [
    "#### **(6) 포아송 분포** :\n",
    "#### $ X \\sim{} \\text{Poisson}(\\lambda{}) $\n",
    "#### $ \\Rightarrow{} P(X=x) = \\begin{cases} {{e^{-\\lambda{}}\\lambda{}^{x}}\\over{x!}}, \\;\\; x \\in{} \\{ 0,\\; 1,\\; \\cdots{} \\} \\\\ 0, \\;\\;\\;\\;\\;\\;\\;\\; \\text{otherwise.} \\end{cases} $\n",
    "#### $ M_{X}(s) = $ **[LATEX]**\n",
    "#### **[GRPAH]**\n",
    "#### $ \\therefore{} \\, M_{X}(s) = e^{\\lambda{}(e^{s}-1)}, \\;\\; $ for all $ \\, s \\in{} \\mathbb{R} $"
   ]
  },
  {
   "cell_type": "markdown",
   "metadata": {},
   "source": [
    "<b></b>"
   ]
  },
  {
   "cell_type": "markdown",
   "metadata": {},
   "source": [
    "> ## **연속분포의 적률생성함수(MGF of Continuous Distribution)**"
   ]
  },
  {
   "cell_type": "markdown",
   "metadata": {},
   "source": [
    "#### **(1) 연속균등분포** :\n",
    "#### $ X \\sim{} \\text{Uniform}(a,\\, b) $\n",
    "#### $ f_{X}(x) = \\begin{cases} \\frac{1}{b-a}, \\;\\; a\\leq{}x\\leq{}b \\\\ 0, \\;\\;\\;\\;\\;\\; \\text{otherwise.} \\end{cases} $\n",
    "#### $ M_{X}(s) = \\displaystyle\\int^{\\infty{}}_{-\\infty{}} e^{sx}f_{X}(x) \\text{dx} = \\displaystyle\\int^{b}_{a} e^{sx}\\frac{1}{b-a} \\text{dx} = \\begin{bmatrix} \\frac{e^{sx}}{s(b-a)} \\end{bmatrix}^{b}_{a} = \\frac{e^{sb}-e^{sa}}{s(b-a)} $\n",
    "#### **[GRPAH]**\n",
    "#### $ \\therefore{} \\, M_{X}(s) = \\begin{cases} \\frac{e^{sb}-e^{sa}}{s(b-a)}, \\;\\;\\;\\;\\;\\;\\;\\;\\;\\; s\\neq{}0 \\\\ E(e^{0x}) = 1, \\;\\; s = 0 \\end{cases} $"
   ]
  },
  {
   "cell_type": "markdown",
   "metadata": {},
   "source": [
    "#### **(PLUS) 기대값과 분산** :\n",
    "#### $ \\hspace{0.15cm} \\cdot{} \\, E(X) = M'_{X}(0) = \\displaystyle\\lim_{s\\rightarrow{}0} \\frac{e^{sb}(sb-1)-e^{sa}(sa-1)}{s^{2}(b-a)}, \\;\\; $ ($ \\because{} \\, \\frac{f'(x)}{g'(x)} = \\frac{f(x)'g(x)-f(x)g'(x)}{g(x)^{2}}$)\n",
    "#### $ \\hspace{1.275cm} = \\frac{a+b}{2} $\n",
    "#### $ \\hspace{0.15cm} $ ※ 단 원래는 미분 정의($ \\, \\displaystyle\\lim_{s\\rightarrow{}0} \\frac{M_X{0+s}-M_X{0}}{s} $)로 전개해야함\n",
    "#### $ \\hspace{0.15cm} \\cdot{} \\, M''_{X}(0) = $ **[LATEX]** $ \\, \\rightarrow{} \\, \\text{var}(X) = E(X^{2}) - E(X)^{2} = $ **[LATEX]**"
   ]
  },
  {
   "cell_type": "markdown",
   "metadata": {},
   "source": [
    "#### **(2) 지수 분포** :\n",
    "#### $ X \\sim{} \\text{Exponential}(\\lambda{}) $\n",
    "#### $ f(x) = \\begin{cases} \\lambda{}e^{-\\lambda{}x}, \\;\\; x \\geq{} 0 \\\\ 0, \\;\\;\\;\\;\\;\\;\\;\\;\\; \\text{otherwise.} \\end{cases} $\n",
    "#### $ M_{X}(s) = \\displaystyle\\int^{\\infty{}}_{-\\infty{}} e^{sx}f_{X}(x) \\text{dx} = \\displaystyle\\int^{\\infty{}}_{0} e^{sx} \\lambda{} e^{-\\lambda{}x} \\text{dx} = \\displaystyle\\int^{\\infty{}}_{0} \\lambda{} e^{-(\\lambda{}-s)x} \\text{dx} $\n",
    "#### $ \\hspace{1.115cm} = \\begin{bmatrix} - \\frac{\\lambda{}}{(\\lambda{}-s)} e^{-(\\lambda{}-s)x} \\end{bmatrix}^{\\infty{}}_{0}, \\;\\; $ for $ \\, s < \\lambda{} $\n",
    "#### $ \\hspace{1.115cm} = - \\frac{\\lambda{}}{(\\lambda{}-s)}(0 - 1) = \\frac{\\lambda{}}{\\lambda{}-s}, \\;\\; $ for $ \\, s < \\lambda{} $\n",
    "#### $ \\therefore{} \\, M_{X}(s) = \\begin{cases} \\frac{\\lambda{}}{\\lambda{}-s}, \\;\\;\\;\\;\\;\\;\\;\\;\\;\\;\\;\\;\\;\\;\\;  s < \\lambda{} \\\\ \\text{undefined}, \\;\\;\\;\\;\\; s \\geq{} \\lambda{} \\end{cases} $ \n",
    "#### **[GRPAH]**"
   ]
  },
  {
   "cell_type": "markdown",
   "metadata": {},
   "source": [
    "#### **(PLUS) 기대값과 분산** :\n",
    "#### $ \\hspace{0.15cm} \\cdot{} \\, E(X) = M'_{X}(0) = $ **[LATEX]**\n",
    "#### $ \\hspace{0.15cm} \\cdot{} \\, M''_{X}(0) = $ **[LATEX]** $ \\, \\rightarrow{} \\, \\text{var}(X) = E(X^{2}) - E(X)^{2} = $ **[LATEX]**"
   ]
  },
  {
   "cell_type": "markdown",
   "metadata": {},
   "source": [
    "#### **(3) 감마 분포** :\n",
    "#### **[LATEX]**\n",
    "#### **[GRPAH]**"
   ]
  },
  {
   "cell_type": "markdown",
   "metadata": {},
   "source": [
    "#### **(PLUS) 기대값과 분산** :\n",
    "#### $ \\hspace{0.15cm} \\cdot{} \\, E(X) = M'_{X}(0) = $ **[LATEX]**\n",
    "#### $ \\hspace{0.15cm} \\cdot{} \\, M''_{X}(0) = $ **[LATEX]** $ \\, \\rightarrow{} \\, \\text{var}(X) = E(X^{2}) - E(X)^{2} = $ **[LATEX]**"
   ]
  },
  {
   "cell_type": "markdown",
   "metadata": {},
   "source": [
    "#### **(4) 표준 정규분포** :\n",
    "#### $ Z \\sim{} N(0,\\, 1) $\n",
    "#### $ f(Z=z) = \\frac{1}{\\sqrt{2\\pi{}}}e^{-\\frac{z^{2}}{2}}, \\;\\; -\\infty{} \\leq{} z \\leq{} \\infty{} $\n",
    "#### $ M_{Z}(s) = \\displaystyle\\int^{\\infty{}}_{-\\infty{}} e^{sz}f_{Z}(x) \\text{dx} = \\displaystyle\\int^{\\infty{}}_{-\\infty{}} e^{sz}\\frac{1}{\\sqrt{2\\pi{}}}e^{-\\frac{z^{2}}{2}} \\text{dx} $\n",
    "#### $ \\hspace{1.115cm} = \\displaystyle\\int^{\\infty{}}_{-\\infty{}} \\frac{1}{2\\pi{}} e^{sz-\\frac{z^{2}}{2}} \\text{dx} = \\displaystyle\\int^{\\infty{}}_{-\\infty{}} \\frac{1}{2\\pi{}} e^{sz-\\frac{z^{2}}{2}-\\frac{1}{2}s^{2}+\\frac{1}{2}s^{2}} \\text{dx} $\n",
    "#### $ \\hspace{1.115cm} = \\displaystyle\\int^{\\infty{}}_{-\\infty{}} \\frac{1}{2\\pi{}} e^{-\\frac{(z-s)^{2}}{2}+\\frac{1}{2}s^{2}} \\text{dx} = e^{\\frac{1}{2}s^{2}} \\underbrace{\\displaystyle\\int^{\\infty{}}_{-\\infty{}} \\frac{1}{2\\pi{}} e^{-\\frac{(z-s)^{2}}{2}} \\text{dx}}_{\\text{㉠}} $\n",
    "#### $ \\hspace{1.115cm} = e^{\\frac{1}{2}s^{2}} \\cdot{} 1 \\;\\; $ ($ \\because{} \\, ㉠ \\, : \\, Z \\sim{} N(s,\\; 1) $ )\n",
    "#### $ \\therefore{} \\, M_{X}(s) = e^{\\frac{1}{2}s^{2}}, \\;\\; $ for all $ \\, s \\in{} \\mathbb{R} $\n",
    "#### **[GRPAH]**"
   ]
  },
  {
   "cell_type": "markdown",
   "metadata": {},
   "source": [
    "#### **(PLUS) 기대값과 분산** :\n",
    "#### $ \\hspace{0.15cm} \\cdot{} \\, E(X) = M'_{X}(0) = $ **[LATEX]**\n",
    "#### $ \\hspace{0.15cm} \\cdot{} \\, M''_{X}(0) = $ **[LATEX]** $ \\, \\rightarrow{} \\, \\text{var}(X) = E(X^{2}) - E(X)^{2} = $ **[LATEX]**"
   ]
  },
  {
   "cell_type": "markdown",
   "metadata": {},
   "source": [
    "#### **(5) 정규분포** :\n",
    "#### $ \\sigma{} Z + \\mu{} = X \\sim{} N(\\mu{},\\, \\sigma{}) $\n",
    "#### $ M_{X}(s) = E(e^{sX}) = E(e^{s(\\mu{}Z+\\sigma{})}) = E(e^{\\mu{}s}e^{\\sigma{}sZ}) = e^{\\mu{}s} E(e^{\\sigma{}sZ}) $ \n",
    "#### $ \\hspace{1.115cm} = e^{\\mu{}s} M_{Z}(\\sigma{}s) = e^{\\mu{}s} e^{\\sigma^{2}\\frac{1}{2}s^{2}} = e^{\\mu{}s+\\sigma{}^{2}\\frac{1}{2}s^{2}} $\n",
    "#### $ \\therefore{} \\, M_{X}(s) = e^{\\mu{}s+\\sigma{}^{2}\\frac{1}{2}s^{2}}, \\;\\; $ for all $ \\, s \\in{} \\mathbb{R} $"
   ]
  },
  {
   "cell_type": "markdown",
   "metadata": {},
   "source": [
    "#### **(PLUS) 기대값과 분산** :\n",
    "#### $ \\hspace{0.15cm} \\cdot{} \\, E(X) = M'_{X}(0) = $ **[LATEX]**\n",
    "#### $ \\hspace{0.15cm} \\cdot{} \\, M''_{X}(0) = $ **[LATEX]** $ \\, \\rightarrow{} \\, \\text{var}(X) = E(X^{2}) - E(X)^{2} = $ **[LATEX]**"
   ]
  },
  {
   "cell_type": "markdown",
   "metadata": {},
   "source": [
    "#### **(PLUS)** 정규분포의 생성 (Theorem 6-4)\n",
    "#### $ n $ 개의 확률변수 $ X_{1} \\sim{} \\text{N}(\\mu{}_{X_{1}}, \\sigma{}_{X_{1}}) $ , 확률변수 $ X_{2} \\sim{} \\text{N}(\\mu{}_{X_{2}}, \\sigma{}_{X_{2}}) $, $ \\cdots{} $ 가 **독립 관계**일 때 \n",
    "#### $ X_{1} + X_{2} + \\cdots{} \\sim{} \\text{N}(\\mu{}_{X}+\\mu{}_{X_{2}}+\\cdots{},\\; \\sigma{}_{X_{1}}+\\sigma{}_{X_{2}}+\\cdots{}) $\n",
    "#### $ \\Rightarrow{} \\displaystyle\\sum^{n}_{i=1} X_{i} \\sim{} \\text{N}(\\displaystyle\\sum^{n}_{i=1} \\mu{}_{X_{i}},\\, \\displaystyle\\sum^{n}_{i=1} \\sigma{}_{X_{i}}) $"
   ]
  },
  {
   "cell_type": "markdown",
   "metadata": {},
   "source": [
    "#### **(PLUS) 선형결합의 독립 관계일 경우** :\n",
    "#### $ X_{i} \\sim{} \\text{N}(\\mu{}_{X_{i}},\\; ) \\rightarrow{} X = c_{1} X_{1} + c_{2} X_{2} + \\cdots{} + c_{n} X_{n} $"
   ]
  },
  {
   "cell_type": "markdown",
   "metadata": {},
   "source": [
    "<b></b>"
   ]
  },
  {
   "cell_type": "markdown",
   "metadata": {},
   "source": [
    "> ## **특성함수(Characteristic Function;CF)**"
   ]
  },
  {
   "cell_type": "markdown",
   "metadata": {},
   "source": [
    "#### **(1) 정의** : 적률생성함수가 수렴하지않을 때 분포의 특성을 **정의할 수 있는** 함수\n",
    "#### = a  function defining distribution traits when the MGF diverges\n",
    "#### $ \\Rightarrow{} \\Omega{}_{X}(w) = E(e^{iwX}) \\;\\; $ where $ \\, i = \\sqrt{-1} $"
   ]
  },
  {
   "cell_type": "markdown",
   "metadata": {},
   "source": [
    "#### **(2) 적률생성함수와의 관계** :\n",
    "#### $ M_{X}(0) = \\Omega{}_{X}(0) = 1 $\n",
    "#### $ M'_{X}(0) = E(X), \\;\\; \\Omega{}'_{X}(0) = iE(X) $\n",
    "#### $ M''_{X}(0) = E(X^{2}), \\;\\; \\Omega{}''_{X}(0) = iE(X^{2}) $\n",
    "#### $ \\cdots{} $\n",
    "#### $ M^{(k)}_{X}(0) = E(X^{k}), \\;\\; \\Omega^{(k)}_{X}(0) = i^{k}E(X^{k}) $"
   ]
  },
  {
   "cell_type": "markdown",
   "metadata": {},
   "source": [
    "<b></b>"
   ]
  },
  {
   "cell_type": "markdown",
   "metadata": {},
   "source": [
    "> ## (Theorem 6-5) **특성함수의 유일성(Uniqueness of CF)**"
   ]
  },
  {
   "cell_type": "markdown",
   "metadata": {},
   "source": [
    "#### 두 확률변수의 특성함수가 같을 경우, 두 확률변수는 같은 분포를 갖는다. 명제의 역도 성립한다.\n",
    "#### $ \\Omega_{X}(w) = \\Omega_{Y}(w) \\, \\iff{} \\, X \\stackrel{\\text{distribution}}{=} Y $"
   ]
  },
  {
   "cell_type": "markdown",
   "metadata": {},
   "source": [
    "<b></b>"
   ]
  },
  {
   "cell_type": "markdown",
   "metadata": {},
   "source": [
    "> ## **확률생성함수(Probability Generating Functions;PGF)**"
   ]
  },
  {
   "cell_type": "markdown",
   "metadata": {},
   "source": [
    "#### **(1) 정의** : 비음수 정수의 범위(range)를 갖는 이산확률변수의 확률을 생성하는 함수\n",
    "#### = a function generating probabilities for non-negative integer-valued discrete random variables\n",
    "#### = 비음수 정수의 범위를 갖는 이산확률변수의 분포를 특징짓는 함수\n",
    "#### $ \\Rightarrow{} G_{X}(s) = E(s^{X}), \\;\\; $ for all $ \\, s \\in{} \\mathbb{R} \\, $ and $ \\, R_{X} = \\{ 0,\\; 1,\\; 2,\\; \\cdots{} \\} $"
   ]
  },
  {
   "cell_type": "markdown",
   "metadata": {},
   "source": [
    "#### **(`WHY?`)**\n",
    "#### $ G_{X}(s) = \\displaystyle\\sum_{x_{i}\\in{}R_{X}} s^{x_{i}}P_{X}(x_{i}) = s^{0}P_{X}(0) + s^{1}P_{X}(1) + s^{3}P_{X}(3) + \\cdots{} $\n",
    "#### $ \\hspace{1.115cm} = P_{X}(0) + sP_{X}(1) + s^{2}P_{X}(2) + s^{3}P_{X}(3) + \\cdots{} $\n",
    "#### $ G_{X}(0) = P_{X}(0) $ \n",
    "#### $ \\frac{\\text{d}}{\\text{ds}} G_{X}(s) = G'_{X}(s) = P_{X}(1) + 2sP_{X}(2) + 3s^{2}P_{X}(3) + \\cdots{} = \\displaystyle\\sum^{\\infty{}}_{n=0} n s^{n-1} P_{X}(n) $\n",
    "#### $ G'_{X}(0) = P_{X}(1) $\n",
    "#### $ G''_{X}(s) = 2P_{X}(2) + 3\\cdot{}2\\cdot{}s P_{X}(3) + \\cdots{} $\n",
    "#### $ G''_{X}(0) = 2P_{X}(2) $\n",
    "#### $ \\cdots{} $\n",
    "#### $ G^{(k)}_{X}(s) = \\displaystyle\\sum^{\\infty{}}_{n=k} \\frac{n!}{(n-k)!} s^{n-k} P_{X}(n) $\n",
    "#### $ G^{(k)}_{X}(0) = k!P_{X}(k) $\n",
    "#### $ G^{(k)}_{X}(1) = \\displaystyle\\sum^{\\infty{}}_{n=k} \\frac{n!}{(n-k)!} P_{X}(n) = \\displaystyle\\sum^{\\infty{}}_{\\mathbf{n=0}} \\frac{n!}{(n-k)!} P_{X}(n) $\n",
    "#### $ \\hspace{1.175cm} = \\displaystyle\\sum^{\\infty{}}_{n=0} n(n-1)\\cdots{}(n-k+1) P_{X}(n) $\n",
    "#### $ \\hspace{1.175cm} = \\displaystyle\\sum^{\\infty{}}_{x=0} x(x-1)\\cdots{}(x-k+1) P_{X}(x), \\;\\; $ where $ \\, n = x $\n",
    "#### $ \\hspace{1.175cm} = E(X(X-1)(X-2)\\cdots{}(X-K+1)) $"
   ]
  },
  {
   "cell_type": "markdown",
   "metadata": {},
   "source": [
    "#### **(PLUS) 독립 관계일 때** : \n",
    "#### 확률변수 $ \\, X_{1},\\, X_{2},\\; \\cdots{},\\, X_{n} $ 이 독립관계라면 $ \\, Y = X_{1} + X_{2} + \\cdots{} + X_{n} $ 일 때\n",
    "#### $ G_{Y}(s) = G_{X_{1}}(s)G_{X_{2}}(s)\\cdots{}G_{X_{n}}(s) $"
   ]
  }
 ],
 "metadata": {
  "kernelspec": {
   "display_name": "Python 3",
   "language": "python",
   "name": "python3"
  },
  "language_info": {
   "codemirror_mode": {
    "name": "ipython",
    "version": 3
   },
   "file_extension": ".py",
   "mimetype": "text/x-python",
   "name": "python",
   "nbconvert_exporter": "python",
   "pygments_lexer": "ipython3",
   "version": "3.8.12"
  },
  "orig_nbformat": 4
 },
 "nbformat": 4,
 "nbformat_minor": 2
}
